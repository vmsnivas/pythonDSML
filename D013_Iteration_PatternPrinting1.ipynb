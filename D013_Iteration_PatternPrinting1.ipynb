{
 "cells": [
  {
   "cell_type": "markdown",
   "id": "2b8ff006-f0a7-481f-8c57-ca267f957153",
   "metadata": {},
   "source": [
    "# Two Line Star Pattern\n",
    "For example if N = 5 then pattern will be like:\n",
    "```\n",
    "*___*\n",
    "*___*\n",
    "*___*\n",
    "*___*\n",
    "*___*\n",
    "```\n",
    "**Note** : Here '_' represents space for explanation purpose only. You have to print space in your code."
   ]
  },
  {
   "cell_type": "code",
   "execution_count": null,
   "id": "697b46c2-5cc3-457c-88d6-1bd4993628cb",
   "metadata": {},
   "outputs": [],
   "source": [
    "def main():\n",
    "    N = int(input())\n",
    "    \n",
    "    for i in range(1,N+1):\n",
    "        if N > 2:\n",
    "            print('*' + ' ' * N + '*')\n",
    "        else:\n",
    "            print('**')\n",
    "\n",
    "if __name__ == '__main__':\n",
    "    main()"
   ]
  },
  {
   "cell_type": "code",
   "execution_count": null,
   "id": "e1307c88-b23a-4a9a-a50b-799d0c4c65fc",
   "metadata": {},
   "outputs": [],
   "source": [
    "def main():\n",
    "    N = int(input())\n",
    "    \n",
    "    for i in range(1,N+1):\n",
    "        for j in range(1,N+1):\n",
    "            if j == 1 or j == N:\n",
    "                print('*', end=\"\")\n",
    "            else:\n",
    "                print(' ', end=\"\")\n",
    "        print()\n",
    "\n",
    "if __name__ == '__main__':\n",
    "    main()"
   ]
  },
  {
   "cell_type": "markdown",
   "id": "3471852f-27e7-4149-9546-2f27e348aecb",
   "metadata": {},
   "source": [
    "# Leading spaces inverted pyramid\n",
    "For example if N = 5 then pattern will be like:\n",
    "```\n",
    "*****\n",
    "_****\n",
    "__***\n",
    "___**\n",
    "____*\n",
    "```\n",
    "**Note** : Here '_' represents space for explanation purpose only. You have to print space in your code."
   ]
  },
  {
   "cell_type": "code",
   "execution_count": null,
   "id": "6cef3151-088c-4d25-bf05-03d11c8af815",
   "metadata": {},
   "outputs": [],
   "source": [
    "def main():\n",
    "    N = int(input())\n",
    "    \n",
    "    for i in range(0,N):\n",
    "        print(i * ' ' + (N - i) * '*')\n",
    "\n",
    "if __name__ == '__main__':\n",
    "    main()"
   ]
  },
  {
   "cell_type": "markdown",
   "id": "2cfae5dc-25d3-4741-9b34-4a2a1191fd12",
   "metadata": {},
   "source": [
    "# Full pyramid\n",
    "For example if N = 5 then pattern will be like:\n",
    "```\n",
    "    * \n",
    "   * * \n",
    "  * * * \n",
    " * * * * \n",
    "* * * * * \n",
    "```\n",
    "**NOTE**: There should be exactly one extra space after each * for each row."
   ]
  },
  {
   "cell_type": "code",
   "execution_count": null,
   "id": "1fc93bda-f4bc-4b2e-9e81-63443a512a9e",
   "metadata": {},
   "outputs": [],
   "source": [
    "N = int(input())\n",
    "\n",
    "k = 0\n",
    "\n",
    "for i in range(1, N+1):\n",
    "    for space in range(1, (N-i)+1):\n",
    "        print(end=\"  \")\n",
    "   \n",
    "    while k!=(2*i-1):\n",
    "        print(\"* \", end=\"\")\n",
    "        k += 1\n",
    "   \n",
    "    k = 0\n",
    "    print()"
   ]
  },
  {
   "cell_type": "code",
   "execution_count": null,
   "id": "a70638dd-e877-4ccb-a8f1-eb7786770740",
   "metadata": {},
   "outputs": [],
   "source": [
    "def main():\n",
    "    N = int(input())\n",
    "    k = N - 1\n",
    "    \n",
    "    for i in range(1, N+1):\n",
    "        for j in range(0, k):\n",
    "            print(end=' ')\n",
    "        \n",
    "        k -= 1\n",
    "        \n",
    "        for j in range(0,i):\n",
    "            print('* ', end=\"\")\n",
    "            \n",
    "        print()\n",
    "\n",
    "if __name__ == '__main__':\n",
    "    main()"
   ]
  },
  {
   "cell_type": "markdown",
   "id": "ac79377f-0911-4223-926f-aa1ba12c5c73",
   "metadata": {},
   "source": [
    "# Leading spaces pyramid\n",
    "For example if N = 5 then pattern will be like:\n",
    "```\n",
    "____*\n",
    "___**\n",
    "__***\n",
    "_****\n",
    "*****\n",
    "```\n",
    "**Note** : Here '_' represents space for explanation purpose only. You have to print space in your code."
   ]
  },
  {
   "cell_type": "code",
   "execution_count": null,
   "id": "809ff016-c34a-46f7-acad-2b11c6301aed",
   "metadata": {},
   "outputs": [],
   "source": [
    "def main():\n",
    "    N = int(input())\n",
    "    \n",
    "    for i in range(1, N + 1):\n",
    "        print(' ' * (N - i) + '*' * i)\n",
    "\n",
    "if __name__ == '__main__':\n",
    "    main()"
   ]
  },
  {
   "cell_type": "markdown",
   "id": "e66509f0-f74c-419e-b6c2-e7146228886c",
   "metadata": {},
   "source": [
    "# Skip Even Numbers Half Pyramid\n",
    "For example if N = 5 then pattern will be like:\n",
    "```\n",
    "1\n",
    "1_\n",
    "1_3\n",
    "1_3_\n",
    "1_3_5\n",
    "```\n",
    "**Note** : Here '_' represents space for explanation purpose only. You have to print space in your code."
   ]
  },
  {
   "cell_type": "code",
   "execution_count": null,
   "id": "b8fb0230-f1b4-4d71-ac1f-5e7b149e6dff",
   "metadata": {},
   "outputs": [],
   "source": [
    "def main():\n",
    "    N = int(input())\n",
    "    \n",
    "    for i in range(1, N + 1):\n",
    "        for j in range(1, i+1):\n",
    "            if j % 2 == 0:\n",
    "                print(' ', end=\"\")\n",
    "            else:\n",
    "                print(j, end=\"\")\n",
    "        print()\n",
    "\n",
    "if __name__ == '__main__':\n",
    "    main()"
   ]
  },
  {
   "cell_type": "markdown",
   "id": "e5746670-f935-4d5b-891d-386dd2720e45",
   "metadata": {},
   "source": [
    "# Print a matrix of stars\n",
    "For example if N = 3, M = 4 then pattern will be like:\n",
    "```\n",
    "****\n",
    "****\n",
    "****\n",
    "```"
   ]
  },
  {
   "cell_type": "code",
   "execution_count": null,
   "id": "31c92bad-d023-45a5-b6ff-c0a231767440",
   "metadata": {},
   "outputs": [],
   "source": [
    "def main():\n",
    "    N = int(input())\n",
    "    M = int(input())\n",
    "    \n",
    "    for i in range(1, N + 1):\n",
    "        print(M * '*')\n",
    "\n",
    "if __name__ == '__main__':\n",
    "    main()"
   ]
  },
  {
   "cell_type": "markdown",
   "id": "cd22e86a-5da4-469e-a071-f6450797887d",
   "metadata": {},
   "source": [
    "# Inverse Half Pyramid Pattern\n",
    "For example\n",
    "\n",
    "Input:-\n",
    "5\n",
    "\n",
    "Output:-\n",
    "```\n",
    "*****\n",
    "****\n",
    "***\n",
    "**\n",
    "*\n",
    "```"
   ]
  },
  {
   "cell_type": "code",
   "execution_count": null,
   "id": "414a4fcd-bf46-4753-86e8-a22fc91eb262",
   "metadata": {},
   "outputs": [],
   "source": [
    "def main():\n",
    "    N = int(input())\n",
    "    \n",
    "    for i in range(N,0,-1):\n",
    "        print('*' * i)\n",
    "\n",
    "if __name__ == '__main__':\n",
    "    main()"
   ]
  },
  {
   "cell_type": "markdown",
   "id": "763e9a0a-d656-4544-97e7-a9dabf843975",
   "metadata": {},
   "source": [
    "# Hollow pyramid pattern\n",
    "For example if N = 5 then pattern will be like:\n",
    "\n",
    "```\n",
    "********** // 0 spaces\n",
    "****__**** // 2 spaces\n",
    "***____*** // 4 spaces\n",
    "**______** // 6 spaces\n",
    "*________* // 8 spaces\n",
    "```\n",
    "**NOTE**: Here '_' is used to represent spaces. You have to print spaces in your code."
   ]
  },
  {
   "cell_type": "code",
   "execution_count": null,
   "id": "004676a1-00fe-4272-93d8-48f371961540",
   "metadata": {},
   "outputs": [],
   "source": [
    "def main():\n",
    "    N = int(input())\n",
    "    \n",
    "    # for i in range(N):\n",
    "    #     print('*' * (N - i) + ' ' * (i * 2) + '*' * (N - i))\n",
    "    \n",
    "    for i in range(N):\n",
    "        print('*' * (N - i), end='')\n",
    "        print(' ' * (i * 2), end='')\n",
    "        print('*' * (N - i))\n",
    "\n",
    "if __name__ == '__main__':\n",
    "    main()"
   ]
  },
  {
   "cell_type": "markdown",
   "id": "ca05ccfd-31e9-437c-9140-b1ab19bd13ad",
   "metadata": {},
   "source": [
    "# Hollow inverted pyramid pattern\n",
    "For example if N = 5 then pattern will be like:\n",
    "```\n",
    "*________* // 8 spaces\n",
    "**______** // 6 spaces\n",
    "***____*** // 4 spaces\n",
    "****__**** // 2 spaces\n",
    "********** // 0 spaces\n",
    "```\n",
    "**NOTE**: Here '_' is used to represent spaces. You have to print spaces in your code."
   ]
  },
  {
   "cell_type": "code",
   "execution_count": null,
   "id": "4d251783-b428-43d2-89eb-2c7d29455bc1",
   "metadata": {},
   "outputs": [],
   "source": [
    "def main():\n",
    "    N = int(input())\n",
    "    \n",
    "    # for i in range(N - 1, -1, -1):\n",
    "    #     print('*' * (N - i) + ' ' * (i * 2) + '*' * (N - i))\n",
    "    \n",
    "    for i in range(N - 1, -1, -1):\n",
    "        print('*' * (N - i), end='')\n",
    "        print(' ' * (i * 2), end='')\n",
    "        print('*' * (N - i))\n",
    "\n",
    "if __name__ == '__main__':\n",
    "    main()"
   ]
  },
  {
   "cell_type": "markdown",
   "id": "c5faf5d6-4abd-4e83-b2d9-fcd0536a2175",
   "metadata": {},
   "source": [
    "# Half Diamond\n",
    "For example if N = 5 then pattern will be like:\n",
    "```\n",
    "* \n",
    "**\n",
    "***\n",
    "****\n",
    "*****\n",
    "****\n",
    "***\n",
    "**\n",
    "*\n",
    "```\n",
    "**NOTE**: There should be no spaces after any * ."
   ]
  },
  {
   "cell_type": "code",
   "execution_count": null,
   "id": "29b0ede8-c756-4b13-871c-317fcd9dc8a9",
   "metadata": {},
   "outputs": [],
   "source": [
    "def main():\n",
    "    N = int(input())\n",
    "    M = N - 1\n",
    "    \n",
    "    for i in range(1, N + 1):\n",
    "        print('*' * i)\n",
    "        \n",
    "    for j in range(N -1, 0, -1):\n",
    "        print('*' * j)\n",
    "\n",
    "if __name__ == '__main__':\n",
    "    main()"
   ]
  },
  {
   "cell_type": "markdown",
   "id": "830d320c-2a18-4649-a6e2-643474e9c258",
   "metadata": {},
   "source": [
    "# Photo Frame Pattern\n",
    "For example if N = 5 then pattern will be like:\n",
    "```\n",
    "*****\n",
    "*___*\n",
    "*___*\n",
    "*___*\n",
    "*****\n",
    "```\n",
    "**Note** : Here '_' represents space for explanation purpose only. You have to print space in your code."
   ]
  },
  {
   "cell_type": "code",
   "execution_count": null,
   "id": "4f188b83-99df-4cbb-8a87-207059957d01",
   "metadata": {},
   "outputs": [],
   "source": [
    "def main():\n",
    "    N = int(input())\n",
    "    \n",
    "    for i in range(N):\n",
    "        if (i == 0) or (i == N - 1):\n",
    "            print('*' * N)\n",
    "        else:\n",
    "            print('*' + ' ' * (N - 2) + '*')\n",
    "\n",
    "if __name__ == '__main__':\n",
    "    main()"
   ]
  },
  {
   "cell_type": "markdown",
   "id": "a61394cf-4a8b-4da1-80bb-a43fc7dbb055",
   "metadata": {},
   "source": [
    "# Hollow Inverted Half Pyramid\n",
    "For example if N = 6 then pattern will be like:\n",
    "```\n",
    "******\n",
    "*   *\n",
    "*  *\n",
    "* *\n",
    "**\n",
    "*\n",
    "```"
   ]
  },
  {
   "cell_type": "code",
   "execution_count": null,
   "id": "8aafaaf7-4f11-46c5-8710-95257cd6a9e2",
   "metadata": {},
   "outputs": [],
   "source": [
    "def main():\n",
    "    N = int(input())\n",
    "    \n",
    "    for i in range(N, 0, -1):\n",
    "        if (i == 1) or (i == N):\n",
    "            print('*' * i)\n",
    "        else:\n",
    "            print('*' + ' ' * (i - 2) + '*')\n",
    "\n",
    "if __name__ == '__main__':\n",
    "    main()"
   ]
  },
  {
   "cell_type": "markdown",
   "id": "63cb9d10-dca0-46c8-bf39-adad02c0c4b4",
   "metadata": {},
   "source": [
    "# Different Pattern\n",
    "For example if N = 5 then pattern will be like:\n",
    "```\n",
    "0 0 0 0 5 0 0 0 0 \n",
    "0 0 0 4 8 12 0 0 0 \n",
    "0 0 3 6 9 12 15 0 0\n",
    "0 2 4 6 8 10 12 14 0\n",
    "1 2 3 4 5 6 7 8 9 \n",
    "```\n",
    "If the row are considered as i, the value of i for the top-most row will be N and then N-1, N-2, ...., 1 subsequently for remaining rows. The values of pyramid are decided as i * (number of non-zero values printed before + 1).\n",
    "\n",
    "**NOTE**: There should be exactly one extra space after each number for each row."
   ]
  },
  {
   "cell_type": "code",
   "execution_count": null,
   "id": "af16d453-c30e-443e-9d3d-b9e812b209a4",
   "metadata": {},
   "outputs": [],
   "source": [
    "def main():\n",
    "    N = int(input())\n",
    "    M = 1\n",
    "    \n",
    "    for i in range(N, 0, -1):\n",
    "        print('0 ' * (i - 1), end='')\n",
    "        \n",
    "        for j in range(1, M + 1):\n",
    "            print(str(i * j), end=' ')\n",
    "            \n",
    "        M += 2\n",
    "        \n",
    "        print('0 ' * (i - 1))\n",
    "\n",
    "if __name__ == '__main__':\n",
    "    main()"
   ]
  },
  {
   "cell_type": "markdown",
   "id": "08dfec71-0850-4a3e-bd61-b14dcb8e3251",
   "metadata": {},
   "source": [
    "# Inverted Full Pyramid\n",
    "For example if N = 5 then pattern will be like:\n",
    "```\n",
    "* * * * * \n",
    " * * * * \n",
    "  * * * \n",
    "   * *    \n",
    "    * \n",
    "```\n",
    "**NOTE**: There should be exactly one extra space after each * for each row."
   ]
  },
  {
   "cell_type": "code",
   "execution_count": null,
   "id": "0e989cdb-ff9f-4686-bd51-98691c0dad76",
   "metadata": {},
   "outputs": [],
   "source": [
    "def main():\n",
    "    \n",
    "    N = int(input())\n",
    "    M = 1\n",
    "    \n",
    "    for i in range(N, 0, -1):\n",
    "        for j in range(1, M):\n",
    "            print(end=' ')\n",
    "            \n",
    "        for k in range(i):\n",
    "            print('* ', end='')\n",
    "            \n",
    "        M += 1\n",
    "        \n",
    "        print()\n",
    "        \n",
    "if __name__ == '__main__':\n",
    "    main()"
   ]
  },
  {
   "cell_type": "markdown",
   "id": "0954b130-5e74-4346-9d3e-1bf29508fa5b",
   "metadata": {},
   "source": [
    "# Full Numeric Pyramid\n",
    "For example if N = 5 then pattern will be like:\n",
    "```\n",
    "0 0 0 0 1 0 0 0 0 \n",
    "0 0 0 2 3 2 0 0 0 \n",
    "0 0 3 4 5 4 3 0 0\n",
    "0 4 5 6 7 6 5 4 0\n",
    "5 6 7 8 9 8 7 6 5 \n",
    "```\n",
    "**NOTE**: There should be exactly one extra space after each number for each row."
   ]
  },
  {
   "cell_type": "code",
   "execution_count": null,
   "id": "d7f98edd-dc88-47d8-8a4c-b028aa8d303f",
   "metadata": {},
   "outputs": [],
   "source": [
    "def main():\n",
    "    N = int(input())\n",
    "    M = 0\n",
    "    \n",
    "    for i in range(1, N + 1):\n",
    "        print('0 ' * (N - i), end='')\n",
    "        \n",
    "        for j in range(1, i + 1):\n",
    "            print(str(j + M), end=' ')\n",
    "            \n",
    "        for k in range(i, 1, -1):\n",
    "            print(str(k + M - 1), end=' ')\n",
    "        \n",
    "        print('0 ' * (N - i))\n",
    "        \n",
    "        M += 1\n",
    "\n",
    "if __name__ == '__main__':\n",
    "    main()"
   ]
  },
  {
   "cell_type": "markdown",
   "id": "b96161fa-b904-4ce4-a6a7-30d6808f1bbe",
   "metadata": {},
   "source": [
    "# Full Hollow Diamond\n",
    "```\n",
    "**********\n",
    "****  ****\n",
    "***    ***\n",
    "**      **\n",
    "*        *\n",
    "**      **\n",
    "***    ***\n",
    "****  ****\n",
    "**********\n",
    "```"
   ]
  },
  {
   "cell_type": "code",
   "execution_count": null,
   "id": "e5e46f5f-a5f1-4d31-bce5-ce966b710909",
   "metadata": {},
   "outputs": [],
   "source": [
    "N = int(input())\n",
    "\n",
    "for i in range(N-1):\n",
    "    for j in range(N-i):\n",
    "        print('*', end='')\n",
    "    for k in range(2*(i)):\n",
    "        print(' ', end='')\n",
    "    for l in range(N-i):\n",
    "        print('*', end='')\n",
    "    print()\n",
    "for i in range(N, 0, -1):\n",
    "    for j in range(N-i+1):\n",
    "        print('*', end='')\n",
    "    for k in range(2*(i-1)):\n",
    "        print(' ', end='')\n",
    "    for k in range(N-i+1):\n",
    "        print('*', end='')\n",
    "    print()"
   ]
  },
  {
   "cell_type": "markdown",
   "id": "26d6c7bb-f9b4-474f-b64f-289410fdd254",
   "metadata": {},
   "source": [
    "# Full Diamond\n",
    "```\n",
    "    *    \n",
    "   ***   \n",
    "  *****  \n",
    " ******* \n",
    "*********\n",
    " ******* \n",
    "  *****  \n",
    "   ***   \n",
    "    *    \n",
    "```"
   ]
  },
  {
   "cell_type": "code",
   "execution_count": null,
   "id": "1e12b788-a7ae-4bac-8122-828c6e9842fe",
   "metadata": {},
   "outputs": [],
   "source": [
    "N = int(input())\n",
    "M = 1\n",
    "O = N * 2 + 1\n",
    "\n",
    "for i in range(1,N):\n",
    "    # Spaces\n",
    "    print(' ' * (N - i), end='')\n",
    "    \n",
    "    for j in range(1, M+1):\n",
    "        print('*', end='')\n",
    "    M += 2\n",
    "    print(' ' * (N - i))\n",
    "    \n",
    "for i in range(N,0,-1):\n",
    "    print(' ' * (N - i), end='')\n",
    "    \n",
    "    for j in range(1,O-1):\n",
    "        print('*', end='')\n",
    "    O -= 2\n",
    "    print(' ' * (N - i))"
   ]
  },
  {
   "cell_type": "code",
   "execution_count": 5,
   "id": "7fc59631-5eb2-48f1-a83c-2e7853b6a0fb",
   "metadata": {},
   "outputs": [
    {
     "name": "stdin",
     "output_type": "stream",
     "text": [
      " 5\n"
     ]
    },
    {
     "name": "stdout",
     "output_type": "stream",
     "text": [
      "    *    \n",
      "   ***   \n",
      "  *****  \n",
      " ******* \n",
      "*********\n",
      " ******* \n",
      "  *****  \n",
      "   ***   \n",
      "    *    \n"
     ]
    }
   ],
   "source": [
    "N = int(input())\n",
    "\n",
    "for i in range(1, N):\n",
    "    \n",
    "    # Spaces\n",
    "    for j in range(N - i):\n",
    "        print(' ', end='')\n",
    "        \n",
    "    # Stars\n",
    "    for k in range((2 * i) - 1):\n",
    "        print('*', end='')\n",
    "        \n",
    "    # Spaces\n",
    "    for l in range(N - i):\n",
    "        print(' ', end='')\n",
    "        \n",
    "    # Newline\n",
    "    print()\n",
    "    \n",
    "for i in range(N, 0, -1):\n",
    "    \n",
    "    # Spaces\n",
    "    for j in range(N - i):\n",
    "        print(' ', end='')\n",
    "        \n",
    "    # Stars\n",
    "    for k in range((2 * i) - 1):\n",
    "        print('*', end='')\n",
    "        \n",
    "    # Spaces\n",
    "    for l in range(N - i):\n",
    "        print(' ', end='')\n",
    "        \n",
    "    # Newline\n",
    "    print()"
   ]
  },
  {
   "cell_type": "code",
   "execution_count": null,
   "id": "43fead35-905e-4304-9a07-63a4d4e98bf9",
   "metadata": {},
   "outputs": [],
   "source": []
  }
 ],
 "metadata": {
  "kernelspec": {
   "display_name": "Python 3 (ipykernel)",
   "language": "python",
   "name": "python3"
  },
  "language_info": {
   "codemirror_mode": {
    "name": "ipython",
    "version": 3
   },
   "file_extension": ".py",
   "mimetype": "text/x-python",
   "name": "python",
   "nbconvert_exporter": "python",
   "pygments_lexer": "ipython3",
   "version": "3.9.12"
  }
 },
 "nbformat": 4,
 "nbformat_minor": 5
}
