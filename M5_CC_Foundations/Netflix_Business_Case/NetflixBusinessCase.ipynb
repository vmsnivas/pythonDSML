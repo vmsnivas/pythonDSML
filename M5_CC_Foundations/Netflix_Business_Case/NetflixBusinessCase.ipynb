{
 "cells": [
  {
   "cell_type": "code",
   "execution_count": null,
   "id": "fc907924-ad08-450d-b7c6-9441d222908f",
   "metadata": {},
   "outputs": [],
   "source": [
    "import numpy as np\n",
    "import pandas as pd\n",
    "import matplotlib.pyplot as plt\n",
    "import seaborn as sns"
   ]
  },
  {
   "cell_type": "code",
   "execution_count": null,
   "id": "d977eba7-fa9d-4649-8229-5527e6011c8f",
   "metadata": {},
   "outputs": [],
   "source": [
    "raw_data = pd.read_csv('netflix.csv')"
   ]
  },
  {
   "cell_type": "markdown",
   "id": "6adc5de5-7553-4b03-b598-78f0c0afd1e0",
   "metadata": {},
   "source": [
    "## Let us review the data once"
   ]
  },
  {
   "cell_type": "code",
   "execution_count": null,
   "id": "76048d0f-49ff-4cd3-8b09-0adcc92f9088",
   "metadata": {},
   "outputs": [],
   "source": [
    "raw_data.info()"
   ]
  },
  {
   "cell_type": "code",
   "execution_count": null,
   "id": "2ebce7e6-5d4e-4c7e-811b-df5f354fef5b",
   "metadata": {},
   "outputs": [],
   "source": [
    "raw_data.head()"
   ]
  },
  {
   "cell_type": "code",
   "execution_count": null,
   "id": "d12949b5-afe1-45cc-aefe-79155e38fdb6",
   "metadata": {},
   "outputs": [],
   "source": [
    "raw_data.isnull().sum()"
   ]
  },
  {
   "cell_type": "markdown",
   "id": "e9bbd77d-da4c-4356-a5be-bc1516874b7e",
   "metadata": {},
   "source": [
    "## Challenges\n",
    "1. Nested Data\n",
    "    - cast\n",
    "    - director\n",
    "    - listed_in\n",
    "    - country\n",
    "2. Missing Values / Null Values\n",
    "    - Director:   2634\n",
    "    - Cast:       825\n",
    "    - Country:    831\n",
    "    - Date_Added: 10\n",
    "    - Rating:     4\n",
    "    - Duration:   3\n",
    "3. Duration\n",
    "    - Mins for Movies\n",
    "    - #Seasons for TV Shows\n",
    "4. Datatype\n",
    "    - date_added"
   ]
  },
  {
   "cell_type": "code",
   "execution_count": null,
   "id": "73d15378-f7cb-4d93-ae89-cf6096dc0523",
   "metadata": {},
   "outputs": [],
   "source": [
    "data = raw_data"
   ]
  },
  {
   "cell_type": "markdown",
   "id": "336e596d-1fc8-4de0-9942-ede2097fcc6f",
   "metadata": {},
   "source": [
    "## Challenge #1: Handling Nesting Data"
   ]
  },
  {
   "cell_type": "code",
   "execution_count": null,
   "id": "6d37a821-2cec-4f9a-a64d-d724d3eb39c9",
   "metadata": {},
   "outputs": [],
   "source": [
    "data['cast'] = data['cast'].str.split(',')\n",
    "data['director'] = data['director'].str.split(',')\n",
    "data['listed_in'] = data['listed_in'].str.split(',')\n",
    "data['country'] = data['country'].str.split(',')\n",
    "data = data.explode('cast')\n",
    "data = data.explode('director')\n",
    "data = data.explode('listed_in')\n",
    "data = data.explode('country')"
   ]
  },
  {
   "cell_type": "code",
   "execution_count": null,
   "id": "12eb18eb-8388-4940-a619-b923a9729f58",
   "metadata": {},
   "outputs": [],
   "source": [
    "data.info()"
   ]
  },
  {
   "cell_type": "markdown",
   "id": "43f8d41b-810c-4f95-af5d-43526292ee43",
   "metadata": {},
   "source": [
    "## Challenge #2: Handling Missing Values / Null Values\n",
    "- Here we can observe the size of the dataset has increased from 8K to 202K after exploding few columns\n",
    "- Now lets handle the nulls\n",
    "    - Here we need to fill values for Cast, Director, Country as the null values are more in these columns\n",
    "    - If we observe the Date_Added and Ratings columns we can drop those as those are considerably less"
   ]
  },
  {
   "cell_type": "code",
   "execution_count": null,
   "id": "00135a02-ed24-4880-91f5-7a83cdd94a2b",
   "metadata": {},
   "outputs": [],
   "source": [
    "data['cast'].fillna('No Cast', inplace=True)\n",
    "data['director'].fillna('No Director', inplace=True)\n",
    "data['country'].fillna('No Country', inplace=True)\n",
    "data.dropna(subset=['date_added','rating','duration'], inplace=True)"
   ]
  },
  {
   "cell_type": "code",
   "execution_count": null,
   "id": "916460dc-8c9b-442a-93a1-b482d99fb166",
   "metadata": {},
   "outputs": [],
   "source": [
    "data.info()"
   ]
  },
  {
   "cell_type": "code",
   "execution_count": null,
   "id": "fb81aac2-4281-4e7b-a566-be91a988673b",
   "metadata": {},
   "outputs": [],
   "source": [
    "data.isnull().any()"
   ]
  },
  {
   "cell_type": "markdown",
   "id": "c387ded5-e3c1-4304-9cac-7ca3c28985c1",
   "metadata": {},
   "source": [
    "## Challenge #3: Duration\n",
    "- We can group the data based on duration and perform further analysis\n",
    "- Things to keep in mind with the duration\n",
    "    - Duration in mins: Movie\n",
    "    - Duration in #Seasons: TV Show"
   ]
  },
  {
   "cell_type": "markdown",
   "id": "69ae6693-6108-48d0-ac6c-60da2f9f887f",
   "metadata": {},
   "source": [
    "## Challenge #4: Datatype of date_added column\n",
    "- We need to typecast datatype of date_added column"
   ]
  },
  {
   "cell_type": "code",
   "execution_count": null,
   "id": "52073b40-440a-4eee-bd60-b668afe96340",
   "metadata": {},
   "outputs": [],
   "source": [
    "data['date_added'] = pd.to_datetime(data['date_added'])"
   ]
  },
  {
   "cell_type": "code",
   "execution_count": null,
   "id": "f403ed6f-9796-4342-91f0-ad54a260bdba",
   "metadata": {},
   "outputs": [],
   "source": [
    "data.info()"
   ]
  },
  {
   "cell_type": "markdown",
   "id": "6d9d3861-e94a-4a76-8199-5b9bfaed1262",
   "metadata": {},
   "source": [
    "## 1. Lets explore the basic Metrics"
   ]
  },
  {
   "cell_type": "code",
   "execution_count": null,
   "id": "c92702a4-62ef-4c9d-b60a-654504dc5ea8",
   "metadata": {},
   "outputs": [],
   "source": [
    "data_type = data['type'].value_counts()"
   ]
  },
  {
   "cell_type": "code",
   "execution_count": null,
   "id": "5b7cde81-f94e-479e-90f2-0319a1a67ebe",
   "metadata": {},
   "outputs": [],
   "source": [
    "plt.figure(figsize=(8,8))\n",
    "plt.title('Number of show by Type',color='White',size=18)\n",
    "plt.pie(data_type, labels=data_type.index)\n",
    "plt.show()"
   ]
  },
  {
   "cell_type": "code",
   "execution_count": null,
   "id": "b4233b81-6874-46b9-8fd1-913790e20e54",
   "metadata": {},
   "outputs": [],
   "source": [
    "data_type.index"
   ]
  },
  {
   "cell_type": "code",
   "execution_count": null,
   "id": "92686151-4689-477a-9dc0-31f8bc43e89c",
   "metadata": {},
   "outputs": [],
   "source": []
  }
 ],
 "metadata": {
  "kernelspec": {
   "display_name": "Python 3 (ipykernel)",
   "language": "python",
   "name": "python3"
  },
  "language_info": {
   "codemirror_mode": {
    "name": "ipython",
    "version": 3
   },
   "file_extension": ".py",
   "mimetype": "text/x-python",
   "name": "python",
   "nbconvert_exporter": "python",
   "pygments_lexer": "ipython3",
   "version": "3.9.12"
  }
 },
 "nbformat": 4,
 "nbformat_minor": 5
}
