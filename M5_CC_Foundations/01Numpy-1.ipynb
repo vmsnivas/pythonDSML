{
 "cells": [
  {
   "cell_type": "code",
   "execution_count": 4,
   "id": "066c2afc-649a-4b52-b7ad-0e058472cb3e",
   "metadata": {},
   "outputs": [],
   "source": [
    "import numpy as np"
   ]
  },
  {
   "cell_type": "code",
   "execution_count": 6,
   "id": "e30abc49-5b49-459c-9f85-83100a0a0395",
   "metadata": {},
   "outputs": [
    {
     "name": "stdout",
     "output_type": "stream",
     "text": [
      "[ 3  1  2 10  2  2  2  1  4  6]\n",
      "[3, 1, 2, 10, 2, 2, 2, 1, 4, 6]\n",
      "[3, 1, 2, 10, 2, 2, 2, 1, 4, 6]\n"
     ]
    }
   ],
   "source": [
    "A = np.array([2, 0, 1, 9, 1, 1, 1, 0, 3, 5])\n",
    "print(A + 1)\n",
    "print(list(map(lambda x:x+1, A)))\n",
    "print([x+1 for x in A])\n"
   ]
  },
  {
   "cell_type": "code",
   "execution_count": 12,
   "id": "982fe499-5632-435f-9545-02c8bef678b3",
   "metadata": {},
   "outputs": [
    {
     "name": "stdout",
     "output_type": "stream",
     "text": [
      "[22 24 26 28 30 32 34 36 38 40 42 44 46 48 50 52 54 56 58 60 62 64 66 68\n",
      " 70]\n",
      "[21 23 25 27 29 31 33 35 37 39 41 43 45 47 49 51 53 55 57 59 61 63 65 67\n",
      " 69 71]\n"
     ]
    }
   ],
   "source": [
    "a = np.arange(22,71,2)\n",
    "print(a)\n",
    "b = np.arange(21,72,2)\n",
    "print(b)"
   ]
  },
  {
   "cell_type": "code",
   "execution_count": 16,
   "id": "b17af22a-83ca-47d0-a4bf-4e29f17cb121",
   "metadata": {},
   "outputs": [
    {
     "name": "stdout",
     "output_type": "stream",
     "text": [
      "[ 2  4  6  8 10]\n",
      "[2, 4, 6, 8, 10]\n"
     ]
    }
   ],
   "source": [
    "height = [1,2,3,4,5]\n",
    "delta = [1,2,3,4,5]\n",
    "\n",
    "def update_height1(height,delta):\n",
    "\n",
    "    height = np.array(height)\n",
    "    delta = np.array(delta)\n",
    "    new_height1 = height+delta \n",
    "\n",
    "    return new_height1\n",
    "\n",
    "print(update_height1(height,delta))\n",
    "\n",
    "def update_height2(height, delta):\n",
    "\n",
    "    new_height2=[]\n",
    "\n",
    "    for i in range(len(height)):\n",
    "\n",
    "        new_height2.append(height[i]+delta[i])\n",
    "\n",
    "    return new_height2\n",
    "\n",
    "print(update_height2(height,delta))"
   ]
  },
  {
   "cell_type": "code",
   "execution_count": 18,
   "id": "7627ab56-fff4-4a2d-beb7-2d181d859e05",
   "metadata": {},
   "outputs": [
    {
     "name": "stdout",
     "output_type": "stream",
     "text": [
      "['Astha' 'Raghavendra' 'Ram']\n"
     ]
    }
   ],
   "source": [
    "print(np.sort(np.array(['Ram','Astha','Raghavendra'])))"
   ]
  },
  {
   "cell_type": "code",
   "execution_count": 17,
   "id": "84dd8e0a-e3be-4536-9512-7a9a840207a4",
   "metadata": {},
   "outputs": [
    {
     "data": {
      "text/plain": [
       "array([False, False, False])"
      ]
     },
     "execution_count": 17,
     "metadata": {},
     "output_type": "execute_result"
    }
   ],
   "source": [
    "arr1 = np.array(['Ram','Astha','Brahat'])\n",
    "arr2 = np.array(['Shyam','Kalyan','Naveen'])\n",
    "arr1 > arr2"
   ]
  },
  {
   "cell_type": "code",
   "execution_count": 28,
   "id": "6a094cf4-ce90-4067-b321-cb8951cd8c5d",
   "metadata": {},
   "outputs": [
    {
     "data": {
      "text/plain": [
       "0.22"
      ]
     },
     "execution_count": 28,
     "metadata": {},
     "output_type": "execute_result"
    }
   ],
   "source": [
    "A = [1,1,2,2,4]\n",
    "B = [0.6,1.29,1.99,2.69,3.4]\n",
    "\n",
    "def mse(A,B):\n",
    "    '''A,B -> Numpy arrays\n",
    "       output -> A float rounded up to 2 decimal points should be returned'''\n",
    "    \n",
    "    ### STEP 1. Calculate difference between elements of A and B\n",
    "    # A = np.array(A)\n",
    "    # B = np.array(B)\n",
    "    diff = np.subtract(A,B)\n",
    "    \n",
    "    ## STEP 2: Take square of difference\n",
    "    \n",
    "    sq_diff = np.square(diff)\n",
    "    \n",
    "    ## STEP3 : Take mean of squared difference\n",
    "    \n",
    "    mean_sq_diff = np.mean(sq_diff)\n",
    "    \n",
    "    ## STEP 4 : Round off values to 2 decimal places.\n",
    "    \n",
    "    mean_sq_diff = np.round(mean_sq_diff, decimals = 2)\n",
    "    \n",
    "    return mean_sq_diff\n",
    "\n",
    "mse(A,B)"
   ]
  },
  {
   "cell_type": "code",
   "execution_count": 29,
   "id": "0bbd712a-4b4f-4c67-ac00-cc0bf2d1d444",
   "metadata": {},
   "outputs": [
    {
     "data": {
      "text/plain": [
       "4.75"
      ]
     },
     "execution_count": 29,
     "metadata": {},
     "output_type": "execute_result"
    }
   ],
   "source": [
    "9.5/2"
   ]
  },
  {
   "cell_type": "code",
   "execution_count": 55,
   "id": "cac993a5-f162-4ad6-8e6e-9b8a6588638f",
   "metadata": {},
   "outputs": [
    {
     "data": {
      "text/plain": [
       "(array([5, 8]),)"
      ]
     },
     "execution_count": 55,
     "metadata": {},
     "output_type": "execute_result"
    }
   ],
   "source": [
    "birds = np.array(['spoonbills',  'plovers',  'plovers',  'plovers',  'plovers',  'Cranes',  'plovers',  'plovers',  'Cranes',  'spoonbills'])\n",
    "age = np.array([5.5, 6.0, 3.5, 1.5, 3.0, 4.0, 3.5, 2.0, 5.5, 6.0])\n",
    "\n",
    "#mask = birds == 'Cranes'\n",
    "mask = np.where(birds=='Cranes')"
   ]
  },
  {
   "cell_type": "code",
   "execution_count": 57,
   "id": "a8d9baab-21cd-4dc2-a668-8bd02d7b263f",
   "metadata": {},
   "outputs": [
    {
     "data": {
      "text/plain": [
       "array([4. , 5.5])"
      ]
     },
     "execution_count": 57,
     "metadata": {},
     "output_type": "execute_result"
    }
   ],
   "source": [
    "#age[mask * age > 0]\n",
    "age[mask]"
   ]
  },
  {
   "cell_type": "code",
   "execution_count": 51,
   "id": "c7916093-d640-4442-9f5f-2bf87387be96",
   "metadata": {},
   "outputs": [],
   "source": [
    "#cranes_age = age[mask * age > 0]\n",
    "cranes_age = age[mask]"
   ]
  },
  {
   "cell_type": "code",
   "execution_count": 54,
   "id": "6be01fd9-ab7b-4aeb-8593-38a19d0badc4",
   "metadata": {},
   "outputs": [
    {
     "data": {
      "text/plain": [
       "4.75"
      ]
     },
     "execution_count": 54,
     "metadata": {},
     "output_type": "execute_result"
    }
   ],
   "source": [
    "np.round(np.mean(cranes_age),2)"
   ]
  },
  {
   "cell_type": "markdown",
   "id": "4528e01f-18e6-40d3-af06-ae212b8811c0",
   "metadata": {},
   "source": [
    "# AirBNB NPS"
   ]
  },
  {
   "cell_type": "code",
   "execution_count": 60,
   "id": "d7da3642-05f1-4f9e-91e9-c53e6866f23d",
   "metadata": {},
   "outputs": [],
   "source": [
    "score = np.loadtxt('survey.txt', dtype = 'int')"
   ]
  },
  {
   "cell_type": "code",
   "execution_count": 61,
   "id": "37e3920f-e8e3-4328-b826-337582ebd503",
   "metadata": {},
   "outputs": [
    {
     "data": {
      "text/plain": [
       "array([ 7, 10,  5,  9,  9])"
      ]
     },
     "execution_count": 61,
     "metadata": {},
     "output_type": "execute_result"
    }
   ],
   "source": [
    "score[:5]"
   ]
  },
  {
   "cell_type": "code",
   "execution_count": 62,
   "id": "89bf1bdf-75ad-49a9-96bd-44923e61d0c6",
   "metadata": {},
   "outputs": [
    {
     "data": {
      "text/plain": [
       "(1167,)"
      ]
     },
     "execution_count": 62,
     "metadata": {},
     "output_type": "execute_result"
    }
   ],
   "source": [
    "score.shape"
   ]
  },
  {
   "cell_type": "code",
   "execution_count": 64,
   "id": "3d2ab521-4780-40e8-87e2-afe11e04bda4",
   "metadata": {},
   "outputs": [
    {
     "data": {
      "text/plain": [
       "1"
      ]
     },
     "execution_count": 64,
     "metadata": {},
     "output_type": "execute_result"
    }
   ],
   "source": [
    "score.min()"
   ]
  },
  {
   "cell_type": "code",
   "execution_count": 65,
   "id": "08919e71-601f-469c-b111-672aa3a730ea",
   "metadata": {},
   "outputs": [
    {
     "data": {
      "text/plain": [
       "10"
      ]
     },
     "execution_count": 65,
     "metadata": {},
     "output_type": "execute_result"
    }
   ],
   "source": [
    "score.max()"
   ]
  },
  {
   "cell_type": "markdown",
   "id": "9ac1863d-5b4e-4305-a90f-68d2bb3ae466",
   "metadata": {},
   "source": [
    "Looks like, there are no records with 0 score.\n",
    "\n",
    "Now, let's calculate NPS using these response.\n",
    "\n",
    "NPS = % Promoters - % Detractors\n",
    "\n",
    "Now, in order to calculate NPS, we need to calculate two things:\n",
    "\n",
    "% Promoters\n",
    "% Detractors\n",
    "In order to calculate % Promoters and % Detractors, we need to get the count of promoter as well as detractor.\n",
    "\n",
    "Question: How can we get the count of Promoter/ Detractor ?\n",
    "We can do so by using fancy indexing (masking )"
   ]
  },
  {
   "cell_type": "markdown",
   "id": "1df68f61-e742-4ad3-96fd-ae69c7652a03",
   "metadata": {},
   "source": [
    "### Detractors have a score <=6"
   ]
  },
  {
   "cell_type": "code",
   "execution_count": 75,
   "id": "914e71b2-e0b4-4434-975b-8fab06a0fe8b",
   "metadata": {},
   "outputs": [
    {
     "data": {
      "text/plain": [
       "28.449014567266495"
      ]
     },
     "execution_count": 75,
     "metadata": {},
     "output_type": "execute_result"
    }
   ],
   "source": [
    "# print(score[score <= 6])\n",
    "# print(score[score <= 6].shape)\n",
    "# print(score[score <= 6].shape[0])\n",
    "\n",
    "detractors = score[score <= 6].shape[0]\n",
    "total = score.shape[0]\n",
    "percent_detractors = detractors/total*100\n",
    "percent_detractors\n"
   ]
  },
  {
   "cell_type": "markdown",
   "id": "bf3eabbf-23b7-4381-b9c8-7a29bbb8ccb6",
   "metadata": {},
   "source": [
    "### Similarly, Promoters have a score 9-10"
   ]
  },
  {
   "cell_type": "code",
   "execution_count": 76,
   "id": "9071f219-206b-4c4a-8417-24952ff9ab01",
   "metadata": {},
   "outputs": [
    {
     "data": {
      "text/plain": [
       "52.185089974293064"
      ]
     },
     "execution_count": 76,
     "metadata": {},
     "output_type": "execute_result"
    }
   ],
   "source": [
    "promoters = score[score >= 9].shape[0]\n",
    "percent_promoters = promoters/total*100\n",
    "percent_promoters"
   ]
  },
  {
   "cell_type": "markdown",
   "id": "605db250-bf9f-49e4-8663-a3d0575c32a8",
   "metadata": {},
   "source": [
    "### For calculating NPS, we need to\n",
    "\n",
    "% promoters - % detractors"
   ]
  },
  {
   "cell_type": "code",
   "execution_count": 77,
   "id": "f824919c-6244-4e7d-92fc-8325a16cc353",
   "metadata": {},
   "outputs": [
    {
     "data": {
      "text/plain": [
       "24.0"
      ]
     },
     "execution_count": 77,
     "metadata": {},
     "output_type": "execute_result"
    }
   ],
   "source": [
    "nps = percent_promoters - percent_detractors\n",
    "np.round(nps)"
   ]
  },
  {
   "cell_type": "code",
   "execution_count": null,
   "id": "92d73070-0391-42f2-8898-23d53edfa515",
   "metadata": {},
   "outputs": [],
   "source": []
  }
 ],
 "metadata": {
  "kernelspec": {
   "display_name": "Python 3 (ipykernel)",
   "language": "python",
   "name": "python3"
  },
  "language_info": {
   "codemirror_mode": {
    "name": "ipython",
    "version": 3
   },
   "file_extension": ".py",
   "mimetype": "text/x-python",
   "name": "python",
   "nbconvert_exporter": "python",
   "pygments_lexer": "ipython3",
   "version": "3.9.12"
  }
 },
 "nbformat": 4,
 "nbformat_minor": 5
}
