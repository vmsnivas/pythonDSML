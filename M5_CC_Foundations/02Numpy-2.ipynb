{
 "cells": [
  {
   "cell_type": "code",
   "execution_count": 2,
   "id": "1a1527bc-9e70-4d2a-b984-348403b8eb92",
   "metadata": {},
   "outputs": [],
   "source": [
    "import numpy as np"
   ]
  },
  {
   "cell_type": "markdown",
   "id": "03078b1b-71ea-4f6d-a8cd-f29963a2e235",
   "metadata": {},
   "source": [
    "# Q1. Rotate the array\n",
    "\n",
    "Given an array in form of a matrix of size (n, n), rotate the matrix clockwise by 90º.\n",
    "\n",
    "> Input Format: A 2d numpy array\n",
    "\n",
    "> Output Format: A 2d numpy array\n",
    "\n",
    "> Sample Input:\n",
    "```\n",
    "[[1 2 3] \n",
    " [4 5 6]\n",
    " [7 8 9]]\n",
    "```\n",
    "\n",
    "> Sample Output:\n",
    "```\n",
    "[[7 4 1]\n",
    " [8 5 2]\n",
    " [9 6 3]]\n",
    "```\n",
    "\n",
    "Note: Try Transpose / reversing."
   ]
  },
  {
   "cell_type": "code",
   "execution_count": 2,
   "id": "0a8d4193-2722-4983-8266-49d7223ec146",
   "metadata": {},
   "outputs": [
    {
     "data": {
      "text/plain": [
       "array([[1, 2, 3],\n",
       "       [4, 5, 6],\n",
       "       [7, 8, 9]])"
      ]
     },
     "execution_count": 2,
     "metadata": {},
     "output_type": "execute_result"
    }
   ],
   "source": [
    "mat = np.arange(1,10).reshape(3,3)\n",
    "mat"
   ]
  },
  {
   "cell_type": "code",
   "execution_count": 3,
   "id": "59e142cd-a2ad-4eeb-889e-36f36c711b88",
   "metadata": {},
   "outputs": [
    {
     "data": {
      "text/plain": [
       "array([[1, 4, 7],\n",
       "       [2, 5, 8],\n",
       "       [3, 6, 9]])"
      ]
     },
     "execution_count": 3,
     "metadata": {},
     "output_type": "execute_result"
    }
   ],
   "source": [
    "mat.T"
   ]
  },
  {
   "cell_type": "code",
   "execution_count": 11,
   "id": "c26b4e34-5332-4451-b0c9-c9ac76bb7526",
   "metadata": {},
   "outputs": [
    {
     "data": {
      "text/plain": [
       "array([[7, 4, 1],\n",
       "       [8, 5, 2],\n",
       "       [9, 6, 3]])"
      ]
     },
     "execution_count": 11,
     "metadata": {},
     "output_type": "execute_result"
    }
   ],
   "source": [
    "mat.T[:, ::-1]"
   ]
  },
  {
   "cell_type": "code",
   "execution_count": 20,
   "id": "c46940b0-0903-4680-8607-944a14eff30a",
   "metadata": {},
   "outputs": [],
   "source": [
    "import numpy as np\n",
    "def rotate_img(mat):\n",
    "    '''mat -> A 2d numpy array\n",
    "       output -> A 2d numpy array is expected to be returned'''\n",
    "\n",
    "    # YOUR CODE GOES HERE\n",
    "    print(mat.T[:, ::-1])"
   ]
  },
  {
   "cell_type": "markdown",
   "id": "dd527a55-2b6f-4495-abe0-377f55166e48",
   "metadata": {},
   "source": [
    "# Q2. Sort the birds\n",
    "\n",
    "> Problem Description: Given a list of birds and their corresponding age, return the name of birds sorted according to age (ascending)\n",
    "\n",
    "> Input Format: Two 1D array list i.e. bird array and age array\n",
    "\n",
    "> Output Format: A 1D array\n",
    "\n",
    "> Sample Input:\n",
    "```\n",
    "birds = ['spoonbills',  'plovers',  'plovers',  'plovers',  'plovers',  'Cranes',  'plovers',  'plovers',  'Cranes',  'spoonbills']\n",
    "age = [5.5, 6.0, 3.5, 1.5, 3.0, 4.0, 3.5, 2.0, 5.5, 6.0]\n",
    "```\n",
    "\n",
    "> Sample Output:\n",
    "```\n",
    "['plovers', 'plovers', 'plovers', 'plovers', 'plovers', 'Cranes', 'spoonbills', 'Cranes', 'plovers', 'spoonbills']\n",
    "```\n",
    "\n",
    "Side Note: Recall the functionality of .sort() and .argsort()"
   ]
  },
  {
   "cell_type": "code",
   "execution_count": 17,
   "id": "a80ddf6e-07c1-4b53-b4ad-bf7fd723b076",
   "metadata": {},
   "outputs": [
    {
     "name": "stdout",
     "output_type": "stream",
     "text": [
      "['spoonbills' 'plovers' 'plovers' 'plovers' 'plovers' 'Cranes' 'plovers'\n",
      " 'plovers' 'Cranes' 'spoonbills']\n",
      "[5.5 6.  3.5 1.5 3.  4.  3.5 2.  5.5 6. ]\n"
     ]
    }
   ],
   "source": [
    "birds = np.array(['spoonbills',  'plovers',  'plovers',  'plovers',  'plovers',  'Cranes',  'plovers',  'plovers',  'Cranes',  'spoonbills'])\n",
    "age = np.array([5.5, 6.0, 3.5, 1.5, 3.0, 4.0, 3.5, 2.0, 5.5, 6.0])\n",
    "print(birds)\n",
    "print(age)"
   ]
  },
  {
   "cell_type": "code",
   "execution_count": 18,
   "id": "fb48bfff-5716-4966-89d0-16f69635d4e9",
   "metadata": {},
   "outputs": [
    {
     "data": {
      "text/plain": [
       "array([3, 7, 4, 2, 6, 5, 0, 8, 1, 9])"
      ]
     },
     "execution_count": 18,
     "metadata": {},
     "output_type": "execute_result"
    }
   ],
   "source": [
    "np.argsort(age)"
   ]
  },
  {
   "cell_type": "code",
   "execution_count": 19,
   "id": "daca0dbf-bcd0-4b9b-a28c-3c612fa3758d",
   "metadata": {},
   "outputs": [
    {
     "data": {
      "text/plain": [
       "array(['plovers', 'plovers', 'plovers', 'plovers', 'plovers', 'Cranes',\n",
       "       'spoonbills', 'Cranes', 'plovers', 'spoonbills'], dtype='<U10')"
      ]
     },
     "execution_count": 19,
     "metadata": {},
     "output_type": "execute_result"
    }
   ],
   "source": [
    "birds[np.argsort(age)]"
   ]
  },
  {
   "cell_type": "code",
   "execution_count": 21,
   "id": "9d98ce18-b55c-42dd-b2e7-c66fb6350fa2",
   "metadata": {},
   "outputs": [],
   "source": [
    "import numpy as np\n",
    "\n",
    "def sort_birds(birds, age):\n",
    "    '''\n",
    "    INPUT: birds, age -> 1D numpy array\n",
    "    \n",
    "    OUTPUT: result -> sorted bird 1D array\n",
    "    '''\n",
    "    \n",
    "    ## STEP 1 : Get the sorted index of age.\n",
    "    \n",
    "    sorted_age_index = np.argsort(age)\n",
    "    \n",
    "    ## STEP 2: Use the index from previous step to get sorted birds\n",
    "    \n",
    "    result = birds[sorted_age_index]\n",
    "    \n",
    "    return result"
   ]
  },
  {
   "cell_type": "markdown",
   "id": "300769b8-fd0c-4409-8f10-9d1850e2c822",
   "metadata": {},
   "source": [
    "# Q3. 2D indexing and slicing\n",
    "\n",
    "> Problem Description: Given a M x N array, Perform the following operations:\n",
    "> 1. Get the odd rows from the array i.e. 1st, 3rd, 5th etc..\n",
    "> 2. Convert the above result into 1D array and return it.\n",
    "\n",
    "> Input Format: A 2D numpy array\n",
    "\n",
    "> Output Format: A 1D numpy array\n",
    "\n",
    "> Sample Input:\n",
    "```\n",
    "[[1, 2, 3] \n",
    " [4, 5, 6]\n",
    " [7, 8, 9]]\n",
    "```\n",
    "\n",
    "> Sample Output:\n",
    "```\n",
    "[1, 2, 3, 7, 8, 9]\n",
    "```"
   ]
  },
  {
   "cell_type": "code",
   "execution_count": 22,
   "id": "2d9894e2-78bc-4adf-a0f2-0493a9531ff4",
   "metadata": {},
   "outputs": [
    {
     "data": {
      "text/plain": [
       "array([[1, 2, 3],\n",
       "       [4, 5, 6],\n",
       "       [7, 8, 9]])"
      ]
     },
     "execution_count": 22,
     "metadata": {},
     "output_type": "execute_result"
    }
   ],
   "source": [
    "arr = np.arange(1,10).reshape(3,3)\n",
    "arr"
   ]
  },
  {
   "cell_type": "code",
   "execution_count": 23,
   "id": "92bcff15-813b-46c6-b568-7894051e84f8",
   "metadata": {},
   "outputs": [
    {
     "data": {
      "text/plain": [
       "array([[1, 2, 3],\n",
       "       [7, 8, 9]])"
      ]
     },
     "execution_count": 23,
     "metadata": {},
     "output_type": "execute_result"
    }
   ],
   "source": [
    "odd_row_array = arr[::2]\n",
    "odd_row_array"
   ]
  },
  {
   "cell_type": "code",
   "execution_count": 25,
   "id": "44731af5-e556-468d-ab39-4eaf9c570c50",
   "metadata": {},
   "outputs": [
    {
     "data": {
      "text/plain": [
       "array([1, 2, 3, 7, 8, 9])"
      ]
     },
     "execution_count": 25,
     "metadata": {},
     "output_type": "execute_result"
    }
   ],
   "source": [
    "odd_row_array.flatten()"
   ]
  },
  {
   "cell_type": "code",
   "execution_count": 26,
   "id": "4827abb1-b3b8-47c9-812c-0a05d7da49d5",
   "metadata": {},
   "outputs": [],
   "source": [
    "import numpy as np\n",
    "def indexing(arr):\n",
    "    '''\n",
    "    INPUT: \n",
    "    arr -> 2D array of shape M x N\n",
    "    \n",
    "    OUTPUT: \n",
    "    result -> 1D array\n",
    "    '''\n",
    "    \n",
    "    result = None\n",
    "    \n",
    "    \n",
    "    ## Step 1: Get the odd rows from the array\n",
    "    \n",
    "    odd_row_array = arr[::2]\n",
    "    \n",
    "    \n",
    "    ## Step 2: Convert it to 1D array\n",
    "    \n",
    "    result = odd_row_array.flatten()\n",
    "    \n",
    "    \n",
    "    ## YOUR CODE ENDS HERE. MAY THE FORCE BE WITH YOU.\n",
    "    \n",
    "    return result"
   ]
  },
  {
   "cell_type": "markdown",
   "id": "d8a376d6-378a-49bc-8643-78828155b827",
   "metadata": {},
   "source": [
    "# Q4. Numpy on 2D\n",
    "\n",
    "Given the 2-D array X,\n",
    "```\n",
    "import numpy as np\n",
    "X = np.arange(12).reshape(3,4)\n",
    "```\n",
    "So, X is\n",
    "```\n",
    "[[ 0 1 2 3] \n",
    " [ 4 5 6 7]\n",
    " [ 8 9 10 11]]\n",
    "```\n",
    "Which of the following is/are true statements."
   ]
  },
  {
   "cell_type": "code",
   "execution_count": 40,
   "id": "2bcd9bd7-f59a-4b1f-b784-102152c6fdb4",
   "metadata": {},
   "outputs": [
    {
     "name": "stdout",
     "output_type": "stream",
     "text": [
      "[ 3  7 11]\n",
      "[[ 0  4  8]\n",
      " [ 1  5  9]\n",
      " [ 2  6 10]\n",
      " [ 3  7 11]] [ 3  7 11]\n",
      "[0, 4, 8]\n"
     ]
    }
   ],
   "source": [
    "X = np.arange(12).reshape(3,4)\n",
    "print(X.max(axis=1))\n",
    "#X.sum()\n",
    "print(X.T, X.T.max(axis=0))\n",
    "print([i.min() for i in X])"
   ]
  },
  {
   "cell_type": "markdown",
   "id": "f9c55979-83a8-4223-9ff6-9882007c75fd",
   "metadata": {},
   "source": [
    "# Q5. What about code?\n",
    "```\n",
    "import numpy as np\n",
    "arr = 2*np.arange(0,2,0.5)\n",
    "if arr <= 0.6:\n",
    "    print (\"condition satisfies\")\n",
    "else:\n",
    "    print (\"condition doesn't satisfy\") \n",
    "```\n",
    "In the above code, 'condition' implies the situation that arr has at least one value smaller than or equal to 0.6. Which option is true wrt the code and condition?"
   ]
  },
  {
   "cell_type": "code",
   "execution_count": 43,
   "id": "1b96c70a-292b-4801-a303-e80f49a6b973",
   "metadata": {},
   "outputs": [
    {
     "ename": "ValueError",
     "evalue": "The truth value of an array with more than one element is ambiguous. Use a.any() or a.all()",
     "output_type": "error",
     "traceback": [
      "\u001b[0;31m---------------------------------------------------------------------------\u001b[0m",
      "\u001b[0;31mValueError\u001b[0m                                Traceback (most recent call last)",
      "Input \u001b[0;32mIn [43]\u001b[0m, in \u001b[0;36m<cell line: 2>\u001b[0;34m()\u001b[0m\n\u001b[1;32m      1\u001b[0m arr \u001b[38;5;241m=\u001b[39m \u001b[38;5;241m2\u001b[39m\u001b[38;5;241m*\u001b[39mnp\u001b[38;5;241m.\u001b[39marange(\u001b[38;5;241m0\u001b[39m,\u001b[38;5;241m2\u001b[39m,\u001b[38;5;241m0.5\u001b[39m)\n\u001b[0;32m----> 2\u001b[0m \u001b[38;5;28;01mif\u001b[39;00m arr \u001b[38;5;241m<\u001b[39m\u001b[38;5;241m=\u001b[39m \u001b[38;5;241m0.6\u001b[39m:\n\u001b[1;32m      3\u001b[0m     \u001b[38;5;28mprint\u001b[39m (\u001b[38;5;124m\"\u001b[39m\u001b[38;5;124mcondition satisfies\u001b[39m\u001b[38;5;124m\"\u001b[39m)\n\u001b[1;32m      4\u001b[0m \u001b[38;5;28;01melse\u001b[39;00m:\n",
      "\u001b[0;31mValueError\u001b[0m: The truth value of an array with more than one element is ambiguous. Use a.any() or a.all()"
     ]
    }
   ],
   "source": [
    "arr = 2*np.arange(0,2,0.5)\n",
    "if arr <= 0.6:\n",
    "    print (\"condition satisfies\")\n",
    "else:\n",
    "    print (\"condition doesn't satisfy\")"
   ]
  },
  {
   "cell_type": "code",
   "execution_count": 42,
   "id": "c7f8d6b7-31f9-47b5-85a3-3424d5aed344",
   "metadata": {},
   "outputs": [
    {
     "data": {
      "text/plain": [
       "array([0., 1., 2., 3.])"
      ]
     },
     "execution_count": 42,
     "metadata": {},
     "output_type": "execute_result"
    }
   ],
   "source": [
    "arr"
   ]
  },
  {
   "cell_type": "code",
   "execution_count": 45,
   "id": "33de65bb-65d5-474a-849e-aa68b0ce9f94",
   "metadata": {},
   "outputs": [
    {
     "data": {
      "text/plain": [
       "False"
      ]
     },
     "execution_count": 45,
     "metadata": {},
     "output_type": "execute_result"
    }
   ],
   "source": [
    "arr.any() <= 0.6"
   ]
  },
  {
   "cell_type": "code",
   "execution_count": 49,
   "id": "1cbecd10-a253-47ee-9f15-9306b067f70b",
   "metadata": {},
   "outputs": [
    {
     "data": {
      "text/plain": [
       "True"
      ]
     },
     "execution_count": 49,
     "metadata": {},
     "output_type": "execute_result"
    }
   ],
   "source": [
    "arr.all() <= 0.6"
   ]
  },
  {
   "cell_type": "markdown",
   "id": "9a453227-3af9-41c1-9c69-7c22009d2bef",
   "metadata": {},
   "source": [
    "> # The Code will throw ValueError, and np.any() should be used to get the required output."
   ]
  },
  {
   "cell_type": "markdown",
   "id": "858d4bcc-14c0-488a-9afc-c1dc2e503e0a",
   "metadata": {},
   "source": [
    "# Q6. Sorting in matrix\n",
    "\n",
    "\n",
    "You are a Teaching Assistant of the DSML course. You have access to every student’s marks in every quiz. The marks are stored in a matrix where matrix[i][j] represents the marks of the ith student in the jth quiz.\n",
    "\n",
    "The course instructor wants you to sort the marks of students according to jth quiz in increasing order so that he can evaluate the performance of students in that particular quiz.\n",
    "\n",
    "Here, you have to create a python program using which the instructor can sort the data on the basis of a given column(quiz). The program will return the matrix with the marks sorted in jth quiz.\n",
    "\n",
    "The dimension of the input matrix is m× n, the output is expected to be a 2d numpy matrix of dimension mxn, but in the output the jth column must be arranged in the ascending order.\n",
    "\n",
    "> Note: The input will be 2D list not array. First convert it to array.\n",
    "\n",
    "> Input Format: Number of test cases\n",
    "> For each test case, number of rows for matrix and the column to be sorted in a new line.\n",
    "> For each row in matrix, space separated integers are taken as input in a new line.\n",
    "\n",
    "> Output Format: The 2D matrix, or each row in matrix space separated integers\n",
    "\n",
    "> Sample Input:\n",
    "```\n",
    "1\n",
    "3 2 \n",
    "5 3 9\n",
    "2 1 4\n",
    "7 6 8\n",
    "```\n",
    "\n",
    "> Sample Output:\n",
    "```\n",
    "[[2 1 4]\n",
    " [5 3 9]\n",
    " [7 6 8]]\n",
    "```\n",
    "\n",
    "> Explanation: The 2nd column of the matrix is [3, 1, 6], the column after sorting becomes [1, 3, 6].\n",
    "\n",
    "> ***Note: While sorting the marks, take care of rearranging the relative order of rows too. As, [2 1 4] is a row at index 1 in the original matrix, but after sorting the 2nd column, we had to rearrange its order as mentioned in the sample output.***"
   ]
  },
  {
   "cell_type": "code",
   "execution_count": 5,
   "id": "a3f8b7ab-9f4b-4ffc-a0e6-7d89bdf432c7",
   "metadata": {},
   "outputs": [
    {
     "data": {
      "text/plain": [
       "array([[5, 3, 9],\n",
       "       [2, 1, 4],\n",
       "       [7, 6, 8]])"
      ]
     },
     "execution_count": 5,
     "metadata": {},
     "output_type": "execute_result"
    }
   ],
   "source": [
    "list2d = np.array([[5,3,9],\n",
    "                   [2,1,4],\n",
    "                   [7,6,8]])\n",
    "j = 3\n",
    "list2d"
   ]
  },
  {
   "cell_type": "code",
   "execution_count": 7,
   "id": "9088ca94-f713-40fa-8bcf-4a081b5ce822",
   "metadata": {},
   "outputs": [
    {
     "data": {
      "text/plain": [
       "array([[2, 1, 4],\n",
       "       [5, 3, 9],\n",
       "       [7, 6, 8]])"
      ]
     },
     "execution_count": 7,
     "metadata": {},
     "output_type": "execute_result"
    }
   ],
   "source": [
    "sort_col = list2d[:, j-1]\n",
    "sort_col_index = np.argsort(sort_col)\n",
    "list2d[sort_col_index]"
   ]
  },
  {
   "cell_type": "code",
   "execution_count": 8,
   "id": "72cc7b09-4e3b-45e3-8b31-7179227bd78a",
   "metadata": {},
   "outputs": [],
   "source": [
    "import numpy as np\n",
    "def sort_marks(list2d, j):\n",
    "    '''Input: arr2d= a 2d python list.\n",
    "       j= integer representing the number of quiz according to which the marks need to be sorted.\n",
    "       Output: a 2d numpy array.'''\n",
    "    list2d = np.array(list2d)\n",
    "    sort_col = list2d[:, j-1]\n",
    "    sort_col_index = np.argsort(sort_col)\n",
    "\n",
    "    ans = list2d[sort_col_index]\n",
    "    # YOUR CODE GOES HERE\n",
    "    \n",
    "    return ans\n",
    "    "
   ]
  },
  {
   "cell_type": "code",
   "execution_count": null,
   "id": "42c6afc6-a9c6-4630-9604-63d040988710",
   "metadata": {},
   "outputs": [],
   "source": []
  }
 ],
 "metadata": {
  "kernelspec": {
   "display_name": "Python 3 (ipykernel)",
   "language": "python",
   "name": "python3"
  },
  "language_info": {
   "codemirror_mode": {
    "name": "ipython",
    "version": 3
   },
   "file_extension": ".py",
   "mimetype": "text/x-python",
   "name": "python",
   "nbconvert_exporter": "python",
   "pygments_lexer": "ipython3",
   "version": "3.9.12"
  }
 },
 "nbformat": 4,
 "nbformat_minor": 5
}
