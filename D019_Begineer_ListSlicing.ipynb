{
 "cells": [
  {
   "cell_type": "markdown",
   "id": "be178265-3fdb-4e80-9ee3-587160da1387",
   "metadata": {},
   "source": [
    "# Divisible by 5 and 7\n",
    "\n",
    "Write a program that returns the list of elements that are present in the given list and are divisible by 5 and 7."
   ]
  },
  {
   "cell_type": "code",
   "execution_count": null,
   "id": "06b6db53-11c0-4dbf-8079-c464abbd1388",
   "metadata": {},
   "outputs": [],
   "source": [
    "def divisible(lst):\n",
    "    ''' input:lst-List of elements in integer format\n",
    "         output:Return the list of elements divisible by 5 and 7'''\n",
    "    \n",
    "    elements=[]\n",
    "    # YOUR CODE GOES HERE\n",
    "    \n",
    "    for i in lst:\n",
    "        if (i % 5 == 0) and (i % 7 == 0):\n",
    "            elements.append(i)\n",
    "\n",
    "    \n",
    "    return elements\n",
    "\n",
    "divisible([1,2,15,35,70,350])"
   ]
  },
  {
   "cell_type": "markdown",
   "id": "36fff36b-f6f0-44b2-91bf-183b866c325e",
   "metadata": {},
   "source": [
    "# Second Largest\n",
    "\n",
    "You are given an integer array A. You have to find the second largest element/value in the array or report that no such element exists.\n",
    "\n",
    "**Input Format:**\n",
    "> The first argument is an integer array A.\n",
    "\n",
    "**Output Format:**\n",
    "> Return the second largest element. If no such element exist then return -1."
   ]
  },
  {
   "cell_type": "code",
   "execution_count": null,
   "id": "92cbb4b7-f050-48e7-a80e-d562e581fcb9",
   "metadata": {},
   "outputs": [],
   "source": [
    "def solve(A):\n",
    "    A.sort()\n",
    "    #print(A)\n",
    "    if len(A) > 1:\n",
    "        return A[-2]\n",
    "    else:\n",
    "        return -1\n",
    "    \n",
    "#solve([1,2,2])\n",
    "    \n",
    "solve([ 699052608, 735148890, 290332454, 317332564, 82022478, 289200399, 891239093, 226711949, 522100630, 803767529, 453767697, 567678483, 656384860, 225726628, 97026272, 855085618, 806283393, 756306881, 983086733, 789703213, 946391085, 957073782, 274429741, 2237753, 380666322, 255688130, 633400156, 716495667, 321038171, 608900703, 549290512, 446618032, 245097105, 330821177, 989447591, 890244188, 65265250, 254768130, 177390364, 865997351, 501736283, 607717367, 282860408, 562380596, 639595018, 903747637, 931619784, 908564804, 94178401, 252988413, 887294432, 597987502, 878735085, 522211649, 93867264, 195206281, 22051436, 577724806, 353265201, 291054967, 698513378, 586464717, 624813876, 79244042, 179661943, 870136409, 351934186, 177151411, 366232618, 137427549, 173423769, 985253209, 496082913, 111915386, 332222339, 415174458, 260274641, 332420005, 957977269, 615638346, 456393377, 630694241, 572584128, 309098451, 255277824, 754838980, 473471641, 61858234, 280497232, 666420178, 25932928, 729382255, 249521217, 715462621, 512644224, 182587998, 509983113, 618663429, 236351942, 538979817, 911571363, 555632136, 278177476, 226025048, 652234602, 958542148, 253663792, 527586691, 624165536, 60659092, 865484277, 660988917, 491709703, 74435789, 512788694, 743853170, 867120545, 953013023, 225436648, 917757297, 993926180, 480918188, 448717446, 697162775, 930325644, 901939719, 20580891, 123090390, 889714492, 951187597, 666279091, 362144725, 306920018, 402557398, 440177925, 269987198, 19442043, 327210549, 374649166, 277684770, 583754111, 942928252, 364024587, 319389154, 443276119, 712268314, 585834713, 255661565, 979632628, 813218027, 756840870, 51870739, 10342203, 374101694, 662274672, 466941606, 342180166, 204030989, 519484522, 843081089, 951632576, 931312379, 156018860, 456247729, 818640201, 39262266, 758319195, 417759275, 307157250, 515483363, 554876143, 562619826, 7401575, 232744042, 327414130, 722581198, 153036637, 854763529, 549943882, 237645670, 437548289, 633965955, 241873853, 484303888, 566327508, 333688197, 224254807, 289866874, 30038646, 885240648, 914123523, 954780282, 430052676, 291510729, 776605801, 569058823, 360698573, 218329417, 628691297, 712568953, 531907100, 83447593, 903517615, 824730578, 279160911, 237079730, 404668780, 477588313, 524916943, 489254849, 385885845, 996495569, 261438875, 914066733, 646260436, 865540060, 402136744, 6702050, 639126852, 947767848, 759161735, 867555341, 378598164, 899686446, 868522476, 983510331, 575828929, 432486551, 573177766, 475653577, 610682819, 824858508, 534437623, 833263791, 716489476, 529766622, 410529327, 29726907, 500226837, 283239304, 686878209, 668592244, 896924628, 95563918, 345424302, 187851163, 269783210, 68942174, 382062593, 23037513, 15503422, 574049548, 483741493, 81593541, 366207605, 903370387, 909008014, 104261879, 213901291, 374015906, 236942014, 322332432, 19248845, 839425505, 138160259, 418009993, 746038181, 576738335, 65864716, 189919985, 291942662, 106638871, 131747741, 621635740, 390765002, 97280929, 748192449, 722851989, 30009086, 928214193, 549337018, 920404911, 589318879, 786413402, 643471809, 176126410, 958070725, 8146019, 763306869, 979097651, 838571679, 211647684, 7451029, 267280263, 280300891, 369836377, 477639317, 476574035, 410318522, 53978985, 589028433, 658723848, 752416713, 719924689, 262788225, 841179292, 695976001, 52284204, 602897467, 651341305, 389264336, 520690590, 700166463, 588509232, 989284677, 697553902, 289301178, 318462420, 33484900, 438608801, 745331507, 580953595, 133567729, 505907989, 450259456, 650299813, 404931165, 483316477, 733975837, 325370482, 620760326, 852832761, 165580230, 847519630, 462950101, 28940192, 392061239, 523956975, 149187139, 735689289, 934111645, 643592371, 927975414, 847221244, 316789475, 804474787, 932133848, 241305866, 93351191, 513295443, 151178814, 853715522, 599697580, 941973048, 74591499, 116268341, 466738457, 448906957, 88640772, 65463351, 268177049, 494205304, 767351374, 630913262, 917384806, 897467789, 91097900, 935555449, 90229511, 80330610, 34957778, 37880648, 410017508, 925726130, 714699577, 70047648, 870518275, 752277247, 114902906, 915355030, 138878966, 41882667, 154632880, 379453721, 360880762, 613588409, 670110998, 452450965, 767387334, 142911455, 27907912, 814323569, 556698219, 503753834, 464804071, 703624793, 848562021, 113742853, 781513307, 887694672, 889954549, 508544222, 434756811, 665795227, 928470564, 588783534, 190197630, 688737298, 650603541, 575049664, 238407069, 290401425, 910712892, 349321256, 761605692, 610672314, 316311712, 478532942, 909708957, 139765465, 198992121, 822077967, 447355603, 548025902, 350139762, 156774037, 990425296, 216366034, 199038321, 265650365, 7446894, 845429947, 647316490, 47992190, 885178653, 321303173, 151163867, 610142770, 598625181, 992777571, 621081744, 719626808, 411432484, 575484900, 33446711 ])"
   ]
  },
  {
   "cell_type": "markdown",
   "id": "35219b74-5a43-43ee-896e-fe60468f18e9",
   "metadata": {},
   "source": [
    "# Min - Max Difference\n",
    "\n",
    "Given an array A, find the difference between the maximum and minimum element of the array. Return the difference between the maximum and minimum element of the array.\n",
    "\n",
    "**Input Format:**\n",
    "> The first and the only argument is an integer array A.\n",
    "\n",
    "**Output Format:**\n",
    "> Return an integer, which denotes the difference between maximum and minimum element of the array."
   ]
  },
  {
   "cell_type": "code",
   "execution_count": null,
   "id": "7ce9bddf-92dc-409c-a755-611f59c03603",
   "metadata": {},
   "outputs": [],
   "source": [
    "class Solution:\n",
    "    # @param A : list of integers\n",
    "    # @return an integer\n",
    "    def solve(self, A):\n",
    "        return max(A) - min(A)"
   ]
  },
  {
   "cell_type": "markdown",
   "id": "afdb3f53-88d4-4354-946d-2c862386647e",
   "metadata": {},
   "source": [
    "# QQ\n"
   ]
  },
  {
   "cell_type": "code",
   "execution_count": null,
   "id": "87c3a446-5ed8-4024-b514-f08b7fcb36f1",
   "metadata": {},
   "outputs": [],
   "source": [
    "players=['Jadeja','Rahul','Rohit']\n",
    "\n",
    "#players[len(players):] = ['Dhoni', 'Virat']\n",
    "#players += ['Dhoni', 'Virat']\n",
    "\n",
    "print(players)"
   ]
  },
  {
   "cell_type": "code",
   "execution_count": null,
   "id": "b46dd879-c51d-4b85-b9ae-267bb32efe8f",
   "metadata": {},
   "outputs": [],
   "source": [
    "[1, 3, 4, 4, 3, 1, 2, 3, 2][:3]"
   ]
  },
  {
   "cell_type": "markdown",
   "id": "c5ac0cd3-d38e-4425-921a-fca17a9f8543",
   "metadata": {},
   "source": [
    "# First and Last Index\n",
    "\n",
    "Given a sorted integer array A, and an integer B. Find the first and last index of B in A.\n",
    "It is guaranteed that B exists in A.\n",
    "\n",
    "Return an array C of size 2, where C[0] is the first index of B in A and C[1] is the last index of B in A.\n",
    "\n",
    "**Input Format:**\n",
    "> The first argument is an array A.\n",
    "The second argument is an integer B.\n",
    "\n",
    "\n",
    "**Output Format:**\n",
    "> An integer array C of size 2."
   ]
  },
  {
   "cell_type": "code",
   "execution_count": null,
   "id": "80b7d9f5-0ab4-41b0-a867-cf5822f913b4",
   "metadata": {},
   "outputs": [],
   "source": [
    "class Solution:\n",
    "    # @param A : list of integers\n",
    "    # @param B : integer\n",
    "    # @return a list of integers\n",
    "    def solve(self, A, B):\n",
    "\n",
    "        C = []\n",
    "\n",
    "        for i in range(len(A)):\n",
    "\n",
    "            if A[i] == B:\n",
    "                C.append(i)\n",
    "\n",
    "        C = [min(C), max(C)]\n",
    "        \n",
    "        return C"
   ]
  },
  {
   "cell_type": "markdown",
   "id": "373abaaa-b3a9-413f-8e4f-007d138d1981",
   "metadata": {},
   "source": [
    "# Ceil and Floor\n",
    "\n",
    "Given a sorted integer array A and an integer B. Find the ceil and floor of B in the array A.\n",
    "\n",
    "- Ceil of an integer X in the array is an element which is just greater than or equal to X.\n",
    "- Floor of an integer X in the array is an element which is just smaller than or equal to X.\n",
    "- Means if B exists in an array then B itself will be the ceil and floor of that array. If it doesn't exists then the number smaller than B will be floor and number greater than B will be ceil of that array\n",
    "\n",
    "Return an array of size 2. The first element of the array will be ceil of B and the second element will be the floor.\n",
    "\n",
    "Note - Input is such that the ceil and floor of B always exist in array A.\n",
    "\n",
    "**Input Format:**\n",
    "> The first argument is an array A.\n",
    "The second argument is an integer B.\n",
    "\n",
    "**Output Format:**\n",
    "> An integer array C of size 2."
   ]
  },
  {
   "cell_type": "code",
   "execution_count": null,
   "id": "55a861c3-e6ab-4524-8178-87fa13ec0c33",
   "metadata": {},
   "outputs": [],
   "source": [
    "class Solution:\n",
    "    # @param A : list of integers\n",
    "    # @param B : integer\n",
    "    # @return a list of integers\n",
    "    def solve(A, B):\n",
    "\n",
    "        if B in A:\n",
    "            C = [B, B]\n",
    "        else:\n",
    "            ceil = max(A)\n",
    "            floor = min(A)\n",
    "\n",
    "            for i in A:\n",
    "\n",
    "                if i > floor and i < B:\n",
    "                    floor = i\n",
    "\n",
    "                if i < ceil and i > B:\n",
    "                    ceil = i\n",
    "\n",
    "            C = [ceil, floor]\n",
    "\n",
    "        return C"
   ]
  },
  {
   "cell_type": "code",
   "execution_count": null,
   "id": "0a636c48-2c9b-43e1-afc9-a75f0899578a",
   "metadata": {},
   "outputs": [],
   "source": [
    "def solve(A, B):\n",
    "\n",
    "    if B in A:\n",
    "        C = [B, B]\n",
    "    else:\n",
    "        ceil = max(A)\n",
    "        floor = min(A)\n",
    "\n",
    "        for i in A:\n",
    "\n",
    "            if i > floor and i < B:\n",
    "                floor = i\n",
    "\n",
    "            if i < ceil and i > B:\n",
    "                ceil = i\n",
    "\n",
    "        C = [ceil, floor]\n",
    "\n",
    "    return C\n",
    "\n",
    "print(solve([-2, 4, 8, 9], 0))\n",
    "print(solve([1, 9, 21], 9))"
   ]
  },
  {
   "cell_type": "markdown",
   "id": "8211bd6e-f4be-4597-8ca6-97959344c6b3",
   "metadata": {},
   "source": [
    "# Inverse of the Array\n",
    "\n",
    "Given an integer array A, find the inverse of the array A and return it.\n",
    "All the elements of the given array are distinct and elements of the array lie in the range [0, |A|).\n",
    "\n",
    "> Note - The inverse of the array means the array elements are swapped with their corresponding indices.\n",
    "\n",
    "**Input Format:**\n",
    "> The first and the only argument is an array A.\n",
    "\n",
    "**Output Format:**\n",
    "> Return an array which is the inverse of the given array A.\n",
    "\n",
    "**Example Input:**\n",
    "```\n",
    "Input 1:\n",
    "A = [2, 0, 1]\n",
    "Input 2:\n",
    "A = [3, 1, 0, 2]\n",
    "```\n",
    "\n",
    "**Example Output:**\n",
    "```\n",
    "Output 1:\n",
    "[1, 2, 0]\n",
    "Output 2:\n",
    "[2, 1, 3, 0]\n",
    "```"
   ]
  },
  {
   "cell_type": "code",
   "execution_count": null,
   "id": "73e3bcb6-3726-4013-9fee-beff2345391e",
   "metadata": {},
   "outputs": [],
   "source": [
    "class Solution:\n",
    "    # @param A : list of integers\n",
    "    # @return a list of integers\n",
    "    def solve(self, A):\n",
    "        B = [0] * len(A)\n",
    "\n",
    "        for i in range(len(A)):\n",
    "            B[A[i]] = i\n",
    "\n",
    "        return B"
   ]
  },
  {
   "cell_type": "code",
   "execution_count": null,
   "id": "11d1a32d-e331-47a8-a4af-7540ad680350",
   "metadata": {},
   "outputs": [],
   "source": [
    "A = [1,0]\n",
    "#B = [0] * len(A)\n",
    "for i in range(len(A)):\n",
    "    #B.append(A[A[i]])\n",
    "    #B[i] = A[A[i]]\n",
    "    B[A[i]] = i\n",
    "print(B)"
   ]
  },
  {
   "cell_type": "code",
   "execution_count": null,
   "id": "14d618f4-968b-49fb-ad45-fd36c5003f2a",
   "metadata": {},
   "outputs": [],
   "source": [
    "A.count(0)"
   ]
  },
  {
   "cell_type": "code",
   "execution_count": null,
   "id": "23b74f05-3e51-48b2-b66f-913387a3fc41",
   "metadata": {},
   "outputs": [],
   "source": [
    "old_students = ['Manoj', 'Raju', 'Shiva' ]\n",
    "\n",
    "new_students = ['Akhil', 'Balu', 'Chitra']\n",
    "\n",
    "old_students.extend(new_students)\n",
    "old_students"
   ]
  },
  {
   "cell_type": "markdown",
   "id": "d6845ce5-d5d8-432f-a7ad-d652fd158d13",
   "metadata": {},
   "source": [
    "# Check if Array is Sorted\n",
    "\n",
    "Given an array A, check if it is sorted in non decreasing order or not.\n",
    "\n",
    "**Input Format:**\n",
    "> The first and only argument contains an integer array A.\n",
    "\n",
    "**Output Format:**\n",
    "> Return 1 if array is sorted else return 0.\n",
    "\n",
    "**Example Input:**\n",
    "```\n",
    "Input 1:\n",
    " A = [1, 2, 2] \n",
    "Input 2:\n",
    " A = [1, 2, 1] \n",
    "```\n",
    "\n",
    "**Example Output:**\n",
    "```\n",
    "Output 1:\n",
    " 1\n",
    "Output 2:\n",
    " 0\n",
    "```"
   ]
  },
  {
   "cell_type": "code",
   "execution_count": null,
   "id": "91cbc8ad-52c4-458d-b8d1-b1fedcb51aca",
   "metadata": {},
   "outputs": [],
   "source": [
    "def solve(A):\n",
    "    for i in range(len(A)):\n",
    "        if i + 1 == len(A):\n",
    "            break\n",
    "            \n",
    "        if A[i] < A[i+1]:\n",
    "            ans = 1\n",
    "            \n",
    "        if A[i] > A[i+1]:\n",
    "            ans = 0\n",
    "    return ans\n",
    "\n",
    "solve([1,2,3,1,2,3])"
   ]
  },
  {
   "cell_type": "code",
   "execution_count": null,
   "id": "f4d8d838-04cd-400e-a9bd-7366b30587cc",
   "metadata": {},
   "outputs": [],
   "source": [
    "[1, 2, 3][:-1]"
   ]
  },
  {
   "cell_type": "code",
   "execution_count": null,
   "id": "c5824690-e8eb-4b61-bab0-a29c01f9819f",
   "metadata": {},
   "outputs": [],
   "source": [
    "# [8, 6, 4]\n",
    "w = 2  # <- Change this\n",
    "x = 2  # <- Change this\n",
    "y = 7  # <- Change this\n",
    "z = -1  # <- Change this\n",
    "\n",
    "lst = [1, 2, 3, 4, 5, 6, 7, 8, 9, 10]\n",
    "\n",
    "first_slice = lst[::z] #z\n",
    "second_slice = first_slice[:y] #y\n",
    "third_slice = second_slice[x:] #x\n",
    "last_slice = third_slice[::w] #w\n",
    "\n",
    "print(last_slice)"
   ]
  },
  {
   "cell_type": "code",
   "execution_count": null,
   "id": "b2ad7b00-b3af-46e1-ac61-9ac9af0ed41b",
   "metadata": {},
   "outputs": [],
   "source": []
  }
 ],
 "metadata": {
  "kernelspec": {
   "display_name": "Python 3 (ipykernel)",
   "language": "python",
   "name": "python3"
  },
  "language_info": {
   "codemirror_mode": {
    "name": "ipython",
    "version": 3
   },
   "file_extension": ".py",
   "mimetype": "text/x-python",
   "name": "python",
   "nbconvert_exporter": "python",
   "pygments_lexer": "ipython3",
   "version": "3.9.12"
  }
 },
 "nbformat": 4,
 "nbformat_minor": 5
}
