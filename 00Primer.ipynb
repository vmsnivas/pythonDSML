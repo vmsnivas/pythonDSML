{
 "cells": [
  {
   "cell_type": "code",
   "execution_count": 10,
   "id": "2f8dfb04-563f-45a3-bfd9-9b1152d6a852",
   "metadata": {},
   "outputs": [
    {
     "data": {
      "text/plain": [
       "5040"
      ]
     },
     "execution_count": 10,
     "metadata": {},
     "output_type": "execute_result"
    }
   ],
   "source": [
    "def fact(n):\n",
    "    if n == 0:\n",
    "        return 1\n",
    "    else:\n",
    "        return n * fact(n - 1)\n",
    "fact(7)"
   ]
  },
  {
   "cell_type": "code",
   "execution_count": 6,
   "id": "3c344ad0-64a6-417e-8c27-a17ac598634b",
   "metadata": {},
   "outputs": [
    {
     "name": "stdout",
     "output_type": "stream",
     "text": [
      "243\n"
     ]
    }
   ],
   "source": [
    "def bar(x,y):\n",
    "    if y == 0:\n",
    "        return 0\n",
    "    return (x + bar(x,y - 1))\n",
    "\n",
    "def foo(x,y):\n",
    "    if y == 0:\n",
    "        return 1\n",
    "    return bar(x,foo(x,y - 1))\n",
    "\n",
    "print(foo(3,5))"
   ]
  }
 ],
 "metadata": {
  "kernelspec": {
   "display_name": "Python 3 (ipykernel)",
   "language": "python",
   "name": "python3"
  },
  "language_info": {
   "codemirror_mode": {
    "name": "ipython",
    "version": 3
   },
   "file_extension": ".py",
   "mimetype": "text/x-python",
   "name": "python",
   "nbconvert_exporter": "python",
   "pygments_lexer": "ipython3",
   "version": "3.9.12"
  }
 },
 "nbformat": 4,
 "nbformat_minor": 5
}
