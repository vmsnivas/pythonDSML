{
 "cells": [
  {
   "cell_type": "markdown",
   "id": "2958c6f7-0192-4075-a009-29f3d3dea76a",
   "metadata": {},
   "source": [
    "# Count of UpperCase characters"
   ]
  },
  {
   "cell_type": "code",
   "execution_count": null,
   "id": "ec2ee853-1c9e-401e-a40c-f207c67311cb",
   "metadata": {},
   "outputs": [],
   "source": [
    "def main():\n",
    "    T = int(input())\n",
    "    \n",
    "    for i in range(T):\n",
    "        myStr = input()\n",
    "        count = 0\n",
    "        \n",
    "        for j in myStr:\n",
    "            if j.isupper():\n",
    "                count += 1\n",
    "        print(count)\n",
    "    \n",
    "if __name__ == '__main__':\n",
    "    main()"
   ]
  },
  {
   "cell_type": "markdown",
   "id": "bbf8b8f4-21d9-4f84-b1a8-4ac057dfd5e4",
   "metadata": {},
   "source": [
    "# Sum of digits in a number"
   ]
  },
  {
   "cell_type": "code",
   "execution_count": null,
   "id": "a59bdc7f-44d0-416f-b489-b0518dba3728",
   "metadata": {},
   "outputs": [],
   "source": [
    "def main():\n",
    "    T = int(input())\n",
    "    \n",
    "    for i in range(T):\n",
    "        A = int(input())\n",
    "        total = 0\n",
    "        \n",
    "        while A > 0:\n",
    "            last = A % 10\n",
    "            total += last\n",
    "            A = A // 10\n",
    "        print(total)\n",
    "    \n",
    "if __name__ == '__main__':\n",
    "    main()"
   ]
  },
  {
   "cell_type": "markdown",
   "id": "563b7171-2309-438d-a716-b53ee6a57f13",
   "metadata": {},
   "source": [
    "# Maximum and Minimum numbers in an array"
   ]
  },
  {
   "cell_type": "code",
   "execution_count": null,
   "id": "c3d9eded-c610-4015-8f86-fda7f51a8c79",
   "metadata": {},
   "outputs": [],
   "source": [
    "def main():\n",
    "    A = input()\n",
    "    l = list(map(int, A.split()))\n",
    "    N = l[0]\n",
    "    \n",
    "    l2 = l[1:]\n",
    "    print(max(l2), min(l2))\n",
    "    \n",
    "if __name__ == '__main__':\n",
    "    main()"
   ]
  }
 ],
 "metadata": {
  "kernelspec": {
   "display_name": "Python 3 (ipykernel)",
   "language": "python",
   "name": "python3"
  },
  "language_info": {
   "codemirror_mode": {
    "name": "ipython",
    "version": 3
   },
   "file_extension": ".py",
   "mimetype": "text/x-python",
   "name": "python",
   "nbconvert_exporter": "python",
   "pygments_lexer": "ipython3",
   "version": "3.9.12"
  }
 },
 "nbformat": 4,
 "nbformat_minor": 5
}
