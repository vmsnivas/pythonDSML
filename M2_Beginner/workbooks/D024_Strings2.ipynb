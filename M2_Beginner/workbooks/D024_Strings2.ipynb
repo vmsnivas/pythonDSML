{
 "cells": [
  {
   "cell_type": "markdown",
   "id": "bc7f04f3-67c0-4525-8c53-20c109a52fbe",
   "metadata": {},
   "source": [
    "# First Occurrence\n",
    "Problem Description\n",
    "\n",
    "You are given a character string A, having length N and an integer ASCII code B.\n",
    "\n",
    "You have to tell the leftmost occurrence of the character having ASCII code equal to B, in A or report that it does not exist.\n",
    "\n"
   ]
  },
  {
   "cell_type": "code",
   "execution_count": null,
   "id": "71290249-8273-499b-9d44-b3227f856b5f",
   "metadata": {},
   "outputs": [],
   "source": [
    "def solve(A,B):\n",
    "    for i in range(len(A)):\n",
    "        if chr(B) == A[i]:\n",
    "            return i\n",
    "\n",
    "    return -1\n",
    "        \n",
    "A = \"bvymzikytswvgniflzbyyrkcojuxedcviygnxuckqxmiqtzsqvrvppsnmaoghsxoierzuuecjlxwievsxcesfqsaeg\"\n",
    "B = 99\n",
    "solve(A,B)"
   ]
  },
  {
   "cell_type": "markdown",
   "id": "2f8ee92d-318a-43ea-b1f7-581ac0c9bea4",
   "metadata": {},
   "source": [
    "# Length of String - II"
   ]
  },
  {
   "cell_type": "code",
   "execution_count": 1,
   "id": "8d85dd61-c1f4-4d2a-819f-2106221138a2",
   "metadata": {},
   "outputs": [],
   "source": [
    "class Solution:\n",
    "    # @param A : string\n",
    "    # @return an integer\n",
    "    def solve(self, A):\n",
    "        return len(A)"
   ]
  },
  {
   "cell_type": "markdown",
   "id": "fee2f256-cf5d-42c7-b03f-066e3ba20e50",
   "metadata": {
    "tags": []
   },
   "source": [
    "# Replace Character\n",
    "\n",
    "Problem Description\n",
    "\n",
    "You are given a character string A and two integer ASCII codes B and C.\n",
    "\n",
    "You have to find and replace all the occurrences of the character having ASCII code equal to B with character having ASCII code equal to C and return the resultant string."
   ]
  },
  {
   "cell_type": "code",
   "execution_count": 2,
   "id": "bf0b955f-ce98-4746-a080-a1a24556b9f2",
   "metadata": {},
   "outputs": [],
   "source": [
    "class Solution:\n",
    "    # @param A : string\n",
    "    # @param B : integer\n",
    "    # @param C : integer\n",
    "    # @return a strings\n",
    "    def solve(self, A, B, C):\n",
    "        return A.replace(chr(B),chr(C))"
   ]
  },
  {
   "cell_type": "markdown",
   "id": "1ba5d492-3578-4d3b-ab85-175797de764f",
   "metadata": {},
   "source": [
    "# Date formatting\n",
    "\n",
    "**Problem Description:**\n",
    "> Given the input date in DD/MM/YYYY format as a string, write a function that returns the converted date in the string formats MM/DD/YYYY and YYYY/MM/DD and return the new date formats.\n",
    "\n",
    "**Input Format:**\n",
    "> First input line will have the number of test cases. There will be a single line of input for each testcase which will consist of date in the string format DD/MM/YYYY. \n",
    "\n",
    "**Output Format:**\n",
    "> Resultant date formats in string formats MM/DD/YYYY and YYYY/MM/DD\n",
    "\n",
    "**Sample Input:**\n",
    "```\n",
    "1\n",
    "\"08/12/1998\"\n",
    "```\n",
    "**Sample Output:**\n",
    "```\n",
    "('12/08/1998', '1998/12/08')\n",
    "```"
   ]
  },
  {
   "cell_type": "code",
   "execution_count": 3,
   "id": "d8c4a508-bcb7-49f3-9225-baa28ba9c18d",
   "metadata": {},
   "outputs": [
    {
     "data": {
      "text/plain": [
       "('12/08/1998', '1998/12/08')"
      ]
     },
     "execution_count": 3,
     "metadata": {},
     "output_type": "execute_result"
    }
   ],
   "source": [
    "import os\n",
    "def date_format(date):\n",
    "    dl = date.split('/')\n",
    "    newDate1 = dl[1] + '/' + dl[0] + '/' + dl[2]\n",
    "    newDate2 = dl[2] + '/' + dl[1] + '/' + dl[0]\n",
    "    out = newDate1 + '\\n' + newDate2 \n",
    "    # print(date)\n",
    "    # print(newDate)\n",
    "    return newDate1, newDate2\n",
    "\n",
    "date_format('08/12/1998')"
   ]
  },
  {
   "cell_type": "code",
   "execution_count": null,
   "id": "31b69d10-cbc4-4a75-8f79-a536ad3f944f",
   "metadata": {},
   "outputs": [],
   "source": [
    "words= ['goOd','mORNing','HOW','are','yoU','todAy']\n",
    "\n",
    "def upper_char(words):\n",
    "    output=[]\n",
    "    for i in range(len(words)):\n",
    "        if words[i][2].isupper() == True:\n",
    "            output.append(words[i])\n",
    "    return output\n",
    "upper_char(words)"
   ]
  },
  {
   "cell_type": "code",
   "execution_count": null,
   "id": "68434c18-a883-40d7-a9e7-9785cc9b0b2a",
   "metadata": {},
   "outputs": [],
   "source": [
    "word = \"Scaler Academy\"\n",
    "n = len(word)\n",
    "word1 = word.upper()\n",
    "word2 = word.lower()\n",
    "\n",
    "converted_word = \"\"\n",
    "\n",
    "for i in range(n):\n",
    "    if i % 2 == 0:\n",
    "        converted_word += word2[i]\n",
    "    else:\n",
    "        converted_word += word1[i]\n",
    "print(converted_word)"
   ]
  },
  {
   "cell_type": "code",
   "execution_count": null,
   "id": "0c5e6e83-a7ee-4323-9b92-ed8ad27cc5d5",
   "metadata": {},
   "outputs": [],
   "source": [
    "a = 'hello'\n",
    "b = a\n",
    "a = 'Yello'\n",
    "\n",
    "print(b)\n",
    "print(a)"
   ]
  },
  {
   "cell_type": "code",
   "execution_count": null,
   "id": "e8b94caa-afd4-4c7a-a3e0-b1a7c54659cb",
   "metadata": {},
   "outputs": [],
   "source": [
    "a = \"Random String\"\n",
    "b = a\n",
    "c = str(a)\n",
    "d = a[:]\n",
    "e = \"Rand\" + \"\" + \"om Str\" + \"\" + \"ing\"\n",
    "\n",
    "print(a)\n",
    "print(b)\n",
    "print(c)\n",
    "print(d)\n",
    "print(e)\n"
   ]
  },
  {
   "cell_type": "code",
   "execution_count": 4,
   "id": "b5d19fc2-2ce5-440c-bb19-f6164070c639",
   "metadata": {},
   "outputs": [
    {
     "name": "stdout",
     "output_type": "stream",
     "text": [
      "False\n",
      "False\n",
      "True\n",
      "False\n"
     ]
    }
   ],
   "source": [
    "s = \"My PO Box number is 310\"\n",
    "print(s.isalnum())\n",
    "print(s.islower())\n",
    "print(s.startswith('My P'))\n",
    "print(s.isspace())"
   ]
  },
  {
   "cell_type": "code",
   "execution_count": 9,
   "id": "d20f8872-31f2-4c37-9521-8508728fa388",
   "metadata": {},
   "outputs": [
    {
     "name": "stdout",
     "output_type": "stream",
     "text": [
      "hello\n",
      "olleh\n"
     ]
    }
   ],
   "source": [
    "s = \"hello\"\n",
    "\n",
    "print(s[0:9])\n",
    "#print(s[9])\n",
    "print(s[::-1])"
   ]
  },
  {
   "cell_type": "code",
   "execution_count": 11,
   "id": "fd2616ea-3d6d-4d09-8585-f00a767523c4",
   "metadata": {},
   "outputs": [
    {
     "name": "stdout",
     "output_type": "stream",
     "text": [
      "ping pong\n"
     ]
    }
   ],
   "source": [
    "a = 'ping'\n",
    "b = 'pong'\n",
    "\n",
    "print(a, b)"
   ]
  },
  {
   "cell_type": "code",
   "execution_count": 12,
   "id": "ce10bacd-8999-4c1c-a015-508cba8de57a",
   "metadata": {},
   "outputs": [
    {
     "name": "stdout",
     "output_type": "stream",
     "text": [
      "fox quick word own fox word! ord!\n"
     ]
    }
   ],
   "source": [
    "str1 = \"quick brown fox word!\"\n",
    "print(str1[12:15], str1[:5], str1[-5:-1], str1[8:110], str1[-4:])"
   ]
  },
  {
   "cell_type": "code",
   "execution_count": 14,
   "id": "bf6161d5-7159-4762-9a5d-53be98b87302",
   "metadata": {},
   "outputs": [
    {
     "name": "stdout",
     "output_type": "stream",
     "text": [
      "HelloHello\n"
     ]
    }
   ],
   "source": [
    "str1 = 'Hello'\n",
    "print(str1*2)"
   ]
  }
 ],
 "metadata": {
  "kernelspec": {
   "display_name": "Python 3 (ipykernel)",
   "language": "python",
   "name": "python3"
  },
  "language_info": {
   "codemirror_mode": {
    "name": "ipython",
    "version": 3
   },
   "file_extension": ".py",
   "mimetype": "text/x-python",
   "name": "python",
   "nbconvert_exporter": "python",
   "pygments_lexer": "ipython3",
   "version": "3.9.12"
  }
 },
 "nbformat": 4,
 "nbformat_minor": 5
}
