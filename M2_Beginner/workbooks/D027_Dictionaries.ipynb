{
 "cells": [
  {
   "cell_type": "code",
   "execution_count": 1,
   "id": "bfc6d46f-b9bb-4a3f-835a-913981dacdb4",
   "metadata": {},
   "outputs": [],
   "source": [
    "d = {}"
   ]
  },
  {
   "cell_type": "code",
   "execution_count": 2,
   "id": "00679504-c902-4f40-bba4-3862bfba1d6f",
   "metadata": {},
   "outputs": [],
   "source": [
    "d['A'] = 1"
   ]
  },
  {
   "cell_type": "code",
   "execution_count": 13,
   "id": "65c250a8-46c4-41df-a7a4-61f12138738c",
   "metadata": {},
   "outputs": [
    {
     "data": {
      "text/plain": [
       "{'A': 5, 'B': 2, 'C': 1}"
      ]
     },
     "execution_count": 13,
     "metadata": {},
     "output_type": "execute_result"
    }
   ],
   "source": [
    "d"
   ]
  },
  {
   "cell_type": "code",
   "execution_count": 6,
   "id": "1da9080d-e61d-4f42-ad91-235d177cd085",
   "metadata": {},
   "outputs": [],
   "source": [
    "d['A'] += 1"
   ]
  },
  {
   "cell_type": "code",
   "execution_count": 14,
   "id": "faf5be51-82d3-446e-baf3-d1da030fb8ec",
   "metadata": {},
   "outputs": [],
   "source": [
    "i = 'C'\n",
    "if i not in d:\n",
    "    d[i] = 1\n",
    "else:\n",
    "    d[i] += 1\n",
    "    ans = False"
   ]
  },
  {
   "cell_type": "code",
   "execution_count": 15,
   "id": "70e5e641-4bab-4ad8-b2f8-4e9670dab783",
   "metadata": {},
   "outputs": [
    {
     "data": {
      "text/plain": [
       "False"
      ]
     },
     "execution_count": 15,
     "metadata": {},
     "output_type": "execute_result"
    }
   ],
   "source": [
    "ans"
   ]
  },
  {
   "cell_type": "code",
   "execution_count": 37,
   "id": "52464be1-6a26-4b23-bbda-1d160287bb4e",
   "metadata": {},
   "outputs": [
    {
     "name": "stdin",
     "output_type": "stream",
     "text": [
      " x y z\n",
      " 10 20 30\n"
     ]
    },
    {
     "name": "stdout",
     "output_type": "stream",
     "text": [
      "{'x': 10, 'y': 20, 'z': 30}\n"
     ]
    }
   ],
   "source": [
    "A = input()\n",
    "B = input()\n",
    "l1 = A.split()\n",
    "l2 = list(map(int, B.split()))\n",
    "\n",
    "d1 = dict(zip(l1,l2))\n",
    "\n",
    "# d1 = {}\n",
    "# for i in range(len(l1)):\n",
    "#     d1[l1[i]] = l2[i]\n",
    "    \n",
    "print(d1)"
   ]
  },
  {
   "cell_type": "code",
   "execution_count": 20,
   "id": "ad344e51-48e6-4033-8ae1-66a527f8f978",
   "metadata": {},
   "outputs": [
    {
     "data": {
      "text/plain": [
       "60"
      ]
     },
     "execution_count": 20,
     "metadata": {},
     "output_type": "execute_result"
    }
   ],
   "source": [
    "sum(d1.values())"
   ]
  },
  {
   "cell_type": "code",
   "execution_count": 22,
   "id": "813f27d9-8fcf-4771-b8c5-bdaafef30449",
   "metadata": {},
   "outputs": [],
   "source": [
    "d1.update({'a': 1})"
   ]
  },
  {
   "cell_type": "code",
   "execution_count": 28,
   "id": "0efefc8c-63ee-448a-a51d-932606e497e9",
   "metadata": {},
   "outputs": [
    {
     "data": {
      "text/plain": [
       "False"
      ]
     },
     "execution_count": 28,
     "metadata": {},
     "output_type": "execute_result"
    }
   ],
   "source": [
    "10 in d1"
   ]
  },
  {
   "cell_type": "code",
   "execution_count": 27,
   "id": "064ca5f6-89b3-40d3-ae04-dcc50c0cfa2d",
   "metadata": {},
   "outputs": [
    {
     "name": "stdout",
     "output_type": "stream",
     "text": [
      "{'name': 'smit', 'salary': 6500}\n",
      "{'name': 'smit', 'salary': 8500}\n"
     ]
    }
   ],
   "source": [
    "freshers = {\n",
    "    'student1': {'name': 'yash', 'salary': 7500},\n",
    "    'student2': {'name': 'heet', 'salary': 8000},\n",
    "    'student3': {'name':'smit', 'salary': 6500}\n",
    "}\n",
    "\n",
    "print(freshers['student3'])\n",
    "freshers['student3']['salary'] = 8500\n",
    "print(freshers['student3'])\n"
   ]
  },
  {
   "cell_type": "code",
   "execution_count": 25,
   "id": "d6381f3d-55f4-4f19-910c-b0b64eca3c72",
   "metadata": {},
   "outputs": [
    {
     "data": {
      "text/plain": [
       "{'student1': {'name': 'yash', 'salary': 7500},\n",
       " 'student2': {'name': 'heet', 'salary': 8000},\n",
       " 'student3': {'name': 'smit', 'salary': 8500}}"
      ]
     },
     "execution_count": 25,
     "metadata": {},
     "output_type": "execute_result"
    }
   ],
   "source": [
    "freshers"
   ]
  },
  {
   "cell_type": "code",
   "execution_count": 29,
   "id": "8c282cea-f4e7-4c83-8b53-c2b0d1974a93",
   "metadata": {},
   "outputs": [
    {
     "name": "stdout",
     "output_type": "stream",
     "text": [
      "This is not a member of the dictionary\n"
     ]
    }
   ],
   "source": [
    "dict1 = {'age': 35, 'name': 'abc', 'salary': 45000}\n",
    "\n",
    "val = dict1['age']\n",
    "\n",
    "if val in dict1:\n",
    "    print('This is a member of the dictionary')\n",
    "else:\n",
    "    print('This is not a member of the dictionary')"
   ]
  },
  {
   "cell_type": "code",
   "execution_count": 34,
   "id": "4d54610f-2f06-420b-af8c-2b5c68c6fb3d",
   "metadata": {},
   "outputs": [
    {
     "name": "stdout",
     "output_type": "stream",
     "text": [
      "x: 10\n",
      "y: 20\n",
      "z: 30\n",
      "a: 1\n"
     ]
    }
   ],
   "source": [
    "for i in d1:\n",
    "    print(i, d1[i], sep=': ')"
   ]
  },
  {
   "cell_type": "code",
   "execution_count": 41,
   "id": "a10507dd-24c1-4c09-ab4b-2a79161e623f",
   "metadata": {},
   "outputs": [
    {
     "name": "stdout",
     "output_type": "stream",
     "text": [
      "{'c': 7}\n"
     ]
    }
   ],
   "source": [
    "dict1 = {'a': 1, 'b': 2, 'c': 3}\n",
    "dict2 = {'c': 4, 'd': 5, 'e': 6}\n",
    "dict3 = {}\n",
    "\n",
    "for i in dict1:\n",
    "    if i in dict2:\n",
    "        dict3[i] = dict1[i] + dict2[i]\n",
    "        \n",
    "print(dict3)"
   ]
  },
  {
   "cell_type": "code",
   "execution_count": 43,
   "id": "3f4fc029-a26a-4a35-ae29-1d0d1c1f9120",
   "metadata": {},
   "outputs": [
    {
     "name": "stdout",
     "output_type": "stream",
     "text": [
      "{1: 2, '1': 2}\n"
     ]
    }
   ],
   "source": [
    "abc = {}\n",
    "abc[1] = 1\n",
    "abc['1'] = 2\n",
    "abc[1] = abc[1] + 1\n",
    "print(abc)"
   ]
  },
  {
   "cell_type": "code",
   "execution_count": null,
   "id": "b223100c-909a-4c82-bd71-c026e1ce2dbc",
   "metadata": {},
   "outputs": [],
   "source": []
  }
 ],
 "metadata": {
  "kernelspec": {
   "display_name": "Python 3 (ipykernel)",
   "language": "python",
   "name": "python3"
  },
  "language_info": {
   "codemirror_mode": {
    "name": "ipython",
    "version": 3
   },
   "file_extension": ".py",
   "mimetype": "text/x-python",
   "name": "python",
   "nbconvert_exporter": "python",
   "pygments_lexer": "ipython3",
   "version": "3.9.12"
  }
 },
 "nbformat": 4,
 "nbformat_minor": 5
}
