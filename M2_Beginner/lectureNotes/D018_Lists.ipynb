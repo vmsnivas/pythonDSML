{
 "cells": [
  {
   "cell_type": "markdown",
   "id": "92cd946b-9bb5-406f-aace-6a8181c652d3",
   "metadata": {},
   "source": [
    "## List []\n",
    "- A list is a data structure that holds an ordered collection of items i.e. you can store a sequence of items in a list.\n",
    "\n",
    "The list of items should be enclosed in square brackets so that Python understands that you are specifying a list. Once you have created a list, you can add, remove or search for items in the list. Since we can add and remove items, we say that a list is a mutable data type i.e. this type can be altered."
   ]
  },
  {
   "cell_type": "code",
   "execution_count": null,
   "id": "290737ed-3de2-4954-8ed0-00c4e399f4e7",
   "metadata": {},
   "outputs": [],
   "source": [
    "## Runs"
   ]
  },
  {
   "cell_type": "code",
   "execution_count": 32,
   "id": "470f5889-7275-4502-bcb0-6941f0c54b42",
   "metadata": {},
   "outputs": [],
   "source": [
    "runs = [100, 150, 99, 20, 99, 200, 99, 120]"
   ]
  },
  {
   "cell_type": "code",
   "execution_count": null,
   "id": "417bcb60-4c00-41f9-9a7b-e1f59ffd258f",
   "metadata": {},
   "outputs": [],
   "source": [
    "# type"
   ]
  },
  {
   "cell_type": "code",
   "execution_count": 3,
   "id": "6de2eed0-9b29-43b4-bc6d-2289d0275f07",
   "metadata": {},
   "outputs": [
    {
     "name": "stdout",
     "output_type": "stream",
     "text": [
      "[100, 150, 99, 20, 99, 200, 99, 120]\n"
     ]
    }
   ],
   "source": [
    "print(runs)"
   ]
  },
  {
   "cell_type": "code",
   "execution_count": 4,
   "id": "b891e4f4-47d9-4465-a0fe-d8a63bd772fe",
   "metadata": {},
   "outputs": [
    {
     "name": "stdout",
     "output_type": "stream",
     "text": [
      "<class 'list'>\n"
     ]
    }
   ],
   "source": [
    "print(type(runs))"
   ]
  },
  {
   "cell_type": "code",
   "execution_count": null,
   "id": "41c6efd4-4fef-4cb2-aedf-2c8608d48a41",
   "metadata": {},
   "outputs": [],
   "source": []
  },
  {
   "cell_type": "code",
   "execution_count": null,
   "id": "342d545d-6f4b-4add-8fe6-e20dcfaccf9e",
   "metadata": {},
   "outputs": [],
   "source": []
  },
  {
   "cell_type": "code",
   "execution_count": null,
   "id": "a7ec8519-e7a7-4cb8-981c-b7f75546eb7a",
   "metadata": {},
   "outputs": [],
   "source": [
    "# len function"
   ]
  },
  {
   "cell_type": "code",
   "execution_count": 5,
   "id": "8311ee76-2a25-4700-ba0a-86b7eda36171",
   "metadata": {},
   "outputs": [
    {
     "name": "stdout",
     "output_type": "stream",
     "text": [
      "8\n"
     ]
    }
   ],
   "source": [
    "print(len(runs))"
   ]
  },
  {
   "cell_type": "code",
   "execution_count": null,
   "id": "6c27083e-7032-40ff-a9cc-6740f14f0678",
   "metadata": {},
   "outputs": [],
   "source": []
  },
  {
   "cell_type": "code",
   "execution_count": null,
   "id": "54ab42c1-f68c-4df8-9263-9152fa318b99",
   "metadata": {},
   "outputs": [],
   "source": [
    "## Indexing in list: Like we used to have in our attendance register, roll no."
   ]
  },
  {
   "cell_type": "code",
   "execution_count": null,
   "id": "93e59c61-cc5d-47cf-8170-6b716921680c",
   "metadata": {},
   "outputs": [],
   "source": [
    "# quiz 2"
   ]
  },
  {
   "cell_type": "code",
   "execution_count": 6,
   "id": "b6c91836-f6d8-4722-8302-f460907d923b",
   "metadata": {},
   "outputs": [
    {
     "name": "stdout",
     "output_type": "stream",
     "text": [
      "[100, 150, 99, 20, 99, 200, 99, 120]\n"
     ]
    }
   ],
   "source": [
    "print(runs)"
   ]
  },
  {
   "cell_type": "code",
   "execution_count": 7,
   "id": "9def29b5-b2db-4ec8-95d7-c18764b48f01",
   "metadata": {},
   "outputs": [
    {
     "data": {
      "text/plain": [
       "100"
      ]
     },
     "execution_count": 7,
     "metadata": {},
     "output_type": "execute_result"
    }
   ],
   "source": [
    "runs[0]"
   ]
  },
  {
   "cell_type": "code",
   "execution_count": null,
   "id": "f194ef4c-0311-411e-a8b8-0d8879636d7c",
   "metadata": {},
   "outputs": [],
   "source": []
  },
  {
   "cell_type": "code",
   "execution_count": 8,
   "id": "e4852f07-8dbf-4a0b-b995-3742b07e3564",
   "metadata": {},
   "outputs": [
    {
     "name": "stdout",
     "output_type": "stream",
     "text": [
      "-2\n"
     ]
    }
   ],
   "source": [
    "l = [5, 1, -2, 2, 3, 4]\n",
    "print(l[2])"
   ]
  },
  {
   "cell_type": "code",
   "execution_count": 11,
   "id": "9119fca2-ace9-40ae-91af-533259de17d6",
   "metadata": {},
   "outputs": [
    {
     "name": "stdout",
     "output_type": "stream",
     "text": [
      "6\n"
     ]
    }
   ],
   "source": [
    "print(len(l))"
   ]
  },
  {
   "cell_type": "code",
   "execution_count": 12,
   "id": "a7243d90-4ec8-4395-a626-204c75d08657",
   "metadata": {},
   "outputs": [
    {
     "name": "stdout",
     "output_type": "stream",
     "text": [
      "4\n"
     ]
    }
   ],
   "source": [
    "print(l[5])"
   ]
  },
  {
   "cell_type": "code",
   "execution_count": 13,
   "id": "e2b105b7-7287-4949-89c1-90eb5a93488c",
   "metadata": {},
   "outputs": [
    {
     "data": {
      "text/plain": [
       "[5, 1, -2, 2, 3, 4]"
      ]
     },
     "execution_count": 13,
     "metadata": {},
     "output_type": "execute_result"
    }
   ],
   "source": [
    "l"
   ]
  },
  {
   "cell_type": "code",
   "execution_count": null,
   "id": "af4809f6-0928-4e2b-b727-aa00ef3b43bb",
   "metadata": {},
   "outputs": [],
   "source": []
  },
  {
   "cell_type": "code",
   "execution_count": null,
   "id": "bbe8d6d7-afe4-4cab-b7d0-32b58f3d1eba",
   "metadata": {},
   "outputs": [],
   "source": []
  },
  {
   "cell_type": "code",
   "execution_count": null,
   "id": "ac8f6f78-bf3c-4b69-917e-01b1e59e19be",
   "metadata": {},
   "outputs": [],
   "source": [
    "## Negative indexing: Topper from bottom :)"
   ]
  },
  {
   "cell_type": "code",
   "execution_count": null,
   "id": "ec020f3f-cc3a-4828-a5ec-6a421c11e16d",
   "metadata": {},
   "outputs": [],
   "source": [
    "# quiz"
   ]
  },
  {
   "cell_type": "code",
   "execution_count": 14,
   "id": "162610d1-d19e-4506-8583-bd2390f11954",
   "metadata": {},
   "outputs": [
    {
     "data": {
      "text/plain": [
       "[100, 150, 99, 20, 99, 200, 99, 120]"
      ]
     },
     "execution_count": 14,
     "metadata": {},
     "output_type": "execute_result"
    }
   ],
   "source": [
    "runs"
   ]
  },
  {
   "cell_type": "code",
   "execution_count": 17,
   "id": "3b65ea91-ff37-444f-b39b-e7f2657b55f1",
   "metadata": {},
   "outputs": [
    {
     "name": "stdout",
     "output_type": "stream",
     "text": [
      "120\n"
     ]
    }
   ],
   "source": [
    "print(runs[-1])"
   ]
  },
  {
   "cell_type": "code",
   "execution_count": 19,
   "id": "cd84e103-55de-49c8-8e26-2ff9cbe94bbe",
   "metadata": {},
   "outputs": [
    {
     "name": "stdout",
     "output_type": "stream",
     "text": [
      "31\n"
     ]
    }
   ],
   "source": [
    "runs = [10, 55, 4, 67, 17]\n",
    "print(runs[0] + runs[-1] + runs[-3])"
   ]
  },
  {
   "cell_type": "code",
   "execution_count": 20,
   "id": "f64c6a1d-0c12-4915-9c2d-d368da42a745",
   "metadata": {},
   "outputs": [
    {
     "name": "stdout",
     "output_type": "stream",
     "text": [
      "10\n",
      "17\n",
      "4\n"
     ]
    }
   ],
   "source": [
    "print(runs[0])\n",
    "print(runs[-1])\n",
    "print(runs[-3])"
   ]
  },
  {
   "cell_type": "code",
   "execution_count": null,
   "id": "6dbf5ee7-2822-40a9-be85-568a2e368d90",
   "metadata": {},
   "outputs": [],
   "source": []
  },
  {
   "cell_type": "code",
   "execution_count": null,
   "id": "5f3c8bec-6882-428a-85ed-92d05b8206ca",
   "metadata": {},
   "outputs": [],
   "source": []
  },
  {
   "cell_type": "code",
   "execution_count": null,
   "id": "3003607c-206e-4110-be78-f9287422c563",
   "metadata": {},
   "outputs": [],
   "source": [
    "## Let Sachin play another match: append"
   ]
  },
  {
   "cell_type": "code",
   "execution_count": null,
   "id": "1ac87144-d16b-4a8d-928e-0be70a468763",
   "metadata": {},
   "outputs": [],
   "source": [
    "# quiz"
   ]
  },
  {
   "cell_type": "code",
   "execution_count": 22,
   "id": "f2f04b27-73c4-46af-9e66-1e5d944471dd",
   "metadata": {},
   "outputs": [
    {
     "data": {
      "text/plain": [
       "[100, 150, 99, 20, 99, 200, 99, 120]"
      ]
     },
     "execution_count": 22,
     "metadata": {},
     "output_type": "execute_result"
    }
   ],
   "source": [
    "runs"
   ]
  },
  {
   "cell_type": "code",
   "execution_count": 23,
   "id": "1b4eb1af-ee88-4779-8733-352123d28c11",
   "metadata": {},
   "outputs": [
    {
     "name": "stdout",
     "output_type": "stream",
     "text": [
      "[100, 150, 99, 20, 99, 200, 99, 120, 250]\n"
     ]
    }
   ],
   "source": [
    "centurian = 250\n",
    "runs.append(centurian)\n",
    "print(runs)"
   ]
  },
  {
   "cell_type": "code",
   "execution_count": null,
   "id": "64446d2a-6bfc-43d2-9427-d01c9990dafa",
   "metadata": {},
   "outputs": [],
   "source": []
  },
  {
   "cell_type": "code",
   "execution_count": 24,
   "id": "3ddcc274-ee31-4db7-9496-d49cadb95d01",
   "metadata": {},
   "outputs": [],
   "source": [
    "# quiz"
   ]
  },
  {
   "cell_type": "code",
   "execution_count": 25,
   "id": "e8596c08-c1ca-4d82-99a1-412504c869bc",
   "metadata": {},
   "outputs": [
    {
     "name": "stdout",
     "output_type": "stream",
     "text": [
      "204\n"
     ]
    }
   ],
   "source": [
    "runs = [10, 55, 4, 67, 17]\n",
    "runs.append(6)\n",
    "runs.append(200)\n",
    "print(runs[-1] + runs[2])"
   ]
  },
  {
   "cell_type": "code",
   "execution_count": null,
   "id": "2096fb10-c1a6-4567-a0b8-bd21138755d4",
   "metadata": {},
   "outputs": [],
   "source": []
  },
  {
   "cell_type": "code",
   "execution_count": 29,
   "id": "9c23fe14-0daa-4fa5-b3e1-a088fe8a31a5",
   "metadata": {},
   "outputs": [
    {
     "name": "stdout",
     "output_type": "stream",
     "text": [
      "abc\n"
     ]
    }
   ],
   "source": [
    "print(\"abc\")"
   ]
  },
  {
   "cell_type": "code",
   "execution_count": 30,
   "id": "3722d5f8-8073-44a0-928b-6eb79f1dbd15",
   "metadata": {},
   "outputs": [
    {
     "name": "stdout",
     "output_type": "stream",
     "text": [
      "[10, 55, 4, 67, 17, 6, 200]\n"
     ]
    }
   ],
   "source": [
    "print(runs)"
   ]
  },
  {
   "cell_type": "code",
   "execution_count": null,
   "id": "ee583118-56a4-4df4-b639-5780adbf6888",
   "metadata": {},
   "outputs": [],
   "source": []
  },
  {
   "cell_type": "code",
   "execution_count": null,
   "id": "303e0edb-3e5d-47d3-9262-1898f24c324c",
   "metadata": {},
   "outputs": [],
   "source": []
  },
  {
   "cell_type": "code",
   "execution_count": null,
   "id": "eb1c4120-0a43-4628-980c-b6df14b5a435",
   "metadata": {},
   "outputs": [],
   "source": [
    "## Insert at index: runs.insert(index, value)"
   ]
  },
  {
   "cell_type": "code",
   "execution_count": null,
   "id": "75e235ec-abb8-460e-b014-69fe3f752633",
   "metadata": {},
   "outputs": [],
   "source": [
    "# Quiz"
   ]
  },
  {
   "cell_type": "code",
   "execution_count": 33,
   "id": "85fbc4be-bc81-443f-a87a-d76b6c01194d",
   "metadata": {},
   "outputs": [],
   "source": [
    "runs = [100, 150, 99, 20, 99, 200, 99, 120]"
   ]
  },
  {
   "cell_type": "code",
   "execution_count": 34,
   "id": "566e78bf-feba-4e9e-b6f2-8e65f78ef8d5",
   "metadata": {},
   "outputs": [],
   "source": [
    "runs.insert(1, 99)"
   ]
  },
  {
   "cell_type": "code",
   "execution_count": 35,
   "id": "d12168b0-fde9-4596-a351-34e492d4c55f",
   "metadata": {},
   "outputs": [
    {
     "name": "stdout",
     "output_type": "stream",
     "text": [
      "[100, 99, 150, 99, 20, 99, 200, 99, 120]\n"
     ]
    }
   ],
   "source": [
    "print(runs)"
   ]
  },
  {
   "cell_type": "code",
   "execution_count": null,
   "id": "7d9e4d8e-0360-4751-bda8-3f3f27591d81",
   "metadata": {},
   "outputs": [],
   "source": []
  },
  {
   "cell_type": "code",
   "execution_count": 37,
   "id": "d8daccb4-6db1-4dc2-be29-b0ba6fa14d47",
   "metadata": {},
   "outputs": [
    {
     "name": "stdout",
     "output_type": "stream",
     "text": [
      "[1, 2, 3, 3, 5, 10, 6, 7, 5]\n"
     ]
    }
   ],
   "source": [
    "l = [1, 2, 3, 3, 5, 6, 7, 5]\n",
    "l.insert(5, 10)\n",
    "print(l)"
   ]
  },
  {
   "cell_type": "code",
   "execution_count": null,
   "id": "30e76616-98ca-4a1e-ae71-754d8746ba18",
   "metadata": {},
   "outputs": [],
   "source": []
  },
  {
   "cell_type": "code",
   "execution_count": null,
   "id": "39b15663-4180-485d-99b4-e93df65ca5c1",
   "metadata": {},
   "outputs": [],
   "source": []
  },
  {
   "cell_type": "markdown",
   "id": "5dfa0957-2b4c-4f6d-a5c9-0eebb7f94515",
   "metadata": {},
   "source": [
    "### Iterating a list"
   ]
  },
  {
   "cell_type": "code",
   "execution_count": 38,
   "id": "53a5ea5d-08a0-4212-8fe0-4f9bad11e4b2",
   "metadata": {},
   "outputs": [
    {
     "name": "stdout",
     "output_type": "stream",
     "text": [
      "0\n",
      "1\n",
      "2\n",
      "3\n",
      "4\n"
     ]
    }
   ],
   "source": [
    "for i in range(5):\n",
    "    print(i)"
   ]
  },
  {
   "cell_type": "code",
   "execution_count": 40,
   "id": "18ad5ead-55ac-4195-985a-ee943528282c",
   "metadata": {},
   "outputs": [
    {
     "data": {
      "text/plain": [
       "[100, 99, 150, 99, 20, 99, 200, 99, 120]"
      ]
     },
     "execution_count": 40,
     "metadata": {},
     "output_type": "execute_result"
    }
   ],
   "source": [
    "runs"
   ]
  },
  {
   "cell_type": "code",
   "execution_count": null,
   "id": "8cb72677-5511-412e-8aae-3669fd84cbb9",
   "metadata": {},
   "outputs": [],
   "source": [
    "# 5 1 2 3 4 5"
   ]
  },
  {
   "cell_type": "code",
   "execution_count": null,
   "id": "ceb99096-7343-4eef-a786-d18a3310b11d",
   "metadata": {},
   "outputs": [],
   "source": [
    "l = input().split()"
   ]
  },
  {
   "cell_type": "code",
   "execution_count": null,
   "id": "dabd88f0-6036-4d68-a142-135e0b0aa9fc",
   "metadata": {},
   "outputs": [],
   "source": [
    "print(type(l))"
   ]
  },
  {
   "cell_type": "code",
   "execution_count": null,
   "id": "60ce5825-ce8d-495c-9abd-f36fa3ffbf6d",
   "metadata": {},
   "outputs": [],
   "source": [
    "print(l)"
   ]
  },
  {
   "cell_type": "code",
   "execution_count": null,
   "id": "21ad0de8-8887-41bb-b7a1-2b0e700630a2",
   "metadata": {},
   "outputs": [],
   "source": [
    "print(type(l[0]))"
   ]
  },
  {
   "cell_type": "code",
   "execution_count": null,
   "id": "62a630f8-d5f5-4cd1-80e3-01612ada598d",
   "metadata": {},
   "outputs": [],
   "source": [
    "l = list(map(int, input().split()))\n",
    "l.pop(0)"
   ]
  },
  {
   "cell_type": "code",
   "execution_count": null,
   "id": "6a78fecf-b4c0-447f-bcc1-51bc7a9805aa",
   "metadata": {},
   "outputs": [],
   "source": [
    "print(type(l))\n",
    "print(l)\n",
    "print(type(l[0]))"
   ]
  },
  {
   "cell_type": "code",
   "execution_count": null,
   "id": "e63d5874-b768-4609-9d76-17871e3d8b15",
   "metadata": {},
   "outputs": [],
   "source": [
    "print(l)"
   ]
  },
  {
   "cell_type": "code",
   "execution_count": null,
   "id": "c89a0917-ffc2-4687-a635-f6b1492b4692",
   "metadata": {},
   "outputs": [],
   "source": []
  },
  {
   "cell_type": "code",
   "execution_count": null,
   "id": "bd20f388-b9a1-4875-a0a2-48ea5a4c86a7",
   "metadata": {},
   "outputs": [],
   "source": [
    "m = map(int, input().split())"
   ]
  },
  {
   "cell_type": "code",
   "execution_count": null,
   "id": "cf2275d5-b505-4374-842f-7d5e00fab35c",
   "metadata": {},
   "outputs": [],
   "source": [
    "print(m)"
   ]
  },
  {
   "cell_type": "code",
   "execution_count": null,
   "id": "c130aadf-133a-4b10-9a84-307957892934",
   "metadata": {},
   "outputs": [],
   "source": [
    "# A1, A2,.... An"
   ]
  },
  {
   "cell_type": "code",
   "execution_count": null,
   "id": "c365a29a-61ce-4b5a-b510-ea8202045a6e",
   "metadata": {},
   "outputs": [],
   "source": [
    "l = list(map(int, input().split()))"
   ]
  },
  {
   "cell_type": "code",
   "execution_count": null,
   "id": "1eca58a9-0d4d-4c7f-bf58-4a01b8fdf1f8",
   "metadata": {},
   "outputs": [],
   "source": [
    "print(l)"
   ]
  },
  {
   "cell_type": "code",
   "execution_count": null,
   "id": "3fbd92ad-cd19-42d6-b82c-e2f05011d2c0",
   "metadata": {},
   "outputs": [],
   "source": [
    "def square(x):\n",
    "    return x * x"
   ]
  },
  {
   "cell_type": "code",
   "execution_count": null,
   "id": "92fd8dbe-eaa4-4360-a09f-43b952c1b59d",
   "metadata": {},
   "outputs": [],
   "source": [
    "l = [1, 2, 3, 4]"
   ]
  },
  {
   "cell_type": "code",
   "execution_count": null,
   "id": "a7d25c29-b592-4e44-bc83-621103cce64e",
   "metadata": {},
   "outputs": [],
   "source": [
    "l = list(map(square, l))"
   ]
  },
  {
   "cell_type": "code",
   "execution_count": null,
   "id": "17064af5-f6fe-40cc-bbbc-8865cf10eafc",
   "metadata": {},
   "outputs": [],
   "source": [
    "print(l)"
   ]
  },
  {
   "cell_type": "code",
   "execution_count": null,
   "id": "8f0fa369-4a9d-4dab-a545-bcf65086d759",
   "metadata": {},
   "outputs": [],
   "source": []
  },
  {
   "cell_type": "code",
   "execution_count": null,
   "id": "27fba65e-94c3-47c9-a2ef-ae74d9f1ca11",
   "metadata": {},
   "outputs": [],
   "source": [
    "l = [1, 2, 3]\n",
    "l1 = [4, 5, 6]"
   ]
  },
  {
   "cell_type": "code",
   "execution_count": null,
   "id": "0ef88e13-abb7-4f77-a9df-527e65b696e7",
   "metadata": {},
   "outputs": [],
   "source": [
    "l * 2"
   ]
  },
  {
   "cell_type": "code",
   "execution_count": null,
   "id": "f3490e83-e4ad-4af1-87f1-94e9d9c4501b",
   "metadata": {},
   "outputs": [],
   "source": []
  },
  {
   "cell_type": "code",
   "execution_count": null,
   "id": "35eb9950-2f5d-43ca-a87b-2ccf598caa0d",
   "metadata": {},
   "outputs": [],
   "source": []
  },
  {
   "cell_type": "code",
   "execution_count": null,
   "id": "02da7d3d-07cc-4825-a305-107bbd58188c",
   "metadata": {},
   "outputs": [],
   "source": []
  },
  {
   "cell_type": "code",
   "execution_count": null,
   "id": "30d89048-374e-4947-8d95-9b7ec47a0fb9",
   "metadata": {},
   "outputs": [],
   "source": []
  },
  {
   "cell_type": "code",
   "execution_count": 41,
   "id": "fe2c9109-975c-43de-afcb-578fdaf2dc0b",
   "metadata": {},
   "outputs": [],
   "source": [
    "# Lists are iterable as well"
   ]
  },
  {
   "cell_type": "code",
   "execution_count": 43,
   "id": "aae7da30-f156-4b3b-bacd-0c359c03f579",
   "metadata": {},
   "outputs": [
    {
     "name": "stdout",
     "output_type": "stream",
     "text": [
      "100 99 150 99 20 99 200 99 120 "
     ]
    }
   ],
   "source": [
    "for i in runs:\n",
    "    print(i, end=\" \")"
   ]
  },
  {
   "cell_type": "code",
   "execution_count": null,
   "id": "ad4847b7-5e0f-4728-8ae6-420e3aacd431",
   "metadata": {},
   "outputs": [],
   "source": []
  },
  {
   "cell_type": "code",
   "execution_count": 45,
   "id": "300ab507-57d5-4f3a-802a-fc3881a7cf60",
   "metadata": {},
   "outputs": [],
   "source": [
    "# Iteration protocol"
   ]
  },
  {
   "cell_type": "code",
   "execution_count": 46,
   "id": "ad505177-11d7-4dfc-97e3-b54de882f3d1",
   "metadata": {},
   "outputs": [],
   "source": [
    "l = [3, 4, 5, 6]"
   ]
  },
  {
   "cell_type": "code",
   "execution_count": 48,
   "id": "d5c417c4-c480-43b5-a171-684ff6c8ae79",
   "metadata": {},
   "outputs": [],
   "source": [
    "x = iter(l)"
   ]
  },
  {
   "cell_type": "code",
   "execution_count": 50,
   "id": "8f315ae8-eebd-4b41-84d7-1afd91e18d10",
   "metadata": {},
   "outputs": [
    {
     "name": "stdout",
     "output_type": "stream",
     "text": [
      "3\n"
     ]
    }
   ],
   "source": [
    "print(next(x))"
   ]
  },
  {
   "cell_type": "code",
   "execution_count": 51,
   "id": "25df9b84-72d4-4d94-a84e-052b5fb0a183",
   "metadata": {},
   "outputs": [
    {
     "name": "stdout",
     "output_type": "stream",
     "text": [
      "4\n"
     ]
    }
   ],
   "source": [
    "print(next(x))"
   ]
  },
  {
   "cell_type": "code",
   "execution_count": 52,
   "id": "e94e027f-05d2-430a-8930-ee23c82afc79",
   "metadata": {},
   "outputs": [
    {
     "name": "stdout",
     "output_type": "stream",
     "text": [
      "5\n"
     ]
    }
   ],
   "source": [
    "print(next(x))"
   ]
  },
  {
   "cell_type": "code",
   "execution_count": 53,
   "id": "c2084e04-f309-4f4f-8613-abf36a933342",
   "metadata": {},
   "outputs": [
    {
     "name": "stdout",
     "output_type": "stream",
     "text": [
      "6\n"
     ]
    }
   ],
   "source": [
    "print(next(x))"
   ]
  },
  {
   "cell_type": "code",
   "execution_count": 54,
   "id": "7654d20f-7a65-4613-8e3b-689c0a413b04",
   "metadata": {},
   "outputs": [
    {
     "ename": "StopIteration",
     "evalue": "",
     "output_type": "error",
     "traceback": [
      "\u001b[0;31m---------------------------------------------------------------------------\u001b[0m",
      "\u001b[0;31mStopIteration\u001b[0m                             Traceback (most recent call last)",
      "\u001b[0;32m/var/folders/zn/hkv6562d6_d30glfs8yc76900000gn/T/ipykernel_10208/3267691084.py\u001b[0m in \u001b[0;36m<module>\u001b[0;34m\u001b[0m\n\u001b[0;32m----> 1\u001b[0;31m \u001b[0mprint\u001b[0m\u001b[0;34m(\u001b[0m\u001b[0mnext\u001b[0m\u001b[0;34m(\u001b[0m\u001b[0mx\u001b[0m\u001b[0;34m)\u001b[0m\u001b[0;34m)\u001b[0m\u001b[0;34m\u001b[0m\u001b[0;34m\u001b[0m\u001b[0m\n\u001b[0m",
      "\u001b[0;31mStopIteration\u001b[0m: "
     ]
    }
   ],
   "source": [
    "print(next(x))"
   ]
  },
  {
   "cell_type": "code",
   "execution_count": null,
   "id": "c5a3ae53-25e5-4dc1-af5e-78d843037f04",
   "metadata": {},
   "outputs": [],
   "source": []
  },
  {
   "cell_type": "code",
   "execution_count": null,
   "id": "77651bd4-e1cf-4a8a-804f-6f50441965d0",
   "metadata": {},
   "outputs": [],
   "source": []
  },
  {
   "cell_type": "code",
   "execution_count": null,
   "id": "5eba39d4-1967-4de4-9df1-8512353e92ee",
   "metadata": {},
   "outputs": [],
   "source": []
  },
  {
   "cell_type": "code",
   "execution_count": null,
   "id": "462c4d6e-f148-40f0-b183-385c8797c45f",
   "metadata": {},
   "outputs": [],
   "source": [
    "# Total runs scored by Sachin in his career"
   ]
  },
  {
   "cell_type": "code",
   "execution_count": null,
   "id": "4c005dd4-f9ec-4573-be62-0846342cd471",
   "metadata": {},
   "outputs": [],
   "source": [
    "# quiz"
   ]
  },
  {
   "cell_type": "code",
   "execution_count": null,
   "id": "370fad40-2a2d-41ea-a744-13689194de1e",
   "metadata": {},
   "outputs": [],
   "source": [
    "# Sum"
   ]
  },
  {
   "cell_type": "code",
   "execution_count": 55,
   "id": "6f35249d-0cea-4987-a7d4-30545b6ea77a",
   "metadata": {},
   "outputs": [
    {
     "name": "stdout",
     "output_type": "stream",
     "text": [
      "[100, 99, 150, 99, 20, 99, 200, 99, 120]\n"
     ]
    }
   ],
   "source": [
    "print(runs)"
   ]
  },
  {
   "cell_type": "code",
   "execution_count": 58,
   "id": "99ed78a7-ce3a-4aa7-a5f5-e4561e78a9bb",
   "metadata": {},
   "outputs": [
    {
     "name": "stdout",
     "output_type": "stream",
     "text": [
      "986\n"
     ]
    }
   ],
   "source": [
    "total = 0\n",
    "for i in runs:\n",
    "    total += i\n",
    "print(total)"
   ]
  },
  {
   "cell_type": "code",
   "execution_count": 59,
   "id": "2d38d113-5f46-4dd4-aa8f-1ee4275603c5",
   "metadata": {},
   "outputs": [
    {
     "name": "stdout",
     "output_type": "stream",
     "text": [
      "986\n"
     ]
    }
   ],
   "source": [
    "print(sum(runs))"
   ]
  },
  {
   "cell_type": "code",
   "execution_count": null,
   "id": "3e3b5086-af7b-4f1e-805f-f47957800657",
   "metadata": {},
   "outputs": [],
   "source": []
  },
  {
   "cell_type": "code",
   "execution_count": null,
   "id": "c28680de-4150-410c-9eff-03d8bffabff5",
   "metadata": {},
   "outputs": [],
   "source": []
  },
  {
   "cell_type": "code",
   "execution_count": null,
   "id": "e657f436-90c9-40b6-a2e6-6599709be673",
   "metadata": {},
   "outputs": [],
   "source": [
    "#### Iterating a list using ranges"
   ]
  },
  {
   "cell_type": "code",
   "execution_count": 62,
   "id": "d7a74347-d00d-42c9-be3f-a2f6c4d86a45",
   "metadata": {},
   "outputs": [],
   "source": [
    "runs = [1, 2, 3, 4, 5]"
   ]
  },
  {
   "cell_type": "code",
   "execution_count": 63,
   "id": "767653d3-a9a5-4449-ab36-9e51303d6118",
   "metadata": {},
   "outputs": [
    {
     "name": "stdout",
     "output_type": "stream",
     "text": [
      "6\n"
     ]
    }
   ],
   "source": [
    "total = 0\n",
    "for i in runs:\n",
    "    if i % 2 == 0:\n",
    "        total += i\n",
    "print(total)"
   ]
  },
  {
   "cell_type": "code",
   "execution_count": 66,
   "id": "fa269569-44f0-42b6-b290-90e0c258deed",
   "metadata": {},
   "outputs": [
    {
     "name": "stdout",
     "output_type": "stream",
     "text": [
      "1 2 3 4 5 "
     ]
    }
   ],
   "source": [
    "for i in runs:\n",
    "    print(i, end=\" \")"
   ]
  },
  {
   "cell_type": "code",
   "execution_count": 67,
   "id": "305e10e3-1205-4b5c-b80a-ea7d2e07d1c0",
   "metadata": {},
   "outputs": [
    {
     "data": {
      "text/plain": [
       "[1, 2, 3, 4, 5]"
      ]
     },
     "execution_count": 67,
     "metadata": {},
     "output_type": "execute_result"
    }
   ],
   "source": [
    "runs"
   ]
  },
  {
   "cell_type": "code",
   "execution_count": 70,
   "id": "08d02506-9a19-4505-bec7-ff6d832eaf1b",
   "metadata": {},
   "outputs": [],
   "source": [
    "# Iterating a list using ranges"
   ]
  },
  {
   "cell_type": "code",
   "execution_count": 71,
   "id": "750d1805-b28c-4ff8-bf17-c6a370ba1511",
   "metadata": {},
   "outputs": [
    {
     "data": {
      "text/plain": [
       "[1, 2, 3, 4, 5]"
      ]
     },
     "execution_count": 71,
     "metadata": {},
     "output_type": "execute_result"
    }
   ],
   "source": [
    "runs"
   ]
  },
  {
   "cell_type": "code",
   "execution_count": 72,
   "id": "16aa6060-1d0e-4693-98cd-1d26db5094f1",
   "metadata": {},
   "outputs": [
    {
     "data": {
      "text/plain": [
       "5"
      ]
     },
     "execution_count": 72,
     "metadata": {},
     "output_type": "execute_result"
    }
   ],
   "source": [
    "len(runs)"
   ]
  },
  {
   "cell_type": "code",
   "execution_count": 75,
   "id": "73eff90d-9398-4d61-a59e-4caf6e61098d",
   "metadata": {},
   "outputs": [],
   "source": [
    "# Here i is index of our list"
   ]
  },
  {
   "cell_type": "code",
   "execution_count": 74,
   "id": "561b63b5-a518-40fa-b1bd-e1a41f7304c5",
   "metadata": {},
   "outputs": [
    {
     "name": "stdout",
     "output_type": "stream",
     "text": [
      "1 2 3 4 5 "
     ]
    }
   ],
   "source": [
    "for i in range(5):\n",
    "    print(runs[i], end=' ')"
   ]
  },
  {
   "cell_type": "code",
   "execution_count": 77,
   "id": "33eda6bb-10ff-4774-9cb9-d6c63d63b3b3",
   "metadata": {},
   "outputs": [
    {
     "name": "stdout",
     "output_type": "stream",
     "text": [
      "1\n",
      "3\n",
      "5\n"
     ]
    }
   ],
   "source": [
    "for i in range(len(runs)):\n",
    "    if i % 2 == 0:\n",
    "        print(runs[i])"
   ]
  },
  {
   "cell_type": "code",
   "execution_count": 80,
   "id": "bee6814f-079f-4de8-8a88-287dcd21ac85",
   "metadata": {},
   "outputs": [
    {
     "data": {
      "text/plain": [
       "[1, 2, 3, 4, 5]"
      ]
     },
     "execution_count": 80,
     "metadata": {},
     "output_type": "execute_result"
    }
   ],
   "source": [
    "runs"
   ]
  },
  {
   "cell_type": "code",
   "execution_count": 79,
   "id": "e6944ba4-fa75-47ff-9847-bd69ff49819b",
   "metadata": {},
   "outputs": [
    {
     "name": "stdout",
     "output_type": "stream",
     "text": [
      "9\n"
     ]
    }
   ],
   "source": [
    "total_even = 0\n",
    "for i in range(len(runs)):\n",
    "    if i % 2 == 0:\n",
    "        total_even += runs[i]\n",
    "print(total_even)"
   ]
  },
  {
   "cell_type": "code",
   "execution_count": 83,
   "id": "a5079d36-0e80-42ed-b6ac-af9133237e80",
   "metadata": {},
   "outputs": [
    {
     "name": "stdout",
     "output_type": "stream",
     "text": [
      "9\n"
     ]
    }
   ],
   "source": [
    "total = 0\n",
    "for i in range(0, len(runs), 2):\n",
    "    total += runs[i]\n",
    "print(total)"
   ]
  },
  {
   "cell_type": "code",
   "execution_count": null,
   "id": "17b7a29a-d485-48a0-a237-6a2170800732",
   "metadata": {},
   "outputs": [],
   "source": []
  },
  {
   "cell_type": "code",
   "execution_count": 90,
   "id": "528bc1de-7bb2-4aef-87e9-68e4ae0b296d",
   "metadata": {},
   "outputs": [],
   "source": [
    "# Doubts"
   ]
  },
  {
   "cell_type": "code",
   "execution_count": 87,
   "id": "e2a2eea8-d621-488f-b619-af71e56fd8c2",
   "metadata": {},
   "outputs": [
    {
     "data": {
      "text/plain": [
       "[1, 2, 3, 4, 5]"
      ]
     },
     "execution_count": 87,
     "metadata": {},
     "output_type": "execute_result"
    }
   ],
   "source": [
    "runs"
   ]
  },
  {
   "cell_type": "code",
   "execution_count": 88,
   "id": "e72df951-14c8-4d75-ac06-b5ab9b7735a7",
   "metadata": {},
   "outputs": [
    {
     "data": {
      "text/plain": [
       "5"
      ]
     },
     "execution_count": 88,
     "metadata": {},
     "output_type": "execute_result"
    }
   ],
   "source": [
    "runs[-1]"
   ]
  },
  {
   "cell_type": "code",
   "execution_count": 89,
   "id": "feac8fd4-f99d-42e1-83cc-5086784afae7",
   "metadata": {},
   "outputs": [
    {
     "ename": "TypeError",
     "evalue": "'list' object is not callable",
     "output_type": "error",
     "traceback": [
      "\u001b[0;31m---------------------------------------------------------------------------\u001b[0m",
      "\u001b[0;31mTypeError\u001b[0m                                 Traceback (most recent call last)",
      "\u001b[0;32m/var/folders/zn/hkv6562d6_d30glfs8yc76900000gn/T/ipykernel_10208/3740536810.py\u001b[0m in \u001b[0;36m<module>\u001b[0;34m\u001b[0m\n\u001b[0;32m----> 1\u001b[0;31m \u001b[0mruns\u001b[0m\u001b[0;34m(\u001b[0m\u001b[0;34m-\u001b[0m\u001b[0;36m1\u001b[0m\u001b[0;34m)\u001b[0m\u001b[0;34m\u001b[0m\u001b[0;34m\u001b[0m\u001b[0m\n\u001b[0m",
      "\u001b[0;31mTypeError\u001b[0m: 'list' object is not callable"
     ]
    }
   ],
   "source": [
    "runs(-1)"
   ]
  },
  {
   "cell_type": "code",
   "execution_count": 91,
   "id": "fb879e2f-8e8b-4691-aa5f-6a008bb6c054",
   "metadata": {},
   "outputs": [
    {
     "data": {
      "text/plain": [
       "[1, 2, 3, 4, 5]"
      ]
     },
     "execution_count": 91,
     "metadata": {},
     "output_type": "execute_result"
    }
   ],
   "source": [
    "runs"
   ]
  },
  {
   "cell_type": "code",
   "execution_count": 92,
   "id": "627b93b7-9cc7-474f-bcce-f32fdcbcab82",
   "metadata": {},
   "outputs": [
    {
     "name": "stdout",
     "output_type": "stream",
     "text": [
      "1 2 3 4 5 "
     ]
    }
   ],
   "source": [
    "for i in runs:\n",
    "    print(i, end=\" \")"
   ]
  },
  {
   "cell_type": "code",
   "execution_count": 93,
   "id": "ab1c42a4-26ed-4a77-a045-35f8e8861014",
   "metadata": {},
   "outputs": [
    {
     "name": "stdout",
     "output_type": "stream",
     "text": [
      "0 1 2 3 4 "
     ]
    }
   ],
   "source": [
    "for i in range(len(runs)):\n",
    "    print(i, end=\" \")"
   ]
  },
  {
   "cell_type": "code",
   "execution_count": 95,
   "id": "8c087722-328d-40a5-9964-e036533a0396",
   "metadata": {},
   "outputs": [
    {
     "data": {
      "text/plain": [
       "3"
      ]
     },
     "execution_count": 95,
     "metadata": {},
     "output_type": "execute_result"
    }
   ],
   "source": [
    "round(3.4)"
   ]
  },
  {
   "cell_type": "code",
   "execution_count": 96,
   "id": "eaaa14b1-1e26-41d3-a5e9-df09cc0db19d",
   "metadata": {},
   "outputs": [
    {
     "data": {
      "text/plain": [
       "4"
      ]
     },
     "execution_count": 96,
     "metadata": {},
     "output_type": "execute_result"
    }
   ],
   "source": [
    "round(3.6)"
   ]
  },
  {
   "cell_type": "code",
   "execution_count": 97,
   "id": "450f8dee-aec5-4402-ba42-67af59c44652",
   "metadata": {},
   "outputs": [
    {
     "data": {
      "text/plain": [
       "4"
      ]
     },
     "execution_count": 97,
     "metadata": {},
     "output_type": "execute_result"
    }
   ],
   "source": [
    "round(3.5)"
   ]
  },
  {
   "cell_type": "code",
   "execution_count": null,
   "id": "8c05fb8e-3cc0-46b3-8ed8-a3e21e577bd9",
   "metadata": {},
   "outputs": [],
   "source": []
  },
  {
   "cell_type": "code",
   "execution_count": null,
   "id": "a89ca61e-6f95-4f6e-8690-d3391dda951a",
   "metadata": {},
   "outputs": [],
   "source": []
  },
  {
   "cell_type": "code",
   "execution_count": null,
   "id": "030fa9db-4fea-44d2-93d5-d22c23735cf7",
   "metadata": {},
   "outputs": [],
   "source": []
  }
 ],
 "metadata": {
  "kernelspec": {
   "display_name": "Python 3 (ipykernel)",
   "language": "python",
   "name": "python3"
  },
  "language_info": {
   "codemirror_mode": {
    "name": "ipython",
    "version": 3
   },
   "file_extension": ".py",
   "mimetype": "text/x-python",
   "name": "python",
   "nbconvert_exporter": "python",
   "pygments_lexer": "ipython3",
   "version": "3.9.7"
  }
 },
 "nbformat": 4,
 "nbformat_minor": 5
}
