{
 "cells": [
  {
   "cell_type": "markdown",
   "id": "694bda23-c9a2-4139-b627-9ea1ad4e69e0",
   "metadata": {},
   "source": [
    "## Defining a function"
   ]
  },
  {
   "cell_type": "code",
   "execution_count": 9,
   "id": "ff1599b8-755f-406f-a18f-748072756553",
   "metadata": {},
   "outputs": [
    {
     "name": "stdout",
     "output_type": "stream",
     "text": [
      "Peel off the bananas\n",
      "Add some milk to it\n",
      "Add some sugar\n",
      "Add some dry fruits\n",
      "Top up with ice cream\n"
     ]
    }
   ],
   "source": [
    "print(\"Peel off the bananas\")\n",
    "print(\"Add some milk to it\")\n",
    "print(\"Add some sugar\")\n",
    "print(\"Add some dry fruits\")\n",
    "print(\"Top up with ice cream\")"
   ]
  },
  {
   "cell_type": "code",
   "execution_count": 10,
   "id": "8088c5cd-907c-410f-b828-9b4b8aea578d",
   "metadata": {},
   "outputs": [
    {
     "name": "stdout",
     "output_type": "stream",
     "text": [
      "Peel off the bananas\n",
      "Add some milk to it\n",
      "Add some sugar\n",
      "Add some dry fruits\n",
      "Top up with ice cream\n"
     ]
    }
   ],
   "source": [
    "print(\"Peel off the bananas\")\n",
    "print(\"Add some milk to it\")\n",
    "print(\"Add some sugar\")\n",
    "print(\"Add some dry fruits\")\n",
    "print(\"Top up with ice cream\")"
   ]
  },
  {
   "cell_type": "code",
   "execution_count": 11,
   "id": "119ec023-321a-4d6a-9d44-3b4b81c9defb",
   "metadata": {},
   "outputs": [
    {
     "name": "stdout",
     "output_type": "stream",
     "text": [
      "Peel off the bananas\n",
      "Add some milk to it\n",
      "Add some sugar\n",
      "Add some dry fruits\n",
      "Top up with ice cream\n"
     ]
    }
   ],
   "source": [
    "print(\"Peel off the bananas\")\n",
    "print(\"Add some milk to it\")\n",
    "print(\"Add some sugar\")\n",
    "print(\"Add some dry fruits\")\n",
    "print(\"Top up with ice cream\")"
   ]
  },
  {
   "cell_type": "code",
   "execution_count": 18,
   "id": "9e9256cb-0cef-4039-be71-50d0f699a571",
   "metadata": {},
   "outputs": [
    {
     "name": "stdout",
     "output_type": "stream",
     "text": [
      "Peel off the bananas\n",
      "Add some milk to it\n",
      "Add some sugar\n",
      "Add some dry fruits\n",
      "Top up with ice cream\n"
     ]
    }
   ],
   "source": [
    "def banana_shake():\n",
    "    print(\"Peel off the bananas\")\n",
    "    print(\"Add some milk to it\")\n",
    "    print(\"Add some sugar\")\n",
    "    print(\"Add some dry fruits\")\n",
    "    print(\"Top up with ice cream\")\n",
    "banana_shake()"
   ]
  },
  {
   "cell_type": "code",
   "execution_count": 13,
   "id": "5fe7dde3-5133-47df-ab01-920d272ee833",
   "metadata": {},
   "outputs": [
    {
     "name": "stdout",
     "output_type": "stream",
     "text": [
      "Peel off the bananas\n",
      "Add some milk to it\n",
      "Add some sugar\n",
      "Add some dry fruits\n",
      "Top up with ice cream\n"
     ]
    }
   ],
   "source": [
    "banana_shake()"
   ]
  },
  {
   "cell_type": "code",
   "execution_count": 14,
   "id": "887b5cdf-a547-45b2-9e23-0b7945512b57",
   "metadata": {},
   "outputs": [
    {
     "name": "stdout",
     "output_type": "stream",
     "text": [
      "Peel off the bananas\n",
      "Add some milk to it\n",
      "Add some sugar\n",
      "Add some dry fruits\n",
      "Top up with ice cream\n"
     ]
    }
   ],
   "source": [
    "banana_shake()"
   ]
  },
  {
   "cell_type": "code",
   "execution_count": 15,
   "id": "083de694-c287-470f-af05-5332436f2726",
   "metadata": {},
   "outputs": [],
   "source": [
    "def tea():\n",
    "    print(\"Make it yourself\")"
   ]
  },
  {
   "cell_type": "code",
   "execution_count": 16,
   "id": "f5148ee9-1de6-4bff-9460-774431d01248",
   "metadata": {},
   "outputs": [
    {
     "name": "stdout",
     "output_type": "stream",
     "text": [
      "Make it yourself\n",
      "Make it yourself\n",
      "Make it yourself\n",
      "Make it yourself\n",
      "Make it yourself\n",
      "Make it yourself\n",
      "Make it yourself\n",
      "Make it yourself\n",
      "Make it yourself\n",
      "Make it yourself\n",
      "Make it yourself\n",
      "Make it yourself\n",
      "Make it yourself\n"
     ]
    }
   ],
   "source": [
    "tea()\n",
    "tea()\n",
    "tea()\n",
    "for i in range(10):\n",
    "    tea()"
   ]
  },
  {
   "cell_type": "code",
   "execution_count": 17,
   "id": "3aa02df0-0b84-4546-9e43-40dfb9551c12",
   "metadata": {},
   "outputs": [
    {
     "name": "stdout",
     "output_type": "stream",
     "text": [
      "0\n",
      "1\n",
      "2\n",
      "3\n",
      "4\n",
      "5\n",
      "6\n",
      "7\n",
      "8\n",
      "9\n"
     ]
    }
   ],
   "source": [
    "for i in range(10):\n",
    "    print(i)"
   ]
  },
  {
   "cell_type": "code",
   "execution_count": 20,
   "id": "09b0f768-4418-4873-bf77-df1353e6227c",
   "metadata": {},
   "outputs": [
    {
     "ename": "NameError",
     "evalue": "name 'mango_shake' is not defined",
     "output_type": "error",
     "traceback": [
      "\u001b[0;31m---------------------------------------------------------------------------\u001b[0m",
      "\u001b[0;31mNameError\u001b[0m                                 Traceback (most recent call last)",
      "\u001b[0;32m/var/folders/zn/hkv6562d6_d30glfs8yc76900000gn/T/ipykernel_5187/2794658734.py\u001b[0m in \u001b[0;36m<module>\u001b[0;34m\u001b[0m\n\u001b[0;32m----> 1\u001b[0;31m \u001b[0mmango_shake\u001b[0m\u001b[0;34m(\u001b[0m\u001b[0;34m)\u001b[0m\u001b[0;34m\u001b[0m\u001b[0;34m\u001b[0m\u001b[0m\n\u001b[0m",
      "\u001b[0;31mNameError\u001b[0m: name 'mango_shake' is not defined"
     ]
    }
   ],
   "source": [
    "mango_shake()"
   ]
  },
  {
   "cell_type": "code",
   "execution_count": null,
   "id": "699af820-b6d9-4bb9-8b42-0d0bc9d7f7de",
   "metadata": {},
   "outputs": [],
   "source": []
  },
  {
   "cell_type": "code",
   "execution_count": null,
   "id": "1e1fcb9c-d736-46e9-9572-a22f1fe3b7bd",
   "metadata": {},
   "outputs": [],
   "source": []
  },
  {
   "cell_type": "code",
   "execution_count": null,
   "id": "83f277ea-9525-4d0f-8bb6-908d13459b06",
   "metadata": {},
   "outputs": [],
   "source": []
  },
  {
   "cell_type": "code",
   "execution_count": null,
   "id": "4e81e9de-2ddb-455b-98c9-6882f5c8f456",
   "metadata": {},
   "outputs": [],
   "source": []
  },
  {
   "cell_type": "code",
   "execution_count": null,
   "id": "97c40662-2919-4d23-b09f-6db4168444cb",
   "metadata": {},
   "outputs": [],
   "source": []
  },
  {
   "cell_type": "code",
   "execution_count": null,
   "id": "b64f76b0-45ee-4600-8447-9adb04ab7488",
   "metadata": {},
   "outputs": [],
   "source": []
  },
  {
   "cell_type": "markdown",
   "id": "ea469a2a-725e-4a8a-a856-4d92538fca2d",
   "metadata": {},
   "source": [
    "## Passing a parameter to the function\n",
    "- Do you want to make different functions for different fruit shakes?"
   ]
  },
  {
   "cell_type": "code",
   "execution_count": 1,
   "id": "b9882c6b-71e6-40ab-b697-53d0488a0167",
   "metadata": {},
   "outputs": [],
   "source": [
    "# fruit shake"
   ]
  },
  {
   "cell_type": "code",
   "execution_count": 21,
   "id": "ebcdb7aa-b6c5-449e-a673-6c6b0c5098d7",
   "metadata": {},
   "outputs": [],
   "source": [
    "# fruit is a variable here and is known as parameter\n",
    "def fruit_shake(fruit):\n",
    "    print(\"Peel off the\", fruit)\n",
    "    print(\"Add some milk to it\")\n",
    "    print(\"Add some sugar\")\n",
    "    print(\"Add some dry fruits\")\n",
    "    print(\"Top up with ice cream\")"
   ]
  },
  {
   "cell_type": "code",
   "execution_count": 22,
   "id": "c94631f0-50a3-4f2b-9e38-beb2fb9c811f",
   "metadata": {},
   "outputs": [
    {
     "name": "stdout",
     "output_type": "stream",
     "text": [
      "Peel off the mango\n",
      "Add some milk to it\n",
      "Add some sugar\n",
      "Add some dry fruits\n",
      "Top up with ice cream\n"
     ]
    }
   ],
   "source": [
    "fruit_shake(\"mango\")"
   ]
  },
  {
   "cell_type": "code",
   "execution_count": 23,
   "id": "e00f1aed-0591-4680-ab5b-5c83e78b7724",
   "metadata": {},
   "outputs": [
    {
     "name": "stdout",
     "output_type": "stream",
     "text": [
      "Peel off the Orange\n",
      "Add some milk to it\n",
      "Add some sugar\n",
      "Add some dry fruits\n",
      "Top up with ice cream\n"
     ]
    }
   ],
   "source": [
    "fruit_shake(\"Orange\")"
   ]
  },
  {
   "cell_type": "code",
   "execution_count": null,
   "id": "a3e67f98-3bdc-4c8f-b77e-4a45864c194a",
   "metadata": {},
   "outputs": [],
   "source": []
  },
  {
   "cell_type": "code",
   "execution_count": null,
   "id": "ee2e8f49-798b-4055-bede-ce4560eaab04",
   "metadata": {},
   "outputs": [],
   "source": []
  },
  {
   "cell_type": "code",
   "execution_count": null,
   "id": "fc4aae68-edf6-4528-98fd-0f115d63bdcb",
   "metadata": {},
   "outputs": [],
   "source": []
  },
  {
   "cell_type": "code",
   "execution_count": null,
   "id": "adb37063-8f50-4701-9a57-0890a24fa86f",
   "metadata": {},
   "outputs": [],
   "source": []
  },
  {
   "cell_type": "code",
   "execution_count": 10,
   "id": "e8c560b4-25fd-44bb-94fb-ab52b73f05a0",
   "metadata": {},
   "outputs": [],
   "source": [
    "# intro"
   ]
  },
  {
   "cell_type": "code",
   "execution_count": 24,
   "id": "74f78946-259a-4a8a-b447-17f9641436b3",
   "metadata": {},
   "outputs": [],
   "source": [
    "def intro(name):\n",
    "    print(\"My name is\", name)"
   ]
  },
  {
   "cell_type": "code",
   "execution_count": 33,
   "id": "4621e572-c429-4685-b9b2-68e609c5a08b",
   "metadata": {},
   "outputs": [
    {
     "name": "stdout",
     "output_type": "stream",
     "text": [
      "My name is Rahul\n"
     ]
    }
   ],
   "source": [
    "intro(\"Rahul\")"
   ]
  },
  {
   "cell_type": "code",
   "execution_count": null,
   "id": "b1e6e424-f78f-4bb1-86ea-18b099345c48",
   "metadata": {},
   "outputs": [],
   "source": []
  },
  {
   "cell_type": "code",
   "execution_count": null,
   "id": "d0dbdf52-345a-4568-ae5b-345a99ee6777",
   "metadata": {},
   "outputs": [],
   "source": []
  },
  {
   "cell_type": "code",
   "execution_count": 2,
   "id": "f6127177-2789-4be2-8c58-5cbd1ef4dd06",
   "metadata": {},
   "outputs": [],
   "source": [
    "## propose"
   ]
  },
  {
   "cell_type": "code",
   "execution_count": 30,
   "id": "56f60ddd-ddcb-4249-a0d1-6d2601af6d10",
   "metadata": {},
   "outputs": [],
   "source": [
    "def propose(name):\n",
    "    print(\"Hey i love you\", name)"
   ]
  },
  {
   "cell_type": "code",
   "execution_count": 31,
   "id": "6d03cf46-ec26-41c0-a2ee-15a5f15e698b",
   "metadata": {},
   "outputs": [
    {
     "name": "stdin",
     "output_type": "stream",
     "text": [
      " Emma Watson\n"
     ]
    },
    {
     "name": "stdout",
     "output_type": "stream",
     "text": [
      "Hey i love you Emma Watson\n"
     ]
    }
   ],
   "source": [
    "name = input()\n",
    "propose(name)"
   ]
  },
  {
   "cell_type": "code",
   "execution_count": 32,
   "id": "a239598a-f4de-4bfc-abc2-fe33e8bd77a3",
   "metadata": {},
   "outputs": [
    {
     "name": "stdout",
     "output_type": "stream",
     "text": [
      "Hey i love you baby\n"
     ]
    }
   ],
   "source": [
    "naam = \"baby\"\n",
    "propose(naam)   # same as propose(\"baby\")"
   ]
  },
  {
   "cell_type": "code",
   "execution_count": null,
   "id": "c83f2275-6b42-4d8a-9f67-c6973db3c7e7",
   "metadata": {},
   "outputs": [],
   "source": []
  },
  {
   "cell_type": "code",
   "execution_count": null,
   "id": "cfaf27bb-efa2-4081-a941-033aced6d9ff",
   "metadata": {},
   "outputs": [],
   "source": []
  },
  {
   "cell_type": "code",
   "execution_count": null,
   "id": "59e53527-9409-4e0c-8825-bc9935c2b226",
   "metadata": {},
   "outputs": [],
   "source": []
  },
  {
   "cell_type": "markdown",
   "id": "b803ae9f-64f1-4b67-85ab-a52f5421902c",
   "metadata": {
    "tags": []
   },
   "source": [
    "## Multiple paramaters\n",
    "- Introduce your family"
   ]
  },
  {
   "cell_type": "code",
   "execution_count": 34,
   "id": "071bbf56-0f32-4260-9502-1e047a052e18",
   "metadata": {},
   "outputs": [],
   "source": [
    "def family(father, mother, sibling):\n",
    "    print(\"Name of father is\", father)\n",
    "    print(\"Name of mother is\", mother)\n",
    "    print(\"Name of sibling is\", sibling)"
   ]
  },
  {
   "cell_type": "code",
   "execution_count": 36,
   "id": "5ecba8db-60d3-48eb-ae41-11063dd679c3",
   "metadata": {},
   "outputs": [
    {
     "name": "stdout",
     "output_type": "stream",
     "text": [
      "Name of father is papa\n",
      "Name of mother is mummy\n",
      "Name of sibling is bhai\n"
     ]
    }
   ],
   "source": [
    "family(\"papa\", \"mummy\", \"bhai\")"
   ]
  },
  {
   "cell_type": "code",
   "execution_count": 38,
   "id": "24a175c9-e962-4986-b277-c9b4a72d7d78",
   "metadata": {},
   "outputs": [],
   "source": [
    "# Parameters are positional"
   ]
  },
  {
   "cell_type": "code",
   "execution_count": 39,
   "id": "c07b6492-d057-49e4-80b9-cc578c0eb619",
   "metadata": {},
   "outputs": [
    {
     "name": "stdout",
     "output_type": "stream",
     "text": [
      "Name of father is harry\n",
      "Name of mother is hermoine\n",
      "Name of sibling is james\n"
     ]
    }
   ],
   "source": [
    "family(\"harry\", \"hermoine\", \"james\")"
   ]
  },
  {
   "cell_type": "code",
   "execution_count": null,
   "id": "444ff40e-f407-4af5-9c02-adca630e69e7",
   "metadata": {},
   "outputs": [],
   "source": []
  },
  {
   "cell_type": "code",
   "execution_count": null,
   "id": "10ca38cd-83f7-480d-920b-880766f206b5",
   "metadata": {},
   "outputs": [],
   "source": []
  },
  {
   "cell_type": "code",
   "execution_count": 4,
   "id": "6ecc5b5d-1aea-463e-b625-8ff8dab7d608",
   "metadata": {},
   "outputs": [],
   "source": [
    "# Does position of parameters matter?"
   ]
  },
  {
   "cell_type": "code",
   "execution_count": 42,
   "id": "27edc35e-9f9e-45db-ae4a-dda119cc920a",
   "metadata": {},
   "outputs": [],
   "source": [
    "# family(\"James\", \"lilly\")\n",
    "# This will give me error as one parameter is missing"
   ]
  },
  {
   "cell_type": "code",
   "execution_count": null,
   "id": "95a04f67-6fb3-4a16-b4e7-543fbe9761f8",
   "metadata": {},
   "outputs": [],
   "source": []
  },
  {
   "cell_type": "code",
   "execution_count": null,
   "id": "b43c21ab-db1a-48d6-a5a4-844b1be3add2",
   "metadata": {},
   "outputs": [],
   "source": []
  },
  {
   "cell_type": "code",
   "execution_count": null,
   "id": "8c19b1ac-16d3-4d7f-ae61-8a4c8c6f2c0a",
   "metadata": {},
   "outputs": [],
   "source": []
  },
  {
   "cell_type": "code",
   "execution_count": null,
   "id": "ff3ec50d-8532-4692-96e8-a04257470e93",
   "metadata": {},
   "outputs": [],
   "source": []
  },
  {
   "cell_type": "code",
   "execution_count": null,
   "id": "fbcc2f37-1ae0-4983-b6a3-0cd11a21d416",
   "metadata": {},
   "outputs": [],
   "source": []
  },
  {
   "cell_type": "code",
   "execution_count": null,
   "id": "f4afbcc6-99d8-485d-a865-34977c215591",
   "metadata": {},
   "outputs": [],
   "source": []
  },
  {
   "cell_type": "markdown",
   "id": "29bab29f-342f-479d-a29c-dde58a4d3360",
   "metadata": {},
   "source": [
    "![](../photos/when-i-wrote.jpeg)"
   ]
  },
  {
   "cell_type": "markdown",
   "id": "0b627352-0439-41b9-8313-e73a4e2ecb82",
   "metadata": {},
   "source": [
    "## Docstrings\n",
    "- Should I have Kept some Documentation?\n",
    "- Tell me something about yourself please..."
   ]
  },
  {
   "cell_type": "code",
   "execution_count": null,
   "id": "54999f09-674e-4405-bd45-6c1f48fb2019",
   "metadata": {},
   "outputs": [],
   "source": []
  },
  {
   "cell_type": "code",
   "execution_count": 5,
   "id": "0557f012-ef01-4a11-a372-469b0ada6bbb",
   "metadata": {},
   "outputs": [],
   "source": [
    "# add them"
   ]
  },
  {
   "cell_type": "code",
   "execution_count": 47,
   "id": "c79e8429-2ba9-4dad-997d-ff2792918c5b",
   "metadata": {},
   "outputs": [],
   "source": [
    "def add(a, b):\n",
    "    \"\"\"\n",
    "    a: Give value to a\n",
    "    b: give value to b\n",
    "    Note: Don't pass int and str at a time.\n",
    "    \"\"\"\n",
    "    print(a+b)"
   ]
  },
  {
   "cell_type": "code",
   "execution_count": 50,
   "id": "27c5add8-05d9-47e5-900d-b0f456205ca5",
   "metadata": {},
   "outputs": [
    {
     "name": "stdout",
     "output_type": "stream",
     "text": [
      "Help on function add in module __main__:\n",
      "\n",
      "add(a, b)\n",
      "    a: Give value to a\n",
      "    b: give value to b\n",
      "    Note: Don't pass int and str at a time.\n",
      "\n",
      "None\n"
     ]
    }
   ],
   "source": [
    "print(help(add))"
   ]
  },
  {
   "cell_type": "code",
   "execution_count": 44,
   "id": "dc6c09b6-8c4e-47c0-948a-6f6860d6ce09",
   "metadata": {},
   "outputs": [
    {
     "name": "stdout",
     "output_type": "stream",
     "text": [
      "11\n"
     ]
    }
   ],
   "source": [
    "add(5, 6)"
   ]
  },
  {
   "cell_type": "code",
   "execution_count": 45,
   "id": "06e67568-66fb-44d2-ae5a-08ec186cc2be",
   "metadata": {},
   "outputs": [
    {
     "ename": "TypeError",
     "evalue": "can only concatenate str (not \"int\") to str",
     "output_type": "error",
     "traceback": [
      "\u001b[0;31m---------------------------------------------------------------------------\u001b[0m",
      "\u001b[0;31mTypeError\u001b[0m                                 Traceback (most recent call last)",
      "\u001b[0;32m/var/folders/zn/hkv6562d6_d30glfs8yc76900000gn/T/ipykernel_5187/252735282.py\u001b[0m in \u001b[0;36m<module>\u001b[0;34m\u001b[0m\n\u001b[0;32m----> 1\u001b[0;31m \u001b[0madd\u001b[0m\u001b[0;34m(\u001b[0m\u001b[0;34m\"a\"\u001b[0m\u001b[0;34m,\u001b[0m \u001b[0;36m5\u001b[0m\u001b[0;34m)\u001b[0m\u001b[0;34m\u001b[0m\u001b[0;34m\u001b[0m\u001b[0m\n\u001b[0m",
      "\u001b[0;32m/var/folders/zn/hkv6562d6_d30glfs8yc76900000gn/T/ipykernel_5187/200311516.py\u001b[0m in \u001b[0;36madd\u001b[0;34m(a, b)\u001b[0m\n\u001b[1;32m      1\u001b[0m \u001b[0;32mdef\u001b[0m \u001b[0madd\u001b[0m\u001b[0;34m(\u001b[0m\u001b[0ma\u001b[0m\u001b[0;34m,\u001b[0m \u001b[0mb\u001b[0m\u001b[0;34m)\u001b[0m\u001b[0;34m:\u001b[0m\u001b[0;34m\u001b[0m\u001b[0;34m\u001b[0m\u001b[0m\n\u001b[0;32m----> 2\u001b[0;31m     \u001b[0mprint\u001b[0m\u001b[0;34m(\u001b[0m\u001b[0ma\u001b[0m\u001b[0;34m+\u001b[0m\u001b[0mb\u001b[0m\u001b[0;34m)\u001b[0m\u001b[0;34m\u001b[0m\u001b[0;34m\u001b[0m\u001b[0m\n\u001b[0m",
      "\u001b[0;31mTypeError\u001b[0m: can only concatenate str (not \"int\") to str"
     ]
    }
   ],
   "source": [
    "add(\"a\", 5)"
   ]
  },
  {
   "cell_type": "code",
   "execution_count": 46,
   "id": "cb23353d-1ace-4b54-976d-159cd876f64a",
   "metadata": {},
   "outputs": [
    {
     "data": {
      "text/plain": [
       "\u001b[0;31mDocstring:\u001b[0m\n",
       "print(value, ..., sep=' ', end='\\n', file=sys.stdout, flush=False)\n",
       "\n",
       "Prints the values to a stream, or to sys.stdout by default.\n",
       "Optional keyword arguments:\n",
       "file:  a file-like object (stream); defaults to the current sys.stdout.\n",
       "sep:   string inserted between values, default a space.\n",
       "end:   string appended after the last value, default a newline.\n",
       "flush: whether to forcibly flush the stream.\n",
       "\u001b[0;31mType:\u001b[0m      builtin_function_or_method\n"
      ]
     },
     "metadata": {},
     "output_type": "display_data"
    }
   ],
   "source": [
    "print?"
   ]
  },
  {
   "cell_type": "code",
   "execution_count": 54,
   "id": "48eee553-3834-4b53-9d3d-bea2d77fe6ba",
   "metadata": {},
   "outputs": [],
   "source": [
    "def multiply(a, b):\n",
    "    \"\"\"\n",
    "    This is the docstring\n",
    "    \"\"\"\n",
    "    print(a*b)"
   ]
  },
  {
   "cell_type": "code",
   "execution_count": 55,
   "id": "e2800dea-8b22-4fac-9a76-f1011ab7fe42",
   "metadata": {},
   "outputs": [
    {
     "name": "stdout",
     "output_type": "stream",
     "text": [
      "Help on function multiply in module __main__:\n",
      "\n",
      "multiply(a, b)\n",
      "    This is the docstring\n",
      "\n",
      "None\n"
     ]
    }
   ],
   "source": [
    "print(help(multiply))"
   ]
  },
  {
   "cell_type": "code",
   "execution_count": 56,
   "id": "125a7ce5-bfc0-4dce-824c-8e5f44fb8df8",
   "metadata": {},
   "outputs": [
    {
     "data": {
      "text/plain": [
       "\u001b[0;31mSignature:\u001b[0m \u001b[0mmultiply\u001b[0m\u001b[0;34m(\u001b[0m\u001b[0ma\u001b[0m\u001b[0;34m,\u001b[0m \u001b[0mb\u001b[0m\u001b[0;34m)\u001b[0m\u001b[0;34m\u001b[0m\u001b[0;34m\u001b[0m\u001b[0m\n",
       "\u001b[0;31mDocstring:\u001b[0m This is the docstring\n",
       "\u001b[0;31mFile:\u001b[0m      /var/folders/zn/hkv6562d6_d30glfs8yc76900000gn/T/ipykernel_5187/2267795985.py\n",
       "\u001b[0;31mType:\u001b[0m      function\n"
      ]
     },
     "metadata": {},
     "output_type": "display_data"
    }
   ],
   "source": [
    "multiply?"
   ]
  },
  {
   "cell_type": "code",
   "execution_count": null,
   "id": "c7695925-c180-4c69-9d40-c0507f9804e9",
   "metadata": {},
   "outputs": [],
   "source": []
  },
  {
   "cell_type": "code",
   "execution_count": null,
   "id": "d12c2589-f5ed-4021-a81c-d07c20b2f4f0",
   "metadata": {},
   "outputs": [],
   "source": []
  },
  {
   "cell_type": "code",
   "execution_count": null,
   "id": "fcdebe0f-a9a8-40cd-b64e-d34bc83ac807",
   "metadata": {},
   "outputs": [],
   "source": []
  },
  {
   "cell_type": "markdown",
   "id": "73a219c5-1701-4093-a0ab-6f860a6cc7a3",
   "metadata": {},
   "source": [
    "# Return a function"
   ]
  },
  {
   "cell_type": "markdown",
   "id": "416afa1d-fb8a-48a5-9ae7-6db357ec81c6",
   "metadata": {},
   "source": [
    "##### print function shows all the values that it prints but actually it doesnt give any value"
   ]
  },
  {
   "cell_type": "code",
   "execution_count": 6,
   "id": "b474c7d7-28d4-4069-bfeb-3113f803d259",
   "metadata": {},
   "outputs": [],
   "source": [
    "# lets revisit print"
   ]
  },
  {
   "cell_type": "code",
   "execution_count": 59,
   "id": "c12b5a34-d0c5-4e32-9510-156a9e8699d5",
   "metadata": {},
   "outputs": [
    {
     "name": "stdout",
     "output_type": "stream",
     "text": [
      "rahul\n"
     ]
    },
    {
     "data": {
      "text/plain": [
       "NoneType"
      ]
     },
     "execution_count": 59,
     "metadata": {},
     "output_type": "execute_result"
    }
   ],
   "source": [
    "type(print(\"rahul\"))"
   ]
  },
  {
   "cell_type": "code",
   "execution_count": 63,
   "id": "fa62abfb-6a7b-417e-83a4-dc019b77ce40",
   "metadata": {},
   "outputs": [],
   "source": [
    "def square(a, b):\n",
    "    print(a*a, b*b)"
   ]
  },
  {
   "cell_type": "code",
   "execution_count": 61,
   "id": "6e89bce9-ebaa-4ed3-a218-cd7dd1ae7aa4",
   "metadata": {},
   "outputs": [
    {
     "name": "stdout",
     "output_type": "stream",
     "text": [
      "9 16\n"
     ]
    }
   ],
   "source": [
    "result = square(3, 4)"
   ]
  },
  {
   "cell_type": "code",
   "execution_count": 62,
   "id": "d5fa192c-5fd6-4ae8-8ca5-2cf4faae5918",
   "metadata": {},
   "outputs": [
    {
     "name": "stdout",
     "output_type": "stream",
     "text": [
      "None\n"
     ]
    }
   ],
   "source": [
    "print(result)"
   ]
  },
  {
   "cell_type": "code",
   "execution_count": null,
   "id": "9738ca17-cb60-4ef1-87ed-3a9922a3f1d2",
   "metadata": {},
   "outputs": [],
   "source": []
  },
  {
   "cell_type": "code",
   "execution_count": null,
   "id": "8de7a188-a63a-408d-965e-e7969cf17e21",
   "metadata": {},
   "outputs": [],
   "source": []
  },
  {
   "cell_type": "code",
   "execution_count": 7,
   "id": "5203ccc7-1152-4e57-825a-db138840d777",
   "metadata": {},
   "outputs": [],
   "source": [
    "# Can function flow go beyond return statement"
   ]
  },
  {
   "cell_type": "code",
   "execution_count": 64,
   "id": "7b3f14dd-88a1-4a5b-bcf2-fbd02f62db03",
   "metadata": {},
   "outputs": [],
   "source": [
    "def square(x):\n",
    "    return x*x"
   ]
  },
  {
   "cell_type": "code",
   "execution_count": 65,
   "id": "29e805f4-850a-4ea3-bd50-0b5ab04ac103",
   "metadata": {},
   "outputs": [],
   "source": [
    "result = square(3)"
   ]
  },
  {
   "cell_type": "code",
   "execution_count": 66,
   "id": "df3e0a00-f3c4-4dce-90ee-c236a6c92aa6",
   "metadata": {},
   "outputs": [
    {
     "name": "stdout",
     "output_type": "stream",
     "text": [
      "9\n"
     ]
    }
   ],
   "source": [
    "print(result)"
   ]
  },
  {
   "cell_type": "code",
   "execution_count": 76,
   "id": "8e05681a-cf27-4b9e-a445-d8c80638d88f",
   "metadata": {},
   "outputs": [
    {
     "name": "stdout",
     "output_type": "stream",
     "text": [
      "34\n"
     ]
    }
   ],
   "source": [
    "def square(x):\n",
    "    return x*x\n",
    "\n",
    "a = square(3)\n",
    "b = square(5)\n",
    "\n",
    "print(a + b)"
   ]
  },
  {
   "cell_type": "code",
   "execution_count": 74,
   "id": "a4c97f4c-3ca4-4e89-af65-3f4b4ccf894a",
   "metadata": {},
   "outputs": [
    {
     "name": "stdout",
     "output_type": "stream",
     "text": [
      "9\n",
      "25\n"
     ]
    },
    {
     "ename": "TypeError",
     "evalue": "unsupported operand type(s) for +: 'NoneType' and 'NoneType'",
     "output_type": "error",
     "traceback": [
      "\u001b[0;31m---------------------------------------------------------------------------\u001b[0m",
      "\u001b[0;31mTypeError\u001b[0m                                 Traceback (most recent call last)",
      "\u001b[0;32m/var/folders/zn/hkv6562d6_d30glfs8yc76900000gn/T/ipykernel_5187/3978805423.py\u001b[0m in \u001b[0;36m<module>\u001b[0;34m\u001b[0m\n\u001b[1;32m      5\u001b[0m \u001b[0mb\u001b[0m \u001b[0;34m=\u001b[0m \u001b[0msquare\u001b[0m\u001b[0;34m(\u001b[0m\u001b[0;36m5\u001b[0m\u001b[0;34m)\u001b[0m\u001b[0;34m\u001b[0m\u001b[0;34m\u001b[0m\u001b[0m\n\u001b[1;32m      6\u001b[0m \u001b[0;34m\u001b[0m\u001b[0m\n\u001b[0;32m----> 7\u001b[0;31m \u001b[0mprint\u001b[0m\u001b[0;34m(\u001b[0m\u001b[0ma\u001b[0m \u001b[0;34m+\u001b[0m \u001b[0mb\u001b[0m\u001b[0;34m)\u001b[0m\u001b[0;34m\u001b[0m\u001b[0;34m\u001b[0m\u001b[0m\n\u001b[0m",
      "\u001b[0;31mTypeError\u001b[0m: unsupported operand type(s) for +: 'NoneType' and 'NoneType'"
     ]
    }
   ],
   "source": [
    "def square(x):\n",
    "    print(x*x)\n",
    "\n",
    "a = square(3)\n",
    "b = square(5)\n",
    "\n",
    "print(a + b)"
   ]
  },
  {
   "cell_type": "code",
   "execution_count": null,
   "id": "b97ebdf0-7e16-4468-bbcd-2cf03196592f",
   "metadata": {},
   "outputs": [],
   "source": []
  },
  {
   "cell_type": "code",
   "execution_count": 69,
   "id": "da99a108-12e2-4be5-ab18-1b7999440392",
   "metadata": {},
   "outputs": [],
   "source": [
    "def abc():\n",
    "    print(\"before return\")\n",
    "    return 1\n",
    "    print(\"After return\")"
   ]
  },
  {
   "cell_type": "code",
   "execution_count": 72,
   "id": "7f310d4c-dd66-4aa4-aba3-aff10ed8f3aa",
   "metadata": {},
   "outputs": [
    {
     "name": "stdout",
     "output_type": "stream",
     "text": [
      "before return\n"
     ]
    }
   ],
   "source": [
    "res = abc()"
   ]
  },
  {
   "cell_type": "code",
   "execution_count": 73,
   "id": "76aa2827-5916-4e39-9fc4-9305199834ce",
   "metadata": {},
   "outputs": [
    {
     "name": "stdout",
     "output_type": "stream",
     "text": [
      "1\n"
     ]
    }
   ],
   "source": [
    "print(res)"
   ]
  },
  {
   "cell_type": "code",
   "execution_count": null,
   "id": "b631692f-f728-4099-9f5f-a427ff2dd633",
   "metadata": {},
   "outputs": [],
   "source": []
  },
  {
   "cell_type": "code",
   "execution_count": null,
   "id": "223913f8-fa95-468e-9efc-029e23d97bee",
   "metadata": {},
   "outputs": [],
   "source": []
  },
  {
   "cell_type": "code",
   "execution_count": null,
   "id": "0d64c65b-641c-491b-ac2a-3dad848c3e8e",
   "metadata": {},
   "outputs": [],
   "source": []
  },
  {
   "cell_type": "markdown",
   "id": "a484bf0e-1ee7-403e-8a83-651e1a762aa7",
   "metadata": {},
   "source": [
    "### Some inbuilt functions"
   ]
  },
  {
   "cell_type": "code",
   "execution_count": 79,
   "id": "362186d1-5830-4a6e-a786-2af1ee012113",
   "metadata": {},
   "outputs": [],
   "source": [
    "# Absolute function"
   ]
  },
  {
   "cell_type": "code",
   "execution_count": 77,
   "id": "3cb1da6b-51e5-488c-86b2-b4a316f7eae9",
   "metadata": {},
   "outputs": [
    {
     "name": "stdout",
     "output_type": "stream",
     "text": [
      "-3\n"
     ]
    }
   ],
   "source": [
    "print(-3)"
   ]
  },
  {
   "cell_type": "code",
   "execution_count": 78,
   "id": "80b1c173-1bc2-4561-b48a-dc51cda1ac09",
   "metadata": {},
   "outputs": [
    {
     "name": "stdout",
     "output_type": "stream",
     "text": [
      "234\n"
     ]
    }
   ],
   "source": [
    "print(abs(-234))"
   ]
  },
  {
   "cell_type": "code",
   "execution_count": null,
   "id": "3556caf6-e1eb-447d-a1c6-c80b4ad34414",
   "metadata": {},
   "outputs": [],
   "source": []
  },
  {
   "cell_type": "code",
   "execution_count": 81,
   "id": "bd16b50f-2199-401f-b766-f61d47e62d55",
   "metadata": {},
   "outputs": [
    {
     "name": "stdout",
     "output_type": "stream",
     "text": [
      "3\n"
     ]
    }
   ],
   "source": [
    "print(round(3.141))"
   ]
  },
  {
   "cell_type": "code",
   "execution_count": 82,
   "id": "ebbf9098-2a5f-4cf2-a07d-1918c27f022e",
   "metadata": {},
   "outputs": [
    {
     "name": "stdout",
     "output_type": "stream",
     "text": [
      "3.1\n"
     ]
    }
   ],
   "source": [
    "print(round(3.14, 1))"
   ]
  },
  {
   "cell_type": "code",
   "execution_count": 83,
   "id": "13d96e20-5be1-4333-ab8e-c477d6ca706d",
   "metadata": {},
   "outputs": [
    {
     "name": "stdout",
     "output_type": "stream",
     "text": [
      "3.14\n"
     ]
    }
   ],
   "source": [
    "print(round(3.14, 2))"
   ]
  },
  {
   "cell_type": "code",
   "execution_count": 84,
   "id": "1cf571c4-9fa9-4321-973f-3afb4cdb30ff",
   "metadata": {},
   "outputs": [
    {
     "name": "stdout",
     "output_type": "stream",
     "text": [
      "3.141\n"
     ]
    }
   ],
   "source": [
    "print(round(3.141234124, 3))"
   ]
  },
  {
   "cell_type": "code",
   "execution_count": null,
   "id": "961d8b4f-b782-4f17-8946-24e3ddb718ba",
   "metadata": {},
   "outputs": [],
   "source": []
  },
  {
   "cell_type": "code",
   "execution_count": null,
   "id": "de6c0a3d-44cf-4241-bac2-40d90c08ffce",
   "metadata": {},
   "outputs": [],
   "source": []
  },
  {
   "cell_type": "markdown",
   "id": "bcf8c5ec-d471-489d-8c6d-44ab024e9b0f",
   "metadata": {},
   "source": [
    "### Fahrenheit to celsius"
   ]
  },
  {
   "cell_type": "code",
   "execution_count": 8,
   "id": "6086db6e-f3d8-42e0-ad0e-12d3d01e0fba",
   "metadata": {},
   "outputs": [],
   "source": [
    "# c = (5/9) * (f-32)"
   ]
  },
  {
   "cell_type": "code",
   "execution_count": 88,
   "id": "b8262a94-ad23-41a9-a195-16cb7bf885f5",
   "metadata": {},
   "outputs": [],
   "source": [
    "def fahrenheit_to_celsius(f):\n",
    "    c = (5/9) * (f-32)\n",
    "    return round(c, 2)"
   ]
  },
  {
   "cell_type": "code",
   "execution_count": 89,
   "id": "90adc5db-f4cc-4d1e-bb2d-67f2cd1c29cd",
   "metadata": {},
   "outputs": [
    {
     "data": {
      "text/plain": [
       "0.0"
      ]
     },
     "execution_count": 89,
     "metadata": {},
     "output_type": "execute_result"
    }
   ],
   "source": [
    "fahrenheit_to_celsius(32)"
   ]
  },
  {
   "cell_type": "code",
   "execution_count": 90,
   "id": "b1a3af74-9a70-4f8d-a437-f756a4af14a6",
   "metadata": {},
   "outputs": [
    {
     "data": {
      "text/plain": [
       "37.78"
      ]
     },
     "execution_count": 90,
     "metadata": {},
     "output_type": "execute_result"
    }
   ],
   "source": [
    "fahrenheit_to_celsius(100)"
   ]
  },
  {
   "cell_type": "code",
   "execution_count": null,
   "id": "caaab773-ad25-497a-95db-abd0b3446cd3",
   "metadata": {},
   "outputs": [],
   "source": []
  },
  {
   "cell_type": "code",
   "execution_count": 92,
   "id": "260b01b2-2c21-4658-8dd2-19c6d1c0d86c",
   "metadata": {},
   "outputs": [],
   "source": [
    "## last quiz"
   ]
  },
  {
   "cell_type": "code",
   "execution_count": 93,
   "id": "45696cd6-a792-430d-bc4f-f1acbb85a7d3",
   "metadata": {},
   "outputs": [
    {
     "name": "stdout",
     "output_type": "stream",
     "text": [
      "11\n"
     ]
    }
   ],
   "source": [
    "def add_2_nums_with_return(n1, n2):\n",
    "    return n1 + n2\n",
    "\n",
    "y = add_2_nums_with_return(5, 6)\n",
    "print(y)"
   ]
  },
  {
   "cell_type": "code",
   "execution_count": 94,
   "id": "146fc27b-308f-451a-9165-1e84c9f8b6c3",
   "metadata": {},
   "outputs": [],
   "source": [
    "def abc():\n",
    "    return 2, 3, 4"
   ]
  },
  {
   "cell_type": "code",
   "execution_count": 96,
   "id": "db30f1aa-fcd6-4b86-b8e0-1f1b9ea0e5d9",
   "metadata": {},
   "outputs": [],
   "source": [
    "res = abc()"
   ]
  },
  {
   "cell_type": "code",
   "execution_count": 97,
   "id": "2951ffe3-6695-4137-a0d1-aacba4f343d7",
   "metadata": {},
   "outputs": [
    {
     "data": {
      "text/plain": [
       "(2, 3, 4)"
      ]
     },
     "execution_count": 97,
     "metadata": {},
     "output_type": "execute_result"
    }
   ],
   "source": [
    "res"
   ]
  },
  {
   "cell_type": "code",
   "execution_count": 98,
   "id": "83fcf2df-9c8a-4178-a0cd-0661df3cc740",
   "metadata": {},
   "outputs": [],
   "source": [
    "def test(x, y, z):\n",
    "    return x, y, z"
   ]
  },
  {
   "cell_type": "code",
   "execution_count": 99,
   "id": "868b7f14-1c94-452c-913c-672e3d994ded",
   "metadata": {},
   "outputs": [
    {
     "name": "stdout",
     "output_type": "stream",
     "text": [
      "(2, 3, 4)\n"
     ]
    }
   ],
   "source": [
    "res = test(2, 3, 4)\n",
    "print(res)"
   ]
  },
  {
   "cell_type": "code",
   "execution_count": null,
   "id": "cf41c152-adf5-4f21-8b21-ad535236066a",
   "metadata": {},
   "outputs": [],
   "source": []
  },
  {
   "cell_type": "markdown",
   "id": "cbdd896e-44e0-4b4e-918e-24c51f07ac28",
   "metadata": {},
   "source": [
    "## Doubts"
   ]
  },
  {
   "cell_type": "code",
   "execution_count": null,
   "id": "5ff78de5-d9b5-4c7d-b83c-57923a7b744e",
   "metadata": {},
   "outputs": [],
   "source": []
  },
  {
   "cell_type": "code",
   "execution_count": null,
   "id": "3aa03788-80f9-4539-bd2c-28db08224710",
   "metadata": {},
   "outputs": [],
   "source": []
  }
 ],
 "metadata": {
  "kernelspec": {
   "display_name": "Python 3 (ipykernel)",
   "language": "python",
   "name": "python3"
  },
  "language_info": {
   "codemirror_mode": {
    "name": "ipython",
    "version": 3
   },
   "file_extension": ".py",
   "mimetype": "text/x-python",
   "name": "python",
   "nbconvert_exporter": "python",
   "pygments_lexer": "ipython3",
   "version": "3.9.7"
  }
 },
 "nbformat": 4,
 "nbformat_minor": 5
}
