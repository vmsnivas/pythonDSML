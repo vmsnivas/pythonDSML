{
 "cells": [
  {
   "cell_type": "markdown",
   "id": "4811ffe3-cd57-437b-bf57-c4dcb05ff3a4",
   "metadata": {},
   "source": [
    "## Dictionary\n",
    "- A dictionary is like an address-book where you can find the address or contact details of a person by knowing only his/her name i.e. we associate keys (name) with values (details). Note that the key must be unique just like you cannot find out the correct information if you have two persons with the exact same name.\n",
    "\n",
    "- Remember that key-value pairs in a dictionary are not ordered in any manner."
   ]
  },
  {
   "cell_type": "markdown",
   "id": "c79c8d48-831e-42ef-a135-c8a92e8f741b",
   "metadata": {},
   "source": [
    "#### Creating a dict"
   ]
  },
  {
   "cell_type": "code",
   "execution_count": 5,
   "id": "dea85596-7121-489b-a89c-bd4f2c28d970",
   "metadata": {},
   "outputs": [],
   "source": [
    "# Fruit rate on blinkit"
   ]
  },
  {
   "cell_type": "code",
   "execution_count": 3,
   "id": "4325214e-d59e-4548-ae92-6e8e937af44a",
   "metadata": {},
   "outputs": [],
   "source": [
    "# type of fruits"
   ]
  },
  {
   "cell_type": "code",
   "execution_count": 68,
   "id": "983f9087-975b-48a8-a2d5-225a99bf81ce",
   "metadata": {},
   "outputs": [],
   "source": [
    "# Quiz"
   ]
  },
  {
   "cell_type": "code",
   "execution_count": 6,
   "id": "e7442d0a-99cd-44c9-99cf-306c8a5f80ab",
   "metadata": {},
   "outputs": [],
   "source": [
    "# empty"
   ]
  },
  {
   "cell_type": "code",
   "execution_count": 1,
   "id": "067e29e2-829a-4a44-a132-dc332e0df0ba",
   "metadata": {},
   "outputs": [],
   "source": [
    "d = dict()"
   ]
  },
  {
   "cell_type": "code",
   "execution_count": 2,
   "id": "b78150bb-d1c9-465c-9d75-75f4167974cd",
   "metadata": {},
   "outputs": [
    {
     "data": {
      "text/plain": [
       "dict"
      ]
     },
     "execution_count": 2,
     "metadata": {},
     "output_type": "execute_result"
    }
   ],
   "source": [
    "type(d)"
   ]
  },
  {
   "cell_type": "code",
   "execution_count": 3,
   "id": "83e253f5-3a2f-430a-be9e-a3cde98fe115",
   "metadata": {},
   "outputs": [
    {
     "name": "stdout",
     "output_type": "stream",
     "text": [
      "{}\n"
     ]
    }
   ],
   "source": [
    "print(d)"
   ]
  },
  {
   "cell_type": "code",
   "execution_count": null,
   "id": "665b7856-0d2e-402c-8b91-63868b704acf",
   "metadata": {},
   "outputs": [],
   "source": []
  },
  {
   "cell_type": "code",
   "execution_count": 4,
   "id": "d00183d6-c8e5-4629-87f5-4a47330f54ac",
   "metadata": {},
   "outputs": [],
   "source": [
    "# Usual dictionary"
   ]
  },
  {
   "cell_type": "code",
   "execution_count": 7,
   "id": "05f90ac4-97cf-4f0d-95fa-6767a534fce7",
   "metadata": {},
   "outputs": [],
   "source": [
    "fruits = {\"Apple\": 120, \"Mango\": 200, \"Banana\": 60, \"Papaya\": 50}"
   ]
  },
  {
   "cell_type": "code",
   "execution_count": 9,
   "id": "09f5a6ec-72be-45d9-bdd3-caaf9e69582e",
   "metadata": {},
   "outputs": [
    {
     "name": "stdout",
     "output_type": "stream",
     "text": [
      "<class 'dict'> {'Apple': 120, 'Mango': 200, 'Banana': 60, 'Papaya': 50}\n"
     ]
    }
   ],
   "source": [
    "print(type(fruits), fruits)"
   ]
  },
  {
   "cell_type": "code",
   "execution_count": null,
   "id": "de446bac-858b-40e3-a126-db8ab6568ede",
   "metadata": {},
   "outputs": [],
   "source": []
  },
  {
   "cell_type": "code",
   "execution_count": 7,
   "id": "839ac038-f183-4d49-9f8f-568a47007f54",
   "metadata": {},
   "outputs": [],
   "source": [
    "# zip"
   ]
  },
  {
   "cell_type": "code",
   "execution_count": 11,
   "id": "09c44f22-36a5-478d-8808-e6336839007a",
   "metadata": {},
   "outputs": [
    {
     "name": "stdout",
     "output_type": "stream",
     "text": [
      "<class 'list'> <class 'list'>\n"
     ]
    }
   ],
   "source": [
    "frut = [\"Apple\", \"Kiwi\", \"Pear\"]\n",
    "rates = [120, 50, 60]\n",
    "print(type(rates), type(frut))"
   ]
  },
  {
   "cell_type": "code",
   "execution_count": 14,
   "id": "46dbc005-3bb1-43b3-b2c7-180bf18335d4",
   "metadata": {},
   "outputs": [],
   "source": [
    "d2 = dict(zip(frut, rates))"
   ]
  },
  {
   "cell_type": "code",
   "execution_count": 15,
   "id": "9af44205-5550-4d01-8d68-3442a5627978",
   "metadata": {},
   "outputs": [
    {
     "name": "stdout",
     "output_type": "stream",
     "text": [
      "{'Apple': 120, 'Kiwi': 50, 'Pear': 60} <class 'dict'>\n"
     ]
    }
   ],
   "source": [
    "print(d2, type(d2))"
   ]
  },
  {
   "cell_type": "code",
   "execution_count": null,
   "id": "b8e8db3d-323f-4080-9a5f-9d64d2429a86",
   "metadata": {},
   "outputs": [],
   "source": []
  },
  {
   "cell_type": "code",
   "execution_count": null,
   "id": "67ebe0b6-de78-43b9-9014-6bd217ec1643",
   "metadata": {},
   "outputs": [],
   "source": []
  },
  {
   "cell_type": "code",
   "execution_count": null,
   "id": "6b89de4a-f73c-488c-a343-9f65d8d4de58",
   "metadata": {},
   "outputs": [],
   "source": []
  },
  {
   "cell_type": "code",
   "execution_count": null,
   "id": "a2c04b7c-260c-432e-bed7-ed551e79376a",
   "metadata": {},
   "outputs": [],
   "source": []
  },
  {
   "cell_type": "markdown",
   "id": "47ec3b27-dc0a-4e18-9909-c2287097e410",
   "metadata": {},
   "source": [
    "#### Access the values of the dict\n",
    "Dictionaries doesn't support indexing"
   ]
  },
  {
   "cell_type": "code",
   "execution_count": 5,
   "id": "d52e5116-5120-4757-9dc6-c0f43b2ad0ab",
   "metadata": {},
   "outputs": [],
   "source": [
    "# indexing?"
   ]
  },
  {
   "cell_type": "code",
   "execution_count": 70,
   "id": "47a0372d-4177-47ae-8675-eabec6ac6891",
   "metadata": {},
   "outputs": [],
   "source": [
    "# Quiz"
   ]
  },
  {
   "cell_type": "code",
   "execution_count": 16,
   "id": "ed728213-66f0-4f71-ab71-fbd62c1e6ffe",
   "metadata": {},
   "outputs": [
    {
     "data": {
      "text/plain": [
       "{'Apple': 120, 'Mango': 200, 'Banana': 60, 'Papaya': 50}"
      ]
     },
     "execution_count": 16,
     "metadata": {},
     "output_type": "execute_result"
    }
   ],
   "source": [
    "fruits"
   ]
  },
  {
   "cell_type": "code",
   "execution_count": null,
   "id": "cd0ee1a3-28f8-4ff1-aa88-e57dfe3df415",
   "metadata": {},
   "outputs": [],
   "source": []
  },
  {
   "cell_type": "code",
   "execution_count": 18,
   "id": "53f86d6e-4e8e-410c-9cbf-db1c21fe6565",
   "metadata": {},
   "outputs": [],
   "source": [
    "# Dict cant use indexing\n",
    "# fruits[0]"
   ]
  },
  {
   "cell_type": "code",
   "execution_count": 19,
   "id": "59a08c50-546e-4e6d-bc9c-2db6b6d00d77",
   "metadata": {},
   "outputs": [
    {
     "data": {
      "text/plain": [
       "120"
      ]
     },
     "execution_count": 19,
     "metadata": {},
     "output_type": "execute_result"
    }
   ],
   "source": [
    "fruits[\"Apple\"]"
   ]
  },
  {
   "cell_type": "code",
   "execution_count": null,
   "id": "d3f8f76c-aa57-4955-a11c-d7651880cb30",
   "metadata": {},
   "outputs": [],
   "source": []
  },
  {
   "cell_type": "code",
   "execution_count": 10,
   "id": "6ae231db-eaeb-4240-999a-ec8400b3648c",
   "metadata": {},
   "outputs": [],
   "source": [
    "## Key error "
   ]
  },
  {
   "cell_type": "code",
   "execution_count": 71,
   "id": "abf43e6b-5332-4a7d-b27e-5774d8ea35e4",
   "metadata": {},
   "outputs": [],
   "source": [
    "# Quiz"
   ]
  },
  {
   "cell_type": "code",
   "execution_count": 21,
   "id": "d0e18ba4-3987-4e34-b1a2-63b3fb3b250b",
   "metadata": {},
   "outputs": [
    {
     "ename": "KeyError",
     "evalue": "'apple'",
     "output_type": "error",
     "traceback": [
      "\u001b[0;31m---------------------------------------------------------------------------\u001b[0m",
      "\u001b[0;31mKeyError\u001b[0m                                  Traceback (most recent call last)",
      "\u001b[0;32m/var/folders/zn/hkv6562d6_d30glfs8yc76900000gn/T/ipykernel_11728/539482351.py\u001b[0m in \u001b[0;36m<module>\u001b[0;34m\u001b[0m\n\u001b[0;32m----> 1\u001b[0;31m \u001b[0mfruits\u001b[0m\u001b[0;34m[\u001b[0m\u001b[0;34m\"apple\"\u001b[0m\u001b[0;34m]\u001b[0m\u001b[0;34m\u001b[0m\u001b[0;34m\u001b[0m\u001b[0m\n\u001b[0m",
      "\u001b[0;31mKeyError\u001b[0m: 'apple'"
     ]
    }
   ],
   "source": [
    "fruits[\"apple\"]"
   ]
  },
  {
   "cell_type": "code",
   "execution_count": 22,
   "id": "1bf56aa0-f37b-4b1b-a72f-d9697ce1a44f",
   "metadata": {},
   "outputs": [],
   "source": [
    "# Quiz"
   ]
  },
  {
   "cell_type": "code",
   "execution_count": 23,
   "id": "0695b608-cbcf-4151-97a9-3b14e69e4991",
   "metadata": {},
   "outputs": [
    {
     "ename": "KeyError",
     "evalue": "'this'",
     "output_type": "error",
     "traceback": [
      "\u001b[0;31m---------------------------------------------------------------------------\u001b[0m",
      "\u001b[0;31mKeyError\u001b[0m                                  Traceback (most recent call last)",
      "\u001b[0;32m/var/folders/zn/hkv6562d6_d30glfs8yc76900000gn/T/ipykernel_11728/136639288.py\u001b[0m in \u001b[0;36m<module>\u001b[0;34m\u001b[0m\n\u001b[1;32m      4\u001b[0m \u001b[0;34m\"the\"\u001b[0m\u001b[0;34m:\u001b[0m \u001b[0;36m4\u001b[0m\u001b[0;34m\u001b[0m\u001b[0;34m\u001b[0m\u001b[0m\n\u001b[1;32m      5\u001b[0m }\n\u001b[0;32m----> 6\u001b[0;31m \u001b[0mthis_count\u001b[0m \u001b[0;34m=\u001b[0m \u001b[0mwords\u001b[0m\u001b[0;34m[\u001b[0m\u001b[0;34m\"this\"\u001b[0m\u001b[0;34m]\u001b[0m\u001b[0;34m\u001b[0m\u001b[0;34m\u001b[0m\u001b[0m\n\u001b[0m\u001b[1;32m      7\u001b[0m \u001b[0;34m\u001b[0m\u001b[0m\n\u001b[1;32m      8\u001b[0m \u001b[0mprint\u001b[0m\u001b[0;34m(\u001b[0m\u001b[0mthis_count\u001b[0m\u001b[0;34m)\u001b[0m\u001b[0;34m\u001b[0m\u001b[0;34m\u001b[0m\u001b[0m\n",
      "\u001b[0;31mKeyError\u001b[0m: 'this'"
     ]
    }
   ],
   "source": [
    "words = {\n",
    "\"is\": 2,\n",
    "\"hello\": 3,\n",
    "\"the\": 4\n",
    "}\n",
    "this_count = words[\"this\"]\n",
    "\n",
    "print(this_count)"
   ]
  },
  {
   "cell_type": "code",
   "execution_count": null,
   "id": "fc5a8325-632d-4c97-a1de-018f50981e05",
   "metadata": {},
   "outputs": [],
   "source": []
  },
  {
   "cell_type": "code",
   "execution_count": null,
   "id": "a9c76664-2c24-4257-bf3e-bcd72c5f4464",
   "metadata": {},
   "outputs": [],
   "source": []
  },
  {
   "cell_type": "code",
   "execution_count": null,
   "id": "48ddae55-a565-484a-b84c-017cf916739c",
   "metadata": {},
   "outputs": [],
   "source": []
  },
  {
   "cell_type": "code",
   "execution_count": null,
   "id": "26341e25-4942-4fc2-a7e4-e15aced223bc",
   "metadata": {},
   "outputs": [],
   "source": []
  },
  {
   "cell_type": "code",
   "execution_count": 11,
   "id": "1774cc51-c18a-45f2-8a96-50f2a020b4f1",
   "metadata": {},
   "outputs": [],
   "source": [
    "## Can we have 2 keys in dict with same meaning"
   ]
  },
  {
   "cell_type": "code",
   "execution_count": 91,
   "id": "2b7da3d3-7ea4-4b3a-8eb0-cf7949f75f6c",
   "metadata": {},
   "outputs": [],
   "source": [
    "# Keys are unique in dict"
   ]
  },
  {
   "cell_type": "code",
   "execution_count": 25,
   "id": "e6652072-a35b-40cb-b947-bfd3a9b0d755",
   "metadata": {},
   "outputs": [],
   "source": [
    "fruits = {'Apple': 120, 'Mango': 200, 'Banana': 60, 'Papaya': 50, \"Apple\": 150}"
   ]
  },
  {
   "cell_type": "code",
   "execution_count": 26,
   "id": "de47ec96-33f0-47a5-8e72-24b4061a7116",
   "metadata": {},
   "outputs": [
    {
     "name": "stdout",
     "output_type": "stream",
     "text": [
      "{'Apple': 150, 'Mango': 200, 'Banana': 60, 'Papaya': 50}\n"
     ]
    }
   ],
   "source": [
    "print(fruits)"
   ]
  },
  {
   "cell_type": "code",
   "execution_count": 27,
   "id": "0fbaff90-6880-4e8f-b012-d8c74a014d23",
   "metadata": {},
   "outputs": [],
   "source": [
    "fruits = {'Apple': 120, 'Mango': 120, 'Banana': 60, 'Papaya': 50}"
   ]
  },
  {
   "cell_type": "code",
   "execution_count": 28,
   "id": "5f9e9a5e-554e-4d11-ad18-508daf7ad63d",
   "metadata": {},
   "outputs": [
    {
     "data": {
      "text/plain": [
       "{'Apple': 120, 'Mango': 120, 'Banana': 60, 'Papaya': 50}"
      ]
     },
     "execution_count": 28,
     "metadata": {},
     "output_type": "execute_result"
    }
   ],
   "source": [
    "fruits"
   ]
  },
  {
   "cell_type": "code",
   "execution_count": null,
   "id": "5b30bdce-53ed-4454-8650-64571116b163",
   "metadata": {},
   "outputs": [],
   "source": []
  },
  {
   "cell_type": "markdown",
   "id": "f72624f2-4f30-4a6f-aa71-3f4adbc5dbe7",
   "metadata": {},
   "source": [
    "#### Adding new values"
   ]
  },
  {
   "cell_type": "code",
   "execution_count": 34,
   "id": "0a291bb5-a70a-4c9b-9f24-c207853271c1",
   "metadata": {},
   "outputs": [],
   "source": [
    "# Adding new fruits: d[\"item\"] = value"
   ]
  },
  {
   "cell_type": "code",
   "execution_count": 29,
   "id": "ac8c4e79-93d9-4847-8d8d-15623b1f5eeb",
   "metadata": {},
   "outputs": [
    {
     "data": {
      "text/plain": [
       "{'Apple': 120, 'Mango': 120, 'Banana': 60, 'Papaya': 50}"
      ]
     },
     "execution_count": 29,
     "metadata": {},
     "output_type": "execute_result"
    }
   ],
   "source": [
    "fruits"
   ]
  },
  {
   "cell_type": "code",
   "execution_count": 32,
   "id": "c3ef6b1d-09da-4a10-aac4-1cb0dda54494",
   "metadata": {},
   "outputs": [],
   "source": [
    "fruits[\"PineApple\"] = 100"
   ]
  },
  {
   "cell_type": "code",
   "execution_count": 33,
   "id": "91138573-a203-4094-a9ab-f817a772f8fa",
   "metadata": {},
   "outputs": [
    {
     "data": {
      "text/plain": [
       "{'Apple': 120, 'Mango': 120, 'Banana': 60, 'Papaya': 50, 'PineApple': 100}"
      ]
     },
     "execution_count": 33,
     "metadata": {},
     "output_type": "execute_result"
    }
   ],
   "source": [
    "fruits"
   ]
  },
  {
   "cell_type": "code",
   "execution_count": null,
   "id": "129e5b06-9b83-470f-8045-8a7a626fb0ce",
   "metadata": {},
   "outputs": [],
   "source": []
  },
  {
   "cell_type": "code",
   "execution_count": null,
   "id": "8af70ede-7be3-4f65-aa12-f963a18c3224",
   "metadata": {},
   "outputs": [],
   "source": []
  },
  {
   "cell_type": "code",
   "execution_count": 16,
   "id": "62a10b51-0b26-455c-bbc7-c553ff9b41fe",
   "metadata": {},
   "outputs": [],
   "source": [
    "# Updating the value of given item"
   ]
  },
  {
   "cell_type": "code",
   "execution_count": 35,
   "id": "961288cf-ec83-4f6d-846f-e9fc22091f22",
   "metadata": {},
   "outputs": [],
   "source": [
    "fruits[\"Apple\"] = 80"
   ]
  },
  {
   "cell_type": "code",
   "execution_count": 36,
   "id": "3320f8b3-4f27-4c86-8484-b0ad3dda3fef",
   "metadata": {},
   "outputs": [
    {
     "data": {
      "text/plain": [
       "{'Apple': 80, 'Mango': 120, 'Banana': 60, 'Papaya': 50, 'PineApple': 100}"
      ]
     },
     "execution_count": 36,
     "metadata": {},
     "output_type": "execute_result"
    }
   ],
   "source": [
    "fruits"
   ]
  },
  {
   "cell_type": "code",
   "execution_count": null,
   "id": "4cc97f28-2dd6-47dd-94fd-364eeec898f2",
   "metadata": {},
   "outputs": [],
   "source": []
  },
  {
   "cell_type": "code",
   "execution_count": null,
   "id": "44268ece-27d7-41bd-bdc6-67932e23e7e1",
   "metadata": {},
   "outputs": [],
   "source": []
  },
  {
   "cell_type": "code",
   "execution_count": 14,
   "id": "eb9881b1-3b36-49d1-85b2-f3dbebee69a9",
   "metadata": {},
   "outputs": [],
   "source": [
    "# update"
   ]
  },
  {
   "cell_type": "code",
   "execution_count": 43,
   "id": "bd8aa27e-fbcb-40f0-95f4-c4bb254c234a",
   "metadata": {},
   "outputs": [
    {
     "name": "stdout",
     "output_type": "stream",
     "text": [
      "{'Apple': 120, 'Mango': 200, 'Banana': 60, 'Papaya': 50, 'Kiwi': 50, 'Pear': 60}\n",
      "{'Apple': 100, 'Kiwi': 50, 'Pear': 60}\n"
     ]
    }
   ],
   "source": [
    "print(d1)\n",
    "d2 = {'Apple': 100, 'Kiwi': 50, 'Pear': 60}\n",
    "print(d2)"
   ]
  },
  {
   "cell_type": "code",
   "execution_count": 44,
   "id": "1232601d-b36a-41b2-a17c-87625f9a2b73",
   "metadata": {},
   "outputs": [],
   "source": [
    "d1.update(d2)"
   ]
  },
  {
   "cell_type": "code",
   "execution_count": 45,
   "id": "d86bd995-3a58-42ab-a8df-5862a8674296",
   "metadata": {},
   "outputs": [
    {
     "data": {
      "text/plain": [
       "{'Apple': 100,\n",
       " 'Mango': 200,\n",
       " 'Banana': 60,\n",
       " 'Papaya': 50,\n",
       " 'Kiwi': 50,\n",
       " 'Pear': 60}"
      ]
     },
     "execution_count": 45,
     "metadata": {},
     "output_type": "execute_result"
    }
   ],
   "source": [
    "d1"
   ]
  },
  {
   "cell_type": "code",
   "execution_count": null,
   "id": "4ae7ae62-b0fb-45f0-9829-6d289290a3ce",
   "metadata": {},
   "outputs": [],
   "source": []
  },
  {
   "cell_type": "code",
   "execution_count": null,
   "id": "a0542b9a-659d-41a6-8cc1-58ae132f9ea3",
   "metadata": {},
   "outputs": [],
   "source": []
  },
  {
   "cell_type": "code",
   "execution_count": 29,
   "id": "62cb2cd1-2a49-431c-98bb-cccf79b6aeb7",
   "metadata": {},
   "outputs": [],
   "source": [
    "## Getting errors while trying to get a value for key not present?"
   ]
  },
  {
   "cell_type": "markdown",
   "id": "c6e549df-2f40-408e-868c-afccd0fbbe19",
   "metadata": {},
   "source": [
    "#### Get function\n",
    "- get(key, 0)"
   ]
  },
  {
   "cell_type": "code",
   "execution_count": 30,
   "id": "efb40887-8051-4c77-bd8c-62d94ac90fda",
   "metadata": {},
   "outputs": [],
   "source": [
    "# quiz"
   ]
  },
  {
   "cell_type": "code",
   "execution_count": 46,
   "id": "21c660c0-a713-48fa-bce4-384330929bd2",
   "metadata": {},
   "outputs": [
    {
     "data": {
      "text/plain": [
       "{'Apple': 80, 'Mango': 120, 'Banana': 60, 'Papaya': 50, 'PineApple': 100}"
      ]
     },
     "execution_count": 46,
     "metadata": {},
     "output_type": "execute_result"
    }
   ],
   "source": [
    "fruits"
   ]
  },
  {
   "cell_type": "code",
   "execution_count": 51,
   "id": "9d51100c-23aa-4880-ac25-304ccb088b39",
   "metadata": {},
   "outputs": [
    {
     "data": {
      "text/plain": [
       "0"
      ]
     },
     "execution_count": 51,
     "metadata": {},
     "output_type": "execute_result"
    }
   ],
   "source": [
    "fruits.get(\"Avocado\", 0)"
   ]
  },
  {
   "cell_type": "code",
   "execution_count": 53,
   "id": "03c7b4b8-b0fe-4ab9-81bf-80a7f57cc377",
   "metadata": {},
   "outputs": [
    {
     "data": {
      "text/plain": [
       "80"
      ]
     },
     "execution_count": 53,
     "metadata": {},
     "output_type": "execute_result"
    }
   ],
   "source": [
    "fruits.get(\"Apple\", 0)"
   ]
  },
  {
   "cell_type": "code",
   "execution_count": null,
   "id": "a99fb819-6d36-4614-a3d5-2850c3904da1",
   "metadata": {},
   "outputs": [],
   "source": []
  },
  {
   "cell_type": "code",
   "execution_count": 54,
   "id": "4a506eca-49d9-4404-9081-e43bdf8cdd66",
   "metadata": {},
   "outputs": [],
   "source": [
    "# Quiz"
   ]
  },
  {
   "cell_type": "code",
   "execution_count": 55,
   "id": "fae3963c-125b-47a5-afd6-a7dffefa8160",
   "metadata": {},
   "outputs": [
    {
     "name": "stdout",
     "output_type": "stream",
     "text": [
      "1\n",
      "2\n",
      "3\n",
      "0\n"
     ]
    }
   ],
   "source": [
    "d = {\"a\": 1, \"b\": 2, \"c\": 3}\n",
    "print(d.get(\"a\", 0))\n",
    "print(d.get(\"b\", 0))\n",
    "print(d.get(\"c\", 0))\n",
    "print(d.get(\"d\", 0))"
   ]
  },
  {
   "cell_type": "code",
   "execution_count": 56,
   "id": "1bd93c8b-f864-4030-b5a8-d8246692ced0",
   "metadata": {},
   "outputs": [
    {
     "name": "stdout",
     "output_type": "stream",
     "text": [
      "55\n"
     ]
    }
   ],
   "source": [
    "d = {\"a\": 1, \"b\": 2, \"c\": 3}\n",
    "d['d'] = 55\n",
    "\n",
    "print(d['d'])"
   ]
  },
  {
   "cell_type": "code",
   "execution_count": null,
   "id": "034cd407-3ba0-423b-a521-d744b1b73dc4",
   "metadata": {},
   "outputs": [],
   "source": []
  },
  {
   "cell_type": "code",
   "execution_count": null,
   "id": "ce1076e2-a62c-436e-8e62-30a8aeda2bda",
   "metadata": {},
   "outputs": [],
   "source": []
  },
  {
   "cell_type": "code",
   "execution_count": null,
   "id": "7ce03f28-a0c5-489a-9095-717bffba6934",
   "metadata": {},
   "outputs": [],
   "source": []
  },
  {
   "cell_type": "markdown",
   "id": "e6d300ab-c050-42e7-b101-04260bef677a",
   "metadata": {},
   "source": [
    "### Iterating on a dict"
   ]
  },
  {
   "cell_type": "code",
   "execution_count": 36,
   "id": "5d3aee36-2257-4886-9435-3b7fc7da2159",
   "metadata": {},
   "outputs": [],
   "source": [
    "# Quiz"
   ]
  },
  {
   "cell_type": "code",
   "execution_count": 57,
   "id": "cb655bcd-ab10-4621-b0a2-a1d5febb10dc",
   "metadata": {},
   "outputs": [
    {
     "data": {
      "text/plain": [
       "{'Apple': 80, 'Mango': 120, 'Banana': 60, 'Papaya': 50, 'PineApple': 100}"
      ]
     },
     "execution_count": 57,
     "metadata": {},
     "output_type": "execute_result"
    }
   ],
   "source": [
    "fruits"
   ]
  },
  {
   "cell_type": "code",
   "execution_count": null,
   "id": "27d648c5-3ae6-46c5-a270-fdbc0f7a8c9a",
   "metadata": {},
   "outputs": [],
   "source": []
  },
  {
   "cell_type": "code",
   "execution_count": 58,
   "id": "5d02250b-f63d-4169-aaf3-57180a7a144b",
   "metadata": {},
   "outputs": [
    {
     "name": "stdout",
     "output_type": "stream",
     "text": [
      "Apple\n",
      "Mango\n",
      "Banana\n",
      "Papaya\n",
      "PineApple\n"
     ]
    }
   ],
   "source": [
    "for i in fruits:\n",
    "    print(i)"
   ]
  },
  {
   "cell_type": "code",
   "execution_count": null,
   "id": "f826f272-a12d-4866-aba6-d558b34c7f98",
   "metadata": {},
   "outputs": [],
   "source": []
  },
  {
   "cell_type": "code",
   "execution_count": null,
   "id": "cf47f711-b788-4461-af61-24eaf4d9c115",
   "metadata": {},
   "outputs": [],
   "source": []
  },
  {
   "cell_type": "code",
   "execution_count": 116,
   "id": "4bd438c5-8a81-4a92-8acd-075d390dfb65",
   "metadata": {},
   "outputs": [],
   "source": [
    "## Challenge:\n",
    "# print keys and values of a dict"
   ]
  },
  {
   "cell_type": "code",
   "execution_count": 59,
   "id": "45142a01-2fcc-42e7-9908-12d8e8bc6906",
   "metadata": {},
   "outputs": [
    {
     "data": {
      "text/plain": [
       "80"
      ]
     },
     "execution_count": 59,
     "metadata": {},
     "output_type": "execute_result"
    }
   ],
   "source": [
    "fruits[\"Apple\"]"
   ]
  },
  {
   "cell_type": "code",
   "execution_count": 60,
   "id": "5281638e-25e6-4577-89cf-e6be919e36f2",
   "metadata": {},
   "outputs": [
    {
     "data": {
      "text/plain": [
       "120"
      ]
     },
     "execution_count": 60,
     "metadata": {},
     "output_type": "execute_result"
    }
   ],
   "source": [
    "fruits[\"Mango\"]"
   ]
  },
  {
   "cell_type": "code",
   "execution_count": 62,
   "id": "88f169b0-f32e-474f-95f7-2ae08ce5d5ea",
   "metadata": {},
   "outputs": [
    {
     "name": "stdout",
     "output_type": "stream",
     "text": [
      "Apple 80\n",
      "Mango 120\n",
      "Banana 60\n",
      "Papaya 50\n",
      "PineApple 100\n"
     ]
    }
   ],
   "source": [
    "for i in fruits:\n",
    "    print(i, fruits[i])"
   ]
  },
  {
   "cell_type": "code",
   "execution_count": null,
   "id": "e4bd88ed-5b27-4b8c-adba-e4fdbe814c45",
   "metadata": {},
   "outputs": [],
   "source": []
  },
  {
   "cell_type": "code",
   "execution_count": 25,
   "id": "aaed4166-837b-4e33-91a5-fdc4960b1d42",
   "metadata": {},
   "outputs": [],
   "source": [
    "# for i, v in dict.items()"
   ]
  },
  {
   "cell_type": "code",
   "execution_count": 64,
   "id": "18d7d80a-830b-412c-87df-52361bc75cf6",
   "metadata": {},
   "outputs": [
    {
     "name": "stdout",
     "output_type": "stream",
     "text": [
      "dict_items([('Apple', 80), ('Mango', 120), ('Banana', 60), ('Papaya', 50), ('PineApple', 100)])\n"
     ]
    }
   ],
   "source": [
    "print(fruits.items())"
   ]
  },
  {
   "cell_type": "code",
   "execution_count": 66,
   "id": "08c62ed3-eb10-45dd-9c83-6a958c9e5662",
   "metadata": {},
   "outputs": [
    {
     "name": "stdout",
     "output_type": "stream",
     "text": [
      "Apple 80\n",
      "Mango 120\n",
      "Banana 60\n",
      "Papaya 50\n",
      "PineApple 100\n"
     ]
    }
   ],
   "source": [
    "for i, v in fruits.items():\n",
    "    print(i, v)"
   ]
  },
  {
   "cell_type": "code",
   "execution_count": null,
   "id": "b5585d65-2de4-4a28-930e-e66a57849673",
   "metadata": {},
   "outputs": [],
   "source": []
  },
  {
   "cell_type": "code",
   "execution_count": null,
   "id": "98a213b8-ba93-4078-93e1-7ae1f87dcd7c",
   "metadata": {},
   "outputs": [],
   "source": []
  },
  {
   "cell_type": "markdown",
   "id": "64b59c88-4fd2-432a-b6e6-a1fac3d89ca9",
   "metadata": {},
   "source": [
    "#### Keys in a dict"
   ]
  },
  {
   "cell_type": "code",
   "execution_count": 67,
   "id": "c7561733-4a0c-4596-9560-67f107b422c4",
   "metadata": {},
   "outputs": [
    {
     "name": "stdout",
     "output_type": "stream",
     "text": [
      "dict_keys(['Apple', 'Mango', 'Banana', 'Papaya', 'PineApple'])\n"
     ]
    }
   ],
   "source": [
    "print(fruits.keys())"
   ]
  },
  {
   "cell_type": "code",
   "execution_count": null,
   "id": "6d5a5e00-2243-42cd-8fd0-650a5a90b01b",
   "metadata": {},
   "outputs": [],
   "source": []
  },
  {
   "cell_type": "code",
   "execution_count": null,
   "id": "cd5b7e49-6585-4911-a24e-898e9630a821",
   "metadata": {},
   "outputs": [],
   "source": []
  },
  {
   "cell_type": "code",
   "execution_count": null,
   "id": "e65c38f1-5bda-4608-aa3b-95e1d47150af",
   "metadata": {},
   "outputs": [],
   "source": []
  },
  {
   "cell_type": "markdown",
   "id": "a115150c-1228-4406-8e1d-050f18161cc4",
   "metadata": {},
   "source": [
    "#### Values in a dict"
   ]
  },
  {
   "cell_type": "code",
   "execution_count": 68,
   "id": "9706e121-eec3-4307-96e9-f14718731d85",
   "metadata": {},
   "outputs": [
    {
     "data": {
      "text/plain": [
       "{'Apple': 80, 'Mango': 120, 'Banana': 60, 'Papaya': 50, 'PineApple': 100}"
      ]
     },
     "execution_count": 68,
     "metadata": {},
     "output_type": "execute_result"
    }
   ],
   "source": [
    "fruits"
   ]
  },
  {
   "cell_type": "code",
   "execution_count": 69,
   "id": "27e658a8-e5e0-48ba-b54c-abb4adfb1de6",
   "metadata": {},
   "outputs": [],
   "source": [
    "# 80, 120, 60, 50, 100"
   ]
  },
  {
   "cell_type": "code",
   "execution_count": 75,
   "id": "9dd68799-4840-4a66-97d6-0095e5d0e05b",
   "metadata": {},
   "outputs": [
    {
     "name": "stdout",
     "output_type": "stream",
     "text": [
      "dict_values([80, 120, 60, 50, 100])\n"
     ]
    }
   ],
   "source": [
    "print(fruits.values())"
   ]
  },
  {
   "cell_type": "code",
   "execution_count": null,
   "id": "7ac794b0-2c2d-4774-929a-6f45cb5eb565",
   "metadata": {},
   "outputs": [],
   "source": []
  },
  {
   "cell_type": "code",
   "execution_count": null,
   "id": "d041a927-659b-4ceb-b7b8-1ed05fd6061e",
   "metadata": {},
   "outputs": [],
   "source": []
  },
  {
   "cell_type": "markdown",
   "id": "c8285697-bbd2-46d4-b7c5-00bb8b858c34",
   "metadata": {},
   "source": [
    "### Len function "
   ]
  },
  {
   "cell_type": "code",
   "execution_count": 71,
   "id": "1b204d83-1037-47c4-a2f8-bf4dc6a19f58",
   "metadata": {},
   "outputs": [
    {
     "data": {
      "text/plain": [
       "{'Apple': 80, 'Mango': 120, 'Banana': 60, 'Papaya': 50, 'PineApple': 100}"
      ]
     },
     "execution_count": 71,
     "metadata": {},
     "output_type": "execute_result"
    }
   ],
   "source": [
    "fruits"
   ]
  },
  {
   "cell_type": "code",
   "execution_count": 72,
   "id": "3541ce74-91fe-4888-8f7a-18972d72846e",
   "metadata": {},
   "outputs": [
    {
     "name": "stdout",
     "output_type": "stream",
     "text": [
      "5\n"
     ]
    }
   ],
   "source": [
    "print(len(fruits))"
   ]
  },
  {
   "cell_type": "code",
   "execution_count": null,
   "id": "0a84c875-6be8-4137-9595-da5c4375852c",
   "metadata": {},
   "outputs": [],
   "source": []
  },
  {
   "cell_type": "code",
   "execution_count": 73,
   "id": "a33aff17-ee1e-4346-9898-dedc35d39495",
   "metadata": {},
   "outputs": [],
   "source": [
    "# Quiz"
   ]
  },
  {
   "cell_type": "code",
   "execution_count": 76,
   "id": "9cea8ce2-2720-4f2f-820d-ca681449f670",
   "metadata": {},
   "outputs": [
    {
     "name": "stdout",
     "output_type": "stream",
     "text": [
      "1 4 9 "
     ]
    }
   ],
   "source": [
    "a = {1: 1, 2: 4, 3: 9}\n",
    "\n",
    "for x in a:\n",
    "    print(a[x], end=' ')"
   ]
  },
  {
   "cell_type": "code",
   "execution_count": null,
   "id": "70832d81-c04e-46a3-992d-4daad6c5d2fb",
   "metadata": {},
   "outputs": [],
   "source": []
  },
  {
   "cell_type": "code",
   "execution_count": null,
   "id": "e2af9247-cb81-4679-aba8-5896c98fa6fb",
   "metadata": {},
   "outputs": [],
   "source": []
  },
  {
   "cell_type": "markdown",
   "id": "6799283c-9318-4a53-8424-db38388a3e06",
   "metadata": {},
   "source": [
    "### in dict: Citizenship check"
   ]
  },
  {
   "cell_type": "code",
   "execution_count": 137,
   "id": "7ea83bb6-5ead-413e-959f-54f05105a73b",
   "metadata": {},
   "outputs": [],
   "source": [
    "# in operator will check for keys only"
   ]
  },
  {
   "cell_type": "code",
   "execution_count": 77,
   "id": "c67a4dc2-9665-4c64-9d42-5ab71f971d07",
   "metadata": {},
   "outputs": [
    {
     "data": {
      "text/plain": [
       "{'Apple': 80, 'Mango': 120, 'Banana': 60, 'Papaya': 50, 'PineApple': 100}"
      ]
     },
     "execution_count": 77,
     "metadata": {},
     "output_type": "execute_result"
    }
   ],
   "source": [
    "fruits"
   ]
  },
  {
   "cell_type": "code",
   "execution_count": 79,
   "id": "2aa8869f-be16-443c-b2aa-7d94be085136",
   "metadata": {},
   "outputs": [
    {
     "data": {
      "text/plain": [
       "True"
      ]
     },
     "execution_count": 79,
     "metadata": {},
     "output_type": "execute_result"
    }
   ],
   "source": [
    "\"Apple\" in fruits"
   ]
  },
  {
   "cell_type": "code",
   "execution_count": 80,
   "id": "0d3b6b42-b9ed-4270-963f-c1666808b0b1",
   "metadata": {},
   "outputs": [
    {
     "data": {
      "text/plain": [
       "False"
      ]
     },
     "execution_count": 80,
     "metadata": {},
     "output_type": "execute_result"
    }
   ],
   "source": [
    "\"Pear\" in fruits"
   ]
  },
  {
   "cell_type": "code",
   "execution_count": null,
   "id": "88c4b19e-c3e7-4a74-808a-67d5d0bb8d6e",
   "metadata": {},
   "outputs": [],
   "source": []
  },
  {
   "cell_type": "code",
   "execution_count": null,
   "id": "c37bed48-8eaf-4270-b526-5c142fbfea93",
   "metadata": {},
   "outputs": [],
   "source": []
  },
  {
   "cell_type": "code",
   "execution_count": null,
   "id": "9e22a992-e582-4243-9fe7-243ec17c783c",
   "metadata": {},
   "outputs": [],
   "source": []
  },
  {
   "cell_type": "code",
   "execution_count": 81,
   "id": "59ad1660-d62d-48ef-8d4f-ddb8d9fb5fab",
   "metadata": {},
   "outputs": [],
   "source": [
    "## Challenge: Take an input\n",
    "# Find the freq of each letter and return the letter and their freq\n",
    "## ex: \"Rahul janghu\"\n",
    "# \"R\" : 1\n",
    "# \"a\" : 2\n",
    "# \"h\" : 2\n",
    "# \"u\" : 2\n",
    "# \"l\" : 1\n",
    "# \" \" : 1\n",
    "# \"j\" : 1\n",
    "# \"n\" : 1\n",
    "# \"g\" : 1"
   ]
  },
  {
   "cell_type": "code",
   "execution_count": 82,
   "id": "d9954381-11b5-4bbc-b439-86f59e11abbb",
   "metadata": {},
   "outputs": [
    {
     "name": "stdin",
     "output_type": "stream",
     "text": [
      " Rahul janghu\n"
     ]
    }
   ],
   "source": [
    "name = input()"
   ]
  },
  {
   "cell_type": "code",
   "execution_count": 84,
   "id": "5a51e5a9-3f79-4afe-9225-7195c75dcd06",
   "metadata": {},
   "outputs": [],
   "source": [
    "# iterate on name"
   ]
  },
  {
   "cell_type": "code",
   "execution_count": 83,
   "id": "5774b6a6-a00a-4fa2-8ccc-b0322220dc67",
   "metadata": {},
   "outputs": [
    {
     "name": "stdout",
     "output_type": "stream",
     "text": [
      "R\n",
      "a\n",
      "h\n",
      "u\n",
      "l\n",
      " \n",
      "j\n",
      "a\n",
      "n\n",
      "g\n",
      "h\n",
      "u\n"
     ]
    }
   ],
   "source": [
    "for i in name:\n",
    "    print(i)"
   ]
  },
  {
   "cell_type": "code",
   "execution_count": 88,
   "id": "69626986-6ae7-44e8-a763-a051a03297aa",
   "metadata": {},
   "outputs": [
    {
     "name": "stdout",
     "output_type": "stream",
     "text": [
      "{'R': 1, 'a': 2, 'h': 2, 'u': 2, 'l': 1, ' ': 1, 'j': 1, 'n': 1, 'g': 1}\n"
     ]
    }
   ],
   "source": [
    "freq = {}\n",
    "\n",
    "for i in name:\n",
    "    if i in freq:\n",
    "        freq[i] += 1\n",
    "    else:\n",
    "        freq[i] = 1\n",
    "print(freq)"
   ]
  },
  {
   "cell_type": "code",
   "execution_count": null,
   "id": "ea151836-92ff-4f69-b267-7c9bc4e5eb7f",
   "metadata": {},
   "outputs": [],
   "source": []
  },
  {
   "cell_type": "code",
   "execution_count": null,
   "id": "5f56bb92-247e-4819-9d34-c6273f7419b9",
   "metadata": {},
   "outputs": [],
   "source": []
  },
  {
   "cell_type": "code",
   "execution_count": 89,
   "id": "5a4ec516-8f42-4308-bb15-4911a70fded3",
   "metadata": {},
   "outputs": [],
   "source": [
    "# Final Code"
   ]
  },
  {
   "cell_type": "code",
   "execution_count": 93,
   "id": "e44f2415-2ab0-4921-afbb-80491e6e06f9",
   "metadata": {},
   "outputs": [
    {
     "name": "stdin",
     "output_type": "stream",
     "text": [
      " ra\n"
     ]
    },
    {
     "name": "stdout",
     "output_type": "stream",
     "text": [
      "{'r': 1, 'a': 1}\n"
     ]
    }
   ],
   "source": [
    "name = input()\n",
    "freq = {}\n",
    "\n",
    "for i in name:\n",
    "    if i in freq:\n",
    "        freq[i] += 1\n",
    "    else:\n",
    "        freq[i] = 1\n",
    "print(freq)"
   ]
  },
  {
   "cell_type": "code",
   "execution_count": null,
   "id": "869e4cf0-c8f3-48c1-b3e4-86adfe06e96c",
   "metadata": {},
   "outputs": [],
   "source": []
  },
  {
   "cell_type": "code",
   "execution_count": 94,
   "id": "2fda340c-9ba4-491c-ae16-e855aa35a8a9",
   "metadata": {},
   "outputs": [],
   "source": [
    "# Doubts"
   ]
  },
  {
   "cell_type": "code",
   "execution_count": 95,
   "id": "37dcf568-01fd-45b2-ac41-b324bbd7d973",
   "metadata": {},
   "outputs": [
    {
     "data": {
      "text/plain": [
       "{'Apple': 80, 'Mango': 120, 'Banana': 60, 'Papaya': 50, 'PineApple': 100}"
      ]
     },
     "execution_count": 95,
     "metadata": {},
     "output_type": "execute_result"
    }
   ],
   "source": [
    "fruits"
   ]
  },
  {
   "cell_type": "code",
   "execution_count": 97,
   "id": "c099fab1-fe69-467a-b758-3867bbb3839d",
   "metadata": {},
   "outputs": [
    {
     "data": {
      "text/plain": [
       "80"
      ]
     },
     "execution_count": 97,
     "metadata": {},
     "output_type": "execute_result"
    }
   ],
   "source": [
    "fruits[\"Apple\"]"
   ]
  },
  {
   "cell_type": "code",
   "execution_count": null,
   "id": "6fc5a387-180c-4c53-a46a-5b5205f5f01b",
   "metadata": {},
   "outputs": [],
   "source": []
  }
 ],
 "metadata": {
  "kernelspec": {
   "display_name": "Python 3 (ipykernel)",
   "language": "python",
   "name": "python3"
  },
  "language_info": {
   "codemirror_mode": {
    "name": "ipython",
    "version": 3
   },
   "file_extension": ".py",
   "mimetype": "text/x-python",
   "name": "python",
   "nbconvert_exporter": "python",
   "pygments_lexer": "ipython3",
   "version": "3.9.7"
  }
 },
 "nbformat": 4,
 "nbformat_minor": 5
}
