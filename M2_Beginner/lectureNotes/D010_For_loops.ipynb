{
 "cells": [
  {
   "cell_type": "markdown",
   "id": "bc212813-32cd-451d-8e22-3cefa285a52a",
   "metadata": {},
   "source": [
    "## For loop\n",
    "- The iterator starts from the beginning of the sequence. In each iteration, the iterator updates to the next value in the sequence."
   ]
  },
  {
   "cell_type": "markdown",
   "id": "7eaa706a-b0d6-4ec7-908f-02521f8dd201",
   "metadata": {},
   "source": [
    "- In a for loop, we need to define three main things:\n",
    "\n",
    "1. The name of the iterator\n",
    "2. The sequence to be traversed\n",
    "3. The set of operations to perform"
   ]
  },
  {
   "cell_type": "markdown",
   "id": "edb59221-537b-4765-b018-3dbee9df0849",
   "metadata": {},
   "source": [
    "![image](../Photos/LOOP-LOOP-EVERYWHERE.jpeg)"
   ]
  },
  {
   "cell_type": "code",
   "execution_count": null,
   "id": "02223716-1a0e-4d40-9253-7ef26e6fda59",
   "metadata": {},
   "outputs": [],
   "source": []
  },
  {
   "cell_type": "code",
   "execution_count": null,
   "id": "f4cdaf18-3135-4edc-aa4c-b6169d6d3fea",
   "metadata": {},
   "outputs": [],
   "source": []
  },
  {
   "cell_type": "code",
   "execution_count": null,
   "id": "d40b6212-b85e-4e06-be78-4bc2a462f9c2",
   "metadata": {},
   "outputs": [],
   "source": []
  },
  {
   "cell_type": "code",
   "execution_count": null,
   "id": "ff1b4c99-7424-43b9-8d53-8679ad648029",
   "metadata": {},
   "outputs": [],
   "source": []
  },
  {
   "cell_type": "markdown",
   "id": "4d69ce07-e22b-4373-80ec-2aa3b671810a",
   "metadata": {},
   "source": [
    "### Range Function"
   ]
  },
  {
   "cell_type": "code",
   "execution_count": 1,
   "id": "c9a273ca-0bd1-4614-beb4-d7f7f445edec",
   "metadata": {},
   "outputs": [
    {
     "name": "stdout",
     "output_type": "stream",
     "text": [
      "range(0, 11)\n"
     ]
    }
   ],
   "source": [
    "print(range(11))"
   ]
  },
  {
   "cell_type": "code",
   "execution_count": 2,
   "id": "82ccfa91-1506-4e1d-a031-3685975bc9eb",
   "metadata": {},
   "outputs": [
    {
     "name": "stdout",
     "output_type": "stream",
     "text": [
      "[0, 1, 2, 3, 4, 5, 6, 7, 8, 9, 10]\n"
     ]
    }
   ],
   "source": [
    "print(list(range(11)))"
   ]
  },
  {
   "cell_type": "code",
   "execution_count": null,
   "id": "54d8033a-b249-42a8-8e84-4466839fc0cd",
   "metadata": {},
   "outputs": [],
   "source": []
  },
  {
   "cell_type": "code",
   "execution_count": 3,
   "id": "695dc31e-72f6-4e21-9306-617c850248ef",
   "metadata": {},
   "outputs": [
    {
     "name": "stdout",
     "output_type": "stream",
     "text": [
      "[7]\n"
     ]
    }
   ],
   "source": [
    "print(list(range(7, 8)))"
   ]
  },
  {
   "cell_type": "code",
   "execution_count": 4,
   "id": "5907f735-1268-48ca-8bc7-339d1a817c8d",
   "metadata": {},
   "outputs": [
    {
     "name": "stdout",
     "output_type": "stream",
     "text": [
      "[1, 3, 5, 7, 9]\n"
     ]
    }
   ],
   "source": [
    "print(list(range(1, 11, 2)))"
   ]
  },
  {
   "cell_type": "code",
   "execution_count": 8,
   "id": "49ac0400-6363-4fea-a52c-acb1bde8d874",
   "metadata": {},
   "outputs": [
    {
     "name": "stdout",
     "output_type": "stream",
     "text": [
      "[]\n"
     ]
    }
   ],
   "source": [
    "print(list(range(1, 11, -1)))"
   ]
  },
  {
   "cell_type": "code",
   "execution_count": 9,
   "id": "c547b1b1-23ad-4394-83a1-5d23bab4917e",
   "metadata": {},
   "outputs": [
    {
     "name": "stdout",
     "output_type": "stream",
     "text": [
      "[-1, 0, 1, 2, 3, 4]\n"
     ]
    }
   ],
   "source": [
    "print(list(range(-1, 5, 1)))"
   ]
  },
  {
   "cell_type": "code",
   "execution_count": 10,
   "id": "a2100add-eda7-40b9-b012-f1f90a625279",
   "metadata": {},
   "outputs": [
    {
     "name": "stdout",
     "output_type": "stream",
     "text": [
      "[-1, -2, -3, -4]\n"
     ]
    }
   ],
   "source": [
    "print(list(range(-1, -5, -1)))"
   ]
  },
  {
   "cell_type": "code",
   "execution_count": 11,
   "id": "d71e36ac-8a34-4709-9daf-6192915c9ba7",
   "metadata": {},
   "outputs": [
    {
     "name": "stdout",
     "output_type": "stream",
     "text": [
      "[10, 9, 8, 7, 6, 5, 4, 3, 2]\n"
     ]
    }
   ],
   "source": [
    "print(list(range(10, 1, -1)))"
   ]
  },
  {
   "cell_type": "code",
   "execution_count": 12,
   "id": "29ca54d8-6c2e-4bf1-94b2-9ec9d8b1cf58",
   "metadata": {},
   "outputs": [
    {
     "name": "stdout",
     "output_type": "stream",
     "text": [
      "[10, 9, 8, 7, 6, 5, 4, 3, 2, 1]\n"
     ]
    }
   ],
   "source": [
    "print(list(range(10, 0, -1)))"
   ]
  },
  {
   "cell_type": "code",
   "execution_count": 13,
   "id": "5b498b46-001c-4fe9-a685-e944b11b2745",
   "metadata": {},
   "outputs": [
    {
     "name": "stdout",
     "output_type": "stream",
     "text": [
      "[]\n"
     ]
    }
   ],
   "source": [
    "print(list(range(-1, -5, 1)))"
   ]
  },
  {
   "cell_type": "code",
   "execution_count": null,
   "id": "c1fb4ba7-eece-4b85-870a-649e9e319c51",
   "metadata": {},
   "outputs": [],
   "source": []
  },
  {
   "cell_type": "code",
   "execution_count": null,
   "id": "d19d37ea-1d6a-4b0e-bd16-deac698df268",
   "metadata": {},
   "outputs": [],
   "source": []
  },
  {
   "cell_type": "code",
   "execution_count": null,
   "id": "7fa08887-ed39-4467-a2c9-8be3c748d66e",
   "metadata": {},
   "outputs": [],
   "source": []
  },
  {
   "cell_type": "code",
   "execution_count": null,
   "id": "0f7254a6-c5c6-4d7b-a3b8-4825f3edfa9d",
   "metadata": {},
   "outputs": [],
   "source": []
  },
  {
   "cell_type": "code",
   "execution_count": null,
   "id": "2d792170-6921-4857-9876-ce589e12de85",
   "metadata": {},
   "outputs": [],
   "source": []
  },
  {
   "cell_type": "code",
   "execution_count": null,
   "id": "54779e0d-cdb8-4555-b421-12185df40a1f",
   "metadata": {},
   "outputs": [],
   "source": [
    "## iterable, iterator and iteration\n"
   ]
  },
  {
   "cell_type": "code",
   "execution_count": null,
   "id": "6ae03696-a4ee-440b-81d2-3e607ba31664",
   "metadata": {},
   "outputs": [],
   "source": []
  },
  {
   "cell_type": "markdown",
   "id": "e5b59ee2-1605-4bfd-abea-d6d6e5d862c6",
   "metadata": {},
   "source": [
    "#### Print numbers from 1 to 5"
   ]
  },
  {
   "cell_type": "code",
   "execution_count": 15,
   "id": "3a7cb1d7-20f2-49b8-9811-d10aa6c26e27",
   "metadata": {},
   "outputs": [
    {
     "name": "stdout",
     "output_type": "stream",
     "text": [
      "1\n",
      "2\n",
      "3\n",
      "4\n"
     ]
    }
   ],
   "source": [
    "for rahul in range(1, 5):\n",
    "    print(rahul)"
   ]
  },
  {
   "cell_type": "code",
   "execution_count": 17,
   "id": "04dbe62a-b054-4288-9272-b6364b6b838c",
   "metadata": {},
   "outputs": [
    {
     "name": "stdout",
     "output_type": "stream",
     "text": [
      "1 2 3 4 5 "
     ]
    }
   ],
   "source": [
    "for i in range(1, 6):\n",
    "    print(i, end=\" \")"
   ]
  },
  {
   "cell_type": "code",
   "execution_count": null,
   "id": "c914bb92-91e9-4ff4-a533-4b6f26955b7d",
   "metadata": {},
   "outputs": [],
   "source": []
  },
  {
   "cell_type": "markdown",
   "id": "6e1cc7d5-c14c-4366-a067-3491b1439839",
   "metadata": {},
   "source": [
    "#### Print numbers from 1 to N"
   ]
  },
  {
   "cell_type": "code",
   "execution_count": 18,
   "id": "618ebea0-b5d7-427a-ad39-d46c64ce20a8",
   "metadata": {},
   "outputs": [
    {
     "name": "stdin",
     "output_type": "stream",
     "text": [
      " 5\n"
     ]
    },
    {
     "name": "stdout",
     "output_type": "stream",
     "text": [
      "1 2 3 4 "
     ]
    }
   ],
   "source": [
    "N = int(input())\n",
    "\n",
    "for i in range(1, N):\n",
    "    print(i, end=' ')"
   ]
  },
  {
   "cell_type": "code",
   "execution_count": 19,
   "id": "88f5e92c-a1c0-4cc0-bde0-e3cdfb13b064",
   "metadata": {},
   "outputs": [
    {
     "name": "stdin",
     "output_type": "stream",
     "text": [
      " 5\n"
     ]
    },
    {
     "name": "stdout",
     "output_type": "stream",
     "text": [
      "1 2 3 4 5 "
     ]
    }
   ],
   "source": [
    "N = int(input())\n",
    "\n",
    "for i in range(1, N+1):\n",
    "    print(i, end=' ')"
   ]
  },
  {
   "cell_type": "code",
   "execution_count": null,
   "id": "467ad6f4-6e17-4097-b6cf-66817b3eb405",
   "metadata": {},
   "outputs": [],
   "source": []
  },
  {
   "cell_type": "code",
   "execution_count": 20,
   "id": "bb0b8e62-10a1-4b71-a34b-51c74b99b04a",
   "metadata": {},
   "outputs": [
    {
     "name": "stdout",
     "output_type": "stream",
     "text": [
      "-1 1 3 5 7 9 "
     ]
    }
   ],
   "source": [
    "for i in range(-1, 10, 2):\n",
    "    print(i, end=' ')"
   ]
  },
  {
   "cell_type": "code",
   "execution_count": null,
   "id": "52f40148-1a5b-4845-90c5-73bf4581170f",
   "metadata": {},
   "outputs": [],
   "source": []
  },
  {
   "cell_type": "code",
   "execution_count": 23,
   "id": "b08c93a7-52f4-4bb2-8390-cd99cc881e26",
   "metadata": {},
   "outputs": [
    {
     "name": "stdout",
     "output_type": "stream",
     "text": [
      "[]\n"
     ]
    }
   ],
   "source": [
    "print(list(range(5,1,1)))"
   ]
  },
  {
   "cell_type": "code",
   "execution_count": null,
   "id": "7ab73141-003e-4e24-8b85-e0687e260e89",
   "metadata": {},
   "outputs": [],
   "source": []
  },
  {
   "cell_type": "markdown",
   "id": "8071a23b-99bd-42ef-9986-088a7dcee9d6",
   "metadata": {},
   "source": [
    "#### Print numbers from N to 1"
   ]
  },
  {
   "cell_type": "code",
   "execution_count": 27,
   "id": "854f3c10-36d3-4d22-b344-451680de2382",
   "metadata": {},
   "outputs": [
    {
     "name": "stdin",
     "output_type": "stream",
     "text": [
      " 10\n"
     ]
    },
    {
     "name": "stdout",
     "output_type": "stream",
     "text": [
      "10 9 8 7 6 5 4 3 2 "
     ]
    }
   ],
   "source": [
    "n = int(input())\n",
    "\n",
    "for i in range(n, 1, -1):\n",
    "    print(i, end=\" \")"
   ]
  },
  {
   "cell_type": "code",
   "execution_count": 28,
   "id": "9f74de58-0a15-4eff-bf3e-1e51110772f1",
   "metadata": {},
   "outputs": [
    {
     "name": "stdin",
     "output_type": "stream",
     "text": [
      " 11\n"
     ]
    },
    {
     "name": "stdout",
     "output_type": "stream",
     "text": [
      "11 10 9 8 7 6 5 4 3 2 1 "
     ]
    }
   ],
   "source": [
    "n = int(input())\n",
    "\n",
    "for i in range(n, 0, -1):\n",
    "    print(i, end=\" \")"
   ]
  },
  {
   "cell_type": "code",
   "execution_count": 26,
   "id": "e4afacd2-72d2-49bd-962c-e2e8b9ff3172",
   "metadata": {},
   "outputs": [
    {
     "name": "stdin",
     "output_type": "stream",
     "text": [
      " 7\n"
     ]
    },
    {
     "name": "stdout",
     "output_type": "stream",
     "text": [
      "7 6 5 4 3 2 "
     ]
    }
   ],
   "source": [
    "N = int(input())\n",
    "\n",
    "for i in range(N, 1, -1):\n",
    "    print(i, end=' ')"
   ]
  },
  {
   "cell_type": "code",
   "execution_count": null,
   "id": "f2b0575c-0014-4215-866b-245be115248d",
   "metadata": {},
   "outputs": [],
   "source": []
  },
  {
   "cell_type": "code",
   "execution_count": null,
   "id": "19523830-62b3-4fb6-9e44-cbdb8f6d6698",
   "metadata": {},
   "outputs": [],
   "source": []
  },
  {
   "cell_type": "markdown",
   "id": "a95c5f77-6e11-48ad-9b61-ac75e455af2b",
   "metadata": {},
   "source": [
    "Print all odd numbers from 1 to n"
   ]
  },
  {
   "cell_type": "code",
   "execution_count": 30,
   "id": "2fbc3211-989f-4361-8492-67a95ad1f181",
   "metadata": {},
   "outputs": [
    {
     "name": "stdin",
     "output_type": "stream",
     "text": [
      " 6\n"
     ]
    },
    {
     "name": "stdout",
     "output_type": "stream",
     "text": [
      "1\n",
      "3\n",
      "5\n"
     ]
    }
   ],
   "source": [
    "n = int(input())\n",
    "\n",
    "for i in range(1, n+1, 2):\n",
    "    print(i)"
   ]
  },
  {
   "cell_type": "code",
   "execution_count": 32,
   "id": "386038e3-1f03-4727-bce0-e3c6a024d0df",
   "metadata": {},
   "outputs": [
    {
     "name": "stdin",
     "output_type": "stream",
     "text": [
      " 5\n"
     ]
    },
    {
     "name": "stdout",
     "output_type": "stream",
     "text": [
      "1\n",
      "3\n"
     ]
    }
   ],
   "source": [
    "n = int(input())\n",
    "\n",
    "for i in range(1, n, 2):\n",
    "    print(i)"
   ]
  },
  {
   "cell_type": "code",
   "execution_count": null,
   "id": "46881368-c2ec-4928-a418-cefba646908c",
   "metadata": {},
   "outputs": [],
   "source": []
  },
  {
   "cell_type": "code",
   "execution_count": null,
   "id": "7f0ec428-449f-4321-ad53-7b60b7819b49",
   "metadata": {},
   "outputs": [],
   "source": []
  },
  {
   "cell_type": "code",
   "execution_count": null,
   "id": "5a9ce96c-3a98-4b0e-b02f-0fe9c3cc9b83",
   "metadata": {},
   "outputs": [],
   "source": []
  },
  {
   "cell_type": "markdown",
   "id": "1f0a17b0-a204-4267-a838-4fcaf04838d0",
   "metadata": {},
   "source": [
    "#### Print all even numbers from 0 to n"
   ]
  },
  {
   "cell_type": "code",
   "execution_count": 33,
   "id": "6efd84c9-9932-49cb-8cf1-3a5fb7775bf2",
   "metadata": {},
   "outputs": [
    {
     "name": "stdin",
     "output_type": "stream",
     "text": [
      " 6\n"
     ]
    },
    {
     "name": "stdout",
     "output_type": "stream",
     "text": [
      "0\n",
      "2\n",
      "4\n",
      "6\n"
     ]
    }
   ],
   "source": [
    "n = int(input())\n",
    "\n",
    "for i in range(0, n+1, 2):\n",
    "    print(i)"
   ]
  },
  {
   "cell_type": "code",
   "execution_count": null,
   "id": "f986653c-10de-4440-90e6-e0572ce87828",
   "metadata": {},
   "outputs": [],
   "source": []
  },
  {
   "cell_type": "code",
   "execution_count": null,
   "id": "7e1c58e5-ef55-49c7-b5d9-8b20bfcd5d40",
   "metadata": {},
   "outputs": [],
   "source": []
  },
  {
   "cell_type": "markdown",
   "id": "e2e4494d-f02f-4bf1-b582-48bc489a2277",
   "metadata": {},
   "source": [
    "#### Print sum of all odd numbers from 1 to n"
   ]
  },
  {
   "cell_type": "code",
   "execution_count": 34,
   "id": "209b13fd-dbea-463c-ba92-1fdc5673fdf1",
   "metadata": {},
   "outputs": [
    {
     "name": "stdin",
     "output_type": "stream",
     "text": [
      " 7\n"
     ]
    },
    {
     "name": "stdout",
     "output_type": "stream",
     "text": [
      "1\n",
      "3\n",
      "5\n",
      "7\n"
     ]
    }
   ],
   "source": [
    "n = int(input())\n",
    "\n",
    "for i in range(1, n+1, 2):\n",
    "    print(i)"
   ]
  },
  {
   "cell_type": "code",
   "execution_count": 36,
   "id": "bf81eed0-af18-4fda-b842-83fb3f953c9f",
   "metadata": {},
   "outputs": [
    {
     "name": "stdin",
     "output_type": "stream",
     "text": [
      " 7\n"
     ]
    },
    {
     "name": "stdout",
     "output_type": "stream",
     "text": [
      "16\n"
     ]
    }
   ],
   "source": [
    "n = int(input())\n",
    "\n",
    "total = 0\n",
    "for i in range(1, n+1, 2):\n",
    "    total += i\n",
    "print(total)"
   ]
  },
  {
   "cell_type": "code",
   "execution_count": null,
   "id": "40691184-1385-4cc3-8806-e0724a82c2ce",
   "metadata": {},
   "outputs": [],
   "source": []
  },
  {
   "cell_type": "code",
   "execution_count": null,
   "id": "1c0543ce-e705-410b-bf9e-9098bd4b5dcd",
   "metadata": {},
   "outputs": [],
   "source": []
  },
  {
   "cell_type": "markdown",
   "id": "0747bf5e-7b79-4744-9836-ccfc0aa94f75",
   "metadata": {},
   "source": [
    "#### Print sum of all even numbers from 1 to n"
   ]
  },
  {
   "cell_type": "code",
   "execution_count": 37,
   "id": "f4c53780-b94a-4a19-a42a-a29a6b4581e1",
   "metadata": {},
   "outputs": [
    {
     "name": "stdin",
     "output_type": "stream",
     "text": [
      " 8\n"
     ]
    },
    {
     "name": "stdout",
     "output_type": "stream",
     "text": [
      "20\n"
     ]
    }
   ],
   "source": [
    "n = int(input())\n",
    "\n",
    "total = 0\n",
    "for i in range(2, n+1, 2):\n",
    "    total += i\n",
    "print(total)"
   ]
  },
  {
   "cell_type": "code",
   "execution_count": 39,
   "id": "182760af-2412-4c2b-86c4-2135b515d79f",
   "metadata": {},
   "outputs": [],
   "source": [
    "## count of even numbers"
   ]
  },
  {
   "cell_type": "code",
   "execution_count": 40,
   "id": "8832c4b1-90c2-40ea-af2e-5ab9aea8d303",
   "metadata": {},
   "outputs": [
    {
     "name": "stdin",
     "output_type": "stream",
     "text": [
      " 8\n"
     ]
    },
    {
     "name": "stdout",
     "output_type": "stream",
     "text": [
      "4\n"
     ]
    }
   ],
   "source": [
    "n = int(input())\n",
    "\n",
    "count = 0\n",
    "for i in range(2, n+1, 2):\n",
    "    count += 1\n",
    "print(count)"
   ]
  },
  {
   "cell_type": "code",
   "execution_count": 41,
   "id": "b3794188-456b-4483-8485-48a169df6765",
   "metadata": {},
   "outputs": [
    {
     "name": "stdout",
     "output_type": "stream",
     "text": [
      "[]\n"
     ]
    }
   ],
   "source": [
    "print(list(range(1, 11, -1))) "
   ]
  },
  {
   "cell_type": "code",
   "execution_count": null,
   "id": "baca3107-4da3-41d1-bdd9-23cb37b43b73",
   "metadata": {},
   "outputs": [],
   "source": []
  },
  {
   "cell_type": "code",
   "execution_count": null,
   "id": "7259340e-d83c-4502-8835-ade9b298f8f9",
   "metadata": {},
   "outputs": [],
   "source": []
  },
  {
   "cell_type": "code",
   "execution_count": null,
   "id": "3a64228d-9897-4d4f-b6a7-5ed2ad29fa42",
   "metadata": {},
   "outputs": [],
   "source": []
  },
  {
   "cell_type": "code",
   "execution_count": null,
   "id": "edbb1ab2-9ac1-40cc-bfb3-1b1eeb8cb76e",
   "metadata": {},
   "outputs": [],
   "source": []
  },
  {
   "cell_type": "code",
   "execution_count": null,
   "id": "03a9b277-2c2f-413e-bf2b-75f88d6119bb",
   "metadata": {},
   "outputs": [],
   "source": []
  },
  {
   "cell_type": "code",
   "execution_count": null,
   "id": "5ff67b1a-486b-4065-b249-45d1374d16c7",
   "metadata": {},
   "outputs": [],
   "source": []
  },
  {
   "cell_type": "code",
   "execution_count": null,
   "id": "398498cd-75b6-40ba-ad71-827deea7227e",
   "metadata": {},
   "outputs": [],
   "source": []
  },
  {
   "cell_type": "code",
   "execution_count": null,
   "id": "511bcf85-2cb5-4d77-8e48-c7c3ef2c8e71",
   "metadata": {},
   "outputs": [],
   "source": []
  },
  {
   "cell_type": "code",
   "execution_count": null,
   "id": "3c9f93ef-8113-4123-9deb-e86b4049670a",
   "metadata": {},
   "outputs": [],
   "source": []
  },
  {
   "cell_type": "code",
   "execution_count": null,
   "id": "486f425b-a07f-4bc8-9b4a-29dcad85a7f5",
   "metadata": {},
   "outputs": [],
   "source": []
  },
  {
   "cell_type": "code",
   "execution_count": null,
   "id": "223d6ab7-ec6b-4478-9aa9-1d274c7ad923",
   "metadata": {},
   "outputs": [],
   "source": []
  },
  {
   "cell_type": "code",
   "execution_count": null,
   "id": "a71e17f0-41f2-4a5a-99f4-5139123b4804",
   "metadata": {},
   "outputs": [],
   "source": []
  },
  {
   "cell_type": "code",
   "execution_count": null,
   "id": "3bc6bf0c-d12b-4564-bda9-57abb8987271",
   "metadata": {},
   "outputs": [],
   "source": []
  },
  {
   "cell_type": "code",
   "execution_count": null,
   "id": "bea0aaa8-4b2a-4dab-9c88-d87a561560f6",
   "metadata": {},
   "outputs": [],
   "source": []
  },
  {
   "cell_type": "code",
   "execution_count": null,
   "id": "2fc8b3da-4a6e-4000-b152-e8514cea4a67",
   "metadata": {},
   "outputs": [],
   "source": []
  },
  {
   "cell_type": "code",
   "execution_count": null,
   "id": "5f25e8c3-d0a1-4f4c-a375-25d8c29a414f",
   "metadata": {},
   "outputs": [],
   "source": []
  },
  {
   "cell_type": "code",
   "execution_count": null,
   "id": "623ca15f-28ea-4a18-a4b0-5b2546595ac0",
   "metadata": {},
   "outputs": [],
   "source": []
  },
  {
   "cell_type": "code",
   "execution_count": null,
   "id": "8fb35194-3445-4bb0-820a-3f54d572e984",
   "metadata": {},
   "outputs": [],
   "source": []
  },
  {
   "cell_type": "code",
   "execution_count": null,
   "id": "d6bdc371-d668-4764-aaea-5767844d3a5d",
   "metadata": {},
   "outputs": [],
   "source": []
  },
  {
   "cell_type": "code",
   "execution_count": null,
   "id": "4a383693-5fee-4ad2-9464-78e4128063df",
   "metadata": {},
   "outputs": [],
   "source": []
  },
  {
   "cell_type": "code",
   "execution_count": null,
   "id": "b8ff1761-5480-45b8-a7c1-2b6ba117d3a1",
   "metadata": {},
   "outputs": [],
   "source": []
  }
 ],
 "metadata": {
  "kernelspec": {
   "display_name": "Python 3 (ipykernel)",
   "language": "python",
   "name": "python3"
  },
  "language_info": {
   "codemirror_mode": {
    "name": "ipython",
    "version": 3
   },
   "file_extension": ".py",
   "mimetype": "text/x-python",
   "name": "python",
   "nbconvert_exporter": "python",
   "pygments_lexer": "ipython3",
   "version": "3.9.7"
  }
 },
 "nbformat": 4,
 "nbformat_minor": 5
}
