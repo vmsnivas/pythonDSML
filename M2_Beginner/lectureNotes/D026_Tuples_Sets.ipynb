{
 "cells": [
  {
   "cell_type": "markdown",
   "id": "0aed686b-f06a-4b8a-8efb-4d9730117511",
   "metadata": {},
   "source": [
    "## Tuples\n",
    "- Tuples are used to hold together multiple objects. Think of them as similar to lists, but without the extensive functionality that the list class gives you. One major feature of tuples is that they are immutable like strings i.e. you cannot modify tuples.\n",
    "\n",
    "- Tuples are defined by specifying items separated by commas within an optional pair of parentheses.\n",
    "\n",
    "- Tuples are usually used in cases where a statement or a user-defined function can safely assume that the collection of values i.e. the tuple of values used will **not change**."
   ]
  },
  {
   "cell_type": "code",
   "execution_count": 1,
   "id": "0ae8ded0-bf8b-4d6a-bc0e-bd87dbf9e896",
   "metadata": {},
   "outputs": [],
   "source": [
    "# The intern at NASA"
   ]
  },
  {
   "cell_type": "code",
   "execution_count": 111,
   "id": "ae4edfdb-f9bc-4d5d-96a6-d1a41687ab82",
   "metadata": {},
   "outputs": [],
   "source": [
    "planets = [\"mercury\", \"venus\", \"earth\", \"mars\", \"jupiter\", \"saturn\", \"neptune\"]"
   ]
  },
  {
   "cell_type": "code",
   "execution_count": 112,
   "id": "610d9ed5-80dc-46fd-894e-66639ed5dfac",
   "metadata": {},
   "outputs": [],
   "source": [
    "planets[2] = \"Rahul\""
   ]
  },
  {
   "cell_type": "code",
   "execution_count": 113,
   "id": "3a52f15d-7ee2-41e2-8ccd-1f45f60d8372",
   "metadata": {},
   "outputs": [
    {
     "data": {
      "text/plain": [
       "['mercury', 'venus', 'Rahul', 'mars', 'jupiter', 'saturn', 'neptune']"
      ]
     },
     "execution_count": 113,
     "metadata": {},
     "output_type": "execute_result"
    }
   ],
   "source": [
    "planets"
   ]
  },
  {
   "cell_type": "code",
   "execution_count": null,
   "id": "0fbad20b-7d20-4cce-93b7-3ddf4b9a7e05",
   "metadata": {},
   "outputs": [],
   "source": []
  },
  {
   "cell_type": "code",
   "execution_count": 2,
   "id": "5981c0b6-e72a-4f97-8eb5-4ccdf12f870c",
   "metadata": {},
   "outputs": [],
   "source": [
    "# Immutable"
   ]
  },
  {
   "cell_type": "code",
   "execution_count": 116,
   "id": "cf632019-271f-4720-bb99-e5f00f560b57",
   "metadata": {},
   "outputs": [],
   "source": [
    "t = (\"mercury\", \"venus\", \"earth\", \"mars\", \"jupiter\", \"saturn\", \"neptune\")"
   ]
  },
  {
   "cell_type": "code",
   "execution_count": 117,
   "id": "81989e62-6db6-4631-91cb-0d48f023aa7d",
   "metadata": {},
   "outputs": [
    {
     "data": {
      "text/plain": [
       "tuple"
      ]
     },
     "execution_count": 117,
     "metadata": {},
     "output_type": "execute_result"
    }
   ],
   "source": [
    "type(t)"
   ]
  },
  {
   "cell_type": "code",
   "execution_count": 119,
   "id": "d290f2bb-727e-47f8-895d-b17e20df81b7",
   "metadata": {},
   "outputs": [
    {
     "ename": "TypeError",
     "evalue": "'tuple' object does not support item assignment",
     "output_type": "error",
     "traceback": [
      "\u001b[0;31m---------------------------------------------------------------------------\u001b[0m",
      "\u001b[0;31mTypeError\u001b[0m                                 Traceback (most recent call last)",
      "\u001b[0;32m/var/folders/zn/hkv6562d6_d30glfs8yc76900000gn/T/ipykernel_4277/1458819811.py\u001b[0m in \u001b[0;36m<module>\u001b[0;34m\u001b[0m\n\u001b[0;32m----> 1\u001b[0;31m \u001b[0mt\u001b[0m\u001b[0;34m[\u001b[0m\u001b[0;36m2\u001b[0m\u001b[0;34m]\u001b[0m \u001b[0;34m=\u001b[0m \u001b[0;34m\"Rahul\"\u001b[0m\u001b[0;34m\u001b[0m\u001b[0;34m\u001b[0m\u001b[0m\n\u001b[0m",
      "\u001b[0;31mTypeError\u001b[0m: 'tuple' object does not support item assignment"
     ]
    }
   ],
   "source": [
    "t[2] = \"Rahul\""
   ]
  },
  {
   "cell_type": "code",
   "execution_count": null,
   "id": "a5216677-0f09-43b6-bea0-1d20b7a86983",
   "metadata": {},
   "outputs": [],
   "source": []
  },
  {
   "cell_type": "code",
   "execution_count": null,
   "id": "bc3ae86b-7792-4cc1-9a24-f39fa8c5d038",
   "metadata": {},
   "outputs": [],
   "source": []
  },
  {
   "cell_type": "code",
   "execution_count": null,
   "id": "2405ab54-dcd9-48d2-8556-d1d2978c371a",
   "metadata": {},
   "outputs": [],
   "source": []
  },
  {
   "cell_type": "code",
   "execution_count": 3,
   "id": "cf509010-cb2e-417a-a14c-70c2e7f5da0d",
   "metadata": {},
   "outputs": [],
   "source": [
    "# Making an empty tuple"
   ]
  },
  {
   "cell_type": "code",
   "execution_count": 4,
   "id": "9f1d4cc2-f323-4dd5-bea0-70b7f7c4da0d",
   "metadata": {},
   "outputs": [],
   "source": [
    "# 1st way"
   ]
  },
  {
   "cell_type": "code",
   "execution_count": 122,
   "id": "4c9b19b4-9e24-43a2-9565-89e95ff09448",
   "metadata": {},
   "outputs": [],
   "source": [
    "t1 = (\"rahul\",)"
   ]
  },
  {
   "cell_type": "code",
   "execution_count": 123,
   "id": "25e4d769-0cd1-4d67-8bc1-b1ee5a189fc1",
   "metadata": {},
   "outputs": [
    {
     "data": {
      "text/plain": [
       "tuple"
      ]
     },
     "execution_count": 123,
     "metadata": {},
     "output_type": "execute_result"
    }
   ],
   "source": [
    "type(t1)"
   ]
  },
  {
   "cell_type": "code",
   "execution_count": null,
   "id": "35a24eab-71d1-4c30-8cd2-e394ef566890",
   "metadata": {},
   "outputs": [],
   "source": []
  },
  {
   "cell_type": "code",
   "execution_count": null,
   "id": "eadf3d7b-3dd6-4158-8354-e25dcf005996",
   "metadata": {},
   "outputs": [],
   "source": []
  },
  {
   "cell_type": "code",
   "execution_count": 6,
   "id": "bee8c67e-76e7-4749-aff4-cd727e87e058",
   "metadata": {},
   "outputs": [],
   "source": [
    "# 2nd way"
   ]
  },
  {
   "cell_type": "code",
   "execution_count": 125,
   "id": "03569029-5529-4e38-9558-1426394b3592",
   "metadata": {},
   "outputs": [],
   "source": [
    "t3 = ()"
   ]
  },
  {
   "cell_type": "code",
   "execution_count": 126,
   "id": "efb0db6f-d422-4291-bdbf-a6c72dd535e0",
   "metadata": {},
   "outputs": [
    {
     "data": {
      "text/plain": [
       "tuple"
      ]
     },
     "execution_count": 126,
     "metadata": {},
     "output_type": "execute_result"
    }
   ],
   "source": [
    "type(t3)"
   ]
  },
  {
   "cell_type": "code",
   "execution_count": null,
   "id": "1dec52fb-ea1c-4262-a33e-d7433c726bb0",
   "metadata": {},
   "outputs": [],
   "source": []
  },
  {
   "cell_type": "code",
   "execution_count": 127,
   "id": "451be24d-4c21-4c9d-a60b-486c92f0683a",
   "metadata": {},
   "outputs": [],
   "source": [
    "# 3rd way"
   ]
  },
  {
   "cell_type": "code",
   "execution_count": 129,
   "id": "99afd9fa-945b-46d8-b06a-40e00ee93348",
   "metadata": {},
   "outputs": [],
   "source": [
    "# Quiz"
   ]
  },
  {
   "cell_type": "code",
   "execution_count": 128,
   "id": "6bdc2093-33c5-45d6-a017-6125556371a8",
   "metadata": {},
   "outputs": [],
   "source": [
    "t2 = tuple()"
   ]
  },
  {
   "cell_type": "code",
   "execution_count": 130,
   "id": "0622f46b-99ba-40f3-8f98-b888e314e200",
   "metadata": {},
   "outputs": [
    {
     "data": {
      "text/plain": [
       "tuple"
      ]
     },
     "execution_count": 130,
     "metadata": {},
     "output_type": "execute_result"
    }
   ],
   "source": [
    "type(t2)"
   ]
  },
  {
   "cell_type": "code",
   "execution_count": 132,
   "id": "8c21ccef-9bf8-46a0-b333-a22cda1ca49a",
   "metadata": {},
   "outputs": [],
   "source": [
    "t4 = tuple(\"Rahul\")"
   ]
  },
  {
   "cell_type": "code",
   "execution_count": 133,
   "id": "efbcc541-1ddc-48c8-b814-f70243316eb7",
   "metadata": {},
   "outputs": [
    {
     "data": {
      "text/plain": [
       "('R', 'a', 'h', 'u', 'l')"
      ]
     },
     "execution_count": 133,
     "metadata": {},
     "output_type": "execute_result"
    }
   ],
   "source": [
    "t4"
   ]
  },
  {
   "cell_type": "code",
   "execution_count": 134,
   "id": "c5fda24b-a15e-4faa-a4aa-ec9cb93bb93d",
   "metadata": {},
   "outputs": [
    {
     "data": {
      "text/plain": [
       "tuple"
      ]
     },
     "execution_count": 134,
     "metadata": {},
     "output_type": "execute_result"
    }
   ],
   "source": [
    "type(t4)"
   ]
  },
  {
   "cell_type": "code",
   "execution_count": 135,
   "id": "4283dee3-0780-47b4-845a-23381f742703",
   "metadata": {},
   "outputs": [
    {
     "data": {
      "text/plain": [
       "('h', 'e', 'l', 'l', 'o', ' ', 'w', 'o', 'r', 'l', 'd')"
      ]
     },
     "execution_count": 135,
     "metadata": {},
     "output_type": "execute_result"
    }
   ],
   "source": [
    "tuple('hello world')"
   ]
  },
  {
   "cell_type": "code",
   "execution_count": 136,
   "id": "e08cd800-4a0e-475e-b84a-be99e775228b",
   "metadata": {},
   "outputs": [
    {
     "data": {
      "text/plain": [
       "(1, 2, 3, 4)"
      ]
     },
     "execution_count": 136,
     "metadata": {},
     "output_type": "execute_result"
    }
   ],
   "source": [
    "tuple([1, 2, 3, 4])"
   ]
  },
  {
   "cell_type": "code",
   "execution_count": null,
   "id": "49a2743b-5c34-48e5-a9e4-a701ac48e500",
   "metadata": {},
   "outputs": [],
   "source": []
  },
  {
   "cell_type": "code",
   "execution_count": null,
   "id": "f5230a99-c766-477b-8fa5-6734792379a7",
   "metadata": {},
   "outputs": [],
   "source": []
  },
  {
   "cell_type": "code",
   "execution_count": 10,
   "id": "fb3df83c-9123-4210-9de9-7e28b76d4137",
   "metadata": {},
   "outputs": [],
   "source": [
    "# Iteration, indexing and slicing"
   ]
  },
  {
   "cell_type": "code",
   "execution_count": 137,
   "id": "2ef4b099-83f1-4b1d-8d4a-b544bf1b40f0",
   "metadata": {},
   "outputs": [],
   "source": [
    "t5 = (3, 4, 6, 7, 3)"
   ]
  },
  {
   "cell_type": "code",
   "execution_count": 138,
   "id": "0db89c53-4b82-46dd-8053-37ec828dfeff",
   "metadata": {},
   "outputs": [
    {
     "data": {
      "text/plain": [
       "5"
      ]
     },
     "execution_count": 138,
     "metadata": {},
     "output_type": "execute_result"
    }
   ],
   "source": [
    "len(t5)"
   ]
  },
  {
   "cell_type": "code",
   "execution_count": 139,
   "id": "a5d6ffd5-266a-42e7-81b7-c70b85dd8574",
   "metadata": {},
   "outputs": [
    {
     "name": "stdout",
     "output_type": "stream",
     "text": [
      "3 4 6 7 3 "
     ]
    }
   ],
   "source": [
    "for i in t5:\n",
    "    print(i, end=\" \")"
   ]
  },
  {
   "cell_type": "code",
   "execution_count": 141,
   "id": "5ea612ca-3f83-4f2f-9053-c16f0328f77c",
   "metadata": {},
   "outputs": [
    {
     "data": {
      "text/plain": [
       "(3, 7, 6, 4, 3)"
      ]
     },
     "execution_count": 141,
     "metadata": {},
     "output_type": "execute_result"
    }
   ],
   "source": [
    "t5[::-1]"
   ]
  },
  {
   "cell_type": "code",
   "execution_count": 142,
   "id": "1e9cb3d6-0873-4219-9377-419d1f6c4fbd",
   "metadata": {},
   "outputs": [
    {
     "data": {
      "text/plain": [
       "(4, 6, 7, 3)"
      ]
     },
     "execution_count": 142,
     "metadata": {},
     "output_type": "execute_result"
    }
   ],
   "source": [
    "t5[1:5]"
   ]
  },
  {
   "cell_type": "code",
   "execution_count": null,
   "id": "0294ce84-38e9-4b3d-bb69-10386938ebb5",
   "metadata": {},
   "outputs": [],
   "source": []
  },
  {
   "cell_type": "code",
   "execution_count": 143,
   "id": "5cd10835-98c9-408e-a654-8e2f4c557190",
   "metadata": {},
   "outputs": [],
   "source": [
    "# Quiz"
   ]
  },
  {
   "cell_type": "code",
   "execution_count": 144,
   "id": "8cf15baa-1f5f-4c2b-9629-27bbabbc9cbd",
   "metadata": {},
   "outputs": [
    {
     "name": "stdout",
     "output_type": "stream",
     "text": [
      "<class 'tuple'>\n"
     ]
    }
   ],
   "source": [
    "print(type((1,2,3)))"
   ]
  },
  {
   "cell_type": "code",
   "execution_count": null,
   "id": "9482a496-922a-47e2-b7c2-4760ad974f21",
   "metadata": {},
   "outputs": [],
   "source": []
  },
  {
   "cell_type": "code",
   "execution_count": 21,
   "id": "8f3602c7-ecb9-43d9-9069-124c6f28f2cd",
   "metadata": {},
   "outputs": [],
   "source": [
    "# Count and index"
   ]
  },
  {
   "cell_type": "code",
   "execution_count": 150,
   "id": "d3f6813d-85f4-4322-9fd0-d0967e76bfd8",
   "metadata": {},
   "outputs": [],
   "source": [
    "# t.append(\"Pluto\")"
   ]
  },
  {
   "cell_type": "code",
   "execution_count": 151,
   "id": "260c6582-1461-4980-863a-0440e00db43c",
   "metadata": {},
   "outputs": [
    {
     "data": {
      "text/plain": [
       "('mercury', 'venus', 'earth', 'mars', 'jupiter', 'saturn', 'neptune')"
      ]
     },
     "execution_count": 151,
     "metadata": {},
     "output_type": "execute_result"
    }
   ],
   "source": [
    "t"
   ]
  },
  {
   "cell_type": "code",
   "execution_count": 152,
   "id": "4da786df-af1c-4183-9cee-2571ed7d9dae",
   "metadata": {},
   "outputs": [
    {
     "data": {
      "text/plain": [
       "1"
      ]
     },
     "execution_count": 152,
     "metadata": {},
     "output_type": "execute_result"
    }
   ],
   "source": [
    "t.count('mercury')"
   ]
  },
  {
   "cell_type": "code",
   "execution_count": 153,
   "id": "5f6be227-706d-4aea-adb8-053519e18b5c",
   "metadata": {},
   "outputs": [
    {
     "data": {
      "text/plain": [
       "0"
      ]
     },
     "execution_count": 153,
     "metadata": {},
     "output_type": "execute_result"
    }
   ],
   "source": [
    "t.count(241)"
   ]
  },
  {
   "cell_type": "code",
   "execution_count": 154,
   "id": "4e09a2f1-029b-4ccd-bed1-3dadfcdf304b",
   "metadata": {},
   "outputs": [
    {
     "data": {
      "text/plain": [
       "2"
      ]
     },
     "execution_count": 154,
     "metadata": {},
     "output_type": "execute_result"
    }
   ],
   "source": [
    "t.index('earth')"
   ]
  },
  {
   "cell_type": "code",
   "execution_count": 156,
   "id": "a2a932b4-3412-48e8-8793-cdc5cb0b1979",
   "metadata": {},
   "outputs": [],
   "source": [
    "# dir(t)"
   ]
  },
  {
   "cell_type": "code",
   "execution_count": null,
   "id": "8574528c-dbf5-4cf8-b7b3-e595e3eb1eac",
   "metadata": {},
   "outputs": [],
   "source": []
  },
  {
   "cell_type": "code",
   "execution_count": null,
   "id": "935822aa-aa90-45a5-94a6-520112533029",
   "metadata": {},
   "outputs": [],
   "source": []
  },
  {
   "cell_type": "code",
   "execution_count": null,
   "id": "fbf659f3-dad3-453f-9a0c-a9b8367656c6",
   "metadata": {},
   "outputs": [],
   "source": []
  },
  {
   "cell_type": "markdown",
   "id": "068336ee-35cd-495a-9cd0-18220e0f5218",
   "metadata": {},
   "source": [
    "## Sets"
   ]
  },
  {
   "cell_type": "markdown",
   "id": "2b5b0acd-bf6a-4b39-8008-5109b12b4349",
   "metadata": {},
   "source": [
    "Problem: Suppose that you are working as a data analyst at an edtech company. The edtech company is offering courses on Calculus(C) and Linear Algebra(L) among many others. Now you want to represent the students in the courses. Which data structure to use?\n",
    "- Assume all names are unique for the students taking part in the edtech company. We have done this for better understanding. We could have taken id which will be unique.\n",
    "\n",
    "Options?\n",
    "\n",
    "- Lists => It can contain duplicate values\n",
    "- Tuples => It can also contain duplicate values.\n",
    "\n",
    "There is a different alternative => Sets"
   ]
  },
  {
   "cell_type": "code",
   "execution_count": 158,
   "id": "6ac067b4-b4d9-40a1-a507-2e36c816ddba",
   "metadata": {},
   "outputs": [],
   "source": [
    "admissions = {\"Rahul\", \"Akash\", \"Monika\", \"Harshita\", \"Vinamra\", \"Rahul\", \"Akash\"}"
   ]
  },
  {
   "cell_type": "code",
   "execution_count": 159,
   "id": "f625b929-834b-40d3-acd0-a800721ec5df",
   "metadata": {},
   "outputs": [
    {
     "name": "stdout",
     "output_type": "stream",
     "text": [
      "{'Rahul', 'Vinamra', 'Akash', 'Monika', 'Harshita'}\n"
     ]
    }
   ],
   "source": [
    "print(admissions)"
   ]
  },
  {
   "cell_type": "code",
   "execution_count": 160,
   "id": "be74793a-8064-4078-b6cf-b87d4cff0293",
   "metadata": {},
   "outputs": [
    {
     "data": {
      "text/plain": [
       "set"
      ]
     },
     "execution_count": 160,
     "metadata": {},
     "output_type": "execute_result"
    }
   ],
   "source": [
    "type(admissions)"
   ]
  },
  {
   "cell_type": "code",
   "execution_count": null,
   "id": "1a5b3718-da32-468b-b524-f0559018ab24",
   "metadata": {},
   "outputs": [],
   "source": []
  },
  {
   "cell_type": "code",
   "execution_count": null,
   "id": "02d57d94-695b-4b19-89a5-efad1113e04d",
   "metadata": {},
   "outputs": [],
   "source": []
  },
  {
   "cell_type": "code",
   "execution_count": 22,
   "id": "61be29df-812f-43b4-8345-8e488fb17420",
   "metadata": {},
   "outputs": [],
   "source": [
    "# in operator"
   ]
  },
  {
   "cell_type": "code",
   "execution_count": 162,
   "id": "dfc99e6d-134d-4231-b4b4-66d40a380038",
   "metadata": {},
   "outputs": [
    {
     "data": {
      "text/plain": [
       "False"
      ]
     },
     "execution_count": 162,
     "metadata": {},
     "output_type": "execute_result"
    }
   ],
   "source": [
    "'Rohit' in admissions"
   ]
  },
  {
   "cell_type": "code",
   "execution_count": null,
   "id": "f9500422-ab33-48bc-a386-0dbe17ac90a7",
   "metadata": {},
   "outputs": [],
   "source": []
  },
  {
   "cell_type": "code",
   "execution_count": null,
   "id": "39026df6-e683-40dd-8b22-8e87e642a640",
   "metadata": {},
   "outputs": [],
   "source": []
  },
  {
   "cell_type": "markdown",
   "id": "b1cd49a6-5693-499a-8344-64f4477dba46",
   "metadata": {},
   "source": [
    "### Creation\n",
    "- set()\n",
    "- set(iterable)"
   ]
  },
  {
   "cell_type": "code",
   "execution_count": 163,
   "id": "08fd2090-1bea-48b0-814e-878312fb4c34",
   "metadata": {},
   "outputs": [],
   "source": [
    "s1 = set()"
   ]
  },
  {
   "cell_type": "code",
   "execution_count": 164,
   "id": "2754c6e9-a477-4c6d-b848-df7520118d68",
   "metadata": {},
   "outputs": [
    {
     "data": {
      "text/plain": [
       "set"
      ]
     },
     "execution_count": 164,
     "metadata": {},
     "output_type": "execute_result"
    }
   ],
   "source": [
    "type(s1)"
   ]
  },
  {
   "cell_type": "code",
   "execution_count": 165,
   "id": "0139c8bf-30be-437b-b3a1-9827f6c194d6",
   "metadata": {},
   "outputs": [],
   "source": [
    "# Quiz"
   ]
  },
  {
   "cell_type": "code",
   "execution_count": 166,
   "id": "e6fe5385-143c-4d5c-b63d-f30b84c4858b",
   "metadata": {},
   "outputs": [
    {
     "data": {
      "text/plain": [
       "{' ', 'd', 'e', 'h', 'l', 'o', 'r', 'w'}"
      ]
     },
     "execution_count": 166,
     "metadata": {},
     "output_type": "execute_result"
    }
   ],
   "source": [
    "set('hello world')"
   ]
  },
  {
   "cell_type": "code",
   "execution_count": null,
   "id": "3d843333-da35-41ab-9f9a-34eaba4003b8",
   "metadata": {},
   "outputs": [],
   "source": []
  },
  {
   "cell_type": "code",
   "execution_count": null,
   "id": "439228db-7ff8-4fab-9925-0d2b17f331a6",
   "metadata": {},
   "outputs": [],
   "source": []
  },
  {
   "cell_type": "markdown",
   "id": "7a3fe06f-acb0-4688-8f1d-390d1193396b",
   "metadata": {},
   "source": [
    "### Iteration and indexing?"
   ]
  },
  {
   "cell_type": "markdown",
   "id": "93a4c0ea-be6f-4f81-b8ca-c2a1a87013b9",
   "metadata": {},
   "source": [
    "- We cannot access a set item by referring to an index or a key. If you cannot access an element we cannot modify it. That's why it is also unchangeable\n",
    "- We can however run a loop to iterate."
   ]
  },
  {
   "cell_type": "code",
   "execution_count": 171,
   "id": "a288e3be-0621-4af2-a98c-55fb34fca2ef",
   "metadata": {},
   "outputs": [
    {
     "data": {
      "text/plain": [
       "{'Akash', 'Harshita', 'Monika', 'Rahul', 'Vinamra'}"
      ]
     },
     "execution_count": 171,
     "metadata": {},
     "output_type": "execute_result"
    }
   ],
   "source": [
    "admissions"
   ]
  },
  {
   "cell_type": "code",
   "execution_count": 172,
   "id": "ea3b9856-d2bf-4450-92a8-38c8c2d6664b",
   "metadata": {},
   "outputs": [
    {
     "name": "stdout",
     "output_type": "stream",
     "text": [
      "Rahul\n",
      "Vinamra\n",
      "Akash\n",
      "Monika\n",
      "Harshita\n"
     ]
    }
   ],
   "source": [
    "for i in admissions:\n",
    "    print(i)"
   ]
  },
  {
   "cell_type": "code",
   "execution_count": null,
   "id": "ff587b41-f463-40e0-af35-02c7531770fd",
   "metadata": {},
   "outputs": [],
   "source": []
  },
  {
   "cell_type": "code",
   "execution_count": null,
   "id": "ef4aec9d-0cb5-45ad-83a0-9f658071570e",
   "metadata": {},
   "outputs": [],
   "source": []
  },
  {
   "cell_type": "code",
   "execution_count": null,
   "id": "d47bb18e-730e-4e6b-a4ae-f7fc339a68cf",
   "metadata": {},
   "outputs": [],
   "source": []
  },
  {
   "cell_type": "code",
   "execution_count": null,
   "id": "3752cfd2-25fb-4e13-a5ab-eddb088974af",
   "metadata": {},
   "outputs": [],
   "source": []
  },
  {
   "cell_type": "code",
   "execution_count": 47,
   "id": "9ea30ef0-3070-4bd4-8389-5a009279db08",
   "metadata": {},
   "outputs": [],
   "source": [
    "# Challenge: Count number of unique elements in a sentence"
   ]
  },
  {
   "cell_type": "code",
   "execution_count": 51,
   "id": "d91b9618-f266-4b23-8c2e-aa61c09001b9",
   "metadata": {},
   "outputs": [],
   "source": [
    "sent = \"be the change you wish to see in the world\""
   ]
  },
  {
   "cell_type": "code",
   "execution_count": 178,
   "id": "473c0c9a-8697-4bb6-9c55-b6ef6d3a7699",
   "metadata": {},
   "outputs": [
    {
     "name": "stdout",
     "output_type": "stream",
     "text": [
      "['be', 'the', 'change', 'you', 'wish', 'to', 'see', 'in', 'the', 'world']\n"
     ]
    }
   ],
   "source": [
    "l = sent.split()\n",
    "print(l)"
   ]
  },
  {
   "cell_type": "code",
   "execution_count": 174,
   "id": "402db48f-b78f-4429-aa5a-cb5c1eb97ca5",
   "metadata": {},
   "outputs": [
    {
     "data": {
      "text/plain": [
       "10"
      ]
     },
     "execution_count": 174,
     "metadata": {},
     "output_type": "execute_result"
    }
   ],
   "source": [
    "len(sent.split())"
   ]
  },
  {
   "cell_type": "code",
   "execution_count": 179,
   "id": "14f9b683-0286-460f-878f-cf7329228c34",
   "metadata": {},
   "outputs": [],
   "source": [
    "t = set(l)"
   ]
  },
  {
   "cell_type": "code",
   "execution_count": 182,
   "id": "87ab1737-f548-4133-aa35-07f30b23ee51",
   "metadata": {},
   "outputs": [
    {
     "name": "stdout",
     "output_type": "stream",
     "text": [
      "{'be', 'in', 'you', 'wish', 'see', 'change', 'the', 'world', 'to'}\n"
     ]
    }
   ],
   "source": [
    "print(t)"
   ]
  },
  {
   "cell_type": "code",
   "execution_count": 181,
   "id": "d6716cf4-f24f-4684-8c2c-d5463e6e6f22",
   "metadata": {},
   "outputs": [
    {
     "data": {
      "text/plain": [
       "9"
      ]
     },
     "execution_count": 181,
     "metadata": {},
     "output_type": "execute_result"
    }
   ],
   "source": [
    "len(t)"
   ]
  },
  {
   "cell_type": "code",
   "execution_count": null,
   "id": "76120edc-401b-438d-a39c-4d0e0d1a832e",
   "metadata": {},
   "outputs": [],
   "source": []
  },
  {
   "cell_type": "code",
   "execution_count": null,
   "id": "922c770c-af3a-4e53-a566-b9ed75c69796",
   "metadata": {},
   "outputs": [],
   "source": []
  },
  {
   "cell_type": "markdown",
   "id": "b9d87f3e-218e-4a2e-bb81-90468f28a141",
   "metadata": {},
   "source": [
    "### Changing a set\n",
    "- add: For single element\n",
    "- update(iterable)"
   ]
  },
  {
   "cell_type": "code",
   "execution_count": 52,
   "id": "f6bd6cc5-5669-42f6-9a60-d8bf1db949fd",
   "metadata": {},
   "outputs": [],
   "source": [
    "# add"
   ]
  },
  {
   "cell_type": "code",
   "execution_count": 103,
   "id": "215c3f05-06a1-400b-b6ed-b0dcb821f53f",
   "metadata": {},
   "outputs": [],
   "source": [
    "# Quiz"
   ]
  },
  {
   "cell_type": "code",
   "execution_count": 185,
   "id": "195d3996-7ddc-482f-8428-0341a1188623",
   "metadata": {},
   "outputs": [],
   "source": [
    "# s = set()\n",
    "# s.append(5)"
   ]
  },
  {
   "cell_type": "code",
   "execution_count": 187,
   "id": "d107d4a8-bf00-4281-9495-a82002ebbf27",
   "metadata": {},
   "outputs": [],
   "source": [
    "tour = {\"Blanket\", \"Clothes\", \"torch\", \"toilet kit\"}"
   ]
  },
  {
   "cell_type": "code",
   "execution_count": 188,
   "id": "dc22e552-909d-41b9-b888-218490173408",
   "metadata": {},
   "outputs": [],
   "source": [
    "tour.add(\"charger\")"
   ]
  },
  {
   "cell_type": "code",
   "execution_count": 189,
   "id": "dd046063-f073-47c7-99a4-4c79a7f2f268",
   "metadata": {},
   "outputs": [
    {
     "name": "stdout",
     "output_type": "stream",
     "text": [
      "{'charger', 'Clothes', 'toilet kit', 'Blanket', 'torch'}\n"
     ]
    }
   ],
   "source": [
    "print(tour)"
   ]
  },
  {
   "cell_type": "code",
   "execution_count": 190,
   "id": "cdc1e9c1-2b29-4b47-80ae-cebe2f56f476",
   "metadata": {},
   "outputs": [],
   "source": [
    "tour.add(\"tent\")"
   ]
  },
  {
   "cell_type": "code",
   "execution_count": 191,
   "id": "8084df92-dad6-4a01-9cfd-3e3c0275ecef",
   "metadata": {},
   "outputs": [
    {
     "data": {
      "text/plain": [
       "{'Blanket', 'Clothes', 'charger', 'tent', 'toilet kit', 'torch'}"
      ]
     },
     "execution_count": 191,
     "metadata": {},
     "output_type": "execute_result"
    }
   ],
   "source": [
    "tour"
   ]
  },
  {
   "cell_type": "code",
   "execution_count": null,
   "id": "26dfd57c-a895-43f9-9870-33537a263f34",
   "metadata": {},
   "outputs": [],
   "source": []
  },
  {
   "cell_type": "code",
   "execution_count": 57,
   "id": "cf6eb2fe-8297-40bd-aa7f-491ed57938a9",
   "metadata": {},
   "outputs": [],
   "source": [
    "# update"
   ]
  },
  {
   "cell_type": "code",
   "execution_count": 192,
   "id": "e480245a-29c7-4652-9124-109ef8cc80ec",
   "metadata": {},
   "outputs": [],
   "source": [
    "toilet_kit = [\"soap\", \"face wash\", \"brush\", \"totthpaste\", \"perfume\"]"
   ]
  },
  {
   "cell_type": "code",
   "execution_count": 193,
   "id": "8c22ffcb-dd69-4367-87c6-5dfb1d09bdba",
   "metadata": {},
   "outputs": [],
   "source": [
    "# tour.update(iterable)"
   ]
  },
  {
   "cell_type": "code",
   "execution_count": 194,
   "id": "80a7538c-4c43-4bfe-b6e3-3fd2113a2e7b",
   "metadata": {},
   "outputs": [],
   "source": [
    "tour.update(toilet_kit)"
   ]
  },
  {
   "cell_type": "code",
   "execution_count": 195,
   "id": "ee820366-cf9a-468b-bbf8-8a5da8f79f03",
   "metadata": {},
   "outputs": [
    {
     "data": {
      "text/plain": [
       "{'Blanket',\n",
       " 'Clothes',\n",
       " 'brush',\n",
       " 'charger',\n",
       " 'face wash',\n",
       " 'perfume',\n",
       " 'soap',\n",
       " 'tent',\n",
       " 'toilet kit',\n",
       " 'torch',\n",
       " 'totthpaste'}"
      ]
     },
     "execution_count": 195,
     "metadata": {},
     "output_type": "execute_result"
    }
   ],
   "source": [
    "tour"
   ]
  },
  {
   "cell_type": "code",
   "execution_count": null,
   "id": "3a9844db-961f-4e6f-940e-729f4d029018",
   "metadata": {},
   "outputs": [],
   "source": []
  },
  {
   "cell_type": "code",
   "execution_count": null,
   "id": "d4cd5a3d-535b-4b0d-8177-7072922a4fda",
   "metadata": {},
   "outputs": [],
   "source": []
  },
  {
   "cell_type": "markdown",
   "id": "45c6ad9d-54a4-41b8-8564-f76e2bfcec97",
   "metadata": {},
   "source": [
    "### Deleting an element\n",
    "- pop: removes random element. We are not sure what it is\n",
    "- remove(element): Removes particular element"
   ]
  },
  {
   "cell_type": "code",
   "execution_count": 196,
   "id": "29b4d583-ac61-4597-91d2-371bd1cd2018",
   "metadata": {},
   "outputs": [
    {
     "data": {
      "text/plain": [
       "{'Blanket',\n",
       " 'Clothes',\n",
       " 'brush',\n",
       " 'charger',\n",
       " 'face wash',\n",
       " 'perfume',\n",
       " 'soap',\n",
       " 'tent',\n",
       " 'toilet kit',\n",
       " 'torch',\n",
       " 'totthpaste'}"
      ]
     },
     "execution_count": 196,
     "metadata": {},
     "output_type": "execute_result"
    }
   ],
   "source": [
    "tour"
   ]
  },
  {
   "cell_type": "code",
   "execution_count": 203,
   "id": "7d902a7a-100f-45d1-ba11-63630939837d",
   "metadata": {},
   "outputs": [
    {
     "data": {
      "text/plain": [
       "'totthpaste'"
      ]
     },
     "execution_count": 203,
     "metadata": {},
     "output_type": "execute_result"
    }
   ],
   "source": [
    "tour.pop()"
   ]
  },
  {
   "cell_type": "code",
   "execution_count": 199,
   "id": "d2355818-5ae4-4a57-97ab-6f442aba2315",
   "metadata": {},
   "outputs": [],
   "source": [
    "tour.remove(\"toilet kit\")"
   ]
  },
  {
   "cell_type": "code",
   "execution_count": 200,
   "id": "65ccaf9d-be8f-4d8a-9367-fc18334417ef",
   "metadata": {},
   "outputs": [
    {
     "data": {
      "text/plain": [
       "{'Blanket',\n",
       " 'Clothes',\n",
       " 'brush',\n",
       " 'charger',\n",
       " 'face wash',\n",
       " 'perfume',\n",
       " 'tent',\n",
       " 'torch',\n",
       " 'totthpaste'}"
      ]
     },
     "execution_count": 200,
     "metadata": {},
     "output_type": "execute_result"
    }
   ],
   "source": [
    "tour"
   ]
  },
  {
   "cell_type": "code",
   "execution_count": 205,
   "id": "0c7e5433-b1de-42a7-bcf7-b2e2a5b9ff11",
   "metadata": {},
   "outputs": [],
   "source": [
    "tour.remove(\"torch\")"
   ]
  },
  {
   "cell_type": "code",
   "execution_count": 206,
   "id": "7e4bcf2a-b498-40de-9920-cd29575b8bae",
   "metadata": {},
   "outputs": [
    {
     "data": {
      "text/plain": [
       "{'Blanket', 'Clothes', 'brush', 'charger', 'face wash', 'perfume', 'tent'}"
      ]
     },
     "execution_count": 206,
     "metadata": {},
     "output_type": "execute_result"
    }
   ],
   "source": [
    "tour"
   ]
  },
  {
   "cell_type": "code",
   "execution_count": null,
   "id": "4cd28253-b9ff-4346-a20d-c78726463492",
   "metadata": {},
   "outputs": [],
   "source": []
  },
  {
   "cell_type": "code",
   "execution_count": null,
   "id": "3e8f41a8-39ce-4fd5-bfeb-55ae95579520",
   "metadata": {},
   "outputs": [],
   "source": []
  },
  {
   "cell_type": "markdown",
   "id": "8bd3a533-6e20-4b67-a88b-9ed23ec5bc2e",
   "metadata": {},
   "source": [
    "### Intersection\n",
    "- Suppose you want to find out which students are enrolled in both the Calculus and Linear Algebra Course. Then you can use the intersection method."
   ]
  },
  {
   "cell_type": "code",
   "execution_count": 209,
   "id": "fe913bc0-9d2a-47ad-a47d-3346943bf91f",
   "metadata": {},
   "outputs": [],
   "source": [
    "# Common in both sets"
   ]
  },
  {
   "cell_type": "code",
   "execution_count": 207,
   "id": "600cf881-6a82-4adf-ac52-7f53d3e704a6",
   "metadata": {},
   "outputs": [],
   "source": [
    "calculus = {\"Rahul\", \"Afifa\", \"Renuka\"}\n",
    "linear = {\"Akash\", \"Amol\", \"Rahul\", \"Afifa\"}"
   ]
  },
  {
   "cell_type": "code",
   "execution_count": 208,
   "id": "be6e8a51-a43a-4f37-8d17-d4dd9fdab6b8",
   "metadata": {},
   "outputs": [
    {
     "data": {
      "text/plain": [
       "{'Afifa', 'Rahul'}"
      ]
     },
     "execution_count": 208,
     "metadata": {},
     "output_type": "execute_result"
    }
   ],
   "source": [
    "calculus.intersection(linear)"
   ]
  },
  {
   "cell_type": "code",
   "execution_count": null,
   "id": "0ab54cd4-a906-487d-9483-79b80a2a3389",
   "metadata": {},
   "outputs": [],
   "source": []
  },
  {
   "cell_type": "markdown",
   "id": "374638a2-c4db-4566-93e7-d3cfb77ea0df",
   "metadata": {},
   "source": [
    "### Union\n",
    "- Suppose you want to find out which students are enrolled in either the Calculus or the Linear Algebra Course or in both. Then you can use the union method."
   ]
  },
  {
   "cell_type": "code",
   "execution_count": 82,
   "id": "2cc48d31-976d-41da-8f9c-ac4e5eaa7f03",
   "metadata": {},
   "outputs": [],
   "source": [
    "# All elements in both sets"
   ]
  },
  {
   "cell_type": "code",
   "execution_count": 210,
   "id": "14116071-f3dc-49db-803b-84fb5951ab83",
   "metadata": {},
   "outputs": [
    {
     "name": "stdout",
     "output_type": "stream",
     "text": [
      "{'Rahul', 'Afifa', 'Amol', 'Akash'}\n",
      "{'Rahul', 'Afifa', 'Renuka'}\n"
     ]
    }
   ],
   "source": [
    "print(linear)\n",
    "print(calculus)"
   ]
  },
  {
   "cell_type": "code",
   "execution_count": 211,
   "id": "bcc49622-6b27-4d23-bd97-d8925eab7000",
   "metadata": {},
   "outputs": [
    {
     "data": {
      "text/plain": [
       "{'Afifa', 'Akash', 'Amol', 'Rahul', 'Renuka'}"
      ]
     },
     "execution_count": 211,
     "metadata": {},
     "output_type": "execute_result"
    }
   ],
   "source": [
    "linear.union(calculus)"
   ]
  },
  {
   "cell_type": "code",
   "execution_count": null,
   "id": "764dd1eb-1197-4683-991a-11312d14feb7",
   "metadata": {},
   "outputs": [],
   "source": []
  },
  {
   "cell_type": "code",
   "execution_count": 212,
   "id": "b34c2c36-54f8-49da-9270-a9ab29267f02",
   "metadata": {},
   "outputs": [],
   "source": [
    "# Quiz"
   ]
  },
  {
   "cell_type": "code",
   "execution_count": 214,
   "id": "629a907f-7ba1-4eaa-9e60-98874879aa8e",
   "metadata": {},
   "outputs": [
    {
     "name": "stdout",
     "output_type": "stream",
     "text": [
      "3 {1, 2, 3}\n"
     ]
    }
   ],
   "source": [
    "l = [1,1,2,2,3,3]\n",
    "s = set(l)\n",
    "print(len(s), s)"
   ]
  },
  {
   "cell_type": "code",
   "execution_count": null,
   "id": "541d05ec-bc49-4a84-8f09-c134047a0388",
   "metadata": {},
   "outputs": [],
   "source": []
  },
  {
   "cell_type": "markdown",
   "id": "78f669fc-4ab1-423a-b8e9-5f48048c90fa",
   "metadata": {},
   "source": [
    "### Difference\n",
    "- Suppose you want to find out the set of students who have enrolled in the Calculus course but not in Linear Algebra course or vice-versa, then we can use the difference method."
   ]
  },
  {
   "cell_type": "code",
   "execution_count": 215,
   "id": "b7d24b4b-b92f-41c7-a81d-63000d38eb22",
   "metadata": {},
   "outputs": [],
   "source": [
    "# Elements present in a set but not in another. A - B"
   ]
  },
  {
   "cell_type": "code",
   "execution_count": 96,
   "id": "b4da5012-633f-4616-8913-504318634893",
   "metadata": {},
   "outputs": [],
   "source": [
    "# quiz"
   ]
  },
  {
   "cell_type": "code",
   "execution_count": 216,
   "id": "cc1ebb4a-4850-476b-b6fa-74e590d653ff",
   "metadata": {},
   "outputs": [
    {
     "data": {
      "text/plain": [
       "{'Afifa', 'Rahul', 'Renuka'}"
      ]
     },
     "execution_count": 216,
     "metadata": {},
     "output_type": "execute_result"
    }
   ],
   "source": [
    "calculus"
   ]
  },
  {
   "cell_type": "code",
   "execution_count": 218,
   "id": "58e1f1a5-3dfd-48ea-87a3-92512fa2046c",
   "metadata": {},
   "outputs": [
    {
     "data": {
      "text/plain": [
       "{'Afifa', 'Akash', 'Amol', 'Rahul'}"
      ]
     },
     "execution_count": 218,
     "metadata": {},
     "output_type": "execute_result"
    }
   ],
   "source": [
    "linear"
   ]
  },
  {
   "cell_type": "code",
   "execution_count": 219,
   "id": "cd294658-5664-4f82-bff0-b53d148d770a",
   "metadata": {},
   "outputs": [
    {
     "data": {
      "text/plain": [
       "{'Renuka'}"
      ]
     },
     "execution_count": 219,
     "metadata": {},
     "output_type": "execute_result"
    }
   ],
   "source": [
    "calculus.difference(linear)"
   ]
  },
  {
   "cell_type": "code",
   "execution_count": 221,
   "id": "49094d88-d361-469b-8170-7ba200a164ed",
   "metadata": {},
   "outputs": [
    {
     "name": "stdout",
     "output_type": "stream",
     "text": [
      "{'Renuka'}\n"
     ]
    }
   ],
   "source": [
    "print(calculus - linear) # same as calculus.difference(linear)"
   ]
  },
  {
   "cell_type": "code",
   "execution_count": 222,
   "id": "ceaee5f2-85cc-417d-8bf2-3c32b940283c",
   "metadata": {},
   "outputs": [
    {
     "name": "stdout",
     "output_type": "stream",
     "text": [
      "{'Amol', 'Akash'}\n"
     ]
    }
   ],
   "source": [
    "print(linear - calculus)"
   ]
  },
  {
   "cell_type": "code",
   "execution_count": null,
   "id": "c298b8ea-2770-4824-a171-b34508ba7f97",
   "metadata": {},
   "outputs": [],
   "source": []
  },
  {
   "cell_type": "code",
   "execution_count": 223,
   "id": "0ecb3fc4-b4ff-48f1-8ba9-5e5223d0f159",
   "metadata": {},
   "outputs": [],
   "source": [
    "# Quizzes"
   ]
  },
  {
   "cell_type": "code",
   "execution_count": 224,
   "id": "a8152ff6-377f-446a-b891-c01b6f1cb22f",
   "metadata": {},
   "outputs": [
    {
     "name": "stdout",
     "output_type": "stream",
     "text": [
      "{1, 2}\n",
      "{1, 2, 3, 4, 5}\n",
      "{3}\n"
     ]
    }
   ],
   "source": [
    "a = {1,2,3}\n",
    "b = {3,4,5}\n",
    "print(a-b)\n",
    "print(a.union(b))\n",
    "print(a.intersection(b))"
   ]
  },
  {
   "cell_type": "code",
   "execution_count": null,
   "id": "96f66145-826d-41f8-baf0-6fae946d310a",
   "metadata": {},
   "outputs": [],
   "source": []
  },
  {
   "cell_type": "code",
   "execution_count": 226,
   "id": "4b599df7-8817-46a1-83fe-4179c173bc88",
   "metadata": {},
   "outputs": [
    {
     "name": "stdout",
     "output_type": "stream",
     "text": [
      "{1, 3}\n"
     ]
    }
   ],
   "source": [
    "set1 = {1, 2, 3, 4, 5, 6}\n",
    "set2 = {2, 4, 5, 6, 7}\n",
    "x = set1 - set2\n",
    "print(x)"
   ]
  },
  {
   "cell_type": "code",
   "execution_count": null,
   "id": "38cd7eea-b9ed-4712-a4e8-86fbbe510f59",
   "metadata": {},
   "outputs": [],
   "source": []
  },
  {
   "cell_type": "code",
   "execution_count": 227,
   "id": "0fe36ab8-2eff-452c-9821-41199f40e5ff",
   "metadata": {},
   "outputs": [],
   "source": [
    "# Doubts"
   ]
  },
  {
   "cell_type": "code",
   "execution_count": 228,
   "id": "28815a75-7aca-4b52-a1ef-1afce04cb953",
   "metadata": {},
   "outputs": [
    {
     "name": "stdout",
     "output_type": "stream",
     "text": [
      "\n"
     ]
    }
   ],
   "source": [
    "a =\"hello\"\n",
    "print(a[-5:0:])"
   ]
  },
  {
   "cell_type": "code",
   "execution_count": 229,
   "id": "70d58bd7-a4b8-49aa-b9d2-3baeed9b54b3",
   "metadata": {},
   "outputs": [],
   "source": [
    "t = ([12, 34])"
   ]
  },
  {
   "cell_type": "code",
   "execution_count": null,
   "id": "3aeda536-6116-48a5-a968-38843e8330b4",
   "metadata": {},
   "outputs": [],
   "source": []
  },
  {
   "cell_type": "code",
   "execution_count": null,
   "id": "9ad6ddbe-1de4-4cd5-8be2-cf4c957c709f",
   "metadata": {},
   "outputs": [],
   "source": []
  }
 ],
 "metadata": {
  "kernelspec": {
   "display_name": "Python 3 (ipykernel)",
   "language": "python",
   "name": "python3"
  },
  "language_info": {
   "codemirror_mode": {
    "name": "ipython",
    "version": 3
   },
   "file_extension": ".py",
   "mimetype": "text/x-python",
   "name": "python",
   "nbconvert_exporter": "python",
   "pygments_lexer": "ipython3",
   "version": "3.9.7"
  }
 },
 "nbformat": 4,
 "nbformat_minor": 5
}
