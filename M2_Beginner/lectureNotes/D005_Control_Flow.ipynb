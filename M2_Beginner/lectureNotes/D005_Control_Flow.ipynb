{
 "cells": [
  {
   "cell_type": "markdown",
   "id": "43c53a2c-f728-40a5-ac37-bcb4efa784e8",
   "metadata": {},
   "source": [
    "### Recap"
   ]
  },
  {
   "cell_type": "code",
   "execution_count": 1,
   "id": "5a8052a6-88e0-4576-8446-f96c25f67297",
   "metadata": {},
   "outputs": [
    {
     "name": "stdout",
     "output_type": "stream",
     "text": [
      "2\n"
     ]
    }
   ],
   "source": [
    "print(5//2)"
   ]
  },
  {
   "cell_type": "code",
   "execution_count": 2,
   "id": "9a009c66-c35e-4466-a90f-ab750bb75403",
   "metadata": {},
   "outputs": [
    {
     "name": "stdout",
     "output_type": "stream",
     "text": [
      "-3\n"
     ]
    }
   ],
   "source": [
    "print(-5//2)"
   ]
  },
  {
   "cell_type": "code",
   "execution_count": 3,
   "id": "585c07b7-68ed-4c72-b3d1-5b465bafa999",
   "metadata": {},
   "outputs": [
    {
     "name": "stdout",
     "output_type": "stream",
     "text": [
      "2\n"
     ]
    }
   ],
   "source": [
    "a = 5\n",
    "a = 8\n",
    "print(a // 3)"
   ]
  },
  {
   "cell_type": "code",
   "execution_count": 4,
   "id": "84c67d5a-dda8-4e0a-a0e1-6b26b3bdc63e",
   "metadata": {},
   "outputs": [
    {
     "name": "stdout",
     "output_type": "stream",
     "text": [
      "True\n"
     ]
    }
   ],
   "source": [
    "print(bool(\"abc\"))"
   ]
  },
  {
   "cell_type": "code",
   "execution_count": 5,
   "id": "bb4ebc27-3adb-426c-84de-5d227167379d",
   "metadata": {},
   "outputs": [
    {
     "name": "stdout",
     "output_type": "stream",
     "text": [
      "False\n"
     ]
    }
   ],
   "source": [
    "print(\"cat\" == \"dog\")"
   ]
  },
  {
   "cell_type": "code",
   "execution_count": 6,
   "id": "40a77e44-e1f7-4598-a45e-0157a3ed827f",
   "metadata": {},
   "outputs": [
    {
     "name": "stdout",
     "output_type": "stream",
     "text": [
      "False\n"
     ]
    }
   ],
   "source": [
    "print(\"cat\" == \"Cat\")"
   ]
  },
  {
   "cell_type": "code",
   "execution_count": 7,
   "id": "8dac76d3-4988-495d-bbe2-47fcfc2f3693",
   "metadata": {},
   "outputs": [
    {
     "name": "stdout",
     "output_type": "stream",
     "text": [
      "True\n"
     ]
    }
   ],
   "source": [
    "print(\"cat\" == \"cat\")"
   ]
  },
  {
   "cell_type": "code",
   "execution_count": null,
   "id": "c2fe998d-d082-4361-be5e-55857c66044e",
   "metadata": {},
   "outputs": [],
   "source": []
  },
  {
   "cell_type": "code",
   "execution_count": null,
   "id": "ac9355d6-5d9f-41b6-9ec5-83b0dc2370f1",
   "metadata": {},
   "outputs": [],
   "source": []
  },
  {
   "cell_type": "markdown",
   "id": "d90ce1e8-7010-484b-9e23-cf045c726bc5",
   "metadata": {},
   "source": [
    "## Assignment Operators\n",
    "- -=\n",
    "- +=\n",
    "- /=\n",
    "- *="
   ]
  },
  {
   "cell_type": "code",
   "execution_count": 17,
   "id": "62e5e48b-4e7c-4d15-9653-e4d977324455",
   "metadata": {},
   "outputs": [
    {
     "name": "stdin",
     "output_type": "stream",
     "text": [
      " 50\n"
     ]
    }
   ],
   "source": [
    "marks = int(input())"
   ]
  },
  {
   "cell_type": "code",
   "execution_count": 11,
   "id": "47863270-458b-4365-a3db-d2b780e4b0c6",
   "metadata": {},
   "outputs": [
    {
     "name": "stdout",
     "output_type": "stream",
     "text": [
      "<class 'int'>\n"
     ]
    }
   ],
   "source": [
    "print(type(marks))"
   ]
  },
  {
   "cell_type": "code",
   "execution_count": 18,
   "id": "63322b2e-62e1-457e-bdde-98aa84b302ef",
   "metadata": {},
   "outputs": [],
   "source": [
    "reval = 5"
   ]
  },
  {
   "cell_type": "code",
   "execution_count": 19,
   "id": "feacb0ae-22c8-419a-8d5c-0a35547bb184",
   "metadata": {},
   "outputs": [
    {
     "name": "stdout",
     "output_type": "stream",
     "text": [
      "55\n"
     ]
    }
   ],
   "source": [
    "marks = marks + reval\n",
    "print(marks)"
   ]
  },
  {
   "cell_type": "code",
   "execution_count": 20,
   "id": "5d802d83-56b9-4f61-8a74-3a3ed1939fb5",
   "metadata": {},
   "outputs": [
    {
     "name": "stdout",
     "output_type": "stream",
     "text": [
      "140203033553328\n"
     ]
    }
   ],
   "source": [
    "a = 5\n",
    "print(id(a))"
   ]
  },
  {
   "cell_type": "code",
   "execution_count": 21,
   "id": "1960ffd7-a7a5-467b-a3ff-6ca442d67b3e",
   "metadata": {},
   "outputs": [
    {
     "name": "stdout",
     "output_type": "stream",
     "text": [
      "5\n"
     ]
    }
   ],
   "source": [
    "print(a)"
   ]
  },
  {
   "cell_type": "code",
   "execution_count": 22,
   "id": "304a1a6f-4228-44b1-a12b-920d6241eb33",
   "metadata": {},
   "outputs": [
    {
     "name": "stdout",
     "output_type": "stream",
     "text": [
      "8\n",
      "140203033553424\n"
     ]
    }
   ],
   "source": [
    "a = 8\n",
    "print(a)\n",
    "print(id(a))"
   ]
  },
  {
   "cell_type": "code",
   "execution_count": 26,
   "id": "d3fd3b3e-fc2c-49b6-8091-ca894138561b",
   "metadata": {},
   "outputs": [],
   "source": [
    "marks = 50"
   ]
  },
  {
   "cell_type": "code",
   "execution_count": 27,
   "id": "a55421da-207e-4037-959b-65f6a0101cba",
   "metadata": {},
   "outputs": [],
   "source": [
    "marks += 5  # same as marks = marks + 5"
   ]
  },
  {
   "cell_type": "code",
   "execution_count": 28,
   "id": "d06841de-b2fa-43bc-a4fc-951023dbbe0b",
   "metadata": {},
   "outputs": [
    {
     "data": {
      "text/plain": [
       "55"
      ]
     },
     "execution_count": 28,
     "metadata": {},
     "output_type": "execute_result"
    }
   ],
   "source": [
    "marks"
   ]
  },
  {
   "cell_type": "code",
   "execution_count": 29,
   "id": "6028225e-49ec-4bfe-b9a6-04bf3880df3c",
   "metadata": {},
   "outputs": [
    {
     "name": "stdout",
     "output_type": "stream",
     "text": [
      "5\n"
     ]
    }
   ],
   "source": [
    "a = 8\n",
    "a -= 3\n",
    "print(a)"
   ]
  },
  {
   "cell_type": "code",
   "execution_count": 30,
   "id": "d9db9a8b-ebf5-4260-b34d-c510cd5671b7",
   "metadata": {},
   "outputs": [
    {
     "name": "stdout",
     "output_type": "stream",
     "text": [
      "9\n"
     ]
    }
   ],
   "source": [
    "a = 3\n",
    "a *= 3\n",
    "print(a)"
   ]
  },
  {
   "cell_type": "code",
   "execution_count": null,
   "id": "b6a6a558-a355-44bb-b685-9b7fc6dc6381",
   "metadata": {},
   "outputs": [],
   "source": []
  },
  {
   "cell_type": "markdown",
   "id": "88c3b15d-d798-4af7-ab1a-183ccd1122fb",
   "metadata": {},
   "source": [
    "### Logical Operators\n",
    "- and \n",
    "- or\n",
    "- not"
   ]
  },
  {
   "cell_type": "code",
   "execution_count": 33,
   "id": "78cd9d5e-6b15-4595-b77c-b9355ca41ec6",
   "metadata": {},
   "outputs": [
    {
     "name": "stdin",
     "output_type": "stream",
     "text": [
      " 100\n"
     ]
    },
    {
     "name": "stdout",
     "output_type": "stream",
     "text": [
      "False\n"
     ]
    }
   ],
   "source": [
    "amount = int(input())\n",
    "\n",
    "print(amount == 500 or amount == 1000 or amount == 2000)"
   ]
  },
  {
   "cell_type": "code",
   "execution_count": null,
   "id": "638c2f3a-041d-4e5b-a387-5d0532183e77",
   "metadata": {},
   "outputs": [],
   "source": []
  },
  {
   "cell_type": "code",
   "execution_count": 36,
   "id": "2b787e7c-b523-450b-87d1-336e587568d5",
   "metadata": {},
   "outputs": [
    {
     "name": "stdout",
     "output_type": "stream",
     "text": [
      "True\n"
     ]
    }
   ],
   "source": [
    "print(25 > 50 or 1 != 2)"
   ]
  },
  {
   "cell_type": "code",
   "execution_count": 34,
   "id": "98d1b2a5-d181-495e-98ef-722f9a67ea33",
   "metadata": {},
   "outputs": [
    {
     "data": {
      "text/plain": [
       "False"
      ]
     },
     "execution_count": 34,
     "metadata": {},
     "output_type": "execute_result"
    }
   ],
   "source": [
    "25 > 50"
   ]
  },
  {
   "cell_type": "code",
   "execution_count": 35,
   "id": "3c6018b4-980d-41da-8b68-a5336d59c9e6",
   "metadata": {},
   "outputs": [
    {
     "data": {
      "text/plain": [
       "True"
      ]
     },
     "execution_count": 35,
     "metadata": {},
     "output_type": "execute_result"
    }
   ],
   "source": [
    "1 != 2"
   ]
  },
  {
   "cell_type": "code",
   "execution_count": 37,
   "id": "1aa63dc8-2133-49c6-a028-4c065ad4019c",
   "metadata": {},
   "outputs": [
    {
     "name": "stdout",
     "output_type": "stream",
     "text": [
      "False\n"
     ]
    }
   ],
   "source": [
    "print(25 > 50 and 1 != 2)"
   ]
  },
  {
   "cell_type": "code",
   "execution_count": null,
   "id": "1aba7de3-d8fa-4bfe-b1c5-fca4094735cb",
   "metadata": {},
   "outputs": [],
   "source": []
  },
  {
   "cell_type": "code",
   "execution_count": null,
   "id": "aae8a859-3ae1-4d50-beae-494d8495eba8",
   "metadata": {},
   "outputs": [],
   "source": []
  },
  {
   "cell_type": "code",
   "execution_count": 38,
   "id": "2f948509-dda5-4964-8091-d2a257cae01f",
   "metadata": {},
   "outputs": [],
   "source": [
    "# Challenge: Pass / Fail"
   ]
  },
  {
   "cell_type": "code",
   "execution_count": 46,
   "id": "f635a83e-db02-4a8c-bed1-1ef6e4a018d3",
   "metadata": {},
   "outputs": [
    {
     "name": "stdin",
     "output_type": "stream",
     "text": [
      "What are the marks 33\n"
     ]
    }
   ],
   "source": [
    "marks = int(input(\"What are the marks\"))"
   ]
  },
  {
   "cell_type": "code",
   "execution_count": 47,
   "id": "ee214d7b-f5cc-46e6-b28e-de005b8e712f",
   "metadata": {},
   "outputs": [
    {
     "name": "stdout",
     "output_type": "stream",
     "text": [
      "False\n"
     ]
    }
   ],
   "source": [
    "print(marks >= 35 and marks <= 100)"
   ]
  },
  {
   "cell_type": "code",
   "execution_count": null,
   "id": "737eb1cb-3acf-4078-a343-abccc4e82a3f",
   "metadata": {},
   "outputs": [],
   "source": []
  },
  {
   "cell_type": "code",
   "execution_count": 50,
   "id": "1202c3dd-85f9-4eff-b95b-175ebf05a480",
   "metadata": {},
   "outputs": [
    {
     "name": "stdout",
     "output_type": "stream",
     "text": [
      "True\n"
     ]
    }
   ],
   "source": [
    "print(3 > 1 and -1 < 1)"
   ]
  },
  {
   "cell_type": "code",
   "execution_count": 48,
   "id": "eb8ddb42-92ff-461a-9f26-6671585ea168",
   "metadata": {},
   "outputs": [
    {
     "name": "stdout",
     "output_type": "stream",
     "text": [
      "True\n"
     ]
    }
   ],
   "source": [
    "print(3 > 1)"
   ]
  },
  {
   "cell_type": "code",
   "execution_count": 49,
   "id": "e7cf8342-d808-48fe-858b-825a13ed79fc",
   "metadata": {},
   "outputs": [
    {
     "name": "stdout",
     "output_type": "stream",
     "text": [
      "True\n"
     ]
    }
   ],
   "source": [
    "print(-1 < 1)"
   ]
  },
  {
   "cell_type": "code",
   "execution_count": 51,
   "id": "ccb89bef-040d-46f7-86a0-9b09d8d7f920",
   "metadata": {},
   "outputs": [
    {
     "name": "stdout",
     "output_type": "stream",
     "text": [
      "False\n"
     ]
    }
   ],
   "source": [
    "print(not True)"
   ]
  },
  {
   "cell_type": "code",
   "execution_count": 52,
   "id": "a1d8cf78-7563-4ba6-a980-4e55ab553e59",
   "metadata": {},
   "outputs": [
    {
     "name": "stdout",
     "output_type": "stream",
     "text": [
      "True\n"
     ]
    }
   ],
   "source": [
    "print(not False)"
   ]
  },
  {
   "cell_type": "code",
   "execution_count": 54,
   "id": "4d5cf9eb-6f52-4604-a799-6d4b67e95cf6",
   "metadata": {},
   "outputs": [
    {
     "name": "stdout",
     "output_type": "stream",
     "text": [
      "False\n"
     ]
    }
   ],
   "source": [
    "print(not 1 == 1)"
   ]
  },
  {
   "cell_type": "code",
   "execution_count": null,
   "id": "8159b520-f45f-4196-897c-b75966882b7d",
   "metadata": {},
   "outputs": [],
   "source": []
  },
  {
   "cell_type": "code",
   "execution_count": null,
   "id": "2c753c33-37e6-4594-8922-dc74e2c03ded",
   "metadata": {},
   "outputs": [],
   "source": []
  },
  {
   "cell_type": "code",
   "execution_count": null,
   "id": "7de8b779-d3fd-4422-b2db-c6776a4a3bdb",
   "metadata": {},
   "outputs": [],
   "source": []
  },
  {
   "cell_type": "code",
   "execution_count": null,
   "id": "c47c3871-745c-48fe-9d79-f5406097a0c9",
   "metadata": {},
   "outputs": [],
   "source": []
  },
  {
   "cell_type": "code",
   "execution_count": null,
   "id": "bd9e3066-fc67-4941-9698-b7e0f6842e4b",
   "metadata": {},
   "outputs": [],
   "source": []
  },
  {
   "cell_type": "markdown",
   "id": "24c100a5-3af8-4bbf-8a04-8b92cac74301",
   "metadata": {},
   "source": [
    "## Conditional Statements\n",
    "- A conditional statement is a Boolean expression that, if True, executes a piece of code."
   ]
  },
  {
   "cell_type": "code",
   "execution_count": 57,
   "id": "bdd3e4e5-46e0-4271-83e8-ad406eebb66b",
   "metadata": {},
   "outputs": [
    {
     "name": "stdin",
     "output_type": "stream",
     "text": [
      " sunny\n"
     ]
    }
   ],
   "source": [
    "weather = input()\n",
    "\n",
    "if weather == \"rainy\":\n",
    "    print(\"Take umbrella\")\n",
    "    print(\"Eat Samosa\")"
   ]
  },
  {
   "cell_type": "code",
   "execution_count": 55,
   "id": "069b7721-9b9a-43dd-a6b7-6f2f7eed8325",
   "metadata": {},
   "outputs": [
    {
     "data": {
      "text/plain": [
       "True"
      ]
     },
     "execution_count": 55,
     "metadata": {},
     "output_type": "execute_result"
    }
   ],
   "source": [
    "\"rainy\" == \"rainy\""
   ]
  },
  {
   "cell_type": "code",
   "execution_count": 58,
   "id": "25a729df-068b-45c4-ab1f-30d638e687e9",
   "metadata": {},
   "outputs": [
    {
     "data": {
      "text/plain": [
       "False"
      ]
     },
     "execution_count": 58,
     "metadata": {},
     "output_type": "execute_result"
    }
   ],
   "source": [
    "\"sunny\" == \"rainy\""
   ]
  },
  {
   "cell_type": "code",
   "execution_count": null,
   "id": "73f3ff0b-e352-405e-94ba-d1eb69663253",
   "metadata": {},
   "outputs": [],
   "source": []
  },
  {
   "cell_type": "code",
   "execution_count": 61,
   "id": "cba1442f-9f86-4622-94bc-56977f30dfed",
   "metadata": {},
   "outputs": [
    {
     "name": "stdin",
     "output_type": "stream",
     "text": [
      " -12\n"
     ]
    }
   ],
   "source": [
    "number = int(input())\n",
    "\n",
    "if number > 0:\n",
    "    print(\"Yes this number is positive\")"
   ]
  },
  {
   "cell_type": "code",
   "execution_count": null,
   "id": "f1c61ca2-5471-4526-b4db-10a417674d08",
   "metadata": {},
   "outputs": [],
   "source": []
  },
  {
   "cell_type": "code",
   "execution_count": null,
   "id": "fe3fbd71-2956-4757-b671-c7261b645746",
   "metadata": {},
   "outputs": [],
   "source": []
  },
  {
   "cell_type": "code",
   "execution_count": null,
   "id": "4e59dd12-0696-4151-904a-1b7cb4e63936",
   "metadata": {},
   "outputs": [],
   "source": []
  },
  {
   "cell_type": "code",
   "execution_count": null,
   "id": "a7476937-dd54-4c19-b801-60d45aa9cdd5",
   "metadata": {},
   "outputs": [],
   "source": []
  },
  {
   "cell_type": "markdown",
   "id": "ce30a099-0f9e-4217-9eda-fc9df672488c",
   "metadata": {
    "tags": []
   },
   "source": [
    "# There are three types of conditional statements in Python:\n",
    "\n",
    "- if\n",
    "- if-else\n",
    "- if-elif-else"
   ]
  },
  {
   "cell_type": "code",
   "execution_count": null,
   "id": "3e99368a-209f-452b-be34-4038859444d7",
   "metadata": {},
   "outputs": [],
   "source": [
    "# if"
   ]
  },
  {
   "cell_type": "code",
   "execution_count": null,
   "id": "ca147223-c308-43ab-b548-420e9fa52678",
   "metadata": {},
   "outputs": [],
   "source": []
  },
  {
   "cell_type": "code",
   "execution_count": null,
   "id": "c9445421-3a90-4e27-afaa-2e8cd3f0278b",
   "metadata": {},
   "outputs": [],
   "source": []
  },
  {
   "cell_type": "code",
   "execution_count": 62,
   "id": "8b6a4b85-5cdd-4764-9388-f6e3c699adde",
   "metadata": {},
   "outputs": [],
   "source": [
    "## Make a password validator"
   ]
  },
  {
   "cell_type": "code",
   "execution_count": 65,
   "id": "829daf3d-61b5-46d5-835a-77de24be8a94",
   "metadata": {},
   "outputs": [
    {
     "name": "stdin",
     "output_type": "stream",
     "text": [
      " abc123\n"
     ]
    },
    {
     "name": "stdout",
     "output_type": "stream",
     "text": [
      "You are logged in\n"
     ]
    }
   ],
   "source": [
    "password = input()\n",
    "\n",
    "if password == \"abc123\":\n",
    "    print(\"You are logged in\")\n",
    "else:\n",
    "    print(\"Invalid Password! try again\")"
   ]
  },
  {
   "cell_type": "code",
   "execution_count": null,
   "id": "310154e7-23be-4a3f-befb-a16d3a8adedb",
   "metadata": {},
   "outputs": [],
   "source": []
  },
  {
   "cell_type": "code",
   "execution_count": 68,
   "id": "bf5e8f18-44a5-4cd7-acec-e36990a5f379",
   "metadata": {},
   "outputs": [
    {
     "name": "stdin",
     "output_type": "stream",
     "text": [
      " rainy\n"
     ]
    },
    {
     "name": "stdout",
     "output_type": "stream",
     "text": [
      "Take umbrella\n",
      "Eat Samosa\n"
     ]
    }
   ],
   "source": [
    "weather = input()\n",
    "\n",
    "if weather == \"rainy\":\n",
    "    print(\"Take umbrella\")\n",
    "    print(\"Eat Samosa\")\n",
    "else:\n",
    "    print(\"Stay at home\")"
   ]
  },
  {
   "cell_type": "code",
   "execution_count": null,
   "id": "0507d23f-322b-4229-86b3-815b8d1951bc",
   "metadata": {},
   "outputs": [],
   "source": []
  },
  {
   "cell_type": "code",
   "execution_count": 69,
   "id": "f9046937-5747-4f01-84a8-dfce51566151",
   "metadata": {},
   "outputs": [
    {
     "name": "stdout",
     "output_type": "stream",
     "text": [
      "7\n"
     ]
    }
   ],
   "source": [
    "x = 5\n",
    "\n",
    "if x == 5:\n",
    "    x = 7\n",
    "\n",
    "print(x)"
   ]
  },
  {
   "cell_type": "code",
   "execution_count": null,
   "id": "d0c9bb8a-ef2e-4cff-a03c-d91496f755d2",
   "metadata": {},
   "outputs": [],
   "source": []
  },
  {
   "cell_type": "code",
   "execution_count": 79,
   "id": "54e3c95a-746c-4c6c-99fb-b698fe2c1ce6",
   "metadata": {},
   "outputs": [
    {
     "name": "stdout",
     "output_type": "stream",
     "text": [
      "30\n"
     ]
    }
   ],
   "source": [
    "num1 = 10\n",
    "num2 = 20\n",
    "result = 4000\n",
    "\n",
    "if (num1 > 50 or num2 <= 5):\n",
    "    result = num1 * num2\n",
    "else:\n",
    "    result = num1 + num2\n",
    "    \n",
    "print(result)"
   ]
  },
  {
   "cell_type": "code",
   "execution_count": 71,
   "id": "ec40feb3-3e93-47c0-826a-20d1d4a4e2df",
   "metadata": {},
   "outputs": [
    {
     "name": "stdout",
     "output_type": "stream",
     "text": [
      "30\n"
     ]
    }
   ],
   "source": [
    "print(result)"
   ]
  },
  {
   "cell_type": "code",
   "execution_count": null,
   "id": "823e1ae2-42d0-48e5-8c69-0eeea26a48db",
   "metadata": {},
   "outputs": [],
   "source": []
  },
  {
   "cell_type": "code",
   "execution_count": 74,
   "id": "0a1687e6-e711-4c14-aa19-9dfbddc43ebc",
   "metadata": {},
   "outputs": [],
   "source": [
    "## num1 and num2. Find max?"
   ]
  },
  {
   "cell_type": "code",
   "execution_count": 77,
   "id": "afba9c37-336e-45e6-bf8c-a6158c7a6760",
   "metadata": {},
   "outputs": [
    {
     "name": "stdin",
     "output_type": "stream",
     "text": [
      "Num1: 5\n",
      "Num2:  5\n"
     ]
    },
    {
     "name": "stdout",
     "output_type": "stream",
     "text": [
      "Number 2 is greater 5\n"
     ]
    }
   ],
   "source": [
    "num1 = int(input(\"Num1:\"))\n",
    "num2 = int(input(\"Num2: \"))\n",
    "\n",
    "if num1 > num2:\n",
    "    print(\"Number 1 is greater\", num1)\n",
    "else:\n",
    "    print(\"Number 2 is greater\", num2)"
   ]
  },
  {
   "cell_type": "code",
   "execution_count": null,
   "id": "1f4708eb-71c2-4675-9b8f-210032ce2adf",
   "metadata": {},
   "outputs": [],
   "source": []
  },
  {
   "cell_type": "code",
   "execution_count": null,
   "id": "00dd0761-1e31-4368-ba1a-ca5cda7e8bce",
   "metadata": {},
   "outputs": [],
   "source": []
  },
  {
   "cell_type": "code",
   "execution_count": null,
   "id": "de6967c9-c7bf-4193-9aec-d0a0605aefdd",
   "metadata": {},
   "outputs": [],
   "source": []
  },
  {
   "cell_type": "code",
   "execution_count": 80,
   "id": "9d8d0f91-9354-4071-b955-9b75fd7ec3a6",
   "metadata": {},
   "outputs": [],
   "source": [
    "# slack: rahul janghu"
   ]
  },
  {
   "cell_type": "code",
   "execution_count": 82,
   "id": "4171c198-dd58-4962-875e-d66149771ad5",
   "metadata": {},
   "outputs": [
    {
     "name": "stdin",
     "output_type": "stream",
     "text": [
      "Give the input: Rahul\n"
     ]
    }
   ],
   "source": [
    "n = input(\"Give the input:\")"
   ]
  },
  {
   "cell_type": "code",
   "execution_count": null,
   "id": "3609fccb-f4a0-4d0e-b438-c49d38599e32",
   "metadata": {},
   "outputs": [],
   "source": []
  },
  {
   "cell_type": "code",
   "execution_count": 83,
   "id": "798e59f7-87d6-4087-a828-546757ef4595",
   "metadata": {},
   "outputs": [],
   "source": [
    "a = \"Rahul\"\n",
    "b = \"Shriram\""
   ]
  },
  {
   "cell_type": "code",
   "execution_count": 86,
   "id": "65962145-aa36-4499-b96f-2960bda0a3ae",
   "metadata": {},
   "outputs": [
    {
     "name": "stdout",
     "output_type": "stream",
     "text": [
      "Rahulsays hi toShriram\n"
     ]
    }
   ],
   "source": [
    "# string concatenation\n",
    "print(a + \"says hi to\" + b)"
   ]
  },
  {
   "cell_type": "code",
   "execution_count": 87,
   "id": "96712fcf-92f1-4b0a-a735-c643773ae6ab",
   "metadata": {},
   "outputs": [
    {
     "name": "stdout",
     "output_type": "stream",
     "text": [
      "Rahul says hi to Shriram\n"
     ]
    }
   ],
   "source": [
    "# Simple print function\n",
    "print(a, \"says hi to\", b)"
   ]
  },
  {
   "cell_type": "code",
   "execution_count": null,
   "id": "783abccd-ac66-4bf8-b444-fc1aac3c8b43",
   "metadata": {},
   "outputs": [],
   "source": []
  }
 ],
 "metadata": {
  "kernelspec": {
   "display_name": "Python 3 (ipykernel)",
   "language": "python",
   "name": "python3"
  },
  "language_info": {
   "codemirror_mode": {
    "name": "ipython",
    "version": 3
   },
   "file_extension": ".py",
   "mimetype": "text/x-python",
   "name": "python",
   "nbconvert_exporter": "python",
   "pygments_lexer": "ipython3",
   "version": "3.9.7"
  }
 },
 "nbformat": 4,
 "nbformat_minor": 5
}
