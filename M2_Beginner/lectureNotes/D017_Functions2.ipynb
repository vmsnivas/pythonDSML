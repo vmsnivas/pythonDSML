{
 "cells": [
  {
   "cell_type": "markdown",
   "id": "042ed7d5-1787-4c91-905a-8be01ff4cd05",
   "metadata": {},
   "source": [
    "### Functions2"
   ]
  },
  {
   "cell_type": "code",
   "execution_count": null,
   "id": "607a3a6e-cd15-4bb6-8ed9-d0efe68b5a8e",
   "metadata": {},
   "outputs": [],
   "source": []
  },
  {
   "cell_type": "code",
   "execution_count": 2,
   "id": "ae55901c-4148-4839-9d19-dd43e0c18fa2",
   "metadata": {},
   "outputs": [],
   "source": [
    "def greet(name,city):\n",
    "    print(\"hey\", name, \"How are you?\")\n",
    "    print(\"How is weather in your\", city)"
   ]
  },
  {
   "cell_type": "code",
   "execution_count": 4,
   "id": "943436bd-78e8-47ec-97fb-9e9dd5687c3f",
   "metadata": {},
   "outputs": [
    {
     "name": "stdout",
     "output_type": "stream",
     "text": [
      "hey Yogeswar How are you?\n",
      "How is weather in your Pune\n"
     ]
    }
   ],
   "source": [
    "greet(\"Yogeswar\", \"Pune\")"
   ]
  },
  {
   "cell_type": "code",
   "execution_count": 5,
   "id": "ff013199-a17c-4f51-8054-c695e336c68c",
   "metadata": {},
   "outputs": [
    {
     "name": "stdout",
     "output_type": "stream",
     "text": [
      "hey Pune How are you?\n",
      "How is weather in your Yogeshwar\n"
     ]
    }
   ],
   "source": [
    "greet(\"Pune\", \"Yogeshwar\")"
   ]
  },
  {
   "cell_type": "code",
   "execution_count": null,
   "id": "a7d0fb97-faf7-494b-a4e8-2ae7c0282e98",
   "metadata": {},
   "outputs": [],
   "source": []
  },
  {
   "cell_type": "code",
   "execution_count": null,
   "id": "4fb0949b-acfb-42af-8956-1dc2a0a3d43a",
   "metadata": {},
   "outputs": [],
   "source": []
  },
  {
   "cell_type": "code",
   "execution_count": 7,
   "id": "72b2b325-bc54-4da0-a8c6-a0177fa6a245",
   "metadata": {},
   "outputs": [],
   "source": [
    "# String formatting"
   ]
  },
  {
   "cell_type": "code",
   "execution_count": 11,
   "id": "ccd5f1f2-3143-408d-b65a-f55543daa810",
   "metadata": {},
   "outputs": [
    {
     "name": "stdout",
     "output_type": "stream",
     "text": [
      "My name is Rahul and my last name is 23423\n"
     ]
    }
   ],
   "source": [
    "n = \"Rahul\"\n",
    "last = 23423\n",
    "# {} is a place holder in our string\n",
    "print(\"My name is {} and my last name is {}\".format(n, last))"
   ]
  },
  {
   "cell_type": "code",
   "execution_count": null,
   "id": "d4cb127d-383d-456c-8438-fc03c31279d9",
   "metadata": {},
   "outputs": [],
   "source": []
  },
  {
   "cell_type": "code",
   "execution_count": 12,
   "id": "dfbf608a-a61e-4214-9a41-35e5fecadc63",
   "metadata": {},
   "outputs": [],
   "source": [
    "def greet(name,city):\n",
    "    print(\"hey {}, How are you?\".format(name))\n",
    "    print(\"How is weather in your {}\".format(city))"
   ]
  },
  {
   "cell_type": "code",
   "execution_count": 13,
   "id": "6c88e93d-5d98-4f75-9539-eac212591bd1",
   "metadata": {},
   "outputs": [
    {
     "name": "stdout",
     "output_type": "stream",
     "text": [
      "hey Monika, How are you?\n",
      "How is weather in your Pune\n"
     ]
    }
   ],
   "source": [
    "greet(\"Monika\", \"Pune\")"
   ]
  },
  {
   "cell_type": "code",
   "execution_count": 14,
   "id": "e2db4744-ab0f-43aa-8d1b-bf05c8fbb9ce",
   "metadata": {},
   "outputs": [
    {
     "name": "stdout",
     "output_type": "stream",
     "text": [
      "hey Pune, How are you?\n",
      "How is weather in your Monika\n"
     ]
    }
   ],
   "source": [
    "greet(\"Pune\", \"Monika\")"
   ]
  },
  {
   "cell_type": "code",
   "execution_count": null,
   "id": "1943ac46-726c-4942-876d-980b9be69427",
   "metadata": {},
   "outputs": [],
   "source": []
  },
  {
   "cell_type": "markdown",
   "id": "bfdd6e5d-a240-4b46-b3b1-e9145253b90e",
   "metadata": {},
   "source": [
    "### Keyworded arguments"
   ]
  },
  {
   "cell_type": "code",
   "execution_count": 23,
   "id": "101b9d7b-6294-4f71-89d0-2d140fef6499",
   "metadata": {},
   "outputs": [],
   "source": [
    "def f(a, b, c):\n",
    "    print(\"Value of a is {}\".format(a))\n",
    "    print(\"Value of b is {}\".format(b))\n",
    "    print(\"Value of c is {}\".format(c))\n",
    "    print(2*a + b + c)"
   ]
  },
  {
   "cell_type": "code",
   "execution_count": 24,
   "id": "2f1e344f-7d29-4a2e-8a37-1a739d615285",
   "metadata": {},
   "outputs": [
    {
     "name": "stdout",
     "output_type": "stream",
     "text": [
      "Value of a is 2\n",
      "Value of b is 3\n",
      "Value of c is 4\n",
      "11\n"
     ]
    }
   ],
   "source": [
    "f(2, 3, 4)"
   ]
  },
  {
   "cell_type": "code",
   "execution_count": 25,
   "id": "a37151f4-58c9-45e5-8f14-7a3ff882afac",
   "metadata": {},
   "outputs": [
    {
     "name": "stdout",
     "output_type": "stream",
     "text": [
      "Value of a is 3\n",
      "Value of b is 2\n",
      "Value of c is 4\n",
      "12\n"
     ]
    }
   ],
   "source": [
    "f(3, 2, 4)"
   ]
  },
  {
   "cell_type": "code",
   "execution_count": 26,
   "id": "eaeedbb0-6c1b-48b5-b1c1-6c789187ff93",
   "metadata": {},
   "outputs": [
    {
     "name": "stdout",
     "output_type": "stream",
     "text": [
      "Value of a is 2\n",
      "Value of b is 3\n",
      "Value of c is 4\n",
      "11\n"
     ]
    }
   ],
   "source": [
    "f(a = 2, c = 4, b = 3)"
   ]
  },
  {
   "cell_type": "code",
   "execution_count": null,
   "id": "6047b551-89d1-47b9-852f-f688efd35b6d",
   "metadata": {},
   "outputs": [],
   "source": []
  },
  {
   "cell_type": "code",
   "execution_count": null,
   "id": "dcb9dd2d-868c-46eb-9865-5f70b638a68e",
   "metadata": {},
   "outputs": [],
   "source": []
  },
  {
   "cell_type": "code",
   "execution_count": 16,
   "id": "003ddcd1-c6dc-489a-995a-f9e6ff9f7a8b",
   "metadata": {},
   "outputs": [
    {
     "name": "stdout",
     "output_type": "stream",
     "text": [
      "5.0\n"
     ]
    }
   ],
   "source": [
    "def f(a, b, c):\n",
    "    print((a + b + c)/3)\n",
    "    \n",
    "f(3, 5, 7)"
   ]
  },
  {
   "cell_type": "code",
   "execution_count": null,
   "id": "bf4ad8c6-ac00-496d-95f1-d00e793ec6b3",
   "metadata": {},
   "outputs": [],
   "source": []
  },
  {
   "cell_type": "code",
   "execution_count": 21,
   "id": "7537da96-7334-4df8-8e0a-8321a219219f",
   "metadata": {},
   "outputs": [
    {
     "ename": "TypeError",
     "evalue": "f() missing 1 required positional argument: 'c'",
     "output_type": "error",
     "traceback": [
      "\u001b[0;31m---------------------------------------------------------------------------\u001b[0m",
      "\u001b[0;31mTypeError\u001b[0m                                 Traceback (most recent call last)",
      "\u001b[0;32m/var/folders/zn/hkv6562d6_d30glfs8yc76900000gn/T/ipykernel_18093/1984695380.py\u001b[0m in \u001b[0;36m<module>\u001b[0;34m\u001b[0m\n\u001b[1;32m      4\u001b[0m     \u001b[0mprint\u001b[0m\u001b[0;34m(\u001b[0m\u001b[0;34m'Third number: {}'\u001b[0m\u001b[0;34m.\u001b[0m\u001b[0mformat\u001b[0m\u001b[0;34m(\u001b[0m\u001b[0mc\u001b[0m\u001b[0;34m)\u001b[0m\u001b[0;34m)\u001b[0m\u001b[0;34m\u001b[0m\u001b[0;34m\u001b[0m\u001b[0m\n\u001b[1;32m      5\u001b[0m     \u001b[0mprint\u001b[0m\u001b[0;34m(\u001b[0m\u001b[0;34m'The result is: {}'\u001b[0m\u001b[0;34m.\u001b[0m\u001b[0mformat\u001b[0m\u001b[0;34m(\u001b[0m\u001b[0;36m2\u001b[0m\u001b[0;34m*\u001b[0m\u001b[0ma\u001b[0m \u001b[0;34m+\u001b[0m \u001b[0mb\u001b[0m \u001b[0;34m-\u001b[0m \u001b[0;36m3\u001b[0m\u001b[0;34m*\u001b[0m\u001b[0mc\u001b[0m\u001b[0;34m)\u001b[0m\u001b[0;34m)\u001b[0m\u001b[0;34m\u001b[0m\u001b[0;34m\u001b[0m\u001b[0m\n\u001b[0;32m----> 6\u001b[0;31m \u001b[0mf\u001b[0m\u001b[0;34m(\u001b[0m\u001b[0;36m1\u001b[0m\u001b[0;34m,\u001b[0m \u001b[0;36m2\u001b[0m\u001b[0;34m)\u001b[0m\u001b[0;34m\u001b[0m\u001b[0;34m\u001b[0m\u001b[0m\n\u001b[0m",
      "\u001b[0;31mTypeError\u001b[0m: f() missing 1 required positional argument: 'c'"
     ]
    }
   ],
   "source": [
    "def f(a, b, c):\n",
    "    print('First number: {}'.format(a))\n",
    "    print('Second number: {}'.format(b))\n",
    "    print('Third number: {}'.format(c))\n",
    "    print('The result is: {}'.format(2*a + b - 3*c))\n",
    "f(1, 2)"
   ]
  },
  {
   "cell_type": "code",
   "execution_count": null,
   "id": "b32fafec-98d5-4a5c-add1-ae82cd15c716",
   "metadata": {},
   "outputs": [],
   "source": []
  },
  {
   "cell_type": "code",
   "execution_count": 27,
   "id": "d9c86e19-8f63-4e4b-a49f-0f6569fa8f45",
   "metadata": {},
   "outputs": [],
   "source": [
    "def greet(name,city):\n",
    "    print(\"hey {}, How are you?\".format(name))\n",
    "    print(\"How is weather in your {}\".format(city))"
   ]
  },
  {
   "cell_type": "code",
   "execution_count": 29,
   "id": "d502eb67-a260-4f73-be73-0299f57ab537",
   "metadata": {},
   "outputs": [
    {
     "name": "stdout",
     "output_type": "stream",
     "text": [
      "hey Monika, How are you?\n",
      "How is weather in your Pune\n"
     ]
    }
   ],
   "source": [
    "greet(city = \"Pune\", name = \"Monika\")"
   ]
  },
  {
   "cell_type": "code",
   "execution_count": 31,
   "id": "6b5bc395-b7f7-4f4d-833f-1dcafe4547b2",
   "metadata": {},
   "outputs": [],
   "source": [
    "# It will give an error\n",
    "# greet(city = \"Pune\")"
   ]
  },
  {
   "cell_type": "code",
   "execution_count": null,
   "id": "0f13a39d-541c-4e57-9100-bfb84ee4883c",
   "metadata": {},
   "outputs": [],
   "source": []
  },
  {
   "cell_type": "markdown",
   "id": "4f802eef-b367-45d2-93f4-2e0fe2372ba9",
   "metadata": {},
   "source": [
    "### Mixing Keyworded ags and positional arguments"
   ]
  },
  {
   "cell_type": "code",
   "execution_count": 33,
   "id": "75e0cdb3-08dd-4d73-b37f-021606fc2738",
   "metadata": {},
   "outputs": [],
   "source": [
    "def f(a, b, c):\n",
    "    print(\"Value of a is {}\".format(a))\n",
    "    print(\"Value of b is {}\".format(b))\n",
    "    print(\"Value of c is {}\".format(c))\n",
    "    print(2*a + b + c)"
   ]
  },
  {
   "cell_type": "code",
   "execution_count": 34,
   "id": "fb40ecf2-011b-4498-bcd3-79a1d4e62504",
   "metadata": {},
   "outputs": [
    {
     "name": "stdout",
     "output_type": "stream",
     "text": [
      "Value of a is 2\n",
      "Value of b is 3\n",
      "Value of c is 4\n",
      "11\n"
     ]
    }
   ],
   "source": [
    "f(2, 3, c = 4)"
   ]
  },
  {
   "cell_type": "code",
   "execution_count": 35,
   "id": "cd8c2b36-5f52-4d29-bfeb-dc24866333f6",
   "metadata": {},
   "outputs": [
    {
     "name": "stdout",
     "output_type": "stream",
     "text": [
      "Value of a is 2\n",
      "Value of b is 5\n",
      "Value of c is 3\n",
      "12\n"
     ]
    }
   ],
   "source": [
    "f(2, c = 3, b = 5)"
   ]
  },
  {
   "cell_type": "code",
   "execution_count": 36,
   "id": "9cf4bcc3-8a29-42c8-87e0-fe5cd906844b",
   "metadata": {},
   "outputs": [
    {
     "ename": "TypeError",
     "evalue": "f() got multiple values for argument 'a'",
     "output_type": "error",
     "traceback": [
      "\u001b[0;31m---------------------------------------------------------------------------\u001b[0m",
      "\u001b[0;31mTypeError\u001b[0m                                 Traceback (most recent call last)",
      "\u001b[0;32m/var/folders/zn/hkv6562d6_d30glfs8yc76900000gn/T/ipykernel_18093/3386888599.py\u001b[0m in \u001b[0;36m<module>\u001b[0;34m\u001b[0m\n\u001b[0;32m----> 1\u001b[0;31m \u001b[0mf\u001b[0m\u001b[0;34m(\u001b[0m\u001b[0;36m2\u001b[0m\u001b[0;34m,\u001b[0m \u001b[0;36m3\u001b[0m\u001b[0;34m,\u001b[0m \u001b[0ma\u001b[0m \u001b[0;34m=\u001b[0m \u001b[0;36m4\u001b[0m\u001b[0;34m)\u001b[0m\u001b[0;34m\u001b[0m\u001b[0;34m\u001b[0m\u001b[0m\n\u001b[0m",
      "\u001b[0;31mTypeError\u001b[0m: f() got multiple values for argument 'a'"
     ]
    }
   ],
   "source": [
    "f(2, 3, a = 4)"
   ]
  },
  {
   "cell_type": "code",
   "execution_count": null,
   "id": "48baebe7-a90e-4bfd-903d-256892444d7a",
   "metadata": {},
   "outputs": [],
   "source": []
  },
  {
   "cell_type": "markdown",
   "id": "7d96529c-dd24-4268-873c-bfcdb951e822",
   "metadata": {},
   "source": [
    "### Positional argument can't follow keyword argument"
   ]
  },
  {
   "cell_type": "code",
   "execution_count": null,
   "id": "ce557b34-1e11-4f9e-b621-e201ea6292a6",
   "metadata": {},
   "outputs": [],
   "source": []
  },
  {
   "cell_type": "code",
   "execution_count": 37,
   "id": "3c0266c0-f729-4c7f-8691-aa4b412da685",
   "metadata": {},
   "outputs": [
    {
     "ename": "SyntaxError",
     "evalue": "positional argument follows keyword argument (1103725724.py, line 1)",
     "output_type": "error",
     "traceback": [
      "\u001b[0;36m  File \u001b[0;32m\"/var/folders/zn/hkv6562d6_d30glfs8yc76900000gn/T/ipykernel_18093/1103725724.py\"\u001b[0;36m, line \u001b[0;32m1\u001b[0m\n\u001b[0;31m    f(c = 2, 4, 3)\u001b[0m\n\u001b[0m                 ^\u001b[0m\n\u001b[0;31mSyntaxError\u001b[0m\u001b[0;31m:\u001b[0m positional argument follows keyword argument\n"
     ]
    }
   ],
   "source": [
    "f(c = 2, 4, 3)"
   ]
  },
  {
   "cell_type": "code",
   "execution_count": 38,
   "id": "9f2bf109-025c-4506-ac59-b56a9aeb92da",
   "metadata": {},
   "outputs": [
    {
     "ename": "SyntaxError",
     "evalue": "positional argument follows keyword argument (807009256.py, line 1)",
     "output_type": "error",
     "traceback": [
      "\u001b[0;36m  File \u001b[0;32m\"/var/folders/zn/hkv6562d6_d30glfs8yc76900000gn/T/ipykernel_18093/807009256.py\"\u001b[0;36m, line \u001b[0;32m1\u001b[0m\n\u001b[0;31m    f(2,c=4,5)\u001b[0m\n\u001b[0m             ^\u001b[0m\n\u001b[0;31mSyntaxError\u001b[0m\u001b[0;31m:\u001b[0m positional argument follows keyword argument\n"
     ]
    }
   ],
   "source": [
    "f(2,c=4,5)"
   ]
  },
  {
   "cell_type": "code",
   "execution_count": 39,
   "id": "838efef1-0a42-4b52-bfd7-b88d6d03adbd",
   "metadata": {},
   "outputs": [
    {
     "name": "stdout",
     "output_type": "stream",
     "text": [
      "Value of a is 2\n",
      "Value of b is 3\n",
      "Value of c is 4\n",
      "11\n"
     ]
    }
   ],
   "source": [
    "f(2, 3, 4)"
   ]
  },
  {
   "cell_type": "code",
   "execution_count": 40,
   "id": "2e60aeea-a985-41cf-9c22-4272d50a9923",
   "metadata": {},
   "outputs": [
    {
     "name": "stdout",
     "output_type": "stream",
     "text": [
      "Value of a is 4\n",
      "Value of b is 4\n",
      "Value of c is 5\n",
      "17\n"
     ]
    }
   ],
   "source": [
    "f(a = 4, b = 4, c = 5)"
   ]
  },
  {
   "cell_type": "code",
   "execution_count": 41,
   "id": "f241c998-78db-4bb8-a38e-87bb74969b05",
   "metadata": {},
   "outputs": [
    {
     "name": "stdout",
     "output_type": "stream",
     "text": [
      "Value of a is 2\n",
      "Value of b is 3\n",
      "Value of c is 5\n",
      "12\n"
     ]
    }
   ],
   "source": [
    "f(2, 3, c = 5)"
   ]
  },
  {
   "cell_type": "code",
   "execution_count": 42,
   "id": "29983fe4-0941-4479-a83b-b298dbd19939",
   "metadata": {},
   "outputs": [
    {
     "name": "stdout",
     "output_type": "stream",
     "text": [
      "Value of a is 2\n",
      "Value of b is 6\n",
      "Value of c is 4\n",
      "14\n"
     ]
    }
   ],
   "source": [
    "f(2, c = 4, b = 6)"
   ]
  },
  {
   "cell_type": "code",
   "execution_count": null,
   "id": "9edf2c1b-8449-4e35-8c59-98011ba77ce2",
   "metadata": {},
   "outputs": [],
   "source": []
  },
  {
   "cell_type": "code",
   "execution_count": null,
   "id": "000cc726-48d0-427e-9b07-2cb2dee4a58b",
   "metadata": {},
   "outputs": [],
   "source": []
  },
  {
   "cell_type": "code",
   "execution_count": 43,
   "id": "5463fe0e-4a5a-4ac8-9514-293dd0bf0ac7",
   "metadata": {},
   "outputs": [
    {
     "name": "stdout",
     "output_type": "stream",
     "text": [
      "Hi Nowhere how are you doing?\n",
      "Isn't it a nice weather today in Krishan?\n"
     ]
    }
   ],
   "source": [
    "def greet(name, location):\n",
    "    # string formatting\n",
    "    print(\"Hi {} how are you doing?\".format(name))\n",
    "    print(\"Isn't it a nice weather today in {}?\".format(location))\n",
    "greet(\"Nowhere\", \"Krishan\")"
   ]
  },
  {
   "cell_type": "code",
   "execution_count": null,
   "id": "efd5a8d2-4753-49a8-b09d-e2c4de55554c",
   "metadata": {},
   "outputs": [],
   "source": []
  },
  {
   "cell_type": "code",
   "execution_count": 44,
   "id": "e92eba2e-c771-43b8-bf2f-9c2f66175df9",
   "metadata": {},
   "outputs": [
    {
     "name": "stdout",
     "output_type": "stream",
     "text": [
      "9\n"
     ]
    }
   ],
   "source": [
    "def power(number,exponent):\n",
    "    return number**exponent\n",
    "\n",
    "print(power(3, 2))"
   ]
  },
  {
   "cell_type": "code",
   "execution_count": null,
   "id": "e8cd5075-39ea-44ac-b458-473d4e1e1c03",
   "metadata": {},
   "outputs": [],
   "source": []
  },
  {
   "cell_type": "code",
   "execution_count": 45,
   "id": "f25c7cb9-4ac3-4914-89de-a97ba9316fc7",
   "metadata": {},
   "outputs": [
    {
     "data": {
      "text/plain": [
       "9"
      ]
     },
     "execution_count": 45,
     "metadata": {},
     "output_type": "execute_result"
    }
   ],
   "source": [
    "def power(number,exponent):\n",
    "    return number**exponent\n",
    "\n",
    "power(exponent=2,number=3)"
   ]
  },
  {
   "cell_type": "code",
   "execution_count": null,
   "id": "b1c48495-124e-433c-90ad-0e3cb2c5ea7c",
   "metadata": {},
   "outputs": [],
   "source": []
  },
  {
   "cell_type": "markdown",
   "id": "5d3c89b6-6e70-44d9-a884-7e8c9c43fd1a",
   "metadata": {},
   "source": [
    "### Default Arguments"
   ]
  },
  {
   "cell_type": "code",
   "execution_count": 53,
   "id": "0d6a5783-d6cf-4d56-9a70-5ba02e1fadc8",
   "metadata": {},
   "outputs": [
    {
     "name": "stdout",
     "output_type": "stream",
     "text": [
      "2 3 4 5 -> 3 5 6\n"
     ]
    }
   ],
   "source": [
    "print(2, 3, 4, 5, end=\" -> \")\n",
    "print(3, 5, 6)"
   ]
  },
  {
   "cell_type": "code",
   "execution_count": null,
   "id": "5e8341d6-2287-4510-8948-6b3aa969755b",
   "metadata": {},
   "outputs": [],
   "source": []
  },
  {
   "cell_type": "code",
   "execution_count": 51,
   "id": "b04d53f1-4fb0-44c4-8372-d6ec39936225",
   "metadata": {},
   "outputs": [],
   "source": [
    "def power(number,e = 1):\n",
    "    return number**e"
   ]
  },
  {
   "cell_type": "code",
   "execution_count": 52,
   "id": "92434151-dfb3-484e-95a8-a6d3527b0b06",
   "metadata": {},
   "outputs": [
    {
     "data": {
      "text/plain": [
       "3"
      ]
     },
     "execution_count": 52,
     "metadata": {},
     "output_type": "execute_result"
    }
   ],
   "source": [
    "power(3)"
   ]
  },
  {
   "cell_type": "code",
   "execution_count": 54,
   "id": "3a4dbc7d-8eba-4f4d-a722-f441ce820eec",
   "metadata": {},
   "outputs": [
    {
     "data": {
      "text/plain": [
       "27"
      ]
     },
     "execution_count": 54,
     "metadata": {},
     "output_type": "execute_result"
    }
   ],
   "source": [
    "def power(x,e=1):\n",
    "    return x**e\n",
    "\n",
    "power(3, 3)"
   ]
  },
  {
   "cell_type": "code",
   "execution_count": 55,
   "id": "e8a811f6-ddd1-4bc5-b4f5-5eda5cc4150b",
   "metadata": {},
   "outputs": [
    {
     "data": {
      "text/plain": [
       "16"
      ]
     },
     "execution_count": 55,
     "metadata": {},
     "output_type": "execute_result"
    }
   ],
   "source": [
    "power(2, 4)"
   ]
  },
  {
   "cell_type": "code",
   "execution_count": null,
   "id": "f2404061-dd5a-4ad6-b2da-8bcefe0c8cdb",
   "metadata": {},
   "outputs": [],
   "source": []
  },
  {
   "cell_type": "markdown",
   "id": "f41c6908-290e-4ca9-be8d-791e31006cec",
   "metadata": {},
   "source": [
    "#### Date"
   ]
  },
  {
   "cell_type": "code",
   "execution_count": 57,
   "id": "84711344-ec57-45dc-a56d-31bc38eea1d4",
   "metadata": {},
   "outputs": [
    {
     "name": "stdout",
     "output_type": "stream",
     "text": [
      "5 / 30 / 2022\n",
      "12 / 4 / 2022\n"
     ]
    }
   ],
   "source": [
    "def print_date(d, m, y, style=0):\n",
    "    if style == 0: # American\n",
    "        print(m, '/', d, '/', y)\n",
    "    elif style == 1: # European\n",
    "        print(d, '/', m, '/', y)\n",
    "    else:\n",
    "        print('Invalid Style')\n",
    "print_date(30, 5, 2022)\n",
    "print_date(4, 12, 2022)"
   ]
  },
  {
   "cell_type": "code",
   "execution_count": null,
   "id": "0698e106-cff9-4d39-9358-d6f7a5c31da4",
   "metadata": {},
   "outputs": [],
   "source": []
  },
  {
   "cell_type": "code",
   "execution_count": 75,
   "id": "bc18e857-8609-4bda-8215-f914e83ed91d",
   "metadata": {},
   "outputs": [],
   "source": [
    "def print_date(d = 1, m = 1, y = 2005, style=0):\n",
    "    if style == 0: # American\n",
    "        print(m, '/', d, '/', y)\n",
    "    elif style == 1: # European\n",
    "        print(d, '/', m, '/', y)\n",
    "    else:\n",
    "        print('Invalid Style')\n"
   ]
  },
  {
   "cell_type": "code",
   "execution_count": 62,
   "id": "e2bcced2-56d6-494c-b837-fee43ff7ff30",
   "metadata": {},
   "outputs": [
    {
     "name": "stdout",
     "output_type": "stream",
     "text": [
      "1 / 1 / 2005\n"
     ]
    }
   ],
   "source": [
    "print_date()"
   ]
  },
  {
   "cell_type": "code",
   "execution_count": 60,
   "id": "baa51ef4-20f7-4235-937d-89ab1328b17c",
   "metadata": {},
   "outputs": [
    {
     "name": "stdout",
     "output_type": "stream",
     "text": [
      "4 / 2 / 2005\n"
     ]
    }
   ],
   "source": [
    "print_date(d = 2, m = 4)"
   ]
  },
  {
   "cell_type": "code",
   "execution_count": 63,
   "id": "7d9753e6-1cdc-4354-a4aa-fb5698059be1",
   "metadata": {},
   "outputs": [
    {
     "name": "stdout",
     "output_type": "stream",
     "text": [
      "1 / 2 / 2006\n"
     ]
    }
   ],
   "source": [
    "print_date(d = 2, y = 2006)"
   ]
  },
  {
   "cell_type": "code",
   "execution_count": 65,
   "id": "74cd3bcf-c971-49e6-91b5-e139b4fa29db",
   "metadata": {},
   "outputs": [
    {
     "name": "stdout",
     "output_type": "stream",
     "text": [
      "Invalid Style\n"
     ]
    }
   ],
   "source": [
    "print_date(d = 2, y = 2006, style = 3)"
   ]
  },
  {
   "cell_type": "code",
   "execution_count": null,
   "id": "a184c2cd-9a29-4121-b2f9-d87f22aa9c78",
   "metadata": {},
   "outputs": [],
   "source": []
  },
  {
   "cell_type": "code",
   "execution_count": null,
   "id": "a1c8e82b-f852-49f2-9db1-cb1edaef821c",
   "metadata": {},
   "outputs": [],
   "source": []
  },
  {
   "cell_type": "markdown",
   "id": "3ff55046-70da-4484-ad8f-21badb8985a5",
   "metadata": {},
   "source": [
    "### Scope of a variable"
   ]
  },
  {
   "cell_type": "code",
   "execution_count": 67,
   "id": "63900efa-4748-4d06-95d9-ce3e4a609f96",
   "metadata": {},
   "outputs": [
    {
     "name": "stdout",
     "output_type": "stream",
     "text": [
      "King in local scope 10\n",
      "King outside family 20\n"
     ]
    }
   ],
   "source": [
    "## This king is in global scope\n",
    "king = 20\n",
    "\n",
    "def my_family():\n",
    "    # this king is in local scope of function\n",
    "    king = 10\n",
    "    print(\"King in local scope\", king)\n",
    "\n",
    "print(my_family())\n",
    "print(\"King outside family\", king)"
   ]
  },
  {
   "cell_type": "code",
   "execution_count": null,
   "id": "490434c6-8c28-4d81-8aa3-6c04d6b62cd5",
   "metadata": {},
   "outputs": [],
   "source": []
  },
  {
   "cell_type": "code",
   "execution_count": null,
   "id": "06e0d308-5e45-4b8e-b4df-6e59ee27b82e",
   "metadata": {},
   "outputs": [],
   "source": []
  },
  {
   "cell_type": "code",
   "execution_count": 74,
   "id": "b69e3886-beb1-4663-b26d-cd863f74ca53",
   "metadata": {},
   "outputs": [
    {
     "name": "stdout",
     "output_type": "stream",
     "text": [
      "King outside family 20\n",
      "King in local scope 10\n",
      "10\n"
     ]
    }
   ],
   "source": [
    "## This king is in global scope\n",
    "king = 20\n",
    "\n",
    "def my_family():\n",
    "    # Now using global keyword we are affecting global variable only\n",
    "    global king\n",
    "    king = 10\n",
    "    print(\"King in local scope\", king)\n",
    "\n",
    "print(\"King outside family\", king)\n",
    "my_family()\n",
    "print(king)"
   ]
  },
  {
   "cell_type": "code",
   "execution_count": 73,
   "id": "dd6b0789-17ad-47aa-8e7d-a4bb3abbe8b2",
   "metadata": {},
   "outputs": [
    {
     "name": "stdout",
     "output_type": "stream",
     "text": [
      "10\n"
     ]
    }
   ],
   "source": [
    "king = 20\n",
    "king = 10\n",
    "print(king)"
   ]
  },
  {
   "cell_type": "code",
   "execution_count": null,
   "id": "2078102d-e842-42df-a3fa-2165382774eb",
   "metadata": {},
   "outputs": [],
   "source": []
  },
  {
   "cell_type": "code",
   "execution_count": 78,
   "id": "67ec1f4b-6a7c-48b1-872f-29e0ce63854d",
   "metadata": {},
   "outputs": [],
   "source": [
    "# doubts"
   ]
  },
  {
   "cell_type": "code",
   "execution_count": 79,
   "id": "60b212b0-cc38-4694-9fcb-689baa0bb947",
   "metadata": {},
   "outputs": [],
   "source": [
    "x = 20\n",
    "def f():\n",
    "    y = 30\n",
    "    print(y)"
   ]
  },
  {
   "cell_type": "code",
   "execution_count": null,
   "id": "ac6e60d4-5630-4e4d-bb61-96e94d4d8623",
   "metadata": {},
   "outputs": [],
   "source": []
  }
 ],
 "metadata": {
  "kernelspec": {
   "display_name": "Python 3 (ipykernel)",
   "language": "python",
   "name": "python3"
  },
  "language_info": {
   "codemirror_mode": {
    "name": "ipython",
    "version": 3
   },
   "file_extension": ".py",
   "mimetype": "text/x-python",
   "name": "python",
   "nbconvert_exporter": "python",
   "pygments_lexer": "ipython3",
   "version": "3.9.7"
  }
 },
 "nbformat": 4,
 "nbformat_minor": 5
}
