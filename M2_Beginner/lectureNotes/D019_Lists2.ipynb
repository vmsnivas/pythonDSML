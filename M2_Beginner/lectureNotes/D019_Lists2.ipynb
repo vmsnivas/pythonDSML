{
 "cells": [
  {
   "cell_type": "markdown",
   "id": "3566c412-8d1e-4e80-b20f-1ca9e0f60f17",
   "metadata": {},
   "source": [
    "## Lists Continued"
   ]
  },
  {
   "cell_type": "markdown",
   "id": "44c197c5-2ccc-42de-928d-b2a9b4435c27",
   "metadata": {},
   "source": [
    "#### Challenge: Given a list give another list with square of each element"
   ]
  },
  {
   "cell_type": "code",
   "execution_count": 1,
   "id": "535d4853-e93b-4c89-8030-cfc1bce4c34a",
   "metadata": {},
   "outputs": [],
   "source": [
    "runs = [100, 150, 99, 20, 99, 200, 99, 120]"
   ]
  },
  {
   "cell_type": "code",
   "execution_count": 8,
   "id": "81ac76d7-4cdb-4218-8b78-87803516abdf",
   "metadata": {},
   "outputs": [
    {
     "name": "stdout",
     "output_type": "stream",
     "text": [
      "4\n",
      "16\n",
      "25\n"
     ]
    }
   ],
   "source": [
    "l = [2, 4, 5]\n",
    "for i in l:\n",
    "    print(i * i)"
   ]
  },
  {
   "cell_type": "code",
   "execution_count": 6,
   "id": "1f0ba838-e7f2-4919-ba6a-47c25e2a7f49",
   "metadata": {},
   "outputs": [
    {
     "data": {
      "text/plain": [
       "25"
      ]
     },
     "execution_count": 6,
     "metadata": {},
     "output_type": "execute_result"
    }
   ],
   "source": [
    "l[2] * l[2]"
   ]
  },
  {
   "cell_type": "code",
   "execution_count": 11,
   "id": "7834b3dc-7bfe-433e-978f-0c40beed20fd",
   "metadata": {},
   "outputs": [
    {
     "name": "stdout",
     "output_type": "stream",
     "text": [
      "[4, 16, 25]\n"
     ]
    }
   ],
   "source": [
    "l = [2, 4, 5]\n",
    "result = [] # empty list\n",
    "for i in l:\n",
    "    # append the elements in result after squaring them\n",
    "    result.append(i * i)\n",
    "    # print(i * i)\n",
    "print(result)"
   ]
  },
  {
   "cell_type": "code",
   "execution_count": null,
   "id": "2b829926-ae0a-4bb3-91b9-1818c96f860e",
   "metadata": {},
   "outputs": [],
   "source": []
  },
  {
   "cell_type": "code",
   "execution_count": null,
   "id": "e0a23d57-3dc8-42ae-b3d5-86e51b190b4d",
   "metadata": {},
   "outputs": [],
   "source": []
  },
  {
   "cell_type": "code",
   "execution_count": null,
   "id": "7d131a2b-451c-4e59-9810-a777da3263dd",
   "metadata": {},
   "outputs": [],
   "source": []
  },
  {
   "cell_type": "code",
   "execution_count": null,
   "id": "5acd52a5-5bb1-47fb-acb5-18315b541e64",
   "metadata": {},
   "outputs": [],
   "source": []
  },
  {
   "cell_type": "markdown",
   "id": "6c7eb5a8-24ec-41d9-984f-7c2be28c95e8",
   "metadata": {},
   "source": [
    "#### Taking List as input"
   ]
  },
  {
   "cell_type": "code",
   "execution_count": 12,
   "id": "dc275246-4220-47c1-8e85-a97e4ca94ee5",
   "metadata": {},
   "outputs": [],
   "source": [
    "# 3\n",
    "# 2 4 5"
   ]
  },
  {
   "cell_type": "code",
   "execution_count": 13,
   "id": "c6facd18-00b6-4872-ac66-a9a072b18678",
   "metadata": {},
   "outputs": [
    {
     "name": "stdin",
     "output_type": "stream",
     "text": [
      " 3\n",
      " 2 4 5\n"
     ]
    }
   ],
   "source": [
    "N = int(input())\n",
    "x = input()"
   ]
  },
  {
   "cell_type": "code",
   "execution_count": 14,
   "id": "b89379b9-9171-496f-9b89-8dd13378b4f3",
   "metadata": {},
   "outputs": [
    {
     "name": "stdout",
     "output_type": "stream",
     "text": [
      "3 <class 'int'>\n",
      "2 4 5 <class 'str'>\n"
     ]
    }
   ],
   "source": [
    "print(N, type(N))\n",
    "print(x, type(x))"
   ]
  },
  {
   "cell_type": "code",
   "execution_count": 15,
   "id": "a3ec5cb3-cf9c-40cd-bd7b-3ca7d73a625f",
   "metadata": {},
   "outputs": [],
   "source": [
    "l = x.split()"
   ]
  },
  {
   "cell_type": "code",
   "execution_count": 17,
   "id": "8ee931a0-04f2-4cd1-a0fe-c2b36db6353c",
   "metadata": {},
   "outputs": [
    {
     "name": "stdout",
     "output_type": "stream",
     "text": [
      "['2', '4', '5']\n",
      "2 <class 'str'>\n"
     ]
    }
   ],
   "source": [
    "print(l)\n",
    "print(l[0], type(l[0]))"
   ]
  },
  {
   "cell_type": "code",
   "execution_count": 20,
   "id": "3607bba7-4f61-421e-879c-10e2ace9859f",
   "metadata": {},
   "outputs": [
    {
     "data": {
      "text/plain": [
       "5"
      ]
     },
     "execution_count": 20,
     "metadata": {},
     "output_type": "execute_result"
    }
   ],
   "source": [
    "int('5')"
   ]
  },
  {
   "cell_type": "code",
   "execution_count": 21,
   "id": "c7d95295-942e-4a81-8779-dfed0649bd46",
   "metadata": {},
   "outputs": [
    {
     "name": "stdout",
     "output_type": "stream",
     "text": [
      "[2, 4, 5]\n"
     ]
    }
   ],
   "source": [
    "result = []\n",
    "for i in l:\n",
    "    result.append(int(i))\n",
    "print(result)"
   ]
  },
  {
   "cell_type": "code",
   "execution_count": 92,
   "id": "5423eede-cb68-4468-83e7-132706cb25d6",
   "metadata": {},
   "outputs": [],
   "source": [
    "# This is final code for taking list as input"
   ]
  },
  {
   "cell_type": "code",
   "execution_count": 94,
   "id": "bcbd3b0c-7a50-4207-8469-b3b002bf78c3",
   "metadata": {},
   "outputs": [
    {
     "name": "stdin",
     "output_type": "stream",
     "text": [
      " 3\n",
      " 2 4 5\n"
     ]
    },
    {
     "name": "stdout",
     "output_type": "stream",
     "text": [
      "[2, 4, 5]\n"
     ]
    }
   ],
   "source": [
    "N = int(input())  # 3\n",
    "x = input()  # \"2 4 5\"\n",
    "l = x.split() # [\"2\", \"4\", \"5\"]\n",
    "\n",
    "res = []\n",
    "for i in l:  # iterate on each element and convert then into int\n",
    "    res.append(int(i))\n",
    "print(res)\n"
   ]
  },
  {
   "cell_type": "code",
   "execution_count": 23,
   "id": "d3f58585-74c0-4d67-b654-989bb45a9b0b",
   "metadata": {},
   "outputs": [],
   "source": [
    "# This will not work\n",
    "# int(\"2 4 5\")"
   ]
  },
  {
   "cell_type": "code",
   "execution_count": 26,
   "id": "365b931a-af9f-4668-8e8c-2211c4f54938",
   "metadata": {},
   "outputs": [],
   "source": [
    "# int(['2', '3', '5'])"
   ]
  },
  {
   "cell_type": "code",
   "execution_count": null,
   "id": "d99a2e28-64b4-4010-aa1b-3c7ef7f5fe77",
   "metadata": {},
   "outputs": [],
   "source": []
  },
  {
   "cell_type": "code",
   "execution_count": null,
   "id": "938a742e-95cb-4cd4-9983-b8bfcf5e8a15",
   "metadata": {},
   "outputs": [],
   "source": []
  },
  {
   "cell_type": "code",
   "execution_count": null,
   "id": "51ee7445-1289-4322-a927-12f87f42994a",
   "metadata": {},
   "outputs": [],
   "source": []
  },
  {
   "cell_type": "markdown",
   "id": "e6bfffef-4c6d-49c2-93ff-7639a4915c13",
   "metadata": {},
   "source": [
    "### Updating a list"
   ]
  },
  {
   "cell_type": "code",
   "execution_count": null,
   "id": "c07dd961-fa68-4d69-9b20-1ef833186d0a",
   "metadata": {},
   "outputs": [],
   "source": [
    "# quizzes"
   ]
  },
  {
   "cell_type": "code",
   "execution_count": 27,
   "id": "a9688aac-aa4e-4633-b2d4-e485a53d9912",
   "metadata": {},
   "outputs": [
    {
     "data": {
      "text/plain": [
       "[100, 150, 99, 20, 99, 200, 99, 120]"
      ]
     },
     "execution_count": 27,
     "metadata": {},
     "output_type": "execute_result"
    }
   ],
   "source": [
    "runs"
   ]
  },
  {
   "cell_type": "code",
   "execution_count": 28,
   "id": "c4e06472-bed4-4319-aa85-ff827ac8d21f",
   "metadata": {},
   "outputs": [
    {
     "name": "stdout",
     "output_type": "stream",
     "text": [
      "140520873435008\n"
     ]
    }
   ],
   "source": [
    "l = [2, 4, 5, 6, 7]\n",
    "print(id(l))"
   ]
  },
  {
   "cell_type": "code",
   "execution_count": 29,
   "id": "fea7d9ac-2942-4c9e-a947-0c4c801554b7",
   "metadata": {},
   "outputs": [
    {
     "name": "stdout",
     "output_type": "stream",
     "text": [
      "[21, 4, 5, 6, 7] 140520873435008\n"
     ]
    }
   ],
   "source": [
    "l[0] = 21\n",
    "print(l, id(l))"
   ]
  },
  {
   "cell_type": "code",
   "execution_count": 30,
   "id": "cd759d2c-58ac-4ac8-a61d-4d3a5efc43f0",
   "metadata": {},
   "outputs": [],
   "source": [
    "# This power is known as Mutability"
   ]
  },
  {
   "cell_type": "code",
   "execution_count": null,
   "id": "fb7b28c4-6ad9-4900-9e30-9b50a6363a40",
   "metadata": {},
   "outputs": [],
   "source": []
  },
  {
   "cell_type": "code",
   "execution_count": 31,
   "id": "943dfafd-8463-4693-bf52-0ee7c0e9e32c",
   "metadata": {},
   "outputs": [],
   "source": [
    "# Quizzes"
   ]
  },
  {
   "cell_type": "code",
   "execution_count": 33,
   "id": "eb8728ae-b49b-410d-9c57-5f162bafcca3",
   "metadata": {},
   "outputs": [
    {
     "name": "stdout",
     "output_type": "stream",
     "text": [
      "[2, 5, 10]\n"
     ]
    }
   ],
   "source": [
    "user_values = [2, 5, 9]\n",
    "user_values[2] = user_values[2] + 1\n",
    "\n",
    "print(user_values)"
   ]
  },
  {
   "cell_type": "code",
   "execution_count": 34,
   "id": "0ea2a861-9b69-4c00-969d-6fb911f0ef09",
   "metadata": {},
   "outputs": [
    {
     "name": "stdout",
     "output_type": "stream",
     "text": [
      "[3, 6, 11]\n"
     ]
    }
   ],
   "source": [
    "user_values = [3, 5, 9]\n",
    "user_values[1] = user_values[1] + 1\n",
    "user_values[2] = user_values[2] + 2 \n",
    "print(user_values)"
   ]
  },
  {
   "cell_type": "code",
   "execution_count": 35,
   "id": "629d3cb1-3089-4a7f-b561-d8cd936569cc",
   "metadata": {},
   "outputs": [
    {
     "name": "stdout",
     "output_type": "stream",
     "text": [
      "[1, 1, 8]\n"
     ]
    }
   ],
   "source": [
    "user_values = [1, 6, 8]\n",
    "user_values[1] = user_values[0]\n",
    "\n",
    "print(user_values)"
   ]
  },
  {
   "cell_type": "code",
   "execution_count": 36,
   "id": "fb1a4a9d-78d7-4098-bb95-2878fae7985d",
   "metadata": {},
   "outputs": [
    {
     "name": "stdout",
     "output_type": "stream",
     "text": [
      "[3, 7, 3]\n"
     ]
    }
   ],
   "source": [
    "user_values = [3, 6, 7]\n",
    "user_values[1] = user_values[2]\n",
    "user_values[2] = user_values[0] \n",
    "print(user_values)"
   ]
  },
  {
   "cell_type": "code",
   "execution_count": null,
   "id": "7d2f3636-95a1-4f57-88ad-0ebfd987688e",
   "metadata": {},
   "outputs": [],
   "source": []
  },
  {
   "cell_type": "code",
   "execution_count": 37,
   "id": "0341a7db-2689-4c94-8ac2-55c38e3ec26e",
   "metadata": {},
   "outputs": [
    {
     "data": {
      "text/plain": [
       "['r', 'a', 'h', 'u', 'l']"
      ]
     },
     "execution_count": 37,
     "metadata": {},
     "output_type": "execute_result"
    }
   ],
   "source": [
    "\"r a h u l\".split()"
   ]
  },
  {
   "cell_type": "code",
   "execution_count": 38,
   "id": "a88f58a6-109d-437b-83fb-ea5eee1923c8",
   "metadata": {},
   "outputs": [
    {
     "data": {
      "text/plain": [
       "['234']"
      ]
     },
     "execution_count": 38,
     "metadata": {},
     "output_type": "execute_result"
    }
   ],
   "source": [
    "\"234\".split()"
   ]
  },
  {
   "cell_type": "code",
   "execution_count": 40,
   "id": "8c630a9b-91fb-4a7c-9414-e08422da254b",
   "metadata": {},
   "outputs": [],
   "source": [
    "# [\"R a h u l\"].split()"
   ]
  },
  {
   "cell_type": "code",
   "execution_count": null,
   "id": "3af640ea-9607-4918-ba0b-cf46a72071f0",
   "metadata": {},
   "outputs": [],
   "source": []
  },
  {
   "cell_type": "code",
   "execution_count": null,
   "id": "511c3f5b-d21b-49bf-970d-d63be211ff45",
   "metadata": {},
   "outputs": [],
   "source": []
  },
  {
   "cell_type": "code",
   "execution_count": null,
   "id": "8a1c7813-b8db-4c58-8e5f-1874450cbdb2",
   "metadata": {},
   "outputs": [],
   "source": []
  },
  {
   "cell_type": "markdown",
   "id": "244ba0f5-7aba-4d08-a98b-14f38a7f7b17",
   "metadata": {},
   "source": [
    "### Multiple assignments"
   ]
  },
  {
   "cell_type": "code",
   "execution_count": null,
   "id": "39f108fc-dceb-4775-8d2b-0529273497d3",
   "metadata": {},
   "outputs": [],
   "source": [
    "# swap them"
   ]
  },
  {
   "cell_type": "code",
   "execution_count": 41,
   "id": "9a120829-c694-48c1-a39b-e074209f0cf2",
   "metadata": {},
   "outputs": [
    {
     "name": "stdout",
     "output_type": "stream",
     "text": [
      "4 4\n"
     ]
    }
   ],
   "source": [
    "a = 3\n",
    "b = 4\n",
    "\n",
    "a = b\n",
    "b = a\n",
    "print(a, b)"
   ]
  },
  {
   "cell_type": "code",
   "execution_count": 42,
   "id": "5b621555-5365-4c44-911e-b959f1c43984",
   "metadata": {},
   "outputs": [
    {
     "name": "stdout",
     "output_type": "stream",
     "text": [
      "4 3\n"
     ]
    }
   ],
   "source": [
    "a = 3\n",
    "b = 4\n",
    "\n",
    "c = a\n",
    "a = b\n",
    "b = c\n",
    "print(a, b)"
   ]
  },
  {
   "cell_type": "code",
   "execution_count": 43,
   "id": "504feb53-f853-486d-a298-6860511784c5",
   "metadata": {},
   "outputs": [
    {
     "name": "stdout",
     "output_type": "stream",
     "text": [
      "3 4\n"
     ]
    }
   ],
   "source": [
    "a, b = 3, 4\n",
    "print(a, b)"
   ]
  },
  {
   "cell_type": "code",
   "execution_count": 44,
   "id": "cdff6295-aa1f-4ece-8001-6c3348e32636",
   "metadata": {},
   "outputs": [
    {
     "name": "stdout",
     "output_type": "stream",
     "text": [
      "4 3\n"
     ]
    }
   ],
   "source": [
    "a, b = b, a\n",
    "print(a, b)"
   ]
  },
  {
   "cell_type": "code",
   "execution_count": 45,
   "id": "7f7f891f-d4a5-48c8-8b19-758b8caf4d09",
   "metadata": {},
   "outputs": [
    {
     "data": {
      "text/plain": [
       "[100, 150, 99, 20, 99, 200, 99, 120]"
      ]
     },
     "execution_count": 45,
     "metadata": {},
     "output_type": "execute_result"
    }
   ],
   "source": [
    "runs"
   ]
  },
  {
   "cell_type": "code",
   "execution_count": 47,
   "id": "e7da0633-dd02-465f-97c0-7c69ac188d93",
   "metadata": {},
   "outputs": [
    {
     "name": "stdout",
     "output_type": "stream",
     "text": [
      "[120, 150, 99, 20, 99, 200, 99, 100]\n"
     ]
    }
   ],
   "source": [
    "runs[0], runs[-1] = runs[-1], runs[0]\n",
    "print(runs)"
   ]
  },
  {
   "cell_type": "code",
   "execution_count": null,
   "id": "6702b261-2896-4dc5-b0ed-666a16a4fe07",
   "metadata": {},
   "outputs": [],
   "source": []
  },
  {
   "cell_type": "code",
   "execution_count": 48,
   "id": "f2809af5-c554-43a9-ad17-bb4c1207b664",
   "metadata": {},
   "outputs": [],
   "source": [
    "# Quiz"
   ]
  },
  {
   "cell_type": "code",
   "execution_count": 49,
   "id": "6fac53c7-e228-4b8d-ad3c-be8640960707",
   "metadata": {},
   "outputs": [
    {
     "name": "stdout",
     "output_type": "stream",
     "text": [
      "[5, 5, 5, 2, 3, 7]\n"
     ]
    }
   ],
   "source": [
    "l = [1, 5, 2, 3]\n",
    "l.append(7)\n",
    "l.insert(0, 5)\n",
    "l[1] = l[2]\n",
    "l[2], l[0] = l[0], l[2]\n",
    "print(l)"
   ]
  },
  {
   "cell_type": "code",
   "execution_count": null,
   "id": "2e04aa03-ec7c-4787-85fb-9020a5dee8ac",
   "metadata": {},
   "outputs": [],
   "source": []
  },
  {
   "cell_type": "code",
   "execution_count": null,
   "id": "e1b0eae5-774d-4901-8c8f-96d51ec3dd34",
   "metadata": {},
   "outputs": [],
   "source": []
  },
  {
   "cell_type": "code",
   "execution_count": null,
   "id": "030d4226-7464-49ba-935c-68a2fb0a8f6d",
   "metadata": {},
   "outputs": [],
   "source": []
  },
  {
   "cell_type": "markdown",
   "id": "e7f400ff-6804-4ab6-a0ec-e667c8fd050b",
   "metadata": {},
   "source": [
    "### Removing data\n",
    "- pop\n",
    "- remove\n",
    "- del"
   ]
  },
  {
   "cell_type": "code",
   "execution_count": null,
   "id": "a65a278f-f26e-4778-834f-52beafd17deb",
   "metadata": {},
   "outputs": [],
   "source": [
    "## pop element: It also returns the element"
   ]
  },
  {
   "cell_type": "code",
   "execution_count": null,
   "id": "e9c3ec9a-3a4a-4286-8003-6e81162e9e5c",
   "metadata": {},
   "outputs": [],
   "source": [
    "# quiz"
   ]
  },
  {
   "cell_type": "code",
   "execution_count": 50,
   "id": "d7cc94c6-c038-4dd2-b4e2-26ba5d7f4979",
   "metadata": {},
   "outputs": [
    {
     "data": {
      "text/plain": [
       "[120, 150, 99, 20, 99, 200, 99, 100]"
      ]
     },
     "execution_count": 50,
     "metadata": {},
     "output_type": "execute_result"
    }
   ],
   "source": [
    "runs"
   ]
  },
  {
   "cell_type": "code",
   "execution_count": 53,
   "id": "48810e8e-789e-4629-a2c1-f2f311bc18a8",
   "metadata": {},
   "outputs": [],
   "source": [
    "x = runs.pop()"
   ]
  },
  {
   "cell_type": "code",
   "execution_count": 54,
   "id": "e816c38a-a3bb-4732-8ae9-590a25e0d626",
   "metadata": {},
   "outputs": [
    {
     "name": "stdout",
     "output_type": "stream",
     "text": [
      "100\n"
     ]
    }
   ],
   "source": [
    "print(x)"
   ]
  },
  {
   "cell_type": "code",
   "execution_count": 55,
   "id": "fa81125d-db1c-4455-b38a-7fee3db327f9",
   "metadata": {},
   "outputs": [
    {
     "name": "stdout",
     "output_type": "stream",
     "text": [
      "[120, 150, 99, 20, 99, 200, 99]\n"
     ]
    }
   ],
   "source": [
    "print(runs)"
   ]
  },
  {
   "cell_type": "code",
   "execution_count": 56,
   "id": "a398a9d6-4f69-40bf-b2bd-310ffe149be2",
   "metadata": {},
   "outputs": [
    {
     "data": {
      "text/plain": [
       "150"
      ]
     },
     "execution_count": 56,
     "metadata": {},
     "output_type": "execute_result"
    }
   ],
   "source": [
    "runs.pop(1)"
   ]
  },
  {
   "cell_type": "code",
   "execution_count": 57,
   "id": "46750f31-36fc-4daf-9438-7767a982f510",
   "metadata": {},
   "outputs": [
    {
     "name": "stdout",
     "output_type": "stream",
     "text": [
      "[120, 99, 20, 99, 200, 99]\n"
     ]
    }
   ],
   "source": [
    "print(runs)"
   ]
  },
  {
   "cell_type": "code",
   "execution_count": 52,
   "id": "a489ed74-c3d9-4489-a7b3-254efc28179d",
   "metadata": {},
   "outputs": [],
   "source": [
    "# help(list)"
   ]
  },
  {
   "cell_type": "code",
   "execution_count": 58,
   "id": "d1b131ee-60f3-4199-8cc5-b50165d45fe3",
   "metadata": {},
   "outputs": [],
   "source": [
    "# quiz"
   ]
  },
  {
   "cell_type": "code",
   "execution_count": 59,
   "id": "e5bc8ec7-5e81-446a-afd1-53243882bdf9",
   "metadata": {},
   "outputs": [
    {
     "name": "stdout",
     "output_type": "stream",
     "text": [
      "[1, 2, 3, 3, 5, 7, 5]\n"
     ]
    }
   ],
   "source": [
    "l = [1, 2, 3, 3, 5, 6, 7, 5]\n",
    "l.pop(5)\n",
    "print(l)"
   ]
  },
  {
   "cell_type": "code",
   "execution_count": null,
   "id": "7cc82496-1ab8-4f7a-a681-3ad0c937c54f",
   "metadata": {},
   "outputs": [],
   "source": []
  },
  {
   "cell_type": "code",
   "execution_count": null,
   "id": "c105a507-d611-4230-9602-4688c0acd384",
   "metadata": {},
   "outputs": [],
   "source": []
  },
  {
   "cell_type": "code",
   "execution_count": null,
   "id": "68e3b375-499a-4c8b-abd8-903874d16bc6",
   "metadata": {},
   "outputs": [],
   "source": [
    "## remove element: using an element"
   ]
  },
  {
   "cell_type": "code",
   "execution_count": 60,
   "id": "af7c7338-d921-40ab-b6ad-d9900e350e49",
   "metadata": {},
   "outputs": [],
   "source": [
    "## Remove method removes the first occurance of that element"
   ]
  },
  {
   "cell_type": "code",
   "execution_count": 61,
   "id": "e82f409c-a10a-438a-9f21-4a4abf90181a",
   "metadata": {},
   "outputs": [],
   "source": [
    "## remove method doesn't return the value"
   ]
  },
  {
   "cell_type": "code",
   "execution_count": null,
   "id": "f1af60bf-8159-4064-935f-22757f6356ba",
   "metadata": {},
   "outputs": [],
   "source": [
    "# quiz"
   ]
  },
  {
   "cell_type": "code",
   "execution_count": 62,
   "id": "e9fdcdad-dcc8-47cd-b071-ad308233fecb",
   "metadata": {},
   "outputs": [
    {
     "data": {
      "text/plain": [
       "[120, 99, 20, 99, 200, 99]"
      ]
     },
     "execution_count": 62,
     "metadata": {},
     "output_type": "execute_result"
    }
   ],
   "source": [
    "runs"
   ]
  },
  {
   "cell_type": "code",
   "execution_count": 63,
   "id": "09d67607-ad1c-4495-828f-afd22d5458d1",
   "metadata": {},
   "outputs": [],
   "source": [
    "runs.remove(99)"
   ]
  },
  {
   "cell_type": "code",
   "execution_count": 64,
   "id": "2219c20f-86f1-4cc0-8d96-029c3f07462b",
   "metadata": {},
   "outputs": [
    {
     "name": "stdout",
     "output_type": "stream",
     "text": [
      "[120, 20, 99, 200, 99]\n"
     ]
    }
   ],
   "source": [
    "print(runs)"
   ]
  },
  {
   "cell_type": "code",
   "execution_count": 65,
   "id": "9b22d276-28be-421b-b422-a74c9195461a",
   "metadata": {},
   "outputs": [],
   "source": [
    "# quiz"
   ]
  },
  {
   "cell_type": "code",
   "execution_count": 67,
   "id": "2ca7504e-ee41-488d-8ddb-1a4dbc95a086",
   "metadata": {},
   "outputs": [],
   "source": [
    "l = [1, 5, 7]\n",
    "x = 2"
   ]
  },
  {
   "cell_type": "code",
   "execution_count": 68,
   "id": "7912be67-a658-4297-9d9f-1e2b9ed8158c",
   "metadata": {},
   "outputs": [
    {
     "data": {
      "text/plain": [
       "5"
      ]
     },
     "execution_count": 68,
     "metadata": {},
     "output_type": "execute_result"
    }
   ],
   "source": [
    "l.pop(x-1)"
   ]
  },
  {
   "cell_type": "code",
   "execution_count": 69,
   "id": "946fbf22-6a28-4592-8d60-a83f85387c0f",
   "metadata": {},
   "outputs": [
    {
     "name": "stdout",
     "output_type": "stream",
     "text": [
      "[1, 7]\n"
     ]
    }
   ],
   "source": [
    "print(l)"
   ]
  },
  {
   "cell_type": "code",
   "execution_count": 70,
   "id": "b341b57a-f238-4acd-a635-8e238a51bec9",
   "metadata": {},
   "outputs": [],
   "source": [
    "l = [1, 2, 3, 3, 5, 6, 7, 5]\n",
    "l.remove(5)"
   ]
  },
  {
   "cell_type": "code",
   "execution_count": 71,
   "id": "16616e49-3a0b-4f40-889b-c4bb676ae7b1",
   "metadata": {},
   "outputs": [
    {
     "name": "stdout",
     "output_type": "stream",
     "text": [
      "[1, 2, 3, 3, 6, 7, 5]\n"
     ]
    }
   ],
   "source": [
    "print(l)"
   ]
  },
  {
   "cell_type": "code",
   "execution_count": null,
   "id": "cca2adc0-8917-4308-9560-afcd08821c6f",
   "metadata": {},
   "outputs": [],
   "source": []
  },
  {
   "cell_type": "code",
   "execution_count": null,
   "id": "9a67f915-a0ed-4c2d-9631-447cb1665424",
   "metadata": {},
   "outputs": [],
   "source": [
    "# del"
   ]
  },
  {
   "cell_type": "code",
   "execution_count": 72,
   "id": "1911d97c-d8e4-4945-840c-06a522cd5158",
   "metadata": {},
   "outputs": [
    {
     "data": {
      "text/plain": [
       "[120, 20, 99, 200, 99]"
      ]
     },
     "execution_count": 72,
     "metadata": {},
     "output_type": "execute_result"
    }
   ],
   "source": [
    "runs"
   ]
  },
  {
   "cell_type": "code",
   "execution_count": 73,
   "id": "7701665b-bfb7-45bf-ba5c-1dcab446a762",
   "metadata": {},
   "outputs": [],
   "source": [
    "del runs[0]"
   ]
  },
  {
   "cell_type": "code",
   "execution_count": 74,
   "id": "dfd1a904-e292-4838-ad58-de1a0c4ef994",
   "metadata": {},
   "outputs": [
    {
     "name": "stdout",
     "output_type": "stream",
     "text": [
      "[20, 99, 200, 99]\n"
     ]
    }
   ],
   "source": [
    "print(runs)"
   ]
  },
  {
   "cell_type": "code",
   "execution_count": 75,
   "id": "ea557a86-a482-4be4-9c62-d2270edf3933",
   "metadata": {},
   "outputs": [],
   "source": [
    "del runs"
   ]
  },
  {
   "cell_type": "code",
   "execution_count": 76,
   "id": "6d990844-d242-4923-9ceb-892fd5c92295",
   "metadata": {},
   "outputs": [
    {
     "ename": "NameError",
     "evalue": "name 'runs' is not defined",
     "output_type": "error",
     "traceback": [
      "\u001b[0;31m---------------------------------------------------------------------------\u001b[0m",
      "\u001b[0;31mNameError\u001b[0m                                 Traceback (most recent call last)",
      "\u001b[0;32m/var/folders/zn/hkv6562d6_d30glfs8yc76900000gn/T/ipykernel_9269/253721648.py\u001b[0m in \u001b[0;36m<module>\u001b[0;34m\u001b[0m\n\u001b[0;32m----> 1\u001b[0;31m \u001b[0mprint\u001b[0m\u001b[0;34m(\u001b[0m\u001b[0mruns\u001b[0m\u001b[0;34m)\u001b[0m\u001b[0;34m\u001b[0m\u001b[0;34m\u001b[0m\u001b[0m\n\u001b[0m",
      "\u001b[0;31mNameError\u001b[0m: name 'runs' is not defined"
     ]
    }
   ],
   "source": [
    "print(runs)"
   ]
  },
  {
   "cell_type": "code",
   "execution_count": null,
   "id": "89beb3c0-d6b4-4514-ad5a-168bc8d0d21a",
   "metadata": {},
   "outputs": [],
   "source": []
  },
  {
   "cell_type": "code",
   "execution_count": null,
   "id": "fe9a6b7a-429a-49f4-be7e-a43c72bf5fdf",
   "metadata": {},
   "outputs": [],
   "source": []
  },
  {
   "cell_type": "code",
   "execution_count": null,
   "id": "d71114a9-5043-453b-920a-1873ac86323b",
   "metadata": {},
   "outputs": [],
   "source": []
  },
  {
   "cell_type": "markdown",
   "id": "c743b5b5-0703-4055-97f7-07dc0b8ff186",
   "metadata": {},
   "source": [
    "### Linear search"
   ]
  },
  {
   "cell_type": "code",
   "execution_count": 78,
   "id": "302c5ba0-d5ab-4506-83c4-3600ae0fc05c",
   "metadata": {},
   "outputs": [],
   "source": [
    "# First time sachin scored 99"
   ]
  },
  {
   "cell_type": "code",
   "execution_count": 80,
   "id": "08a58dfa-6ba3-4c9b-93d9-385eb234845c",
   "metadata": {},
   "outputs": [],
   "source": [
    "# runs = [0, 1, 55, 67, 99, 120, 200]"
   ]
  },
  {
   "cell_type": "code",
   "execution_count": 79,
   "id": "93edd567-176c-4e77-8e0a-ce65f3234475",
   "metadata": {},
   "outputs": [],
   "source": [
    "runs = [100, 150, 99, 20, 99, 200, 99, 120]"
   ]
  },
  {
   "cell_type": "code",
   "execution_count": 81,
   "id": "bd516d9a-bf19-4575-9754-dce9bb8d83fd",
   "metadata": {},
   "outputs": [
    {
     "name": "stdout",
     "output_type": "stream",
     "text": [
      "100\n",
      "150\n",
      "99\n",
      "20\n",
      "99\n",
      "200\n",
      "99\n",
      "120\n"
     ]
    }
   ],
   "source": [
    "for i in runs:\n",
    "    print(i)"
   ]
  },
  {
   "cell_type": "code",
   "execution_count": 86,
   "id": "5f9f9d96-d5d5-464d-a958-90bf4bb1c303",
   "metadata": {},
   "outputs": [
    {
     "name": "stdout",
     "output_type": "stream",
     "text": [
      "100 0\n",
      "150 1\n",
      "99 2\n",
      "20 3\n",
      "99 4\n",
      "200 5\n",
      "99 6\n",
      "120 7\n"
     ]
    }
   ],
   "source": [
    "n = len(runs)\n",
    "for i in range(n):\n",
    "    print(runs[i], i)"
   ]
  },
  {
   "cell_type": "code",
   "execution_count": null,
   "id": "4eb1fcbd-9a64-4c83-8c38-81751ba4f333",
   "metadata": {},
   "outputs": [],
   "source": []
  },
  {
   "cell_type": "code",
   "execution_count": 88,
   "id": "06ac2786-3c82-460d-b85c-10a6105b4acb",
   "metadata": {},
   "outputs": [
    {
     "name": "stdout",
     "output_type": "stream",
     "text": [
      "2\n"
     ]
    }
   ],
   "source": [
    "n = len(runs)\n",
    "for i in range(n):\n",
    "    if runs[i] == 99:\n",
    "        print(i)\n",
    "        break"
   ]
  },
  {
   "cell_type": "code",
   "execution_count": null,
   "id": "2975b563-4482-4f6e-ad15-c63bf5e95286",
   "metadata": {},
   "outputs": [],
   "source": []
  },
  {
   "cell_type": "markdown",
   "id": "0b8d16f4-bca6-4094-9901-7648109bd705",
   "metadata": {},
   "source": [
    "### Count of 99 runs by Sachin"
   ]
  },
  {
   "cell_type": "code",
   "execution_count": 89,
   "id": "676abee1-8c47-4d51-892f-acb6d0b937fb",
   "metadata": {},
   "outputs": [
    {
     "data": {
      "text/plain": [
       "[100, 150, 99, 20, 99, 200, 99, 120]"
      ]
     },
     "execution_count": 89,
     "metadata": {},
     "output_type": "execute_result"
    }
   ],
   "source": [
    "runs"
   ]
  },
  {
   "cell_type": "code",
   "execution_count": 91,
   "id": "89d38b82-94be-46df-885e-1d299cef89e5",
   "metadata": {},
   "outputs": [
    {
     "name": "stdout",
     "output_type": "stream",
     "text": [
      "3\n"
     ]
    }
   ],
   "source": [
    "coun = 0\n",
    "for i in runs:\n",
    "    if i == 99:a\n",
    "        coun += 1\n",
    "print(coun)"
   ]
  },
  {
   "cell_type": "code",
   "execution_count": null,
   "id": "3be89991-5910-4192-b57a-ceab34c3e53d",
   "metadata": {},
   "outputs": [],
   "source": []
  },
  {
   "cell_type": "code",
   "execution_count": 95,
   "id": "59bee765-8607-4a9a-86ae-0213fcc7b861",
   "metadata": {},
   "outputs": [],
   "source": [
    "# Doubts"
   ]
  },
  {
   "cell_type": "code",
   "execution_count": 99,
   "id": "bc162aa2-00f4-4ae6-b577-58c1f8584549",
   "metadata": {},
   "outputs": [],
   "source": [
    "# help(list)\n",
    "# use above to know every method for list"
   ]
  },
  {
   "cell_type": "code",
   "execution_count": 100,
   "id": "284b6258-e76b-4685-abac-92180ce062b5",
   "metadata": {},
   "outputs": [
    {
     "name": "stdout",
     "output_type": "stream",
     "text": [
      "-6\n",
      "-7\n",
      "-8\n",
      "-9\n"
     ]
    }
   ],
   "source": [
    "for i in range(-6, -10, -1):\n",
    "    print(i)"
   ]
  },
  {
   "cell_type": "code",
   "execution_count": null,
   "id": "7c9f1230-8cda-4688-9df6-c725d3e8c9df",
   "metadata": {},
   "outputs": [],
   "source": []
  },
  {
   "cell_type": "code",
   "execution_count": null,
   "id": "bfa6fb2a-d242-43a4-895c-88d97d26f805",
   "metadata": {},
   "outputs": [],
   "source": []
  }
 ],
 "metadata": {
  "kernelspec": {
   "display_name": "Python 3 (ipykernel)",
   "language": "python",
   "name": "python3"
  },
  "language_info": {
   "codemirror_mode": {
    "name": "ipython",
    "version": 3
   },
   "file_extension": ".py",
   "mimetype": "text/x-python",
   "name": "python",
   "nbconvert_exporter": "python",
   "pygments_lexer": "ipython3",
   "version": "3.9.7"
  }
 },
 "nbformat": 4,
 "nbformat_minor": 5
}
