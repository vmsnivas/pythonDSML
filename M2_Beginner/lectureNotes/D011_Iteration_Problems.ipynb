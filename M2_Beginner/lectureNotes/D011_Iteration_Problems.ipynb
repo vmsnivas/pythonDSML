{
 "cells": [
  {
   "cell_type": "markdown",
   "id": "0ffb4a4c-c6a3-44d8-91e2-f54cc8822aa8",
   "metadata": {},
   "source": [
    "## Problem solving 2"
   ]
  },
  {
   "cell_type": "code",
   "execution_count": 13,
   "id": "45da8e33-ed3f-4102-a643-1d60fc49468a",
   "metadata": {},
   "outputs": [],
   "source": [
    "# Quiz"
   ]
  },
  {
   "cell_type": "code",
   "execution_count": 14,
   "id": "98a0cfcd-76b9-4f2c-b1e0-a8a170e315f7",
   "metadata": {},
   "outputs": [
    {
     "name": "stdout",
     "output_type": "stream",
     "text": [
      "10,7,4,1,"
     ]
    }
   ],
   "source": [
    "for i in range(10, -1, -3):\n",
    "    print(i, end = ',')"
   ]
  },
  {
   "cell_type": "code",
   "execution_count": null,
   "id": "301df66c-4ce3-4618-9041-621465f12010",
   "metadata": {},
   "outputs": [],
   "source": []
  },
  {
   "cell_type": "code",
   "execution_count": 15,
   "id": "82725993-92b9-407f-b759-ed1e1d03ce33",
   "metadata": {},
   "outputs": [
    {
     "name": "stdout",
     "output_type": "stream",
     "text": [
      "10,7,4,1"
     ]
    }
   ],
   "source": [
    "for i in range(10, -1, -3):\n",
    "    if i == 1:\n",
    "        print(i, end = '')\n",
    "    else:\n",
    "        print(i, end=',')"
   ]
  },
  {
   "cell_type": "code",
   "execution_count": null,
   "id": "589f4813-8e34-4d45-9028-be2daf25bff8",
   "metadata": {},
   "outputs": [],
   "source": []
  },
  {
   "cell_type": "code",
   "execution_count": null,
   "id": "3e62f32b-e516-4c09-9cbc-c22d5efdf8bf",
   "metadata": {},
   "outputs": [],
   "source": []
  },
  {
   "cell_type": "code",
   "execution_count": null,
   "id": "b5bed55a-c8a9-43b8-b12c-4c070f8d3d71",
   "metadata": {},
   "outputs": [],
   "source": []
  },
  {
   "cell_type": "code",
   "execution_count": null,
   "id": "e82c12c7-6647-409c-be6d-4640db072e40",
   "metadata": {},
   "outputs": [],
   "source": []
  },
  {
   "cell_type": "markdown",
   "id": "086701eb-30a9-4da2-987c-952cf177b184",
   "metadata": {},
   "source": [
    "#### Problem 1: Print the following numbers\n",
    "1, 3, 5, 7, 9, 11"
   ]
  },
  {
   "cell_type": "code",
   "execution_count": 17,
   "id": "8304fde7-540d-4c1e-9df7-9c9776568e52",
   "metadata": {},
   "outputs": [
    {
     "name": "stdout",
     "output_type": "stream",
     "text": [
      "1 3 5 7 9 11 "
     ]
    }
   ],
   "source": [
    "for i in range(1, 12, 2):\n",
    "    print(i, end=\" \")"
   ]
  },
  {
   "cell_type": "code",
   "execution_count": null,
   "id": "82730171-66bc-4da0-b472-0e02a61d3ec4",
   "metadata": {},
   "outputs": [],
   "source": []
  },
  {
   "cell_type": "code",
   "execution_count": null,
   "id": "fcb4b82a-df8a-4345-8543-16d25b10cae0",
   "metadata": {},
   "outputs": [],
   "source": []
  },
  {
   "cell_type": "code",
   "execution_count": null,
   "id": "ab27d253-c403-4770-a630-020ea7a29d37",
   "metadata": {},
   "outputs": [],
   "source": []
  },
  {
   "cell_type": "code",
   "execution_count": null,
   "id": "c6a822f5-b6d8-4794-9804-f36a3cc2256e",
   "metadata": {},
   "outputs": [],
   "source": []
  },
  {
   "cell_type": "markdown",
   "id": "f8ee19c3-65db-4928-8bff-6d82b1b61928",
   "metadata": {},
   "source": [
    "#### Problem 2: Print the following numbers:\n",
    "1, 4, 7, 10, 13, 16"
   ]
  },
  {
   "cell_type": "code",
   "execution_count": 3,
   "id": "3027c1fa-8231-4abb-af04-fe650765441b",
   "metadata": {},
   "outputs": [],
   "source": [
    "# AP"
   ]
  },
  {
   "cell_type": "code",
   "execution_count": 18,
   "id": "56beb0ec-0a7e-450a-9157-ef4f1c4c487e",
   "metadata": {},
   "outputs": [
    {
     "name": "stdout",
     "output_type": "stream",
     "text": [
      "1 4 7 10 13 16 "
     ]
    }
   ],
   "source": [
    "for i in range(1, 17, 3):\n",
    "    print(i, end=\" \")"
   ]
  },
  {
   "cell_type": "code",
   "execution_count": null,
   "id": "584dbe5d-0573-485f-baf1-9c404b0f1dff",
   "metadata": {},
   "outputs": [],
   "source": []
  },
  {
   "cell_type": "code",
   "execution_count": null,
   "id": "0703ee47-2a2d-41e0-9c66-dc9d994ea1ab",
   "metadata": {},
   "outputs": [],
   "source": []
  },
  {
   "cell_type": "markdown",
   "id": "ad897659-ede1-41fd-be58-f25da2a7e0e6",
   "metadata": {},
   "source": [
    "#### Problem 3: Print the following numbers:\n",
    "1, 3, 6, 10, 15, 21"
   ]
  },
  {
   "cell_type": "code",
   "execution_count": 4,
   "id": "dbe9ee42-21a5-48eb-b80d-1517380bed78",
   "metadata": {},
   "outputs": [],
   "source": [
    "# step?"
   ]
  },
  {
   "cell_type": "code",
   "execution_count": 20,
   "id": "c0d3c226-e378-4af2-9eee-7e1632cf37da",
   "metadata": {},
   "outputs": [
    {
     "name": "stdout",
     "output_type": "stream",
     "text": [
      "1 3 6 10 15 21 "
     ]
    }
   ],
   "source": [
    "i = 1\n",
    "step = 2\n",
    "\n",
    "while i <= 21:\n",
    "    print(i, end=\" \")\n",
    "    i += step\n",
    "    step += 1"
   ]
  },
  {
   "cell_type": "code",
   "execution_count": null,
   "id": "aa39fd5c-4805-4afa-9b28-dec338f4cd53",
   "metadata": {},
   "outputs": [],
   "source": []
  },
  {
   "cell_type": "code",
   "execution_count": 22,
   "id": "84074f63-29ff-4e69-94ca-7434d7dd9f4e",
   "metadata": {},
   "outputs": [
    {
     "name": "stdout",
     "output_type": "stream",
     "text": [
      "2\n",
      "3\n",
      "4\n",
      "5\n",
      "6\n"
     ]
    }
   ],
   "source": [
    "i = 1\n",
    "\n",
    "while i <= 5:\n",
    "    i += 1\n",
    "    print(i)"
   ]
  },
  {
   "cell_type": "code",
   "execution_count": null,
   "id": "2aaf93dd-906e-42bc-8850-2ae4e17d909d",
   "metadata": {},
   "outputs": [],
   "source": []
  },
  {
   "cell_type": "markdown",
   "id": "553b0576-5db7-40ea-a5a4-3c53079a1ae8",
   "metadata": {},
   "source": [
    "## continue, break and pass"
   ]
  },
  {
   "cell_type": "code",
   "execution_count": null,
   "id": "4527d8f4-b3e2-4cce-8800-6d0c0c1decca",
   "metadata": {},
   "outputs": [],
   "source": []
  },
  {
   "cell_type": "code",
   "execution_count": null,
   "id": "edf9c90b-064f-47b1-a0d8-d90750417c57",
   "metadata": {},
   "outputs": [],
   "source": []
  },
  {
   "cell_type": "code",
   "execution_count": null,
   "id": "89a07d49-4fec-4e3a-a936-ef2533134573",
   "metadata": {},
   "outputs": [],
   "source": []
  },
  {
   "cell_type": "markdown",
   "id": "5bb11d48-f657-4e62-ae83-72533f1af370",
   "metadata": {},
   "source": [
    "#### Problem 2\n",
    "Write a program that continually asks the user to enter a number until they enter a number 5.\n",
    "At this point the program should print how many numbers the user has entered.\n",
    "You may assume the user will only enter numbers."
   ]
  },
  {
   "cell_type": "code",
   "execution_count": 5,
   "id": "2a62593c-a335-43b6-9916-d008b8894d82",
   "metadata": {},
   "outputs": [],
   "source": [
    "# shall we break?"
   ]
  },
  {
   "cell_type": "code",
   "execution_count": 26,
   "id": "587d0592-7194-480b-b240-fd292e26ca0f",
   "metadata": {},
   "outputs": [
    {
     "name": "stdin",
     "output_type": "stream",
     "text": [
      " 1\n",
      " 2\n",
      " 5\n"
     ]
    },
    {
     "name": "stdout",
     "output_type": "stream",
     "text": [
      "count is: 3\n"
     ]
    }
   ],
   "source": [
    "count = 0\n",
    "while True:\n",
    "    n = int(input())\n",
    "    count += 1\n",
    "    if n == 5:\n",
    "        break\n",
    "        \n",
    "print(\"count is:\", count)\n",
    "        "
   ]
  },
  {
   "cell_type": "code",
   "execution_count": null,
   "id": "356a31a7-5077-4251-b77f-70be46d8f0cf",
   "metadata": {},
   "outputs": [],
   "source": []
  },
  {
   "cell_type": "code",
   "execution_count": 24,
   "id": "64522479-8d63-4977-b8d7-d97f8428744b",
   "metadata": {},
   "outputs": [
    {
     "name": "stdout",
     "output_type": "stream",
     "text": [
      "Rahul\n"
     ]
    }
   ],
   "source": [
    "if True:\n",
    "    print(\"Rahul\")"
   ]
  },
  {
   "cell_type": "code",
   "execution_count": null,
   "id": "40b45a7f-4916-4095-a23c-a6a987d1d679",
   "metadata": {},
   "outputs": [],
   "source": []
  },
  {
   "cell_type": "code",
   "execution_count": 6,
   "id": "9fe932de-f96d-4e00-9588-6dc209c1e7aa",
   "metadata": {},
   "outputs": [],
   "source": [
    "## Show using for loop as well"
   ]
  },
  {
   "cell_type": "code",
   "execution_count": 30,
   "id": "700729e0-c0e4-48d9-a312-ec4d99a91302",
   "metadata": {},
   "outputs": [
    {
     "name": "stdout",
     "output_type": "stream",
     "text": [
      "0 1 2 3 4 "
     ]
    }
   ],
   "source": [
    "for i in range(10):\n",
    "    if i == 5:\n",
    "        break\n",
    "        print(\"something\")\n",
    "    print(i, end=\" \")"
   ]
  },
  {
   "cell_type": "code",
   "execution_count": null,
   "id": "fb1594d7-73fb-4932-ab8a-de1db7aadae9",
   "metadata": {},
   "outputs": [],
   "source": []
  },
  {
   "cell_type": "code",
   "execution_count": null,
   "id": "e1da9384-157c-4cf2-a05b-ed468949abfa",
   "metadata": {},
   "outputs": [],
   "source": []
  },
  {
   "cell_type": "code",
   "execution_count": 7,
   "id": "f43abbf5-da6d-4418-b6a7-6a009107ce07",
   "metadata": {},
   "outputs": [],
   "source": [
    "## will break work for if as well"
   ]
  },
  {
   "cell_type": "code",
   "execution_count": null,
   "id": "66851a47-d6b2-461c-9cab-a0314ce89d61",
   "metadata": {},
   "outputs": [],
   "source": []
  },
  {
   "cell_type": "code",
   "execution_count": 32,
   "id": "715f8394-c0f9-4e09-ac31-808067e4ec9f",
   "metadata": {},
   "outputs": [
    {
     "name": "stdout",
     "output_type": "stream",
     "text": [
      "0 something\n",
      "1 something\n",
      "2 something\n",
      "4 something\n",
      "5 something\n"
     ]
    }
   ],
   "source": [
    "for i in range(6):\n",
    "    if i == 3:\n",
    "        continue\n",
    "    print(i, end=\" \")\n",
    "    print(\"something\")"
   ]
  },
  {
   "cell_type": "code",
   "execution_count": null,
   "id": "b6327901-7a0c-48cc-8689-7c506621be6d",
   "metadata": {},
   "outputs": [],
   "source": []
  },
  {
   "cell_type": "code",
   "execution_count": 34,
   "id": "b254a439-9a5b-4cf4-b80b-ef667585fd2a",
   "metadata": {},
   "outputs": [
    {
     "name": "stdout",
     "output_type": "stream",
     "text": [
      "0 1 2 3 4 5 6 7 8 9 "
     ]
    }
   ],
   "source": [
    "for i in range(10):\n",
    "    if i == 5:\n",
    "        pass\n",
    "    print(i, end=\" \")"
   ]
  },
  {
   "cell_type": "code",
   "execution_count": null,
   "id": "e128f3da-f5f3-4515-a0fd-de20bdc92c4e",
   "metadata": {},
   "outputs": [],
   "source": []
  },
  {
   "cell_type": "code",
   "execution_count": null,
   "id": "34de6ed3-e461-4638-92f7-566fbb549f4e",
   "metadata": {},
   "outputs": [],
   "source": []
  },
  {
   "cell_type": "code",
   "execution_count": null,
   "id": "1fd2c2a5-8e63-422f-9510-38c77f168aa7",
   "metadata": {},
   "outputs": [],
   "source": []
  },
  {
   "cell_type": "code",
   "execution_count": null,
   "id": "98fcc0e5-d070-42cc-a47e-90baacd3c008",
   "metadata": {},
   "outputs": [],
   "source": []
  },
  {
   "cell_type": "code",
   "execution_count": null,
   "id": "abc54257-888a-4bc0-b84f-08f0565a3736",
   "metadata": {},
   "outputs": [],
   "source": []
  },
  {
   "cell_type": "code",
   "execution_count": null,
   "id": "f2cc839d-c80d-456a-90dc-ce465914d12d",
   "metadata": {},
   "outputs": [],
   "source": []
  },
  {
   "cell_type": "markdown",
   "id": "a4b84284-357a-42cc-91d5-2b7f2c8375bb",
   "metadata": {},
   "source": [
    "#### Problem 3:\n",
    "Given a number N, check if it is prime"
   ]
  },
  {
   "cell_type": "code",
   "execution_count": 62,
   "id": "4b288e9d-bfaf-44d5-af2f-e69af26c34e7",
   "metadata": {},
   "outputs": [
    {
     "name": "stdin",
     "output_type": "stream",
     "text": [
      " 10\n"
     ]
    },
    {
     "name": "stdout",
     "output_type": "stream",
     "text": [
      "Not prime\n",
      "4\n"
     ]
    }
   ],
   "source": [
    "n = int(input())\n",
    "factor = 0\n",
    "for i in range(1, n+1):\n",
    "    if n % i == 0:\n",
    "        factor += 1\n",
    "        \n",
    "if factor == 2:\n",
    "    print(\"Prime\")\n",
    "    print(factor)\n",
    "else:\n",
    "    print(\"Not prime\")\n",
    "    print(factor)"
   ]
  },
  {
   "cell_type": "code",
   "execution_count": 63,
   "id": "95041e41-98cb-4602-8dff-98d36ea82665",
   "metadata": {},
   "outputs": [
    {
     "name": "stdin",
     "output_type": "stream",
     "text": [
      " 9\n"
     ]
    },
    {
     "name": "stdout",
     "output_type": "stream",
     "text": [
      "Prime\n",
      "Not prime\n"
     ]
    }
   ],
   "source": [
    "n = int(input())\n",
    "\n",
    "for i in range(2, n):    # numbers from 2 to n-1\n",
    "    if n % i == 0:\n",
    "        print(\"Not prime\")\n",
    "        break\n",
    "    else:\n",
    "        print(\"Prime\")"
   ]
  },
  {
   "cell_type": "code",
   "execution_count": null,
   "id": "8da4d44e-4eee-401a-87a1-dc76508cbe8d",
   "metadata": {},
   "outputs": [],
   "source": []
  },
  {
   "cell_type": "code",
   "execution_count": 66,
   "id": "cc46257c-1115-45a3-bff8-83c8ad2bee03",
   "metadata": {},
   "outputs": [
    {
     "name": "stdin",
     "output_type": "stream",
     "text": [
      " 1\n"
     ]
    },
    {
     "name": "stdout",
     "output_type": "stream",
     "text": [
      "prime\n"
     ]
    }
   ],
   "source": [
    "n = int(input())\n",
    "\n",
    "flag = True\n",
    "for i in range(2, n):    # numbers from 2 to n-1\n",
    "    if n % i == 0:\n",
    "        flag = False\n",
    "        print(\"Not prime\")\n",
    "        break\n",
    "\n",
    "if flag == True:\n",
    "    print(\"prime\")"
   ]
  },
  {
   "cell_type": "code",
   "execution_count": 82,
   "id": "731ff05d-e309-4699-8832-7fd2308d97ec",
   "metadata": {},
   "outputs": [
    {
     "name": "stdin",
     "output_type": "stream",
     "text": [
      " 6\n"
     ]
    },
    {
     "name": "stdout",
     "output_type": "stream",
     "text": [
      "Not prime\n"
     ]
    }
   ],
   "source": [
    "n = int(input())\n",
    "\n",
    "flag = True\n",
    "for i in range(2, n):    # numbers from 2 to n-1\n",
    "    if n % i == 0:\n",
    "        flag = False\n",
    "        break\n",
    "\n",
    "if flag == True and n > 1:\n",
    "    print(\"prime\")\n",
    "else:\n",
    "    print(\"Not prime\")"
   ]
  },
  {
   "cell_type": "code",
   "execution_count": null,
   "id": "37374b51-9226-4a3f-8719-324e12cb2390",
   "metadata": {},
   "outputs": [],
   "source": []
  },
  {
   "cell_type": "markdown",
   "id": "9c6be1ba-d7d8-481f-898c-4e1dba1b66bc",
   "metadata": {},
   "source": [
    "#### For else"
   ]
  },
  {
   "cell_type": "code",
   "execution_count": 79,
   "id": "db82c709-62ce-4c26-a185-d78ec6ec88aa",
   "metadata": {},
   "outputs": [
    {
     "name": "stdin",
     "output_type": "stream",
     "text": [
      " 2\n"
     ]
    },
    {
     "name": "stdout",
     "output_type": "stream",
     "text": [
      "Prime\n"
     ]
    }
   ],
   "source": [
    "n = int(input())\n",
    "\n",
    "for i in range(2, n):    # numbers from 2 to n-1\n",
    "    if n % i == 0:\n",
    "        print(\"Not prime\")\n",
    "        break\n",
    "\n",
    "else:\n",
    "    if n > 1:\n",
    "        print(\"Prime\")\n",
    "    else:\n",
    "        print(\"Not prime\")"
   ]
  },
  {
   "cell_type": "code",
   "execution_count": null,
   "id": "52fad1fa-9af6-44e6-8c91-7f6268b4250c",
   "metadata": {},
   "outputs": [],
   "source": []
  },
  {
   "cell_type": "code",
   "execution_count": null,
   "id": "642938f6-4514-4b32-8782-1378dde4da32",
   "metadata": {},
   "outputs": [],
   "source": []
  }
 ],
 "metadata": {
  "kernelspec": {
   "display_name": "Python 3 (ipykernel)",
   "language": "python",
   "name": "python3"
  },
  "language_info": {
   "codemirror_mode": {
    "name": "ipython",
    "version": 3
   },
   "file_extension": ".py",
   "mimetype": "text/x-python",
   "name": "python",
   "nbconvert_exporter": "python",
   "pygments_lexer": "ipython3",
   "version": "3.9.7"
  }
 },
 "nbformat": 4,
 "nbformat_minor": 5
}
