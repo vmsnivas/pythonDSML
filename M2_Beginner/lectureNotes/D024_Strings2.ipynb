{
 "cells": [
  {
   "cell_type": "markdown",
   "id": "fa730330-e254-4d45-9ae5-55776184ef00",
   "metadata": {
    "tags": []
   },
   "source": [
    "### Strings2"
   ]
  },
  {
   "cell_type": "code",
   "execution_count": 61,
   "id": "e6907ac6-8a36-4fd5-87c7-da3575f87c5e",
   "metadata": {},
   "outputs": [],
   "source": [
    "# Quizzes"
   ]
  },
  {
   "cell_type": "code",
   "execution_count": 55,
   "id": "74bb99fb-1e2a-4fab-90f3-daf499a4ab49",
   "metadata": {},
   "outputs": [],
   "source": [
    "# + and *"
   ]
  },
  {
   "cell_type": "code",
   "execution_count": 56,
   "id": "5ce1458e-22d9-49ec-a29c-f894eed8495f",
   "metadata": {},
   "outputs": [
    {
     "data": {
      "text/plain": [
       "'RahulRahul'"
      ]
     },
     "execution_count": 56,
     "metadata": {},
     "output_type": "execute_result"
    }
   ],
   "source": [
    "\"Rahul\" + \"Rahul\""
   ]
  },
  {
   "cell_type": "code",
   "execution_count": 57,
   "id": "64d3353e-df65-483b-b4ed-82d781cf036e",
   "metadata": {},
   "outputs": [
    {
     "data": {
      "text/plain": [
       "'RahulRahul'"
      ]
     },
     "execution_count": 57,
     "metadata": {},
     "output_type": "execute_result"
    }
   ],
   "source": [
    "\"Rahul\" * 2"
   ]
  },
  {
   "cell_type": "code",
   "execution_count": 59,
   "id": "7a296d4d-a1f0-4828-8522-47c9601abe7a",
   "metadata": {},
   "outputs": [],
   "source": [
    "# \"Rahul\" / 2"
   ]
  },
  {
   "cell_type": "code",
   "execution_count": 60,
   "id": "42e94ae1-2c94-454e-84ce-6545153d397e",
   "metadata": {},
   "outputs": [
    {
     "name": "stdout",
     "output_type": "stream",
     "text": [
      "65\n"
     ]
    }
   ],
   "source": [
    "print(ord('A'))"
   ]
  },
  {
   "cell_type": "code",
   "execution_count": null,
   "id": "80c1ce69-0e62-402e-99ef-d61f4dd83903",
   "metadata": {},
   "outputs": [],
   "source": []
  },
  {
   "cell_type": "code",
   "execution_count": null,
   "id": "625c0668-d3bb-4167-a754-fd8151e52d8d",
   "metadata": {},
   "outputs": [],
   "source": []
  },
  {
   "cell_type": "code",
   "execution_count": null,
   "id": "fc2a3b49-6aa0-4969-a26e-6b759144ac10",
   "metadata": {},
   "outputs": [],
   "source": []
  },
  {
   "cell_type": "code",
   "execution_count": null,
   "id": "7562c227-a4ae-427b-b220-7ef130e4d571",
   "metadata": {},
   "outputs": [],
   "source": []
  },
  {
   "cell_type": "code",
   "execution_count": null,
   "id": "3c88d6fe-6f7e-4c8b-8136-eb8ea76f7c5d",
   "metadata": {},
   "outputs": [],
   "source": []
  },
  {
   "cell_type": "code",
   "execution_count": null,
   "id": "8b244bb3-352c-4da4-8d42-5302f8759545",
   "metadata": {},
   "outputs": [],
   "source": []
  },
  {
   "cell_type": "markdown",
   "id": "402519fd-4df0-4f36-b533-8f9fb25d0d76",
   "metadata": {},
   "source": [
    "### Pattern"
   ]
  },
  {
   "cell_type": "code",
   "execution_count": 1,
   "id": "02e4f592-2a7a-4098-bb5f-f117478d40da",
   "metadata": {},
   "outputs": [],
   "source": [
    "# The sigma way to print the pattern:\n",
    "\n",
    "# # # # #\n",
    "# # # # #\n",
    "# # # # #\n",
    "# # # # #\n",
    "# # # # #"
   ]
  },
  {
   "cell_type": "code",
   "execution_count": 135,
   "id": "bf7d1931-0d43-4db5-82ae-74a4867ad506",
   "metadata": {},
   "outputs": [],
   "source": [
    "# Quiz"
   ]
  },
  {
   "cell_type": "code",
   "execution_count": 68,
   "id": "a67f30a8-6b2a-47d3-9b97-0b0c65fcb65a",
   "metadata": {},
   "outputs": [
    {
     "name": "stdout",
     "output_type": "stream",
     "text": [
      "# # # # # \n",
      "# # # # # \n",
      "# # # # # \n",
      "# # # # # \n",
      "# # # # # \n"
     ]
    }
   ],
   "source": [
    "for i in range(5):\n",
    "    print(\"#\", end=\" \")\n",
    "print()\n",
    "\n",
    "for i in range(5):\n",
    "    print(\"#\", end=\" \")\n",
    "print()\n",
    "\n",
    "for i in range(5):\n",
    "    print(\"#\", end=\" \")\n",
    "print()\n",
    "\n",
    "for i in range(5):\n",
    "    print(\"#\", end=\" \")\n",
    "print()\n",
    "\n",
    "for i in range(5):\n",
    "    print(\"#\", end=\" \")\n",
    "print()"
   ]
  },
  {
   "cell_type": "code",
   "execution_count": 70,
   "id": "68026315-3c9a-4f89-a966-b8abee0b41a3",
   "metadata": {},
   "outputs": [],
   "source": [
    "# Using nested for loop"
   ]
  },
  {
   "cell_type": "code",
   "execution_count": 69,
   "id": "c66c6990-b34e-47a5-9165-45b4a9be6cd7",
   "metadata": {},
   "outputs": [
    {
     "name": "stdout",
     "output_type": "stream",
     "text": [
      "# # # # # \n",
      "# # # # # \n",
      "# # # # # \n",
      "# # # # # \n",
      "# # # # # \n"
     ]
    }
   ],
   "source": [
    "for i in range(5):\n",
    "    for i in range(5):\n",
    "        print(\"#\", end=\" \")\n",
    "    print()"
   ]
  },
  {
   "cell_type": "code",
   "execution_count": 73,
   "id": "bfa353f1-d64f-4522-a06b-eecf52c7fde3",
   "metadata": {},
   "outputs": [
    {
     "name": "stdout",
     "output_type": "stream",
     "text": [
      "# # # # # \n",
      "# # # # # \n",
      "# # # # # \n",
      "# # # # # \n",
      "# # # # # \n"
     ]
    }
   ],
   "source": [
    "print(\"# \"*5)\n",
    "print(\"# \"*5)\n",
    "print(\"# \"*5)\n",
    "print(\"# \"*5)\n",
    "print(\"# \"*5)"
   ]
  },
  {
   "cell_type": "code",
   "execution_count": 75,
   "id": "3400203d-3464-4df3-937f-d332ac4524f4",
   "metadata": {},
   "outputs": [
    {
     "name": "stdout",
     "output_type": "stream",
     "text": [
      "# # # # # \n",
      "# # # # # \n",
      "# # # # # \n",
      "# # # # # \n",
      "# # # # # \n"
     ]
    }
   ],
   "source": [
    "for i in range(5):\n",
    "    print(\"# \"*5)"
   ]
  },
  {
   "cell_type": "code",
   "execution_count": null,
   "id": "3f111463-9023-450d-b89f-75f517cdc340",
   "metadata": {},
   "outputs": [],
   "source": []
  },
  {
   "cell_type": "code",
   "execution_count": 77,
   "id": "7c94f0b8-cfed-4d00-bc72-d8a56ddae64e",
   "metadata": {},
   "outputs": [
    {
     "name": "stdin",
     "output_type": "stream",
     "text": [
      " 3\n"
     ]
    },
    {
     "name": "stdout",
     "output_type": "stream",
     "text": [
      "# # # \n",
      "# # # \n",
      "# # # \n"
     ]
    }
   ],
   "source": [
    "n = int(input())\n",
    "for i in range(n):\n",
    "    print(\"# \" * n)"
   ]
  },
  {
   "cell_type": "code",
   "execution_count": null,
   "id": "388695c9-b4d9-4c5c-b5d8-b0a55d8cbdc8",
   "metadata": {},
   "outputs": [],
   "source": []
  },
  {
   "cell_type": "code",
   "execution_count": null,
   "id": "31ee24ea-fbf6-4aeb-b5bb-a0ded2229625",
   "metadata": {},
   "outputs": [],
   "source": []
  },
  {
   "cell_type": "code",
   "execution_count": null,
   "id": "edccf9bc-4663-4a8a-b4a2-076ef95c39ea",
   "metadata": {},
   "outputs": [],
   "source": []
  },
  {
   "cell_type": "markdown",
   "id": "5a627a9c-32e1-43ec-8497-9dc13611a8d0",
   "metadata": {},
   "source": [
    "# Formatted strings"
   ]
  },
  {
   "cell_type": "code",
   "execution_count": 7,
   "id": "a23641c0-d27e-474d-9b13-25fdb5d3a3ed",
   "metadata": {},
   "outputs": [],
   "source": [
    "# intro please :)"
   ]
  },
  {
   "cell_type": "code",
   "execution_count": 79,
   "id": "24140059-6a4b-4259-bc1c-6fe99fa61f22",
   "metadata": {},
   "outputs": [
    {
     "name": "stdout",
     "output_type": "stream",
     "text": [
      "Hey my name is Emma Watson . and my age is 32 .\n"
     ]
    }
   ],
   "source": [
    "name = \"Emma Watson\"\n",
    "age = 32\n",
    "\n",
    "print(\"Hey my name is\", name, \".\", \"and my age is\", age, \".\")"
   ]
  },
  {
   "cell_type": "code",
   "execution_count": null,
   "id": "e59a9865-1608-4eab-b14c-7eee3ca9fd10",
   "metadata": {},
   "outputs": [],
   "source": []
  },
  {
   "cell_type": "code",
   "execution_count": null,
   "id": "e9b5e6b2-5d47-4ceb-8674-089b4285285d",
   "metadata": {},
   "outputs": [],
   "source": []
  },
  {
   "cell_type": "code",
   "execution_count": 5,
   "id": "0212ceee-4146-4553-a4f2-ea5a922d2579",
   "metadata": {},
   "outputs": [],
   "source": [
    "# 1st method"
   ]
  },
  {
   "cell_type": "code",
   "execution_count": 6,
   "id": "ce7a7c71-c018-4c20-965b-acbb7bc542c5",
   "metadata": {},
   "outputs": [],
   "source": [
    "# format"
   ]
  },
  {
   "cell_type": "code",
   "execution_count": 8,
   "id": "6d796152-7676-4630-9595-0773fa508f6d",
   "metadata": {},
   "outputs": [],
   "source": [
    "# quiz"
   ]
  },
  {
   "cell_type": "code",
   "execution_count": 82,
   "id": "9fb5c7ff-6fa8-4cb8-b905-2980c6c7deaf",
   "metadata": {},
   "outputs": [
    {
     "name": "stdin",
     "output_type": "stream",
     "text": [
      " Rahul\n",
      " 45\n"
     ]
    },
    {
     "name": "stdout",
     "output_type": "stream",
     "text": [
      "Hey my name is Rahul and my age is 45\n"
     ]
    }
   ],
   "source": [
    "name = input()\n",
    "age = int(input())\n",
    "\n",
    "print(\"Hey my name is {} and my age is {}\".format(name, age))"
   ]
  },
  {
   "cell_type": "code",
   "execution_count": 83,
   "id": "1a01c787-945c-4b00-80ae-5e51d12b0ab6",
   "metadata": {},
   "outputs": [
    {
     "name": "stdin",
     "output_type": "stream",
     "text": [
      " rahul\n",
      " 25\n"
     ]
    },
    {
     "name": "stdout",
     "output_type": "stream",
     "text": [
      "Hey my name is 25 and my age is rahul\n"
     ]
    }
   ],
   "source": [
    "name = input()\n",
    "age = int(input())\n",
    "\n",
    "print(\"Hey my name is {} and my age is {}\".format(age, name))"
   ]
  },
  {
   "cell_type": "code",
   "execution_count": null,
   "id": "4f6e6999-d887-48bf-ab00-c40e86637e03",
   "metadata": {},
   "outputs": [],
   "source": []
  },
  {
   "cell_type": "code",
   "execution_count": 84,
   "id": "4005e10d-fe98-4752-9833-6d87b5a185c4",
   "metadata": {},
   "outputs": [],
   "source": [
    "# Quiz"
   ]
  },
  {
   "cell_type": "code",
   "execution_count": 86,
   "id": "8286e31f-2f50-4dcc-a577-ec297b7ff453",
   "metadata": {},
   "outputs": [],
   "source": [
    "# print(\"Hey my name is {}, and my age is {}.\".format(age))"
   ]
  },
  {
   "cell_type": "code",
   "execution_count": null,
   "id": "d6aa8dde-8d8a-43c3-9ce1-d18fc1fc9be3",
   "metadata": {},
   "outputs": [],
   "source": []
  },
  {
   "cell_type": "code",
   "execution_count": null,
   "id": "6e136c6e-3fc8-4a93-822b-972a970d3afb",
   "metadata": {},
   "outputs": [],
   "source": []
  },
  {
   "cell_type": "code",
   "execution_count": 9,
   "id": "47a35d65-e5d0-4370-8cd9-ee7117518df1",
   "metadata": {},
   "outputs": [],
   "source": [
    "# latest way of writing formatted strings\n",
    "# Following is aplicable in python 3.6 and above"
   ]
  },
  {
   "cell_type": "code",
   "execution_count": null,
   "id": "da241156-3895-4bca-afee-f5d44db411a7",
   "metadata": {},
   "outputs": [],
   "source": []
  },
  {
   "cell_type": "code",
   "execution_count": 10,
   "id": "ee7af95f-9773-40d0-94b9-3195aee44a62",
   "metadata": {},
   "outputs": [],
   "source": [
    "# 2nd Method"
   ]
  },
  {
   "cell_type": "code",
   "execution_count": 11,
   "id": "bab29ab7-7480-464b-bebb-5cda8733b8e8",
   "metadata": {},
   "outputs": [],
   "source": [
    "# formatted strings"
   ]
  },
  {
   "cell_type": "code",
   "execution_count": 90,
   "id": "c7014432-a939-42b2-9cd2-907f7b8e305d",
   "metadata": {},
   "outputs": [
    {
     "name": "stdin",
     "output_type": "stream",
     "text": [
      " emma\n",
      " 32\n"
     ]
    },
    {
     "name": "stdout",
     "output_type": "stream",
     "text": [
      "Hey my name is emma and my age is 32\n"
     ]
    }
   ],
   "source": [
    "name = input()\n",
    "age = int(input())\n",
    "\n",
    "print(f\"Hey my name is {name} and my age is {age}\")"
   ]
  },
  {
   "cell_type": "code",
   "execution_count": null,
   "id": "17ad4cfa-fb54-49fe-9807-680cffe9ac90",
   "metadata": {},
   "outputs": [],
   "source": []
  },
  {
   "cell_type": "code",
   "execution_count": 91,
   "id": "8b6f9583-ca2e-42ec-baf1-ab7b7ce8ad12",
   "metadata": {},
   "outputs": [
    {
     "ename": "SyntaxError",
     "evalue": "f-string: empty expression not allowed (699940393.py, line 3)",
     "output_type": "error",
     "traceback": [
      "\u001b[0;36m  File \u001b[0;32m\"/var/folders/zn/hkv6562d6_d30glfs8yc76900000gn/T/ipykernel_55028/699940393.py\"\u001b[0;36m, line \u001b[0;32m3\u001b[0m\n\u001b[0;31m    print(f\"Hey my name is {} and my age is {age}\")\u001b[0m\n\u001b[0m                                                  ^\u001b[0m\n\u001b[0;31mSyntaxError\u001b[0m\u001b[0;31m:\u001b[0m f-string: empty expression not allowed\n"
     ]
    }
   ],
   "source": [
    "name = \"Emma\"\n",
    "age = 32\n",
    "print(f\"Hey my name is {} and my age is {age}\")"
   ]
  },
  {
   "cell_type": "code",
   "execution_count": null,
   "id": "10b15208-34cc-4def-919f-78cd4901334d",
   "metadata": {},
   "outputs": [],
   "source": []
  },
  {
   "cell_type": "code",
   "execution_count": null,
   "id": "8574495b-9ff8-4cd8-9ffd-eecfde12d9a2",
   "metadata": {},
   "outputs": [],
   "source": []
  },
  {
   "cell_type": "code",
   "execution_count": null,
   "id": "c5fdd998-026e-41fb-afc0-3cbf2ca9c08c",
   "metadata": {},
   "outputs": [],
   "source": []
  },
  {
   "cell_type": "markdown",
   "id": "014e0abc-7fc4-4862-b790-06da785c509b",
   "metadata": {},
   "source": [
    "### Challenge: For a given string find length without using len function"
   ]
  },
  {
   "cell_type": "code",
   "execution_count": 92,
   "id": "9dd48e12-a4f3-4ed3-977c-59dc86706a08",
   "metadata": {},
   "outputs": [
    {
     "name": "stdin",
     "output_type": "stream",
     "text": [
      " Rahul janghu\n"
     ]
    }
   ],
   "source": [
    "s = input()\n"
   ]
  },
  {
   "cell_type": "code",
   "execution_count": 93,
   "id": "4fbdb1bb-3f56-4d62-afe1-403ca04101b7",
   "metadata": {},
   "outputs": [
    {
     "data": {
      "text/plain": [
       "12"
      ]
     },
     "execution_count": 93,
     "metadata": {},
     "output_type": "execute_result"
    }
   ],
   "source": [
    "len(s)"
   ]
  },
  {
   "cell_type": "code",
   "execution_count": 95,
   "id": "eb9c8d31-a90a-4c02-bb0d-0f2eed456c2d",
   "metadata": {},
   "outputs": [
    {
     "name": "stdout",
     "output_type": "stream",
     "text": [
      "12\n"
     ]
    }
   ],
   "source": [
    "count = 0\n",
    "for i in s:\n",
    "    count += 1\n",
    "    #print(i)\n",
    "print(count)"
   ]
  },
  {
   "cell_type": "code",
   "execution_count": null,
   "id": "d49801f9-ad2f-41ec-9f87-0615d3344fe5",
   "metadata": {},
   "outputs": [],
   "source": []
  },
  {
   "cell_type": "code",
   "execution_count": null,
   "id": "b99c6ceb-d42d-4eb5-8743-baf496ba1888",
   "metadata": {},
   "outputs": [],
   "source": []
  },
  {
   "cell_type": "code",
   "execution_count": null,
   "id": "10abf079-935e-4248-9df4-a42cae89cd3c",
   "metadata": {},
   "outputs": [],
   "source": []
  },
  {
   "cell_type": "markdown",
   "id": "19e9a29d-03ea-4aa3-955f-daa6d24f0c53",
   "metadata": {},
   "source": [
    "## Challenge: \n",
    "- Given a string as input, count the no of upper case characters"
   ]
  },
  {
   "cell_type": "code",
   "execution_count": 98,
   "id": "a0e6b8a5-46f6-44bf-97f5-bc3b0a651eb1",
   "metadata": {},
   "outputs": [],
   "source": [
    "name = \"RAHul Janghu\""
   ]
  },
  {
   "cell_type": "code",
   "execution_count": 99,
   "id": "3d607bb8-a6f6-4876-a720-c7c47c6c82f2",
   "metadata": {},
   "outputs": [],
   "source": [
    "# ord('A')"
   ]
  },
  {
   "cell_type": "code",
   "execution_count": 103,
   "id": "eafa4a2e-353f-403c-8d70-489d5d26d12a",
   "metadata": {},
   "outputs": [
    {
     "name": "stdout",
     "output_type": "stream",
     "text": [
      "R\n",
      "A\n",
      "H\n",
      "J\n"
     ]
    }
   ],
   "source": [
    "for i in name:\n",
    "    if ord(i) >= 65 and ord(i) <= 90:\n",
    "        print(i)"
   ]
  },
  {
   "cell_type": "code",
   "execution_count": 104,
   "id": "a2229bff-4e1d-4046-9029-73aae33f0e69",
   "metadata": {},
   "outputs": [
    {
     "name": "stdout",
     "output_type": "stream",
     "text": [
      "R 1\n",
      "A 2\n",
      "H 3\n",
      "J 4\n"
     ]
    }
   ],
   "source": [
    "count = 0\n",
    "for i in name:\n",
    "    if ord(i) >= 65 and ord(i) <= 90:\n",
    "        count += 1\n",
    "        print(i, count)"
   ]
  },
  {
   "cell_type": "code",
   "execution_count": null,
   "id": "70464d03-a3cb-4f7f-ade1-3bedd72495b9",
   "metadata": {},
   "outputs": [],
   "source": []
  },
  {
   "cell_type": "code",
   "execution_count": null,
   "id": "eac78ee0-beea-463d-b7d9-958b2b1b20d0",
   "metadata": {},
   "outputs": [],
   "source": []
  },
  {
   "cell_type": "code",
   "execution_count": null,
   "id": "02ee616c-0b5f-4cd0-a77c-1e7e2d140175",
   "metadata": {},
   "outputs": [],
   "source": []
  },
  {
   "cell_type": "code",
   "execution_count": null,
   "id": "8069833e-2605-49f7-9893-d428de8528db",
   "metadata": {},
   "outputs": [],
   "source": []
  },
  {
   "cell_type": "code",
   "execution_count": 14,
   "id": "2e6ee2a5-85c1-4c82-aac9-342a98123dff",
   "metadata": {},
   "outputs": [],
   "source": [
    "# isupper() and upper()"
   ]
  },
  {
   "cell_type": "code",
   "execution_count": 105,
   "id": "2b62f49c-3de6-456a-a736-39fe0ec9bcde",
   "metadata": {},
   "outputs": [
    {
     "data": {
      "text/plain": [
       "False"
      ]
     },
     "execution_count": 105,
     "metadata": {},
     "output_type": "execute_result"
    }
   ],
   "source": [
    "\"a\".isupper()"
   ]
  },
  {
   "cell_type": "code",
   "execution_count": 106,
   "id": "29ca6fd8-0b68-495c-a40a-abce1200c847",
   "metadata": {},
   "outputs": [
    {
     "data": {
      "text/plain": [
       "True"
      ]
     },
     "execution_count": 106,
     "metadata": {},
     "output_type": "execute_result"
    }
   ],
   "source": [
    "\"A\".isupper()"
   ]
  },
  {
   "cell_type": "code",
   "execution_count": 108,
   "id": "ed37a8ed-a420-46b7-8e15-4287320d353a",
   "metadata": {},
   "outputs": [
    {
     "name": "stdout",
     "output_type": "stream",
     "text": [
      "4\n"
     ]
    }
   ],
   "source": [
    "count = 0\n",
    "for i in name:\n",
    "    if i.isupper():\n",
    "        count += 1\n",
    "print(count)"
   ]
  },
  {
   "cell_type": "code",
   "execution_count": 109,
   "id": "3a16d46f-7aa6-4a04-bde7-b4f647fa9669",
   "metadata": {},
   "outputs": [
    {
     "data": {
      "text/plain": [
       "True"
      ]
     },
     "execution_count": 109,
     "metadata": {},
     "output_type": "execute_result"
    }
   ],
   "source": [
    "\"AA\".isupper()"
   ]
  },
  {
   "cell_type": "code",
   "execution_count": 110,
   "id": "56d5d576-f5bb-4136-b222-6be302ac6d29",
   "metadata": {},
   "outputs": [
    {
     "data": {
      "text/plain": [
       "False"
      ]
     },
     "execution_count": 110,
     "metadata": {},
     "output_type": "execute_result"
    }
   ],
   "source": [
    "\"Aa\".isupper()"
   ]
  },
  {
   "cell_type": "code",
   "execution_count": 111,
   "id": "daea799e-be70-4ffd-964b-8f1864057ea4",
   "metadata": {},
   "outputs": [
    {
     "name": "stdout",
     "output_type": "stream",
     "text": [
      "A\n"
     ]
    }
   ],
   "source": [
    "print(\"a\".upper())"
   ]
  },
  {
   "cell_type": "code",
   "execution_count": 113,
   "id": "78d691ef-bd50-458c-97a2-30f98ee70e73",
   "metadata": {},
   "outputs": [
    {
     "name": "stdout",
     "output_type": "stream",
     "text": [
      "B\n"
     ]
    }
   ],
   "source": [
    "print(\"b\".upper())"
   ]
  },
  {
   "cell_type": "code",
   "execution_count": 114,
   "id": "1aec7454-bfaf-4dc7-90f2-d60c800afb43",
   "metadata": {},
   "outputs": [
    {
     "name": "stdout",
     "output_type": "stream",
     "text": [
      "RAHUL\n"
     ]
    }
   ],
   "source": [
    "print(\"rahul\".upper())"
   ]
  },
  {
   "cell_type": "code",
   "execution_count": null,
   "id": "5ba994ad-19da-43a9-ab81-ee902be98720",
   "metadata": {},
   "outputs": [],
   "source": []
  },
  {
   "cell_type": "code",
   "execution_count": null,
   "id": "1bdd68c1-cfc0-4ae1-9127-a64c99cf30b8",
   "metadata": {},
   "outputs": [],
   "source": []
  },
  {
   "cell_type": "markdown",
   "id": "57cc99f7-1a3a-4974-825f-5f57e8037341",
   "metadata": {},
   "source": [
    "## Challenge:\n",
    "- Convert the string to lower case.\n",
    "- Input: \"INdiA\" Output: \"india\""
   ]
  },
  {
   "cell_type": "code",
   "execution_count": 50,
   "id": "348f82a4-f1f8-4542-b8e0-07416d1e6c74",
   "metadata": {},
   "outputs": [],
   "source": [
    "# using loop"
   ]
  },
  {
   "cell_type": "code",
   "execution_count": 116,
   "id": "031e3a36-3ea3-4d72-ae28-9751810cf5d7",
   "metadata": {},
   "outputs": [],
   "source": [
    "name = \"RAHul\""
   ]
  },
  {
   "cell_type": "code",
   "execution_count": 118,
   "id": "81791e2f-7ad0-4fe2-ad53-67cea7c6451f",
   "metadata": {},
   "outputs": [
    {
     "name": "stdout",
     "output_type": "stream",
     "text": [
      "r\n",
      "a\n",
      "h\n",
      "u\n",
      "l\n"
     ]
    }
   ],
   "source": [
    "for i in name:\n",
    "    if ord(i) >= 65 and ord(i) <= 90:\n",
    "        asci = ord(i) + 32\n",
    "        print(chr(asci))\n",
    "    else:\n",
    "        print(i)"
   ]
  },
  {
   "cell_type": "code",
   "execution_count": 122,
   "id": "445c5d7f-1a57-41d1-9df7-ddace7ee95c1",
   "metadata": {},
   "outputs": [],
   "source": [
    "name = \"RAHUL\""
   ]
  },
  {
   "cell_type": "code",
   "execution_count": 123,
   "id": "27d4c10a-f12b-4e8d-bbe6-c5b895d7e1eb",
   "metadata": {},
   "outputs": [],
   "source": [
    "new = \"\"\n",
    "for i in name:\n",
    "    # Here we are converting to corresponding small case\n",
    "    if ord(i) >= 65 and ord(i) <= 90:\n",
    "        asci = ord(i) + 32\n",
    "        new += chr(asci)\n",
    "    else:\n",
    "        new += i"
   ]
  },
  {
   "cell_type": "code",
   "execution_count": 124,
   "id": "90bb5233-a073-4ac9-b3f9-75441030de04",
   "metadata": {},
   "outputs": [
    {
     "name": "stdout",
     "output_type": "stream",
     "text": [
      "rahul\n"
     ]
    }
   ],
   "source": [
    "print(new)"
   ]
  },
  {
   "cell_type": "code",
   "execution_count": null,
   "id": "5ae20729-aca2-4a92-ad7e-b3ddad064c5d",
   "metadata": {},
   "outputs": [],
   "source": []
  },
  {
   "cell_type": "code",
   "execution_count": null,
   "id": "3c0834f3-9ad9-424a-b2ca-e0fa233de4d0",
   "metadata": {},
   "outputs": [],
   "source": []
  },
  {
   "cell_type": "code",
   "execution_count": null,
   "id": "4652a8e8-c990-446e-8db7-083f120ae4ce",
   "metadata": {},
   "outputs": [],
   "source": []
  },
  {
   "cell_type": "code",
   "execution_count": 15,
   "id": "3f8532a7-9602-4106-b0b0-784f1e5d0113",
   "metadata": {},
   "outputs": [],
   "source": [
    "# lower and islower"
   ]
  },
  {
   "cell_type": "code",
   "execution_count": 51,
   "id": "52e592a4-c273-4733-a87e-77ff7b5dee3a",
   "metadata": {},
   "outputs": [],
   "source": [
    "# using isupper and islower"
   ]
  },
  {
   "cell_type": "code",
   "execution_count": 125,
   "id": "56c413d9-b7d9-4efd-8a9a-3e2cf90e3272",
   "metadata": {},
   "outputs": [
    {
     "data": {
      "text/plain": [
       "'RAHUL'"
      ]
     },
     "execution_count": 125,
     "metadata": {},
     "output_type": "execute_result"
    }
   ],
   "source": [
    "name"
   ]
  },
  {
   "cell_type": "code",
   "execution_count": 128,
   "id": "691b1187-e360-4ee9-b72d-12c99b308054",
   "metadata": {},
   "outputs": [
    {
     "name": "stdout",
     "output_type": "stream",
     "text": [
      "r\n",
      "a\n",
      "h\n",
      "u\n",
      "l\n"
     ]
    }
   ],
   "source": [
    "for i in name:\n",
    "    if i.isupper():\n",
    "        print(i.lower())"
   ]
  },
  {
   "cell_type": "code",
   "execution_count": null,
   "id": "8c77650d-1e8c-46cc-8e46-cfd7acb7c6b6",
   "metadata": {},
   "outputs": [],
   "source": []
  },
  {
   "cell_type": "code",
   "execution_count": 127,
   "id": "ba4e67a6-67e1-45cd-87b0-a8e60c9d4214",
   "metadata": {},
   "outputs": [
    {
     "data": {
      "text/plain": [
       "'a'"
      ]
     },
     "execution_count": 127,
     "metadata": {},
     "output_type": "execute_result"
    }
   ],
   "source": [
    "\"A\".lower()"
   ]
  },
  {
   "cell_type": "code",
   "execution_count": 52,
   "id": "37ffd702-1592-40fa-b344-0ba84dd93a6e",
   "metadata": {},
   "outputs": [],
   "source": [
    "# lower"
   ]
  },
  {
   "cell_type": "code",
   "execution_count": 129,
   "id": "01d9b706-d130-46e6-b6f8-173c26747bd5",
   "metadata": {},
   "outputs": [
    {
     "data": {
      "text/plain": [
       "'RAHUL'"
      ]
     },
     "execution_count": 129,
     "metadata": {},
     "output_type": "execute_result"
    }
   ],
   "source": [
    "name"
   ]
  },
  {
   "cell_type": "code",
   "execution_count": 130,
   "id": "ffc27cfd-a8d4-4986-b370-999186ea3151",
   "metadata": {},
   "outputs": [
    {
     "name": "stdout",
     "output_type": "stream",
     "text": [
      "rahul\n"
     ]
    }
   ],
   "source": [
    "print(name.lower())"
   ]
  },
  {
   "cell_type": "code",
   "execution_count": null,
   "id": "4975bb86-ff88-44cc-a6e0-b65a51c8039e",
   "metadata": {},
   "outputs": [],
   "source": []
  },
  {
   "cell_type": "code",
   "execution_count": null,
   "id": "23667672-c52e-4823-b49a-f303145ce891",
   "metadata": {},
   "outputs": [],
   "source": []
  },
  {
   "cell_type": "code",
   "execution_count": null,
   "id": "19d6c8ea-bd71-415f-af5d-e26144998c29",
   "metadata": {},
   "outputs": [],
   "source": []
  },
  {
   "cell_type": "code",
   "execution_count": null,
   "id": "19e9f9ef-8d69-4b77-b3f1-9875ee58dfcb",
   "metadata": {},
   "outputs": [],
   "source": []
  },
  {
   "cell_type": "code",
   "execution_count": null,
   "id": "b73da023-9c81-4032-8be1-9700a55ac7ce",
   "metadata": {},
   "outputs": [],
   "source": []
  },
  {
   "cell_type": "markdown",
   "id": "1f355c66-3aec-47fb-ad3a-5c34b130a4e8",
   "metadata": {},
   "source": [
    "## Challenge:\n",
    "Write a program which accepts two strings s1 and s2 and checks if s2 is a substring of s1."
   ]
  },
  {
   "cell_type": "code",
   "execution_count": 17,
   "id": "44cdd4ec-c097-4d38-b2e6-b91d636bb9bc",
   "metadata": {},
   "outputs": [],
   "source": [
    "# in operator"
   ]
  },
  {
   "cell_type": "code",
   "execution_count": 53,
   "id": "6b60d5d6-8e84-40b6-ac55-4e4c147c4f74",
   "metadata": {},
   "outputs": [],
   "source": [
    "# using for loop"
   ]
  },
  {
   "cell_type": "code",
   "execution_count": 131,
   "id": "b75e110b-7e7b-496a-bf23-9b83707dd26b",
   "metadata": {},
   "outputs": [
    {
     "name": "stdin",
     "output_type": "stream",
     "text": [
      " Rahul\n",
      " g\n"
     ]
    }
   ],
   "source": [
    "s1 = input()\n",
    "s2 = input()"
   ]
  },
  {
   "cell_type": "code",
   "execution_count": 132,
   "id": "5270f1d8-494b-4feb-b726-f555ded70d73",
   "metadata": {},
   "outputs": [
    {
     "name": "stdout",
     "output_type": "stream",
     "text": [
      "False\n"
     ]
    }
   ],
   "source": [
    "print(s2 in s1)"
   ]
  },
  {
   "cell_type": "code",
   "execution_count": 136,
   "id": "cf5bbf05-eb38-4779-8a08-d843cf483c14",
   "metadata": {},
   "outputs": [
    {
     "data": {
      "text/plain": [
       "False"
      ]
     },
     "execution_count": 136,
     "metadata": {},
     "output_type": "execute_result"
    }
   ],
   "source": [
    "\"Ra\" in \"rahul\""
   ]
  },
  {
   "cell_type": "code",
   "execution_count": null,
   "id": "23ed57c8-1860-4096-88ff-f83a50c7da4e",
   "metadata": {},
   "outputs": [],
   "source": []
  },
  {
   "cell_type": "code",
   "execution_count": null,
   "id": "75c7ef79-1a70-485f-8f75-e25ca3425c2b",
   "metadata": {},
   "outputs": [],
   "source": []
  },
  {
   "cell_type": "code",
   "execution_count": null,
   "id": "d045b19b-ed48-41a7-928a-8f79b258dc33",
   "metadata": {},
   "outputs": [],
   "source": []
  },
  {
   "cell_type": "code",
   "execution_count": null,
   "id": "d022b13f-2558-40d8-937f-cc5fead53074",
   "metadata": {},
   "outputs": [],
   "source": []
  },
  {
   "cell_type": "code",
   "execution_count": null,
   "id": "0e1e4384-3669-4593-90f7-29bec6295bfd",
   "metadata": {},
   "outputs": [],
   "source": []
  },
  {
   "cell_type": "markdown",
   "id": "50e394aa-c799-41b9-8080-5b6b573b8e7b",
   "metadata": {},
   "source": [
    "#### Challenge\n",
    "Write the code for a Python function expand(x) that takes a list of strings, concatenates them, and returns the resulting string repeated three times.\n",
    "\n",
    "Example 1:\n",
    "\n",
    "Input: ['string1', 'string2']\n",
    "\n",
    "Output: 'string1string2string1string2string1string2'\n",
    "\n",
    "Example 2:\n",
    "\n",
    "Input: ['a', 'b', 'c']\n",
    "\n",
    "Output: 'abcabcabc'"
   ]
  },
  {
   "cell_type": "code",
   "execution_count": 132,
   "id": "a2dc8c93-b2ba-4741-a97c-0650e09811bd",
   "metadata": {},
   "outputs": [],
   "source": [
    "# quiz"
   ]
  },
  {
   "cell_type": "code",
   "execution_count": 54,
   "id": "507a1917-4751-4334-bf60-eadcece07f42",
   "metadata": {},
   "outputs": [],
   "source": [
    "# split?"
   ]
  },
  {
   "cell_type": "code",
   "execution_count": 30,
   "id": "e11ce743-4b67-4d13-9238-5386e45fc787",
   "metadata": {},
   "outputs": [],
   "source": [
    "# using for loop"
   ]
  },
  {
   "cell_type": "code",
   "execution_count": 137,
   "id": "5fbbef33-82d3-4d49-88b3-a4ffeca3c77e",
   "metadata": {},
   "outputs": [
    {
     "name": "stdout",
     "output_type": "stream",
     "text": [
      "['1', '2', '3', '4']\n"
     ]
    }
   ],
   "source": [
    "s = \"1 2 3 4\"\n",
    "print(s.split())"
   ]
  },
  {
   "cell_type": "code",
   "execution_count": null,
   "id": "1b1daf18-af69-4f17-a13a-4d198153f960",
   "metadata": {},
   "outputs": [],
   "source": []
  },
  {
   "cell_type": "code",
   "execution_count": 140,
   "id": "6350d965-d437-4fbc-9cfc-436baed3fb52",
   "metadata": {},
   "outputs": [
    {
     "name": "stdin",
     "output_type": "stream",
     "text": [
      " string1 string2\n"
     ]
    },
    {
     "name": "stdout",
     "output_type": "stream",
     "text": [
      "['string1', 'string2']\n"
     ]
    }
   ],
   "source": [
    "s = input().split()\n",
    "print(s)"
   ]
  },
  {
   "cell_type": "code",
   "execution_count": 144,
   "id": "086a72e0-ba17-488f-8f30-84172202d15b",
   "metadata": {},
   "outputs": [
    {
     "name": "stdout",
     "output_type": "stream",
     "text": [
      "string1string2string1string2string1string2\n"
     ]
    }
   ],
   "source": [
    "new = \"\"\n",
    "for i in s:\n",
    "    new += i\n",
    "print(new*3)"
   ]
  },
  {
   "cell_type": "code",
   "execution_count": null,
   "id": "f01e2955-cd08-466e-8223-4171fc62004d",
   "metadata": {},
   "outputs": [],
   "source": []
  },
  {
   "cell_type": "code",
   "execution_count": null,
   "id": "78f089e2-9270-4962-8edc-f6ac7eaa9a39",
   "metadata": {},
   "outputs": [],
   "source": []
  },
  {
   "cell_type": "code",
   "execution_count": 6,
   "id": "696b0364-5f7c-421b-a207-7c5e4fc7f3b9",
   "metadata": {},
   "outputs": [],
   "source": [
    "# join function"
   ]
  },
  {
   "cell_type": "code",
   "execution_count": 145,
   "id": "7c49d97f-ec48-43d1-8bb7-a5226fa84f82",
   "metadata": {},
   "outputs": [],
   "source": [
    "name = \"Rahul\""
   ]
  },
  {
   "cell_type": "code",
   "execution_count": 147,
   "id": "d529bc26-a236-4367-8642-f1076b7cf279",
   "metadata": {},
   "outputs": [
    {
     "name": "stdout",
     "output_type": "stream",
     "text": [
      "R.a.h.u.l\n"
     ]
    }
   ],
   "source": [
    "print(\".\".join(name))"
   ]
  },
  {
   "cell_type": "code",
   "execution_count": 148,
   "id": "a37dc0da-9f43-426b-a536-c508c5cc81d9",
   "metadata": {},
   "outputs": [
    {
     "name": "stdout",
     "output_type": "stream",
     "text": [
      "R-a-h-u-l\n"
     ]
    }
   ],
   "source": [
    "print(\"-\".join(name))"
   ]
  },
  {
   "cell_type": "code",
   "execution_count": 149,
   "id": "dcc11211-b76f-4d51-8239-b339d10e9e0b",
   "metadata": {},
   "outputs": [
    {
     "name": "stdout",
     "output_type": "stream",
     "text": [
      "Rahul\n"
     ]
    }
   ],
   "source": [
    "print(\"\".join(name))"
   ]
  },
  {
   "cell_type": "code",
   "execution_count": 150,
   "id": "41f41f3e-b770-4e95-8d19-3fc2515c2601",
   "metadata": {},
   "outputs": [
    {
     "data": {
      "text/plain": [
       "['string1', 'string2']"
      ]
     },
     "execution_count": 150,
     "metadata": {},
     "output_type": "execute_result"
    }
   ],
   "source": [
    "s"
   ]
  },
  {
   "cell_type": "code",
   "execution_count": 151,
   "id": "1d952f05-90a8-4dad-9582-435888186c82",
   "metadata": {},
   "outputs": [
    {
     "name": "stdout",
     "output_type": "stream",
     "text": [
      "string1.string2\n"
     ]
    }
   ],
   "source": [
    "print(\".\".join(s))"
   ]
  },
  {
   "cell_type": "code",
   "execution_count": null,
   "id": "02201aae-5c8d-4573-98f6-33c79a1127c2",
   "metadata": {},
   "outputs": [],
   "source": []
  },
  {
   "cell_type": "code",
   "execution_count": 152,
   "id": "a6399117-281e-4790-88bc-73f64f8f7305",
   "metadata": {},
   "outputs": [],
   "source": [
    "# quiz"
   ]
  },
  {
   "cell_type": "code",
   "execution_count": 153,
   "id": "618488b3-b59e-462a-a015-d750dc7309f9",
   "metadata": {},
   "outputs": [
    {
     "name": "stdout",
     "output_type": "stream",
     "text": [
      "string1Rahulstring2\n"
     ]
    }
   ],
   "source": [
    "n = ['string1', 'string2']\n",
    "print(\"Rahul\".join(n))"
   ]
  },
  {
   "cell_type": "code",
   "execution_count": 156,
   "id": "44db3eed-b700-45dd-b044-72592331355b",
   "metadata": {},
   "outputs": [
    {
     "name": "stdout",
     "output_type": "stream",
     "text": [
      "string1string2\n"
     ]
    }
   ],
   "source": [
    "print(\"\".join(n))"
   ]
  },
  {
   "cell_type": "code",
   "execution_count": 155,
   "id": "f358430a-ff2d-4fb2-8276-b49d1b1278d6",
   "metadata": {},
   "outputs": [
    {
     "name": "stdout",
     "output_type": "stream",
     "text": [
      "string1string2string1string2string1string2\n"
     ]
    }
   ],
   "source": [
    "print(\"\".join(n)*3)"
   ]
  },
  {
   "cell_type": "code",
   "execution_count": null,
   "id": "7b803490-06db-4d40-877e-e38ab6d0e162",
   "metadata": {},
   "outputs": [],
   "source": []
  },
  {
   "cell_type": "code",
   "execution_count": null,
   "id": "f240fddd-87f5-4763-a7dd-461d44858ee4",
   "metadata": {},
   "outputs": [],
   "source": []
  },
  {
   "cell_type": "code",
   "execution_count": null,
   "id": "8fd3e859-65aa-4144-a540-58bc186e43ac",
   "metadata": {},
   "outputs": [],
   "source": []
  },
  {
   "cell_type": "code",
   "execution_count": null,
   "id": "4db1b51d-33ea-4b4c-ae43-5ee5a0bddc34",
   "metadata": {},
   "outputs": [],
   "source": []
  },
  {
   "cell_type": "code",
   "execution_count": 157,
   "id": "04cd8227-494a-4e8b-8591-5b45db123bd4",
   "metadata": {},
   "outputs": [],
   "source": [
    "## Check if a string is purely alphabetic?\n",
    "# 1. \"RahulJanghu\"\n",
    "# 2. \"Rahul Janghu\"\n",
    "# 3. \"RahulJanghu01\""
   ]
  },
  {
   "cell_type": "code",
   "execution_count": 158,
   "id": "7755e234-375b-4b44-9eba-a590819c7a35",
   "metadata": {},
   "outputs": [],
   "source": [
    "s = \"RahulJanghu\""
   ]
  },
  {
   "cell_type": "code",
   "execution_count": 159,
   "id": "ca9a53e3-ca51-410f-8fbf-6643598dd3df",
   "metadata": {},
   "outputs": [
    {
     "name": "stdout",
     "output_type": "stream",
     "text": [
      "True\n"
     ]
    }
   ],
   "source": [
    "print(s.isalpha())"
   ]
  },
  {
   "cell_type": "code",
   "execution_count": 160,
   "id": "b60997e7-8cec-4215-95d1-45fe13e77b1f",
   "metadata": {},
   "outputs": [
    {
     "name": "stdout",
     "output_type": "stream",
     "text": [
      "False\n"
     ]
    }
   ],
   "source": [
    "print(\"Rahul Janghu\".isalpha())"
   ]
  },
  {
   "cell_type": "code",
   "execution_count": 161,
   "id": "d0cb5535-7b35-49d7-a722-a5f1f8a6d375",
   "metadata": {},
   "outputs": [
    {
     "name": "stdout",
     "output_type": "stream",
     "text": [
      "False\n"
     ]
    }
   ],
   "source": [
    "print(\"RahulJanghu01\".isalpha())"
   ]
  },
  {
   "cell_type": "code",
   "execution_count": null,
   "id": "52737489-0d62-4844-b04f-921cea826312",
   "metadata": {},
   "outputs": [],
   "source": []
  },
  {
   "cell_type": "code",
   "execution_count": null,
   "id": "41679456-33d8-4d98-af49-ae2187af1952",
   "metadata": {},
   "outputs": [],
   "source": []
  },
  {
   "cell_type": "code",
   "execution_count": null,
   "id": "922801d3-de61-4e77-b559-16dc2bf47aff",
   "metadata": {},
   "outputs": [],
   "source": []
  },
  {
   "cell_type": "code",
   "execution_count": null,
   "id": "e544dfa9-3cc2-41fd-bb5f-5bb03da67db5",
   "metadata": {},
   "outputs": [],
   "source": []
  },
  {
   "cell_type": "code",
   "execution_count": 101,
   "id": "bcd96cc4-7c5e-4b7b-a714-1121d79c1c7d",
   "metadata": {},
   "outputs": [],
   "source": [
    "# join\n",
    "# isalpha\n",
    "# isdigit\n",
    "# islower\n",
    "# isupper\n",
    "# isspace\n",
    "# lower\n",
    "# upper"
   ]
  },
  {
   "cell_type": "code",
   "execution_count": 163,
   "id": "810ea765-e743-4a69-9584-52bd455feb50",
   "metadata": {},
   "outputs": [],
   "source": [
    "# isdigit()"
   ]
  },
  {
   "cell_type": "code",
   "execution_count": 162,
   "id": "6965a22e-8e2f-4c83-8b6f-df26f0868ef2",
   "metadata": {},
   "outputs": [
    {
     "name": "stdout",
     "output_type": "stream",
     "text": [
      "True\n"
     ]
    }
   ],
   "source": [
    "print(\"2\".isdigit())"
   ]
  },
  {
   "cell_type": "code",
   "execution_count": 164,
   "id": "c8a6b6b4-77dd-4078-ab69-18ff2babdf24",
   "metadata": {},
   "outputs": [
    {
     "name": "stdout",
     "output_type": "stream",
     "text": [
      "False\n"
     ]
    }
   ],
   "source": [
    "print(\"2a\".isdigit())"
   ]
  },
  {
   "cell_type": "code",
   "execution_count": null,
   "id": "dc11788a-0cc0-4140-bb2e-8a220e41ceed",
   "metadata": {},
   "outputs": [],
   "source": []
  },
  {
   "cell_type": "code",
   "execution_count": null,
   "id": "603a55ab-c1bf-4c0e-b56a-a59b922a03d1",
   "metadata": {},
   "outputs": [],
   "source": []
  },
  {
   "cell_type": "code",
   "execution_count": 165,
   "id": "c663a0d5-0612-406b-b564-99b6d1e531b6",
   "metadata": {},
   "outputs": [],
   "source": [
    "# isspace()"
   ]
  },
  {
   "cell_type": "code",
   "execution_count": 166,
   "id": "0fe34a5e-56e4-4241-abf1-eb7af39885c7",
   "metadata": {},
   "outputs": [
    {
     "name": "stdout",
     "output_type": "stream",
     "text": [
      "False\n"
     ]
    }
   ],
   "source": [
    "print(\" a\".isspace())"
   ]
  },
  {
   "cell_type": "code",
   "execution_count": 167,
   "id": "bbcbc168-5eee-4f55-b56c-2a54a8f26b8e",
   "metadata": {},
   "outputs": [
    {
     "name": "stdout",
     "output_type": "stream",
     "text": [
      "False\n"
     ]
    }
   ],
   "source": [
    "print(\"\".isspace())"
   ]
  },
  {
   "cell_type": "code",
   "execution_count": 168,
   "id": "72101dc4-1b9c-4ae2-9d46-d5da051f2cd8",
   "metadata": {},
   "outputs": [
    {
     "name": "stdout",
     "output_type": "stream",
     "text": [
      "True\n"
     ]
    }
   ],
   "source": [
    "print(\"  \".isspace())"
   ]
  },
  {
   "cell_type": "code",
   "execution_count": null,
   "id": "5ba4570e-2dec-41c9-a815-f0a323bc4611",
   "metadata": {},
   "outputs": [],
   "source": []
  },
  {
   "cell_type": "markdown",
   "id": "f6eebf89-ac3e-4b88-8554-60b760566862",
   "metadata": {},
   "source": [
    "### Challenge\n",
    "Given a string count number of digits in a string"
   ]
  },
  {
   "cell_type": "code",
   "execution_count": 169,
   "id": "9adcc482-1dae-4cf9-9147-dc233b409f78",
   "metadata": {},
   "outputs": [],
   "source": [
    "s = \"Rah1h2 7 h\""
   ]
  },
  {
   "cell_type": "code",
   "execution_count": 172,
   "id": "3d947032-7681-4190-90ed-822e9bb2b0ad",
   "metadata": {},
   "outputs": [
    {
     "name": "stdout",
     "output_type": "stream",
     "text": [
      "1\n",
      "2\n",
      "7\n"
     ]
    }
   ],
   "source": [
    "for i in s:\n",
    "    # check for digits\n",
    "    if i.isdigit():\n",
    "        print(i)"
   ]
  },
  {
   "cell_type": "code",
   "execution_count": null,
   "id": "164668a8-09b8-4b2f-9759-ce027646e978",
   "metadata": {},
   "outputs": [],
   "source": []
  },
  {
   "cell_type": "code",
   "execution_count": null,
   "id": "8810909d-018f-4d3d-81c1-413a9a054738",
   "metadata": {},
   "outputs": [],
   "source": []
  },
  {
   "cell_type": "code",
   "execution_count": null,
   "id": "68feab9b-57ef-43c0-8981-5df8616b2f25",
   "metadata": {},
   "outputs": [],
   "source": []
  },
  {
   "cell_type": "code",
   "execution_count": null,
   "id": "de0bf1d3-e5e0-4ae5-ab1f-0f2c8d5726fc",
   "metadata": {},
   "outputs": [],
   "source": []
  },
  {
   "cell_type": "code",
   "execution_count": null,
   "id": "cdea888a-6d5d-42ba-85b4-2882737994ab",
   "metadata": {},
   "outputs": [],
   "source": []
  },
  {
   "cell_type": "code",
   "execution_count": null,
   "id": "16aa6640-6e97-45f8-a7af-ca61499c8452",
   "metadata": {},
   "outputs": [],
   "source": []
  },
  {
   "cell_type": "code",
   "execution_count": null,
   "id": "292e06fe-7b25-41cb-b107-2a8029b5dad9",
   "metadata": {},
   "outputs": [],
   "source": []
  },
  {
   "cell_type": "code",
   "execution_count": null,
   "id": "f2278d7e-f42f-4261-abbd-1c83a9639ae3",
   "metadata": {},
   "outputs": [],
   "source": []
  },
  {
   "cell_type": "code",
   "execution_count": null,
   "id": "f9a3b19e-76b8-472c-ac3e-3a86ba8d3caf",
   "metadata": {},
   "outputs": [],
   "source": []
  },
  {
   "cell_type": "code",
   "execution_count": null,
   "id": "8d990e4d-58f9-47d9-952d-6c830b918b23",
   "metadata": {},
   "outputs": [],
   "source": []
  },
  {
   "cell_type": "code",
   "execution_count": null,
   "id": "af4b1974-1a39-4eb6-b0e6-253d9a0a1dca",
   "metadata": {},
   "outputs": [],
   "source": []
  },
  {
   "cell_type": "code",
   "execution_count": null,
   "id": "9a6d54aa-4ff5-43fb-9170-1a4d59817af9",
   "metadata": {},
   "outputs": [],
   "source": []
  },
  {
   "cell_type": "code",
   "execution_count": null,
   "id": "6d62ce6f-e999-4d00-96c3-b980f7011d44",
   "metadata": {},
   "outputs": [],
   "source": []
  },
  {
   "cell_type": "code",
   "execution_count": null,
   "id": "1044b161-fd54-47f4-bbd5-3c15d1739a5a",
   "metadata": {},
   "outputs": [],
   "source": []
  },
  {
   "cell_type": "code",
   "execution_count": null,
   "id": "4209ee32-b1ef-482f-9444-8c86c58c0e32",
   "metadata": {},
   "outputs": [],
   "source": []
  },
  {
   "cell_type": "code",
   "execution_count": null,
   "id": "51f6c963-3956-46cb-b1e0-838be01e5cf7",
   "metadata": {},
   "outputs": [],
   "source": []
  },
  {
   "cell_type": "code",
   "execution_count": null,
   "id": "2cc4667a-c647-42da-8e53-f24ac1bd9759",
   "metadata": {},
   "outputs": [],
   "source": []
  },
  {
   "cell_type": "code",
   "execution_count": null,
   "id": "212d64de-96e0-49d2-ab88-58d73947d016",
   "metadata": {},
   "outputs": [],
   "source": []
  },
  {
   "cell_type": "code",
   "execution_count": null,
   "id": "9d5f22c6-d3ea-4ded-92d7-1e0cc496eedc",
   "metadata": {},
   "outputs": [],
   "source": []
  },
  {
   "cell_type": "code",
   "execution_count": null,
   "id": "db640954-bde8-4fc6-a85d-f17808eaa449",
   "metadata": {},
   "outputs": [],
   "source": []
  },
  {
   "cell_type": "code",
   "execution_count": null,
   "id": "dac5f4c8-685d-4418-80ed-23b93e07a780",
   "metadata": {},
   "outputs": [],
   "source": []
  },
  {
   "cell_type": "code",
   "execution_count": 22,
   "id": "29f31314-27c2-445d-87f0-c1f8d6485555",
   "metadata": {},
   "outputs": [],
   "source": [
    "# More patterns?"
   ]
  },
  {
   "cell_type": "code",
   "execution_count": 34,
   "id": "e16bbe68-a1b2-4984-96b2-ddc724cdadae",
   "metadata": {},
   "outputs": [],
   "source": [
    "#\n",
    "##\n",
    "###\n",
    "####"
   ]
  },
  {
   "cell_type": "code",
   "execution_count": null,
   "id": "104e0604-4e7f-48ec-8cd4-829a346a357a",
   "metadata": {},
   "outputs": [],
   "source": []
  },
  {
   "cell_type": "code",
   "execution_count": null,
   "id": "7a0664af-8c56-441c-9364-b82049bd8c07",
   "metadata": {},
   "outputs": [],
   "source": []
  },
  {
   "cell_type": "code",
   "execution_count": null,
   "id": "5d8cdb69-8058-495d-9586-7ac590fdc2a4",
   "metadata": {},
   "outputs": [],
   "source": []
  },
  {
   "cell_type": "code",
   "execution_count": null,
   "id": "0d39143a-aac2-4f6e-9719-0a9065e16acd",
   "metadata": {},
   "outputs": [],
   "source": []
  },
  {
   "cell_type": "code",
   "execution_count": 35,
   "id": "00fa73da-ba6b-4855-8247-c08ff68e8a7e",
   "metadata": {},
   "outputs": [],
   "source": [
    "####\n",
    "###\n",
    "##\n",
    "#"
   ]
  },
  {
   "cell_type": "code",
   "execution_count": null,
   "id": "8deb8634-c2f7-44fa-978d-472a8fb67869",
   "metadata": {},
   "outputs": [],
   "source": []
  },
  {
   "cell_type": "code",
   "execution_count": null,
   "id": "849143b6-e2fe-4a8e-8e41-a8a1d9a8760b",
   "metadata": {},
   "outputs": [],
   "source": []
  },
  {
   "cell_type": "code",
   "execution_count": null,
   "id": "cb4a1f38-c012-46b0-a1f1-051b8992516b",
   "metadata": {},
   "outputs": [],
   "source": []
  },
  {
   "cell_type": "code",
   "execution_count": null,
   "id": "4df74599-9c03-478e-873c-c393a92c6942",
   "metadata": {},
   "outputs": [],
   "source": []
  },
  {
   "cell_type": "code",
   "execution_count": null,
   "id": "8c51dd05-11cb-42f1-840d-001747385010",
   "metadata": {},
   "outputs": [],
   "source": []
  },
  {
   "cell_type": "code",
   "execution_count": null,
   "id": "998c92c8-c152-48e7-b351-1362e3585c01",
   "metadata": {},
   "outputs": [],
   "source": []
  },
  {
   "cell_type": "code",
   "execution_count": 45,
   "id": "7d28680a-cacf-45a8-9311-978e03ade2be",
   "metadata": {},
   "outputs": [],
   "source": [
    "####\n",
    " ###\n",
    "  ##\n",
    "   #"
   ]
  },
  {
   "cell_type": "code",
   "execution_count": null,
   "id": "f3bc0408-bcd5-4eb6-a879-c9ad10fba04b",
   "metadata": {},
   "outputs": [],
   "source": []
  },
  {
   "cell_type": "code",
   "execution_count": null,
   "id": "cd9c3f6e-0f69-4524-a9e8-122eb751d17c",
   "metadata": {},
   "outputs": [],
   "source": []
  },
  {
   "cell_type": "code",
   "execution_count": null,
   "id": "85e8bc4b-e96c-4138-bc85-5f94b0e03a7f",
   "metadata": {},
   "outputs": [],
   "source": []
  },
  {
   "cell_type": "code",
   "execution_count": null,
   "id": "22474e1e-b21c-4410-8fbc-d64e25591ac2",
   "metadata": {},
   "outputs": [],
   "source": []
  },
  {
   "cell_type": "code",
   "execution_count": null,
   "id": "d1ba038e-d9b1-4ee6-a5de-65a092a17210",
   "metadata": {},
   "outputs": [],
   "source": []
  },
  {
   "cell_type": "code",
   "execution_count": null,
   "id": "783c59f0-9e4b-4951-b143-ca4e1382939d",
   "metadata": {},
   "outputs": [],
   "source": []
  },
  {
   "cell_type": "markdown",
   "id": "d5efe68f-79d3-4219-a8e4-c31e83ea5d97",
   "metadata": {
    "tags": []
   },
   "source": [
    "### List comprehension"
   ]
  },
  {
   "cell_type": "code",
   "execution_count": 50,
   "id": "9ed06cce-5412-4417-8f24-a4d6dd1cffec",
   "metadata": {},
   "outputs": [],
   "source": [
    "# same as"
   ]
  },
  {
   "cell_type": "code",
   "execution_count": null,
   "id": "ed2f873c-2934-418f-943d-c362ac0e872e",
   "metadata": {},
   "outputs": [],
   "source": []
  },
  {
   "cell_type": "code",
   "execution_count": null,
   "id": "15cac907-6ecf-4a7c-aa8e-db5976342d54",
   "metadata": {},
   "outputs": [],
   "source": []
  },
  {
   "cell_type": "code",
   "execution_count": null,
   "id": "4266d509-4ead-4cf4-b112-6b7e1b10dc31",
   "metadata": {},
   "outputs": [],
   "source": []
  },
  {
   "cell_type": "code",
   "execution_count": null,
   "id": "c2d72bd9-8530-483b-b3ea-8463b9038c8b",
   "metadata": {},
   "outputs": [],
   "source": []
  },
  {
   "cell_type": "code",
   "execution_count": null,
   "id": "f5aaa561-c9e7-4d20-8142-b7b49dbe2793",
   "metadata": {},
   "outputs": [],
   "source": []
  },
  {
   "cell_type": "code",
   "execution_count": null,
   "id": "68ad26a9-af3c-4a66-8041-83ba40c71ec9",
   "metadata": {},
   "outputs": [],
   "source": []
  },
  {
   "cell_type": "code",
   "execution_count": 51,
   "id": "5ce7b395-be7d-46de-9790-66fc4997339c",
   "metadata": {},
   "outputs": [],
   "source": [
    "# add square of all numbers from 1 to 10"
   ]
  },
  {
   "cell_type": "code",
   "execution_count": null,
   "id": "d86d5c10-009f-445f-9f60-f26fe430f187",
   "metadata": {},
   "outputs": [],
   "source": []
  },
  {
   "cell_type": "code",
   "execution_count": null,
   "id": "8afe89ba-f246-41f6-9104-ea1cf15f5668",
   "metadata": {},
   "outputs": [],
   "source": []
  },
  {
   "cell_type": "code",
   "execution_count": null,
   "id": "d9acb112-2262-4300-9308-5f64f34a9d38",
   "metadata": {},
   "outputs": [],
   "source": []
  },
  {
   "cell_type": "code",
   "execution_count": null,
   "id": "a03a5c75-db8f-4a2a-b6ba-7e8f20d1add9",
   "metadata": {},
   "outputs": [],
   "source": []
  },
  {
   "cell_type": "code",
   "execution_count": null,
   "id": "d70e0000-440c-4070-a164-9c6f6b35d7f7",
   "metadata": {},
   "outputs": [],
   "source": []
  }
 ],
 "metadata": {
  "kernelspec": {
   "display_name": "Python 3 (ipykernel)",
   "language": "python",
   "name": "python3"
  },
  "language_info": {
   "codemirror_mode": {
    "name": "ipython",
    "version": 3
   },
   "file_extension": ".py",
   "mimetype": "text/x-python",
   "name": "python",
   "nbconvert_exporter": "python",
   "pygments_lexer": "ipython3",
   "version": "3.9.7"
  }
 },
 "nbformat": 4,
 "nbformat_minor": 5
}
