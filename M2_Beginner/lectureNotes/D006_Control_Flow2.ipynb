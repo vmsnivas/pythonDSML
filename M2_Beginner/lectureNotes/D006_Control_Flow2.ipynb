{
 "cells": [
  {
   "cell_type": "markdown",
   "id": "24c100a5-3af8-4bbf-8a04-8b92cac74301",
   "metadata": {},
   "source": [
    "## Conditional Statements\n",
    "- A conditional statement is a Boolean expression that, if True, executes a piece of code."
   ]
  },
  {
   "cell_type": "code",
   "execution_count": 9,
   "id": "73eeda77-4cc2-4f95-b760-a8678cbf028e",
   "metadata": {},
   "outputs": [],
   "source": [
    "# Recap"
   ]
  },
  {
   "cell_type": "code",
   "execution_count": 48,
   "id": "5323c41e-af91-4561-b2c3-b4d70e541e33",
   "metadata": {},
   "outputs": [
    {
     "name": "stdout",
     "output_type": "stream",
     "text": [
      "9\n"
     ]
    }
   ],
   "source": [
    "a = 3\n",
    "a *= 3\n",
    "print(a)"
   ]
  },
  {
   "cell_type": "code",
   "execution_count": null,
   "id": "84a47392-65eb-488c-b671-c1f8f75e090c",
   "metadata": {},
   "outputs": [],
   "source": []
  },
  {
   "cell_type": "code",
   "execution_count": null,
   "id": "b4225eae-59a8-4b5e-bd6d-a59a8e701f30",
   "metadata": {},
   "outputs": [],
   "source": []
  },
  {
   "cell_type": "code",
   "execution_count": null,
   "id": "b86f5001-eb87-45b3-8841-06376883fd8f",
   "metadata": {},
   "outputs": [],
   "source": []
  },
  {
   "cell_type": "code",
   "execution_count": null,
   "id": "5073a6ee-4b71-4e1d-ae00-868d5de3f990",
   "metadata": {},
   "outputs": [],
   "source": []
  },
  {
   "cell_type": "code",
   "execution_count": null,
   "id": "e0c4f78a-8248-4c63-adbe-790ed4604273",
   "metadata": {},
   "outputs": [],
   "source": []
  },
  {
   "cell_type": "code",
   "execution_count": null,
   "id": "236a44ff-0fc5-4321-b33c-1f488a8779ad",
   "metadata": {},
   "outputs": [],
   "source": []
  },
  {
   "cell_type": "code",
   "execution_count": null,
   "id": "8d45222c-e7b4-46e3-b928-2497a810bdf0",
   "metadata": {},
   "outputs": [],
   "source": []
  },
  {
   "cell_type": "code",
   "execution_count": 10,
   "id": "cb5910d9-098c-46b1-82ce-a318b510169e",
   "metadata": {},
   "outputs": [],
   "source": [
    "# Challenge1: Take input a number and tell if it is positive or negative"
   ]
  },
  {
   "cell_type": "code",
   "execution_count": 44,
   "id": "c3e9d5cc-6d57-4959-8297-6d841b4725bc",
   "metadata": {},
   "outputs": [],
   "source": [
    "# Quiz"
   ]
  },
  {
   "cell_type": "code",
   "execution_count": 51,
   "id": "24504d3c-68ef-4e28-b714-2564be110cec",
   "metadata": {},
   "outputs": [
    {
     "name": "stdin",
     "output_type": "stream",
     "text": [
      " 0\n"
     ]
    },
    {
     "name": "stdout",
     "output_type": "stream",
     "text": [
      "Negative\n"
     ]
    }
   ],
   "source": [
    "n = int(input())\n",
    "if n > 0:\n",
    "    print(\"Positive\")\n",
    "else:\n",
    "    print(\"Negative\")"
   ]
  },
  {
   "cell_type": "code",
   "execution_count": null,
   "id": "ddfdd56d-f3fe-44c3-aac7-5d9d2648a5de",
   "metadata": {},
   "outputs": [],
   "source": []
  },
  {
   "cell_type": "code",
   "execution_count": null,
   "id": "de9c18f8-ef22-4991-a129-013bc6689a8c",
   "metadata": {},
   "outputs": [],
   "source": []
  },
  {
   "cell_type": "code",
   "execution_count": null,
   "id": "cc0e86c4-ea3c-4577-9cda-d1ea3e76ed32",
   "metadata": {},
   "outputs": [],
   "source": []
  },
  {
   "cell_type": "code",
   "execution_count": null,
   "id": "16ca9331-09af-410f-8a50-45aa43aa2a08",
   "metadata": {},
   "outputs": [],
   "source": []
  },
  {
   "cell_type": "code",
   "execution_count": null,
   "id": "5f0c71ee-e882-45dd-9bb5-545ea802de7f",
   "metadata": {},
   "outputs": [],
   "source": []
  },
  {
   "cell_type": "code",
   "execution_count": null,
   "id": "4ecbd151-9185-4360-9ff6-ebfde99fd274",
   "metadata": {},
   "outputs": [],
   "source": []
  },
  {
   "cell_type": "code",
   "execution_count": null,
   "id": "4ca14270-0872-4d77-9aee-529cb9dfea7a",
   "metadata": {},
   "outputs": [],
   "source": []
  },
  {
   "cell_type": "code",
   "execution_count": 11,
   "id": "dec1879f-4b4e-434e-88bd-75c449947dd3",
   "metadata": {},
   "outputs": [],
   "source": [
    "# Take input a number and check if a number is divisible by 5"
   ]
  },
  {
   "cell_type": "code",
   "execution_count": 45,
   "id": "9864841d-b413-4471-b8da-4cb4b78ca285",
   "metadata": {},
   "outputs": [],
   "source": [
    "# Quiz"
   ]
  },
  {
   "cell_type": "code",
   "execution_count": 56,
   "id": "250fa651-f139-43e8-84d4-1d4037584490",
   "metadata": {},
   "outputs": [
    {
     "name": "stdin",
     "output_type": "stream",
     "text": [
      " 6314020\n"
     ]
    },
    {
     "name": "stdout",
     "output_type": "stream",
     "text": [
      "Divisible\n"
     ]
    }
   ],
   "source": [
    "n = int(input())\n",
    "\n",
    "if n % 5 == 0:\n",
    "    print(\"Divisible\")\n",
    "else:\n",
    "    print(\"Not divisible\")"
   ]
  },
  {
   "cell_type": "code",
   "execution_count": null,
   "id": "11549027-1575-4f29-bb67-90f77c0ff982",
   "metadata": {},
   "outputs": [],
   "source": []
  },
  {
   "cell_type": "code",
   "execution_count": null,
   "id": "7d7c03d9-153b-41a5-ac80-7776031b4c54",
   "metadata": {},
   "outputs": [],
   "source": []
  },
  {
   "cell_type": "code",
   "execution_count": null,
   "id": "2661058b-2627-4b03-987e-729f0e9a1a1e",
   "metadata": {},
   "outputs": [],
   "source": []
  },
  {
   "cell_type": "code",
   "execution_count": null,
   "id": "f2e0a3b1-6e50-40aa-951a-f415ef56818d",
   "metadata": {},
   "outputs": [],
   "source": []
  },
  {
   "cell_type": "code",
   "execution_count": null,
   "id": "b20a6c76-d0bd-4881-a5ce-d88aed5e1dce",
   "metadata": {},
   "outputs": [],
   "source": []
  },
  {
   "cell_type": "code",
   "execution_count": null,
   "id": "fc2f122d-bc7f-4417-8cde-51592ff2247b",
   "metadata": {},
   "outputs": [],
   "source": []
  },
  {
   "cell_type": "code",
   "execution_count": 12,
   "id": "fbc96427-aaed-4097-a1d9-259d0895486b",
   "metadata": {},
   "outputs": [],
   "source": [
    "# Take input a number and print \"yes\" if it is divisible by either 5 or 7"
   ]
  },
  {
   "cell_type": "code",
   "execution_count": 46,
   "id": "5b64f131-5eaf-4e1c-9a79-f717c5078796",
   "metadata": {},
   "outputs": [],
   "source": [
    "# Quiz"
   ]
  },
  {
   "cell_type": "code",
   "execution_count": 61,
   "id": "90bcbb1c-3054-4088-b2bd-bf2138690808",
   "metadata": {},
   "outputs": [
    {
     "name": "stdin",
     "output_type": "stream",
     "text": [
      " 14\n"
     ]
    },
    {
     "name": "stdout",
     "output_type": "stream",
     "text": [
      "Yes\n"
     ]
    }
   ],
   "source": [
    "n = int(input())\n",
    "\n",
    "if n % 5 == 0 or n % 7 == 0:\n",
    "    print(\"Yes\")\n",
    "else:\n",
    "    print(\"No\")"
   ]
  },
  {
   "cell_type": "code",
   "execution_count": null,
   "id": "111f79f5-4e33-4eff-b1cb-230fb09ea862",
   "metadata": {},
   "outputs": [],
   "source": []
  },
  {
   "cell_type": "code",
   "execution_count": null,
   "id": "d30dc459-6411-40a6-81d6-66dfcce5edf0",
   "metadata": {},
   "outputs": [],
   "source": []
  },
  {
   "cell_type": "code",
   "execution_count": null,
   "id": "17ec4949-dd44-4abf-8279-439f3a9c8460",
   "metadata": {},
   "outputs": [],
   "source": []
  },
  {
   "cell_type": "code",
   "execution_count": null,
   "id": "e210ccb6-1a23-441d-9c59-cb9b56c2bb70",
   "metadata": {},
   "outputs": [],
   "source": []
  },
  {
   "cell_type": "code",
   "execution_count": null,
   "id": "19c42f51-7ffb-418b-adcc-c3ac45ce3537",
   "metadata": {},
   "outputs": [],
   "source": []
  },
  {
   "cell_type": "code",
   "execution_count": null,
   "id": "6de78475-83f1-4829-8b3e-2be50fad25c2",
   "metadata": {},
   "outputs": [],
   "source": []
  },
  {
   "cell_type": "code",
   "execution_count": null,
   "id": "6bed5a34-a2aa-4621-a7e1-d607191980ea",
   "metadata": {},
   "outputs": [],
   "source": []
  },
  {
   "cell_type": "code",
   "execution_count": 13,
   "id": "5030a47d-3221-48ca-94df-d59112137dd1",
   "metadata": {},
   "outputs": [],
   "source": [
    "# Take input a number and print \"yes\" if it is divisible by 5 and 7"
   ]
  },
  {
   "cell_type": "code",
   "execution_count": 62,
   "id": "d0c9bb8a-ef2e-4cff-a03c-d91496f755d2",
   "metadata": {},
   "outputs": [],
   "source": [
    "# Learn how to learn: Free, Author (Barbara Oakley) Coursera"
   ]
  },
  {
   "cell_type": "code",
   "execution_count": 66,
   "id": "5c3ac7a4-52ee-4def-b8b1-5fc3854e74e1",
   "metadata": {},
   "outputs": [
    {
     "name": "stdin",
     "output_type": "stream",
     "text": [
      " 70\n"
     ]
    },
    {
     "name": "stdout",
     "output_type": "stream",
     "text": [
      "yes\n"
     ]
    }
   ],
   "source": [
    "n = int(input())\n",
    "\n",
    "if n % 5 == 0 and n % 7 == 0:\n",
    "    print(\"yes\")\n",
    "else:\n",
    "    print(\"No\")"
   ]
  },
  {
   "cell_type": "code",
   "execution_count": null,
   "id": "a43950fb-d7b6-4f2e-b5b4-402121b0d0bf",
   "metadata": {},
   "outputs": [],
   "source": []
  },
  {
   "cell_type": "code",
   "execution_count": null,
   "id": "3594fa5d-a3c3-4fb8-ace3-2c7ac41012a6",
   "metadata": {},
   "outputs": [],
   "source": []
  },
  {
   "cell_type": "code",
   "execution_count": null,
   "id": "824e7a2b-0987-464a-9760-da3b06dade90",
   "metadata": {},
   "outputs": [],
   "source": []
  },
  {
   "cell_type": "code",
   "execution_count": null,
   "id": "1d5f1859-2b87-44a7-9071-a50c359ee095",
   "metadata": {},
   "outputs": [],
   "source": []
  },
  {
   "cell_type": "code",
   "execution_count": null,
   "id": "d8624584-1a45-4edd-896e-8d016962a182",
   "metadata": {},
   "outputs": [],
   "source": []
  },
  {
   "cell_type": "code",
   "execution_count": null,
   "id": "c8c97bac-7c00-4ff5-8870-10c3c36e9e75",
   "metadata": {},
   "outputs": [],
   "source": []
  },
  {
   "cell_type": "code",
   "execution_count": null,
   "id": "2dc0b596-294e-48f4-909b-ecc12305f6e1",
   "metadata": {},
   "outputs": [],
   "source": []
  },
  {
   "cell_type": "code",
   "execution_count": 47,
   "id": "56e868e3-9c92-440b-8ecc-99967012e8a9",
   "metadata": {},
   "outputs": [],
   "source": [
    "## Challenge: You are given a task to design algorith for Traffic Light"
   ]
  },
  {
   "cell_type": "code",
   "execution_count": 71,
   "id": "1d27dbdc-9390-42f7-82de-ef0f4d828b54",
   "metadata": {},
   "outputs": [
    {
     "name": "stdin",
     "output_type": "stream",
     "text": [
      " green\n"
     ]
    },
    {
     "name": "stdout",
     "output_type": "stream",
     "text": [
      "Grrom grrom go\n"
     ]
    }
   ],
   "source": [
    "color = input()\n",
    "\n",
    "if color == \"red\":\n",
    "    \n",
    "    print(\"Stop\")\n",
    "else:\n",
    "    if color == \"yellow\":\n",
    "        print(\"Wait wait !!\")\n",
    "    else:\n",
    "        if color == \"green\":\n",
    "            print(\"Grrom grrom go\")\n",
    "        else:\n",
    "            print(\"Invalid color\")"
   ]
  },
  {
   "cell_type": "code",
   "execution_count": null,
   "id": "0ff86119-f978-4774-a27f-e526bd222147",
   "metadata": {},
   "outputs": [],
   "source": []
  },
  {
   "cell_type": "code",
   "execution_count": null,
   "id": "9d1096de-72e2-4091-b9a1-3aa620b66409",
   "metadata": {},
   "outputs": [],
   "source": []
  },
  {
   "cell_type": "code",
   "execution_count": null,
   "id": "528ac383-cebc-40d5-8224-bf92308e6dce",
   "metadata": {},
   "outputs": [],
   "source": []
  },
  {
   "cell_type": "code",
   "execution_count": null,
   "id": "7dd40650-5124-439b-b278-c2a5421fb3d8",
   "metadata": {},
   "outputs": [],
   "source": []
  },
  {
   "cell_type": "code",
   "execution_count": null,
   "id": "8f808938-8c81-470b-ba88-12b253d02168",
   "metadata": {},
   "outputs": [],
   "source": []
  },
  {
   "cell_type": "code",
   "execution_count": null,
   "id": "cffef0a6-a4c2-40a1-a91a-98455dbdb99d",
   "metadata": {},
   "outputs": [],
   "source": []
  },
  {
   "cell_type": "code",
   "execution_count": null,
   "id": "729a14ae-1822-4241-8f65-6ec97dde4f5f",
   "metadata": {},
   "outputs": [],
   "source": [
    "# if - elif - else"
   ]
  },
  {
   "cell_type": "markdown",
   "id": "9f38fda2-1173-4073-9fa2-bc5a5a660c69",
   "metadata": {},
   "source": [
    "##### The if-else statement handles two sides of the same condition: True and False. This works very well if we’re working with a problem that only has two outcomes. However, in programming, it isn’t always a True or False scenario, and a problem can have multiple outcomes."
   ]
  },
  {
   "cell_type": "code",
   "execution_count": 35,
   "id": "35a858aa-6322-4fdb-b54f-cb62e56a257e",
   "metadata": {},
   "outputs": [],
   "source": [
    "## Challenge: You are given a task to design algorith for Traffic Light"
   ]
  },
  {
   "cell_type": "code",
   "execution_count": 86,
   "id": "e60b4221-dbc2-4130-af3f-02b0174872f7",
   "metadata": {},
   "outputs": [
    {
     "name": "stdin",
     "output_type": "stream",
     "text": [
      " green\n"
     ]
    },
    {
     "name": "stdout",
     "output_type": "stream",
     "text": [
      "Grrom grrom go\n"
     ]
    }
   ],
   "source": [
    "color = input()\n",
    "\n",
    "if color == \"red\":\n",
    "    print(\"Stop\")\n",
    "elif color == \"yellow\":\n",
    "    print(\"Wait wait !!\")\n",
    "elif color == \"green\":\n",
    "    print(\"Grrom grrom go\")\n",
    "else:\n",
    "    print(\"Invalid color\")"
   ]
  },
  {
   "cell_type": "code",
   "execution_count": null,
   "id": "8483e934-8dad-4122-8bca-bc68edbdd1e5",
   "metadata": {},
   "outputs": [],
   "source": []
  },
  {
   "cell_type": "code",
   "execution_count": null,
   "id": "5fb3d6ca-1d9c-4ec5-9b77-9f10d4f62d2e",
   "metadata": {},
   "outputs": [],
   "source": []
  },
  {
   "cell_type": "code",
   "execution_count": null,
   "id": "04a566c1-6743-4d2b-83e1-3772041af922",
   "metadata": {},
   "outputs": [],
   "source": []
  },
  {
   "cell_type": "code",
   "execution_count": null,
   "id": "6a6073c5-4556-4e1b-b0ef-0628b90f64ad",
   "metadata": {},
   "outputs": [],
   "source": []
  },
  {
   "cell_type": "code",
   "execution_count": null,
   "id": "3051d8e7-6798-4826-b8ce-d30aacb7b6a3",
   "metadata": {},
   "outputs": [],
   "source": []
  },
  {
   "cell_type": "code",
   "execution_count": null,
   "id": "0ba6031a-a0ef-4649-86ea-ec474c717054",
   "metadata": {},
   "outputs": [],
   "source": []
  },
  {
   "cell_type": "code",
   "execution_count": null,
   "id": "785afcb8-33ef-41f2-b33e-648ccf5ad059",
   "metadata": {},
   "outputs": [],
   "source": []
  },
  {
   "cell_type": "code",
   "execution_count": null,
   "id": "2f89df51-8a12-4e14-93d9-644306e94753",
   "metadata": {},
   "outputs": [],
   "source": []
  },
  {
   "cell_type": "markdown",
   "id": "984ec02c-f8d3-4201-9b32-736b1bc66798",
   "metadata": {},
   "source": [
    "#### Fizz Fuzz: Write a program that takes n as input and does the following:\n",
    "- If n is a multiple of 3 print Fizz\n",
    "- If n is a multiple of 5 print Fuzz\n",
    "- If n is multiple of both 5 and 3 then print FizzFuzz"
   ]
  },
  {
   "cell_type": "code",
   "execution_count": 123,
   "id": "f8e465d9-7283-42b3-a4a0-e795ba20ada0",
   "metadata": {},
   "outputs": [
    {
     "name": "stdin",
     "output_type": "stream",
     "text": [
      " 3\n"
     ]
    },
    {
     "name": "stdout",
     "output_type": "stream",
     "text": [
      "Fizz\n"
     ]
    }
   ],
   "source": [
    "n = int(input())\n",
    "\n",
    "if n % 3 == 0 and n % 5 == 0:\n",
    "    print(\"FizzFuzz\")\n",
    "elif n % 5 == 0:\n",
    "    print(\"Fuzz\")\n",
    "elif n % 3 == 0:\n",
    "    print(\"Fizz\")"
   ]
  },
  {
   "cell_type": "code",
   "execution_count": 121,
   "id": "79ee73e8-5cd3-4932-a246-511f3eaa25af",
   "metadata": {},
   "outputs": [
    {
     "name": "stdin",
     "output_type": "stream",
     "text": [
      " 15\n"
     ]
    },
    {
     "name": "stdout",
     "output_type": "stream",
     "text": [
      "Fizz\n"
     ]
    }
   ],
   "source": [
    "n = int(input())\n",
    "\n",
    "if n % 3 == 0:\n",
    "    print(\"Fizz\")\n",
    "elif n % 5 == 0:\n",
    "    print(\"Fuzz\")\n",
    "elif n % 3 == 0 and n % 5 == 0:\n",
    "    print(\"FizzFuzz\")"
   ]
  },
  {
   "cell_type": "code",
   "execution_count": 128,
   "id": "2c9220b9-fc03-46ba-98b6-78f0ce7bdd35",
   "metadata": {},
   "outputs": [
    {
     "name": "stdin",
     "output_type": "stream",
     "text": [
      " 15\n"
     ]
    },
    {
     "name": "stdout",
     "output_type": "stream",
     "text": [
      "FizzFuzz\n"
     ]
    }
   ],
   "source": [
    "n = int(input())\n",
    "\n",
    "if n % 3 == 0 and n % 5 == 0:\n",
    "    print(\"FizzFuzz\")\n",
    "elif n % 5 == 0:\n",
    "    print(\"Fuzz\")\n",
    "elif n % 3 == 0:\n",
    "    print(\"Fizz\")"
   ]
  },
  {
   "cell_type": "code",
   "execution_count": null,
   "id": "5a533099-d161-46a4-8622-5f3c72d2b1d2",
   "metadata": {},
   "outputs": [],
   "source": []
  },
  {
   "cell_type": "code",
   "execution_count": null,
   "id": "dd0047ce-ad18-4f54-8ab5-71c3fbc08ea7",
   "metadata": {},
   "outputs": [],
   "source": []
  },
  {
   "cell_type": "code",
   "execution_count": null,
   "id": "aa4dca81-80d1-486e-822f-fa1c71d79033",
   "metadata": {},
   "outputs": [],
   "source": []
  },
  {
   "cell_type": "code",
   "execution_count": null,
   "id": "ecec55ce-3c00-4231-8949-0012f0ac244f",
   "metadata": {},
   "outputs": [],
   "source": []
  },
  {
   "cell_type": "code",
   "execution_count": null,
   "id": "f869a682-f1e7-4bd7-b0e4-7cffcfea1012",
   "metadata": {},
   "outputs": [],
   "source": []
  },
  {
   "cell_type": "code",
   "execution_count": null,
   "id": "cad2e68c-f57c-4346-ab24-a7f29dc3ec46",
   "metadata": {},
   "outputs": [],
   "source": []
  },
  {
   "cell_type": "code",
   "execution_count": 40,
   "id": "dfad51a0-b2d1-4c93-97a0-f06ef90e2c91",
   "metadata": {},
   "outputs": [],
   "source": [
    "# Take a number user input and check if it is negative, positive or 0"
   ]
  },
  {
   "cell_type": "code",
   "execution_count": 102,
   "id": "ad4d2ad4-9512-4a6c-90b9-7d52da050332",
   "metadata": {},
   "outputs": [
    {
     "name": "stdin",
     "output_type": "stream",
     "text": [
      " -0\n"
     ]
    },
    {
     "name": "stdout",
     "output_type": "stream",
     "text": [
      "Zero\n"
     ]
    }
   ],
   "source": [
    "n = int(input())\n",
    "\n",
    "if n > 0:\n",
    "    print(\"Positive\")\n",
    "elif n == 0:\n",
    "    print(\"Zero\")\n",
    "else:\n",
    "    print(\"Negative\")"
   ]
  },
  {
   "cell_type": "code",
   "execution_count": 103,
   "id": "dad10c97-324a-48e3-a3fd-731bf70dcbfc",
   "metadata": {},
   "outputs": [],
   "source": [
    "# x = 0\n",
    "# x == 0"
   ]
  },
  {
   "cell_type": "code",
   "execution_count": 111,
   "id": "80576c3d-7f0f-4938-bf15-b6636ac42d3f",
   "metadata": {},
   "outputs": [
    {
     "name": "stdout",
     "output_type": "stream",
     "text": [
      "3\n"
     ]
    }
   ],
   "source": [
    "x = 6\n",
    "if x < 5 or x > -1:\n",
    "    x = x - 3\n",
    "else:\n",
    "    x = x - 2\n",
    "print(x)"
   ]
  },
  {
   "cell_type": "code",
   "execution_count": 115,
   "id": "a3511b41-87c8-4fac-936f-ae7d01f50b86",
   "metadata": {},
   "outputs": [
    {
     "name": "stdout",
     "output_type": "stream",
     "text": [
      "True\n"
     ]
    }
   ],
   "source": [
    "x = 6\n",
    "print(x < 5 or x > -1)"
   ]
  },
  {
   "cell_type": "code",
   "execution_count": null,
   "id": "8b347d5a-0426-43fb-b4b4-ab93aedb1389",
   "metadata": {},
   "outputs": [],
   "source": []
  },
  {
   "cell_type": "code",
   "execution_count": 120,
   "id": "5aa3e96d-ffec-41fb-bb28-246dc4bd5a73",
   "metadata": {},
   "outputs": [
    {
     "name": "stdout",
     "output_type": "stream",
     "text": [
      "Machine Learning\n"
     ]
    }
   ],
   "source": [
    "if False:\n",
    "    print(\"Artificial Intelligence\")\n",
    "elif True:\n",
    "    print(\"Machine Learning\")\n",
    "elif True:\n",
    "    print(\"Data Science\")\n",
    "else:\n",
    "    print(\"Deep Learning\") "
   ]
  },
  {
   "cell_type": "code",
   "execution_count": null,
   "id": "4ec33e69-1cb0-400a-b5a4-10ac5cdb3fd2",
   "metadata": {},
   "outputs": [],
   "source": []
  },
  {
   "cell_type": "code",
   "execution_count": null,
   "id": "b8f7d00e-141f-498e-b99e-3e0169ac53bc",
   "metadata": {},
   "outputs": [],
   "source": []
  },
  {
   "cell_type": "code",
   "execution_count": null,
   "id": "79b525a7-a6b2-4239-b086-e159dcf23e6c",
   "metadata": {},
   "outputs": [],
   "source": []
  },
  {
   "cell_type": "code",
   "execution_count": null,
   "id": "00fbc7dd-c435-44b0-b912-fc16b6baed9a",
   "metadata": {},
   "outputs": [],
   "source": []
  },
  {
   "cell_type": "code",
   "execution_count": 1,
   "id": "37aaacb8-8d9e-4bac-a1be-3b58af448176",
   "metadata": {},
   "outputs": [],
   "source": [
    "## Take user input marks and print the grade\n",
    "# A for 90 to 100\n",
    "# B for 80 to 90\n",
    "# C for 70 to 80\n",
    "# D for 60 to 70 \n",
    "# E for less than 60"
   ]
  },
  {
   "cell_type": "code",
   "execution_count": null,
   "id": "f9ef383d-ca15-44ee-b1d2-e8d41ea2a8d1",
   "metadata": {},
   "outputs": [],
   "source": []
  },
  {
   "cell_type": "code",
   "execution_count": 124,
   "id": "1b0e9b6b-af48-4a22-8e40-425e1452ecc9",
   "metadata": {},
   "outputs": [],
   "source": [
    "# slack: Rahul Janghu"
   ]
  },
  {
   "cell_type": "code",
   "execution_count": null,
   "id": "f31f0466-02fb-4e13-92a4-8136167300ac",
   "metadata": {},
   "outputs": [],
   "source": []
  },
  {
   "cell_type": "code",
   "execution_count": null,
   "id": "ed9bd9c0-0a3e-4079-af6a-936b39199e23",
   "metadata": {},
   "outputs": [],
   "source": []
  },
  {
   "cell_type": "code",
   "execution_count": null,
   "id": "9632b995-5b97-4adb-bda8-6f640033d41a",
   "metadata": {},
   "outputs": [],
   "source": []
  },
  {
   "cell_type": "code",
   "execution_count": null,
   "id": "9ea035ad-0a64-41e7-b602-a7a346c251ac",
   "metadata": {},
   "outputs": [],
   "source": []
  },
  {
   "cell_type": "code",
   "execution_count": null,
   "id": "cdfe5263-a42e-49e6-a9a6-0eafd268aa8f",
   "metadata": {},
   "outputs": [],
   "source": []
  },
  {
   "cell_type": "code",
   "execution_count": null,
   "id": "b970ec6d-119c-4404-8e7b-87dfb3d5404d",
   "metadata": {},
   "outputs": [],
   "source": []
  },
  {
   "cell_type": "code",
   "execution_count": null,
   "id": "f53f1124-e8fd-4cfb-ab70-bb1baa6d4c79",
   "metadata": {},
   "outputs": [],
   "source": []
  },
  {
   "cell_type": "code",
   "execution_count": null,
   "id": "c1a296f9-4dbd-4287-8b95-6c91c9d35964",
   "metadata": {},
   "outputs": [],
   "source": []
  },
  {
   "cell_type": "code",
   "execution_count": null,
   "id": "54e3c95a-746c-4c6c-99fb-b698fe2c1ce6",
   "metadata": {},
   "outputs": [],
   "source": []
  },
  {
   "cell_type": "code",
   "execution_count": null,
   "id": "ec40feb3-3e93-47c0-826a-20d1d4a4e2df",
   "metadata": {},
   "outputs": [],
   "source": []
  },
  {
   "cell_type": "code",
   "execution_count": null,
   "id": "823e1ae2-42d0-48e5-8c69-0eeea26a48db",
   "metadata": {},
   "outputs": [],
   "source": []
  }
 ],
 "metadata": {
  "kernelspec": {
   "display_name": "Python 3 (ipykernel)",
   "language": "python",
   "name": "python3"
  },
  "language_info": {
   "codemirror_mode": {
    "name": "ipython",
    "version": 3
   },
   "file_extension": ".py",
   "mimetype": "text/x-python",
   "name": "python",
   "nbconvert_exporter": "python",
   "pygments_lexer": "ipython3",
   "version": "3.9.7"
  }
 },
 "nbformat": 4,
 "nbformat_minor": 5
}
