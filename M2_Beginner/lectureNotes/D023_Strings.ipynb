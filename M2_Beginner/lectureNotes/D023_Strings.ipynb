{
 "cells": [
  {
   "cell_type": "markdown",
   "id": "f6f1f47b-1cc4-4f9b-a8f2-85c9cf68ecaa",
   "metadata": {},
   "source": [
    "# Intro to 'Strings'\n",
    "- Inbuilt Functions:\n",
    "- len\n",
    "- capitalize\n",
    "- title\n",
    "- count\n",
    "- replace\n",
    "- split"
   ]
  },
  {
   "cell_type": "code",
   "execution_count": null,
   "id": "f87c52ce-01fa-44dc-9eb3-d20abae29547",
   "metadata": {},
   "outputs": [],
   "source": [
    "# Quiz"
   ]
  },
  {
   "cell_type": "code",
   "execution_count": 18,
   "id": "fe02227f-ad72-4efb-9a44-ca6982dd3d29",
   "metadata": {},
   "outputs": [],
   "source": [
    "# ord function prints corresponding int value"
   ]
  },
  {
   "cell_type": "code",
   "execution_count": 17,
   "id": "4d1e3eeb-5548-4cf2-a52d-9d00f5a69593",
   "metadata": {},
   "outputs": [
    {
     "data": {
      "text/plain": [
       "97"
      ]
     },
     "execution_count": 17,
     "metadata": {},
     "output_type": "execute_result"
    }
   ],
   "source": [
    "ord('a')"
   ]
  },
  {
   "cell_type": "code",
   "execution_count": 19,
   "id": "7b6caed0-c26a-4201-9376-0ee7e9675f10",
   "metadata": {},
   "outputs": [
    {
     "data": {
      "text/plain": [
       "121"
      ]
     },
     "execution_count": 19,
     "metadata": {},
     "output_type": "execute_result"
    }
   ],
   "source": [
    "ord('y')"
   ]
  },
  {
   "cell_type": "code",
   "execution_count": 20,
   "id": "e49fae86-6cd1-4916-8364-43842f20a1e2",
   "metadata": {},
   "outputs": [
    {
     "data": {
      "text/plain": [
       "122"
      ]
     },
     "execution_count": 20,
     "metadata": {},
     "output_type": "execute_result"
    }
   ],
   "source": [
    "ord('z')"
   ]
  },
  {
   "cell_type": "code",
   "execution_count": 21,
   "id": "205e5c12-ecb9-47f3-8f91-990edef12bd9",
   "metadata": {},
   "outputs": [
    {
     "data": {
      "text/plain": [
       "65"
      ]
     },
     "execution_count": 21,
     "metadata": {},
     "output_type": "execute_result"
    }
   ],
   "source": [
    "ord('A')"
   ]
  },
  {
   "cell_type": "code",
   "execution_count": 22,
   "id": "d0c68e10-5f55-4449-9e66-ffe0d0eb3a8d",
   "metadata": {},
   "outputs": [
    {
     "data": {
      "text/plain": [
       "90"
      ]
     },
     "execution_count": 22,
     "metadata": {},
     "output_type": "execute_result"
    }
   ],
   "source": [
    "ord('Z')"
   ]
  },
  {
   "cell_type": "code",
   "execution_count": 25,
   "id": "1e5a61b1-3522-4db7-a232-cb403c8404f5",
   "metadata": {},
   "outputs": [],
   "source": [
    "# chr function is used to get the character value associated with integer"
   ]
  },
  {
   "cell_type": "code",
   "execution_count": 23,
   "id": "441f2a72-861a-4445-a021-729e0cc42661",
   "metadata": {},
   "outputs": [
    {
     "data": {
      "text/plain": [
       "'a'"
      ]
     },
     "execution_count": 23,
     "metadata": {},
     "output_type": "execute_result"
    }
   ],
   "source": [
    "chr(97)"
   ]
  },
  {
   "cell_type": "code",
   "execution_count": 24,
   "id": "2e488aa6-a0c3-4633-966d-2361438537fd",
   "metadata": {},
   "outputs": [
    {
     "data": {
      "text/plain": [
       "'A'"
      ]
     },
     "execution_count": 24,
     "metadata": {},
     "output_type": "execute_result"
    }
   ],
   "source": [
    "chr(65)"
   ]
  },
  {
   "cell_type": "code",
   "execution_count": null,
   "id": "62c28646-a912-42b1-b2cf-a5b47f6b0af8",
   "metadata": {},
   "outputs": [],
   "source": []
  },
  {
   "cell_type": "code",
   "execution_count": null,
   "id": "dcdf5de1-d504-4f4b-9e93-85d5d17e1437",
   "metadata": {},
   "outputs": [],
   "source": []
  },
  {
   "cell_type": "code",
   "execution_count": null,
   "id": "9c8315ce-22a0-4475-b2b5-fce3cc872e5c",
   "metadata": {},
   "outputs": [],
   "source": []
  },
  {
   "cell_type": "code",
   "execution_count": null,
   "id": "0468fa26-1caf-49c2-8c57-a3bcdd695ae3",
   "metadata": {},
   "outputs": [],
   "source": [
    "# len"
   ]
  },
  {
   "cell_type": "code",
   "execution_count": null,
   "id": "224d80f7-10d6-499f-9a93-b48d03e3920c",
   "metadata": {},
   "outputs": [],
   "source": [
    "# quiz"
   ]
  },
  {
   "cell_type": "code",
   "execution_count": 26,
   "id": "0978827a-f896-41f0-9c86-e67a4e33d0b0",
   "metadata": {},
   "outputs": [],
   "source": [
    "s = \"Rahul Janghu\""
   ]
  },
  {
   "cell_type": "code",
   "execution_count": 29,
   "id": "369ec32d-dadc-4237-9989-9f239338100f",
   "metadata": {},
   "outputs": [],
   "source": [
    "s = \"rahul janghu\""
   ]
  },
  {
   "cell_type": "code",
   "execution_count": 30,
   "id": "26cd8703-7b1f-4e7d-8565-1908082cd009",
   "metadata": {},
   "outputs": [
    {
     "data": {
      "text/plain": [
       "12"
      ]
     },
     "execution_count": 30,
     "metadata": {},
     "output_type": "execute_result"
    }
   ],
   "source": [
    "len(s)"
   ]
  },
  {
   "cell_type": "code",
   "execution_count": 28,
   "id": "c8425069-9548-4b6b-be17-a03f61462313",
   "metadata": {},
   "outputs": [],
   "source": [
    "# white spaces are also included"
   ]
  },
  {
   "cell_type": "code",
   "execution_count": null,
   "id": "e38d8133-16d1-4cbe-81a7-30e45b66baeb",
   "metadata": {},
   "outputs": [],
   "source": []
  },
  {
   "cell_type": "code",
   "execution_count": null,
   "id": "ae576d49-f423-418c-9bbc-a6efd4ab25a4",
   "metadata": {},
   "outputs": [],
   "source": []
  },
  {
   "cell_type": "code",
   "execution_count": null,
   "id": "926addca-4d69-45ae-a13d-98433c1a7dab",
   "metadata": {},
   "outputs": [],
   "source": [
    "# capitalize"
   ]
  },
  {
   "cell_type": "code",
   "execution_count": 31,
   "id": "7938c432-3a76-4953-8afc-c2548b05f59c",
   "metadata": {},
   "outputs": [
    {
     "data": {
      "text/plain": [
       "'rahul janghu'"
      ]
     },
     "execution_count": 31,
     "metadata": {},
     "output_type": "execute_result"
    }
   ],
   "source": [
    "s"
   ]
  },
  {
   "cell_type": "code",
   "execution_count": 32,
   "id": "3fbdb52d-9431-4f25-8893-e76acb8272af",
   "metadata": {},
   "outputs": [
    {
     "data": {
      "text/plain": [
       "'Rahul janghu'"
      ]
     },
     "execution_count": 32,
     "metadata": {},
     "output_type": "execute_result"
    }
   ],
   "source": [
    "s.capitalize()"
   ]
  },
  {
   "cell_type": "code",
   "execution_count": null,
   "id": "d9955b29-4cb6-4907-963d-ebca8a68c83c",
   "metadata": {},
   "outputs": [],
   "source": []
  },
  {
   "cell_type": "code",
   "execution_count": null,
   "id": "f2916dfa-38bb-4cda-b1b1-229b15537c43",
   "metadata": {},
   "outputs": [],
   "source": []
  },
  {
   "cell_type": "code",
   "execution_count": null,
   "id": "e3ec781f-9bef-45de-aadd-862808e7be6d",
   "metadata": {},
   "outputs": [],
   "source": []
  },
  {
   "cell_type": "code",
   "execution_count": null,
   "id": "20a710f7-a898-4344-ab07-0658253b00ef",
   "metadata": {},
   "outputs": [],
   "source": [
    "# title"
   ]
  },
  {
   "cell_type": "code",
   "execution_count": 33,
   "id": "16c49268-fed2-4d52-883c-6188259dfa28",
   "metadata": {},
   "outputs": [
    {
     "data": {
      "text/plain": [
       "'rahul janghu'"
      ]
     },
     "execution_count": 33,
     "metadata": {},
     "output_type": "execute_result"
    }
   ],
   "source": [
    "s"
   ]
  },
  {
   "cell_type": "code",
   "execution_count": 34,
   "id": "b7657993-6a58-4902-abfb-e62fceb21c77",
   "metadata": {},
   "outputs": [
    {
     "data": {
      "text/plain": [
       "'Rahul Janghu'"
      ]
     },
     "execution_count": 34,
     "metadata": {},
     "output_type": "execute_result"
    }
   ],
   "source": [
    "s.title()"
   ]
  },
  {
   "cell_type": "code",
   "execution_count": null,
   "id": "62c0acfc-2ee3-4cd4-8490-c1d1b03df815",
   "metadata": {},
   "outputs": [],
   "source": []
  },
  {
   "cell_type": "code",
   "execution_count": null,
   "id": "6eba3a6a-761f-467f-8373-2da639f4aa7a",
   "metadata": {},
   "outputs": [],
   "source": []
  },
  {
   "cell_type": "code",
   "execution_count": null,
   "id": "11f98747-e0fe-42c5-8486-8bb5f6ec6a23",
   "metadata": {},
   "outputs": [],
   "source": []
  },
  {
   "cell_type": "code",
   "execution_count": null,
   "id": "672e7799-f617-4132-8c67-5d181d30706e",
   "metadata": {},
   "outputs": [],
   "source": [
    "# count"
   ]
  },
  {
   "cell_type": "code",
   "execution_count": null,
   "id": "57490308-3a90-452a-815d-423b89a3f587",
   "metadata": {},
   "outputs": [],
   "source": [
    "# quiz"
   ]
  },
  {
   "cell_type": "code",
   "execution_count": 35,
   "id": "8c479383-4c54-4450-a3b1-85b59934dfd0",
   "metadata": {},
   "outputs": [
    {
     "data": {
      "text/plain": [
       "'rahul janghu'"
      ]
     },
     "execution_count": 35,
     "metadata": {},
     "output_type": "execute_result"
    }
   ],
   "source": [
    "s"
   ]
  },
  {
   "cell_type": "code",
   "execution_count": 36,
   "id": "ff0189a3-d9f9-41b4-9410-6ea734f47848",
   "metadata": {},
   "outputs": [
    {
     "data": {
      "text/plain": [
       "0"
      ]
     },
     "execution_count": 36,
     "metadata": {},
     "output_type": "execute_result"
    }
   ],
   "source": [
    "s.count('A')"
   ]
  },
  {
   "cell_type": "code",
   "execution_count": 37,
   "id": "1b20537e-63e9-43cc-b10f-2aaeec611419",
   "metadata": {},
   "outputs": [
    {
     "data": {
      "text/plain": [
       "2"
      ]
     },
     "execution_count": 37,
     "metadata": {},
     "output_type": "execute_result"
    }
   ],
   "source": [
    "s.count('a')"
   ]
  },
  {
   "cell_type": "code",
   "execution_count": null,
   "id": "8d163259-bad7-4a6d-98ad-0185ff6e0fd6",
   "metadata": {},
   "outputs": [],
   "source": []
  },
  {
   "cell_type": "code",
   "execution_count": null,
   "id": "5f433407-0ae0-4b45-ba3b-2f06bc59a724",
   "metadata": {},
   "outputs": [],
   "source": []
  },
  {
   "cell_type": "code",
   "execution_count": 64,
   "id": "859b37d4-a88e-4ec3-b1a0-493a6358375f",
   "metadata": {},
   "outputs": [],
   "source": [
    "# replace"
   ]
  },
  {
   "cell_type": "code",
   "execution_count": 60,
   "id": "eb1f9f56-05bb-4296-a5a8-74b1bc894301",
   "metadata": {},
   "outputs": [],
   "source": [
    "# replace(old, new)"
   ]
  },
  {
   "cell_type": "code",
   "execution_count": 42,
   "id": "8bc452d5-3652-428c-af1f-bbcdd2c20d3e",
   "metadata": {},
   "outputs": [],
   "source": [
    "s = 'rahul janghu'"
   ]
  },
  {
   "cell_type": "code",
   "execution_count": 43,
   "id": "d10594b1-a112-4390-b326-a10f16e0a2c5",
   "metadata": {},
   "outputs": [
    {
     "name": "stdout",
     "output_type": "stream",
     "text": [
      "140659669759280\n"
     ]
    }
   ],
   "source": [
    "print(id(s))"
   ]
  },
  {
   "cell_type": "code",
   "execution_count": 46,
   "id": "bc214a92-6eed-4027-9809-d7ff803d4e6f",
   "metadata": {},
   "outputs": [],
   "source": [
    "s = s.replace('a', 'A')"
   ]
  },
  {
   "cell_type": "code",
   "execution_count": 47,
   "id": "1c306a4e-1efb-482e-9cc8-beeee87f4b7b",
   "metadata": {},
   "outputs": [
    {
     "data": {
      "text/plain": [
       "'rAhul jAnghu'"
      ]
     },
     "execution_count": 47,
     "metadata": {},
     "output_type": "execute_result"
    }
   ],
   "source": [
    "s"
   ]
  },
  {
   "cell_type": "code",
   "execution_count": 48,
   "id": "d0fd271d-e8d0-453f-aa0d-8db4512ff6b9",
   "metadata": {},
   "outputs": [
    {
     "name": "stdout",
     "output_type": "stream",
     "text": [
      "140659667461936\n"
     ]
    }
   ],
   "source": [
    "print(id(s))"
   ]
  },
  {
   "cell_type": "code",
   "execution_count": 49,
   "id": "05edf774-d2d4-4865-9261-7de0935fc1b1",
   "metadata": {},
   "outputs": [],
   "source": [
    "# This is power of immutability"
   ]
  },
  {
   "cell_type": "code",
   "execution_count": 59,
   "id": "2816e3f0-cf16-4b5f-9abb-75aac6739603",
   "metadata": {},
   "outputs": [
    {
     "data": {
      "text/plain": [
       "'Rahul janghu'"
      ]
     },
     "execution_count": 59,
     "metadata": {},
     "output_type": "execute_result"
    }
   ],
   "source": [
    "s.replace('ra', 'Ra')"
   ]
  },
  {
   "cell_type": "code",
   "execution_count": null,
   "id": "ef92bc27-8080-471f-8281-44c693d0c91b",
   "metadata": {},
   "outputs": [],
   "source": []
  },
  {
   "cell_type": "code",
   "execution_count": null,
   "id": "ee1f5e1c-6522-43db-9e36-88d6aa3c5b63",
   "metadata": {},
   "outputs": [],
   "source": []
  },
  {
   "cell_type": "code",
   "execution_count": null,
   "id": "b53cd7a6-965e-4fc1-b07e-5c66d79f836b",
   "metadata": {},
   "outputs": [],
   "source": []
  },
  {
   "cell_type": "code",
   "execution_count": 68,
   "id": "e5a7f415-5a32-4b0e-93b7-a91b2023188b",
   "metadata": {},
   "outputs": [],
   "source": [
    "# split"
   ]
  },
  {
   "cell_type": "code",
   "execution_count": 50,
   "id": "f69fd32b-26df-44c0-acb2-beb31ffccab9",
   "metadata": {},
   "outputs": [],
   "source": [
    "s = 'rahul janghu'"
   ]
  },
  {
   "cell_type": "code",
   "execution_count": 52,
   "id": "2f48f101-0a30-4aec-afac-e7d084ecfee5",
   "metadata": {},
   "outputs": [],
   "source": [
    "li = s.split()"
   ]
  },
  {
   "cell_type": "code",
   "execution_count": 54,
   "id": "2d845d48-fcad-4275-9637-e5cdfd96d596",
   "metadata": {},
   "outputs": [
    {
     "name": "stdout",
     "output_type": "stream",
     "text": [
      "['rahul', 'janghu'] <class 'list'>\n"
     ]
    }
   ],
   "source": [
    "print(li, type(li))"
   ]
  },
  {
   "cell_type": "code",
   "execution_count": 55,
   "id": "3e170f47-e49a-4b6c-977c-4d255be80f49",
   "metadata": {},
   "outputs": [],
   "source": [
    "# by default split breaks around spaces"
   ]
  },
  {
   "cell_type": "code",
   "execution_count": 57,
   "id": "7168385d-4ac9-4daf-884f-d91cbb8d3f83",
   "metadata": {},
   "outputs": [],
   "source": [
    "# s.split?"
   ]
  },
  {
   "cell_type": "code",
   "execution_count": 61,
   "id": "0d2f6720-106a-46d4-8dfa-cf444653e3eb",
   "metadata": {},
   "outputs": [
    {
     "data": {
      "text/plain": [
       "'rahul janghu'"
      ]
     },
     "execution_count": 61,
     "metadata": {},
     "output_type": "execute_result"
    }
   ],
   "source": [
    "s"
   ]
  },
  {
   "cell_type": "code",
   "execution_count": 62,
   "id": "f6930dc8-ea58-40bd-9df5-48f97bbcf574",
   "metadata": {},
   "outputs": [
    {
     "data": {
      "text/plain": [
       "['r', 'hul j', 'nghu']"
      ]
     },
     "execution_count": 62,
     "metadata": {},
     "output_type": "execute_result"
    }
   ],
   "source": [
    "s.split('a')"
   ]
  },
  {
   "cell_type": "code",
   "execution_count": 63,
   "id": "4b8e8155-53d1-4724-bb39-fbbf3618bf26",
   "metadata": {},
   "outputs": [
    {
     "data": {
      "text/plain": [
       "['rahul janghu']"
      ]
     },
     "execution_count": 63,
     "metadata": {},
     "output_type": "execute_result"
    }
   ],
   "source": [
    "s.split('A')"
   ]
  },
  {
   "cell_type": "code",
   "execution_count": 64,
   "id": "03d3fa26-55ea-424c-b203-7ff8b1586226",
   "metadata": {},
   "outputs": [],
   "source": [
    "i = '2 3 4 5 6'"
   ]
  },
  {
   "cell_type": "code",
   "execution_count": 65,
   "id": "a3c7add4-b8fe-435a-80d9-4dd5bde60740",
   "metadata": {},
   "outputs": [
    {
     "data": {
      "text/plain": [
       "['2', '3', '4', '5', '6']"
      ]
     },
     "execution_count": 65,
     "metadata": {},
     "output_type": "execute_result"
    }
   ],
   "source": [
    "i.split()"
   ]
  },
  {
   "cell_type": "code",
   "execution_count": null,
   "id": "d12eb5c1-1364-40d2-8f77-600af3cd4bf0",
   "metadata": {},
   "outputs": [],
   "source": []
  },
  {
   "cell_type": "code",
   "execution_count": null,
   "id": "c9feb3e5-fea8-4e07-a56a-21301bfa0d72",
   "metadata": {},
   "outputs": [],
   "source": []
  },
  {
   "cell_type": "code",
   "execution_count": null,
   "id": "73e02d5f-215b-4651-8a95-29fd4775044f",
   "metadata": {},
   "outputs": [],
   "source": []
  },
  {
   "cell_type": "markdown",
   "id": "2bbc2a8c-4a6d-46bf-8e5c-14f7f5f1e5ef",
   "metadata": {},
   "source": [
    "# Challenge: Warmup \n",
    "- Given a string as input, print it 3 times without any space. (can't use a loop)\n",
    "- Input: \"India\"\n",
    "- Ouput: \"IndiaIndiaIndia\""
   ]
  },
  {
   "cell_type": "code",
   "execution_count": 8,
   "id": "b7d3698d-fd13-43f2-af6a-d43171124cfd",
   "metadata": {},
   "outputs": [],
   "source": [
    "# String concatenation"
   ]
  },
  {
   "cell_type": "code",
   "execution_count": 9,
   "id": "05c7eecc-d04e-432a-828a-1635a462f27a",
   "metadata": {},
   "outputs": [],
   "source": [
    "# +, * "
   ]
  },
  {
   "cell_type": "code",
   "execution_count": 69,
   "id": "0935feac-6597-47ff-bb23-b7a8969ab112",
   "metadata": {},
   "outputs": [
    {
     "name": "stdin",
     "output_type": "stream",
     "text": [
      " India\n",
      " 3\n"
     ]
    }
   ],
   "source": [
    "country = input()\n",
    "n = int(input())"
   ]
  },
  {
   "cell_type": "code",
   "execution_count": 71,
   "id": "b1895c0c-6417-4d2c-b16e-08784608a5b5",
   "metadata": {},
   "outputs": [
    {
     "name": "stdout",
     "output_type": "stream",
     "text": [
      "IndiaIndiaIndia\n"
     ]
    }
   ],
   "source": [
    "print(country * n)"
   ]
  },
  {
   "cell_type": "code",
   "execution_count": null,
   "id": "2de51c6d-573d-44ae-b05e-7803d2b20188",
   "metadata": {},
   "outputs": [],
   "source": []
  },
  {
   "cell_type": "code",
   "execution_count": 67,
   "id": "5d46fb66-5202-46f2-a58d-3d6df6d75fc9",
   "metadata": {},
   "outputs": [
    {
     "name": "stdout",
     "output_type": "stream",
     "text": [
      "India\n"
     ]
    }
   ],
   "source": [
    "print(country)"
   ]
  },
  {
   "cell_type": "code",
   "execution_count": 68,
   "id": "72bb0e83-0135-4c43-a4a8-645b6599f67b",
   "metadata": {},
   "outputs": [
    {
     "data": {
      "text/plain": [
       "'rahulrahulrahul'"
      ]
     },
     "execution_count": 68,
     "metadata": {},
     "output_type": "execute_result"
    }
   ],
   "source": [
    "\"rahul\" + \"rahul\" + \"rahul\""
   ]
  },
  {
   "cell_type": "code",
   "execution_count": null,
   "id": "8535e8f4-2a14-4506-b846-c0c82b4c358d",
   "metadata": {},
   "outputs": [],
   "source": []
  },
  {
   "cell_type": "code",
   "execution_count": 72,
   "id": "598a32da-f9d4-429e-90dc-8aeccd654207",
   "metadata": {},
   "outputs": [],
   "source": [
    "# Quiz"
   ]
  },
  {
   "cell_type": "code",
   "execution_count": 73,
   "id": "ab09c9e0-1a1f-4b6e-8abb-086062c60786",
   "metadata": {},
   "outputs": [
    {
     "name": "stdout",
     "output_type": "stream",
     "text": [
      "21\n"
     ]
    }
   ],
   "source": [
    "city = \"Phoenix\"\n",
    "print(len(city*3))"
   ]
  },
  {
   "cell_type": "code",
   "execution_count": 74,
   "id": "30f81453-b154-4ee4-a759-625e61972895",
   "metadata": {},
   "outputs": [
    {
     "data": {
      "text/plain": [
       "'PhoenixPhoenixPhoenix'"
      ]
     },
     "execution_count": 74,
     "metadata": {},
     "output_type": "execute_result"
    }
   ],
   "source": [
    "city*3"
   ]
  },
  {
   "cell_type": "code",
   "execution_count": null,
   "id": "767bef6d-e6d7-4693-a22c-509ced35ac9f",
   "metadata": {},
   "outputs": [],
   "source": []
  },
  {
   "cell_type": "code",
   "execution_count": null,
   "id": "87e93de3-389e-4e1f-8077-7357d700820e",
   "metadata": {},
   "outputs": [],
   "source": []
  },
  {
   "cell_type": "markdown",
   "id": "1c6c76cd-d4ed-40a3-9896-21b85e319fc4",
   "metadata": {},
   "source": [
    "## Challenge 1:\n",
    "- Take a string as input and print all the characters in a newline.\n",
    "- Input: \"India\"\n",
    "- Output:\n",
    "- I\n",
    "- n\n",
    "- d\n",
    "- i\n",
    "- a"
   ]
  },
  {
   "cell_type": "code",
   "execution_count": 75,
   "id": "e3a2230b-407b-4833-bdee-97e4843b37db",
   "metadata": {},
   "outputs": [],
   "source": [
    "# strings are iterable"
   ]
  },
  {
   "cell_type": "code",
   "execution_count": 76,
   "id": "66875526-14b0-49cc-beb2-79637f038d87",
   "metadata": {},
   "outputs": [
    {
     "name": "stdin",
     "output_type": "stream",
     "text": [
      " India\n"
     ]
    },
    {
     "name": "stdout",
     "output_type": "stream",
     "text": [
      "I\n",
      "n\n",
      "d\n",
      "i\n",
      "a\n"
     ]
    }
   ],
   "source": [
    "country = input()\n",
    "for i in country:\n",
    "    print(i)"
   ]
  },
  {
   "cell_type": "code",
   "execution_count": 77,
   "id": "c33ce42b-7723-4c4d-91db-70bd4c54a74c",
   "metadata": {},
   "outputs": [
    {
     "name": "stdout",
     "output_type": "stream",
     "text": [
      "I n d i a "
     ]
    }
   ],
   "source": [
    "for i in country:\n",
    "    print(i, end=\" \")"
   ]
  },
  {
   "cell_type": "code",
   "execution_count": 82,
   "id": "07ed7cfe-b879-4d50-b084-2ba787ca0cbf",
   "metadata": {},
   "outputs": [
    {
     "name": "stdout",
     "output_type": "stream",
     "text": [
      "IndiaIndiaIndiaIndiaIndia"
     ]
    }
   ],
   "source": [
    "for i in range(len(country)):\n",
    "    print(country, end=\"\")"
   ]
  },
  {
   "cell_type": "code",
   "execution_count": null,
   "id": "ca0528d7-40e6-4fda-a135-562f2f01c4d1",
   "metadata": {},
   "outputs": [],
   "source": []
  },
  {
   "cell_type": "code",
   "execution_count": null,
   "id": "25836a98-0999-48fd-8941-2da6c038a761",
   "metadata": {},
   "outputs": [],
   "source": []
  },
  {
   "cell_type": "code",
   "execution_count": null,
   "id": "139de03c-98c5-49ae-93e2-dae9f008ed5c",
   "metadata": {},
   "outputs": [],
   "source": []
  },
  {
   "cell_type": "code",
   "execution_count": null,
   "id": "68fef4ad-4e2c-49ba-82ac-b5e53ff7612e",
   "metadata": {},
   "outputs": [],
   "source": []
  },
  {
   "cell_type": "code",
   "execution_count": null,
   "id": "9bd54e27-3a96-4fde-a8fa-c6e531fca6e1",
   "metadata": {},
   "outputs": [],
   "source": []
  },
  {
   "cell_type": "markdown",
   "id": "f234bf7c-d257-419b-8c68-253528fc13d4",
   "metadata": {},
   "source": [
    "## Challenge 2:\n",
    "- Given a string as input, print the first and the last character of the string.\n",
    "- Input: \"India\"\n",
    "- Output:\n",
    "- I\n",
    "- a"
   ]
  },
  {
   "cell_type": "code",
   "execution_count": null,
   "id": "12937d19-364c-4200-acc7-85056abf9060",
   "metadata": {},
   "outputs": [],
   "source": [
    "# Indexing"
   ]
  },
  {
   "cell_type": "code",
   "execution_count": 83,
   "id": "c5f3df61-290f-437b-8895-3310ad283437",
   "metadata": {},
   "outputs": [
    {
     "data": {
      "text/plain": [
       "'India'"
      ]
     },
     "execution_count": 83,
     "metadata": {},
     "output_type": "execute_result"
    }
   ],
   "source": [
    "country"
   ]
  },
  {
   "cell_type": "code",
   "execution_count": 86,
   "id": "96d8d2bd-ae94-4ad4-a3e6-db9e0e59fe15",
   "metadata": {},
   "outputs": [
    {
     "name": "stdout",
     "output_type": "stream",
     "text": [
      "I\n",
      "a\n"
     ]
    }
   ],
   "source": [
    "print(country[0])\n",
    "print(country[-1])"
   ]
  },
  {
   "cell_type": "code",
   "execution_count": 87,
   "id": "85246f70-9cca-4b50-ac5d-79d51b91f214",
   "metadata": {},
   "outputs": [
    {
     "data": {
      "text/plain": [
       "'a'"
      ]
     },
     "execution_count": 87,
     "metadata": {},
     "output_type": "execute_result"
    }
   ],
   "source": [
    "country[-1]"
   ]
  },
  {
   "cell_type": "code",
   "execution_count": 88,
   "id": "3c2bdc03-1c5d-41f5-b626-d41ac556e30a",
   "metadata": {},
   "outputs": [
    {
     "data": {
      "text/plain": [
       "'rahul janghu'"
      ]
     },
     "execution_count": 88,
     "metadata": {},
     "output_type": "execute_result"
    }
   ],
   "source": [
    "s"
   ]
  },
  {
   "cell_type": "code",
   "execution_count": 89,
   "id": "ba506b22-2c1f-49ba-b6a9-b1695c6a2392",
   "metadata": {},
   "outputs": [
    {
     "data": {
      "text/plain": [
       "12"
      ]
     },
     "execution_count": 89,
     "metadata": {},
     "output_type": "execute_result"
    }
   ],
   "source": [
    "len(s)"
   ]
  },
  {
   "cell_type": "code",
   "execution_count": 91,
   "id": "e8b7afcb-a26f-468d-97a2-5ca4e18cacb2",
   "metadata": {},
   "outputs": [
    {
     "name": "stdout",
     "output_type": "stream",
     "text": [
      "r 0\n",
      "a 1\n",
      "h 2\n",
      "u 3\n",
      "l 4\n",
      "  5\n",
      "j 6\n",
      "a 7\n",
      "n 8\n",
      "g 9\n",
      "h 10\n",
      "u 11\n"
     ]
    }
   ],
   "source": [
    "for i in range(len(s)):\n",
    "    # i is the index of string s\n",
    "    print(s[i], i)"
   ]
  },
  {
   "cell_type": "code",
   "execution_count": null,
   "id": "72bb3241-64f1-440d-8158-9f91b469dbc5",
   "metadata": {},
   "outputs": [],
   "source": []
  },
  {
   "cell_type": "code",
   "execution_count": null,
   "id": "3c5cd741-26a1-4506-af23-73d8cd2239b6",
   "metadata": {},
   "outputs": [],
   "source": []
  },
  {
   "cell_type": "code",
   "execution_count": null,
   "id": "75dd5b84-cafa-4d46-935d-42e6e697f8f6",
   "metadata": {},
   "outputs": [],
   "source": []
  },
  {
   "cell_type": "markdown",
   "id": "55d836e2-089d-43b0-9862-df9d81990828",
   "metadata": {},
   "source": [
    "### Challenge Palindrome"
   ]
  },
  {
   "cell_type": "code",
   "execution_count": 92,
   "id": "09b19334-b586-4165-9110-e29808a48c7d",
   "metadata": {},
   "outputs": [],
   "source": [
    "# Quiz"
   ]
  },
  {
   "cell_type": "code",
   "execution_count": 94,
   "id": "392035fe-6ae8-4d22-86f0-49c3d20e5971",
   "metadata": {},
   "outputs": [
    {
     "name": "stdout",
     "output_type": "stream",
     "text": [
      "luhar\n"
     ]
    }
   ],
   "source": [
    "s1 = 'radar'\n",
    "s2 = 'level'\n",
    "s3 = 'rahul'\n",
    "\n",
    "print(s3[::-1])"
   ]
  },
  {
   "cell_type": "code",
   "execution_count": 95,
   "id": "bda1e9cf-6eb2-46f3-b081-d71fe7dc2707",
   "metadata": {},
   "outputs": [],
   "source": [
    "# for rev use slicing: [::-1]"
   ]
  },
  {
   "cell_type": "code",
   "execution_count": 98,
   "id": "6ef6deab-7a2f-44a9-be48-b56b1efc2040",
   "metadata": {},
   "outputs": [
    {
     "name": "stdin",
     "output_type": "stream",
     "text": [
      " Level\n"
     ]
    },
    {
     "name": "stdout",
     "output_type": "stream",
     "text": [
      "False\n"
     ]
    }
   ],
   "source": [
    "s = input()\n",
    "rev = s[::-1]\n",
    "\n",
    "# if rev is s then it's a pallindrome\n",
    "\n",
    "print(s == rev)"
   ]
  },
  {
   "cell_type": "code",
   "execution_count": null,
   "id": "4b441aa8-05ca-4b52-843b-34bb8d2bd49f",
   "metadata": {},
   "outputs": [],
   "source": []
  },
  {
   "cell_type": "code",
   "execution_count": null,
   "id": "04391d60-7775-496e-b5ae-6c055e82d975",
   "metadata": {},
   "outputs": [],
   "source": []
  },
  {
   "cell_type": "code",
   "execution_count": null,
   "id": "7345865b-3c17-49d7-b131-4273ba8de5b7",
   "metadata": {},
   "outputs": [],
   "source": []
  },
  {
   "cell_type": "code",
   "execution_count": null,
   "id": "0c03125f-0c3f-4665-bb29-127dfd53dcdc",
   "metadata": {},
   "outputs": [],
   "source": []
  },
  {
   "cell_type": "code",
   "execution_count": null,
   "id": "6c0c6181-c2c8-487c-93c5-c177f0840ee6",
   "metadata": {},
   "outputs": [],
   "source": [
    "# Hw: Check this using iteration"
   ]
  },
  {
   "cell_type": "code",
   "execution_count": null,
   "id": "5f317272-8554-46a4-a962-c45f041226b4",
   "metadata": {},
   "outputs": [],
   "source": []
  },
  {
   "cell_type": "code",
   "execution_count": null,
   "id": "1f3dccfb-d2ba-4189-ac1f-d9c8e96c9f8d",
   "metadata": {},
   "outputs": [],
   "source": []
  },
  {
   "cell_type": "code",
   "execution_count": null,
   "id": "bc9cde39-f100-4a77-8cf2-89c4fe6b9ec2",
   "metadata": {},
   "outputs": [],
   "source": []
  },
  {
   "cell_type": "code",
   "execution_count": null,
   "id": "b3ec70bc-b740-480e-99cf-f5196870c9b6",
   "metadata": {},
   "outputs": [],
   "source": []
  },
  {
   "cell_type": "code",
   "execution_count": null,
   "id": "072f6cc8-c176-43dd-a6fe-d77b319d01a5",
   "metadata": {},
   "outputs": [],
   "source": []
  },
  {
   "cell_type": "markdown",
   "id": "ffd58c9c-d32e-4906-83d1-deaed69efa2a",
   "metadata": {},
   "source": [
    "## Challenge 3:\n",
    "- Take a string as input and print the ASCII value of the characters in it."
   ]
  },
  {
   "cell_type": "code",
   "execution_count": 14,
   "id": "d1c162e2-dc3a-4fbb-94fa-63d543b283ea",
   "metadata": {},
   "outputs": [],
   "source": [
    "# ord"
   ]
  },
  {
   "cell_type": "code",
   "execution_count": 15,
   "id": "03913720-c37b-46cb-8384-0e53c9c469e4",
   "metadata": {},
   "outputs": [],
   "source": [
    "# chr"
   ]
  },
  {
   "cell_type": "code",
   "execution_count": 100,
   "id": "97385d5e-693a-44f1-8a88-c54688bbd72b",
   "metadata": {},
   "outputs": [
    {
     "name": "stdin",
     "output_type": "stream",
     "text": [
      " Rahul\n"
     ]
    },
    {
     "name": "stdout",
     "output_type": "stream",
     "text": [
      "R 82\n",
      "a 97\n",
      "h 104\n",
      "u 117\n",
      "l 108\n"
     ]
    }
   ],
   "source": [
    "name = input()\n",
    "\n",
    "for i in name:\n",
    "    print(i, ord(i))"
   ]
  },
  {
   "cell_type": "code",
   "execution_count": null,
   "id": "dd92f7a8-a424-4ac0-8488-c57d0049ff49",
   "metadata": {},
   "outputs": [],
   "source": []
  },
  {
   "cell_type": "code",
   "execution_count": null,
   "id": "352374df-5f29-4dc6-aa7a-6ef73437f714",
   "metadata": {},
   "outputs": [],
   "source": []
  },
  {
   "cell_type": "markdown",
   "id": "a01af93e-ca94-4065-8893-393973ea073c",
   "metadata": {},
   "source": [
    "### Challenge: Last\n",
    "\n",
    "Given a string convert all caps alphabets into small"
   ]
  },
  {
   "cell_type": "code",
   "execution_count": 105,
   "id": "203cff3f-6b71-4007-96d3-a2ed02d8fbdc",
   "metadata": {},
   "outputs": [],
   "source": [
    "name = \"RaHul\""
   ]
  },
  {
   "cell_type": "code",
   "execution_count": 104,
   "id": "beb9bb97-69a2-46d3-84ef-0f28a2e57804",
   "metadata": {},
   "outputs": [
    {
     "name": "stdout",
     "output_type": "stream",
     "text": [
      "114\n",
      "r\n",
      "104\n",
      "h\n"
     ]
    }
   ],
   "source": [
    "for i in name:\n",
    "    # check for caps alphabet range\n",
    "    if ord(i) >= 65 and ord(i) <= 90:\n",
    "        asc = ord(i) + 32\n",
    "        print(asc)\n",
    "        print(chr(asc))"
   ]
  },
  {
   "cell_type": "code",
   "execution_count": null,
   "id": "2f9f63ca-728e-45ca-a824-4dbbfa426c1f",
   "metadata": {},
   "outputs": [],
   "source": []
  },
  {
   "cell_type": "code",
   "execution_count": null,
   "id": "352285b9-7206-46c5-b8bb-39ada7dc594a",
   "metadata": {},
   "outputs": [],
   "source": []
  },
  {
   "cell_type": "code",
   "execution_count": null,
   "id": "e2cb75ec-abb8-49cd-9927-98f228e1d159",
   "metadata": {},
   "outputs": [],
   "source": []
  },
  {
   "cell_type": "code",
   "execution_count": null,
   "id": "aa08dcea-a2f6-459a-a65c-b80febed4436",
   "metadata": {},
   "outputs": [],
   "source": []
  },
  {
   "cell_type": "code",
   "execution_count": null,
   "id": "0dff6209-13bf-46bd-8fb3-038d43ee31ac",
   "metadata": {},
   "outputs": [],
   "source": []
  },
  {
   "cell_type": "code",
   "execution_count": null,
   "id": "bc9495ab-0d68-4407-bf9b-c21556199502",
   "metadata": {},
   "outputs": [],
   "source": []
  },
  {
   "cell_type": "code",
   "execution_count": 106,
   "id": "9e1cd040-4e03-43fb-bcfb-d03e68a084b0",
   "metadata": {},
   "outputs": [],
   "source": [
    "# The sigma way to print the pattern:\n",
    "\n",
    "# # # # #\n",
    "# # # # #\n",
    "# # # # #\n",
    "# # # # #\n",
    "# # # # #"
   ]
  },
  {
   "cell_type": "code",
   "execution_count": null,
   "id": "7dc408fa-526c-4b42-bbce-f2284f7aa097",
   "metadata": {},
   "outputs": [],
   "source": []
  },
  {
   "cell_type": "code",
   "execution_count": 107,
   "id": "9c581489-0cdb-4e0e-a5f6-45351d33e015",
   "metadata": {},
   "outputs": [],
   "source": [
    "# Doubts"
   ]
  },
  {
   "cell_type": "code",
   "execution_count": null,
   "id": "0d83acae-90d1-4868-8f0a-40a48be539d5",
   "metadata": {},
   "outputs": [],
   "source": []
  },
  {
   "cell_type": "code",
   "execution_count": null,
   "id": "04e86d41-ab3a-48f2-a1b5-f6b90e2cfccb",
   "metadata": {},
   "outputs": [],
   "source": []
  }
 ],
 "metadata": {
  "kernelspec": {
   "display_name": "Python 3 (ipykernel)",
   "language": "python",
   "name": "python3"
  },
  "language_info": {
   "codemirror_mode": {
    "name": "ipython",
    "version": 3
   },
   "file_extension": ".py",
   "mimetype": "text/x-python",
   "name": "python",
   "nbconvert_exporter": "python",
   "pygments_lexer": "ipython3",
   "version": "3.9.7"
  }
 },
 "nbformat": 4,
 "nbformat_minor": 5
}
