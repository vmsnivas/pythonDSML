{
 "cells": [
  {
   "cell_type": "markdown",
   "id": "439b6c3c-9faa-4c2c-b2b6-021b224d1738",
   "metadata": {},
   "source": [
    "## Introduction to Python"
   ]
  },
  {
   "cell_type": "code",
   "execution_count": 4,
   "id": "1e3141d8-2f29-4550-bae3-4c426a9478f3",
   "metadata": {},
   "outputs": [],
   "source": [
    "## I will upload a video on slack channel about Jupyter lab installation"
   ]
  },
  {
   "cell_type": "code",
   "execution_count": 6,
   "id": "3190bda0-3eee-424d-883e-90181cfe5a44",
   "metadata": {},
   "outputs": [],
   "source": [
    "# Comment: Your interpreter will not consider it as a code"
   ]
  },
  {
   "cell_type": "code",
   "execution_count": 10,
   "id": "c09a669e-7529-42bd-a716-5dff788df7c1",
   "metadata": {},
   "outputs": [
    {
     "name": "stdout",
     "output_type": "stream",
     "text": [
      "10\n"
     ]
    }
   ],
   "source": [
    "print(10)"
   ]
  },
  {
   "cell_type": "code",
   "execution_count": 11,
   "id": "bf14df45-232c-4155-9162-ade4d5358706",
   "metadata": {},
   "outputs": [],
   "source": [
    "# print(10)"
   ]
  },
  {
   "cell_type": "code",
   "execution_count": 13,
   "id": "21fdae2d-080e-4df5-9b27-08174626f718",
   "metadata": {},
   "outputs": [
    {
     "name": "stdout",
     "output_type": "stream",
     "text": [
      "50\n"
     ]
    }
   ],
   "source": [
    "# This will add 20 + 30 answer will be 50\n",
    "print(20 + 30)"
   ]
  },
  {
   "cell_type": "code",
   "execution_count": 14,
   "id": "1b0db627-9f59-480a-b09e-7d04e00ca8b6",
   "metadata": {},
   "outputs": [
    {
     "name": "stdout",
     "output_type": "stream",
     "text": [
      "3\n"
     ]
    }
   ],
   "source": [
    "print(8 - 5)"
   ]
  },
  {
   "cell_type": "code",
   "execution_count": 15,
   "id": "bdc2e41b-c129-4600-bce4-36441e64e79e",
   "metadata": {},
   "outputs": [
    {
     "name": "stdout",
     "output_type": "stream",
     "text": [
      "36\n"
     ]
    }
   ],
   "source": [
    "print(4 * 9)"
   ]
  },
  {
   "cell_type": "code",
   "execution_count": 17,
   "id": "7df40135-9426-4c7c-9fec-0a930341905a",
   "metadata": {},
   "outputs": [
    {
     "name": "stdout",
     "output_type": "stream",
     "text": [
      "10 + 5\n"
     ]
    }
   ],
   "source": [
    "print(\"10 + 5\")"
   ]
  },
  {
   "cell_type": "code",
   "execution_count": 19,
   "id": "45d0e256-7ed0-436a-8575-abac5e11bd32",
   "metadata": {},
   "outputs": [
    {
     "ename": "NameError",
     "evalue": "name 'Print' is not defined",
     "output_type": "error",
     "traceback": [
      "\u001b[0;31m---------------------------------------------------------------------------\u001b[0m",
      "\u001b[0;31mNameError\u001b[0m                                 Traceback (most recent call last)",
      "\u001b[0;32m/var/folders/zn/hkv6562d6_d30glfs8yc76900000gn/T/ipykernel_1105/173693575.py\u001b[0m in \u001b[0;36m<module>\u001b[0;34m\u001b[0m\n\u001b[0;32m----> 1\u001b[0;31m \u001b[0mPrint\u001b[0m\u001b[0;34m(\u001b[0m\u001b[0;34m\"5 + 10\"\u001b[0m\u001b[0;34m)\u001b[0m\u001b[0;34m\u001b[0m\u001b[0;34m\u001b[0m\u001b[0m\n\u001b[0m",
      "\u001b[0;31mNameError\u001b[0m: name 'Print' is not defined"
     ]
    }
   ],
   "source": [
    "Print(\"5 + 10\")"
   ]
  },
  {
   "cell_type": "code",
   "execution_count": 20,
   "id": "92cc0e3d-d21c-4927-9620-3a801d13502d",
   "metadata": {},
   "outputs": [
    {
     "name": "stdout",
     "output_type": "stream",
     "text": [
      "5 + 10\n"
     ]
    }
   ],
   "source": [
    "print(\"5 + 10\")"
   ]
  },
  {
   "cell_type": "code",
   "execution_count": null,
   "id": "924003d9-8085-4236-a1c8-57cbfd56277c",
   "metadata": {},
   "outputs": [],
   "source": []
  }
 ],
 "metadata": {
  "kernelspec": {
   "display_name": "Python 3 (ipykernel)",
   "language": "python",
   "name": "python3"
  },
  "language_info": {
   "codemirror_mode": {
    "name": "ipython",
    "version": 3
   },
   "file_extension": ".py",
   "mimetype": "text/x-python",
   "name": "python",
   "nbconvert_exporter": "python",
   "pygments_lexer": "ipython3",
   "version": "3.9.7"
  }
 },
 "nbformat": 4,
 "nbformat_minor": 5
}
