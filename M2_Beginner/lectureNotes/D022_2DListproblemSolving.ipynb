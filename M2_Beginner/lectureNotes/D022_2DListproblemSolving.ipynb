{
 "cells": [
  {
   "cell_type": "markdown",
   "id": "3d1df112-66d6-4b9c-b921-68230cf11f89",
   "metadata": {},
   "source": [
    "### 2D lists problem solving"
   ]
  },
  {
   "cell_type": "code",
   "execution_count": 1,
   "id": "4c59cb36-10e2-4d29-9235-ad2669ee8aeb",
   "metadata": {},
   "outputs": [],
   "source": [
    "# Iterate the list without range function"
   ]
  },
  {
   "cell_type": "code",
   "execution_count": 38,
   "id": "355a8bd3-2702-4c8a-b40b-d23f35fab4fd",
   "metadata": {},
   "outputs": [],
   "source": [
    "odi = [100, 99, 20]\n",
    "test = [200, 150, 90, 180]\n",
    "t20 = [20, 50, 100]"
   ]
  },
  {
   "cell_type": "code",
   "execution_count": 39,
   "id": "94ca1039-6b56-4e0b-919d-a45a4557fb1b",
   "metadata": {},
   "outputs": [],
   "source": [
    "score = [odi, test, t20]"
   ]
  },
  {
   "cell_type": "code",
   "execution_count": 40,
   "id": "95948b58-ee7b-4834-80d8-c485324ee8f1",
   "metadata": {},
   "outputs": [
    {
     "name": "stdout",
     "output_type": "stream",
     "text": [
      "[[100, 99, 20], [200, 150, 90, 180], [20, 50, 100]]\n"
     ]
    }
   ],
   "source": [
    "print(score)"
   ]
  },
  {
   "cell_type": "code",
   "execution_count": 41,
   "id": "ee2af907-24f6-444c-996b-6a011e5b1267",
   "metadata": {},
   "outputs": [
    {
     "data": {
      "text/plain": [
       "[100, 99, 20]"
      ]
     },
     "execution_count": 41,
     "metadata": {},
     "output_type": "execute_result"
    }
   ],
   "source": [
    "odi"
   ]
  },
  {
   "cell_type": "code",
   "execution_count": 42,
   "id": "64e6747f-70da-4414-89f4-ef6946e3838e",
   "metadata": {},
   "outputs": [],
   "source": [
    "# Iterate on odi"
   ]
  },
  {
   "cell_type": "code",
   "execution_count": 44,
   "id": "8f835ccd-f746-47bc-8c9c-3e1bd747d754",
   "metadata": {},
   "outputs": [
    {
     "name": "stdout",
     "output_type": "stream",
     "text": [
      "100\n",
      "99\n",
      "20\n"
     ]
    }
   ],
   "source": [
    "# This for loop iterates on all elements of odi list\n",
    "for i in odi:\n",
    "    print(i)"
   ]
  },
  {
   "cell_type": "code",
   "execution_count": null,
   "id": "0222b8b1-b0ff-4d5d-8b7e-aae63914f342",
   "metadata": {},
   "outputs": [],
   "source": []
  },
  {
   "cell_type": "code",
   "execution_count": 45,
   "id": "0d382f76-ba06-4c56-9473-177ede642c76",
   "metadata": {},
   "outputs": [
    {
     "data": {
      "text/plain": [
       "[[100, 99, 20], [200, 150, 90, 180], [20, 50, 100]]"
      ]
     },
     "execution_count": 45,
     "metadata": {},
     "output_type": "execute_result"
    }
   ],
   "source": [
    "score"
   ]
  },
  {
   "cell_type": "code",
   "execution_count": 47,
   "id": "d14d2a51-f991-4b36-89db-c77bbb8a1322",
   "metadata": {},
   "outputs": [
    {
     "name": "stdout",
     "output_type": "stream",
     "text": [
      "[100, 99, 20]\n",
      "[200, 150, 90, 180]\n",
      "[20, 50, 100]\n"
     ]
    }
   ],
   "source": [
    "for i in score:\n",
    "    print(i)"
   ]
  },
  {
   "cell_type": "code",
   "execution_count": 48,
   "id": "3495a585-7f2e-4d23-84ad-69b4506a4aba",
   "metadata": {},
   "outputs": [],
   "source": [
    "# final code without range function"
   ]
  },
  {
   "cell_type": "code",
   "execution_count": 49,
   "id": "c8b072a4-496c-4952-b065-4a72d10ff51a",
   "metadata": {},
   "outputs": [
    {
     "name": "stdout",
     "output_type": "stream",
     "text": [
      "100 99 20 \n",
      "200 150 90 180 \n",
      "20 50 100 \n"
     ]
    }
   ],
   "source": [
    "for i in score:\n",
    "    for j in i:\n",
    "        print(j, end=\" \")\n",
    "    print()"
   ]
  },
  {
   "cell_type": "code",
   "execution_count": null,
   "id": "429d4c14-7ae3-4352-8388-2dc0b2ecafae",
   "metadata": {},
   "outputs": [],
   "source": []
  },
  {
   "cell_type": "code",
   "execution_count": null,
   "id": "a2fab834-e6df-488a-9d69-ff7f9d27e7a8",
   "metadata": {},
   "outputs": [],
   "source": []
  },
  {
   "cell_type": "code",
   "execution_count": null,
   "id": "339302d5-b7bb-42a6-8aab-d8905ac25b5f",
   "metadata": {},
   "outputs": [],
   "source": []
  },
  {
   "cell_type": "code",
   "execution_count": null,
   "id": "5a372477-7452-4efa-8f92-c2b474c85156",
   "metadata": {},
   "outputs": [],
   "source": []
  },
  {
   "cell_type": "code",
   "execution_count": 5,
   "id": "eba9e560-0a8e-4bfd-b425-b95bdb917287",
   "metadata": {},
   "outputs": [],
   "source": [
    "# Challenge: Print maximum in odi, test and t20 separately"
   ]
  },
  {
   "cell_type": "code",
   "execution_count": 50,
   "id": "693343f9-fb03-4bb8-899a-91f0a78c53e8",
   "metadata": {},
   "outputs": [
    {
     "name": "stdout",
     "output_type": "stream",
     "text": [
      "[[100, 99, 20], [200, 150, 90, 180], [20, 50, 100]]\n"
     ]
    }
   ],
   "source": [
    "print(score)"
   ]
  },
  {
   "cell_type": "code",
   "execution_count": null,
   "id": "16b9cc5c-aa08-4d79-a826-36da2bc889d9",
   "metadata": {},
   "outputs": [],
   "source": []
  },
  {
   "cell_type": "code",
   "execution_count": 52,
   "id": "d90d8aa8-cd1d-4caf-8296-a322f55809eb",
   "metadata": {},
   "outputs": [
    {
     "data": {
      "text/plain": [
       "100"
      ]
     },
     "execution_count": 52,
     "metadata": {},
     "output_type": "execute_result"
    }
   ],
   "source": [
    "max(odi)"
   ]
  },
  {
   "cell_type": "code",
   "execution_count": 53,
   "id": "8e60f04e-245c-4992-82cc-db15fbf908d9",
   "metadata": {},
   "outputs": [
    {
     "data": {
      "text/plain": [
       "200"
      ]
     },
     "execution_count": 53,
     "metadata": {},
     "output_type": "execute_result"
    }
   ],
   "source": [
    "max(test)"
   ]
  },
  {
   "cell_type": "code",
   "execution_count": 54,
   "id": "06c7e3fc-9c7e-463f-a1f1-bddd9d9ade90",
   "metadata": {},
   "outputs": [
    {
     "data": {
      "text/plain": [
       "100"
      ]
     },
     "execution_count": 54,
     "metadata": {},
     "output_type": "execute_result"
    }
   ],
   "source": [
    "max(t20)"
   ]
  },
  {
   "cell_type": "code",
   "execution_count": 57,
   "id": "e388850d-24ab-47f4-b3c2-1665af039566",
   "metadata": {},
   "outputs": [],
   "source": [
    "# Using following loop we are getting lists inside of score"
   ]
  },
  {
   "cell_type": "code",
   "execution_count": 56,
   "id": "45281d0d-739e-4e1a-89c7-a8976f54dfd0",
   "metadata": {},
   "outputs": [
    {
     "name": "stdout",
     "output_type": "stream",
     "text": [
      "100\n",
      "200\n",
      "100\n"
     ]
    }
   ],
   "source": [
    "for i in score:\n",
    "    print(max(i))"
   ]
  },
  {
   "cell_type": "code",
   "execution_count": null,
   "id": "778d845d-edfc-491a-93aa-81ee04c89f6b",
   "metadata": {},
   "outputs": [],
   "source": []
  },
  {
   "cell_type": "code",
   "execution_count": null,
   "id": "c61fc1d2-d10a-4948-81fb-e1642e95ede8",
   "metadata": {},
   "outputs": [],
   "source": []
  },
  {
   "cell_type": "code",
   "execution_count": null,
   "id": "c33de417-5d69-4e3f-bfee-bcc8e0d79cd3",
   "metadata": {},
   "outputs": [],
   "source": []
  },
  {
   "cell_type": "code",
   "execution_count": null,
   "id": "460d77eb-01ff-42ea-ae35-15c4159ca216",
   "metadata": {},
   "outputs": [],
   "source": []
  },
  {
   "cell_type": "code",
   "execution_count": null,
   "id": "b845a6be-1542-4e96-a911-31e028e5669b",
   "metadata": {},
   "outputs": [],
   "source": []
  },
  {
   "cell_type": "markdown",
   "id": "33038779-686c-4823-9715-fae5c2de15a3",
   "metadata": {},
   "source": [
    "## Question: \n",
    "You are a data scientist at ICC and you need to find the runs scored Sachin and Ganguly in partnerships, also store them in a new list"
   ]
  },
  {
   "cell_type": "code",
   "execution_count": 72,
   "id": "365d2e97-416b-4fa1-a3ad-117856c87de6",
   "metadata": {},
   "outputs": [],
   "source": [
    "# len of both lists is same: Row * Col"
   ]
  },
  {
   "cell_type": "code",
   "execution_count": 60,
   "id": "8844fca3-6bc2-4cca-9230-5d5743d1180a",
   "metadata": {},
   "outputs": [],
   "source": [
    "sachin = [\n",
    "        [1, 2, 3],\n",
    "        [4, 5, 6],\n",
    "        [7, 8, 9],\n",
    "        [10, 11, 12]\n",
    "]\n",
    "\n",
    "ganguly = [\n",
    "        [-1, 2, 3],\n",
    "        [4, -5, 6],\n",
    "        [7, 8, -9],\n",
    "        [10, 11, 12]\n",
    "]"
   ]
  },
  {
   "cell_type": "code",
   "execution_count": 58,
   "id": "d9ae33ec-49ba-423d-8957-3eca8a756431",
   "metadata": {},
   "outputs": [],
   "source": [
    "# 0 4 6\n",
    "# 8 0 12\n",
    "# 14 16 0\n",
    "# 20 22 24"
   ]
  },
  {
   "cell_type": "code",
   "execution_count": null,
   "id": "04b73a35-17f2-4e89-8c63-2e3d2d769ff4",
   "metadata": {},
   "outputs": [],
   "source": []
  },
  {
   "cell_type": "code",
   "execution_count": 8,
   "id": "28a455a3-ae39-49f3-8ee9-941a29b81ae8",
   "metadata": {},
   "outputs": [],
   "source": [
    "# Traversing on sachin"
   ]
  },
  {
   "cell_type": "code",
   "execution_count": 62,
   "id": "bf688407-9504-4874-8d4e-1d29456d788d",
   "metadata": {},
   "outputs": [
    {
     "name": "stdout",
     "output_type": "stream",
     "text": [
      "1 2 3 \n",
      "4 5 6 \n",
      "7 8 9 \n",
      "10 11 12 \n"
     ]
    }
   ],
   "source": [
    "for i in range(len(sachin)):\n",
    "    for j in range(len(sachin[i])):\n",
    "        print(sachin[i][j], end=\" \")\n",
    "    print()"
   ]
  },
  {
   "cell_type": "code",
   "execution_count": null,
   "id": "46ac9c36-dfc7-4145-8217-0691c0c0a049",
   "metadata": {},
   "outputs": [],
   "source": []
  },
  {
   "cell_type": "code",
   "execution_count": 63,
   "id": "de7d015f-a80b-46fe-a25a-5ad4e5e1379e",
   "metadata": {},
   "outputs": [],
   "source": [
    "# indexes of Sachin's run"
   ]
  },
  {
   "cell_type": "code",
   "execution_count": 64,
   "id": "6ad33968-045e-495a-a022-ac9d062e69f7",
   "metadata": {},
   "outputs": [
    {
     "name": "stdout",
     "output_type": "stream",
     "text": [
      "0 0 0 1 0 2 \n",
      "1 0 1 1 1 2 \n",
      "2 0 2 1 2 2 \n",
      "3 0 3 1 3 2 \n"
     ]
    }
   ],
   "source": [
    "for i in range(len(sachin)):\n",
    "    for j in range(len(sachin[i])):\n",
    "        print(i, j, end=\" \")\n",
    "    print()"
   ]
  },
  {
   "cell_type": "code",
   "execution_count": null,
   "id": "6c11c7b5-49ea-4142-adb1-6e8bd9efce5a",
   "metadata": {},
   "outputs": [],
   "source": []
  },
  {
   "cell_type": "code",
   "execution_count": null,
   "id": "d9a722b1-65cb-45f4-bf9b-878605d9417e",
   "metadata": {},
   "outputs": [],
   "source": []
  },
  {
   "cell_type": "code",
   "execution_count": 9,
   "id": "65558533-2f76-4845-8cb6-0e032af20286",
   "metadata": {},
   "outputs": [],
   "source": [
    "# Traversing on ganguly"
   ]
  },
  {
   "cell_type": "code",
   "execution_count": 65,
   "id": "eb141c75-cdf0-421f-9a0f-28042b3309da",
   "metadata": {},
   "outputs": [
    {
     "name": "stdout",
     "output_type": "stream",
     "text": [
      "-1 2 3 \n",
      "4 -5 6 \n",
      "7 8 -9 \n",
      "10 11 12 \n"
     ]
    }
   ],
   "source": [
    "for i in range(len(ganguly)):\n",
    "    for j in range(len(ganguly[i])):\n",
    "        print(ganguly[i][j], end=\" \")\n",
    "    print()"
   ]
  },
  {
   "cell_type": "code",
   "execution_count": 66,
   "id": "ac9d69e7-a92f-47ad-8a23-b7c0eafd0a31",
   "metadata": {},
   "outputs": [],
   "source": [
    "# index for Ganguly's run"
   ]
  },
  {
   "cell_type": "code",
   "execution_count": 67,
   "id": "50fcdef2-0b3e-4774-921b-bd47bbd405b9",
   "metadata": {},
   "outputs": [
    {
     "name": "stdout",
     "output_type": "stream",
     "text": [
      "0 0 0 1 0 2 \n",
      "1 0 1 1 1 2 \n",
      "2 0 2 1 2 2 \n",
      "3 0 3 1 3 2 \n"
     ]
    }
   ],
   "source": [
    "for i in range(len(ganguly)):\n",
    "    for j in range(len(ganguly[i])):\n",
    "        print(i, j, end=\" \")\n",
    "    print()"
   ]
  },
  {
   "cell_type": "code",
   "execution_count": null,
   "id": "e804beb7-dc44-4774-8868-632c547d5bc2",
   "metadata": {},
   "outputs": [],
   "source": []
  },
  {
   "cell_type": "code",
   "execution_count": 68,
   "id": "1e0a27bf-61dc-488f-b251-751e39dd5587",
   "metadata": {},
   "outputs": [
    {
     "name": "stdout",
     "output_type": "stream",
     "text": [
      "1 2 3 \n",
      "4 5 6 \n",
      "7 8 9 \n",
      "10 11 12 \n"
     ]
    }
   ],
   "source": [
    "for i in range(len(ganguly)):\n",
    "    for j in range(len(ganguly[i])):\n",
    "        print(sachin[i][j], end=\" \")\n",
    "    print()"
   ]
  },
  {
   "cell_type": "code",
   "execution_count": 69,
   "id": "de82136f-bcaf-4878-b0fc-b246c0734163",
   "metadata": {},
   "outputs": [
    {
     "name": "stdout",
     "output_type": "stream",
     "text": [
      "-1 2 3 \n",
      "4 -5 6 \n",
      "7 8 -9 \n",
      "10 11 12 \n"
     ]
    }
   ],
   "source": [
    "for i in range(len(ganguly)):\n",
    "    for j in range(len(ganguly[i])):\n",
    "        print(ganguly[i][j], end=\" \")\n",
    "    print()"
   ]
  },
  {
   "cell_type": "code",
   "execution_count": null,
   "id": "af009d0c-3a28-427d-8462-91aff586d1f6",
   "metadata": {},
   "outputs": [],
   "source": []
  },
  {
   "cell_type": "code",
   "execution_count": null,
   "id": "cf781481-c38c-44a2-8cbb-cebacd0227a0",
   "metadata": {},
   "outputs": [],
   "source": []
  },
  {
   "cell_type": "code",
   "execution_count": 10,
   "id": "4128d0db-489b-4a85-a1ea-dc33e4c03f33",
   "metadata": {},
   "outputs": [],
   "source": [
    "## Adding 2 matrix"
   ]
  },
  {
   "cell_type": "code",
   "execution_count": 70,
   "id": "d1c00d03-af14-4e45-8adc-1a09fedf8bba",
   "metadata": {},
   "outputs": [
    {
     "name": "stdout",
     "output_type": "stream",
     "text": [
      "1 -1 2 2 3 3 \n",
      "4 4 5 -5 6 6 \n",
      "7 7 8 8 9 -9 \n",
      "10 10 11 11 12 12 \n"
     ]
    }
   ],
   "source": [
    "for i in range(len(ganguly)):\n",
    "    for j in range(len(ganguly[i])):\n",
    "        print(sachin[i][j], ganguly[i][j], end=\" \")\n",
    "    print()"
   ]
  },
  {
   "cell_type": "code",
   "execution_count": null,
   "id": "1168896d-0e5d-4993-ab0a-7b4e0ec2ed69",
   "metadata": {},
   "outputs": [],
   "source": []
  },
  {
   "cell_type": "code",
   "execution_count": 73,
   "id": "dabb4054-13f3-42f9-9848-7703456e3c38",
   "metadata": {},
   "outputs": [
    {
     "name": "stdout",
     "output_type": "stream",
     "text": [
      "0 4 6 \n",
      "8 0 12 \n",
      "14 16 0 \n",
      "20 22 24 \n"
     ]
    }
   ],
   "source": [
    "for i in range(len(ganguly)): # This is for rows\n",
    "    for j in range(len(ganguly[i])): # this is for columns\n",
    "        print(sachin[i][j] + ganguly[i][j], end=\" \")\n",
    "    print()"
   ]
  },
  {
   "cell_type": "code",
   "execution_count": null,
   "id": "b809773d-1d90-4c6e-968b-5f1cabe84c21",
   "metadata": {},
   "outputs": [],
   "source": []
  },
  {
   "cell_type": "code",
   "execution_count": 11,
   "id": "c5f0103f-26c2-46d2-b497-6fabee257210",
   "metadata": {},
   "outputs": [],
   "source": [
    "# Make a list after adding them"
   ]
  },
  {
   "cell_type": "code",
   "execution_count": 74,
   "id": "c227c8ca-4467-40f6-93cb-0143b2f15d23",
   "metadata": {},
   "outputs": [
    {
     "name": "stdout",
     "output_type": "stream",
     "text": [
      "[0, 4, 6]\n",
      "[8, 0, 12]\n",
      "[14, 16, 0]\n",
      "[20, 22, 24]\n"
     ]
    }
   ],
   "source": [
    "for i in range(len(ganguly)): # This is for rows\n",
    "    row = []\n",
    "    for j in range(len(ganguly[i])): # this is for columns\n",
    "        total = sachin[i][j] + ganguly[i][j]\n",
    "        row.append(total)\n",
    "    print(row)"
   ]
  },
  {
   "cell_type": "code",
   "execution_count": null,
   "id": "1c049a02-fc3e-4ca5-a362-991afad3947e",
   "metadata": {},
   "outputs": [],
   "source": []
  },
  {
   "cell_type": "code",
   "execution_count": 75,
   "id": "5ff622d1-432b-42ac-9700-daaeb13fb770",
   "metadata": {},
   "outputs": [],
   "source": [
    "# Final code"
   ]
  },
  {
   "cell_type": "code",
   "execution_count": 77,
   "id": "269a9fd1-aa23-4a4f-9da0-cc1dc42ecc87",
   "metadata": {},
   "outputs": [
    {
     "name": "stdout",
     "output_type": "stream",
     "text": [
      "[[0, 4, 6], [8, 0, 12], [14, 16, 0], [20, 22, 24]]\n"
     ]
    }
   ],
   "source": [
    "partnership = []\n",
    "for i in range(len(ganguly)): # This is for rows\n",
    "    row = []\n",
    "    for j in range(len(ganguly[i])): # this is for columns\n",
    "        total = sachin[i][j] + ganguly[i][j]\n",
    "        row.append(total)\n",
    "    #print(row)\n",
    "    partnership.append(row)\n",
    "print(partnership)"
   ]
  },
  {
   "cell_type": "code",
   "execution_count": null,
   "id": "c6f7dcc1-b941-43ce-a361-c6fb2849010e",
   "metadata": {},
   "outputs": [],
   "source": []
  },
  {
   "cell_type": "code",
   "execution_count": null,
   "id": "f6d15f88-d8a5-470e-b494-b2bb4c9a652e",
   "metadata": {},
   "outputs": [],
   "source": []
  },
  {
   "cell_type": "code",
   "execution_count": null,
   "id": "e32834da-daac-453d-8994-5699ba8371f4",
   "metadata": {},
   "outputs": [],
   "source": []
  },
  {
   "cell_type": "code",
   "execution_count": null,
   "id": "ab57b358-bebd-4296-99e6-39702eaa014d",
   "metadata": {},
   "outputs": [],
   "source": []
  },
  {
   "cell_type": "markdown",
   "id": "ac795e81-b3e4-4aeb-a7bb-0cd76c1ea27e",
   "metadata": {},
   "source": [
    "## Check for Identity Matrix\n",
    "- You are given a N X N square integer matrix A. You have to tell whether A is an identity matrix or not.\n",
    "\n",
    "- Identity matrix is a special square matrix whose main diagonal elements are equal to 1 and all other elements are 0.\n",
    "#### Input:\n",
    "- First and only argument is an integer matrix A.\n",
    "#### Output:\n",
    "- Return 1 if A is an identity matrix, else return 0."
   ]
  },
  {
   "cell_type": "code",
   "execution_count": 79,
   "id": "cb5b6d74-b699-478b-a635-f6c5d584dc45",
   "metadata": {},
   "outputs": [],
   "source": [
    "A = [[1, 1],\n",
    "  [0, 1]]"
   ]
  },
  {
   "cell_type": "code",
   "execution_count": 80,
   "id": "103bb1ba-93c6-428c-816a-77624a69b808",
   "metadata": {},
   "outputs": [],
   "source": [
    "# Iterate on the list"
   ]
  },
  {
   "cell_type": "code",
   "execution_count": 81,
   "id": "1518fc80-b558-4b3d-bc5b-ebb1f7d5cebc",
   "metadata": {},
   "outputs": [
    {
     "name": "stdout",
     "output_type": "stream",
     "text": [
      "0 0 0 1 \n",
      "1 0 1 1 \n"
     ]
    }
   ],
   "source": [
    "for i in range(len(A)):\n",
    "    for j in range(len(A)):\n",
    "        print(i, j, end=\" \")\n",
    "    print()"
   ]
  },
  {
   "cell_type": "code",
   "execution_count": null,
   "id": "8cbf2786-0028-435a-a520-e2c6c817dc85",
   "metadata": {},
   "outputs": [],
   "source": []
  },
  {
   "cell_type": "code",
   "execution_count": 82,
   "id": "aea02ad6-e496-489e-ba26-85aaab13f6e7",
   "metadata": {},
   "outputs": [],
   "source": [
    "# print diagonal elements"
   ]
  },
  {
   "cell_type": "code",
   "execution_count": 84,
   "id": "9b586d0f-7655-44c9-822f-e13ed538a6d6",
   "metadata": {},
   "outputs": [
    {
     "data": {
      "text/plain": [
       "[[1, 1], [0, 1]]"
      ]
     },
     "execution_count": 84,
     "metadata": {},
     "output_type": "execute_result"
    }
   ],
   "source": [
    "A"
   ]
  },
  {
   "cell_type": "code",
   "execution_count": 83,
   "id": "2e4e1b36-8560-4ff6-9802-3dad4256dcf5",
   "metadata": {},
   "outputs": [
    {
     "name": "stdout",
     "output_type": "stream",
     "text": [
      "1\n",
      "1\n"
     ]
    }
   ],
   "source": [
    "for i in range(len(A)):\n",
    "    for j in range(len(A)):\n",
    "        if i == j:\n",
    "            print(A[i][j])"
   ]
  },
  {
   "cell_type": "code",
   "execution_count": 85,
   "id": "e31ecb63-6202-460a-b616-506a9612083f",
   "metadata": {},
   "outputs": [
    {
     "name": "stdout",
     "output_type": "stream",
     "text": [
      "0 0\n",
      "1 1\n"
     ]
    }
   ],
   "source": [
    "for i in range(len(A)):\n",
    "    for j in range(len(A)):\n",
    "        if i == j:\n",
    "            print(i, j)"
   ]
  },
  {
   "cell_type": "code",
   "execution_count": null,
   "id": "82f4fcb8-2706-40cb-bbc5-0aefdc2847ed",
   "metadata": {},
   "outputs": [],
   "source": []
  },
  {
   "cell_type": "code",
   "execution_count": 86,
   "id": "ad0819f6-9e7d-4198-b74b-c161dd4b56af",
   "metadata": {},
   "outputs": [
    {
     "data": {
      "text/plain": [
       "[[1, 1], [0, 1]]"
      ]
     },
     "execution_count": 86,
     "metadata": {},
     "output_type": "execute_result"
    }
   ],
   "source": [
    "A"
   ]
  },
  {
   "cell_type": "code",
   "execution_count": 104,
   "id": "2951d94e-9938-4715-b21e-7f586387b9ac",
   "metadata": {},
   "outputs": [],
   "source": [
    "A = [[1, 0, 0],\n",
    "     [0, 1, 0],\n",
    "     [0, 0, 1]]"
   ]
  },
  {
   "cell_type": "code",
   "execution_count": 105,
   "id": "d9376e49-0cda-4ddd-bc07-f5e7ce1ad9db",
   "metadata": {},
   "outputs": [],
   "source": [
    "def identity(A):   # A is the list for which we have to check\n",
    "    n =len(A)\n",
    "    for i in range(n):\n",
    "        for j in range(n):\n",
    "            # Check for diagonal elements if it is 1 or not\n",
    "            if i == j and A[i][j] != 1:\n",
    "                return 0\n",
    "            # check for non diagonal elements if they are 0 or not\n",
    "            if i != j and A[i][j] != 0:\n",
    "                return 0\n",
    "    # After going through whole list if return is not hit then am Identity\n",
    "    return 1"
   ]
  },
  {
   "cell_type": "code",
   "execution_count": 106,
   "id": "fdee6bb5-d5fc-4c7d-a0c3-9f98d7954e5f",
   "metadata": {},
   "outputs": [
    {
     "name": "stdout",
     "output_type": "stream",
     "text": [
      "1\n"
     ]
    }
   ],
   "source": [
    "print(identity(A))"
   ]
  },
  {
   "cell_type": "code",
   "execution_count": null,
   "id": "a9f87f11-8893-4a52-b08b-feaf81000fcd",
   "metadata": {},
   "outputs": [],
   "source": []
  },
  {
   "cell_type": "code",
   "execution_count": 107,
   "id": "d0d38231-48c1-4b96-bd79-eb9be1000941",
   "metadata": {},
   "outputs": [],
   "source": [
    "# Doubts"
   ]
  },
  {
   "cell_type": "code",
   "execution_count": 108,
   "id": "c55d1749-a087-47dc-af5a-ef772e1951c3",
   "metadata": {},
   "outputs": [
    {
     "name": "stdout",
     "output_type": "stream",
     "text": [
      "[2, 4, 6]\n"
     ]
    }
   ],
   "source": [
    "B = [1, 2, 3]\n",
    "A=[]\n",
    "def f(x):\n",
    "    return x*2\n",
    "for i in B:\n",
    "    A.append(f(i))\n",
    "print(A) "
   ]
  },
  {
   "cell_type": "code",
   "execution_count": null,
   "id": "c957a847-6a40-4630-910b-0516589056e8",
   "metadata": {},
   "outputs": [],
   "source": []
  },
  {
   "cell_type": "code",
   "execution_count": null,
   "id": "6140a3ba-6fb8-4263-b219-69364968e333",
   "metadata": {},
   "outputs": [],
   "source": []
  }
 ],
 "metadata": {
  "kernelspec": {
   "display_name": "Python 3 (ipykernel)",
   "language": "python",
   "name": "python3"
  },
  "language_info": {
   "codemirror_mode": {
    "name": "ipython",
    "version": 3
   },
   "file_extension": ".py",
   "mimetype": "text/x-python",
   "name": "python",
   "nbconvert_exporter": "python",
   "pygments_lexer": "ipython3",
   "version": "3.9.7"
  }
 },
 "nbformat": 4,
 "nbformat_minor": 5
}
