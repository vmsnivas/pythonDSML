{
 "cells": [
  {
   "cell_type": "markdown",
   "id": "d742ac3e-930a-4a03-9a4e-77d9f05b1ad8",
   "metadata": {},
   "source": [
    "## Math"
   ]
  },
  {
   "cell_type": "markdown",
   "id": "07b22f47-09e9-400a-a44a-8c90939b9aef",
   "metadata": {},
   "source": [
    "#### Built in mathematics Function"
   ]
  },
  {
   "cell_type": "code",
   "execution_count": 2,
   "id": "0059fa76-d15d-4f5e-acfd-7e6ee0a09b34",
   "metadata": {},
   "outputs": [],
   "source": [
    "# abs"
   ]
  },
  {
   "cell_type": "code",
   "execution_count": 8,
   "id": "47d738cd-8f36-48e3-8043-413398e7868e",
   "metadata": {},
   "outputs": [
    {
     "name": "stdout",
     "output_type": "stream",
     "text": [
      "6\n"
     ]
    }
   ],
   "source": [
    "x = 6\n",
    "print(abs(x))"
   ]
  },
  {
   "cell_type": "code",
   "execution_count": 9,
   "id": "0abee785-08c2-4378-90b9-d8ef872b0307",
   "metadata": {},
   "outputs": [
    {
     "name": "stdout",
     "output_type": "stream",
     "text": [
      "7\n"
     ]
    }
   ],
   "source": [
    "y = -7\n",
    "print(abs(y))"
   ]
  },
  {
   "cell_type": "code",
   "execution_count": 10,
   "id": "5756bea8-f73a-4786-b6d3-7263dab9ef90",
   "metadata": {},
   "outputs": [
    {
     "name": "stdout",
     "output_type": "stream",
     "text": [
      "4.5\n"
     ]
    }
   ],
   "source": [
    "print(abs(4.5))"
   ]
  },
  {
   "cell_type": "code",
   "execution_count": 11,
   "id": "4366d397-2160-4234-b590-042d18082092",
   "metadata": {},
   "outputs": [
    {
     "name": "stdout",
     "output_type": "stream",
     "text": [
      "45.6\n"
     ]
    }
   ],
   "source": [
    "print(abs(-45.6))"
   ]
  },
  {
   "cell_type": "code",
   "execution_count": null,
   "id": "853c4593-3177-499a-879f-e83c67cfa398",
   "metadata": {},
   "outputs": [],
   "source": []
  },
  {
   "cell_type": "code",
   "execution_count": null,
   "id": "a3a3b7c9-baf7-4ca2-bdf3-ab15d4edd59f",
   "metadata": {},
   "outputs": [],
   "source": []
  },
  {
   "cell_type": "code",
   "execution_count": null,
   "id": "4772059d-ea27-4f82-b9b3-62769e9d34e2",
   "metadata": {},
   "outputs": [],
   "source": []
  },
  {
   "cell_type": "code",
   "execution_count": 5,
   "id": "ccc50f23-2869-4d6d-b4ad-68cb34b14c4d",
   "metadata": {},
   "outputs": [
    {
     "data": {
      "text/plain": [
       "1"
      ]
     },
     "execution_count": 5,
     "metadata": {},
     "output_type": "execute_result"
    }
   ],
   "source": [
    "10 ** 0"
   ]
  },
  {
   "cell_type": "code",
   "execution_count": 6,
   "id": "e90227f3-3d2a-494c-bbe3-d59e3c92de3b",
   "metadata": {},
   "outputs": [
    {
     "data": {
      "text/plain": [
       "1"
      ]
     },
     "execution_count": 6,
     "metadata": {},
     "output_type": "execute_result"
    }
   ],
   "source": [
    "1278391873 ** 0"
   ]
  },
  {
   "cell_type": "code",
   "execution_count": 7,
   "id": "c4f8964b-64bf-4f9e-b767-6504e09ee62a",
   "metadata": {},
   "outputs": [
    {
     "data": {
      "text/plain": [
       "5"
      ]
     },
     "execution_count": 7,
     "metadata": {},
     "output_type": "execute_result"
    }
   ],
   "source": [
    "(12345 % 10)"
   ]
  },
  {
   "cell_type": "code",
   "execution_count": null,
   "id": "91dac31b-ae7c-472c-a226-35035b34e8ca",
   "metadata": {},
   "outputs": [],
   "source": []
  },
  {
   "cell_type": "code",
   "execution_count": null,
   "id": "828a3945-7ec1-46ec-b081-7c69f0db384a",
   "metadata": {},
   "outputs": [],
   "source": []
  },
  {
   "cell_type": "code",
   "execution_count": null,
   "id": "6e2041c9-8305-4e47-ab53-730ed881728d",
   "metadata": {},
   "outputs": [],
   "source": []
  },
  {
   "cell_type": "code",
   "execution_count": null,
   "id": "ea75230c-1c4d-469d-90a2-20b8fbc2b1ae",
   "metadata": {},
   "outputs": [],
   "source": []
  },
  {
   "cell_type": "code",
   "execution_count": null,
   "id": "3170bde1-23bd-4c11-a531-1387bbfff6ff",
   "metadata": {},
   "outputs": [],
   "source": []
  },
  {
   "cell_type": "code",
   "execution_count": null,
   "id": "bb2049ee-3774-485d-bf3d-7e0fb4e0201c",
   "metadata": {},
   "outputs": [],
   "source": []
  },
  {
   "cell_type": "code",
   "execution_count": null,
   "id": "80f04d1d-676c-4b18-9224-d1320fab4945",
   "metadata": {},
   "outputs": [],
   "source": []
  },
  {
   "cell_type": "code",
   "execution_count": null,
   "id": "e6faa333-cca3-40ed-ad72-8ab5fc7656f8",
   "metadata": {},
   "outputs": [],
   "source": []
  },
  {
   "cell_type": "markdown",
   "id": "8fb9dc41-d7c4-43ad-a25a-823a665fa82a",
   "metadata": {},
   "source": [
    "#### Max, Min"
   ]
  },
  {
   "cell_type": "code",
   "execution_count": 12,
   "id": "3297cc34-88bd-424a-9d55-7ecfa71e7538",
   "metadata": {},
   "outputs": [
    {
     "name": "stdout",
     "output_type": "stream",
     "text": [
      "4\n"
     ]
    }
   ],
   "source": [
    "print(max(1, 4))"
   ]
  },
  {
   "cell_type": "code",
   "execution_count": 13,
   "id": "50739053-c7d5-43e9-a863-21efcf2776fa",
   "metadata": {},
   "outputs": [
    {
     "name": "stdout",
     "output_type": "stream",
     "text": [
      "11\n"
     ]
    }
   ],
   "source": [
    "print(max(10, 11))"
   ]
  },
  {
   "cell_type": "code",
   "execution_count": 14,
   "id": "b0adb4a0-c2ca-4c53-b80c-2091c0e67c27",
   "metadata": {},
   "outputs": [
    {
     "name": "stdout",
     "output_type": "stream",
     "text": [
      "909\n"
     ]
    }
   ],
   "source": [
    "print(max(909, 100, 908))"
   ]
  },
  {
   "cell_type": "code",
   "execution_count": 15,
   "id": "f50f3b6b-3633-4d00-861d-3463cfa2be0f",
   "metadata": {},
   "outputs": [
    {
     "name": "stdout",
     "output_type": "stream",
     "text": [
      "909\n"
     ]
    }
   ],
   "source": [
    "print(max(909, 100, 909))"
   ]
  },
  {
   "cell_type": "code",
   "execution_count": null,
   "id": "56e80428-fe56-45e4-a3a1-eb508be6c31c",
   "metadata": {},
   "outputs": [],
   "source": []
  },
  {
   "cell_type": "code",
   "execution_count": 16,
   "id": "c47e00b1-9ba3-4e26-a578-ce3457a14d7c",
   "metadata": {},
   "outputs": [
    {
     "name": "stdout",
     "output_type": "stream",
     "text": [
      "3\n"
     ]
    }
   ],
   "source": [
    "print(min(3, 5))"
   ]
  },
  {
   "cell_type": "code",
   "execution_count": 18,
   "id": "ed095bbe-8824-4b1f-a866-3a663a51d4aa",
   "metadata": {},
   "outputs": [
    {
     "name": "stdout",
     "output_type": "stream",
     "text": [
      "-3\n"
     ]
    }
   ],
   "source": [
    "print(min(-1, -3))"
   ]
  },
  {
   "cell_type": "code",
   "execution_count": null,
   "id": "3bc0a4e6-c149-4661-996c-56282017c299",
   "metadata": {},
   "outputs": [],
   "source": []
  },
  {
   "cell_type": "code",
   "execution_count": null,
   "id": "a1090e5d-e3a0-4fb2-afe0-735f867b7de7",
   "metadata": {},
   "outputs": [],
   "source": []
  },
  {
   "cell_type": "code",
   "execution_count": null,
   "id": "bc12b4b4-0a7b-4757-8e62-c737bb035af1",
   "metadata": {},
   "outputs": [],
   "source": []
  },
  {
   "cell_type": "code",
   "execution_count": null,
   "id": "96a018d8-5468-4187-b00d-9734d85d0c31",
   "metadata": {},
   "outputs": [],
   "source": []
  },
  {
   "cell_type": "markdown",
   "id": "0facfaff-6a34-4641-af49-b887a4aaff72",
   "metadata": {},
   "source": [
    "#### Sum"
   ]
  },
  {
   "cell_type": "code",
   "execution_count": 19,
   "id": "5a80471d-901a-4675-99ae-2299a1c924fc",
   "metadata": {},
   "outputs": [
    {
     "name": "stdout",
     "output_type": "stream",
     "text": [
      "5050\n"
     ]
    }
   ],
   "source": [
    "print(sum(range(1, 101)))"
   ]
  },
  {
   "cell_type": "code",
   "execution_count": 20,
   "id": "c6c8b808-75b3-40b3-8469-a84c03eb8612",
   "metadata": {},
   "outputs": [
    {
     "name": "stdout",
     "output_type": "stream",
     "text": [
      "55\n"
     ]
    }
   ],
   "source": [
    "print(sum(range(1, 11)))"
   ]
  },
  {
   "cell_type": "code",
   "execution_count": 21,
   "id": "d665833b-fcab-435d-84b9-664d1acca7eb",
   "metadata": {},
   "outputs": [
    {
     "name": "stdout",
     "output_type": "stream",
     "text": [
      "45\n"
     ]
    }
   ],
   "source": [
    "print(sum(range(1, 10)))"
   ]
  },
  {
   "cell_type": "code",
   "execution_count": 22,
   "id": "19e0dd76-0753-460d-b75c-8c9403ae3047",
   "metadata": {},
   "outputs": [
    {
     "name": "stdout",
     "output_type": "stream",
     "text": [
      "[1, 2, 3, 4, 5, 6, 7, 8, 9]\n"
     ]
    }
   ],
   "source": [
    "print(list(range(1, 10)))"
   ]
  },
  {
   "cell_type": "code",
   "execution_count": 23,
   "id": "aba19917-b46e-47ea-8cc5-17e3c0be7109",
   "metadata": {},
   "outputs": [
    {
     "name": "stdout",
     "output_type": "stream",
     "text": [
      "[1, 2, 3, 4, 5, 6, 7, 8, 9, 10]\n"
     ]
    }
   ],
   "source": [
    "print(list(range(1, 11)))"
   ]
  },
  {
   "cell_type": "code",
   "execution_count": null,
   "id": "2f2e6027-c980-4ec3-a787-f968ef3f7564",
   "metadata": {},
   "outputs": [],
   "source": []
  },
  {
   "cell_type": "code",
   "execution_count": 35,
   "id": "41e53eee-76da-4e71-b0ea-908bcf8d8e0e",
   "metadata": {},
   "outputs": [
    {
     "name": "stdout",
     "output_type": "stream",
     "text": [
      "[1, 2, 3, 4, 5, 6, 7, 8, 9, 10]\n"
     ]
    }
   ],
   "source": [
    "print(list(range(1,11)))"
   ]
  },
  {
   "cell_type": "code",
   "execution_count": null,
   "id": "5cb6508f-ebb9-4a6c-b16b-7f32c01a8a21",
   "metadata": {},
   "outputs": [],
   "source": []
  },
  {
   "cell_type": "code",
   "execution_count": null,
   "id": "285309c8-8fc2-48ce-8116-2e92113fa516",
   "metadata": {},
   "outputs": [],
   "source": []
  },
  {
   "cell_type": "code",
   "execution_count": null,
   "id": "3eeeb7fc-cc6b-4204-8652-6510797f124a",
   "metadata": {},
   "outputs": [],
   "source": []
  },
  {
   "cell_type": "markdown",
   "id": "e3ef954b-9068-4ed9-a968-cabcd7c442ae",
   "metadata": {},
   "source": [
    "#### log function"
   ]
  },
  {
   "cell_type": "code",
   "execution_count": 24,
   "id": "1cd41fe3-bc51-44b9-b44d-f02308c61058",
   "metadata": {},
   "outputs": [],
   "source": [
    "# import a library"
   ]
  },
  {
   "cell_type": "code",
   "execution_count": 37,
   "id": "ab1792c7-bf42-4198-8092-580ce1a92359",
   "metadata": {},
   "outputs": [],
   "source": [
    "import math"
   ]
  },
  {
   "cell_type": "code",
   "execution_count": 26,
   "id": "e6ebd7d1-8a4a-4e67-9773-64228eb99ede",
   "metadata": {},
   "outputs": [
    {
     "name": "stdout",
     "output_type": "stream",
     "text": [
      "1.3862943611198906\n"
     ]
    }
   ],
   "source": [
    "print(math.log(4))"
   ]
  },
  {
   "cell_type": "code",
   "execution_count": 27,
   "id": "f8834c0f-c1fa-4972-a8b9-4bc2f5e0a720",
   "metadata": {},
   "outputs": [
    {
     "name": "stdout",
     "output_type": "stream",
     "text": [
      "2.0\n"
     ]
    }
   ],
   "source": [
    "print(math.log2(4))"
   ]
  },
  {
   "cell_type": "code",
   "execution_count": 28,
   "id": "380ba739-a9f8-40cd-915c-1e95dee755db",
   "metadata": {},
   "outputs": [
    {
     "name": "stdout",
     "output_type": "stream",
     "text": [
      "4.0\n"
     ]
    }
   ],
   "source": [
    "print(math.log2(16))"
   ]
  },
  {
   "cell_type": "code",
   "execution_count": 30,
   "id": "aef14c91-6e0f-45bc-baa4-565afd0341e0",
   "metadata": {},
   "outputs": [
    {
     "name": "stdout",
     "output_type": "stream",
     "text": [
      "3\n"
     ]
    }
   ],
   "source": [
    "print(int(math.log2(15)))"
   ]
  },
  {
   "cell_type": "code",
   "execution_count": 31,
   "id": "0164d347-c7fd-4d82-a6c2-c27993bdfa8a",
   "metadata": {},
   "outputs": [
    {
     "name": "stdout",
     "output_type": "stream",
     "text": [
      "10\n"
     ]
    }
   ],
   "source": [
    "print(int(math.log2(1054)))"
   ]
  },
  {
   "cell_type": "code",
   "execution_count": 32,
   "id": "e7ed89a2-9599-4239-bf3a-10f641983899",
   "metadata": {},
   "outputs": [
    {
     "name": "stdout",
     "output_type": "stream",
     "text": [
      "12\n"
     ]
    }
   ],
   "source": [
    "print(int(math.log2(5897)))"
   ]
  },
  {
   "cell_type": "code",
   "execution_count": 38,
   "id": "e28d0c65-cfba-404c-8536-ac87adec2474",
   "metadata": {},
   "outputs": [
    {
     "ename": "AttributeError",
     "evalue": "module 'math' has no attribute 'log3'",
     "output_type": "error",
     "traceback": [
      "\u001b[0;31m---------------------------------------------------------------------------\u001b[0m",
      "\u001b[0;31mAttributeError\u001b[0m                            Traceback (most recent call last)",
      "\u001b[0;32m/var/folders/zn/hkv6562d6_d30glfs8yc76900000gn/T/ipykernel_9853/3468148402.py\u001b[0m in \u001b[0;36m<module>\u001b[0;34m\u001b[0m\n\u001b[0;32m----> 1\u001b[0;31m \u001b[0mprint\u001b[0m\u001b[0;34m(\u001b[0m\u001b[0mint\u001b[0m\u001b[0;34m(\u001b[0m\u001b[0mmath\u001b[0m\u001b[0;34m.\u001b[0m\u001b[0mlog3\u001b[0m\u001b[0;34m(\u001b[0m\u001b[0;36m9\u001b[0m\u001b[0;34m)\u001b[0m\u001b[0;34m)\u001b[0m\u001b[0;34m)\u001b[0m\u001b[0;34m\u001b[0m\u001b[0;34m\u001b[0m\u001b[0m\n\u001b[0m",
      "\u001b[0;31mAttributeError\u001b[0m: module 'math' has no attribute 'log3'"
     ]
    }
   ],
   "source": [
    "print(int(math.log3(9)))"
   ]
  },
  {
   "cell_type": "code",
   "execution_count": null,
   "id": "9af81af5-b1d4-4d00-8362-466d0ff193d9",
   "metadata": {},
   "outputs": [],
   "source": []
  },
  {
   "cell_type": "code",
   "execution_count": 33,
   "id": "7ba2eb8c-8aae-461f-86c6-38395f417269",
   "metadata": {},
   "outputs": [
    {
     "data": {
      "text/plain": [
       "['__doc__',\n",
       " '__file__',\n",
       " '__loader__',\n",
       " '__name__',\n",
       " '__package__',\n",
       " '__spec__',\n",
       " 'acos',\n",
       " 'acosh',\n",
       " 'asin',\n",
       " 'asinh',\n",
       " 'atan',\n",
       " 'atan2',\n",
       " 'atanh',\n",
       " 'ceil',\n",
       " 'comb',\n",
       " 'copysign',\n",
       " 'cos',\n",
       " 'cosh',\n",
       " 'degrees',\n",
       " 'dist',\n",
       " 'e',\n",
       " 'erf',\n",
       " 'erfc',\n",
       " 'exp',\n",
       " 'expm1',\n",
       " 'fabs',\n",
       " 'factorial',\n",
       " 'floor',\n",
       " 'fmod',\n",
       " 'frexp',\n",
       " 'fsum',\n",
       " 'gamma',\n",
       " 'gcd',\n",
       " 'hypot',\n",
       " 'inf',\n",
       " 'isclose',\n",
       " 'isfinite',\n",
       " 'isinf',\n",
       " 'isnan',\n",
       " 'isqrt',\n",
       " 'lcm',\n",
       " 'ldexp',\n",
       " 'lgamma',\n",
       " 'log',\n",
       " 'log10',\n",
       " 'log1p',\n",
       " 'log2',\n",
       " 'modf',\n",
       " 'nan',\n",
       " 'nextafter',\n",
       " 'perm',\n",
       " 'pi',\n",
       " 'pow',\n",
       " 'prod',\n",
       " 'radians',\n",
       " 'remainder',\n",
       " 'sin',\n",
       " 'sinh',\n",
       " 'sqrt',\n",
       " 'tan',\n",
       " 'tanh',\n",
       " 'tau',\n",
       " 'trunc',\n",
       " 'ulp']"
      ]
     },
     "execution_count": 33,
     "metadata": {},
     "output_type": "execute_result"
    }
   ],
   "source": [
    "dir(math)"
   ]
  },
  {
   "cell_type": "code",
   "execution_count": null,
   "id": "ed6c071a-0675-4760-9d75-16e53cfa8ecf",
   "metadata": {},
   "outputs": [],
   "source": []
  }
 ],
 "metadata": {
  "kernelspec": {
   "display_name": "Python 3 (ipykernel)",
   "language": "python",
   "name": "python3"
  },
  "language_info": {
   "codemirror_mode": {
    "name": "ipython",
    "version": 3
   },
   "file_extension": ".py",
   "mimetype": "text/x-python",
   "name": "python",
   "nbconvert_exporter": "python",
   "pygments_lexer": "ipython3",
   "version": "3.9.7"
  }
 },
 "nbformat": 4,
 "nbformat_minor": 5
}
