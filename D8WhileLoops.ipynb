{
 "cells": [
  {
   "cell_type": "code",
   "execution_count": 2,
   "id": "612b4dcd-ebc2-4c9f-9219-273ded8892f8",
   "metadata": {},
   "outputs": [
    {
     "name": "stdin",
     "output_type": "stream",
     "text": [
      " 1\n",
      " 2\n"
     ]
    },
    {
     "data": {
      "text/plain": [
       "0"
      ]
     },
     "execution_count": 2,
     "metadata": {},
     "output_type": "execute_result"
    }
   ],
   "source": [
    "import math\n",
    "\n",
    "A = int(input())\n",
    "B = int(input())\n",
    "\n",
    "math.floor(A/B)"
   ]
  },
  {
   "cell_type": "code",
   "execution_count": 17,
   "id": "f16173f5-a683-4707-90e1-ff737ca52659",
   "metadata": {},
   "outputs": [
    {
     "name": "stdin",
     "output_type": "stream",
     "text": [
      " 22\n"
     ]
    },
    {
     "name": "stdout",
     "output_type": "stream",
     "text": [
      "4 8 12 16 20 "
     ]
    }
   ],
   "source": [
    "N = int(input())\n",
    "count = 1\n",
    "\n",
    "while count <= N:\n",
    "    if count % 4 == 0:\n",
    "        print(count, end=\" \")\n",
    "    count += 1"
   ]
  },
  {
   "cell_type": "code",
   "execution_count": 14,
   "id": "b8513aa3-8a57-41af-b3a9-f36c13302ce8",
   "metadata": {},
   "outputs": [],
   "source": [
    "# c = 0\n",
    "# while c <= 10:\n",
    "#     print(c)\n",
    "#     if c%2:\n",
    "#         c-=1\n",
    "#     else:\n",
    "#         c+=1"
   ]
  },
  {
   "cell_type": "code",
   "execution_count": 25,
   "id": "d8a5b15f-b2d3-454f-b228-2ea90bad5eeb",
   "metadata": {},
   "outputs": [
    {
     "name": "stdin",
     "output_type": "stream",
     "text": [
      " 100\n"
     ]
    },
    {
     "name": "stdout",
     "output_type": "stream",
     "text": [
      "1 4 9 16 25 36 49 64 81 100 "
     ]
    }
   ],
   "source": [
    "A = int(input())\n",
    "num = 1\n",
    "\n",
    "while (num * num) <= A:\n",
    "    print(num * num, end=\" \")\n",
    "    num += 1"
   ]
  },
  {
   "cell_type": "code",
   "execution_count": 30,
   "id": "261ad067-4eac-4dd7-906f-01ac4f233de9",
   "metadata": {},
   "outputs": [
    {
     "name": "stdin",
     "output_type": "stream",
     "text": [
      " 1\n",
      " 10\n"
     ]
    },
    {
     "name": "stdout",
     "output_type": "stream",
     "text": [
      "1\n"
     ]
    }
   ],
   "source": [
    "A = int(input())\n",
    "B = int(input())\n",
    "\n",
    "print(A ** B)"
   ]
  },
  {
   "cell_type": "code",
   "execution_count": 13,
   "id": "dbd06670-38c1-436a-96cf-25996e405751",
   "metadata": {},
   "outputs": [
    {
     "name": "stdin",
     "output_type": "stream",
     "text": [
      " 2\n"
     ]
    },
    {
     "name": "stdout",
     "output_type": "stream",
     "text": [
      "2 * 1 = 2\n",
      "2 * 2 = 4\n",
      "2 * 3 = 6\n",
      "2 * 4 = 8\n",
      "2 * 5 = 10\n",
      "2 * 6 = 12\n",
      "2 * 7 = 14\n",
      "2 * 8 = 16\n",
      "2 * 9 = 18\n",
      "2 * 10 = 20\n"
     ]
    }
   ],
   "source": [
    "A = int(input())\n",
    "count = 1\n",
    "\n",
    "while count <= 10:\n",
    "    # print(\"%d * %d = %d\" % (A, count, A * count))\n",
    "    print(str(A) + \" * \" + str(count) + \" = \" + str(A * count))\n",
    "    count += 1"
   ]
  },
  {
   "cell_type": "code",
   "execution_count": null,
   "id": "7bd297a3-e69c-46fe-b9f6-0dd76b2f9d63",
   "metadata": {},
   "outputs": [],
   "source": [
    "# num=16\n",
    "# base=4\n",
    "# cnt=0\n",
    "# while(num>1):\n",
    "#   num /= base\n",
    "#   cnt+=1\n",
    "# print(cnt)"
   ]
  },
  {
   "cell_type": "code",
   "execution_count": 1,
   "id": "ec47d54e-64ff-4b38-869c-aff562b47483",
   "metadata": {},
   "outputs": [
    {
     "name": "stdin",
     "output_type": "stream",
     "text": [
      " 2\n",
      " 1009\n"
     ]
    },
    {
     "name": "stdout",
     "output_type": "stream",
     "text": [
      "4\n"
     ]
    },
    {
     "name": "stdin",
     "output_type": "stream",
     "text": [
      " 67\n"
     ]
    },
    {
     "name": "stdout",
     "output_type": "stream",
     "text": [
      "2\n"
     ]
    }
   ],
   "source": [
    "T = int(input())\n",
    "while T > 0:\n",
    "    N = int(input())\n",
    "    print(len([int(num) for num in str(N)]))\n",
    "    T -= 1"
   ]
  }
 ],
 "metadata": {
  "kernelspec": {
   "display_name": "Python 3 (ipykernel)",
   "language": "python",
   "name": "python3"
  },
  "language_info": {
   "codemirror_mode": {
    "name": "ipython",
    "version": 3
   },
   "file_extension": ".py",
   "mimetype": "text/x-python",
   "name": "python",
   "nbconvert_exporter": "python",
   "pygments_lexer": "ipython3",
   "version": "3.9.12"
  }
 },
 "nbformat": 4,
 "nbformat_minor": 5
}
