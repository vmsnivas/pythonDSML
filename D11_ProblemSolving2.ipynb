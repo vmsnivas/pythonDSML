{
 "cells": [
  {
   "cell_type": "markdown",
   "id": "7b755a3d-ae83-4208-8e85-cd31d1e3876b",
   "metadata": {},
   "source": [
    "# Print Squares of Given Numbers"
   ]
  },
  {
   "cell_type": "code",
   "execution_count": 55,
   "id": "09f62eee-a309-4aaa-ae0c-7d8e243b76ae",
   "metadata": {},
   "outputs": [
    {
     "name": "stdout",
     "output_type": "stream",
     "text": [
      "1\n",
      "3\n",
      "5\n",
      "7\n",
      "9\n",
      "11\n",
      "13\n",
      "15\n",
      "17\n",
      "19\n",
      "21\n"
     ]
    }
   ],
   "source": [
    "def main():\n",
    "    num = 1\n",
    "    step = 2\n",
    "    \n",
    "    # while num <= 21:\n",
    "    #     print(num*num)\n",
    "    #     num += step\n",
    "    #     step += 1\n",
    "    \n",
    "    for i in range(1,22,step):\n",
    "        print(i)\n",
    "        step += 1\n",
    "\n",
    "if __name__ == '__main__':\n",
    "    main()"
   ]
  },
  {
   "cell_type": "markdown",
   "id": "3c6cf2c2-c6a2-40b9-8204-04a2d80bea7a",
   "metadata": {},
   "source": [
    "# Is it Prime?"
   ]
  },
  {
   "cell_type": "code",
   "execution_count": 12,
   "id": "5ccb68b2-00be-4bad-bbc0-85df25d0d474",
   "metadata": {},
   "outputs": [
    {
     "name": "stdin",
     "output_type": "stream",
     "text": [
      " 7\n"
     ]
    },
    {
     "name": "stdout",
     "output_type": "stream",
     "text": [
      "YES\n"
     ]
    }
   ],
   "source": [
    "def main():\n",
    "    A = int(input())\n",
    "    count = 0\n",
    "    \n",
    "    for i in range(1,A+1):\n",
    "        if A % i == 0:\n",
    "            count += 1\n",
    "            \n",
    "    if count <= 2:\n",
    "        print('YES')\n",
    "    else:\n",
    "        print('NO')\n",
    "\n",
    "if __name__ == '__main__':\n",
    "    main()"
   ]
  },
  {
   "cell_type": "markdown",
   "id": "0a269a77-a7b1-4364-a09d-be4f9a18efdb",
   "metadata": {},
   "source": [
    "# Break in loop"
   ]
  },
  {
   "cell_type": "code",
   "execution_count": 26,
   "id": "79f0b613-0adf-44eb-b3bb-6633cc45fe80",
   "metadata": {},
   "outputs": [
    {
     "name": "stdout",
     "output_type": "stream",
     "text": [
      "0\n",
      "1\n",
      "2\n",
      "3\n",
      "END\n"
     ]
    }
   ],
   "source": [
    "i=2\n",
    "if i==2:\n",
    "    i+=1\n",
    "for j in range(i):\n",
    "    pass\n",
    "    break\n",
    "    i+=1\n",
    "print(i)"
   ]
  },
  {
   "cell_type": "markdown",
   "id": "14692c34-b7eb-45e6-87f7-83dcccc7ff42",
   "metadata": {},
   "source": [
    "# Continue in loop"
   ]
  },
  {
   "cell_type": "code",
   "execution_count": 27,
   "id": "d1ec7492-46fa-4add-b43e-855d36e8a716",
   "metadata": {},
   "outputs": [
    {
     "name": "stdout",
     "output_type": "stream",
     "text": [
      "Exec "
     ]
    }
   ],
   "source": [
    "n=8\n",
    "while n>=0:\n",
    "   n -= 2\n",
    "   if n%2==0:\n",
    "       continue\n",
    "   print(n, end=\" \")\n",
    "else:\n",
    "   print(\"Exec\", end=\" \")"
   ]
  },
  {
   "cell_type": "markdown",
   "id": "f57f87f6-be50-4eea-ae05-695901e12bac",
   "metadata": {},
   "source": [
    "# Integer in Words Python"
   ]
  },
  {
   "cell_type": "code",
   "execution_count": 59,
   "id": "fee5bd0f-c4f2-48bb-8b42-3858d6221fd3",
   "metadata": {},
   "outputs": [
    {
     "name": "stdin",
     "output_type": "stream",
     "text": [
      " 93456\n"
     ]
    },
    {
     "name": "stdout",
     "output_type": "stream",
     "text": [
      "nine three four five six "
     ]
    }
   ],
   "source": [
    "def main():\n",
    "    A = int(input())\n",
    "    \n",
    "    for i in str(A):\n",
    "        if i == '1':\n",
    "            print('one', end=\" \")\n",
    "        elif i == '2':\n",
    "            print('two', end=\" \")\n",
    "        elif i == '3':\n",
    "            print('three', end=\" \")\n",
    "        elif i == '4':\n",
    "            print('four', end=\" \")\n",
    "        elif i == '5':\n",
    "            print('five', end=\" \")\n",
    "        elif i == '6':\n",
    "            print('six', end=\" \")\n",
    "        elif i == '7':\n",
    "            print('seven', end=\" \")\n",
    "        elif i == '8':\n",
    "            print('eight', end=\" \")\n",
    "        elif i == '9':\n",
    "            print('nine', end=\" \")\n",
    "        elif i == '0':\n",
    "            print('zero', end=\" \")\n",
    "        \n",
    "if __name__ == '__main__':\n",
    "    main()"
   ]
  },
  {
   "cell_type": "markdown",
   "id": "60e19ea5-7174-48d4-9a6e-b6584c69be46",
   "metadata": {},
   "source": [
    "# Print the Primes Python"
   ]
  },
  {
   "cell_type": "code",
   "execution_count": 24,
   "id": "87c2763a-09db-41d2-bf3c-5203c852636e",
   "metadata": {},
   "outputs": [
    {
     "name": "stdin",
     "output_type": "stream",
     "text": [
      " 10\n"
     ]
    },
    {
     "name": "stdout",
     "output_type": "stream",
     "text": [
      "2\n",
      "3\n",
      "5\n",
      "7\n"
     ]
    }
   ],
   "source": [
    "def main():\n",
    "    A = int(input())\n",
    "    \n",
    "    for i in range(2,A+1):\n",
    "        count = 0\n",
    "        for j in range(1,i+1):\n",
    "            if i % j == 0:\n",
    "                count += 1\n",
    "        if count <= 2:\n",
    "            print(i)\n",
    "\n",
    "if __name__ == '__main__':\n",
    "    main()"
   ]
  },
  {
   "cell_type": "markdown",
   "id": "8ab0fb55-5772-4fbe-920c-a7adf545c17f",
   "metadata": {},
   "source": [
    "# Is It Perfect Python"
   ]
  },
  {
   "cell_type": "code",
   "execution_count": 41,
   "id": "1dfc0a7d-b79d-461a-a130-ed4e057673fe",
   "metadata": {},
   "outputs": [
    {
     "name": "stdin",
     "output_type": "stream",
     "text": [
      " 2\n",
      " 4\n"
     ]
    },
    {
     "name": "stdout",
     "output_type": "stream",
     "text": [
      "NO\n"
     ]
    },
    {
     "name": "stdin",
     "output_type": "stream",
     "text": [
      " 6\n"
     ]
    },
    {
     "name": "stdout",
     "output_type": "stream",
     "text": [
      "YES\n"
     ]
    }
   ],
   "source": [
    "def main():\n",
    "    N = int(input())\n",
    "    \n",
    "    for i in range(1,N+1):\n",
    "        \n",
    "        A = int(input())\n",
    "        total = 0\n",
    "        \n",
    "        for j in range(1,A):\n",
    "            \n",
    "            if A % j == 0:\n",
    "                total += j\n",
    "                \n",
    "        if A == total:\n",
    "            print('YES')\n",
    "        else:\n",
    "            print('NO')\n",
    "\n",
    "if __name__ == '__main__':\n",
    "    main()"
   ]
  },
  {
   "cell_type": "markdown",
   "id": "f36803b7-3fe9-4181-8c10-1f4664757553",
   "metadata": {},
   "source": [
    "# Perfect Numbers II Python"
   ]
  },
  {
   "cell_type": "code",
   "execution_count": 44,
   "id": "7a58ddb0-a671-48a6-9b30-77e4f1da381b",
   "metadata": {},
   "outputs": [
    {
     "name": "stdin",
     "output_type": "stream",
     "text": [
      " 35\n"
     ]
    },
    {
     "name": "stdout",
     "output_type": "stream",
     "text": [
      "6\n",
      "28\n"
     ]
    }
   ],
   "source": [
    "def main():\n",
    "    N = int(input())\n",
    "    \n",
    "    for i in range(1,N+1):\n",
    "        \n",
    "        total = 0\n",
    "        \n",
    "        for j in range(1,i):\n",
    "            \n",
    "            if i % j == 0:\n",
    "                total += j\n",
    "                \n",
    "        if i == total:\n",
    "            print(i)\n",
    "\n",
    "if __name__ == '__main__':\n",
    "    main()"
   ]
  }
 ],
 "metadata": {
  "kernelspec": {
   "display_name": "Python 3 (ipykernel)",
   "language": "python",
   "name": "python3"
  },
  "language_info": {
   "codemirror_mode": {
    "name": "ipython",
    "version": 3
   },
   "file_extension": ".py",
   "mimetype": "text/x-python",
   "name": "python",
   "nbconvert_exporter": "python",
   "pygments_lexer": "ipython3",
   "version": "3.9.12"
  }
 },
 "nbformat": 4,
 "nbformat_minor": 5
}
