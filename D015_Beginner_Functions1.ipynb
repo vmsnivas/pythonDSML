{
 "cells": [
  {
   "cell_type": "markdown",
   "id": "aa750885-df01-4056-9e47-df40b377fbab",
   "metadata": {},
   "source": [
    "# Celsius to Fahrenheit MCQ"
   ]
  },
  {
   "cell_type": "code",
   "execution_count": null,
   "id": "a7ca60f8-5074-4b63-9f62-bcd87315b7a1",
   "metadata": {},
   "outputs": [],
   "source": [
    "def convert(t):\n",
    "    return t*9/5 + 32\n",
    "\n",
    "print(convert(20))"
   ]
  },
  {
   "cell_type": "code",
   "execution_count": null,
   "id": "6e9c4ff5-f74e-484b-9d96-01e46c128711",
   "metadata": {},
   "outputs": [],
   "source": [
    "def celsius_farhen(Celsius):\n",
    "    ans = Celsius * 9 / 5 + 32\n",
    "    # YOUR CODE GOES HERE\n",
    "    \n",
    "    \n",
    "    \n",
    "    return round(ans,2)\n",
    "\n",
    "print(celsius_farhen(35.8))"
   ]
  },
  {
   "cell_type": "markdown",
   "id": "554a8fa2-73fc-40e6-9d7f-2c51b610f481",
   "metadata": {},
   "source": [
    "# Area of Circle\n",
    "Formula: pi * (r ** 2)\n",
    "\n",
    "Sample explanation:\n",
    "\n",
    "The area for circle with radius 5cm is 3.14159 x (5 x 5) = 78.53975 cm2\n",
    "\n",
    "After rounding by 2 digits, it becomes 78.54 cm2"
   ]
  },
  {
   "cell_type": "code",
   "execution_count": null,
   "id": "626ab47b-c1ce-4fc7-81a8-64437a13312b",
   "metadata": {},
   "outputs": [],
   "source": [
    "def circle_area(r):\n",
    "    \n",
    "    '''input: r = A numerical value as radius\n",
    "       output: Return the area of circle as ans upto 2 decimal places'''\n",
    "    # YOUR CODE GOES HERE\n",
    "    ans = 3.14159 * r * r\n",
    "\n",
    "    return round(ans, 2)"
   ]
  },
  {
   "cell_type": "markdown",
   "id": "9b826375-b1d1-40b1-9050-ae3dc7b66976",
   "metadata": {},
   "source": [
    "# Sum of squares\n",
    "The formula for the sum of squares of first n natural numbers is: n(n+1)(2n+1)/6"
   ]
  },
  {
   "cell_type": "code",
   "execution_count": null,
   "id": "102bbf85-8007-4c19-9088-6e48f41cc6eb",
   "metadata": {},
   "outputs": [],
   "source": [
    "def sum_squares(n):\n",
    "    \n",
    "    ''' input:Given Integer n\n",
    "         output: Return ans as sum of squares in integer format.'''\n",
    "    \n",
    "    # YOUR CODE GOES HERE\n",
    "    ans = n * (n + 1) * (2 * n + 1) / 6\n",
    "    \n",
    "    return int(ans)"
   ]
  },
  {
   "cell_type": "markdown",
   "id": "23a06275-a963-47ec-a038-eca5f59e0b6c",
   "metadata": {},
   "source": [
    "# Sequence [1-N] & [N-1]"
   ]
  },
  {
   "cell_type": "code",
   "execution_count": null,
   "id": "9a7ec106-01e1-47cd-9b7b-a9b68eef7464",
   "metadata": {},
   "outputs": [],
   "source": [
    "n = int(input())\n",
    "\n",
    "for i in range(1,n+1):\n",
    "    print(i, end=' ')\n",
    "print()\n",
    "print()\n",
    "for i in range(n,0,-1):\n",
    "    print(i, end=' ')"
   ]
  },
  {
   "cell_type": "markdown",
   "id": "70f42933-4179-445b-9974-1b8629bff084",
   "metadata": {},
   "source": [
    "# Simple Interest\n",
    "\n",
    "Formula to calculate interest: **(p * n * r) / 100**  (or) **(time * principleAmount * interestRate)/100**\n",
    "\n",
    "time = noOfDays / 365 (As we need to calculate the interest per annum)\n",
    "\n",
    "Total amount to be paid = principleAmount + calculatedInterest"
   ]
  },
  {
   "cell_type": "code",
   "execution_count": null,
   "id": "883a92c1-cd56-498a-a25f-3a70f1eb4d7a",
   "metadata": {},
   "outputs": [],
   "source": [
    "def simple_int(time,pa,ir):\n",
    "    ''' time, pa, ir represents the time in number of days, principal amount and rate of interest\n",
    "        Return the simple interest'''\n",
    "    \n",
    "    # YOUR CODE GOES HERE\n",
    "    ans = pa + ((time / 365) * pa * ir / 100)\n",
    "    \n",
    "    \n",
    "    return round(ans,2)"
   ]
  },
  {
   "cell_type": "markdown",
   "id": "4f441f6d-55da-4231-9d7f-dacd99dbd0fa",
   "metadata": {},
   "source": [
    "# Road tax\n",
    "\n",
    "|Cost price (in Rs.) | Tax|\n",
    "|-|-|\n",
    "| > 1,00,000 | 20% |\n",
    "| > 75,000 and <= 1,00,000 | 15% |\n",
    "| > 50,000 and <= 75,000 | 10% |\n",
    "| <= 50,000 | 5% |\n",
    "\n",
    "**Note:** Return the tax up to one decimal place. You can use round(tax,1)"
   ]
  },
  {
   "cell_type": "code",
   "execution_count": null,
   "id": "42d03bc5-24af-4e27-a1a3-e2d4937118cb",
   "metadata": {},
   "outputs": [],
   "source": [
    "def road_tax(price):\n",
    "    \n",
    "    # YOUR CODE GOES HERE\n",
    "    if price > 100000:\n",
    "        tax = price * 20 / 100\n",
    "    elif price > 75000 and price <= 100000:\n",
    "        tax = price * 15 / 100\n",
    "    elif price > 50000 and price <= 75000:\n",
    "        tax = price * 10 / 100\n",
    "    elif price <= 50000:\n",
    "        tax = price * 5 / 100\n",
    "\n",
    "    return round(tax, 1)"
   ]
  },
  {
   "cell_type": "code",
   "execution_count": null,
   "id": "79149691-a2ab-4303-a29b-a191b3dc06e8",
   "metadata": {},
   "outputs": [],
   "source": [
    "x = 55\n",
    "def hi():\n",
    "  return x\n",
    "x +=10\n",
    "print(hi())"
   ]
  },
  {
   "cell_type": "markdown",
   "id": "34b12eab-2d11-43c1-b171-4f4f1efc8b46",
   "metadata": {},
   "source": [
    "# Star pattern\n",
    "\n",
    "```\n",
    "********\n",
    "*     *\n",
    "*    *\n",
    "*   *\n",
    "*  *\n",
    "* *\n",
    "**\n",
    "*\n",
    "```"
   ]
  },
  {
   "cell_type": "code",
   "execution_count": null,
   "id": "b8ed3be8-a299-43fa-aa07-a2af93b97407",
   "metadata": {},
   "outputs": [],
   "source": [
    "def star(n):\n",
    "    '''input: n = An Integer value defines number of rows\n",
    "       output: print the star pattern'''\n",
    "    # YOUR CODE GOES HERE\n",
    "    for i in range(n,0,-1):\n",
    "        if i == n or i <= 2:\n",
    "            print('*' * i)\n",
    "        else:\n",
    "            print('*' + ' ' * (i - 2) + '*')\n",
    "        \n",
    "if __name__ == '__main__':\n",
    "    star(8)"
   ]
  },
  {
   "cell_type": "markdown",
   "id": "30476712-20a0-47e3-8598-4f05372271d1",
   "metadata": {},
   "source": [
    "# Perfect Number\n",
    "\n",
    "If the given integer is a perfect number return 1 else return 0."
   ]
  },
  {
   "cell_type": "code",
   "execution_count": null,
   "id": "0e5eb8ec-8d5d-4eb3-82d6-f39af493531b",
   "metadata": {},
   "outputs": [],
   "source": [
    "def perfect_number(n):\n",
    "    '''input: n = An Integer value \n",
    "       output: return 1 if it is perfect number else 0'''\n",
    "    # YOUR CODE GOES HERE\n",
    "    \n",
    "    total = 0\n",
    "    \n",
    "    for i in range(1,n):\n",
    "        \n",
    "        if n % i == 0:\n",
    "            total += i\n",
    "            \n",
    "    if n == total:\n",
    "        return 1\n",
    "    else:\n",
    "        return 0\n",
    "    \n",
    "if __name__ == '__main__':\n",
    "    print(perfect_number(28))"
   ]
  },
  {
   "cell_type": "markdown",
   "id": "a204192d-6dff-4abc-90ec-927a259acbbb",
   "metadata": {},
   "source": [
    "# Sphere Volume\n",
    "\n",
    "**Problem Description:**\n",
    "\n",
    "You are given a positive integer r denoting the radius of a sphere as a parameter. Write a program to calculate the volume of the sphere. The volume of a sphere having radius R is given by (4 * π * (R ** 3)) / 3.\n",
    "\n",
    "**NOTE: Return the volume of the sphere up to two decimal places. You can use round().**\n",
    "\n",
    "**NOTE2: Use pi as 22/7 (not math.pi).**"
   ]
  },
  {
   "cell_type": "code",
   "execution_count": null,
   "id": "cb03e7dc-5a2d-40c6-9a42-c38bfced6f06",
   "metadata": {},
   "outputs": [],
   "source": [
    "def volume_sphere(r):\n",
    "    '''input: r = Input in integer format\n",
    "       output:return Vol of sphere upto two decimals'''\n",
    "    # YOUR CODE GOES HERE\n",
    "    Vol = (4 * (22 / 7) * (r ** 3)) / 3\n",
    "    \n",
    "    return round(Vol, 2)\n",
    "\n",
    "if __name__ == '__main__':\n",
    "    print(volume_sphere(8))"
   ]
  }
 ],
 "metadata": {
  "kernelspec": {
   "display_name": "Python 3 (ipykernel)",
   "language": "python",
   "name": "python3"
  },
  "language_info": {
   "codemirror_mode": {
    "name": "ipython",
    "version": 3
   },
   "file_extension": ".py",
   "mimetype": "text/x-python",
   "name": "python",
   "nbconvert_exporter": "python",
   "pygments_lexer": "ipython3",
   "version": "3.9.12"
  }
 },
 "nbformat": 4,
 "nbformat_minor": 5
}
