{
 "cells": [
  {
   "cell_type": "markdown",
   "id": "bf1071b8-72ad-4427-a03a-15a470c73f4f",
   "metadata": {},
   "source": [
    "# Factorial"
   ]
  },
  {
   "cell_type": "code",
   "execution_count": 3,
   "id": "f148dfd1-dc2e-47e2-badb-5d0153b0d4fa",
   "metadata": {},
   "outputs": [
    {
     "name": "stdin",
     "output_type": "stream",
     "text": [
      " 0\n"
     ]
    },
    {
     "name": "stdout",
     "output_type": "stream",
     "text": [
      "1\n"
     ]
    }
   ],
   "source": [
    "n = int(input())\n",
    "fact = 1\n",
    "i = 1\n",
    "\n",
    "while i <= n:\n",
    "    fact *= i\n",
    "    i += 1\n",
    "print(fact)"
   ]
  },
  {
   "cell_type": "markdown",
   "id": "4da52d4d-95fd-4d3f-8492-4fc6b5036fee",
   "metadata": {},
   "source": [
    "# Factors of a number"
   ]
  },
  {
   "cell_type": "code",
   "execution_count": 7,
   "id": "1f67c62d-5325-4892-911a-4c10204006d5",
   "metadata": {},
   "outputs": [
    {
     "name": "stdin",
     "output_type": "stream",
     "text": [
      " 9\n"
     ]
    },
    {
     "name": "stdout",
     "output_type": "stream",
     "text": [
      "1 3 9 "
     ]
    }
   ],
   "source": [
    "n = int(input())\n",
    "i = 1\n",
    "\n",
    "while i <= n:\n",
    "    if n % i == 0:\n",
    "        print(i, end=\" \")\n",
    "    i += 1"
   ]
  },
  {
   "cell_type": "markdown",
   "id": "38523107-702c-4a0d-8904-e8a33b923fa7",
   "metadata": {},
   "source": [
    "# Counting number of digits in a number"
   ]
  },
  {
   "cell_type": "code",
   "execution_count": 14,
   "id": "56971586-0fb1-4437-903a-7cbb19d87a38",
   "metadata": {},
   "outputs": [
    {
     "name": "stdin",
     "output_type": "stream",
     "text": [
      " 1\n",
      " 0\n"
     ]
    },
    {
     "name": "stdout",
     "output_type": "stream",
     "text": [
      "1\n"
     ]
    }
   ],
   "source": [
    "# T = int(input())\n",
    "\n",
    "# while T > 0:\n",
    "#     N = int(input())\n",
    "#     print(len([int(num) for num in str(N)]))\n",
    "#     T -= 1\n",
    "\n",
    "T = int(input())\n",
    "i = 0\n",
    "\n",
    "while i < T:\n",
    "    N = int(input())\n",
    "    if N == 0:\n",
    "        count = 1\n",
    "    count = 1\n",
    "    while N > 0:\n",
    "        N //= 10\n",
    "        count += 1\n",
    "    print(count)\n",
    "    i += 1\n",
    "    "
   ]
  },
  {
   "cell_type": "markdown",
   "id": "8add6f31-1d48-4760-a3f6-ed4fe1249b50",
   "metadata": {},
   "source": [
    "# Sum of digits in a number"
   ]
  },
  {
   "cell_type": "code",
   "execution_count": 3,
   "id": "31d2e77f-ded3-4ae5-8284-f6669848a436",
   "metadata": {},
   "outputs": [
    {
     "name": "stdin",
     "output_type": "stream",
     "text": [
      " 2\n",
      " 13\n"
     ]
    },
    {
     "name": "stdout",
     "output_type": "stream",
     "text": [
      "4\n"
     ]
    },
    {
     "name": "stdin",
     "output_type": "stream",
     "text": [
      " 135\n"
     ]
    },
    {
     "name": "stdout",
     "output_type": "stream",
     "text": [
      "9\n"
     ]
    }
   ],
   "source": [
    "T = int(input())\n",
    "i = 0\n",
    "\n",
    "while i < T:\n",
    "    N = int(input())\n",
    "    total = 0\n",
    "    while N > 0:\n",
    "        total = total + (N % 10)\n",
    "        N //= 10\n",
    "    print(total)\n",
    "    i += 1"
   ]
  },
  {
   "cell_type": "markdown",
   "id": "16c515aa-20c6-41d9-b08b-b63fe5e5452c",
   "metadata": {},
   "source": [
    "# Count of 1's in number"
   ]
  },
  {
   "cell_type": "code",
   "execution_count": 7,
   "id": "94cbac3e-4637-4c19-a243-0503207e9991",
   "metadata": {},
   "outputs": [
    {
     "name": "stdin",
     "output_type": "stream",
     "text": [
      " 1001\n"
     ]
    },
    {
     "name": "stdout",
     "output_type": "stream",
     "text": [
      "2\n"
     ]
    }
   ],
   "source": [
    "n = int(input())\n",
    "\n",
    "count = 0\n",
    "\n",
    "while n > 0:\n",
    "    if n % 10 == 1:\n",
    "        count += 1\n",
    "    n //= 10\n",
    "print(count)"
   ]
  },
  {
   "cell_type": "markdown",
   "id": "db8662c1-e950-460e-8a5c-70b9fb5342f3",
   "metadata": {},
   "source": [
    "# Binary to Decimal"
   ]
  },
  {
   "cell_type": "code",
   "execution_count": 2,
   "id": "e49a457f-6740-4880-9665-63b6d7c799e5",
   "metadata": {},
   "outputs": [
    {
     "name": "stdin",
     "output_type": "stream",
     "text": [
      " 11\n"
     ]
    },
    {
     "name": "stdout",
     "output_type": "stream",
     "text": [
      "3\n"
     ]
    }
   ],
   "source": [
    "n = int(input())\n",
    "\n",
    "# binList = [int(num) for num in str(n)]\n",
    "# sum = 0\n",
    "\n",
    "# for i in range(len(binList)):\n",
    "#     if binList[i] == 1:\n",
    "#         sum = sum + (2 ** (len(binList) - 1 - i))\n",
    "        \n",
    "# print(sum)\n",
    "\n",
    "sum = 0\n",
    "count = 0\n",
    "\n",
    "while n > 0:\n",
    "    if n % 10 == 1:\n",
    "        sum += 2 ** count\n",
    "    n //= 10\n",
    "    count += 1\n",
    "    \n",
    "print(sum)"
   ]
  },
  {
   "cell_type": "markdown",
   "id": "f4cc10c9-493b-4119-a218-398d4deb18ac",
   "metadata": {},
   "source": [
    "# ArmStrong Numbers for 3rd order and Nth order"
   ]
  },
  {
   "cell_type": "code",
   "execution_count": 10,
   "id": "10cdefa9-fbbb-4a28-8b19-cc868b57f36f",
   "metadata": {},
   "outputs": [
    {
     "name": "stdin",
     "output_type": "stream",
     "text": [
      " 123456\n"
     ]
    },
    {
     "name": "stdout",
     "output_type": "stream",
     "text": [
      "1\n",
      "2\n",
      "3\n",
      "4\n",
      "5\n",
      "6\n",
      "7\n",
      "8\n",
      "9\n",
      "153\n",
      "370\n",
      "371\n",
      "407\n",
      "1634\n",
      "8208\n",
      "9474\n",
      "54748\n",
      "92727\n",
      "93084\n"
     ]
    }
   ],
   "source": [
    "def main():\n",
    "    N = int(input())\n",
    "    i = 1\n",
    "    \n",
    "    while i <= N:\n",
    "        order = len([k for k in str(i)])\n",
    "        if i == sum([int(j) ** order for j in str(i)]):\n",
    "            print(i)\n",
    "        i += 1\n",
    "    \n",
    "#     N = int(input())\n",
    "#     i = 1\n",
    "\n",
    "#     while i <= N:\n",
    "#         total = 0\n",
    "#         j = i\n",
    "#         while j > 0:\n",
    "#             total += ((j % 10) ** 3)\n",
    "#             j //= 10\n",
    "    \n",
    "#         if i == total:\n",
    "#             print(i)\n",
    "        \n",
    "#         i += 1\n",
    "    \n",
    "if __name__ == '__main__':\n",
    "    main()"
   ]
  },
  {
   "cell_type": "code",
   "execution_count": null,
   "id": "4ec77f6c-2729-4765-8735-2918a6b6ded2",
   "metadata": {},
   "outputs": [],
   "source": [
    "i = 0\n",
    "\n",
    "while i < 10:\n",
    "    j = i\n",
    "    while j > 0:\n",
    "        j //= 10\n",
    "    print(i,j)\n",
    "    i += 1"
   ]
  },
  {
   "cell_type": "markdown",
   "id": "52eb855c-9a26-4c10-b0fb-58d52fa2e7e0",
   "metadata": {},
   "source": [
    "# Count of factors of number"
   ]
  },
  {
   "cell_type": "code",
   "execution_count": 6,
   "id": "61c8d010-8791-47bf-9cf5-0da16c00a19e",
   "metadata": {},
   "outputs": [
    {
     "name": "stdin",
     "output_type": "stream",
     "text": [
      " 6\n"
     ]
    },
    {
     "name": "stdout",
     "output_type": "stream",
     "text": [
      "1\n",
      "2\n",
      "3\n",
      "6\n",
      "4\n"
     ]
    }
   ],
   "source": [
    "def main():\n",
    "\n",
    "    N = int(input())\n",
    "    count = 0\n",
    "    i = 1\n",
    "\n",
    "    while i <= N:\n",
    "        if N % i == 0:\n",
    "            print(i)\n",
    "            count += 1\n",
    "        i += 1\n",
    "    print(count)\n",
    "\n",
    "if __name__ == '__main__':\n",
    "    main()"
   ]
  }
 ],
 "metadata": {
  "kernelspec": {
   "display_name": "Python 3 (ipykernel)",
   "language": "python",
   "name": "python3"
  },
  "language_info": {
   "codemirror_mode": {
    "name": "ipython",
    "version": 3
   },
   "file_extension": ".py",
   "mimetype": "text/x-python",
   "name": "python",
   "nbconvert_exporter": "python",
   "pygments_lexer": "ipython3",
   "version": "3.9.12"
  }
 },
 "nbformat": 4,
 "nbformat_minor": 5
}
