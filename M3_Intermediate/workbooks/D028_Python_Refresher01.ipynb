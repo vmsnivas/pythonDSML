{
 "cells": [
  {
   "cell_type": "code",
   "execution_count": null,
   "id": "f7a8ef95-4e93-46c0-9b56-508d13245796",
   "metadata": {},
   "outputs": [],
   "source": [
    "score = 2\n",
    "if False:\n",
    "    score = 66\n",
    "\n",
    "def batting():\n",
    "    if True:\n",
    "        #global score\n",
    "        score = 40\n",
    "\n",
    "batting()\n",
    "print(score)"
   ]
  },
  {
   "cell_type": "code",
   "execution_count": 2,
   "id": "0a90e184-fa50-4841-847e-e146a83b4c13",
   "metadata": {},
   "outputs": [
    {
     "name": "stdout",
     "output_type": "stream",
     "text": [
      "321\n"
     ]
    }
   ],
   "source": [
    "x = 123\n",
    "b = 0\n",
    "\n",
    "while x > 0:\n",
    "    a = x % 10\n",
    "    b = b * 10 + a\n",
    "    x = x // 10\n",
    "    \n",
    "print(b)"
   ]
  },
  {
   "cell_type": "code",
   "execution_count": 1,
   "id": "e1667a40-4704-4020-bfe0-2a95aaab5436",
   "metadata": {},
   "outputs": [
    {
     "name": "stdout",
     "output_type": "stream",
     "text": [
      "Inside ML: 1 1 Inside AI: 2 1 Inside DL: 3 3 "
     ]
    }
   ],
   "source": [
    "var=1\n",
    "def ML():\n",
    "     print(\"Inside ML:\", var, end=\" \")\n",
    "\n",
    "def AI():\n",
    "     var=2\n",
    "     print(\"Inside AI:\", var, end=\" \")\n",
    "\n",
    "def DL():\n",
    "     global var\n",
    "     var =3\n",
    "     print(\"Inside DL:\",  var, end=\" \")\n",
    "ML()\n",
    "print(var, end=\" \")\n",
    "\n",
    "AI()\n",
    "print(var, end=\" \")\n",
    "\n",
    "DL()\n",
    "print(var, end=\" \")"
   ]
  },
  {
   "cell_type": "code",
   "execution_count": null,
   "id": "42f72565-6d32-43dd-9ff0-cfd2d87269aa",
   "metadata": {},
   "outputs": [],
   "source": []
  }
 ],
 "metadata": {
  "kernelspec": {
   "display_name": "Python 3 (ipykernel)",
   "language": "python",
   "name": "python3"
  },
  "language_info": {
   "codemirror_mode": {
    "name": "ipython",
    "version": 3
   },
   "file_extension": ".py",
   "mimetype": "text/x-python",
   "name": "python",
   "nbconvert_exporter": "python",
   "pygments_lexer": "ipython3",
   "version": "3.9.12"
  }
 },
 "nbformat": 4,
 "nbformat_minor": 5
}
