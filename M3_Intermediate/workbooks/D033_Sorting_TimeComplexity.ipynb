{
 "cells": [
  {
   "cell_type": "code",
   "execution_count": 32,
   "id": "2e35e534-8188-4af5-a363-3578b8ba9860",
   "metadata": {},
   "outputs": [
    {
     "name": "stdout",
     "output_type": "stream",
     "text": [
      "12\n"
     ]
    }
   ],
   "source": [
    "arr = [64, 34, 25, 12, 22, 11, 90]\n",
    "k = 4\n",
    "\n",
    "print(min(arr[:k]))"
   ]
  },
  {
   "cell_type": "code",
   "execution_count": 33,
   "id": "c0d9d1c7-a4b6-4cd8-b60d-e68624a27509",
   "metadata": {},
   "outputs": [
    {
     "name": "stdout",
     "output_type": "stream",
     "text": [
      "[34, 25, 12, 22, 11, 64, 90] 5\n",
      "[25, 12, 22, 11, 34, 64, 90] 9\n",
      "[12, 22, 11, 25, 34, 64, 90] 12\n",
      "[12, 11, 22, 25, 34, 64, 90] 13\n",
      "[11, 12, 22, 25, 34, 64, 90] 14\n"
     ]
    }
   ],
   "source": [
    "n = len(arr)\n",
    "swaps = 0\n",
    "while arr != sorted(arr):\n",
    "    for i in range(n):\n",
    "        if i < n - 1 and arr[i] > arr[i + 1]:\n",
    "            arr[i], arr[i + 1] = arr[i + 1], arr[i]\n",
    "            swaps += 1\n",
    "    print(arr, swaps)"
   ]
  },
  {
   "cell_type": "code",
   "execution_count": 37,
   "id": "0fb6325a-f266-437f-92e3-d445557c7168",
   "metadata": {},
   "outputs": [
    {
     "name": "stdout",
     "output_type": "stream",
     "text": [
      "[34, 24, 12, 33, 11, 64, 90] 5\n",
      "[24, 12, 33, 11, 34, 64, 90] 9\n",
      "[12, 24, 11, 33, 34, 64, 90] 11\n",
      "[12, 11, 24, 33, 34, 64, 90] 12\n",
      "[11, 12, 24, 33, 34, 64, 90] 13\n",
      "[11, 12, 24, 33, 34, 64, 90] 13\n",
      "[11, 12, 24, 33, 34, 64, 90] 13\n"
     ]
    }
   ],
   "source": [
    "arr2 = [64, 34, 24, 12, 33, 11, 90]\n",
    "n = len(arr2)\n",
    "swaps = 0\n",
    "\n",
    "for i in range(n - 1, -1, -1):\n",
    "    for j in range(0, i):\n",
    "        if arr2[j] > arr2[j + 1]:\n",
    "            arr2[j], arr2[j + 1] = arr2[j + 1], arr2[j]\n",
    "            swaps += 1\n",
    "    print(arr2, swaps)"
   ]
  },
  {
   "cell_type": "code",
   "execution_count": null,
   "id": "165d0a59-32fc-448e-b9d9-3da10683b613",
   "metadata": {},
   "outputs": [],
   "source": []
  }
 ],
 "metadata": {
  "kernelspec": {
   "display_name": "Python 3 (ipykernel)",
   "language": "python",
   "name": "python3"
  },
  "language_info": {
   "codemirror_mode": {
    "name": "ipython",
    "version": 3
   },
   "file_extension": ".py",
   "mimetype": "text/x-python",
   "name": "python",
   "nbconvert_exporter": "python",
   "pygments_lexer": "ipython3",
   "version": "3.9.12"
  }
 },
 "nbformat": 4,
 "nbformat_minor": 5
}
