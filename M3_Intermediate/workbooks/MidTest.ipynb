{
 "cells": [
  {
   "cell_type": "code",
   "execution_count": 1,
   "id": "b88d0af0-6af8-455e-a3b9-4e86f7f73bbb",
   "metadata": {},
   "outputs": [],
   "source": [
    "num_list = [y for y in range(100) if y % 2 == 0 if y % 5 == 0]"
   ]
  },
  {
   "cell_type": "code",
   "execution_count": 4,
   "id": "a0dcb82b-5a92-4923-8fbd-f6ac8a7cbc0f",
   "metadata": {},
   "outputs": [
    {
     "data": {
      "text/plain": [
       "10"
      ]
     },
     "execution_count": 4,
     "metadata": {},
     "output_type": "execute_result"
    }
   ],
   "source": [
    "len(num_list)"
   ]
  },
  {
   "cell_type": "code",
   "execution_count": 5,
   "id": "b5abb6b3-5a5a-40de-8602-8919ed01b2f4",
   "metadata": {},
   "outputs": [
    {
     "data": {
      "text/plain": [
       "[0, 10, 20, 30, 40, 50, 60, 70, 80, 90]"
      ]
     },
     "execution_count": 5,
     "metadata": {},
     "output_type": "execute_result"
    }
   ],
   "source": [
    "num_list"
   ]
  },
  {
   "cell_type": "code",
   "execution_count": 8,
   "id": "81e030dc-7822-43a6-8beb-d3a35becafa9",
   "metadata": {},
   "outputs": [
    {
     "name": "stdout",
     "output_type": "stream",
     "text": [
      "{'name': 'arjun', 'salary': 10000}\n"
     ]
    }
   ],
   "source": [
    "pd = {'name': 'arjun',\n",
    "     'salary': 10000,\n",
    "     'age': 37,\n",
    "     'city': 'Hyderabad'}\n",
    "\n",
    "cd = {}\n",
    "\n",
    "keys = ['name','salary']\n",
    "\n",
    "for k in keys:\n",
    "    cd.update({k: pd[k]})\n",
    "    \n",
    "print(cd)"
   ]
  },
  {
   "cell_type": "code",
   "execution_count": 10,
   "id": "b1bff0da-778e-420a-b896-adfc17c4db29",
   "metadata": {},
   "outputs": [
    {
     "name": "stdout",
     "output_type": "stream",
     "text": [
      "['A', 'B', 'C']\n"
     ]
    }
   ],
   "source": [
    "string = 'ABC'\n",
    "\n",
    "print(list(string))"
   ]
  },
  {
   "cell_type": "code",
   "execution_count": 12,
   "id": "665f8187-3bdd-4e1d-b79c-f58bd7b23a86",
   "metadata": {},
   "outputs": [
    {
     "ename": "IndentationError",
     "evalue": "unindent does not match any outer indentation level (<tokenize>, line 5)",
     "output_type": "error",
     "traceback": [
      "\u001b[0;36m  File \u001b[0;32m<tokenize>:5\u001b[0;36m\u001b[0m\n\u001b[0;31m    def permute(a, l, r):\u001b[0m\n\u001b[0m    ^\u001b[0m\n\u001b[0;31mIndentationError\u001b[0m\u001b[0;31m:\u001b[0m unindent does not match any outer indentation level\n"
     ]
    }
   ],
   "source": [
    "def permutations(string, empty = ''):\n",
    "\tdef toString(List): \n",
    "        return ''.join(List) \n",
    "  \n",
    "    def permute(a, l, r): \n",
    "        if l==r: \n",
    "            print (toString(a))\n",
    "        else: \n",
    "            for i in range(l,r): \n",
    "                a[l], a[i] = a[i], a[l] \n",
    "                permute(a, l+1, r) \n",
    "                a[l], a[i] = a[i], a[l] # backtrack \n",
    "                \n",
    "    n = len(string) \n",
    "    a = list(string) \n",
    "    permute(a, 0, n)\n",
    "                \n",
    "permutations('ABC')"
   ]
  },
  {
   "cell_type": "code",
   "execution_count": null,
   "id": "ef0558c1-cb41-4c23-bbb2-a14809353412",
   "metadata": {},
   "outputs": [],
   "source": []
  }
 ],
 "metadata": {
  "kernelspec": {
   "display_name": "Python 3 (ipykernel)",
   "language": "python",
   "name": "python3"
  },
  "language_info": {
   "codemirror_mode": {
    "name": "ipython",
    "version": 3
   },
   "file_extension": ".py",
   "mimetype": "text/x-python",
   "name": "python",
   "nbconvert_exporter": "python",
   "pygments_lexer": "ipython3",
   "version": "3.9.12"
  }
 },
 "nbformat": 4,
 "nbformat_minor": 5
}
