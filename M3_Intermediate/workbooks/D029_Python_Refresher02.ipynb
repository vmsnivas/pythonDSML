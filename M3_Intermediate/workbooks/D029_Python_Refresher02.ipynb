{
 "cells": [
  {
   "cell_type": "markdown",
   "id": "a0ac1680-23b3-49c0-9440-24b1eb9e1b45",
   "metadata": {},
   "source": [
    "# Pop from list"
   ]
  },
  {
   "cell_type": "code",
   "execution_count": null,
   "id": "8780efc4-4a03-46a9-a4bb-1a8212a2735f",
   "metadata": {},
   "outputs": [],
   "source": [
    "arr = [[1, 2, 3, 4],\n",
    "       [4, 5, 6, 7],\n",
    "       [8, 9, 10, 11],\n",
    "       [12, 13, 14, 15]]\n",
    "\n",
    "for i in range(0,4):\n",
    "    print(arr[i].pop(), end=\" \")"
   ]
  },
  {
   "cell_type": "markdown",
   "id": "2501efba-3b5e-4d4a-ad22-3ed70b27d19d",
   "metadata": {},
   "source": [
    "# Replace with Cube\n",
    "\n",
    "**Problem Statement:**\n",
    "\n",
    "Complete the function replace_cube(), which takes a list and a value N as inputs, and updates every element that is in a position which is a multiple of N, with a number that is the cube of the existing number, in the list and returns the newly updated list.\n",
    "\n",
    "> Note: Here while operating with N, it should be considered that if we say that an element is at index i then its position is (i+1)th. For example, an element at index 1 is actually in the second position.\n",
    "\n",
    "**Input Format:**\n",
    "\n",
    "> Space separated integers representing the list elements.\n",
    "\n",
    "> N (integer)\n",
    "\n",
    "**Output Format:**\n",
    "\n",
    "A list is simply printed\n",
    "\n",
    "**Sample Input:**\n",
    "```\n",
    "1 2 3 4 5 \n",
    "2\n",
    "```\n",
    "**Sample output:**\n",
    "```\n",
    "1 8 3 64 5\n",
    "```\n",
    "**Sample explanation:**\n",
    "\n",
    "Since the given value of N is 2, from the list, 2nd and 4th elements would be replaced with their cubes. Hence, 2 becomes 8 ad 4 becomes 64 in the resultant answer."
   ]
  },
  {
   "cell_type": "code",
   "execution_count": null,
   "id": "bbcaac67-c9df-44c5-b242-1f81a8a717ef",
   "metadata": {},
   "outputs": [],
   "source": [
    "def replace_cube(arr, N):\n",
    "    M = N\n",
    "    for i in range(len(arr)):\n",
    "        #print(i, M - 1)\n",
    "        # if i == M - 1:\n",
    "        #     print(arr[M - 1] ** N)\n",
    "        #     M += N\n",
    "        # else:\n",
    "        #     print(0)\n",
    "        if i == M - 1:\n",
    "            arr[i] = arr[i] ** 3\n",
    "            M += N\n",
    "    print(arr)\n",
    "        \n",
    "        \n",
    "        \n",
    "replace_cube([15, 18, 20, 14, 20, 13, 2, 19, 8, 12], 4)"
   ]
  },
  {
   "cell_type": "markdown",
   "id": "21e3a096-12e0-4588-9c95-dce34f00dbe7",
   "metadata": {},
   "source": [
    "# Restaurant Menu\n",
    "\n",
    "**Problem Description:**\n",
    "\n",
    "Your friend Suresh is running a restaurant and wants to update the price of some items on the menu. Suresh has made his menu in a nested list such that the menu list contains sub-lists in the form [item_name, Price]. Suresh wants to increase the price of some selected dishes by 10%.\n",
    "\n",
    "**Menu List:**\n",
    "```\n",
    "Menu = [['Sweet_Corn_Soup', 300.0], ['Cream_of_Tomato_Soup', 100.0], ['Bacon_and_Cheese', 150.0], ['Honey_Mustard', 230.0], ['Hot_Coffee', 50.0], ['Cold_Coffee', 50.0], ['Egg_Sandwiches', 130.0], ['Tacos', 400.0]]\n",
    "```\n",
    "**Input Format:**\n",
    "\n",
    "Space separated strings representing the items whose price is to be reduced\n",
    "\n",
    "**Output Format:**\n",
    "\n",
    "The main menu list with updated price.\n",
    "\n",
    "**Sample Input:**\n",
    "\n",
    "Hot_Coffee Cold_Coffee Tacos\n",
    "\n",
    "**Sample Output:**\n",
    "```\n",
    "[['Sweet_Corn_Soup', 300.0], ['Cream_of_Tomato_Soup', 100.0], ['Bacon_and_Cheese', 150.0], ['Honey_Mustard', 230.0], ['Hot_Coffee', 55.0], ['Cold_Coffee', 55.0], ['Egg_Sandwiches', 130.0], ['Tacos', 440.0]]\n",
    "```\n",
    "**Sample Explanation:**\n",
    "\n",
    "Price of Hot_Coffee was 50 which when increased by 10%, the final price became 55.0. Similarly, the prices of Cold_Coffee and Tacos were increased and updated by 10% on the menu list."
   ]
  },
  {
   "cell_type": "code",
   "execution_count": null,
   "id": "46efaaa0-b473-4762-89a2-68f652f7cd34",
   "metadata": {},
   "outputs": [],
   "source": [
    "def new_menu(item_list):\n",
    "    #This is the Menu list we want to update\n",
    "    Menu = [['Sweet_Corn_Soup', 300.0], ['Cream_of_Tomato_Soup', 100.0], ['Bacon_and_Cheese', 150.0], ['Honey_Mustard', 230.0], ['Hot_Coffee', 50.0], ['Cold_Coffee', 50.0], ['Egg_Sandwiches', 130.0], ['Tacos', 400.0]]\n",
    "    #Write your code here\n",
    "    count = 0\n",
    "\n",
    "    while count < len(item_list):\n",
    "        for i in range(len(Menu)):\n",
    "            for j in range(len(Menu[i])):\n",
    "                if item_list[count] == Menu[i][j]:\n",
    "                    price = Menu[i][1]\n",
    "                    Menu[i][1] = price + (price * 10/100)\n",
    "        count += 1\n",
    "    \n",
    "    return Menu"
   ]
  },
  {
   "cell_type": "markdown",
   "id": "4873164b-3d4a-4784-b0ac-6c8d8efb753a",
   "metadata": {},
   "source": [
    "# Accuracy Calculator\n",
    "\n",
    "**Problem Description:**\n",
    "\n",
    "We want to evaluate a standard machine learning classification model using accuracy. A classification model is a model which classifies a given observation or an event into a fixed set of categories. For instance, if we train a machine learning model to classify images of cats and dogs, for each image, the machine classifies the image with either a 'Cat' or a 'Dog'.\n",
    "\n",
    "Accuracy: The accuracy of the model is then defined as ((correctly predicted cats and dogs images)/(total cats and dogs images)*100).\n",
    "\n",
    "Complete the Python function calc_acc() to calculate the accuracy. It takes two lists as inputs, one list consists of actual_labels and predicted_labels and is expected to return the accuracy score, rounded off to the nearest integer.\n",
    "\n",
    "**Sample Input:**\n",
    "```\n",
    "actual_labels = ['Dog','Dog','Cat','Cat','Cat']\n",
    "predicted_labels = ['Cat','Dog','Cat','Dog','Cat']\n",
    "```\n",
    "**Sample Output:**\n",
    "```\n",
    "The Accuracy score is: 60\n",
    "\n",
    "```\n",
    "\n",
    "> Sample Explanation: Using the formula (count of correctly predicted values )/ total values, we get the result of 60."
   ]
  },
  {
   "cell_type": "code",
   "execution_count": null,
   "id": "657c6897-fd65-4214-9152-423a5c4761e9",
   "metadata": {},
   "outputs": [],
   "source": [
    "def calc_acc(actual_labels, predicted_labels):\n",
    "    '''\n",
    "    input:\n",
    "    actual_labels -> list of actual labels of cats and dogs\n",
    "    predicted_labels -> list of the predicted values of the labels\n",
    "    \n",
    "    output:\n",
    "    acc -> the value of accuracy in float\n",
    "    '''\n",
    "    # Your Code Starts here\n",
    "    count = 0\n",
    "\n",
    "    for i in range(len(actual_labels)):\n",
    "\n",
    "        if actual_labels[i] == predicted_labels[i]:\n",
    "            count += 1\n",
    "    \n",
    "    # Your Code Ends here\n",
    "    return round(count / len(predicted_labels) * 100)"
   ]
  }
 ],
 "metadata": {
  "kernelspec": {
   "display_name": "Python 3 (ipykernel)",
   "language": "python",
   "name": "python3"
  },
  "language_info": {
   "codemirror_mode": {
    "name": "ipython",
    "version": 3
   },
   "file_extension": ".py",
   "mimetype": "text/x-python",
   "name": "python",
   "nbconvert_exporter": "python",
   "pygments_lexer": "ipython3",
   "version": "3.9.12"
  }
 },
 "nbformat": 4,
 "nbformat_minor": 5
}
