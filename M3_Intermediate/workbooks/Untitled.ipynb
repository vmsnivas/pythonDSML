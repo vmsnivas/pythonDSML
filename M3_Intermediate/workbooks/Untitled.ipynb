{
 "cells": [
  {
   "cell_type": "code",
   "execution_count": 10,
   "id": "5580de81-4b98-4d41-a1a4-50940e136267",
   "metadata": {},
   "outputs": [
    {
     "data": {
      "text/plain": [
       "[{'name': 'C', 'marks': 40},\n",
       " {'name': 'A', 'marks': 50},\n",
       " {'name': 'E', 'marks': 60},\n",
       " {'name': 'D', 'marks': 70},\n",
       " {'name': 'B', 'marks': 100}]"
      ]
     },
     "execution_count": 10,
     "metadata": {},
     "output_type": "execute_result"
    }
   ],
   "source": [
    "students = [\n",
    "    {'name': 'A', 'marks': 50},\n",
    "    {'name': 'B', 'marks': 100},\n",
    "    {'name': 'C', 'marks': 40},\n",
    "    {'name': 'D', 'marks': 70},\n",
    "    {'name': 'E', 'marks': 60}\n",
    "    ]\n",
    "\n",
    "sorted(students, key=lambda d: d['marks'])"
   ]
  },
  {
   "cell_type": "code",
   "execution_count": 6,
   "id": "7e60c738-5b20-4681-bf91-47b301ee96b6",
   "metadata": {},
   "outputs": [
    {
     "name": "stdout",
     "output_type": "stream",
     "text": [
      "0 2 4 6 8 "
     ]
    }
   ],
   "source": [
    "odd=lambda x: bool(x%2)\n",
    "result=[n for n in range(10)]\n",
    "\n",
    "for i in result:\n",
    "    if odd(i):\n",
    "        continue       \n",
    "    else:\n",
    "        print(i, end=\" \")"
   ]
  },
  {
   "cell_type": "code",
   "execution_count": 7,
   "id": "cd430f30-4ac5-4023-bfbc-75fa6fe01338",
   "metadata": {},
   "outputs": [
    {
     "data": {
      "text/plain": [
       "5"
      ]
     },
     "execution_count": 7,
     "metadata": {},
     "output_type": "execute_result"
    }
   ],
   "source": [
    "len('world')"
   ]
  },
  {
   "cell_type": "code",
   "execution_count": 10,
   "id": "cbe6a873-b020-43e0-9740-3fc64211ecbb",
   "metadata": {},
   "outputs": [],
   "source": [
    "def LengthSequence(string, length):\n",
    "    '''string => a string\n",
    "       length => an integer representing required length of words which are be returned'''\n",
    "    result = [i for i in string.split() if len(i) == length]\n",
    "    return result"
   ]
  },
  {
   "cell_type": "code",
   "execution_count": 11,
   "id": "e639de91-fba1-48c8-8dc6-0f0295d93c7c",
   "metadata": {},
   "outputs": [
    {
     "data": {
      "text/plain": [
       "['world', 'start']"
      ]
     },
     "execution_count": 11,
     "metadata": {},
     "output_type": "execute_result"
    }
   ],
   "source": [
    "string = 'The world has changed and none of us can go back All we can do is our best and sometimes the best that we can do is to start over'\n",
    "length = 5\n",
    "LengthSequence(string, length)\n"
   ]
  },
  {
   "cell_type": "code",
   "execution_count": 12,
   "id": "45ab0082-ace3-4ffa-b510-58dd0bffa247",
   "metadata": {},
   "outputs": [
    {
     "name": "stdout",
     "output_type": "stream",
     "text": [
      "500$\n"
     ]
    }
   ],
   "source": [
    "def myDecorator(func):\n",
    "\n",
    "    def new_func(n):\n",
    "\n",
    "        return func(n) + '$'        \n",
    "\n",
    "    return new_func\n",
    "\n",
    "\n",
    "@myDecorator\n",
    "\n",
    "def myFunction(a):\n",
    "\n",
    "    return(a)\n",
    "\n",
    "\n",
    "# call the decorated function\n",
    "\n",
    "print(myFunction('500'))"
   ]
  },
  {
   "cell_type": "code",
   "execution_count": 71,
   "id": "3f4bbacd-a887-4bea-9d20-81336147cadd",
   "metadata": {},
   "outputs": [
    {
     "data": {
      "text/plain": [
       "([['S ROY', 1.0],\n",
       "  ['B BOSE', 3.0],\n",
       "  ['N KAR', 2.0],\n",
       "  ['C DUTTA', 1.0],\n",
       "  ['G GHOSH', 1.0]],\n",
       " 2.0,\n",
       " ['N KAR'])"
      ]
     },
     "execution_count": 71,
     "metadata": {},
     "output_type": "execute_result"
    }
   ],
   "source": [
    "def second_lowest(students, scores):\n",
    "    '''\n",
    "    input:\n",
    "    students -> a list of students\n",
    "    scores -> list of the scores, with each score being that of the ith student\n",
    "    \n",
    "    output:\n",
    "    student_data -> 2d list of data, with each inner list having name of student as 1st and score of 2nd as second element respectively\n",
    "    second_low_score -> the second lowest score\n",
    "    second_names -> list of students with score same as second lowest score, in the same order as in the students list\n",
    "    '''\n",
    "    student_data = [[students[i], scores[i]] for i in range(len(students))]\n",
    "    second_low_score = list(set(sorted(scores)))[1]\n",
    "    second_names = [i[0] for i in student_data if i[1] == second_low_score]\n",
    "    \n",
    "    \n",
    "    return student_data, second_low_score, second_names\n",
    "            \n",
    "students = ['S ROY', 'B BOSE', 'N KAR', 'C DUTTA', 'G GHOSH']\n",
    "scores = [1.0, 3.0, 2.0, 1.0, 1.0]\n",
    "second_lowest(students, scores)"
   ]
  },
  {
   "cell_type": "code",
   "execution_count": 77,
   "id": "b296208e-be09-432a-9273-4d3df273b120",
   "metadata": {},
   "outputs": [
    {
     "name": "stdout",
     "output_type": "stream",
     "text": [
      "['banana', 'guava', 'mango'] 0\n"
     ]
    },
    {
     "ename": "IndexError",
     "evalue": "list index out of range",
     "output_type": "error",
     "traceback": [
      "\u001b[0;31m---------------------------------------------------------------------------\u001b[0m",
      "\u001b[0;31mIndexError\u001b[0m                                Traceback (most recent call last)",
      "Input \u001b[0;32mIn [77]\u001b[0m, in \u001b[0;36m<cell line: 14>\u001b[0;34m()\u001b[0m\n\u001b[1;32m     10\u001b[0m     \u001b[38;5;28mprint\u001b[39m(\u001b[38;5;28mstr\u001b[39m(\u001b[38;5;28mlist\u001b[39m))\n\u001b[1;32m     12\u001b[0m str_list \u001b[38;5;241m=\u001b[39m [[\u001b[38;5;124m'\u001b[39m\u001b[38;5;124mbanana\u001b[39m\u001b[38;5;124m'\u001b[39m, \u001b[38;5;124m'\u001b[39m\u001b[38;5;124mguava\u001b[39m\u001b[38;5;124m'\u001b[39m, \u001b[38;5;124m'\u001b[39m\u001b[38;5;124mmango\u001b[39m\u001b[38;5;124m'\u001b[39m], [\u001b[38;5;124m'\u001b[39m\u001b[38;5;124msandalwood\u001b[39m\u001b[38;5;124m'\u001b[39m, \u001b[38;5;124m'\u001b[39m\u001b[38;5;124mrose\u001b[39m\u001b[38;5;124m'\u001b[39m], [\u001b[38;5;124m'\u001b[39m\u001b[38;5;124maaa\u001b[39m\u001b[38;5;124m'\u001b[39m, \u001b[38;5;124m'\u001b[39m\u001b[38;5;124mbaac\u001b[39m\u001b[38;5;124m'\u001b[39m, \u001b[38;5;124m'\u001b[39m\u001b[38;5;124mbccc\u001b[39m\u001b[38;5;124m'\u001b[39m, \u001b[38;5;124m'\u001b[39m\u001b[38;5;124mc\u001b[39m\u001b[38;5;124m'\u001b[39m]]\n\u001b[0;32m---> 14\u001b[0m \u001b[43msort_strings\u001b[49m\u001b[43m(\u001b[49m\u001b[43mstr_list\u001b[49m\u001b[43m)\u001b[49m\n",
      "Input \u001b[0;32mIn [77]\u001b[0m, in \u001b[0;36msort_strings\u001b[0;34m(str_list)\u001b[0m\n\u001b[1;32m      5\u001b[0m         \u001b[38;5;28;01mif\u001b[39;00m j \u001b[38;5;241m<\u001b[39m \u001b[38;5;28mlen\u001b[39m(i) \u001b[38;5;241m-\u001b[39m \u001b[38;5;241m1\u001b[39m:\n\u001b[1;32m      6\u001b[0m             \u001b[38;5;28;01mif\u001b[39;00m i[j]\u001b[38;5;241m.\u001b[39mcount(\u001b[38;5;124m'\u001b[39m\u001b[38;5;124ma\u001b[39m\u001b[38;5;124m'\u001b[39m) \u001b[38;5;241m>\u001b[39m i[j \u001b[38;5;241m+\u001b[39m \u001b[38;5;241m1\u001b[39m]\u001b[38;5;241m.\u001b[39mcount(\u001b[38;5;124m'\u001b[39m\u001b[38;5;124ma\u001b[39m\u001b[38;5;124m'\u001b[39m):\n\u001b[1;32m      7\u001b[0m                 \u001b[38;5;66;03m#str_list[i][j], str_list[i][j+1] = str_list[i][j+1], str_list[i][j]\u001b[39;00m\n\u001b[0;32m----> 8\u001b[0m                 [i][j], [i][j\u001b[38;5;241m+\u001b[39m\u001b[38;5;241m1\u001b[39m] \u001b[38;5;241m=\u001b[39m \u001b[43m[\u001b[49m\u001b[43mi\u001b[49m\u001b[43m]\u001b[49m\u001b[43m[\u001b[49m\u001b[43mj\u001b[49m\u001b[38;5;241;43m+\u001b[39;49m\u001b[38;5;241;43m1\u001b[39;49m\u001b[43m]\u001b[49m, [i][j]\n\u001b[1;32m     10\u001b[0m \u001b[38;5;28mprint\u001b[39m(\u001b[38;5;28mstr\u001b[39m(\u001b[38;5;28mlist\u001b[39m))\n",
      "\u001b[0;31mIndexError\u001b[0m: list index out of range"
     ]
    }
   ],
   "source": [
    "def sort_strings(str_list):\n",
    "    for i in str_list:\n",
    "        for j in range(len(i)):\n",
    "            print(i, j)\n",
    "            if j < len(i) - 1:\n",
    "                if i[j].count('a') > i[j + 1].count('a'):\n",
    "                    #str_list[i][j], str_list[i][j+1] = str_list[i][j+1], str_list[i][j]\n",
    "                    [i][j], [i][j+1] = [i][j+1], [i][j]\n",
    "\n",
    "    print(str(list))\n",
    "    \n",
    "str_list = [['banana', 'guava', 'mango'], ['sandalwood', 'rose'], ['aaa', 'baac', 'bccc', 'c']]\n",
    "\n",
    "sort_strings(str_list)"
   ]
  },
  {
   "cell_type": "code",
   "execution_count": 74,
   "id": "5b6f3160-ccc1-4a7c-93c3-bc2bc68f261d",
   "metadata": {},
   "outputs": [
    {
     "data": {
      "text/plain": [
       "3"
      ]
     },
     "execution_count": 74,
     "metadata": {},
     "output_type": "execute_result"
    }
   ],
   "source": [
    "'banana'.count('a')"
   ]
  },
  {
   "cell_type": "code",
   "execution_count": 87,
   "id": "80139bc0-1c77-4f0a-ac0b-b43064a1370c",
   "metadata": {},
   "outputs": [
    {
     "name": "stdout",
     "output_type": "stream",
     "text": [
      "[['banana', 'guava', 'mango'], ['sandalwood', 'rose'], ['aaa', 'baac', 'bccc', 'c']]\n"
     ]
    }
   ],
   "source": [
    "str_list = [['mango', 'guava', 'banana'], ['rose', 'sandalwood'], ['bccc', 'c', 'baac', 'aaa']]\n",
    "res = []\n",
    "for i in str_list:\n",
    "    res.append(sorted(i, key=lambda x: -x.count('a')))\n",
    "    \n",
    "print(res)"
   ]
  },
  {
   "cell_type": "code",
   "execution_count": 12,
   "id": "628ed9ae-0669-4379-90ce-eddcb3eee8e4",
   "metadata": {},
   "outputs": [
    {
     "data": {
      "text/plain": [
       "3"
      ]
     },
     "execution_count": 18,
     "metadata": {},
     "output_type": "execute_result"
    }
   ],
   "source": [
    "def fact(n):\n",
    "    if n == 0:\n",
    "        return 1\n",
    "    return n * fact(n - 1)\n",
    "\n",
    "# while fact > 1:\n",
    "#     fact /= n\n",
    "#     if fact > 1:\n",
    "#         n += 1\n",
    "a = 6\n",
    "i, num = 0,1\n",
    "l = []\n",
    "while i < a:\n",
    "    i = fact(num)\n",
    "    l.append(i)\n",
    "    num += 1\n",
    "    if a in l:\n",
    "        print(l.index(a) + 1)\n",
    "    else:\n",
    "        print(-1)"
   ]
  },
  {
   "cell_type": "code",
   "execution_count": 20,
   "id": "87ea62ab-c805-4bc4-b820-373a79589e7a",
   "metadata": {},
   "outputs": [
    {
     "name": "stdout",
     "output_type": "stream",
     "text": [
      "5\n"
     ]
    }
   ],
   "source": [
    "import math\n",
    "class Solution:\n",
    "    def solve(self, a):\n",
    "        i,num=0,1\n",
    "        L=[]\n",
    "        while i < a :\n",
    "            i=math.factorial(num)\n",
    "            L.append(i)\n",
    "            num+=1\n",
    "            \n",
    "        if a in L :\n",
    "            return L.index(a)+1\n",
    "        else :\n",
    "            return -1\n",
    "        \n",
    "ob = Solution()\n",
    "print(ob.solve(120))"
   ]
  },
  {
   "cell_type": "code",
   "execution_count": 34,
   "id": "1b0797d0-3cb1-4a26-a939-12eee04057c9",
   "metadata": {},
   "outputs": [],
   "source": [
    "def timeConv(a,b,c,d):\n",
    "    # YOUR CODE GOES HERE\n",
    "    # The code for taking input and printing output is already taken care of.\n",
    "    # Make sure to complete the functions and return the asked requirements.\n",
    "    class Spanoftime:\n",
    "        def __init__(self,h,m):\n",
    "            self.hours=h\n",
    "            self.mins=m\n",
    "        def displayTime(self):\n",
    "            return (\"{} hours and {} min\".format(self.hours,self.mins))\n",
    "        \n",
    "        def addTime(t1,t2):\n",
    "            t3=Spanoftime(0,0)\n",
    "            # Complete the function\n",
    "            m = t1.mins + t2.mins\n",
    "            h = t1.hours + t2.hours + m // 60\n",
    "            if m > 60:\n",
    "                m = m % 60\n",
    "            t3.hours = h\n",
    "            t3.mins = m\n",
    "            \n",
    "            return t3\n",
    "        \n",
    "        def returnMinutes(t1,t2):\n",
    "            # Return the total number of minutes\n",
    "            h = t1.hours + t2.hours\n",
    "            m = t1.mins + t2.mins + h * 60\n",
    "            return m\n",
    "            \n",
    "            \n",
    "    t1=Spanoftime(a,b)\n",
    "    t2=Spanoftime(c,d)\n",
    "    t3=Spanoftime.addTime(t1,t2)\n",
    "    t3.displayTime()\n",
    "    totalmin=str(Spanoftime.returnMinutes(t1,t2))\n",
    "    return t3.displayTime(),(\"The total minutes in time t1 and t2 are: \" + totalmin)\n",
    "    \n",
    "    "
   ]
  },
  {
   "cell_type": "code",
   "execution_count": 35,
   "id": "f8fca852-c80e-4f0d-9744-6138dfbb5a18",
   "metadata": {},
   "outputs": [
    {
     "data": {
      "text/plain": [
       "('2 hours and 2 min', 'The total minutes in time t1 and t2 are: 122')"
      ]
     },
     "execution_count": 35,
     "metadata": {},
     "output_type": "execute_result"
    }
   ],
   "source": [
    "timeConv(1,1,1,1)"
   ]
  },
  {
   "cell_type": "code",
   "execution_count": 41,
   "id": "9d2a0e1c-fef9-4caf-b202-7ed1f0906d72",
   "metadata": {},
   "outputs": [],
   "source": [
    "class Circle():\n",
    "    def __init__(self,r):\n",
    "        self.r = r\n",
    "        self.pi = 3.14\n",
    "        \n",
    "    def perimeter(self):\n",
    "        return 2 * self.pi * self.r\n",
    "    \n",
    "    def area(self):\n",
    "        return self.pi * (self.r ** 2)"
   ]
  },
  {
   "cell_type": "code",
   "execution_count": 42,
   "id": "2bd758ae-3ca6-441c-8878-a9898aca47c0",
   "metadata": {},
   "outputs": [],
   "source": [
    "c = Circle(3)"
   ]
  },
  {
   "cell_type": "code",
   "execution_count": 43,
   "id": "b27018db-249a-4a77-a886-e0cc1b9adbac",
   "metadata": {},
   "outputs": [
    {
     "data": {
      "text/plain": [
       "18.84"
      ]
     },
     "execution_count": 43,
     "metadata": {},
     "output_type": "execute_result"
    }
   ],
   "source": [
    "c.perimeter()"
   ]
  },
  {
   "cell_type": "code",
   "execution_count": 44,
   "id": "b0d1f871-c0b1-4c87-b490-7f7c6e0194d5",
   "metadata": {},
   "outputs": [
    {
     "data": {
      "text/plain": [
       "28.26"
      ]
     },
     "execution_count": 44,
     "metadata": {},
     "output_type": "execute_result"
    }
   ],
   "source": [
    "c.area()"
   ]
  },
  {
   "cell_type": "code",
   "execution_count": 45,
   "id": "d48b2b2d-7330-40a1-ad87-23e85f043907",
   "metadata": {},
   "outputs": [],
   "source": [
    "class Rectangle():\n",
    "    def __init__(self,l,b):\n",
    "        self.l = l\n",
    "        self.b = b\n",
    "        \n",
    "    def perimeter(self):\n",
    "        return 2 * (self.l + self.b)\n",
    "    \n",
    "    def area(self):\n",
    "        return self.l * self.b"
   ]
  },
  {
   "cell_type": "code",
   "execution_count": 46,
   "id": "4843c99d-19c2-4d73-aef5-bb085417f970",
   "metadata": {},
   "outputs": [],
   "source": [
    "r = Rectangle(2,3)"
   ]
  },
  {
   "cell_type": "code",
   "execution_count": 47,
   "id": "24aeab9f-782f-4536-b00c-95afa808e986",
   "metadata": {},
   "outputs": [
    {
     "data": {
      "text/plain": [
       "10"
      ]
     },
     "execution_count": 47,
     "metadata": {},
     "output_type": "execute_result"
    }
   ],
   "source": [
    "r.perimeter()"
   ]
  },
  {
   "cell_type": "code",
   "execution_count": 48,
   "id": "860fad46-e29c-4d40-8690-750caaeb3c97",
   "metadata": {},
   "outputs": [
    {
     "data": {
      "text/plain": [
       "6"
      ]
     },
     "execution_count": 48,
     "metadata": {},
     "output_type": "execute_result"
    }
   ],
   "source": [
    "r.area()"
   ]
  },
  {
   "cell_type": "code",
   "execution_count": 53,
   "id": "72e72094-8afe-4859-bf32-37ad31cce52b",
   "metadata": {},
   "outputs": [],
   "source": [
    "class Smaller:\n",
    "    def __init__(self,a):\n",
    "        self.string=a\n",
    "    \n",
    "    def display(self):\n",
    "        print(\"The type of Name is smaller\")\n",
    "    \n",
    "    def evaluate(self):\n",
    "        ans=0\n",
    "        for i in self.string:\n",
    "            if i in ['a','e','i','o','u']:\n",
    "                ans += 1\n",
    "        print(ans)\n",
    "        \n",
    "class Larger:\n",
    "    def __init__(self,a):\n",
    "        self.string=a\n",
    "    \n",
    "    def display(self):\n",
    "        print(\"The type of Name is larger\")\n",
    "    \n",
    "    def evaluate(self):\n",
    "        ans=0\n",
    "        for i in self.string:\n",
    "            if i in ['a','e','i','o','u']:\n",
    "                ans += 1\n",
    "        print(ans)\n",
    "\n",
    "def vowelCount(a):\n",
    "    '''\n",
    "    input a is string\n",
    "    '''\n",
    "    if len(a)<6:\n",
    "        obj=Smaller(a)\n",
    "        obj.display()\n",
    "        obj.evaluate()\n",
    "    else:\n",
    "        obj=Larger(a)\n",
    "        obj.display()\n",
    "        obj.evaluate()"
   ]
  },
  {
   "cell_type": "code",
   "execution_count": 54,
   "id": "989d877a-139f-49db-a130-ad3a5ccddd0d",
   "metadata": {},
   "outputs": [
    {
     "name": "stdout",
     "output_type": "stream",
     "text": [
      "The type of Name is larger\n",
      "2\n"
     ]
    }
   ],
   "source": [
    "vowelCount('mallik')"
   ]
  },
  {
   "cell_type": "code",
   "execution_count": 57,
   "id": "0cbb3b7e-701e-4908-b862-8951afe6cf87",
   "metadata": {},
   "outputs": [
    {
     "name": "stdout",
     "output_type": "stream",
     "text": [
      "60\n"
     ]
    }
   ],
   "source": [
    "class Parent():\n",
    "    def __init__(self):\n",
    "        pass\n",
    "    def print(self):\n",
    "        print('60')\n",
    "        \n",
    "class Child(Parent):\n",
    "    def __init__(self):\n",
    "        super().__init__()\n",
    "    def type(self):\n",
    "        super().print()\n",
    "        \n",
    "C = Child()\n",
    "C.type()"
   ]
  },
  {
   "cell_type": "code",
   "execution_count": 58,
   "id": "bf4a6a3b-d6e1-4414-bf4b-9719ee95a316",
   "metadata": {},
   "outputs": [
    {
     "name": "stdout",
     "output_type": "stream",
     "text": [
      "30\n"
     ]
    }
   ],
   "source": [
    "class A:\n",
    "    def __init__(self):\n",
    "        self.multiply(15)\n",
    "        print(self.i)\n",
    "\n",
    "    def multiply(self, i):\n",
    "        self.i = 4 * i\n",
    "\n",
    "class B(A):\n",
    "    def __init__(self):\n",
    "        super().__init__()\n",
    "\n",
    "    def multiply(self, i):\n",
    "        self.i = 2 * i;\n",
    "\n",
    "obj = B()"
   ]
  },
  {
   "cell_type": "code",
   "execution_count": 65,
   "id": "daddda5e-1797-49ac-b79a-cb9a01f510fd",
   "metadata": {},
   "outputs": [],
   "source": [
    "class MachineLearning:\n",
    "    def __init__(self,name,category):\n",
    "        self.name=name\n",
    "        self.category=category\n",
    "        \n",
    "    def getname(self):\n",
    "        return self.name\n",
    "        \n",
    "    def getcategory(self):\n",
    "        return self.category\n",
    "        \n",
    "    def print(self):\n",
    "        print(\"Name:\",self.name)\n",
    "        print(\"Category:\",self.category)\n",
    "\n",
    "class Supervised(MachineLearning):\n",
    "    def __init__(self,name,category):\n",
    "        #YOUR CODE GOES HERE\n",
    "        super().__init__(name,category)\n",
    "        self.name = name\n",
    "        self.category = category\n",
    "    \n",
    "    def type(self):\n",
    "        #YOUR CODE GOES HERE\n",
    "        self.print()\n",
    "        print('Supervised Learning Algorithm')\n",
    "\n",
    "class Unsupervised(MachineLearning):\n",
    "    def __init__(self,name,category):\n",
    "        #YOUR CODE GOES HERE\n",
    "        super().__init__(name,category)\n",
    "        self.name = name\n",
    "        self.category = category\n",
    "    \n",
    "    def type(self):\n",
    "        #YOUR CODE GOES HERE\n",
    "        self.print()\n",
    "        print('Unsupervised Learning Algorithm')\n",
    "\n",
    "def mlAnalogy(a,b,c,d):\n",
    "    '''\n",
    "    input=> a,b = name and category for Supervised class\n",
    "            c,d = name and category for Unsupervised class\n",
    "    output=> type() is called for both classes in the end, it should first print the Name and Category then the type of class in new lines\n",
    "    '''\n",
    "\n",
    "    obj1=Supervised(a,b)\n",
    "    obj1.type()\n",
    "    obj2=Unsupervised(c,d)\n",
    "    obj2.type()\n",
    "\n",
    "    return None"
   ]
  },
  {
   "cell_type": "code",
   "execution_count": 66,
   "id": "2afd68b3-a0c4-4383-8d6f-334e4f580aa6",
   "metadata": {},
   "outputs": [
    {
     "name": "stdout",
     "output_type": "stream",
     "text": [
      "Name: Logistic Regression\n",
      "Category: Classification Algo\n",
      "Supervised Learning Algorithm\n",
      "Name: k-Means\n",
      "Category: Clustering Algo\n",
      "Unsupervised Learning Algorithm\n"
     ]
    }
   ],
   "source": [
    "mlAnalogy('Logistic Regression','Classification Algo','k-Means','Clustering Algo')"
   ]
  },
  {
   "cell_type": "code",
   "execution_count": 67,
   "id": "ef361b7b-0108-4b13-b196-f76eae5cdeb4",
   "metadata": {},
   "outputs": [
    {
     "name": "stdout",
     "output_type": "stream",
     "text": [
      "AI's check ML's check "
     ]
    }
   ],
   "source": [
    "class AI:\n",
    "    def check(self):\n",
    "        return \"AI's check\"\n",
    "    def display(self):\n",
    "        print(self.check(),end=\" \")\n",
    "\n",
    "class ML(AI):\n",
    "    def check(self):\n",
    "        return \"ML's check\"\n",
    "\n",
    "AI().display()\n",
    "ML().display()"
   ]
  },
  {
   "cell_type": "code",
   "execution_count": 69,
   "id": "5b2f8ee5-c25f-4d73-9501-7d6c21705478",
   "metadata": {},
   "outputs": [
    {
     "name": "stdout",
     "output_type": "stream",
     "text": [
      "200\n"
     ]
    }
   ],
   "source": [
    "class Employee:\n",
    "\n",
    "    def __init__(self, name, val):\n",
    "\n",
    "        self._name=name\n",
    "\n",
    "        self._salary=val\n",
    "\n",
    "e1=Employee(\"Rahul\",200)\n",
    "\n",
    "print(e1._salary)"
   ]
  },
  {
   "cell_type": "code",
   "execution_count": 71,
   "id": "31828440-c154-4d3a-b3be-1965542e2d15",
   "metadata": {},
   "outputs": [
    {
     "name": "stdout",
     "output_type": "stream",
     "text": [
      "True\n"
     ]
    }
   ],
   "source": [
    "class A:\n",
    "\n",
    "  def __init__(self, x, y):\n",
    "\n",
    "    self.x = x\n",
    "    self.y = y\n",
    "\n",
    "  def __str__(self):\n",
    "\n",
    "    return 1\n",
    "  def __eq__(self, other):\n",
    "\n",
    "    return self.x * self.y == other.x * other.y\n",
    "\n",
    "obj1 = A(9, 8)\n",
    "obj2 = A(8, 9)\n",
    "print(obj1 == obj2)"
   ]
  },
  {
   "cell_type": "code",
   "execution_count": 72,
   "id": "42f505df-6e6c-4caf-b06b-0f1bcd209fe4",
   "metadata": {},
   "outputs": [
    {
     "name": "stdout",
     "output_type": "stream",
     "text": [
      "Rachel says, Grrrr!\n"
     ]
    }
   ],
   "source": [
    "class A:\n",
    " def __init__(self, name, sound=\"Grrrr\"):\n",
    "   self.name = name\n",
    "   self.sound = sound\n",
    "\n",
    " def make_noise(self):\n",
    "   print(\"{} says, {}\".format(self.name,self.sound))\n",
    "\n",
    "class B(A):\n",
    " def __init__(self, name=\"Rachel\"):\n",
    "   super().__init__(name, \"Meow!\")\n",
    "\n",
    " def make_noise(self,sound=\"Grrrr!\"):\n",
    "   print(\"{} says, {}\".format(self.name, sound))\n",
    "\n",
    "pet_cat = B()\n",
    "pet_cat.make_noise()"
   ]
  },
  {
   "cell_type": "code",
   "execution_count": 73,
   "id": "52b8c1ed-f664-4c08-8f58-d3e24f55355a",
   "metadata": {},
   "outputs": [
    {
     "name": "stdout",
     "output_type": "stream",
     "text": [
      "27 3 0 0\n"
     ]
    }
   ],
   "source": [
    "class Props:\n",
    "    def __init__(self, x, y):\n",
    "        self.x = x\n",
    "        self.y = y\n",
    "\n",
    "class Ball(Props):\n",
    "    def __init__(self, x, y):\n",
    "        super().__init__(x, y)\n",
    "        self.shape = \"o\"\n",
    "        self.number = 1\n",
    "        self.vely = 0\n",
    "        self.velx = 0\n",
    "\n",
    "    def get_x(self):\n",
    "        return self.x\n",
    " \n",
    "    def get_y(self):\n",
    "       return self.y\n",
    "\n",
    "    def get_velx(self):\n",
    "       return self.velx\n",
    " \n",
    "    def get_vely(self):\n",
    "       return self.vely\n",
    "    \n",
    "    def inc_velx(self):\n",
    "       self.velx = self.velx+2\n",
    "    \n",
    "    def inc_vely(self):\n",
    "       self.vely = self.vely+1\n",
    "\n",
    "obj_ball = Ball(27,3)\n",
    "\n",
    "bx = obj_ball.get_x()\n",
    "by = obj_ball.get_y()\n",
    "b_velx = obj_ball.get_velx()\n",
    "b_vely = obj_ball.get_vely()\n",
    "\n",
    "print(bx, by, b_velx, b_vely)"
   ]
  },
  {
   "cell_type": "code",
   "execution_count": 5,
   "id": "d2f295e9-5d1c-43e6-8457-180d6b77e7fb",
   "metadata": {},
   "outputs": [
    {
     "name": "stdout",
     "output_type": "stream",
     "text": [
      "['php', 'aaa']\n"
     ]
    }
   ],
   "source": [
    "arr = ['php', 'w3r', 'python', 'aaa', 'java']\n",
    "result = list( filter( lambda x: (x ==\"\".join( reversed(x))), arr))\n",
    "print(result)"
   ]
  },
  {
   "cell_type": "code",
   "execution_count": 6,
   "id": "e81fbd63-3789-4fee-b502-451d5412f414",
   "metadata": {},
   "outputs": [
    {
     "name": "stdout",
     "output_type": "stream",
     "text": [
      "[{'name': 'Alice', 'salary': 180000, 'job': 'data scientist'}, {'name': 'Bob', 'salary': 99000, 'job': 'data engineer'}, {'name': 'Frank', 'salary': 87000, 'job': 'data analyst'}]\n"
     ]
    }
   ],
   "source": [
    "column_names = ['name', 'salary', 'job']\n",
    "db_rows = [('Alice', 180000, 'data scientist'),\n",
    "           ('Bob', 99000, 'data engineer'),\n",
    "           ('Frank', 87000, 'data analyst')]\n",
    "\n",
    "db = [dict(zip(column_names,row)) for row in db_rows]\n",
    "print(db)"
   ]
  },
  {
   "cell_type": "code",
   "execution_count": 7,
   "id": "5a4669d1-20a4-4764-8d5d-1b28ece7e801",
   "metadata": {},
   "outputs": [
    {
     "name": "stdout",
     "output_type": "stream",
     "text": [
      "4\n"
     ]
    }
   ],
   "source": [
    "import functools\n",
    "lists = [1,2,3,4]\n",
    "print(functools.reduce(lambda x,y : x if x > y else y ,lists))"
   ]
  },
  {
   "cell_type": "code",
   "execution_count": 8,
   "id": "28806398-e049-4135-8b19-1be9c0a82ff5",
   "metadata": {},
   "outputs": [
    {
     "data": {
      "text/plain": [
       "['a', 'b', 'c']"
      ]
     },
     "execution_count": 8,
     "metadata": {},
     "output_type": "execute_result"
    }
   ],
   "source": [
    "list('abc')"
   ]
  },
  {
   "cell_type": "code",
   "execution_count": 9,
   "id": "69491628-9886-4ca9-ba10-eb3e726de449",
   "metadata": {},
   "outputs": [
    {
     "name": "stdout",
     "output_type": "stream",
     "text": [
      "[['a', 'b', 'c'], ['c', 'd', 'e'], ['d', 'e', 'f']]\n"
     ]
    }
   ],
   "source": [
    "sentence = \"abc cde def\"\n",
    "result = list(map(lambda x: list(x), sentence.split(\" \")))\n",
    "print(result)"
   ]
  },
  {
   "cell_type": "code",
   "execution_count": 10,
   "id": "6b3dc863-e210-4017-b085-9ce6abeb2465",
   "metadata": {},
   "outputs": [
    {
     "name": "stdout",
     "output_type": "stream",
     "text": [
      "[(1, 4, 7, 9, 6, 3), (2, 5, 8, 8, 5, 2), (3, 6, 9, 7, 4, 1)]\n"
     ]
    }
   ],
   "source": [
    "list1 = [[1,2,3],[4,5,6],[7,8,9]]\n",
    "list2 = [[9,8,7],[6,5,4],[3,2,1]]\n",
    "ls11,ls12,ls13=list1\n",
    "ls21,ls22,ls23=list2\n",
    "print(list(zip(ls11,ls12,ls13,ls21,ls22,ls23)))"
   ]
  },
  {
   "cell_type": "code",
   "execution_count": 11,
   "id": "a419dfc7-afa1-462d-af05-4b04a9307833",
   "metadata": {},
   "outputs": [
    {
     "name": "stdout",
     "output_type": "stream",
     "text": [
      "[]\n"
     ]
    }
   ],
   "source": [
    "array  = [1, 2, 3, 4, 5]\n",
    "def func1(x):\n",
    "    return x<0\n",
    "result=filter(func1, array)\n",
    "print(list(result))"
   ]
  },
  {
   "cell_type": "code",
   "execution_count": 12,
   "id": "091e7031-72fe-4d4c-8171-a884e789f299",
   "metadata": {},
   "outputs": [],
   "source": [
    "res = list(filter(lambda x:x<0, array))"
   ]
  },
  {
   "cell_type": "code",
   "execution_count": 13,
   "id": "350f9bf3-eb59-47c4-a622-408a799042ad",
   "metadata": {},
   "outputs": [
    {
     "name": "stdout",
     "output_type": "stream",
     "text": [
      "[]\n"
     ]
    }
   ],
   "source": [
    "print(res)"
   ]
  },
  {
   "cell_type": "code",
   "execution_count": 16,
   "id": "615a24fa-f569-4b95-9372-6640658c5c21",
   "metadata": {},
   "outputs": [
    {
     "data": {
      "text/plain": [
       "['brian-23@scaler.com', 'brute_54@scaler.com', 'sara@scaler.com']"
      ]
     },
     "execution_count": 16,
     "metadata": {},
     "output_type": "execute_result"
    }
   ],
   "source": [
    "def check(emails):\n",
    "    '''\n",
    "    input:\n",
    "    emails -> list of emails to check\n",
    "    \n",
    "    output:\n",
    "    verified_lex -> the verified list of emails, in lexicographical order\n",
    "    '''    \n",
    "    # Your code starts here\n",
    "    def validate(email):\n",
    "        user = email.split('@')[0]\n",
    "        if '@' in email and email.count('@') == 1 and len(user) <= 20:\n",
    "            return email\n",
    "        \n",
    "    verified_lex = list(filter(validate, emails))\n",
    "    # Your code ends here\n",
    "    return sorted(verified_lex)\n",
    "\n",
    "emails = ['brian-23@scaler.com', 'brute_54@scaler.com', 'sara@scaler.com']\n",
    "check(emails)"
   ]
  },
  {
   "cell_type": "code",
   "execution_count": 17,
   "id": "3db2f5ba-2ea3-436a-8b05-0a0ed5cba9a9",
   "metadata": {},
   "outputs": [
    {
     "name": "stdout",
     "output_type": "stream",
     "text": [
      "[2, [2, 3, 2, 3], 8, 10]\n"
     ]
    }
   ],
   "source": [
    "a=[1,[2,3],4,5]\n",
    "\n",
    "result = list(map(lambda x:x*2, a))\n",
    "print(result)"
   ]
  },
  {
   "cell_type": "code",
   "execution_count": 18,
   "id": "abb29c29-7604-4f18-9ec3-1e6dae10f191",
   "metadata": {},
   "outputs": [
    {
     "name": "stdout",
     "output_type": "stream",
     "text": [
      "['samJohnson@iit.com', 'SAM@harvard.com']\n"
     ]
    }
   ],
   "source": [
    "ids=[\"Sam@gmail.com\", \"Ram@gmail.com\", \"Sam@gmail.com\", \"samJohnson@iit.com\", \"SAM@harvard.com\"]\n",
    "name=\"sam\"\n",
    "result = list(filter(lambda x : name.lower() in x or name.upper() in x , ids))\n",
    "print(result)"
   ]
  },
  {
   "cell_type": "code",
   "execution_count": 19,
   "id": "5b706597-0c67-4485-8e65-8d5ae2fb81cc",
   "metadata": {},
   "outputs": [
    {
     "data": {
      "text/plain": [
       "True"
      ]
     },
     "execution_count": 19,
     "metadata": {},
     "output_type": "execute_result"
    }
   ],
   "source": [
    "word = 'abcdedcba'\n",
    "word == word[::-1]"
   ]
  },
  {
   "cell_type": "code",
   "execution_count": 72,
   "id": "d8980342-b89e-44ef-9e99-c2cca3b9d5e1",
   "metadata": {},
   "outputs": [
    {
     "name": "stdout",
     "output_type": "stream",
     "text": [
      "['Adam', 'Jacob']\n"
     ]
    }
   ],
   "source": [
    "def nearestStudents(names,loc):\n",
    "    d = {}\n",
    "#    for i in range(len(names)-1, -1, -1):\n",
    "    for i in range(len(names)):\n",
    "        p1 = names[i]\n",
    "        l1 = loc[i]\n",
    "        for j in range(i+1,len(names)):\n",
    "            p2 = names[j]\n",
    "            l2 = loc[j]\n",
    "            d[(p1, p2)] = abs(l1[0]-l2[0]) + abs(l1[1]-l2[1])\n",
    "    # s = list(set(d.values()))\n",
    "    # l = []\n",
    "    \n",
    "    # print(list(sorted(d.items(), key=lambda x:x[1])[0][0]))\n",
    "    print(list(sorted(d, key=lambda x:x[1])[0]))\n",
    "    \n",
    "#     for i in d.items():\n",
    "#         if i[1] == s[0]:\n",
    "#             l.append(list(i[0]))\n",
    "\t\n",
    "\n",
    "#     return l[0]\n",
    "\n",
    "names = ['Adam','Millie','Jacob','Michael','Maxine']\n",
    "loc = [(1,2),(5,4),(0,3),(2,3),(0,0)]\n",
    "\n",
    "nearestStudents(names,loc)"
   ]
  },
  {
   "cell_type": "code",
   "execution_count": 56,
   "id": "1c3082e0-9122-4013-90b6-4f7589a37583",
   "metadata": {},
   "outputs": [],
   "source": [
    "d = {('Michael', 'Adam'): 2,\n",
    " ('Michael', 'Jacob'): 2,\n",
    " ('Jacob', 'Adam'): 2,\n",
    " ('Maxine', 'Adam'): 3,\n",
    " ('Maxine', 'Jacob'): 3,\n",
    " ('Michael', 'Millie'): 4,\n",
    " ('Maxine', 'Michael'): 5,\n",
    " ('Jacob', 'Millie'): 6,\n",
    " ('Millie', 'Adam'): 6,\n",
    " ('Maxine', 'Millie'): 9}\n",
    "s = list(set(d.values()))"
   ]
  },
  {
   "cell_type": "code",
   "execution_count": 69,
   "id": "22d219af-a69e-4d30-8365-eb55c7444044",
   "metadata": {},
   "outputs": [
    {
     "name": "stdout",
     "output_type": "stream",
     "text": [
      "['Adam', 'Millie'] 6\n",
      "['Adam', 'Jacob'] 2\n",
      "['Adam', 'Jacob'] 2\n",
      "['Adam', 'Jacob'] 2\n",
      "['Adam', 'Jacob'] 2\n",
      "['Adam', 'Jacob'] 2\n",
      "['Adam', 'Jacob'] 2\n",
      "['Adam', 'Jacob'] 2\n",
      "['Adam', 'Jacob'] 2\n",
      "['Adam', 'Jacob'] 2\n"
     ]
    },
    {
     "data": {
      "text/plain": [
       "['Adam', 'Jacob']"
      ]
     },
     "execution_count": 69,
     "metadata": {},
     "output_type": "execute_result"
    }
   ],
   "source": [
    "def nearestStudents(names,loc):\n",
    "    min_distance = 100000\n",
    "    pair = None\n",
    "    for i in range(len(names)):\n",
    "        for j in range(i + 1, len(names)):\n",
    "            distance = abs(loc[i][0] - loc[j][0]) + abs(loc[i][1] - loc[j][1])\n",
    "            #print(names[i], names[j])\n",
    "            if distance < min_distance:\n",
    "                pair = [names[i], names[j]]\n",
    "                min_distance = distance\n",
    "            print(pair, min_distance)\n",
    "    return pair\n",
    "\n",
    "names = ['Adam','Millie','Jacob','Michael','Maxine']\n",
    "loc = [(1,2),(5,4),(0,3),(2,3),(0,0)]\n",
    "\n",
    "nearestStudents(names,loc)"
   ]
  },
  {
   "cell_type": "code",
   "execution_count": 2,
   "id": "6a3a5e73-0f90-4039-97d8-c734122b3477",
   "metadata": {},
   "outputs": [
    {
     "data": {
      "text/plain": [
       "11"
      ]
     },
     "execution_count": 2,
     "metadata": {},
     "output_type": "execute_result"
    }
   ],
   "source": [
    "24 % 13"
   ]
  },
  {
   "cell_type": "code",
   "execution_count": 3,
   "id": "faffdb37-5e72-4954-859f-fe9ef04448f8",
   "metadata": {},
   "outputs": [
    {
     "data": {
      "text/plain": [
       "1"
      ]
     },
     "execution_count": 3,
     "metadata": {},
     "output_type": "execute_result"
    }
   ],
   "source": [
    "25 % 24"
   ]
  },
  {
   "cell_type": "code",
   "execution_count": 4,
   "id": "bf3fdf7e-27da-4d8d-8b5a-42e8432bc5a2",
   "metadata": {},
   "outputs": [
    {
     "data": {
      "text/plain": [
       "1"
      ]
     },
     "execution_count": 4,
     "metadata": {},
     "output_type": "execute_result"
    }
   ],
   "source": [
    "(25 ** 50) % 24"
   ]
  },
  {
   "cell_type": "code",
   "execution_count": 5,
   "id": "dd2654b1-f42d-4c35-b2a2-b0cc75adf6c4",
   "metadata": {},
   "outputs": [
    {
     "data": {
      "text/plain": [
       "58453248730331016423376362220113545242612980425266212714921832216993762011119642250537592395330"
      ]
     },
     "execution_count": 5,
     "metadata": {},
     "output_type": "execute_result"
    }
   ],
   "source": [
    "(11 ** 91) + (10 ** 91) - (9 ** 2)"
   ]
  },
  {
   "cell_type": "code",
   "execution_count": 15,
   "id": "4bb1cfbf-9baa-4c5e-a548-91e04c684010",
   "metadata": {},
   "outputs": [
    {
     "name": "stdout",
     "output_type": "stream",
     "text": [
      "123\n",
      "4\n",
      "214 2\n"
     ]
    }
   ],
   "source": [
    "with open(\"fh.txt\",'r') as f:\n",
    "    count = 0\n",
    "    numCount = 0\n",
    "    data = f.read()\n",
    "    words = data.split()\n",
    "    for word in words:\n",
    "        count += 1\n",
    "        if (word.isnumeric() == True):\n",
    "            print(word)\n",
    "            numCount += 1\n",
    "            \n",
    "f.close()\n",
    "        \n",
    "print(count, numCount)"
   ]
  },
  {
   "cell_type": "code",
   "execution_count": 14,
   "id": "6b3d62c8-a207-4112-9601-e649a5f8a5b4",
   "metadata": {},
   "outputs": [
    {
     "name": "stdout",
     "output_type": "stream",
     "text": [
      "True\n"
     ]
    }
   ],
   "source": [
    "f = None \n",
    "for i in range (5): \n",
    "    with open(\"data.txt\", \"w\") as f: \n",
    "        if i > 2: \n",
    "            break \n",
    "print(f.closed)"
   ]
  },
  {
   "cell_type": "code",
   "execution_count": 19,
   "id": "92958bfa-3c3d-44a0-bc49-a1ff1434b927",
   "metadata": {},
   "outputs": [],
   "source": [
    "f = open(\"fh.txt\",'rb')"
   ]
  },
  {
   "cell_type": "code",
   "execution_count": 20,
   "id": "5a6885e7-d1bf-4924-9d8e-7bc37f982fd3",
   "metadata": {},
   "outputs": [
    {
     "data": {
      "text/plain": [
       "b'In word processing and desktop publishing, a hard return or paragraph break indicates a new paragraph, to be distinguished from the soft return at the end of a line internal to a paragraph 123\\nThis distinction allows word wrap to automatical4ly re-flow text as it is edited, without losing paragraph breaks.\\nThe software may apply vertic3al white space or indenting at paragraph 4 breaks, depending on the selected style. \\nHow such documents are actually stored depends on the file format. \\nFor example, HTML uses the <p> tag as a paragraph container. \\nIn plaintext files, there are two common formats. \\nThe pre-formatted text will have a newline at the end of every physical line, and two newlines at the end of a paragraph, creating a blank line. \\nAn alternative is to only put newlines at the end of each paragraph, and leave word wrapping up to the application that displays or processes the text.\\nA line break that is inserted manually, and preserved when re-flowing, may still be distinct from a paragraph break, although this is typically not done in prose. \\nHTML\\'s <br /> tag produces a line break without ending the paragraph; the W3C recommends using it only to separate lines of verse (where each \"paragraph\" is a stanza), or in a street address.[5]'"
      ]
     },
     "execution_count": 20,
     "metadata": {},
     "output_type": "execute_result"
    }
   ],
   "source": [
    "f.read()"
   ]
  },
  {
   "cell_type": "raw",
   "id": "c8494a3f-dab0-43ef-8978-e9b8e42f78fb",
   "metadata": {},
   "source": [
    "try:\n",
    "  print(x)\n",
    "except NameError:                       #1\n",
    "  print(\"Variable x is not defined\")\n",
    "except:                                 #2\n",
    "  print(\"Something else went wrong\")"
   ]
  },
  {
   "cell_type": "raw",
   "id": "388764ae-851c-4d10-892f-9f1f98211f1a",
   "metadata": {},
   "source": [
    "print(a)"
   ]
  },
  {
   "cell_type": "code",
   "execution_count": null,
   "id": "a5e30038-b982-4870-83f7-6410bc14905f",
   "metadata": {},
   "outputs": [],
   "source": []
  }
 ],
 "metadata": {
  "kernelspec": {
   "display_name": "Python 3 (ipykernel)",
   "language": "python",
   "name": "python3"
  },
  "language_info": {
   "codemirror_mode": {
    "name": "ipython",
    "version": 3
   },
   "file_extension": ".py",
   "mimetype": "text/x-python",
   "name": "python",
   "nbconvert_exporter": "python",
   "pygments_lexer": "ipython3",
   "version": "3.9.12"
  }
 },
 "nbformat": 4,
 "nbformat_minor": 5
}
