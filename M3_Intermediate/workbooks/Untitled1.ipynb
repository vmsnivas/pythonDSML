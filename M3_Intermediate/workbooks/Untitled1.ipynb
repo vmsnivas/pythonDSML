{
 "cells": [
  {
   "cell_type": "code",
   "execution_count": null,
   "id": "20197443-a8e2-4e76-98a0-4d9bad5fbbd1",
   "metadata": {},
   "outputs": [],
   "source": [
    "try:\n",
    "  print(x)\n",
    "except NameError:                       #1\n",
    "  print(\"Variable x is not defined\")\n",
    "except:                                 #2\n",
    "  print(\"Something else went wrong\")"
   ]
  },
  {
   "cell_type": "code",
   "execution_count": null,
   "id": "d281187d-1d56-446b-8916-93cfbdd6688f",
   "metadata": {},
   "outputs": [],
   "source": [
    "try:\n",
    "  print(a)\n",
    "except ValueError:\n",
    "  a=3\n",
    "  print(a)\n",
    "except:\n",
    "  a=5\n",
    "  print(a)\n",
    "finally:\n",
    "  a=4\n",
    "  print(a)"
   ]
  },
  {
   "cell_type": "code",
   "execution_count": null,
   "id": "548cb805-4c74-4808-a39f-09e255e07af8",
   "metadata": {},
   "outputs": [],
   "source": [
    "import random\n",
    "random.randint(3, 6)"
   ]
  },
  {
   "cell_type": "code",
   "execution_count": null,
   "id": "9ee70a6f-cef1-492a-8f9d-1b6de7d45853",
   "metadata": {},
   "outputs": [],
   "source": [
    "random.choice([3, 6])"
   ]
  },
  {
   "cell_type": "code",
   "execution_count": null,
   "id": "7adcd766-5427-43af-bf43-6787f10bf464",
   "metadata": {},
   "outputs": [],
   "source": [
    "random.randrange(3,6)"
   ]
  },
  {
   "cell_type": "code",
   "execution_count": null,
   "id": "4c0ea30c-7287-4d59-8339-a93515dbd108",
   "metadata": {},
   "outputs": [],
   "source": [
    "3 + random.randrange(4)"
   ]
  },
  {
   "cell_type": "code",
   "execution_count": null,
   "id": "ba3c2734-f977-48dc-b724-3edb1daf4ca3",
   "metadata": {},
   "outputs": [],
   "source": [
    " from math import factorial\n",
    " print(factorial(5)) "
   ]
  },
  {
   "cell_type": "code",
   "execution_count": null,
   "id": "a11f22d0-cd73-4088-bc5d-da4625086549",
   "metadata": {},
   "outputs": [],
   "source": [
    "n = int(input())"
   ]
  },
  {
   "cell_type": "code",
   "execution_count": null,
   "id": "dc69d85b-ffda-4fdc-86c2-a61d4c84733b",
   "metadata": {},
   "outputs": [],
   "source": [
    "int('1.5')"
   ]
  },
  {
   "cell_type": "code",
   "execution_count": null,
   "id": "00ce438b-449e-4f64-8f40-fca5aea557f5",
   "metadata": {},
   "outputs": [],
   "source": [
    "try:\n",
    "  n=int(input(\"Enter a number\"))\n",
    "  while 100%n==0:\n",
    "    print(\"Good\")\n",
    "    \n",
    "except ValueError:\n",
    "  print(\"Invalid\")"
   ]
  },
  {
   "cell_type": "code",
   "execution_count": null,
   "id": "3df231a5-9d79-4818-bd73-535a1cdadf94",
   "metadata": {},
   "outputs": [],
   "source": [
    "def even(x):\n",
    "    try:\n",
    "        if x%2==0:\n",
    "            return \"even\"\n",
    "        else:\n",
    "            raise Exception\n",
    "    except:\n",
    "        return(\"odd\")\n",
    "    finally:\n",
    "        return \"integer\"\n",
    "\n",
    "print(even(5))    #A\n",
    "print(even(4))    #B"
   ]
  },
  {
   "cell_type": "code",
   "execution_count": null,
   "id": "46408f1a-2f7c-4d47-ac51-e987710e6f9d",
   "metadata": {},
   "outputs": [],
   "source": [
    "import random\n",
    "\n",
    "array = list(range(100))\n",
    "#random.shuffle(array)\n",
    "while len(array) != 0:\n",
    "      print(array.pop())"
   ]
  },
  {
   "cell_type": "code",
   "execution_count": 1,
   "id": "a8b204b4-1b6d-4d45-8a4e-f9e570a293dc",
   "metadata": {},
   "outputs": [
    {
     "data": {
      "text/plain": [
       "2.0"
      ]
     },
     "execution_count": 1,
     "metadata": {},
     "output_type": "execute_result"
    }
   ],
   "source": [
    "1 - (1 / -1)"
   ]
  },
  {
   "cell_type": "code",
   "execution_count": 2,
   "id": "52a3019b-8daf-4789-a803-5dec6869d960",
   "metadata": {},
   "outputs": [],
   "source": [
    "from math import factorial as fact"
   ]
  },
  {
   "cell_type": "code",
   "execution_count": 7,
   "id": "cc5a4a7b-f390-4956-9afc-0ea4886d007c",
   "metadata": {},
   "outputs": [
    {
     "data": {
      "text/plain": [
       "6188.0"
      ]
     },
     "execution_count": 7,
     "metadata": {},
     "output_type": "execute_result"
    }
   ],
   "source": [
    "fact(17) / (fact(17-5) * fact(5))"
   ]
  },
  {
   "cell_type": "code",
   "execution_count": 8,
   "id": "ba603088-d0a2-4e10-80b9-adb73e3e7d05",
   "metadata": {},
   "outputs": [
    {
     "data": {
      "text/plain": [
       "False"
      ]
     },
     "execution_count": 8,
     "metadata": {},
     "output_type": "execute_result"
    }
   ],
   "source": [
    "'a'.isupper()"
   ]
  },
  {
   "cell_type": "code",
   "execution_count": 9,
   "id": "8d9e874c-c07e-4d35-b142-b33033864b8d",
   "metadata": {},
   "outputs": [
    {
     "name": "stdout",
     "output_type": "stream",
     "text": [
      "{1: 'apple', 2: 'orange', 3: 'banana'}\n",
      "{1: 'strawberry', 2: 'orange', 3: 'banana'}\n"
     ]
    }
   ],
   "source": [
    "d = {1: 'apple', 2: 'orange', 3: 'banana'}\n",
    "print(d)\n",
    "d[1] = 'strawberry'\n",
    "print(d)"
   ]
  },
  {
   "cell_type": "code",
   "execution_count": 10,
   "id": "23bc32b8-5fd8-4e86-b80e-ebfcbfa2d1c9",
   "metadata": {},
   "outputs": [
    {
     "name": "stdout",
     "output_type": "stream",
     "text": [
      "5 8\n"
     ]
    }
   ],
   "source": [
    "class A:\n",
    "    def __init__(self,x):\n",
    "        self.x = x\n",
    "    def count(self,x):\n",
    "        self.x - self.x + 1\n",
    "        \n",
    "class B(A):\n",
    "    def __init__(self, y=0):\n",
    "        A.__init__(self,5)\n",
    "        self.y = y\n",
    "    def count(self):\n",
    "        self.y += 2\n",
    "        \n",
    "def main():\n",
    "    obj = B(6)\n",
    "    obj.count()\n",
    "    print(obj.x, obj.y)\n",
    "    \n",
    "main()"
   ]
  },
  {
   "cell_type": "code",
   "execution_count": 1,
   "id": "42e58349-ec7d-4306-a4c1-761e8d6bd88b",
   "metadata": {},
   "outputs": [
    {
     "name": "stdout",
     "output_type": "stream",
     "text": [
      "Help on class student in module __main__:\n",
      "\n",
      "class student(builtins.object)\n",
      " |  Methods defined here:\n",
      " |  \n",
      " |  __init__(self)\n",
      " |      The student class is initialized\n",
      " |  \n",
      " |  print_student(self)\n",
      " |      Returns the student description\n",
      " |  \n",
      " |  ----------------------------------------------------------------------\n",
      " |  Data descriptors defined here:\n",
      " |  \n",
      " |  __dict__\n",
      " |      dictionary for instance variables (if defined)\n",
      " |  \n",
      " |  __weakref__\n",
      " |      list of weak references to the object (if defined)\n",
      "\n"
     ]
    }
   ],
   "source": [
    "class student: \n",
    "    def __init__(self): \n",
    "        '''The student class is initialized'''\n",
    "\n",
    "    def print_student(self): \n",
    "        '''Returns the student description'''\n",
    "        print('student description') \n",
    "\n",
    "help(student)"
   ]
  },
  {
   "cell_type": "code",
   "execution_count": 2,
   "id": "60ecf3f4-ba64-46aa-8d32-ab12c8318bcc",
   "metadata": {},
   "outputs": [
    {
     "name": "stdout",
     "output_type": "stream",
     "text": [
      "test of child1 called, test of child2 called, test of parent called, "
     ]
    }
   ],
   "source": [
    "class Parent:\n",
    "    def test(self):\n",
    "        print(\"test of parent called\", end=\", \")\n",
    "class Child1(Parent):\n",
    "    def test(self):\n",
    "        print(\"test of child1 called\", end=\", \")\n",
    "        super().test()\n",
    "class Child2(Parent):\n",
    "    def test(self):\n",
    "        print(\"test of child2 called\", end=\", \")\n",
    "        super().test()\n",
    "class Brother(Child1,Child2):\n",
    "    def test2(self):\n",
    "        print(\"test of Brother called\", end=\", \" )\n",
    "\n",
    "obj= Brother()\n",
    "obj.test()"
   ]
  },
  {
   "cell_type": "code",
   "execution_count": 3,
   "id": "a4a7ecd3-086a-4058-a93d-7362712e77a2",
   "metadata": {},
   "outputs": [
    {
     "name": "stdout",
     "output_type": "stream",
     "text": [
      "Derived_Demo's __new__() invoked\n",
      "Demo's __init__() invoked\n",
      "Demo's __new__() invoked\n"
     ]
    }
   ],
   "source": [
    "class Demo:\n",
    "    def __new__(self):\n",
    "        self.__init__(self)\n",
    "        print(\"Demo's __new__() invoked\")\n",
    "\n",
    "    def __init__(self):\n",
    "        print(\"Demo's __init__() invoked\")\n",
    "\n",
    "class Derived_Demo(Demo):\n",
    "    def __new__(self):\n",
    "        print(\"Derived_Demo's __new__() invoked\")\n",
    "    \n",
    "    def __init__(self):\n",
    "        print(\"Derived_Demo's __init__() invoked\")\n",
    "\n",
    "def main():\n",
    "    obj1 = Derived_Demo()\n",
    "    obj2 = Demo()\n",
    "\n",
    "main()"
   ]
  },
  {
   "cell_type": "code",
   "execution_count": 16,
   "id": "4b34c52e-dff5-4854-9439-49cd7056a112",
   "metadata": {},
   "outputs": [
    {
     "name": "stdout",
     "output_type": "stream",
     "text": [
      "0.01 12301.247 12302 123.02\n",
      "123.02\n"
     ]
    }
   ],
   "source": [
    "import math\n",
    "def roundup(a, digits):\n",
    "    n = 10 ** -digits\n",
    "    print(n, (a/n), math.ceil(a/n), math.ceil(a/n)*n)\n",
    "    return round(math.ceil(a/n)*n,digits)\n",
    "print(roundup(123.01247,2))"
   ]
  },
  {
   "cell_type": "code",
   "execution_count": 12,
   "id": "9ea2da61-50f2-4528-bacf-20452d793827",
   "metadata": {},
   "outputs": [
    {
     "name": "stdout",
     "output_type": "stream",
     "text": [
      "12301\n",
      "12302\n"
     ]
    }
   ],
   "source": [
    "print(math.floor(12301.247))\n",
    "print(math.ceil(12301.247))\n"
   ]
  },
  {
   "cell_type": "code",
   "execution_count": 14,
   "id": "5473dca2-aabd-4aef-a187-614a0335a308",
   "metadata": {},
   "outputs": [
    {
     "name": "stdout",
     "output_type": "stream",
     "text": [
      "0.01 12301.247 12302 123.02\n",
      "123.02\n"
     ]
    }
   ],
   "source": [
    "import math\n",
    "def roundup(a, digits):\n",
    "    n = math.pow(10, -digits)\n",
    "    print(n, (a/n), math.ceil(a/n), math.ceil(a/n)*n)\n",
    "    return round(math.ceil(a/n)*n,digits)\n",
    "print(roundup(123.01247,2))"
   ]
  },
  {
   "cell_type": "code",
   "execution_count": 1,
   "id": "da699dab-3b7c-4363-a4b9-903047818043",
   "metadata": {},
   "outputs": [],
   "source": [
    "string = '''\n",
    "We spent several years building our own database engine, Amazon Aurora, a fully-managed MySQL and PostgreSQL-compatible service with the same or better durability and availability as\n",
    "the commercial engines, but at one-tenth of the cost. We were not surprised when this worked.\n",
    "'''"
   ]
  },
  {
   "cell_type": "code",
   "execution_count": 2,
   "id": "164fc81a-c9ee-4a7b-8dd4-bda81e2a3f70",
   "metadata": {},
   "outputs": [
    {
     "data": {
      "text/plain": [
       "'\\nWe spent several years building our own database engine, Amazon Aurora, a fully-managed MySQL and PostgreSQL-compatible service with the same or better durability and availability as\\nthe commercial engines, but at one-tenth of the cost. We were not surprised when this worked.\\n'"
      ]
     },
     "execution_count": 2,
     "metadata": {},
     "output_type": "execute_result"
    }
   ],
   "source": [
    "string"
   ]
  },
  {
   "cell_type": "code",
   "execution_count": 5,
   "id": "fc5a111f-ea12-4da2-b2fb-5db363ce56af",
   "metadata": {},
   "outputs": [
    {
     "data": {
      "text/plain": [
       "'a fully-managed MySQL and PostgreSQL'"
      ]
     },
     "execution_count": 5,
     "metadata": {},
     "output_type": "execute_result"
    }
   ],
   "source": [
    "string[string.find('SQL') - 18 : string.find('SQL') + 18]"
   ]
  },
  {
   "cell_type": "code",
   "execution_count": 8,
   "id": "a5705f28-3ac8-4d4d-9c4d-d8334e4e2801",
   "metadata": {},
   "outputs": [
    {
     "name": "stdout",
     "output_type": "stream",
     "text": [
      "[1, 2, 3, 4, 5]\n"
     ]
    }
   ],
   "source": [
    "array = [ [1, [ [ 2 ] ], [ [ [ 3 ] ] ], [ [ 4 ], 5 ] ]]\n",
    "result = lambda x: sum(map(result, x), [ ] ) if isinstance(x, list) else [x]\n",
    "print(result(array))"
   ]
  },
  {
   "cell_type": "code",
   "execution_count": 11,
   "id": "268ddb73-a1f7-45f0-80f3-df099cedbc75",
   "metadata": {},
   "outputs": [
    {
     "name": "stdout",
     "output_type": "stream",
     "text": [
      "[[[1], [[[2]]], [[[[3]]]], [[[4]], [5]]]]\n"
     ]
    }
   ],
   "source": [
    "array = [ [1, [ [ 2 ] ], [ [ [ 3 ] ] ], [ [ 4 ], 5 ] ]]\n",
    "result = lambda x: list(map(result, x)) if isinstance(x, list) else [x]\n",
    "print(result(array))"
   ]
  },
  {
   "cell_type": "code",
   "execution_count": 12,
   "id": "4b9b7d44-10f3-4b02-b8b3-f543320f8046",
   "metadata": {},
   "outputs": [
    {
     "name": "stdout",
     "output_type": "stream",
     "text": [
      "[set(), {1}, {2}, {1, 2}, {3}, {1, 3}, {2, 3}, {1, 2, 3}]\n"
     ]
    }
   ],
   "source": [
    "from functools import reduce\n",
    "array = {1, 2, 3}\n",
    "result = lambda array: reduce(lambda P, x: P + [subset | {x} for subset in P], array , [set()]) \n",
    "\n",
    "print(result(array))"
   ]
  },
  {
   "cell_type": "code",
   "execution_count": null,
   "id": "27783400-1c88-4054-b008-0e4cb3820238",
   "metadata": {},
   "outputs": [],
   "source": []
  }
 ],
 "metadata": {
  "kernelspec": {
   "display_name": "Python 3 (ipykernel)",
   "language": "python",
   "name": "python3"
  },
  "language_info": {
   "codemirror_mode": {
    "name": "ipython",
    "version": 3
   },
   "file_extension": ".py",
   "mimetype": "text/x-python",
   "name": "python",
   "nbconvert_exporter": "python",
   "pygments_lexer": "ipython3",
   "version": "3.9.12"
  }
 },
 "nbformat": 4,
 "nbformat_minor": 5
}
