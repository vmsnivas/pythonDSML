{
 "cells": [
  {
   "cell_type": "code",
   "execution_count": null,
   "id": "d4d8383a-948d-44fb-bd32-29403fbc2754",
   "metadata": {},
   "outputs": [],
   "source": []
  },
  {
   "cell_type": "code",
   "execution_count": 22,
   "id": "da3aa302-d40b-4934-9b3d-f587afa74e84",
   "metadata": {},
   "outputs": [
    {
     "data": {
      "text/plain": [
       "(10, 20, 30, 40, 50)"
      ]
     },
     "execution_count": 22,
     "metadata": {},
     "output_type": "execute_result"
    }
   ],
   "source": [
    "tup = (10, 20, 30, 40, 50, 'string')\n",
    "# tup.remove('string')\n",
    "# tup = tup[:-1]\n",
    "# tup\n",
    "\n",
    "a,b,c,d,e,f, = tup\n",
    "tup = (a,b,c,d,e)\n",
    "tup"
   ]
  },
  {
   "cell_type": "code",
   "execution_count": 23,
   "id": "5376ad48-108e-4431-bcd9-5c11660fc1a3",
   "metadata": {},
   "outputs": [
    {
     "name": "stdout",
     "output_type": "stream",
     "text": [
      "(100, 100)\n",
      "200\n"
     ]
    }
   ],
   "source": [
    "aTuple = (100,)\n",
    "bTuple = (100)\n",
    "\n",
    "print(aTuple * 2)\n",
    "print(bTuple * 2)"
   ]
  },
  {
   "cell_type": "code",
   "execution_count": 24,
   "id": "aecfef3d-9e64-4c52-b8e7-7843f7ab62ab",
   "metadata": {},
   "outputs": [
    {
     "data": {
      "text/plain": [
       "0"
      ]
     },
     "execution_count": 24,
     "metadata": {},
     "output_type": "execute_result"
    }
   ],
   "source": [
    "tup.index(10)"
   ]
  },
  {
   "cell_type": "code",
   "execution_count": 26,
   "id": "aefbc5fc-8a6f-4585-b659-c1c14c35b509",
   "metadata": {},
   "outputs": [
    {
     "name": "stdout",
     "output_type": "stream",
     "text": [
      "30\n",
      "[10, 20, 30]\n",
      "30\n"
     ]
    }
   ],
   "source": [
    "tup = (\"Orange\", [10, 20, 30], (5, 15, 25))\n",
    "print(tup[1][-1])\n",
    "#print(tup[1:2](2))\n",
    "print(tup[1:2][-1])\n",
    "print(tup[1][2])\n"
   ]
  },
  {
   "cell_type": "code",
   "execution_count": 28,
   "id": "2d9fa9dd-6489-4a35-8690-6a321e16fea6",
   "metadata": {},
   "outputs": [
    {
     "data": {
      "text/plain": [
       "'n'"
      ]
     },
     "execution_count": 28,
     "metadata": {},
     "output_type": "execute_result"
    }
   ],
   "source": [
    "nested_list = [\"d\",\"a\", \"t\",[ \"a\",\" s\", [\"c\", \"i\",\"e\",\"n\",[\"c\",\"e\"]]]]\n",
    "nested_list[3][2][3]"
   ]
  },
  {
   "cell_type": "code",
   "execution_count": 30,
   "id": "111dfda5-5523-4420-910a-a8a2196293db",
   "metadata": {},
   "outputs": [
    {
     "name": "stdout",
     "output_type": "stream",
     "text": [
      "['python', 'scaler', 'ML']\n",
      "['Jupyter', 'scaler']\n",
      "data\n"
     ]
    },
    {
     "data": {
      "text/plain": [
       "['data', 'python', 'scaler', 'ML', 'foo', 'Jupyter', 'lists']"
      ]
     },
     "execution_count": 30,
     "metadata": {},
     "output_type": "execute_result"
    }
   ],
   "source": [
    "a=['data', 'python', 'scaler', 'ML', 'foo', 'Jupyter', 'lists']\n",
    "print(a[-6:-3])\n",
    "print(a[5::-3])\n",
    "print(a[-7])\n",
    "a[:]"
   ]
  },
  {
   "cell_type": "code",
   "execution_count": 32,
   "id": "d3067856-5347-44ec-a861-5b5299b914a3",
   "metadata": {},
   "outputs": [
    {
     "data": {
      "text/plain": [
       "False"
      ]
     },
     "execution_count": 32,
     "metadata": {},
     "output_type": "execute_result"
    }
   ],
   "source": [
    "a[:] is a"
   ]
  },
  {
   "cell_type": "code",
   "execution_count": 34,
   "id": "4ce942d4-285a-4ba8-9f6f-e094913d720f",
   "metadata": {},
   "outputs": [
    {
     "name": "stdout",
     "output_type": "stream",
     "text": [
      "140167483939136 140167483921536\n"
     ]
    }
   ],
   "source": [
    "list1 = []\n",
    "list2 = []\n",
    "\n",
    "print(id(list1), id(list2))"
   ]
  },
  {
   "cell_type": "code",
   "execution_count": 35,
   "id": "6002cff4-6627-4c41-aac0-f0e880bfec9f",
   "metadata": {},
   "outputs": [
    {
     "data": {
      "text/plain": [
       "False"
      ]
     },
     "execution_count": 35,
     "metadata": {},
     "output_type": "execute_result"
    }
   ],
   "source": [
    "list1 is list2"
   ]
  },
  {
   "cell_type": "code",
   "execution_count": 36,
   "id": "ea8122ad-c076-4c02-aa01-04066841247f",
   "metadata": {},
   "outputs": [
    {
     "data": {
      "text/plain": [
       "True"
      ]
     },
     "execution_count": 36,
     "metadata": {},
     "output_type": "execute_result"
    }
   ],
   "source": [
    "list1 == list2"
   ]
  },
  {
   "cell_type": "code",
   "execution_count": 42,
   "id": "da5e6b8c-887f-4af6-9354-b60f66e8d793",
   "metadata": {},
   "outputs": [
    {
     "name": "stdout",
     "output_type": "stream",
     "text": [
      "0 0 0 0 0 0 "
     ]
    }
   ],
   "source": [
    "data = [0, 1, 2, 3, 4, 5]\n",
    "for i in range(len(data)):\n",
    "    print(next(iter(data)), end=' ')"
   ]
  },
  {
   "cell_type": "code",
   "execution_count": 43,
   "id": "fa2d9e70-73b2-45e3-b118-805c4ae36ad3",
   "metadata": {},
   "outputs": [
    {
     "name": "stdout",
     "output_type": "stream",
     "text": [
      "11 "
     ]
    }
   ],
   "source": [
    "x = [1, 7, 11, 13, 19, 23]\n",
    "y = 8\n",
    "c = 0\n",
    "\n",
    "for i in x:\n",
    "    if i > y and c==0:\n",
    "       print(i, end= \" \")\n",
    "       c = 1\n",
    "    elif i == y and c==0:\n",
    "       print(\"Found y\", end=\" \")\n",
    "       c = 1"
   ]
  },
  {
   "cell_type": "code",
   "execution_count": 45,
   "id": "bbe617f0-24d3-4591-8caf-5f0a0d2af7ec",
   "metadata": {},
   "outputs": [
    {
     "data": {
      "text/plain": [
       "False"
      ]
     },
     "execution_count": 45,
     "metadata": {},
     "output_type": "execute_result"
    }
   ],
   "source": [
    "a = 10\n",
    "b = 10\n",
    "c = 20\n",
    "d = a + b\n",
    "\n",
    "a is not b"
   ]
  },
  {
   "cell_type": "code",
   "execution_count": 46,
   "id": "62320ef2-8b9e-4d5e-b492-c18679d4dfc4",
   "metadata": {},
   "outputs": [
    {
     "data": {
      "text/plain": [
       "False"
      ]
     },
     "execution_count": 46,
     "metadata": {},
     "output_type": "execute_result"
    }
   ],
   "source": [
    "d is not c"
   ]
  },
  {
   "cell_type": "code",
   "execution_count": 47,
   "id": "f6b9f07c-9e4b-4863-ae51-c58bfb7b416f",
   "metadata": {},
   "outputs": [
    {
     "data": {
      "text/plain": [
       "False"
      ]
     },
     "execution_count": 47,
     "metadata": {},
     "output_type": "execute_result"
    }
   ],
   "source": [
    "a != b"
   ]
  },
  {
   "cell_type": "code",
   "execution_count": 52,
   "id": "5296a4cd-b920-4416-a7a1-6c454fab6559",
   "metadata": {},
   "outputs": [
    {
     "name": "stdout",
     "output_type": "stream",
     "text": [
      "6\n",
      "6\n",
      "6\n",
      "16 10 6\n"
     ]
    }
   ],
   "source": [
    "l = [\"a\", \"e\", \"i\", \"o\", \"u\"]\n",
    "a = \"alexa play hello\"\n",
    "c = len(a)\n",
    "for i in a:\n",
    " if i not in l:\n",
    "   c-=1\n",
    "print(c)\n",
    "\n",
    "count = 0\n",
    "for i in a:\n",
    "    if i in l:\n",
    "        count += 1\n",
    "print(count)\n",
    "\n",
    "count1 = 0\n",
    "\n",
    "for i in a:\n",
    "    for j in l:\n",
    "        if i == j:\n",
    "            count1 += 1\n",
    "print(count1)\n",
    "\n",
    "l = [\"a\", \"e\", \"i\", \"o\", \"u\"]\n",
    "a = \"alexa play hello\"\n",
    "count2 = len(a)\n",
    "for i in a:\n",
    " for j in l:\n",
    "   if j == i:\n",
    "     count2-=1\n",
    "print(len(a), count2, len(a)-count2)"
   ]
  },
  {
   "cell_type": "code",
   "execution_count": 57,
   "id": "c141bbcd-f08f-4cd9-b444-b9419df783c5",
   "metadata": {},
   "outputs": [
    {
     "name": "stdout",
     "output_type": "stream",
     "text": [
      "140167476050304 ['Guava', 'Berry', 'Cherry', 'Papaya']\n",
      "140167476050304 ['Guava', 'Berry', 'Cherry', 'Papaya']\n",
      "140167483912896 ['Apple', 'Kiwi', 'Cherry', 'Papaya']\n",
      "1\n",
      "2\n",
      "22\n",
      "22 Apple\n"
     ]
    }
   ],
   "source": [
    "list1 = ['Apple', 'Berry', 'Cherry', 'Papaya']\n",
    "list2 = list1\n",
    "list3 = list1[:]\n",
    "\n",
    "list2[0] = 'Guava'\n",
    "list3[1] = 'Kiwi'\n",
    "\n",
    "print(id(list1), list1)\n",
    "print(id(list2), list2)\n",
    "print(id(list3), list3)\n",
    "\n",
    "total = 0\n",
    "for ls in (list1, list2, list3):\n",
    "    if ls[0] == 'Guava':\n",
    "        total += 1\n",
    "\n",
    "    if ls[1] == 'Kiwi':\n",
    "        total += 20\n",
    "    \n",
    "    print(total)\n",
    "\n",
    "print (total, list3[0])"
   ]
  },
  {
   "cell_type": "code",
   "execution_count": 69,
   "id": "51ff0788-cb30-4718-bb00-46db04af75ff",
   "metadata": {},
   "outputs": [
    {
     "name": "stdout",
     "output_type": "stream",
     "text": [
      "Odd: (10, 5, 10, 10, 5, 8)\n",
      "Even: (8, 2, 15, 8, 8, 2)\n"
     ]
    }
   ],
   "source": [
    "tup = (10, 8, 5, 2, 10, 15, 10, 8, 5, 8, 8, 2)\n",
    "even = []\n",
    "odd = []\n",
    "\n",
    "for i in range(len(tup)):\n",
    "    if i % 2 == 0:\n",
    "        odd.append(tup[i])\n",
    "    else:\n",
    "        even.append(tup[i])\n",
    "        \n",
    "print(\"Odd:\", tuple(odd))\n",
    "print(\"Even:\", tuple(even))"
   ]
  },
  {
   "cell_type": "code",
   "execution_count": 67,
   "id": "c1aae1ed-116f-47d0-a746-e4f6baa405a4",
   "metadata": {},
   "outputs": [
    {
     "data": {
      "text/plain": [
       "[8, 2, 15, 8, 8, 2]"
      ]
     },
     "execution_count": 67,
     "metadata": {},
     "output_type": "execute_result"
    }
   ],
   "source": [
    "even"
   ]
  },
  {
   "cell_type": "code",
   "execution_count": 71,
   "id": "e31b7e70-b072-476b-9053-7d1556241e54",
   "metadata": {},
   "outputs": [
    {
     "name": "stdout",
     "output_type": "stream",
     "text": [
      "10 : 3\n",
      "8 : 4\n",
      "5 : 2\n",
      "2 : 2\n",
      "15 : 1\n"
     ]
    }
   ],
   "source": [
    "countList = []\n",
    "\n",
    "for i in tup:\n",
    "    if i not in countList:\n",
    "        countList.append(i)\n",
    "        print(i, tup.count(i), sep=' : ')"
   ]
  },
  {
   "cell_type": "code",
   "execution_count": 11,
   "id": "5f19493d-ce30-4283-85d1-347e4af20fa8",
   "metadata": {},
   "outputs": [
    {
     "name": "stdout",
     "output_type": "stream",
     "text": [
      "[(1, -1), (-1, 1), (-1, -1), (2, 4), (3, 4)]\n"
     ]
    }
   ],
   "source": [
    "#lis = [(5,5),(1,1),(2,2),(3,3),(4,4),(6,6)]\n",
    "lis = [(2,4),(1,-1),(-1,1),(-1,-1),(3,4),(5,6)]\n",
    "pnt = (0,0)\n",
    "\n",
    "ans = []\n",
    "dist = {}\n",
    "\n",
    "for x,y in lis:\n",
    "    dist[(x,y)] = ((x-pnt[0]) ** 2 + (y-pnt[1]) ** 2) ** 0.5\n",
    "    \n",
    "ans = list(sorted(dist.keys(), key=dist.get))\n",
    "\n",
    "print(ans[:5])\n",
    "\n",
    "# lis.sort(key = lambda p:(((p[0]-pnt[0])**2 + (p[1]-pnt[1])**2)**0.5))\n",
    "\n",
    "# print(lis[:5])"
   ]
  },
  {
   "cell_type": "code",
   "execution_count": 12,
   "id": "b86742cd-884c-48c5-bcc0-3f0197d5720d",
   "metadata": {},
   "outputs": [
    {
     "name": "stdout",
     "output_type": "stream",
     "text": [
      "[(1, -1), (-1, 1), (-1, -1), (2, 4), (3, 4)]\n"
     ]
    }
   ],
   "source": [
    "lis = [(2,4),(1,-1),(-1,1),(-1,-1),(3,4),(5,6)]\n",
    "pnt = (0,0)\n",
    "\n",
    "lis.sort(key = lambda p:(((p[0]-pnt[0])**2 + (p[1]-pnt[1])**2)**0.5))\n",
    "\n",
    "print(lis[:5])"
   ]
  },
  {
   "cell_type": "code",
   "execution_count": 13,
   "id": "e71c5018-e2a4-4509-8e77-63eb9d704896",
   "metadata": {},
   "outputs": [
    {
     "ename": "TypeError",
     "evalue": "'list_iterator' object cannot be interpreted as an integer",
     "output_type": "error",
     "traceback": [
      "\u001b[0;31m---------------------------------------------------------------------------\u001b[0m",
      "\u001b[0;31mTypeError\u001b[0m                                 Traceback (most recent call last)",
      "Input \u001b[0;32mIn [13]\u001b[0m, in \u001b[0;36m<cell line: 1>\u001b[0;34m()\u001b[0m\n\u001b[0;32m----> 1\u001b[0m \u001b[38;5;28;01mfor\u001b[39;00m i \u001b[38;5;129;01min\u001b[39;00m \u001b[38;5;28;43mrange\u001b[39;49m\u001b[43m(\u001b[49m\u001b[38;5;28;43miter\u001b[39;49m\u001b[43m(\u001b[49m\u001b[43mdistList\u001b[49m\u001b[43m)\u001b[49m\u001b[43m)\u001b[49m:\n\u001b[1;32m      2\u001b[0m     \u001b[38;5;28mprint\u001b[39m(i)\n",
      "\u001b[0;31mTypeError\u001b[0m: 'list_iterator' object cannot be interpreted as an integer"
     ]
    }
   ],
   "source": [
    "for i in range(iter(distList)):\n",
    "    print(i)"
   ]
  },
  {
   "cell_type": "code",
   "execution_count": 20,
   "id": "6d9ac31b-173a-46ef-9ff5-d0098c7c444d",
   "metadata": {},
   "outputs": [
    {
     "name": "stdout",
     "output_type": "stream",
     "text": [
      "[5, 1, 4, 16, 36, 3]\n"
     ]
    }
   ],
   "source": [
    "l = [5,1,2,4,6,3]\n",
    "\n",
    "c = [i * i if i % 2 == 0 else i for i in l]\n",
    "print(c)"
   ]
  },
  {
   "cell_type": "code",
   "execution_count": 21,
   "id": "ebfdffab-6fa2-4dd0-bd2f-fe48716c624b",
   "metadata": {},
   "outputs": [],
   "source": [
    "t = tuple(i for i in range(1,10))"
   ]
  },
  {
   "cell_type": "code",
   "execution_count": 22,
   "id": "194e974e-56cb-4036-9345-0015e2c66ca9",
   "metadata": {},
   "outputs": [
    {
     "data": {
      "text/plain": [
       "(1, 2, 3, 4, 5, 6, 7, 8, 9)"
      ]
     },
     "execution_count": 22,
     "metadata": {},
     "output_type": "execute_result"
    }
   ],
   "source": [
    "t"
   ]
  },
  {
   "cell_type": "code",
   "execution_count": 1,
   "id": "9764fca2-4412-4c57-99cb-f7907a47f747",
   "metadata": {},
   "outputs": [
    {
     "name": "stdout",
     "output_type": "stream",
     "text": [
      "True\n",
      "True\n"
     ]
    }
   ],
   "source": [
    "set1 = {10, 20, 30, 40, 50}\n",
    "set2 = {60, 70, 10, 30, 40, 80, 20, 50}\n",
    "\n",
    "print(set1.issubset(set2))\n",
    "print(set2.issuperset(set1))"
   ]
  },
  {
   "cell_type": "code",
   "execution_count": 2,
   "id": "9cb4a9cb-1e6a-49b5-ae1f-f8acddafa9fd",
   "metadata": {},
   "outputs": [],
   "source": [
    "a ={101,102,103}\n",
    "b=a.copy()\n",
    "b.add(104)"
   ]
  },
  {
   "cell_type": "code",
   "execution_count": 6,
   "id": "47b79ab6-2b8d-4b2c-976f-2d3356e77a8d",
   "metadata": {},
   "outputs": [],
   "source": [
    "a={10,20,30}\n",
    "a.intersection_update({20,30,40,50})"
   ]
  },
  {
   "cell_type": "code",
   "execution_count": 7,
   "id": "341a6b31-66af-45f0-aeaf-49732524360b",
   "metadata": {},
   "outputs": [
    {
     "data": {
      "text/plain": [
       "{20, 30}"
      ]
     },
     "execution_count": 7,
     "metadata": {},
     "output_type": "execute_result"
    }
   ],
   "source": [
    "a"
   ]
  },
  {
   "cell_type": "code",
   "execution_count": 12,
   "id": "3e230e63-6018-4493-9b01-0cf1b323a5ab",
   "metadata": {},
   "outputs": [
    {
     "data": {
      "text/plain": [
       "{10, 20, 30, 40, 50, 60}"
      ]
     },
     "execution_count": 12,
     "metadata": {},
     "output_type": "execute_result"
    }
   ],
   "source": [
    "s = {10, 20, 30}\n",
    "s | {30,40,50,60}"
   ]
  },
  {
   "cell_type": "code",
   "execution_count": 9,
   "id": "f6e805e9-8592-4428-858f-3d16a44dcc3c",
   "metadata": {},
   "outputs": [
    {
     "data": {
      "text/plain": [
       "{10, 20, 30}"
      ]
     },
     "execution_count": 9,
     "metadata": {},
     "output_type": "execute_result"
    }
   ],
   "source": [
    "s"
   ]
  },
  {
   "cell_type": "code",
   "execution_count": 13,
   "id": "57f6f006-8559-4efd-830c-9ea24cfded15",
   "metadata": {},
   "outputs": [
    {
     "data": {
      "text/plain": [
       "set()"
      ]
     },
     "execution_count": 13,
     "metadata": {},
     "output_type": "execute_result"
    }
   ],
   "source": [
    "{'s','c','a','l','e','r'} & set('python')"
   ]
  },
  {
   "cell_type": "code",
   "execution_count": 14,
   "id": "b139be98-4722-48f8-86ed-42a3f3e48c3a",
   "metadata": {},
   "outputs": [
    {
     "data": {
      "text/plain": [
       "{10, 20, 60, 70}"
      ]
     },
     "execution_count": 14,
     "metadata": {},
     "output_type": "execute_result"
    }
   ],
   "source": [
    "({10,20,30,40,50} - {30,40}) ^ ({50,60,70})"
   ]
  },
  {
   "cell_type": "code",
   "execution_count": 15,
   "id": "3022c26f-ca2d-47b6-b7f7-01b7b4079d7e",
   "metadata": {},
   "outputs": [
    {
     "name": "stdout",
     "output_type": "stream",
     "text": [
      "{50, 20, 40, 10, 30}\n",
      "{70, 40, 10, 80, 50, 20, 60, 30}\n",
      "{70, 80, 60}\n"
     ]
    }
   ],
   "source": [
    "print(set1)\n",
    "print(set2)\n",
    "print(set1 ^ set2)"
   ]
  },
  {
   "cell_type": "code",
   "execution_count": 3,
   "id": "3d4be874-3586-4d9a-a738-6bb9dad9ebe0",
   "metadata": {},
   "outputs": [
    {
     "name": "stdout",
     "output_type": "stream",
     "text": [
      "[10, 20, 30, 40, 50]\n"
     ]
    }
   ],
   "source": [
    "arr = [10,[40,[20]],30,50]\n",
    "res_arr = []\n",
    "\n",
    "while arr:\n",
    "    e = arr.pop()\n",
    "    if type(e) is list:\n",
    "        arr.extend(e)\n",
    "    else:\n",
    "        res_arr.append(e)\n",
    "        \n",
    "print(sorted(res_arr))"
   ]
  },
  {
   "cell_type": "code",
   "execution_count": 9,
   "id": "45f4d2ce-fcf5-4a0c-a858-69009be3afe4",
   "metadata": {},
   "outputs": [],
   "source": [
    "def sentinelSearch(ar,target,n):\n",
    "    last = ar[n-1]\n",
    "    ar[n-1] = target\n",
    "    print(ar,last)\n",
    "    i = 0\n",
    "    while ar[i]!=target:\n",
    "        print(ar[i], target)\n",
    "        i+=1\n",
    "    ar[n-1] = last\n",
    "    \n",
    "    if (i<n-1) or target==ar[n-1]:\n",
    "        return i\n",
    "    else:\n",
    "        return -1"
   ]
  },
  {
   "cell_type": "code",
   "execution_count": 10,
   "id": "9ff4d4b0-cc34-4348-b861-2e55aea23343",
   "metadata": {},
   "outputs": [
    {
     "name": "stdout",
     "output_type": "stream",
     "text": [
      "[1, 2, 3, 4, 5] 5\n",
      "1 5\n",
      "2 5\n",
      "3 5\n",
      "4 5\n"
     ]
    },
    {
     "data": {
      "text/plain": [
       "4"
      ]
     },
     "execution_count": 10,
     "metadata": {},
     "output_type": "execute_result"
    }
   ],
   "source": [
    "sentinelSearch([1,2,3,4,5],5,5)"
   ]
  },
  {
   "cell_type": "code",
   "execution_count": 16,
   "id": "90b6f830-58eb-4af3-bc2f-6666bf180324",
   "metadata": {},
   "outputs": [],
   "source": [
    "def bin_search(arr, target):\n",
    "    n = len(arr)\n",
    "    start = 0\n",
    "    end = n - 1\n",
    "    \n",
    "    while start <= end:\n",
    "        mid = (start + end) // 2\n",
    "        \n",
    "        if arr[mid] == target:\n",
    "            return \"Found at : \" + str(mid)\n",
    "        elif target > arr[mid]:\n",
    "            start = mid + 1\n",
    "        else:\n",
    "            end = mid - 1\n",
    "    return \"Not Found\"\n",
    "            "
   ]
  },
  {
   "cell_type": "code",
   "execution_count": 18,
   "id": "dadf88b1-a89f-4ea5-b799-fc94174d27b7",
   "metadata": {},
   "outputs": [
    {
     "data": {
      "text/plain": [
       "'Found at : 2'"
      ]
     },
     "execution_count": 18,
     "metadata": {},
     "output_type": "execute_result"
    }
   ],
   "source": [
    "bin_search([1,3,4,4,6],4)"
   ]
  },
  {
   "cell_type": "code",
   "execution_count": 21,
   "id": "1466d44f-d465-42ca-bec9-2c6d6d438414",
   "metadata": {},
   "outputs": [],
   "source": [
    "def binary_search(arr,key):\n",
    "    n = len(arr)\n",
    "    start = 0\n",
    "    end = n - 1\n",
    "    \n",
    "    while start <= end:\n",
    "        mid = (start + end) // 2\n",
    "        if arr[mid] <= key:\n",
    "            count = mid + 1\n",
    "            start = mid + 1\n",
    "        else:\n",
    "            end = mid - 1\n",
    "    \n",
    "    return count"
   ]
  },
  {
   "cell_type": "code",
   "execution_count": 23,
   "id": "927ce3a0-9c17-48a1-ad8a-2c9a71ae6201",
   "metadata": {},
   "outputs": [
    {
     "data": {
      "text/plain": [
       "4"
      ]
     },
     "execution_count": 23,
     "metadata": {},
     "output_type": "execute_result"
    }
   ],
   "source": [
    "A = [1, 3, 4, 4, 6]\n",
    "B = 4\n",
    "binary_search(A,B)"
   ]
  },
  {
   "cell_type": "code",
   "execution_count": 35,
   "id": "3530313d-79d9-44aa-a9d2-acfc3284f81e",
   "metadata": {},
   "outputs": [],
   "source": [
    "def searchInsert(A,B):\n",
    "    n = len(A)\n",
    "    start = 0\n",
    "    end = n - 1\n",
    "    \n",
    "    while start <= end:\n",
    "        mid = (start + end) // 2\n",
    "        \n",
    "        if A[mid] == B:\n",
    "            return \"Found at : \" + str(mid)\n",
    "        elif B > A[mid]:\n",
    "            start = mid + 1\n",
    "        else:\n",
    "            end = mid - 1\n",
    "            \n",
    "    if B > A[end]:\n",
    "        return end + 1\n",
    "    elif B < A[start]:\n",
    "        return start\n",
    "    \n",
    "    while end > 0 and A[end] > B:\n",
    "        end -= 1\n",
    "        \n",
    "    return end\n",
    "    "
   ]
  },
  {
   "cell_type": "code",
   "execution_count": 39,
   "id": "5fee836c-b8eb-4158-98a2-ae37d229c780",
   "metadata": {},
   "outputs": [
    {
     "data": {
      "text/plain": [
       "6"
      ]
     },
     "execution_count": 39,
     "metadata": {},
     "output_type": "execute_result"
    }
   ],
   "source": [
    "A = [1,3,5,7,10,11,14]\n",
    "B = 12\n",
    "searchInsert(A,B)"
   ]
  },
  {
   "cell_type": "code",
   "execution_count": null,
   "id": "a44e561f-c447-4c55-a270-a9066db18e6b",
   "metadata": {},
   "outputs": [],
   "source": []
  }
 ],
 "metadata": {
  "kernelspec": {
   "display_name": "Python 3 (ipykernel)",
   "language": "python",
   "name": "python3"
  },
  "language_info": {
   "codemirror_mode": {
    "name": "ipython",
    "version": 3
   },
   "file_extension": ".py",
   "mimetype": "text/x-python",
   "name": "python",
   "nbconvert_exporter": "python",
   "pygments_lexer": "ipython3",
   "version": "3.9.12"
  }
 },
 "nbformat": 4,
 "nbformat_minor": 5
}
