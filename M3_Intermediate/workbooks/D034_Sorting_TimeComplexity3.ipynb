{
 "cells": [
  {
   "cell_type": "markdown",
   "id": "26156804-09fb-422b-9d39-ca75901c0c6f",
   "metadata": {},
   "source": [
    "# Lexographical Sorting"
   ]
  },
  {
   "cell_type": "code",
   "execution_count": 23,
   "id": "36277b91-045f-422a-9645-ff056ffbce56",
   "metadata": {},
   "outputs": [
    {
     "data": {
      "text/plain": [
       "['Ram', 'Shyam', 'alpha', 'abcd', 'aaa', 'beta', 'delta']"
      ]
     },
     "execution_count": 23,
     "metadata": {},
     "output_type": "execute_result"
    }
   ],
   "source": [
    "def selectionSort(lis):\n",
    "\n",
    "    #YOUR CODE GOES HERE\n",
    "\n",
    "    for i in range(len(lis) -1, -1, -1):\n",
    "        for j in range(i):\n",
    "            if j < len(lis) - 1:\n",
    "                if ord(lis[j][0]) > ord(lis[j + 1][0]):\n",
    "                    lis[j], lis[j + 1] = lis[j + 1], lis[j]\n",
    "                # wordLen = min(len(lis[j]), len(lis[j + 1]))\n",
    "                # print(wordLen)\n",
    "                # for k in range(wordLen):\n",
    "                #     if ord(lis[j][k]) > ord(lis[j + 1][k]):\n",
    "                #         lis[j], lis[j + 1] = lis[j + 1], lis[j]\n",
    "                #     elif ord(lis[j][k]) == ord(lis[j + 1][k]):\n",
    "                #         continue\n",
    "\n",
    "    return lis\n",
    "\n",
    "lis = ['alpha','abcd','beta','delta','aaa','Ram','Shyam'] \n",
    "selectionSort(lis)\n"
   ]
  },
  {
   "cell_type": "code",
   "execution_count": 31,
   "id": "522ccde5-b7ba-455a-9c5e-848a0749f9c6",
   "metadata": {},
   "outputs": [
    {
     "name": "stdout",
     "output_type": "stream",
     "text": [
      "['aaa', 'beta', 'abcd', 'alpha']\n"
     ]
    }
   ],
   "source": [
    "A = ['abcd','aaa','beta','alpha']\n",
    "\n",
    "for i in range(len(A)-1,-1,-1):\n",
    "    for j in range(i):\n",
    "        #print(i, j, A[i], A[j])\n",
    "        if j < len(A) - 1:\n",
    "            wordLen = min(len(A[j]), len(A[j + 1]))\n",
    "            for k in range(wordLen):\n",
    "                if ord(A[j][k]) > ord(A[j + 1][k]):\n",
    "                    A[j], A[j + 1] = A[j + 1], A[j]\n",
    "                elif ord(A[j][k]) == ord(A[j + 1][k]) and ord(A[j][k + 1]) > ord(A[j + 1][k + 1]):\n",
    "                    A[j], A[j + 1] = A[j + 1], A[j]\n",
    "                    \n",
    "print(A)"
   ]
  },
  {
   "cell_type": "code",
   "execution_count": null,
   "id": "e943e7e6-d8d0-44d2-b17e-ceefb805e335",
   "metadata": {},
   "outputs": [],
   "source": []
  }
 ],
 "metadata": {
  "kernelspec": {
   "display_name": "Python 3 (ipykernel)",
   "language": "python",
   "name": "python3"
  },
  "language_info": {
   "codemirror_mode": {
    "name": "ipython",
    "version": 3
   },
   "file_extension": ".py",
   "mimetype": "text/x-python",
   "name": "python",
   "nbconvert_exporter": "python",
   "pygments_lexer": "ipython3",
   "version": "3.9.12"
  }
 },
 "nbformat": 4,
 "nbformat_minor": 5
}
