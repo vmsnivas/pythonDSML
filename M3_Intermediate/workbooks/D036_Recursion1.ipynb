{
 "cells": [
  {
   "cell_type": "code",
   "execution_count": 14,
   "id": "bd95a128-61fe-411d-9aaf-39f825868f8a",
   "metadata": {},
   "outputs": [
    {
     "name": "stdout",
     "output_type": "stream",
     "text": [
      "1\n",
      "2\n",
      "3\n",
      "4\n",
      "5\n",
      "6\n"
     ]
    }
   ],
   "source": [
    "def printOut(n):\n",
    "    if n == 1:\n",
    "        print(1)\n",
    "        return\n",
    "    printOut(n - 1)\n",
    "    print(n)\n",
    "\n",
    "printOut(6)"
   ]
  },
  {
   "cell_type": "code",
   "execution_count": 2,
   "id": "91b1ba9e-31fd-4b84-8622-6676f940ef17",
   "metadata": {},
   "outputs": [
    {
     "name": "stdout",
     "output_type": "stream",
     "text": [
      "011"
     ]
    }
   ],
   "source": [
    "l = [ ]\n",
    "def convert(b):\n",
    "  if(b==0):\n",
    "    return l\n",
    "  digit=b%2\n",
    "  l.append(digit)\n",
    "  convert(b//2)\n",
    "\n",
    "convert(6)\n",
    "# l.reverse()\n",
    "for i in l:\n",
    "  print(i,end=\"\")"
   ]
  },
  {
   "cell_type": "code",
   "execution_count": 4,
   "id": "8118774d-8da9-4641-a61b-7f557abcf626",
   "metadata": {},
   "outputs": [
    {
     "data": {
      "text/plain": [
       "12"
      ]
     },
     "execution_count": 4,
     "metadata": {},
     "output_type": "execute_result"
    }
   ],
   "source": [
    "def fun(i,j):\n",
    "      if(i==0):\n",
    "         return j\n",
    "      else:\n",
    "         return fun(i-1,j+1)\n",
    "    \n",
    "fun(4,8)"
   ]
  },
  {
   "cell_type": "code",
   "execution_count": 5,
   "id": "c3d7516c-1b14-4e04-af04-e26a0fecd871",
   "metadata": {},
   "outputs": [
    {
     "name": "stdout",
     "output_type": "stream",
     "text": [
      "data\n"
     ]
    }
   ],
   "source": [
    "def func1(n):\n",
    "  if n == 0:\n",
    "    return \"data\"\n",
    "  else:\n",
    "    return func1(n-4)\n",
    "\n",
    "print(func1(16))"
   ]
  },
  {
   "cell_type": "code",
   "execution_count": 6,
   "id": "41edba0b-003d-46bb-974f-fadc8ef1411c",
   "metadata": {},
   "outputs": [
    {
     "name": "stdout",
     "output_type": "stream",
     "text": [
      "14\n"
     ]
    }
   ],
   "source": [
    "def test(i,j):\n",
    "  if(i==0):\n",
    "    return j\n",
    "  else:\n",
    "    return test(i-1,i+j)\n",
    "print(test(3, 8))"
   ]
  },
  {
   "cell_type": "code",
   "execution_count": 7,
   "id": "6878d843-8270-4bd2-9ea5-9e987a801378",
   "metadata": {},
   "outputs": [
    {
     "name": "stdout",
     "output_type": "stream",
     "text": [
      "-1\n"
     ]
    }
   ],
   "source": [
    "def f(n):\n",
    "    if (n < 10):\n",
    "        return n - 5\n",
    "    return f(f(n+1))\n",
    "\n",
    "print(f(4))"
   ]
  },
  {
   "cell_type": "code",
   "execution_count": 22,
   "id": "dd5e4b57-c74b-4753-90a6-8bad01b3ef37",
   "metadata": {},
   "outputs": [
    {
     "data": {
      "text/plain": [
       "64"
      ]
     },
     "execution_count": 22,
     "metadata": {},
     "output_type": "execute_result"
    }
   ],
   "source": [
    "def sum_series(n):\n",
    "    if n <= 1:\n",
    "        return n\n",
    "    else:\n",
    "        return n + sum_series(n-2)\n",
    "\n",
    "sum_series(15)"
   ]
  },
  {
   "cell_type": "code",
   "execution_count": 26,
   "id": "fe4f3ab2-96a3-4a06-9ac4-25abb57fca2b",
   "metadata": {},
   "outputs": [
    {
     "data": {
      "text/plain": [
       "6"
      ]
     },
     "execution_count": 26,
     "metadata": {},
     "output_type": "execute_result"
    }
   ],
   "source": [
    "def sum_digit(n):\n",
    "    Sum = 0\n",
    "    if n == 0:\n",
    "        return 0\n",
    "    else:\n",
    "        return n % 10 + sum_digit(n//10)\n",
    "    \n",
    "sum_digit(123)"
   ]
  },
  {
   "cell_type": "code",
   "execution_count": 28,
   "id": "d1eb693f-c829-45c4-8a87-fa169d6ac2af",
   "metadata": {},
   "outputs": [
    {
     "name": "stdout",
     "output_type": "stream",
     "text": [
      "hi sh is ha "
     ]
    }
   ],
   "source": [
    "def countHi(s, count=0):\n",
    "    sl = [s[i:i+2] for i in range(0, len(s), 2)]\n",
    "    \n",
    "    for i in sl:\n",
    "        print(i, end=' ')\n",
    "        \n",
    "s = 'hishisha'\n",
    "countHi(s)"
   ]
  },
  {
   "cell_type": "code",
   "execution_count": 30,
   "id": "134a4748-198e-4f9d-b31c-1f774d0dd659",
   "metadata": {},
   "outputs": [
    {
     "data": {
      "text/plain": [
       "2"
      ]
     },
     "execution_count": 30,
     "metadata": {},
     "output_type": "execute_result"
    }
   ],
   "source": [
    "s.count('hi')"
   ]
  },
  {
   "cell_type": "code",
   "execution_count": 32,
   "id": "33bd3050-0ba3-4edf-99d8-5a6964857aab",
   "metadata": {},
   "outputs": [
    {
     "name": "stdout",
     "output_type": "stream",
     "text": [
      "swen\n"
     ]
    }
   ],
   "source": [
    "def bp(string, n):\n",
    "    if n>0:\n",
    "        print(string[n], end='')\n",
    "        bp(string, n-1)\n",
    "    elif n==0:\n",
    "        print(string[0])\n",
    "\n",
    "s = 'news'\n",
    "bp(s, len(s)-1)"
   ]
  },
  {
   "cell_type": "code",
   "execution_count": 33,
   "id": "ceac3a6d-adf8-4ad1-99fc-bb3b69304d19",
   "metadata": {},
   "outputs": [
    {
     "name": "stdout",
     "output_type": "stream",
     "text": [
      "*\n",
      "*\n",
      "*\n",
      "*\n",
      "*\n",
      "*\n",
      "*\n",
      "*\n",
      "#\n",
      "#\n",
      "#\n"
     ]
    }
   ],
   "source": [
    "def count_freq(x, y):\n",
    "    if(y!=1):\n",
    "        if(x!=1):\n",
    "            print(\"*\")\n",
    "            count_freq(x/2,y)\n",
    "        else:\n",
    "            print(\"#\")\n",
    "            y=y-1\n",
    "            count_freq(x,y)\n",
    "            \n",
    "count_freq(256, 4)"
   ]
  },
  {
   "cell_type": "code",
   "execution_count": 67,
   "id": "a4df54c8-c7b4-48a3-9990-6b4e4146f525",
   "metadata": {},
   "outputs": [
    {
     "data": {
      "text/plain": [
       "'123'"
      ]
     },
     "execution_count": 67,
     "metadata": {},
     "output_type": "execute_result"
    }
   ],
   "source": [
    "def rev(n, temp=''):\n",
    "    if len(str(n)) == 0:\n",
    "        return str(n)\n",
    "    else:\n",
    "        return rev(str(n)[1:]) + str(n)[0]\n",
    "    \n",
    "rev(321)"
   ]
  },
  {
   "cell_type": "code",
   "execution_count": 71,
   "id": "30f3598a-fcda-4e9c-93d9-54fab1d42de5",
   "metadata": {},
   "outputs": [
    {
     "name": "stdout",
     "output_type": "stream",
     "text": [
      "100\n"
     ]
    }
   ],
   "source": [
    "myDict = {'x': 25, 'y': 25, 'z': 50}\n",
    "Sum = 0\n",
    "for i in myDict:\n",
    "    Sum += myDict[i]\n",
    "    \n",
    "print(Sum)"
   ]
  },
  {
   "cell_type": "code",
   "execution_count": 72,
   "id": "38e0628b-57e3-41fe-83ec-230009c852ae",
   "metadata": {},
   "outputs": [
    {
     "name": "stdout",
     "output_type": "stream",
     "text": [
      "100\n"
     ]
    }
   ],
   "source": [
    "Sum = 0\n",
    "for i in myDict.keys():\n",
    "    Sum += myDict[i]\n",
    "    \n",
    "print(Sum)"
   ]
  },
  {
   "cell_type": "code",
   "execution_count": 73,
   "id": "36ab5f8f-ea99-45fe-b3c1-67471506dd5d",
   "metadata": {},
   "outputs": [
    {
     "name": "stdout",
     "output_type": "stream",
     "text": [
      "100\n"
     ]
    }
   ],
   "source": [
    "Sum = 0\n",
    "for i in myDict.values():\n",
    "    Sum += i\n",
    "    \n",
    "print(Sum)"
   ]
  },
  {
   "cell_type": "code",
   "execution_count": 74,
   "id": "04825477-8e01-49ea-9718-e6e5e050662a",
   "metadata": {},
   "outputs": [
    {
     "data": {
      "text/plain": [
       "dict_keys"
      ]
     },
     "execution_count": 74,
     "metadata": {},
     "output_type": "execute_result"
    }
   ],
   "source": [
    "type(myDict.keys())"
   ]
  },
  {
   "cell_type": "code",
   "execution_count": 75,
   "id": "aa38f05e-3caf-4f77-98d6-1752bc4f7143",
   "metadata": {},
   "outputs": [
    {
     "name": "stdout",
     "output_type": "stream",
     "text": [
      "dict_keys(['x', 'y', 'z'])\n"
     ]
    }
   ],
   "source": [
    "print(myDict.keys())"
   ]
  },
  {
   "cell_type": "code",
   "execution_count": null,
   "id": "cf22caad-7991-4816-9029-fc499f1d46a2",
   "metadata": {},
   "outputs": [],
   "source": []
  }
 ],
 "metadata": {
  "kernelspec": {
   "display_name": "Python 3 (ipykernel)",
   "language": "python",
   "name": "python3"
  },
  "language_info": {
   "codemirror_mode": {
    "name": "ipython",
    "version": 3
   },
   "file_extension": ".py",
   "mimetype": "text/x-python",
   "name": "python",
   "nbconvert_exporter": "python",
   "pygments_lexer": "ipython3",
   "version": "3.9.12"
  }
 },
 "nbformat": 4,
 "nbformat_minor": 5
}
