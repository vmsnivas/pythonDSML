{
 "cells": [
  {
   "cell_type": "code",
   "execution_count": null,
   "id": "be1a6283-0c6a-442e-b5b2-0f4b6f571f8b",
   "metadata": {},
   "outputs": [],
   "source": [
    "def unknown(string):\n",
    "    a = set(string)\n",
    "    a=\"\".join(a)\n",
    "    print(a)\n",
    "    \n",
    "unknown('baala')"
   ]
  },
  {
   "cell_type": "code",
   "execution_count": null,
   "id": "549cb364-53c9-44a7-981d-f0626cb7c774",
   "metadata": {},
   "outputs": [],
   "source": [
    "word = 'mallik'\n",
    "\n",
    "print(set(word))\n",
    "print(tuple(word))"
   ]
  },
  {
   "cell_type": "code",
   "execution_count": null,
   "id": "0bdf8aec-d870-402f-a09e-d32ca8fd6cfa",
   "metadata": {},
   "outputs": [],
   "source": [
    "sampleDict = { \"class\":{ \"student\":{ \"name\":\"Mike\", \"marks\":{ \"physics\":70, \"history\":80 } } } }\n",
    "sampleDict['class']['student']['marks']['history']"
   ]
  },
  {
   "cell_type": "code",
   "execution_count": null,
   "id": "777497e6-fd5b-42c2-a6ea-d0a9735ffa9c",
   "metadata": {},
   "outputs": [],
   "source": [
    "a = {\"Roman\": 35, \"Tez\": 40}\n",
    "#print(a[0])\n",
    "#print(a[Roman])\n",
    "print(a['Roman'])\n",
    "print(a.get('Roman'))"
   ]
  },
  {
   "cell_type": "code",
   "execution_count": null,
   "id": "290627eb-21cc-4fae-a25a-fd86bee1c8ff",
   "metadata": {},
   "outputs": [],
   "source": [
    "abc = {'tiger': 'animal', 'duck': 'bird', 'lizard': 'reptile'}"
   ]
  },
  {
   "cell_type": "code",
   "execution_count": null,
   "id": "5cc095d0-892f-4ea8-a74d-77335e526372",
   "metadata": {},
   "outputs": [],
   "source": [
    "del abc['tiger']"
   ]
  },
  {
   "cell_type": "code",
   "execution_count": null,
   "id": "5a6de9b9-1f46-4be4-8186-43e58f6dd4e8",
   "metadata": {},
   "outputs": [],
   "source": [
    "abc"
   ]
  },
  {
   "cell_type": "code",
   "execution_count": null,
   "id": "e44496ce-5192-4abc-a00c-ae274e4f0a60",
   "metadata": {},
   "outputs": [],
   "source": [
    "l = [1,2,3,4,5]"
   ]
  },
  {
   "cell_type": "code",
   "execution_count": null,
   "id": "fb0df3d9-655d-4a3c-858e-e705d6893ae4",
   "metadata": {},
   "outputs": [],
   "source": [
    "new_list = [ele for ele in reversed(l)]"
   ]
  },
  {
   "cell_type": "code",
   "execution_count": null,
   "id": "52d896be-8f87-4b55-8804-f53ab10a530c",
   "metadata": {},
   "outputs": [],
   "source": [
    "print(l, new_list)"
   ]
  },
  {
   "cell_type": "code",
   "execution_count": null,
   "id": "f9adbe4e-b70b-4832-937e-d744de4e9323",
   "metadata": {},
   "outputs": [],
   "source": [
    "d1 = {1: 50, 2: 50}\n",
    "d2 = {3: 500, 4: 50}\n",
    "\n",
    "#print(d1 > d2)\n",
    "print(d1 is d2)\n",
    "print(d1 == d2)"
   ]
  },
  {
   "cell_type": "code",
   "execution_count": null,
   "id": "c1f9af75-afb5-4494-89b3-9f394c7acc8c",
   "metadata": {},
   "outputs": [],
   "source": [
    "os = {'ios': 35, 'android': 30}\n",
    "print(os.keys())\n",
    "print(os.values())\n",
    "print(os)\n",
    "#print(os[0])\n",
    "#print(os.remove('android'))\n",
    "print(os)"
   ]
  },
  {
   "cell_type": "code",
   "execution_count": null,
   "id": "8865c088-5f1f-4e62-94c8-ef8e09b231cd",
   "metadata": {},
   "outputs": [],
   "source": [
    "real_madrid = {\n",
    "    'name': 'Benzema',\n",
    "    'age': 35,\n",
    "    'salary': 8000000,\n",
    "    'position': 'striker'\n",
    "}\n",
    "\n",
    "keys = ['name', 'salary']\n",
    "sample_dict = { k:real_madrid[k] for k in real_madrid.keys() if k not in keys }\n",
    "\n",
    "print(sample_dict)"
   ]
  },
  {
   "cell_type": "code",
   "execution_count": null,
   "id": "c2852dd4-b33a-4df2-aaca-6dbeb3c014fe",
   "metadata": {},
   "outputs": [],
   "source": [
    "l = [1,2,2,2,3,4,5]\n",
    "s = set(l)\n",
    "print(l,s)"
   ]
  },
  {
   "cell_type": "code",
   "execution_count": null,
   "id": "73184629-aa08-45d9-a853-de84a2c2fd30",
   "metadata": {},
   "outputs": [],
   "source": [
    "s1 = set([1,2,3],l)"
   ]
  },
  {
   "cell_type": "code",
   "execution_count": null,
   "id": "67e3be35-0e6b-4443-a6ea-9d9725204d92",
   "metadata": {},
   "outputs": [],
   "source": [
    "matrix=[[i+1 for i in range(0,4)]for j in range(0,5)]\n",
    "print(matrix)"
   ]
  },
  {
   "cell_type": "code",
   "execution_count": null,
   "id": "4902afd7-f2f0-487b-bcbf-2e20541e767e",
   "metadata": {},
   "outputs": [],
   "source": [
    "def check_vowels(str):\n",
    "    vowels_list=[i for i in str if i in ['a','e','i','o','u']]\n",
    "    '''Input: str takes the string as input\n",
    "       Output: Store the vowels in vowels_list and return it.'''\n",
    "    # YOUR CODE GOES HERE\n",
    "    \n",
    "    \n",
    "    \n",
    "    return vowels_list\n",
    "\n",
    "check_vowels('The quick brown fox')"
   ]
  },
  {
   "cell_type": "code",
   "execution_count": null,
   "id": "d69c8fce-23ab-4b1a-a43b-eb40ed48c412",
   "metadata": {},
   "outputs": [],
   "source": [
    "l"
   ]
  },
  {
   "cell_type": "code",
   "execution_count": 1,
   "id": "9d70a785-d336-4bb4-9b42-cefdc3da40cd",
   "metadata": {},
   "outputs": [
    {
     "ename": "TypeError",
     "evalue": "'>' not supported between instances of 'int' and 'list'",
     "output_type": "error",
     "traceback": [
      "\u001b[0;31m---------------------------------------------------------------------------\u001b[0m",
      "\u001b[0;31mTypeError\u001b[0m                                 Traceback (most recent call last)",
      "Input \u001b[0;32mIn [1]\u001b[0m, in \u001b[0;36m<cell line: 5>\u001b[0;34m()\u001b[0m\n\u001b[1;32m      6\u001b[0m uniqueLst \u001b[38;5;241m=\u001b[39m \u001b[38;5;28mset\u001b[39m(dictionary[key])\n\u001b[1;32m      7\u001b[0m length \u001b[38;5;241m=\u001b[39m \u001b[38;5;28mlen\u001b[39m(\u001b[38;5;28mset\u001b[39m(dictionary[key]))\n\u001b[0;32m----> 8\u001b[0m \u001b[38;5;28;01mif\u001b[39;00m \u001b[38;5;28;43mlen\u001b[39;49m\u001b[43m(\u001b[49m\u001b[43muniqueLst\u001b[49m\u001b[43m)\u001b[49m\u001b[43m \u001b[49m\u001b[38;5;241;43m>\u001b[39;49m\u001b[43m \u001b[49m\u001b[43mmax_val\u001b[49m:\n\u001b[1;32m      9\u001b[0m     max_key \u001b[38;5;241m=\u001b[39m key\n\u001b[1;32m     10\u001b[0m     max_val \u001b[38;5;241m=\u001b[39m dictionary[key]\n",
      "\u001b[0;31mTypeError\u001b[0m: '>' not supported between instances of 'int' and 'list'"
     ]
    }
   ],
   "source": [
    "dictionary = {'best': ['9', '9', '6', '5', '5'], 'scaler': ['5', '7', '5', '4', '5'], 'is': ['6', '7', '4', '3', '3']}\n",
    "max_val = 0\n",
    "max_key = None\n",
    "\n",
    "for key in dictionary.keys():\n",
    "    uniqueLst = set(dictionary[key])\n",
    "    length = len(set(dictionary[key]))\n",
    "    if len(uniqueLst) > max_val:\n",
    "        max_key = key\n",
    "        max_val = dictionary[key]\n",
    "        \n",
    "print(max_key)"
   ]
  },
  {
   "cell_type": "code",
   "execution_count": null,
   "id": "584b19f1-cd21-4fc5-bad4-d4e30aac073d",
   "metadata": {},
   "outputs": [],
   "source": [
    "type(max_val)"
   ]
  },
  {
   "cell_type": "code",
   "execution_count": 4,
   "id": "9765880e-4dea-4ef5-bb84-c1703c48d119",
   "metadata": {},
   "outputs": [
    {
     "name": "stdout",
     "output_type": "stream",
     "text": [
      "3\n",
      "6\n",
      "9\n",
      "12\n",
      "15\n",
      "18\n",
      "21\n",
      "24\n"
     ]
    }
   ],
   "source": [
    "count = 2\n",
    "j = 0\n",
    "\n",
    "for i in range(1,16,count):\n",
    "    print(i + count + j)\n",
    "    j += 1"
   ]
  },
  {
   "cell_type": "code",
   "execution_count": 13,
   "id": "cf6749c8-7e4e-4063-8954-f621527c8daa",
   "metadata": {},
   "outputs": [
    {
     "name": "stdout",
     "output_type": "stream",
     "text": [
      "{'Arun': [25, 3, 7.0], 'Nihal': [50, 5, 12.0], 'Sanjay': [10, 4, 3.0]}\n",
      "Nihal\n"
     ]
    }
   ],
   "source": [
    "names = ['Arun', 'Nihal', 'Sanjay']\n",
    "runs = [25, 50, 10]\n",
    "wickets = [3, 5, 4]\n",
    "bowls = [7.0, 12.0, 3.0]\n",
    "\n",
    "data = {}\n",
    "\n",
    "for i in range(len(names)):\n",
    "    strikeRate = round(runs[i] / bowls[i], 1)\n",
    "    data[names[i]] = [runs[i],wickets[i],bowls[i]]\n",
    "    if strikeRate > 4 and wickets[i] > 2:\n",
    "        manOfMatch = names[i]\n",
    "    elif strikeRate < 4 and strikeRate > 2 and wickets[i] > 4:\n",
    "        manOfMatch = names[i]\n",
    "        \n",
    "print(data)\n",
    "print(manOfMatch)"
   ]
  },
  {
   "cell_type": "code",
   "execution_count": 2,
   "id": "8a1abe7e-1b34-492c-b369-df6bc0401781",
   "metadata": {},
   "outputs": [
    {
     "data": {
      "text/plain": [
       "4.166666666666667"
      ]
     },
     "execution_count": 2,
     "metadata": {},
     "output_type": "execute_result"
    }
   ],
   "source": [
    "50/12"
   ]
  },
  {
   "cell_type": "code",
   "execution_count": 18,
   "id": "439c772a-5e84-4872-904f-b8a123b6a9ab",
   "metadata": {},
   "outputs": [
    {
     "name": "stdout",
     "output_type": "stream",
     "text": [
      "['a', 'i', 'k', 'l', 'l', 'm']\n"
     ]
    }
   ],
   "source": [
    "m = sorted([i for i in 'mallik'])\n",
    "print(m)"
   ]
  },
  {
   "cell_type": "code",
   "execution_count": 19,
   "id": "d5c13d95-220d-4e16-a111-ae806f837888",
   "metadata": {},
   "outputs": [
    {
     "data": {
      "text/plain": [
       "'allikm'"
      ]
     },
     "execution_count": 19,
     "metadata": {},
     "output_type": "execute_result"
    }
   ],
   "source": [
    "m = 'mallik'\n",
    "m[1:] + m[0]"
   ]
  },
  {
   "cell_type": "code",
   "execution_count": 35,
   "id": "314e23a8-b74c-4602-9526-ce5c2259055f",
   "metadata": {},
   "outputs": [
    {
     "name": "stdout",
     "output_type": "stream",
     "text": [
      "[]\n"
     ]
    }
   ],
   "source": [
    "arr = [[1, 2, 3], [2], [3, [4, 5]]]\n",
    "res_arr = []\n",
    "\n",
    "# def flatten(arr):\n",
    "#     for i in arr:\n",
    "#         if type(i) is list:\n",
    "#             res_arr.extend(i)\n",
    "#         else:\n",
    "#             res_arr.append(i)\n",
    "\n",
    "\n",
    "# for i in res_arr:\n",
    "#     if type(i) is list:\n",
    "#         flatten(arr)\n",
    "#         # arr = res_arr\n",
    "#         # res_arr = []\n",
    "\n",
    "# print(arr, res_arr)\n",
    "\n",
    "# testList = [[1, 2, 3], [2], [3, [4, 5]]]\n",
    "# flatList = [val if isinstance(sublist, int) == False else val for sublist in testList for val in sublist]\n",
    "        \n",
    "# print(flatList)\n",
    "\n",
    "def flatten(arr):\n",
    "    if type(i) is list:\n",
    "        for i in arr:\n",
    "            flatten(i)\n",
    "    else:\n",
    "        res_arr.append(i)\n",
    "            \n",
    "print(res_arr)"
   ]
  },
  {
   "cell_type": "code",
   "execution_count": 22,
   "id": "7dd3775d-e3cf-4e53-a002-36e76d52b898",
   "metadata": {},
   "outputs": [
    {
     "ename": "TypeError",
     "evalue": "object of type 'int' has no len()",
     "output_type": "error",
     "traceback": [
      "\u001b[0;31m---------------------------------------------------------------------------\u001b[0m",
      "\u001b[0;31mTypeError\u001b[0m                                 Traceback (most recent call last)",
      "Input \u001b[0;32mIn [22]\u001b[0m, in \u001b[0;36m<cell line: 1>\u001b[0;34m()\u001b[0m\n\u001b[0;32m----> 1\u001b[0m \u001b[38;5;28;43mlen\u001b[39;49m\u001b[43m(\u001b[49m\u001b[38;5;241;43m1\u001b[39;49m\u001b[43m)\u001b[49m\n",
      "\u001b[0;31mTypeError\u001b[0m: object of type 'int' has no len()"
     ]
    }
   ],
   "source": [
    "len(1)"
   ]
  },
  {
   "cell_type": "code",
   "execution_count": 40,
   "id": "6b10c80b-ca7b-45d4-8c90-d2800452843f",
   "metadata": {},
   "outputs": [
    {
     "data": {
      "text/plain": [
       "2"
      ]
     },
     "execution_count": 40,
     "metadata": {},
     "output_type": "execute_result"
    }
   ],
   "source": [
    "l1 = [1,2,3,4]\n",
    "l2 = [3,4]\n",
    "\n",
    "len(set(l1).intersection(set(l2)))"
   ]
  },
  {
   "cell_type": "code",
   "execution_count": 43,
   "id": "1c1fb45f-a550-4b66-a6aa-ede01e143af7",
   "metadata": {},
   "outputs": [
    {
     "data": {
      "text/plain": [
       "[1, 2, 3, 4]"
      ]
     },
     "execution_count": 43,
     "metadata": {},
     "output_type": "execute_result"
    }
   ],
   "source": [
    "sorted(set(l1))"
   ]
  },
  {
   "cell_type": "code",
   "execution_count": null,
   "id": "3f1b49b2-374f-429d-bd31-6784e4a621c2",
   "metadata": {},
   "outputs": [],
   "source": []
  }
 ],
 "metadata": {
  "kernelspec": {
   "display_name": "Python 3 (ipykernel)",
   "language": "python",
   "name": "python3"
  },
  "language_info": {
   "codemirror_mode": {
    "name": "ipython",
    "version": 3
   },
   "file_extension": ".py",
   "mimetype": "text/x-python",
   "name": "python",
   "nbconvert_exporter": "python",
   "pygments_lexer": "ipython3",
   "version": "3.9.12"
  }
 },
 "nbformat": 4,
 "nbformat_minor": 5
}
