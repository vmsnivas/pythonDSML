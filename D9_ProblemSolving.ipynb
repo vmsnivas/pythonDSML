{
 "cells": [
  {
   "cell_type": "markdown",
   "id": "bf1071b8-72ad-4427-a03a-15a470c73f4f",
   "metadata": {},
   "source": [
    "# Factorial"
   ]
  },
  {
   "cell_type": "code",
   "execution_count": 3,
   "id": "f148dfd1-dc2e-47e2-badb-5d0153b0d4fa",
   "metadata": {},
   "outputs": [
    {
     "name": "stdin",
     "output_type": "stream",
     "text": [
      " 0\n"
     ]
    },
    {
     "name": "stdout",
     "output_type": "stream",
     "text": [
      "1\n"
     ]
    }
   ],
   "source": [
    "n = int(input())\n",
    "fact = 1\n",
    "i = 1\n",
    "\n",
    "while i <= n:\n",
    "    fact *= i\n",
    "    i += 1\n",
    "print(fact)"
   ]
  },
  {
   "cell_type": "markdown",
   "id": "4da52d4d-95fd-4d3f-8492-4fc6b5036fee",
   "metadata": {},
   "source": [
    "# Factors of a number"
   ]
  },
  {
   "cell_type": "code",
   "execution_count": 7,
   "id": "1f67c62d-5325-4892-911a-4c10204006d5",
   "metadata": {},
   "outputs": [
    {
     "name": "stdin",
     "output_type": "stream",
     "text": [
      " 9\n"
     ]
    },
    {
     "name": "stdout",
     "output_type": "stream",
     "text": [
      "1 3 9 "
     ]
    }
   ],
   "source": [
    "n = int(input())\n",
    "i = 1\n",
    "\n",
    "while i <= n:\n",
    "    if n % i == 0:\n",
    "        print(i, end=\" \")\n",
    "    i += 1"
   ]
  },
  {
   "cell_type": "markdown",
   "id": "38523107-702c-4a0d-8904-e8a33b923fa7",
   "metadata": {},
   "source": [
    "# Counting number of digits in a number"
   ]
  },
  {
   "cell_type": "code",
   "execution_count": 14,
   "id": "56971586-0fb1-4437-903a-7cbb19d87a38",
   "metadata": {},
   "outputs": [
    {
     "name": "stdin",
     "output_type": "stream",
     "text": [
      " 1\n",
      " 0\n"
     ]
    },
    {
     "name": "stdout",
     "output_type": "stream",
     "text": [
      "1\n"
     ]
    }
   ],
   "source": [
    "# T = int(input())\n",
    "\n",
    "# while T > 0:\n",
    "#     N = int(input())\n",
    "#     print(len([int(num) for num in str(N)]))\n",
    "#     T -= 1\n",
    "\n",
    "T = int(input())\n",
    "i = 0\n",
    "\n",
    "while i < T:\n",
    "    N = int(input())\n",
    "    if N == 0:\n",
    "        count = 1\n",
    "    count = 1\n",
    "    while N > 0:\n",
    "        N //= 10\n",
    "        count += 1\n",
    "    print(count)\n",
    "    i += 1\n",
    "    "
   ]
  },
  {
   "cell_type": "code",
   "execution_count": null,
   "id": "98646ceb-57e9-4e68-8e96-bd5c12926c48",
   "metadata": {},
   "outputs": [],
   "source": []
  }
 ],
 "metadata": {
  "kernelspec": {
   "display_name": "Python 3 (ipykernel)",
   "language": "python",
   "name": "python3"
  },
  "language_info": {
   "codemirror_mode": {
    "name": "ipython",
    "version": 3
   },
   "file_extension": ".py",
   "mimetype": "text/x-python",
   "name": "python",
   "nbconvert_exporter": "python",
   "pygments_lexer": "ipython3",
   "version": "3.9.12"
  }
 },
 "nbformat": 4,
 "nbformat_minor": 5
}
