{
 "cells": [
  {
   "cell_type": "markdown",
   "id": "73d677a2-a858-415c-a5e4-3449eab02e79",
   "metadata": {},
   "source": [
    "# Reverse Number"
   ]
  },
  {
   "cell_type": "code",
   "execution_count": 19,
   "id": "600abfd8-6995-425f-95a5-d49dcba23129",
   "metadata": {},
   "outputs": [
    {
     "name": "stdin",
     "output_type": "stream",
     "text": [
      " 123\n"
     ]
    },
    {
     "name": "stdout",
     "output_type": "stream",
     "text": [
      "321\n"
     ]
    }
   ],
   "source": [
    "# numList = [num for num in str(123)]\n",
    "# numList.reverse()\n",
    "# print(int(''.join(numList)))\n",
    "\n",
    "n = int(input())\n",
    "\n",
    "myStr = ''\n",
    "\n",
    "for i in str(n):\n",
    "    myStr = i + myStr\n",
    "    \n",
    "print(int(myStr))"
   ]
  },
  {
   "cell_type": "code",
   "execution_count": 24,
   "id": "1ffb0eaa-d948-41d7-aa6f-c3a64e6486e8",
   "metadata": {},
   "outputs": [
    {
     "name": "stdin",
     "output_type": "stream",
     "text": [
      " 1\n",
      " 100\n"
     ]
    },
    {
     "name": "stdout",
     "output_type": "stream",
     "text": [
      "1\n"
     ]
    }
   ],
   "source": [
    "def main():\n",
    "    T = int(input())\n",
    "    \n",
    "    for i in range(T):\n",
    "        N = int(input())\n",
    "        myStr = ''\n",
    "        \n",
    "        for j in str(N):\n",
    "            myStr = j + myStr\n",
    "        \n",
    "        print(int(myStr))\n",
    "\n",
    "if __name__ == '__main__':\n",
    "    main()"
   ]
  },
  {
   "cell_type": "markdown",
   "id": "ec96e580-69ec-488c-be33-a696a9e43772",
   "metadata": {
    "tags": []
   },
   "source": [
    "# Palindromic Integer\n",
    "    If a number is equal to the reverse of the same then it is called as a palindrome number.\n",
    "    Ex: \n",
    "    121 == 121\n",
    "    12321 == 12321"
   ]
  },
  {
   "cell_type": "code",
   "execution_count": 4,
   "id": "122a2ae2-7145-41aa-870b-900733004f5a",
   "metadata": {},
   "outputs": [
    {
     "name": "stdin",
     "output_type": "stream",
     "text": [
      " 12121\n"
     ]
    },
    {
     "name": "stdout",
     "output_type": "stream",
     "text": [
      "Yes\n"
     ]
    }
   ],
   "source": [
    "def main():\n",
    "    A = int(input())\n",
    "    myStr = ''\n",
    "    \n",
    "    for i in str(A):\n",
    "        myStr = i + myStr\n",
    "        \n",
    "    if A == int(myStr):\n",
    "        print('Yes')\n",
    "    else:\n",
    "        print('No')\n",
    "\n",
    "if __name__ == '__main__':\n",
    "    main()"
   ]
  },
  {
   "cell_type": "markdown",
   "id": "bed55d89-81ed-41f2-8408-6237330cde7e",
   "metadata": {},
   "source": [
    "# Highest Common Factor (HCF) using Loop"
   ]
  },
  {
   "cell_type": "code",
   "execution_count": 17,
   "id": "fb432544-6aae-494c-b319-e468f5996e6d",
   "metadata": {},
   "outputs": [
    {
     "name": "stdin",
     "output_type": "stream",
     "text": [
      " 1\n",
      " 15\n",
      " 105\n"
     ]
    },
    {
     "name": "stdout",
     "output_type": "stream",
     "text": [
      "15\n"
     ]
    }
   ],
   "source": [
    "def main():\n",
    "    T = int(input())\n",
    "    \n",
    "    for i in range(T):\n",
    "        A = int(input())\n",
    "        B = int(input())\n",
    "        \n",
    "        # if A < B:\n",
    "        #     smaller = A\n",
    "        # else:\n",
    "        #     smaller = B\n",
    "        \n",
    "        smaller = min(A,B)\n",
    "            \n",
    "        for i in range(1, smaller+1):\n",
    "            if (A % i == 0) and (B % i == 0):\n",
    "                HCF = i\n",
    "                \n",
    "        print(HCF)\n",
    "\n",
    "if __name__ == '__main__':\n",
    "    main()"
   ]
  },
  {
   "cell_type": "markdown",
   "id": "674ce232-097c-479a-8b7f-9a809415cac8",
   "metadata": {},
   "source": [
    "# Least Common Multiple (LCM)\n",
    "\n",
    "    The product of GCD(A,B) and LCM(A,B) is equal to the product of A and B.\n",
    "    --> GCD(A,B) * LCM(A,B) = A * B\n",
    "    LCM(A,B) = (A * B)/GCD(A,B)"
   ]
  },
  {
   "cell_type": "code",
   "execution_count": 28,
   "id": "2fc3056c-d9a5-48f0-9ec3-395dea06a11f",
   "metadata": {},
   "outputs": [
    {
     "name": "stdin",
     "output_type": "stream",
     "text": [
      " 3\n",
      " 2\n",
      " 3\n"
     ]
    },
    {
     "name": "stdout",
     "output_type": "stream",
     "text": [
      "6\n"
     ]
    },
    {
     "name": "stdin",
     "output_type": "stream",
     "text": [
      " 9\n",
      " 6\n"
     ]
    },
    {
     "name": "stdout",
     "output_type": "stream",
     "text": [
      "18\n"
     ]
    },
    {
     "name": "stdin",
     "output_type": "stream",
     "text": [
      " 2\n",
      " 6\n"
     ]
    },
    {
     "name": "stdout",
     "output_type": "stream",
     "text": [
      "6\n"
     ]
    }
   ],
   "source": [
    "def main():\n",
    "    T = int(input())\n",
    "    \n",
    "    for i in range(T):\n",
    "        A = int(input())\n",
    "        B = int(input())\n",
    "        highest = max(A,B)\n",
    "        \n",
    "        for j in range(1,highest+1):\n",
    "            if (A % j == 0) and (B % j == 0):\n",
    "                GCD = j\n",
    "                \n",
    "        LCM = int((A * B)/GCD)\n",
    "        print(LCM)\n",
    "\n",
    "if __name__ == '__main__':\n",
    "    main()"
   ]
  },
  {
   "cell_type": "code",
   "execution_count": 30,
   "id": "b6a25e6e-2a6d-48f6-b7fc-ba50bdae2af8",
   "metadata": {},
   "outputs": [
    {
     "name": "stdout",
     "output_type": "stream",
     "text": [
      "LCM =  12\n"
     ]
    }
   ],
   "source": [
    "def lcm(a, b):\n",
    "    if a > b:\n",
    "        greater = a\n",
    "    else:\n",
    "        greater = b\n",
    "    while(True):\n",
    "        if((greater % a == 0) and (greater % b == 0)):\n",
    "            lcm = greater\n",
    "            break\n",
    "        greater += 1\n",
    "    return lcm\n",
    "\n",
    "\n",
    "if __name__ == '__main__':\n",
    "    print(\"LCM = \", lcm(4, 6))"
   ]
  },
  {
   "cell_type": "markdown",
   "id": "13e36474-5219-4fec-ae69-f5e86740a807",
   "metadata": {},
   "source": [
    "# Inverted Numeric Pyramid"
   ]
  },
  {
   "cell_type": "code",
   "execution_count": 42,
   "id": "4db00167-a06f-49f2-a75c-1cf52158fd08",
   "metadata": {},
   "outputs": [
    {
     "name": "stdin",
     "output_type": "stream",
     "text": [
      " 4\n"
     ]
    },
    {
     "name": "stdout",
     "output_type": "stream",
     "text": [
      "1 2 3 4\n",
      "1 2 3\n",
      "1 2\n",
      "1"
     ]
    }
   ],
   "source": [
    "def main():\n",
    "    N = int(input())\n",
    "    \n",
    "    for i in range(N,0,-1):\n",
    "        for j in range(1,i+1):\n",
    "            if j < i:\n",
    "                print(j, end=\" \")\n",
    "            else:\n",
    "                print(j, end=\"\")\n",
    "        if i > 1:\n",
    "            print(end=\"\\n\")\n",
    "\n",
    "if __name__ == '__main__':\n",
    "    main()"
   ]
  },
  {
   "cell_type": "markdown",
   "id": "369aa917-8f1a-4491-b88e-ffaba2f3e5ef",
   "metadata": {},
   "source": [
    "# Stair Pattern"
   ]
  },
  {
   "cell_type": "code",
   "execution_count": 44,
   "id": "ba802628-a883-4e69-a8b0-deeb4e33b6d7",
   "metadata": {},
   "outputs": [
    {
     "name": "stdin",
     "output_type": "stream",
     "text": [
      " 4\n"
     ]
    },
    {
     "name": "stdout",
     "output_type": "stream",
     "text": [
      "*\n",
      "**\n",
      "***\n",
      "****\n"
     ]
    }
   ],
   "source": [
    "def main():\n",
    "    N = int(input())\n",
    "    \n",
    "    for i in range(1,N+1):\n",
    "        print('*'*i)\n",
    "\n",
    "if __name__ == '__main__':\n",
    "    main()"
   ]
  },
  {
   "cell_type": "markdown",
   "id": "d4a6c41f-d2ce-492f-b4bc-ea3e6801b303",
   "metadata": {},
   "source": [
    "# Numeric Stair Pattern"
   ]
  },
  {
   "cell_type": "code",
   "execution_count": 49,
   "id": "5491846b-76bb-4959-bc15-9a89d0ad5672",
   "metadata": {},
   "outputs": [
    {
     "name": "stdin",
     "output_type": "stream",
     "text": [
      " 4\n"
     ]
    },
    {
     "name": "stdout",
     "output_type": "stream",
     "text": [
      "1\n",
      "1 2\n",
      "1 2 3\n",
      "1 2 3 4\n"
     ]
    }
   ],
   "source": [
    "def main():\n",
    "    N = int(input())\n",
    "    \n",
    "    for i in range(1,N+1):\n",
    "        for j in range(1,i+1):\n",
    "            if j < i:\n",
    "                print(j,end=\" \")\n",
    "            else:\n",
    "                print(j,end=\"\")\n",
    "        print()\n",
    "\n",
    "if __name__ == '__main__':\n",
    "    main()"
   ]
  },
  {
   "cell_type": "markdown",
   "id": "acc47e81-7400-4e9d-83bf-499a1aed7eb0",
   "metadata": {},
   "source": [
    "# Two Line Star Pattern"
   ]
  },
  {
   "cell_type": "code",
   "execution_count": 54,
   "id": "e9baeecd-13af-4e24-8db5-40bbbd8cd731",
   "metadata": {},
   "outputs": [
    {
     "name": "stdin",
     "output_type": "stream",
     "text": [
      " 10\n"
     ]
    },
    {
     "name": "stdout",
     "output_type": "stream",
     "text": [
      "*        *\n",
      "*        *\n",
      "*        *\n",
      "*        *\n",
      "*        *\n",
      "*        *\n",
      "*        *\n",
      "*        *\n",
      "*        *\n",
      "*        *\n"
     ]
    }
   ],
   "source": [
    "def main():\n",
    "    N = int(input())\n",
    "    \n",
    "    for i in range(1,N+1):\n",
    "        print('*' + ' ' * (N - 2) + '*')\n",
    "\n",
    "if __name__ == '__main__':\n",
    "    main()"
   ]
  },
  {
   "cell_type": "code",
   "execution_count": null,
   "id": "21c7e00e-5431-4389-b45c-0544c1fa2ea9",
   "metadata": {},
   "outputs": [],
   "source": []
  }
 ],
 "metadata": {
  "kernelspec": {
   "display_name": "Python 3 (ipykernel)",
   "language": "python",
   "name": "python3"
  },
  "language_info": {
   "codemirror_mode": {
    "name": "ipython",
    "version": 3
   },
   "file_extension": ".py",
   "mimetype": "text/x-python",
   "name": "python",
   "nbconvert_exporter": "python",
   "pygments_lexer": "ipython3",
   "version": "3.9.12"
  }
 },
 "nbformat": 4,
 "nbformat_minor": 5
}
