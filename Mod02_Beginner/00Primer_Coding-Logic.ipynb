{
 "cells": [
  {
   "cell_type": "markdown",
   "id": "cf239e87-1018-4bca-9451-0252a30ad197",
   "metadata": {},
   "source": [
    "# Recursion"
   ]
  },
  {
   "cell_type": "code",
   "execution_count": null,
   "id": "2f8dfb04-563f-45a3-bfd9-9b1152d6a852",
   "metadata": {},
   "outputs": [],
   "source": [
    "def fact(n):\n",
    "    if n == 0:\n",
    "        return 1\n",
    "    else:\n",
    "        return n * fact(n - 1)\n",
    "fact(7)"
   ]
  },
  {
   "cell_type": "code",
   "execution_count": null,
   "id": "3c344ad0-64a6-417e-8c27-a17ac598634b",
   "metadata": {},
   "outputs": [],
   "source": [
    "def bar(x,y):\n",
    "    if y == 0:\n",
    "        return 0\n",
    "    return (x + bar(x,y - 1))\n",
    "\n",
    "def foo(x,y):\n",
    "    if y == 0:\n",
    "        return 1\n",
    "    return bar(x,foo(x,y - 1))\n",
    "\n",
    "print(foo(3,5))"
   ]
  },
  {
   "cell_type": "markdown",
   "id": "21062249-90f0-4246-8ae8-892bd18fb9f6",
   "metadata": {},
   "source": [
    "# Strings"
   ]
  },
  {
   "cell_type": "code",
   "execution_count": null,
   "id": "a32c1154-703e-4202-8c9b-f6419c9de9d7",
   "metadata": {},
   "outputs": [],
   "source": [
    "def solve(A):\n",
    "    output = ''\n",
    "    for i in A:\n",
    "        if i in ['a','e','i','o','u']:\n",
    "            output += i\n",
    "    return output\n",
    "# A = 'interviewbit'\n",
    "solve('interviewbit')"
   ]
  },
  {
   "cell_type": "code",
   "execution_count": null,
   "id": "4e905fdc-70c1-48e5-b712-4ef3c1f7d6dc",
   "metadata": {},
   "outputs": [],
   "source": [
    "sum([1,2,4,3,5,7,9,13])"
   ]
  }
 ],
 "metadata": {
  "kernelspec": {
   "display_name": "Python 3 (ipykernel)",
   "language": "python",
   "name": "python3"
  },
  "language_info": {
   "codemirror_mode": {
    "name": "ipython",
    "version": 3
   },
   "file_extension": ".py",
   "mimetype": "text/x-python",
   "name": "python",
   "nbconvert_exporter": "python",
   "pygments_lexer": "ipython3",
   "version": "3.9.12"
  }
 },
 "nbformat": 4,
 "nbformat_minor": 5
}
