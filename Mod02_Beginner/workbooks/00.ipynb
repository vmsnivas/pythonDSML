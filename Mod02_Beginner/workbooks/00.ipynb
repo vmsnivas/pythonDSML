{
 "cells": [
  {
   "cell_type": "code",
   "execution_count": null,
   "id": "c0be61f7-829c-4195-b381-df52a5a84a60",
   "metadata": {},
   "outputs": [],
   "source": [
    "print(\"Hello World\")"
   ]
  },
  {
   "cell_type": "code",
   "execution_count": null,
   "id": "21159c9e-c7d6-4675-8324-7f09da875338",
   "metadata": {},
   "outputs": [],
   "source": [
    "N = int(input())\n",
    "M = 1\n",
    "\n",
    "for i in range(1, N + 1):\n",
    "    for j in range(i):\n",
    "        print(M, end=' ')\n",
    "        M += 1\n",
    "    print()"
   ]
  },
  {
   "cell_type": "code",
   "execution_count": null,
   "id": "a277c357-6e1d-4465-a439-15167ea43cdc",
   "metadata": {},
   "outputs": [],
   "source": [
    "A = int(input())\n",
    "\n",
    "for i in range(1,A+1):\n",
    "    total = 0\n",
    "    for j in range(1,i):\n",
    "        #print(i, j*j)\n",
    "        #if j * j < i:\n",
    "            if (i % j == 0):\n",
    "                total += j\n",
    "    if i == total:\n",
    "        print(i,total)"
   ]
  },
  {
   "cell_type": "code",
   "execution_count": null,
   "id": "31f9e856-e9d7-45e6-b6af-298b7621a48e",
   "metadata": {},
   "outputs": [],
   "source": [
    "def isPerfect( n ):\n",
    "     \n",
    "    # To store sum of divisors\n",
    "    sum = 1\n",
    "     \n",
    "    # Find all divisors and add them\n",
    "    i = 2\n",
    "    while i * i <= n:\n",
    "        if n % i == 0:\n",
    "            sum = sum + i + n/i\n",
    "        i += 1\n",
    "     \n",
    "    # If sum of divisors is equal to\n",
    "    # n, then n is a perfect number\n",
    "     \n",
    "    return (True if sum == n and n!=1 else False)\n",
    " \n",
    "# Driver program\n",
    "print(\"Below are all perfect numbers till 10000\")\n",
    "n = 2\n",
    "for n in range (35):\n",
    "    if isPerfect (n):\n",
    "        print(n , \" is a perfect number\")"
   ]
  },
  {
   "cell_type": "code",
   "execution_count": null,
   "id": "a5cda32a-0e9a-459b-9ad7-242cf8cf2a46",
   "metadata": {},
   "outputs": [],
   "source": [
    "A = int(input())\n",
    "\n",
    "for i in range(1,A+1):\n",
    "    for i in range(1,i+1):\n",
    "        print(i, end=\"\")\n",
    "    print()"
   ]
  },
  {
   "cell_type": "code",
   "execution_count": null,
   "id": "8a9153fe-859a-4224-9a18-ad9595819708",
   "metadata": {},
   "outputs": [],
   "source": [
    "240 * 20 / 100"
   ]
  },
  {
   "cell_type": "code",
   "execution_count": null,
   "id": "6c758f3c-3110-47b1-8eb8-8c7cc45f01c9",
   "metadata": {},
   "outputs": [],
   "source": [
    "import math\n",
    "\n",
    "A = int(input())\n",
    "\n",
    "if A <= 10000:\n",
    "    HRA = A * 20 / 100\n",
    "    DA = A * 80 / 100\n",
    "elif A >= 10001 and A <= 20000:\n",
    "    HRA = A * 25 / 100\n",
    "    DA = A * 90 / 100\n",
    "elif A >= 20001:\n",
    "    HRA = A * 30 / 100\n",
    "    DA = A * 95 / 100\n",
    "    \n",
    "print(math.floor(A + HRA + DA))"
   ]
  }
 ],
 "metadata": {
  "kernelspec": {
   "display_name": "Python 3 (ipykernel)",
   "language": "python",
   "name": "python3"
  },
  "language_info": {
   "codemirror_mode": {
    "name": "ipython",
    "version": 3
   },
   "file_extension": ".py",
   "mimetype": "text/x-python",
   "name": "python",
   "nbconvert_exporter": "python",
   "pygments_lexer": "ipython3",
   "version": "3.9.12"
  }
 },
 "nbformat": 4,
 "nbformat_minor": 5
}
