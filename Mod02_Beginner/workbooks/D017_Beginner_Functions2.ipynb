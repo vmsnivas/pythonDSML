{
 "cells": [
  {
   "cell_type": "markdown",
   "id": "40a7ac89-2ae6-4366-91dc-5f66e075a939",
   "metadata": {},
   "source": [
    "# Time to end Corona\n",
    "\n",
    "Given three integers, A, B and C. You have to find the number of days it will take to reach zero cases of Corona in a city.\n",
    "\n",
    "- A - Average cases recovered in a day of the corona.\n",
    "- B - Number of new cases of corona daily.\n",
    "- C - Current active cases of the corona.\n",
    "\n",
    "Return the minimum number of days it will take to reach 0 active cases of Covid."
   ]
  },
  {
   "cell_type": "code",
   "execution_count": null,
   "id": "0fac1eda-c17a-4b62-b8ff-100fa4598828",
   "metadata": {},
   "outputs": [],
   "source": [
    "class Solution:\n",
    "    # @param A : integer\n",
    "    # @param B : integer\n",
    "    # @param C : integer\n",
    "    # @return an integer\n",
    "    def solve(self, A, B, C):\n",
    "        daysToRecover = 0\n",
    "        totalCases = B + C\n",
    "\n",
    "        while totalCases > 0:\n",
    "            totalCases -= A\n",
    "            daysToRecover += 1\n",
    "            if totalCases > 0:\n",
    "                totalCases += B\n",
    "        \n",
    "        return daysToRecover"
   ]
  },
  {
   "cell_type": "markdown",
   "id": "c2d370a8-1a73-41ac-a458-dbb80a07794a",
   "metadata": {},
   "source": [
    "# Is Perfect Square ?\n",
    "\n",
    "You are given a function that takes an integer argument A. Return 1 if A is a perfect square otherwise return 0."
   ]
  },
  {
   "cell_type": "code",
   "execution_count": null,
   "id": "af70821e-eebb-45ab-abda-91fb12a00f02",
   "metadata": {},
   "outputs": [],
   "source": [
    "import math\n",
    "\n",
    "def solve(A):\n",
    "    if int(math.sqrt(A)) * int(math.sqrt(A)) == A:\n",
    "        return 1\n",
    "    else:\n",
    "        return 0\n",
    "    \n",
    "solve(1332)"
   ]
  },
  {
   "cell_type": "markdown",
   "id": "c621d0f2-4994-44b0-827f-d45491f9c966",
   "metadata": {},
   "source": [
    "# Rounded Division\n",
    "\n",
    "Given an integer A, find the rounded value of real number A / 200.\n",
    "\n",
    "Rounded value of a real number X is the integer which is nearest to X, with halfway cases rounded away from zero.\n",
    "\n",
    "Some examples:\n",
    "```\n",
    "Rounded value of 2.4 = 2\n",
    "Rounded value of 2.5 = 3\n",
    "Rounded value of 2.6 = 3\n",
    "Rounded value of 0.0 = 0\n",
    "Rounded value of -2.4 = -2\n",
    "Rounded value of -2.5 = -3\n",
    "Rounded value of -2.6 = -3\n",
    "```"
   ]
  },
  {
   "cell_type": "code",
   "execution_count": null,
   "id": "5dda3244-ff5f-4974-afcc-09e45a841572",
   "metadata": {},
   "outputs": [],
   "source": [
    "import math\n",
    "\n",
    "def solve(A):\n",
    "    result = A / 200\n",
    "    \n",
    "    if result > 0:\n",
    "        \n",
    "        if result - math.floor(result) >= 0.5:\n",
    "            result = math.ceil(result)\n",
    "        else:\n",
    "            result = math.floor(result)\n",
    "            \n",
    "    elif result < 0:\n",
    "        \n",
    "        if result - math.ceil(result) <= -0.5:\n",
    "            result = math.floor(result)\n",
    "        else:\n",
    "            result = math.ceil(result)\n",
    "            \n",
    "    else:\n",
    "        result = 0\n",
    "        \n",
    "    return result\n",
    "\n",
    "solve(-500)"
   ]
  },
  {
   "cell_type": "markdown",
   "id": "0e185822-03bf-4ac9-b9bb-f3753441d4ce",
   "metadata": {},
   "source": [
    "# Square root of a number\n",
    "\n",
    "Given a number A. Return square root of the number if it is perfect square otherwise return -1."
   ]
  },
  {
   "cell_type": "code",
   "execution_count": null,
   "id": "fe7ab5c8-0160-4367-a479-962b725b4397",
   "metadata": {},
   "outputs": [],
   "source": [
    "class Solution:\n",
    "    # @param A : integer\n",
    "    # @return an integer\n",
    "    def solve(self, A):\n",
    "        if int(math.sqrt(A)) * int(math.sqrt(A)) == A:\n",
    "            return int(math.sqrt(A))\n",
    "        else:\n",
    "            return -1"
   ]
  },
  {
   "cell_type": "markdown",
   "id": "a81ba8b4-97e8-4031-bc33-27867ade7ad1",
   "metadata": {},
   "source": [
    "# Arguments Check"
   ]
  },
  {
   "cell_type": "code",
   "execution_count": null,
   "id": "7d140a5b-2851-497c-863c-7104a3128d91",
   "metadata": {},
   "outputs": [],
   "source": [
    "def fun1(name,age):\n",
    "    print(name,age)\n",
    "    \n",
    "fun1(\"Mohit\", age=23)\n",
    "fun1(age =23, name=\"Mohit\")\n",
    "#fun1(name=\"Mohit\", 23)"
   ]
  },
  {
   "cell_type": "code",
   "execution_count": null,
   "id": "7000c399-7789-486f-98c8-baa694a5bbc3",
   "metadata": {},
   "outputs": [],
   "source": [
    "def multiple_print(s, n = 1):\n",
    "    print(s * n, end='')\n",
    "    print() # this prints new line i.e. \\n\n",
    "\n",
    "multiple_print('Hello', 2)\n",
    "multiple_print('Hello')"
   ]
  },
  {
   "cell_type": "code",
   "execution_count": null,
   "id": "d634f8fd-c4bf-4de4-a406-7ceb81ec0291",
   "metadata": {},
   "outputs": [],
   "source": [
    "def Interest(p,c,t=2,r=0.09):\n",
    "  return p*t*r\n",
    "\n",
    "Interest(p=1000,c=5)\n",
    "#Interest(r=0.05,5000,3)\n",
    "#Interest(500,t=2,r=0.05)\n",
    "Interest(c=4,r=0.12,p=5000)"
   ]
  },
  {
   "cell_type": "markdown",
   "id": "872cd738-18e8-46a7-a862-79fb33e86916",
   "metadata": {},
   "source": [
    "# BMI Calculator\n",
    "\n",
    "Given the height (A) and weight (B) of a person in centimetres and kilograms.\n",
    "\n",
    "Find the BMI of that person and the classification of the user based on their BMI.\n",
    "\n",
    "- Underweight if BMI < 18.5\n",
    "- Normal weight if BMI lies in the range [18.5, 24.9]\n",
    "- Overweight if BMI lies in the range (24.9, 29.9]\n",
    "- Obese if BMI is greater than 29.9\n",
    "\n",
    "If x is the weight in kilograms and y is the height in metres.\n",
    "\n",
    "Then, BMI is calculated as x/(y*y).\n",
    "\n",
    "### Input Format\n",
    "\n",
    "The first line contains the height of the person in centimetres.\n",
    "\n",
    "The second line of the input contains the weight of the person in kilograms."
   ]
  },
  {
   "cell_type": "code",
   "execution_count": null,
   "id": "ddad22ba-0d64-482e-be40-7fd880e1b97b",
   "metadata": {},
   "outputs": [],
   "source": [
    "def main():\n",
    "    A = int(input()) / 100\n",
    "    B = int(input())\n",
    "    \n",
    "    BMI = round(B / (A * A), 1)\n",
    "    \n",
    "    if BMI < 18.5:\n",
    "        print('Underweight')\n",
    "    elif BMI >= 18.5 and BMI < 24.9:\n",
    "        print('Normal')\n",
    "    elif BMI >= 24.9 and BMI < 29.9:\n",
    "        print('Overweight')\n",
    "    else:\n",
    "        print('Obese')\n",
    "        \n",
    "    print(BMI)\n",
    "\n",
    "if __name__ == '__main__':\n",
    "    main()"
   ]
  },
  {
   "cell_type": "code",
   "execution_count": null,
   "id": "8f2f6693-f183-4eb6-adac-cecb0ef9afe3",
   "metadata": {},
   "outputs": [],
   "source": [
    "math.ceil(2113/200)"
   ]
  },
  {
   "cell_type": "code",
   "execution_count": null,
   "id": "0b9917ae-15c1-4f34-b94f-1e32b7359fac",
   "metadata": {},
   "outputs": [],
   "source": [
    "8 // 2"
   ]
  },
  {
   "cell_type": "code",
   "execution_count": null,
   "id": "2364b759-4c34-4a3a-bde7-7b208cc34fed",
   "metadata": {},
   "outputs": [],
   "source": [
    "x = \"global\"\n",
    "\n",
    "def foo():\n",
    "    global x\n",
    "    print(x, end=\",\")\n",
    "    x = \"local\"\n",
    "    print(x, end=\",\")\n",
    "\n",
    "foo()\n",
    "print(x, end=\"\")\n"
   ]
  },
  {
   "cell_type": "code",
   "execution_count": null,
   "id": "ef4b4d49-0472-42e5-97ea-de40c31a8ff8",
   "metadata": {},
   "outputs": [],
   "source": [
    "-5//3"
   ]
  },
  {
   "cell_type": "code",
   "execution_count": null,
   "id": "08af3adf-b49e-4646-990f-1f93b1695bad",
   "metadata": {},
   "outputs": [],
   "source": [
    "-5%3"
   ]
  },
  {
   "cell_type": "code",
   "execution_count": null,
   "id": "fea0a461-b3b8-4ba0-934f-b89c19db884f",
   "metadata": {},
   "outputs": [],
   "source": [
    "-7//3"
   ]
  },
  {
   "cell_type": "code",
   "execution_count": null,
   "id": "94414be2-afd5-4ed2-acef-60899d28aad0",
   "metadata": {},
   "outputs": [],
   "source": [
    "-7%3"
   ]
  },
  {
   "cell_type": "code",
   "execution_count": null,
   "id": "3ba64bb9-63bf-4c67-ae8f-cb3224b3868c",
   "metadata": {},
   "outputs": [],
   "source": [
    "-3//2"
   ]
  },
  {
   "cell_type": "code",
   "execution_count": null,
   "id": "1f6e3d1c-f195-4f2d-bc15-aeec91ac6c72",
   "metadata": {},
   "outputs": [],
   "source": [
    "-3%2"
   ]
  },
  {
   "cell_type": "code",
   "execution_count": null,
   "id": "b9d5dd79-15c7-4399-a87b-2ab3c674a94e",
   "metadata": {},
   "outputs": [],
   "source": []
  }
 ],
 "metadata": {
  "kernelspec": {
   "display_name": "Python 3 (ipykernel)",
   "language": "python",
   "name": "python3"
  },
  "language_info": {
   "codemirror_mode": {
    "name": "ipython",
    "version": 3
   },
   "file_extension": ".py",
   "mimetype": "text/x-python",
   "name": "python",
   "nbconvert_exporter": "python",
   "pygments_lexer": "ipython3",
   "version": "3.9.12"
  }
 },
 "nbformat": 4,
 "nbformat_minor": 5
}
