{
 "cells": [
  {
   "cell_type": "markdown",
   "id": "aaa86ddf-8116-4c08-9005-2146900c5cfa",
   "metadata": {},
   "source": [
    "# Difference of even and odd\n",
    "\n",
    "Problem Description:\n",
    "\n",
    "> Write a program to find the difference between the sum of all even elements and sum of all odd elements from the given list.\n",
    "\n",
    "Input Format:\n",
    "\n",
    "> The first line indicates the number of test cases. There will be a single line of input for each testcase as following:\n",
    "> The single line consists of space separated integers representing elements of the list.\n",
    "\n",
    "Output Format:\n",
    "\n",
    "> The difference of the even and odd elements sum in integer format"
   ]
  },
  {
   "cell_type": "code",
   "execution_count": null,
   "id": "803c4f7f-8e51-4a5c-90a0-0995fa5eb8d0",
   "metadata": {},
   "outputs": [],
   "source": [
    "def even_odd(lst):\n",
    "     ''' input:lst-List of elements\n",
    "         output:Return diff in integer format which stores difference'''\n",
    "\n",
    "     evenSum = 0\n",
    "     oddSum = 0\n",
    "\n",
    "     for i in lst:\n",
    "          if i % 2 == 0:\n",
    "               evenSum += i\n",
    "          else:\n",
    "               oddSum += i\n",
    "     \n",
    "     diff = evenSum - oddSum\n",
    "\n",
    "     return diff"
   ]
  },
  {
   "cell_type": "markdown",
   "id": "dfefae65-8402-41c6-84c3-dd117b977e3a",
   "metadata": {},
   "source": [
    "# Sum the Array\n",
    "\n",
    "Write a program to print sum of elements of the input array A of size N where you have to take integer N and further N elements as input from user."
   ]
  },
  {
   "cell_type": "code",
   "execution_count": null,
   "id": "5d390d01-a8c5-4a68-9959-f1bcee5085d0",
   "metadata": {},
   "outputs": [],
   "source": [
    "def calculate_sum(input_list):\n",
    "    # Write your code here, no need to take input\n",
    "    # Input argument: input_list\n",
    "    # Return: sum of elements in input_list\n",
    "    \n",
    "    total = 0\n",
    "\n",
    "    for i in input_list:\n",
    "        total += i\n",
    "        \n",
    "    return total"
   ]
  },
  {
   "cell_type": "markdown",
   "id": "c90a39ac-7418-4961-8256-f8053cd631a7",
   "metadata": {},
   "source": [
    "# Finding average"
   ]
  },
  {
   "cell_type": "code",
   "execution_count": null,
   "id": "eacc444f-677b-4b67-9de2-017909772e9b",
   "metadata": {},
   "outputs": [],
   "source": [
    "numbers = [10, 20, 30, 40, 50]\n",
    "total = 0\n",
    "for i in numbers:\n",
    "  total = total + i\n",
    "\n",
    "num_size = len(numbers)\n",
    "avg = total/num_size\n",
    "print(avg)"
   ]
  },
  {
   "cell_type": "markdown",
   "id": "99fb291e-3a28-45cc-b8be-b9f73b76d3fa",
   "metadata": {},
   "source": [
    "# For loop output"
   ]
  },
  {
   "cell_type": "code",
   "execution_count": null,
   "id": "d39b75fe-4901-4786-9b71-f0ba0eb2f99c",
   "metadata": {},
   "outputs": [],
   "source": [
    "for i in range(-6, -10, -1):\n",
    "     print(i, end =\" \")"
   ]
  },
  {
   "cell_type": "markdown",
   "id": "59a782ad-cd8d-4ca1-8417-879ff19c48e6",
   "metadata": {},
   "source": [
    "# Filtering Evens"
   ]
  },
  {
   "cell_type": "code",
   "execution_count": null,
   "id": "55ae454f-60bf-42ed-be9b-d053faf915fe",
   "metadata": {},
   "outputs": [],
   "source": [
    "numbers = [1,2,3,4,5,6,7]\n",
    "\n",
    "even = []\n",
    "\n",
    "for i in numbers:\n",
    "    if i % 2 == 0:\n",
    "        even.append(i)\n",
    "        \n",
    "print(even)"
   ]
  },
  {
   "cell_type": "markdown",
   "id": "3c17706a-306f-4a46-8200-4efdbd05b218",
   "metadata": {},
   "source": [
    "# Consecutive Duplicate\n",
    "\n",
    "Problem Description:\n",
    "\n",
    "> Write a function to check if the input list has consecutive duplicate elements or not.\n",
    "Return True if there are consecutive duplicate elements in the list else return False.\n"
   ]
  },
  {
   "cell_type": "code",
   "execution_count": null,
   "id": "4383d008-150a-4b51-9e90-ca2bfb9da5cb",
   "metadata": {},
   "outputs": [],
   "source": [
    "def duplicate(ls,n):\n",
    "    ans = False\n",
    "    ''' input:ls-List of elements and n-indicates the length of list\n",
    "         output:Return ans as True or False'''\n",
    "    \n",
    "    # YOUR CODE GOES HERE\n",
    "    for i in range(len(ls)):\n",
    "        \n",
    "        if i + 1 < len(ls):\n",
    "            \n",
    "            if ls[i] == ls[i+1]:\n",
    "                ans = True\n",
    "                break\n",
    "    \n",
    "    return ans"
   ]
  },
  {
   "cell_type": "markdown",
   "id": "566e8840-b3d3-4067-9ca7-be6921316c53",
   "metadata": {},
   "source": [
    "# First Multiple\n",
    "\n",
    "> Write a program for a given integer x and a list ls to return the first multiple of x that occurs in the list, and if there isn’t any multiple of x in the list then return -1.\n",
    "\n",
    "Input Format:\n",
    "\n",
    "> The first line indicates the number of test cases. For each testcase there will be two lines of inputs:\n",
    "The first line consists of integer x. Where x is positive and valid \n",
    "The second line consists of a number of space separated integers representing elements of the list.\n",
    "\n",
    "Output Format:\n",
    "\n",
    "> Return the multiple of x from the list in integer format, else return -1."
   ]
  },
  {
   "cell_type": "code",
   "execution_count": null,
   "id": "d0064eb3-0b74-4faa-aff2-fd508a625f61",
   "metadata": {},
   "outputs": [],
   "source": [
    "def first_multiple(ls,x):\n",
    "    \n",
    "    ans = -1\n",
    "    \n",
    "    ''' input:ls-List of elements and x-indicates the integer\n",
    "         output:Return ans from the list that is divisible by x'''\n",
    "    \n",
    "    for i in ls:\n",
    "        \n",
    "        if i % x == 0:\n",
    "            ans = i\n",
    "            break\n",
    "    \n",
    "    return ans"
   ]
  }
 ],
 "metadata": {
  "kernelspec": {
   "display_name": "Python 3 (ipykernel)",
   "language": "python",
   "name": "python3"
  },
  "language_info": {
   "codemirror_mode": {
    "name": "ipython",
    "version": 3
   },
   "file_extension": ".py",
   "mimetype": "text/x-python",
   "name": "python",
   "nbconvert_exporter": "python",
   "pygments_lexer": "ipython3",
   "version": "3.9.12"
  }
 },
 "nbformat": 4,
 "nbformat_minor": 5
}
