{
 "cells": [
  {
   "cell_type": "markdown",
   "id": "248f12ef-986c-4c01-9725-c767dd20d9f7",
   "metadata": {},
   "source": [
    "# Preparation Time\n",
    "\n",
    "**Problem Description:**\n",
    "\n",
    "You're going to write some code to help you cook a gorgeous lasagna from your favorite cookbook.\n",
    "Now, you want to also add few layers to the lasagna. Assume each layer takes 2 minutes to prepare.\n",
    "\n",
    "Given the number of layers you want to add to the lasagna, find how many minutes you would spend making them."
   ]
  },
  {
   "cell_type": "code",
   "execution_count": null,
   "id": "7b9a1473-d16b-4b4c-a8cf-9b97af692341",
   "metadata": {},
   "outputs": [],
   "source": [
    "def main():\n",
    "    # YOUR CODE GOES HERE\n",
    "    # Please take input and print output to standard input/output (stdin/stdout)\n",
    "    # E.g. 'input()/raw_input()' for input & 'print' for output\n",
    "    N = int(input())\n",
    "    print(N * 2)\n",
    "\n",
    "if __name__ == '__main__':\n",
    "    main()"
   ]
  },
  {
   "cell_type": "markdown",
   "id": "1ff63c1f-3465-48b6-b922-9f4a19885761",
   "metadata": {},
   "source": [
    "# Total Elapsed Cooking Time\n",
    "\n",
    "**Problem Description:**\n",
    "\n",
    "You're going to write some code to help you cook a gorgeous lasagna from your favourite cookbook.\n",
    "Now, you want to find the total number of minutes you've been cooking or the sum of your preparation time and the time the lasagna has already spent baking in the oven. The preparation time of one layer is 2 minutes.\n",
    "\n",
    "Given the number of layers added to the lasagna and the number of minutes the lasagna has been baking in the oven, find the total elapsed cooking time (prep + bake) in minutes."
   ]
  },
  {
   "cell_type": "code",
   "execution_count": null,
   "id": "a2010d3e-b832-488f-87a1-f2abca150456",
   "metadata": {},
   "outputs": [],
   "source": [
    "def main():\n",
    "    # YOUR CODE GOES HERE\n",
    "    # Please take input and print output to standard input/output (stdin/stdout)\n",
    "    # E.g. 'input()/raw_input()' for input & 'print' for output\n",
    "    N = int(input())\n",
    "    M = int(input())\n",
    "    print((N * 2) + M)\n",
    "\n",
    "if __name__ == '__main__':\n",
    "    main()"
   ]
  },
  {
   "cell_type": "markdown",
   "id": "7d23bad3-ca05-479b-a5b6-af4a7bac29aa",
   "metadata": {},
   "source": [
    "# Remaining Bake Time\n",
    "\n",
    "**Problem Description:**\n",
    "\n",
    "You're going to write some code to help you cook a gorgeous lasagna from your favorite cookbook.\n",
    "According to your cookbook, the Lasagna should be in the oven for 40 minutes:\n",
    "Given the actual minutes the lasagna has been in the oven, find how many minutes the lasagna still needs to bake."
   ]
  },
  {
   "cell_type": "code",
   "execution_count": null,
   "id": "c12b9564-2320-4133-9ba1-bb19cf31d19e",
   "metadata": {},
   "outputs": [],
   "source": [
    "def main():\n",
    "    # YOUR CODE GOES HERE\n",
    "    # Please take input and print output to standard input/output (stdin/stdout)\n",
    "    # E.g. 'input()/raw_input()' for input & 'print' for output\n",
    "    N = int(input())\n",
    "    print(40 - N)\n",
    "\n",
    "if __name__ == '__main__':\n",
    "    main()"
   ]
  },
  {
   "cell_type": "markdown",
   "id": "1a80a82d-0d00-4261-91c5-8c9ddeb31a8d",
   "metadata": {},
   "source": [
    "# Calculate Currency Change\n",
    "\n",
    "**Problem Description:**\n",
    "\n",
    "Your friend Rahul plans to visit exotic countries all around the world. Sadly, Rahul's math skills aren't good. He's pretty worried about being scammed by currency exchanges during his trip - and he wants you to make a currency calculator for him. Here are his specifications for the app:\n",
    "\n",
    "Given the amount of money before exchange and the amount of money that is taken from the budget to be exchanged, print the amount of money that is left from the budget.\n",
    "\n",
    "**Input Format**\n",
    "\n",
    "First line contains an integer N denoting the total budget, amount of money before exchange.\n",
    "\n",
    "Second line contains an integer M denoting the exchanging amount, denoting the amount of money that is taken from the budget to be exchanged.\n",
    "\n",
    "**Output Format**\n",
    "\n",
    "Print a single line denoting the amount of money that is left from the budget."
   ]
  },
  {
   "cell_type": "code",
   "execution_count": null,
   "id": "64b87d13-696b-447e-a814-896bd5a2ef83",
   "metadata": {},
   "outputs": [],
   "source": [
    "def main():\n",
    "    # YOUR CODE GOES HERE\n",
    "    # Please take input and print output to standard input/output (stdin/stdout)\n",
    "    # E.g. 'input()/raw_input()' for input & 'print' for output\n",
    "    N = int(input())\n",
    "    M = int(input())\n",
    "    print(N - M)\n",
    "\n",
    "if __name__ == '__main__':\n",
    "    main()"
   ]
  },
  {
   "cell_type": "markdown",
   "id": "ba7d4e45-a76e-478c-9bf9-b2b55eaa7d67",
   "metadata": {},
   "source": [
    "# Total Bills Value\n",
    "\n",
    "**Problem Description:**\n",
    "\n",
    "Your friend Rahul plans to visit exotic countries all around the world. Sadly, Rahul's math skills aren't good. He's pretty worried about being scammed by currency exchanges during his trip - and he wants you to make a currency calculator for him. Here are his specifications for the app:\n",
    "\n",
    "Given the value of a single bill and the amount of bills you received, print the total value of the bills.\n",
    "\n",
    "**Input Format:**\n",
    "\n",
    "The first line of the input is an integer N denoting the value of a single bill.\n",
    "\n",
    "The second line of the input is an integer M denoting the number of bills.\n",
    "\n",
    "**Output Format:**\n",
    "\n",
    "Print in a single line denoting the total value of bills."
   ]
  },
  {
   "cell_type": "code",
   "execution_count": null,
   "id": "18b4c285-3f31-4aa6-babe-79558a3b6072",
   "metadata": {},
   "outputs": [],
   "source": [
    "def main():\n",
    "    # YOUR CODE GOES HERE\n",
    "    # Please take input and print output to standard input/output (stdin/stdout)\n",
    "    # E.g. 'input()/raw_input()' for input & 'print' for output\n",
    "    N = int(input())\n",
    "    M = int(input())\n",
    "    print(N * M)\n",
    "\n",
    "if __name__ == '__main__':\n",
    "    main()"
   ]
  },
  {
   "cell_type": "markdown",
   "id": "96d32d72-0a68-44e0-89e4-3e2a773623b7",
   "metadata": {},
   "source": [
    "# A says Hi to B\n",
    "\n",
    "**Problem Description**\n",
    "\n",
    "Given two names A and B as input. Print \"A says Hi to B\". where A and B are the names in input."
   ]
  },
  {
   "cell_type": "code",
   "execution_count": null,
   "id": "c602614c-f23d-41df-803a-90d93c73dfb6",
   "metadata": {},
   "outputs": [],
   "source": [
    "A = input()\n",
    "B = input()\n",
    "\n",
    "print(A + \" says Hi to \" + B)"
   ]
  },
  {
   "cell_type": "markdown",
   "id": "1608f9cc-35e0-43fe-a0e9-d837db0f6123",
   "metadata": {},
   "source": [
    "# Print A B C D E\n",
    "\n",
    "Print the first five letters of the English alphabet i.e. A, B, C, D and E."
   ]
  },
  {
   "cell_type": "code",
   "execution_count": null,
   "id": "aef55c35-ec53-4f58-a449-2ec34c927a54",
   "metadata": {},
   "outputs": [],
   "source": [
    "for i in 'A','B','C','D','E':\n",
    "    print(i)"
   ]
  },
  {
   "cell_type": "markdown",
   "id": "4d301564-1ca6-413d-bd3b-a8df86fe69bc",
   "metadata": {},
   "source": [
    "# Hello Name\n",
    "\n",
    "**Problem Description**\n",
    "\n",
    "Given a name A as input. Print \"Hello A\", where A is the name in input."
   ]
  },
  {
   "cell_type": "code",
   "execution_count": null,
   "id": "7705af98-976f-48c9-ad47-879d1e218a0d",
   "metadata": {},
   "outputs": [],
   "source": [
    "A = input()\n",
    "print(\"Hello \" + A)"
   ]
  },
  {
   "cell_type": "markdown",
   "id": "f9134bfb-0f35-47dc-8654-f4800fbdd0c4",
   "metadata": {},
   "source": [
    "# Concatenate Two Numbers\n",
    "\n",
    "Given two numbers A and B. Concatenate the two numbers and print it."
   ]
  },
  {
   "cell_type": "code",
   "execution_count": null,
   "id": "772e0cab-c206-4569-92a3-cb9a5fc96224",
   "metadata": {},
   "outputs": [],
   "source": [
    "A = input()\n",
    "B = input()\n",
    "print(A+B)"
   ]
  }
 ],
 "metadata": {
  "kernelspec": {
   "display_name": "Python 3 (ipykernel)",
   "language": "python",
   "name": "python3"
  },
  "language_info": {
   "codemirror_mode": {
    "name": "ipython",
    "version": 3
   },
   "file_extension": ".py",
   "mimetype": "text/x-python",
   "name": "python",
   "nbconvert_exporter": "python",
   "pygments_lexer": "ipython3",
   "version": "3.9.12"
  }
 },
 "nbformat": 4,
 "nbformat_minor": 5
}
