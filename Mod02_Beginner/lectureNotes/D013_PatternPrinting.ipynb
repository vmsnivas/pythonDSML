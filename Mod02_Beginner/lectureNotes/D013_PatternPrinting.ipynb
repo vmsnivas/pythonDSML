{
 "cells": [
  {
   "cell_type": "markdown",
   "id": "8187d19d-113e-41f7-bbd4-07a0ffa51e99",
   "metadata": {},
   "source": [
    "### Challenge 1: Staircase pattern"
   ]
  },
  {
   "cell_type": "code",
   "execution_count": 3,
   "id": "83f7bf2e-8e03-4c5a-a129-ceff4c7bb396",
   "metadata": {},
   "outputs": [
    {
     "name": "stdout",
     "output_type": "stream",
     "text": [
      "*****"
     ]
    }
   ],
   "source": [
    "for i in range(1, 6):\n",
    "    print(\"*\", end=\"\")"
   ]
  },
  {
   "cell_type": "code",
   "execution_count": null,
   "id": "93ec366b-91c5-439f-910b-1b0c8889c394",
   "metadata": {},
   "outputs": [],
   "source": []
  },
  {
   "cell_type": "code",
   "execution_count": 4,
   "id": "f1668dd8-4e5c-428b-bf67-25eb322d0b4d",
   "metadata": {},
   "outputs": [
    {
     "name": "stdout",
     "output_type": "stream",
     "text": [
      "*\n",
      "**\n",
      "***\n",
      "****\n",
      "*****\n"
     ]
    }
   ],
   "source": [
    "for i in range(1, 6):\n",
    "    for j in range(1, i+1):\n",
    "        print(\"*\", end=\"\")\n",
    "    print()"
   ]
  },
  {
   "cell_type": "code",
   "execution_count": 9,
   "id": "5d46ed16-a89c-453a-9ace-d309f98a012e",
   "metadata": {},
   "outputs": [
    {
     "name": "stdout",
     "output_type": "stream",
     "text": [
      "*\n",
      "**\n",
      "***\n",
      "****\n",
      "*****\n"
     ]
    }
   ],
   "source": [
    "for i in range(1, 6):\n",
    "    for j in range(i):\n",
    "        print(\"*\", end=\"\")\n",
    "    print()"
   ]
  },
  {
   "cell_type": "code",
   "execution_count": 6,
   "id": "127cae5c-9e05-4f8a-8a14-0ba88a647764",
   "metadata": {},
   "outputs": [
    {
     "name": "stdin",
     "output_type": "stream",
     "text": [
      " 5\n"
     ]
    },
    {
     "name": "stdout",
     "output_type": "stream",
     "text": [
      "*\n",
      "**\n",
      "***\n",
      "****\n",
      "*****\n"
     ]
    }
   ],
   "source": [
    "N = int(input())\n",
    "for i in range(1, N + 1):\n",
    "    for j in range(i):\n",
    "        print('*', end='')\n",
    "    print()"
   ]
  },
  {
   "cell_type": "code",
   "execution_count": null,
   "id": "2059a6bb-8468-4e61-a9d0-10c60ea50bc9",
   "metadata": {},
   "outputs": [],
   "source": []
  },
  {
   "cell_type": "code",
   "execution_count": 7,
   "id": "20eb2195-caa3-4d6f-96bc-236f11845cce",
   "metadata": {},
   "outputs": [
    {
     "name": "stdin",
     "output_type": "stream",
     "text": [
      " 5\n"
     ]
    },
    {
     "name": "stdout",
     "output_type": "stream",
     "text": [
      "*\n",
      "**\n",
      "***\n",
      "****\n"
     ]
    }
   ],
   "source": [
    "N = int(input())\n",
    "for i in range(1, N):\n",
    "    for j in range(i):\n",
    "        print('*', end='')\n",
    "    print()"
   ]
  },
  {
   "cell_type": "code",
   "execution_count": null,
   "id": "4f8bb325-dd6f-4c60-bd4e-ecba7eb25899",
   "metadata": {},
   "outputs": [],
   "source": []
  },
  {
   "cell_type": "code",
   "execution_count": null,
   "id": "cc70f6da-e099-48fd-8657-c2dc6103b4a6",
   "metadata": {},
   "outputs": [],
   "source": []
  },
  {
   "cell_type": "code",
   "execution_count": null,
   "id": "2498fbd3-708e-4942-9a29-61dc28077a15",
   "metadata": {},
   "outputs": [],
   "source": []
  },
  {
   "cell_type": "code",
   "execution_count": null,
   "id": "5f3172ee-e56f-494d-8619-fe65471f453c",
   "metadata": {},
   "outputs": [],
   "source": []
  },
  {
   "cell_type": "markdown",
   "id": "b34b9661-4543-4830-9a6f-8445cf5cfd5f",
   "metadata": {},
   "source": [
    "### Challenge 2: Staircase with numbers"
   ]
  },
  {
   "cell_type": "code",
   "execution_count": 10,
   "id": "0885ed94-bacc-4687-817d-9a8462a82e1e",
   "metadata": {},
   "outputs": [
    {
     "name": "stdout",
     "output_type": "stream",
     "text": [
      "*\n",
      "*2\n",
      "*2*\n",
      "*2*4\n",
      "*2*4*\n"
     ]
    }
   ],
   "source": [
    "for i in range(1, 6):\n",
    "    for j in range(1, i+1):\n",
    "        if j % 2 == 1:\n",
    "            print(\"*\", end=\"\")\n",
    "        else:\n",
    "            print(j, end=\"\")\n",
    "    print()"
   ]
  },
  {
   "cell_type": "code",
   "execution_count": 11,
   "id": "7f6bbe98-464d-4e4b-b854-4886a3be6840",
   "metadata": {},
   "outputs": [
    {
     "name": "stdin",
     "output_type": "stream",
     "text": [
      " 6\n"
     ]
    },
    {
     "name": "stdout",
     "output_type": "stream",
     "text": [
      "*\n",
      "*2\n",
      "*2*\n",
      "*2*4\n",
      "*2*4*\n"
     ]
    }
   ],
   "source": [
    "N = int(input())\n",
    "# use n+1\n",
    "for i in range(1, N):\n",
    "    for j in range(1, i+1):\n",
    "        if j % 2 == 1:\n",
    "            print(\"*\", end=\"\")\n",
    "        else:\n",
    "            print(j, end=\"\")\n",
    "    print()"
   ]
  },
  {
   "cell_type": "code",
   "execution_count": 14,
   "id": "a2cb3966-c64f-47a5-9992-8747fc5289db",
   "metadata": {},
   "outputs": [
    {
     "name": "stdin",
     "output_type": "stream",
     "text": [
      " 3\n"
     ]
    },
    {
     "name": "stdout",
     "output_type": "stream",
     "text": [
      "*\n",
      "*2\n",
      "*2*\n"
     ]
    }
   ],
   "source": [
    "N = int(input())\n",
    "# use n+1\n",
    "for i in range(1, N+1):\n",
    "    for j in range(1, i+1):\n",
    "        if j % 2 == 1:\n",
    "            print(\"*\", end=\"\")\n",
    "        else:\n",
    "            print(j, end=\"\")\n",
    "    print()"
   ]
  },
  {
   "cell_type": "code",
   "execution_count": null,
   "id": "31abc1a2-e0ae-4f70-85fe-6949120870f9",
   "metadata": {},
   "outputs": [],
   "source": []
  },
  {
   "cell_type": "code",
   "execution_count": 15,
   "id": "b41fecf6-5d86-4c4e-a4f7-d6843dcee094",
   "metadata": {},
   "outputs": [
    {
     "name": "stdin",
     "output_type": "stream",
     "text": [
      " 3\n"
     ]
    },
    {
     "name": "stdout",
     "output_type": "stream",
     "text": [
      "1\n",
      "1*\n",
      "1*3\n"
     ]
    }
   ],
   "source": [
    "N = int(input())\n",
    "for i in range(1, N + 1):\n",
    "    for j in range(1, i + 1):\n",
    "        if j % 2 == 0:\n",
    "            print('*', end='')\n",
    "        else:\n",
    "            print(j, end='')\n",
    "    print()"
   ]
  },
  {
   "cell_type": "code",
   "execution_count": null,
   "id": "30fec453-2d52-4b36-acab-26cd752d4f40",
   "metadata": {},
   "outputs": [],
   "source": []
  },
  {
   "cell_type": "code",
   "execution_count": null,
   "id": "464eaf60-fb14-457e-8343-6335b9b00b04",
   "metadata": {},
   "outputs": [],
   "source": []
  },
  {
   "cell_type": "code",
   "execution_count": null,
   "id": "acaa5cf2-8a08-4fc5-9054-df0ed5a89930",
   "metadata": {},
   "outputs": [],
   "source": []
  },
  {
   "cell_type": "code",
   "execution_count": null,
   "id": "83124fd3-1e3c-4032-9f73-f3c4d84a1499",
   "metadata": {},
   "outputs": [],
   "source": []
  },
  {
   "cell_type": "code",
   "execution_count": null,
   "id": "465a5aff-1a84-4ac7-bf92-3b01f15d772e",
   "metadata": {},
   "outputs": [],
   "source": []
  },
  {
   "cell_type": "code",
   "execution_count": null,
   "id": "80c0c5f7-6595-4cf9-8f1f-2a29f51ab400",
   "metadata": {},
   "outputs": [],
   "source": []
  },
  {
   "cell_type": "code",
   "execution_count": null,
   "id": "8acde454-d713-4a28-990c-cbc092a8cf27",
   "metadata": {},
   "outputs": [],
   "source": []
  },
  {
   "cell_type": "markdown",
   "id": "004af1bb-16ab-43a0-a298-ec99d62b85d2",
   "metadata": {},
   "source": [
    "### Challenge 3: Reverse staircase"
   ]
  },
  {
   "cell_type": "code",
   "execution_count": 17,
   "id": "22cb3118-92ac-4949-a947-725d51f9d258",
   "metadata": {},
   "outputs": [
    {
     "name": "stdin",
     "output_type": "stream",
     "text": [
      " 5\n"
     ]
    },
    {
     "name": "stdout",
     "output_type": "stream",
     "text": [
      "*****\n",
      "****\n",
      "***\n",
      "**\n",
      "*\n"
     ]
    }
   ],
   "source": [
    "n = int(input())\n",
    "for i in range(1, n+1):\n",
    "    for j in range(n-i+1):\n",
    "        print(\"*\", end=\"\")\n",
    "    print()"
   ]
  },
  {
   "cell_type": "code",
   "execution_count": 19,
   "id": "67d5a356-6111-4a33-abd4-ebfb9537e8e4",
   "metadata": {},
   "outputs": [],
   "source": [
    "## Do hit and trials\n",
    "# Use pen and paper to deecode the output"
   ]
  },
  {
   "cell_type": "code",
   "execution_count": 18,
   "id": "d26b90e6-ae15-4d37-9606-c79784118ff2",
   "metadata": {},
   "outputs": [
    {
     "name": "stdin",
     "output_type": "stream",
     "text": [
      " 5\n"
     ]
    },
    {
     "name": "stdout",
     "output_type": "stream",
     "text": [
      "01234\n",
      "0123\n",
      "012\n",
      "01\n",
      "0\n"
     ]
    }
   ],
   "source": [
    "n = int(input())\n",
    "for i in range(1, n+1):\n",
    "    for j in range(n-i+1):\n",
    "        print(j, end=\"\")\n",
    "    print()"
   ]
  },
  {
   "cell_type": "code",
   "execution_count": null,
   "id": "52ff3517-ca9d-49ac-a90c-752a815296b5",
   "metadata": {},
   "outputs": [],
   "source": []
  },
  {
   "cell_type": "code",
   "execution_count": null,
   "id": "9f40e92f-dc8b-41d2-9940-fac7cda53503",
   "metadata": {},
   "outputs": [],
   "source": []
  },
  {
   "cell_type": "code",
   "execution_count": null,
   "id": "407be8d2-a525-48b4-a060-a455ceb3d576",
   "metadata": {},
   "outputs": [],
   "source": []
  },
  {
   "cell_type": "code",
   "execution_count": null,
   "id": "94ac2153-88be-4503-8fb9-9d024ab45e70",
   "metadata": {},
   "outputs": [],
   "source": []
  },
  {
   "cell_type": "code",
   "execution_count": null,
   "id": "1c10cefa-9282-4b49-83d1-7cb8ff9f2d0e",
   "metadata": {},
   "outputs": [],
   "source": []
  },
  {
   "cell_type": "code",
   "execution_count": null,
   "id": "b2eb1d96-4940-4f3e-8434-73d803faba2b",
   "metadata": {},
   "outputs": [],
   "source": []
  },
  {
   "cell_type": "code",
   "execution_count": null,
   "id": "6e98bf66-bff9-4b41-b3af-2f5f48027114",
   "metadata": {},
   "outputs": [],
   "source": []
  },
  {
   "cell_type": "markdown",
   "id": "515cc20e-ec9e-4015-a063-bb447ff9e7ea",
   "metadata": {},
   "source": [
    "### Challenge 4: Pattern with space"
   ]
  },
  {
   "cell_type": "code",
   "execution_count": 23,
   "id": "0451c3cb-13b6-4864-a43a-23a67738050d",
   "metadata": {},
   "outputs": [
    {
     "name": "stdin",
     "output_type": "stream",
     "text": [
      " 6\n"
     ]
    },
    {
     "name": "stdout",
     "output_type": "stream",
     "text": [
      "*__*\n",
      "*__*\n",
      "*__*\n",
      "*__*\n",
      "*__*\n",
      "*__*\n"
     ]
    }
   ],
   "source": [
    "n = int(input())\n",
    "\n",
    "for i in range(1, n+1):\n",
    "    for j in range(1, 5):\n",
    "        if j == 1 or j == 4:\n",
    "            print(\"*\", end=\"\")\n",
    "        else:\n",
    "            print(\"_\", end=\"\")\n",
    "    print()"
   ]
  },
  {
   "cell_type": "code",
   "execution_count": 30,
   "id": "53fbf244-ca1e-43cc-8954-a4cb5964a0f5",
   "metadata": {},
   "outputs": [
    {
     "name": "stdin",
     "output_type": "stream",
     "text": [
      " 4\n"
     ]
    },
    {
     "name": "stdout",
     "output_type": "stream",
     "text": [
      "*---*\n",
      "*---*\n",
      "*---*\n",
      "*---*\n"
     ]
    }
   ],
   "source": [
    "n = int(input())\n",
    "\n",
    "for i in range(1, n+1):\n",
    "    for j in range(1, n+2):\n",
    "        if j == 1 or j == n+1:\n",
    "            print(\"*\", end=\"\")\n",
    "        else:\n",
    "            print(\"-\", end=\"\")\n",
    "    print()"
   ]
  },
  {
   "cell_type": "code",
   "execution_count": null,
   "id": "e182c2b6-4aa6-41f4-bed7-fff5cbe41cda",
   "metadata": {},
   "outputs": [],
   "source": []
  },
  {
   "cell_type": "code",
   "execution_count": null,
   "id": "b688fc34-091f-4bf6-bffe-243cc503e897",
   "metadata": {},
   "outputs": [],
   "source": []
  },
  {
   "cell_type": "code",
   "execution_count": null,
   "id": "b74873e5-6b10-4e38-a295-d0a61c5b0d41",
   "metadata": {},
   "outputs": [],
   "source": []
  },
  {
   "cell_type": "markdown",
   "id": "eabd2d96-cb43-4d8b-b5cb-e16aebbe1f58",
   "metadata": {},
   "source": [
    "## Doubts\n"
   ]
  },
  {
   "cell_type": "code",
   "execution_count": null,
   "id": "acc7ca01-369f-43be-81bb-263dae72b275",
   "metadata": {},
   "outputs": [],
   "source": []
  },
  {
   "cell_type": "code",
   "execution_count": null,
   "id": "43cf3a51-2f72-4af5-b3e0-5f3605fa5170",
   "metadata": {},
   "outputs": [],
   "source": []
  },
  {
   "cell_type": "code",
   "execution_count": null,
   "id": "2b1fb98e-cbc1-43c1-aa2e-3848c8f2c778",
   "metadata": {},
   "outputs": [],
   "source": []
  }
 ],
 "metadata": {
  "kernelspec": {
   "display_name": "Python 3 (ipykernel)",
   "language": "python",
   "name": "python3"
  },
  "language_info": {
   "codemirror_mode": {
    "name": "ipython",
    "version": 3
   },
   "file_extension": ".py",
   "mimetype": "text/x-python",
   "name": "python",
   "nbconvert_exporter": "python",
   "pygments_lexer": "ipython3",
   "version": "3.9.7"
  }
 },
 "nbformat": 4,
 "nbformat_minor": 5
}
