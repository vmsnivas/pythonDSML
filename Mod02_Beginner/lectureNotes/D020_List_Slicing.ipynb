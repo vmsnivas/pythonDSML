{
 "cells": [
  {
   "cell_type": "markdown",
   "id": "959fd7e2-23d2-483b-a9ff-cddf259e0fdb",
   "metadata": {},
   "source": [
    "## List Inbuilt Functions"
   ]
  },
  {
   "cell_type": "code",
   "execution_count": 1,
   "id": "d528bd69-e49b-4d02-b89a-adb35e13c8b5",
   "metadata": {},
   "outputs": [],
   "source": [
    "# Max function\n",
    "# Min function\n",
    "# Sum function\n",
    "# Count\n",
    "# Index\n",
    "# Reverse\n",
    "# L + L1\n",
    "# Extend\n",
    "# In operator in list\n"
   ]
  },
  {
   "cell_type": "code",
   "execution_count": 93,
   "id": "c5e2f29c-efee-463c-8ea9-2b5c18612df4",
   "metadata": {},
   "outputs": [],
   "source": [
    "runs = [10, 99, 100, 50, 80, 200, 150, 20, 99, 99]"
   ]
  },
  {
   "cell_type": "code",
   "execution_count": 94,
   "id": "a336e1d8-a719-4535-8520-476ec3ad90b3",
   "metadata": {},
   "outputs": [
    {
     "data": {
      "text/plain": [
       "200"
      ]
     },
     "execution_count": 94,
     "metadata": {},
     "output_type": "execute_result"
    }
   ],
   "source": [
    "max(runs)"
   ]
  },
  {
   "cell_type": "code",
   "execution_count": 95,
   "id": "47f3c2e8-2b40-4549-b2fe-c56f4bb2542e",
   "metadata": {},
   "outputs": [
    {
     "data": {
      "text/plain": [
       "10"
      ]
     },
     "execution_count": 95,
     "metadata": {},
     "output_type": "execute_result"
    }
   ],
   "source": [
    "min(runs)"
   ]
  },
  {
   "cell_type": "code",
   "execution_count": 96,
   "id": "6e974504-a959-47e0-a6f6-04ce3c3491cf",
   "metadata": {},
   "outputs": [
    {
     "data": {
      "text/plain": [
       "907"
      ]
     },
     "execution_count": 96,
     "metadata": {},
     "output_type": "execute_result"
    }
   ],
   "source": [
    "sum(runs)"
   ]
  },
  {
   "cell_type": "code",
   "execution_count": 97,
   "id": "a5d6a5ae-67bb-4ce5-aced-a063ca86e49a",
   "metadata": {},
   "outputs": [
    {
     "data": {
      "text/plain": [
       "3"
      ]
     },
     "execution_count": 97,
     "metadata": {},
     "output_type": "execute_result"
    }
   ],
   "source": [
    "runs.count(99)"
   ]
  },
  {
   "cell_type": "code",
   "execution_count": 98,
   "id": "f00d1ddf-c3f6-4a71-bf20-8e7e08829df8",
   "metadata": {},
   "outputs": [
    {
     "data": {
      "text/plain": [
       "1"
      ]
     },
     "execution_count": 98,
     "metadata": {},
     "output_type": "execute_result"
    }
   ],
   "source": [
    "runs.index(99)"
   ]
  },
  {
   "cell_type": "code",
   "execution_count": 105,
   "id": "ffb4c12a-64d7-4e52-a6c8-487ce2fa9348",
   "metadata": {},
   "outputs": [],
   "source": [
    "runs.reverse()"
   ]
  },
  {
   "cell_type": "code",
   "execution_count": 106,
   "id": "926a8350-bb7b-4d28-8783-00cb3fb62689",
   "metadata": {},
   "outputs": [
    {
     "name": "stdout",
     "output_type": "stream",
     "text": [
      "[10, 99, 100, 50, 80, 200, 150, 20, 99, 99]\n"
     ]
    }
   ],
   "source": [
    "print(runs)"
   ]
  },
  {
   "cell_type": "code",
   "execution_count": null,
   "id": "3f0f6214-2893-4bcd-b412-2a6e6f2eaa13",
   "metadata": {},
   "outputs": [],
   "source": []
  },
  {
   "cell_type": "code",
   "execution_count": 108,
   "id": "6aca47d5-4daa-402b-9ee2-b008cf874af6",
   "metadata": {},
   "outputs": [
    {
     "data": {
      "text/plain": [
       "False"
      ]
     },
     "execution_count": 108,
     "metadata": {},
     "output_type": "execute_result"
    }
   ],
   "source": [
    "987349 in runs"
   ]
  },
  {
   "cell_type": "code",
   "execution_count": 109,
   "id": "57cf49d2-e980-4fa8-8920-1232dc748577",
   "metadata": {},
   "outputs": [],
   "source": [
    "l = [23, 4]\n",
    "l1 = [6, 8]"
   ]
  },
  {
   "cell_type": "code",
   "execution_count": 110,
   "id": "a0303ed9-8d9d-4af3-9ef6-2e11621d036b",
   "metadata": {},
   "outputs": [
    {
     "name": "stdout",
     "output_type": "stream",
     "text": [
      "[23, 4, 6, 8]\n"
     ]
    }
   ],
   "source": [
    "print(l + l1)"
   ]
  },
  {
   "cell_type": "code",
   "execution_count": null,
   "id": "c95bbe6b-d719-4309-956d-ea12306f582a",
   "metadata": {},
   "outputs": [],
   "source": []
  },
  {
   "cell_type": "code",
   "execution_count": 111,
   "id": "dfde6060-66b4-4df7-bfc9-68da65127388",
   "metadata": {},
   "outputs": [],
   "source": [
    "# Quiz"
   ]
  },
  {
   "cell_type": "code",
   "execution_count": 112,
   "id": "2b2789d4-b502-4f96-b782-61c171f90800",
   "metadata": {},
   "outputs": [
    {
     "name": "stdout",
     "output_type": "stream",
     "text": [
      "36 1 96 "
     ]
    }
   ],
   "source": [
    "nums = [12, 2, 1, 22, 23, 36]\n",
    "print(max(nums), end=' ')\n",
    "print(min(nums), end=' ')\n",
    "print(sum(nums), end=' ')"
   ]
  },
  {
   "cell_type": "code",
   "execution_count": 113,
   "id": "1e691dab-357c-4e40-9d7e-63cfb3baa913",
   "metadata": {},
   "outputs": [
    {
     "name": "stdout",
     "output_type": "stream",
     "text": [
      "0 2 2 "
     ]
    }
   ],
   "source": [
    "nums = [12, 2, 1, 22, 22, 23, 36]\n",
    " \n",
    "print(nums.count(4), end=' ')\n",
    "print(nums.count(22), end=' ')\n",
    "print(nums.index(1), end=' ')"
   ]
  },
  {
   "cell_type": "code",
   "execution_count": null,
   "id": "d20b8920-4f4b-470d-86fa-7a299256be0a",
   "metadata": {},
   "outputs": [],
   "source": []
  },
  {
   "cell_type": "code",
   "execution_count": null,
   "id": "5890a033-3579-4dca-8a11-0b427b19a414",
   "metadata": {},
   "outputs": [],
   "source": []
  },
  {
   "cell_type": "code",
   "execution_count": null,
   "id": "446d5c7e-35fb-437e-bd8b-8e69ebf42ee9",
   "metadata": {},
   "outputs": [],
   "source": []
  },
  {
   "cell_type": "code",
   "execution_count": null,
   "id": "b1e4c4d8-0ed0-4669-a737-089c08561529",
   "metadata": {},
   "outputs": [],
   "source": []
  },
  {
   "cell_type": "code",
   "execution_count": 12,
   "id": "a74a2ae4-6145-4523-9bda-f398d52ebb2e",
   "metadata": {},
   "outputs": [],
   "source": [
    "# max function"
   ]
  },
  {
   "cell_type": "code",
   "execution_count": null,
   "id": "fb317e8f-e544-4ee1-b3ce-a30282a8cdf2",
   "metadata": {},
   "outputs": [],
   "source": []
  },
  {
   "cell_type": "code",
   "execution_count": null,
   "id": "a2b79e89-a289-41e5-9acd-7bf4d7963b7d",
   "metadata": {},
   "outputs": [],
   "source": []
  },
  {
   "cell_type": "code",
   "execution_count": null,
   "id": "bc60935a-c1e8-4722-a408-d22dcf8208d8",
   "metadata": {},
   "outputs": [],
   "source": []
  },
  {
   "cell_type": "code",
   "execution_count": 14,
   "id": "28bb1ecd-de09-4b5c-902d-24192a945c3c",
   "metadata": {},
   "outputs": [],
   "source": [
    "# min function"
   ]
  },
  {
   "cell_type": "code",
   "execution_count": null,
   "id": "adbb87a3-26f6-453f-b0ba-e0488880bedc",
   "metadata": {},
   "outputs": [],
   "source": []
  },
  {
   "cell_type": "code",
   "execution_count": null,
   "id": "41fe0897-bbea-44ec-9431-39a5b1bac607",
   "metadata": {},
   "outputs": [],
   "source": []
  },
  {
   "cell_type": "code",
   "execution_count": 16,
   "id": "e80e1c82-fae2-4520-a6a6-a334b71f6e14",
   "metadata": {},
   "outputs": [],
   "source": [
    "## sum function"
   ]
  },
  {
   "cell_type": "code",
   "execution_count": null,
   "id": "282b0492-39da-40af-8264-275fd58ce8f0",
   "metadata": {},
   "outputs": [],
   "source": []
  },
  {
   "cell_type": "code",
   "execution_count": null,
   "id": "5413d8a2-156b-4250-bf3f-73c03012fcbc",
   "metadata": {},
   "outputs": [],
   "source": []
  },
  {
   "cell_type": "code",
   "execution_count": 21,
   "id": "43966c6f-c279-4fbc-b478-4bfce05c6785",
   "metadata": {},
   "outputs": [],
   "source": [
    "## count"
   ]
  },
  {
   "cell_type": "code",
   "execution_count": null,
   "id": "8081ac8c-b7dd-4674-a05a-5dc4f396a411",
   "metadata": {},
   "outputs": [],
   "source": []
  },
  {
   "cell_type": "code",
   "execution_count": null,
   "id": "47650903-0a58-4594-97e7-d45c5f346bf0",
   "metadata": {},
   "outputs": [],
   "source": []
  },
  {
   "cell_type": "code",
   "execution_count": null,
   "id": "84c3f8e5-3a0a-498b-936b-c88508e47f47",
   "metadata": {},
   "outputs": [],
   "source": []
  },
  {
   "cell_type": "code",
   "execution_count": null,
   "id": "0cb0dcce-68d3-4855-82f8-801e187e3f93",
   "metadata": {},
   "outputs": [],
   "source": []
  },
  {
   "cell_type": "code",
   "execution_count": 22,
   "id": "8435c86c-d887-4947-800f-a98b4c20b992",
   "metadata": {},
   "outputs": [],
   "source": [
    "# index"
   ]
  },
  {
   "cell_type": "code",
   "execution_count": null,
   "id": "4eb6e244-4a55-465d-828c-678b83d2b7ce",
   "metadata": {},
   "outputs": [],
   "source": []
  },
  {
   "cell_type": "code",
   "execution_count": null,
   "id": "982a1c96-50f5-4ff2-b043-ed90cc4b9d50",
   "metadata": {},
   "outputs": [],
   "source": []
  },
  {
   "cell_type": "code",
   "execution_count": null,
   "id": "38424681-5b8f-4262-9c37-6e435d90d868",
   "metadata": {},
   "outputs": [],
   "source": []
  },
  {
   "cell_type": "code",
   "execution_count": 35,
   "id": "8448951b-96ab-4fdf-a542-4c67ba52b005",
   "metadata": {},
   "outputs": [],
   "source": [
    "#dir(runs)"
   ]
  },
  {
   "cell_type": "code",
   "execution_count": 36,
   "id": "715ca966-e04e-4fc0-a3cd-f2a2c134cc74",
   "metadata": {},
   "outputs": [],
   "source": [
    "# reverse"
   ]
  },
  {
   "cell_type": "code",
   "execution_count": null,
   "id": "198d94e8-4388-43b7-8cd5-3449c627fb9d",
   "metadata": {},
   "outputs": [],
   "source": []
  },
  {
   "cell_type": "code",
   "execution_count": null,
   "id": "aff26235-9015-4a92-bb16-8764bbc8579f",
   "metadata": {},
   "outputs": [],
   "source": []
  },
  {
   "cell_type": "code",
   "execution_count": null,
   "id": "7a4b0dc2-e4a1-43ae-b2c0-32495f005673",
   "metadata": {},
   "outputs": [],
   "source": []
  },
  {
   "cell_type": "code",
   "execution_count": null,
   "id": "7ea346a6-a5f0-4559-9f06-7223bb0c7043",
   "metadata": {},
   "outputs": [],
   "source": []
  },
  {
   "cell_type": "code",
   "execution_count": 54,
   "id": "e4772dcb-7649-4f21-8f56-46c1445e3e43",
   "metadata": {},
   "outputs": [],
   "source": [
    "runs = [10, 99, 100, 50, 80, 200, 150, 20, 99, 99]"
   ]
  },
  {
   "cell_type": "code",
   "execution_count": 55,
   "id": "903472b7-af6b-4a8c-a737-26849a398a8f",
   "metadata": {},
   "outputs": [],
   "source": [
    "# Addidng 2 lists"
   ]
  },
  {
   "cell_type": "code",
   "execution_count": null,
   "id": "2862cb34-a1a2-44a8-ad0c-8858db70aa7a",
   "metadata": {},
   "outputs": [],
   "source": []
  },
  {
   "cell_type": "code",
   "execution_count": null,
   "id": "fc6df994-5435-4f3d-9ffd-f5a9328c6af3",
   "metadata": {},
   "outputs": [],
   "source": []
  },
  {
   "cell_type": "code",
   "execution_count": null,
   "id": "99f72549-b3ef-4d8b-800f-ca03f36f713a",
   "metadata": {},
   "outputs": [],
   "source": []
  },
  {
   "cell_type": "code",
   "execution_count": null,
   "id": "de9148a6-c3eb-463f-98a1-c6dc0a1e3a13",
   "metadata": {},
   "outputs": [],
   "source": []
  },
  {
   "cell_type": "code",
   "execution_count": null,
   "id": "acd8b981-8933-4bd9-958a-400948c2acc3",
   "metadata": {},
   "outputs": [],
   "source": []
  },
  {
   "cell_type": "code",
   "execution_count": 82,
   "id": "854fda04-1d1b-4aad-bd29-aada947148ea",
   "metadata": {},
   "outputs": [],
   "source": [
    "# Extend"
   ]
  },
  {
   "cell_type": "code",
   "execution_count": null,
   "id": "746f8e49-f55c-4c3f-a422-431f0eb49cd4",
   "metadata": {},
   "outputs": [],
   "source": []
  },
  {
   "cell_type": "code",
   "execution_count": null,
   "id": "90e162f7-e6f7-4b9a-ab94-da9d66a75e24",
   "metadata": {},
   "outputs": [],
   "source": []
  },
  {
   "cell_type": "code",
   "execution_count": null,
   "id": "8fc7444e-8f6a-4289-b6d9-a9e9fefc5d8e",
   "metadata": {},
   "outputs": [],
   "source": []
  },
  {
   "cell_type": "code",
   "execution_count": null,
   "id": "7d088bdc-ac7b-4012-a473-0ed2a3c819fc",
   "metadata": {},
   "outputs": [],
   "source": []
  },
  {
   "cell_type": "code",
   "execution_count": null,
   "id": "edcf01e5-d39a-4302-b5e1-ecb9f2afd51a",
   "metadata": {},
   "outputs": [],
   "source": []
  },
  {
   "cell_type": "code",
   "execution_count": null,
   "id": "c7464f98-b94f-4787-accc-3813c6741c14",
   "metadata": {},
   "outputs": [],
   "source": []
  },
  {
   "cell_type": "code",
   "execution_count": null,
   "id": "f40f7597-fadd-44f0-ab62-66f9bd9a2788",
   "metadata": {},
   "outputs": [],
   "source": []
  },
  {
   "cell_type": "code",
   "execution_count": null,
   "id": "2c097545-3e88-43e4-9d56-8b24c2f04a87",
   "metadata": {},
   "outputs": [],
   "source": []
  },
  {
   "cell_type": "code",
   "execution_count": null,
   "id": "9c97ab86-2b42-4f59-990c-9e7df0810d37",
   "metadata": {},
   "outputs": [],
   "source": []
  },
  {
   "cell_type": "code",
   "execution_count": null,
   "id": "e5687e96-80c1-40d8-bec1-6817b55cd1e3",
   "metadata": {},
   "outputs": [],
   "source": []
  },
  {
   "cell_type": "code",
   "execution_count": 94,
   "id": "82f685c6-bbe1-4606-beac-e1b0ce2841ce",
   "metadata": {},
   "outputs": [],
   "source": [
    "# In operator in lists"
   ]
  },
  {
   "cell_type": "code",
   "execution_count": null,
   "id": "c08f4af7-5e11-48c8-b506-b7a767041604",
   "metadata": {},
   "outputs": [],
   "source": []
  },
  {
   "cell_type": "code",
   "execution_count": null,
   "id": "ce8e3810-f1f0-4669-9a77-43520b4601f2",
   "metadata": {},
   "outputs": [],
   "source": []
  },
  {
   "cell_type": "code",
   "execution_count": null,
   "id": "04adcf10-c103-4cb7-8782-38f5eff31a22",
   "metadata": {},
   "outputs": [],
   "source": []
  },
  {
   "cell_type": "code",
   "execution_count": null,
   "id": "e2ccdf64-40b2-455b-8686-762dfb32d4c2",
   "metadata": {},
   "outputs": [],
   "source": []
  },
  {
   "cell_type": "code",
   "execution_count": null,
   "id": "85908970-092a-4745-b1a2-20dffe4dc7b5",
   "metadata": {},
   "outputs": [],
   "source": []
  },
  {
   "cell_type": "markdown",
   "id": "34fe4abb-011f-44a3-b1b3-316b36c86490",
   "metadata": {},
   "source": [
    "### List slicing"
   ]
  },
  {
   "cell_type": "code",
   "execution_count": 38,
   "id": "3c124351-5288-471a-ba79-eb299cf92254",
   "metadata": {},
   "outputs": [],
   "source": [
    "# List slicing doesnt affect the current list"
   ]
  },
  {
   "cell_type": "code",
   "execution_count": 30,
   "id": "593487b8-16de-432b-8bc2-4d9a079b6a40",
   "metadata": {},
   "outputs": [],
   "source": [
    "l = [2, 4, 5, 7, 8]"
   ]
  },
  {
   "cell_type": "code",
   "execution_count": 31,
   "id": "aaf763ce-de9c-4abd-bb53-f0dfc92a85d5",
   "metadata": {},
   "outputs": [
    {
     "name": "stdout",
     "output_type": "stream",
     "text": [
      "2\n"
     ]
    }
   ],
   "source": [
    "print(l[0])"
   ]
  },
  {
   "cell_type": "code",
   "execution_count": 32,
   "id": "f0c4f348-4f76-46a9-9229-0574f74ba77e",
   "metadata": {},
   "outputs": [
    {
     "name": "stdout",
     "output_type": "stream",
     "text": [
      "[2, 4, 5, 7, 8]\n"
     ]
    }
   ],
   "source": [
    "print(l[:5])"
   ]
  },
  {
   "cell_type": "code",
   "execution_count": 35,
   "id": "d935a922-a600-458c-a000-728299aa4eac",
   "metadata": {},
   "outputs": [],
   "source": [
    "# print(l[1,5])\n",
    "# This is not possible"
   ]
  },
  {
   "cell_type": "code",
   "execution_count": null,
   "id": "b6100a1e-88d7-47b4-a5cd-0a2bf52e2559",
   "metadata": {},
   "outputs": [],
   "source": []
  },
  {
   "cell_type": "code",
   "execution_count": 36,
   "id": "3cece760-198f-47b6-abc2-3bd731f86566",
   "metadata": {},
   "outputs": [
    {
     "data": {
      "text/plain": [
       "[4, 5]"
      ]
     },
     "execution_count": 36,
     "metadata": {},
     "output_type": "execute_result"
    }
   ],
   "source": [
    "l[1:3]"
   ]
  },
  {
   "cell_type": "code",
   "execution_count": 37,
   "id": "97a84f95-499b-4e95-99d1-8df33087fe37",
   "metadata": {},
   "outputs": [
    {
     "name": "stdout",
     "output_type": "stream",
     "text": [
      "[2, 4, 5, 7, 8]\n"
     ]
    }
   ],
   "source": [
    "print(l)"
   ]
  },
  {
   "cell_type": "code",
   "execution_count": 43,
   "id": "34e48224-6012-4996-9793-84418795482f",
   "metadata": {},
   "outputs": [],
   "source": [
    "# the 4 lines below from here will yield same output"
   ]
  },
  {
   "cell_type": "code",
   "execution_count": 39,
   "id": "09327581-e8fb-443b-a312-38e856e8f660",
   "metadata": {},
   "outputs": [],
   "source": [
    "x = l[:len(l)]"
   ]
  },
  {
   "cell_type": "code",
   "execution_count": 40,
   "id": "4e5f4dda-ca72-4b07-8438-b022616dbffd",
   "metadata": {},
   "outputs": [
    {
     "name": "stdout",
     "output_type": "stream",
     "text": [
      "[2, 4, 5, 7, 8] <class 'list'>\n"
     ]
    }
   ],
   "source": [
    "print(x, type(x))"
   ]
  },
  {
   "cell_type": "code",
   "execution_count": 41,
   "id": "a01ea743-4998-48b6-b241-d276c24a0302",
   "metadata": {},
   "outputs": [
    {
     "name": "stdout",
     "output_type": "stream",
     "text": [
      "[2, 4, 5, 7, 8]\n"
     ]
    }
   ],
   "source": [
    "print(l[:])"
   ]
  },
  {
   "cell_type": "code",
   "execution_count": 42,
   "id": "ae5c07a7-c79e-4fe9-bc73-0c9d765c9fac",
   "metadata": {},
   "outputs": [
    {
     "name": "stdout",
     "output_type": "stream",
     "text": [
      "[2, 4, 5, 7, 8]\n"
     ]
    }
   ],
   "source": [
    "print(l[0:len(l)])"
   ]
  },
  {
   "cell_type": "code",
   "execution_count": null,
   "id": "92ffdc7b-539c-4ee3-a5f9-16c543819109",
   "metadata": {},
   "outputs": [],
   "source": []
  },
  {
   "cell_type": "code",
   "execution_count": 44,
   "id": "19e9f33a-3e60-465f-81e4-00138697d02e",
   "metadata": {},
   "outputs": [],
   "source": [
    "# Quiz"
   ]
  },
  {
   "cell_type": "code",
   "execution_count": 45,
   "id": "929999e1-ac77-48bd-89eb-bd5a1fad5f9e",
   "metadata": {},
   "outputs": [
    {
     "name": "stdout",
     "output_type": "stream",
     "text": [
      "[1, 2, 3, 5]\n"
     ]
    }
   ],
   "source": [
    "nums = [1, 1, 2, 3, 5, 8, 13]\n",
    "print(nums[1:5])"
   ]
  },
  {
   "cell_type": "code",
   "execution_count": 46,
   "id": "ead51b98-7e0e-45a0-8209-f3eacf17f310",
   "metadata": {},
   "outputs": [
    {
     "name": "stdout",
     "output_type": "stream",
     "text": [
      "[0, 50, 100]\n"
     ]
    }
   ],
   "source": [
    "nums = [0, 25, 50, 75, 100]\n",
    "print(nums[0:5:2])"
   ]
  },
  {
   "cell_type": "code",
   "execution_count": 47,
   "id": "a9a0b35f-f184-4990-abe2-40d15d4d012e",
   "metadata": {},
   "outputs": [
    {
     "data": {
      "text/plain": [
       "False"
      ]
     },
     "execution_count": 47,
     "metadata": {},
     "output_type": "execute_result"
    }
   ],
   "source": [
    "nums[0:5:2] == [25, 75]"
   ]
  },
  {
   "cell_type": "code",
   "execution_count": null,
   "id": "8536569f-4769-4158-98fc-daa114f023df",
   "metadata": {},
   "outputs": [],
   "source": [
    "[25, 75]"
   ]
  },
  {
   "cell_type": "code",
   "execution_count": null,
   "id": "b5656dce-c20c-474a-adb4-6217f4ee15db",
   "metadata": {},
   "outputs": [],
   "source": []
  },
  {
   "cell_type": "code",
   "execution_count": null,
   "id": "476e75f4-6ba2-4713-913a-1f7407c5705a",
   "metadata": {},
   "outputs": [],
   "source": []
  },
  {
   "cell_type": "code",
   "execution_count": null,
   "id": "ba2358f4-bd22-4be5-a198-5504838367de",
   "metadata": {},
   "outputs": [],
   "source": []
  },
  {
   "cell_type": "code",
   "execution_count": 135,
   "id": "4c482a5f-5d41-4885-95d7-b3504504aaed",
   "metadata": {},
   "outputs": [],
   "source": [
    "# Sum of odd index elements\n",
    "# Sum of even index elements\n",
    "# Sum of Sachin scores in first 5 matches, last 5 matches"
   ]
  },
  {
   "cell_type": "code",
   "execution_count": 48,
   "id": "553ebaea-bf8f-42c7-96b1-747fc1cccd62",
   "metadata": {},
   "outputs": [],
   "source": [
    "# Od index elements"
   ]
  },
  {
   "cell_type": "code",
   "execution_count": 50,
   "id": "0020acde-5951-40da-9e18-87824765b406",
   "metadata": {},
   "outputs": [
    {
     "name": "stdout",
     "output_type": "stream",
     "text": [
      "[99, 50, 200, 20, 99]\n"
     ]
    }
   ],
   "source": [
    "runs = [10, 99, 100, 50, 80, 200, 150, 20, 99, 99]\n",
    "\n",
    "print(runs[1:len(runs):2])"
   ]
  },
  {
   "cell_type": "code",
   "execution_count": 51,
   "id": "48bbb0c0-db42-4d5e-85c9-88d5332525a8",
   "metadata": {},
   "outputs": [
    {
     "name": "stdout",
     "output_type": "stream",
     "text": [
      "[99, 50, 200, 20, 99]\n"
     ]
    }
   ],
   "source": [
    "print(runs[1::2])"
   ]
  },
  {
   "cell_type": "code",
   "execution_count": 53,
   "id": "7d7a58ae-72dc-4729-8ff2-daf277b7373d",
   "metadata": {},
   "outputs": [
    {
     "name": "stdout",
     "output_type": "stream",
     "text": [
      "907\n"
     ]
    }
   ],
   "source": [
    "total = 0\n",
    "for i in runs:\n",
    "    total += i\n",
    "print(total)"
   ]
  },
  {
   "cell_type": "code",
   "execution_count": 54,
   "id": "62c82d84-8a88-4174-a25d-a1c0f6f9a85f",
   "metadata": {},
   "outputs": [],
   "source": [
    "# sum function"
   ]
  },
  {
   "cell_type": "code",
   "execution_count": 55,
   "id": "13c72f10-773e-4d14-8663-4b96346f28f9",
   "metadata": {},
   "outputs": [
    {
     "data": {
      "text/plain": [
       "907"
      ]
     },
     "execution_count": 55,
     "metadata": {},
     "output_type": "execute_result"
    }
   ],
   "source": [
    "sum(runs)"
   ]
  },
  {
   "cell_type": "code",
   "execution_count": 56,
   "id": "c64627a8-9926-4dc8-a173-a4b51a71b68f",
   "metadata": {},
   "outputs": [
    {
     "name": "stdout",
     "output_type": "stream",
     "text": [
      "468\n"
     ]
    }
   ],
   "source": [
    "print(sum(runs[1::2]))"
   ]
  },
  {
   "cell_type": "code",
   "execution_count": 57,
   "id": "e1a9dc09-9996-437e-91a3-0340354e24de",
   "metadata": {},
   "outputs": [],
   "source": [
    "# sum of even index elements"
   ]
  },
  {
   "cell_type": "code",
   "execution_count": 58,
   "id": "12bb4ab8-fb0d-48a4-97b0-2f3ae2e9d589",
   "metadata": {},
   "outputs": [
    {
     "name": "stdout",
     "output_type": "stream",
     "text": [
      "439\n"
     ]
    }
   ],
   "source": [
    "print(sum(runs[0:len(runs):2]))"
   ]
  },
  {
   "cell_type": "code",
   "execution_count": 59,
   "id": "a0201768-837b-4552-8efa-b7cc095e499e",
   "metadata": {},
   "outputs": [
    {
     "name": "stdout",
     "output_type": "stream",
     "text": [
      "[10, 100, 80, 150, 99]\n"
     ]
    }
   ],
   "source": [
    "print(runs[0:len(runs):2])"
   ]
  },
  {
   "cell_type": "code",
   "execution_count": 60,
   "id": "99bdf889-cfd5-4d34-8dda-f7067c5cc071",
   "metadata": {},
   "outputs": [
    {
     "data": {
      "text/plain": [
       "[10, 99, 100, 50, 80, 200, 150, 20, 99, 99]"
      ]
     },
     "execution_count": 60,
     "metadata": {},
     "output_type": "execute_result"
    }
   ],
   "source": [
    "runs"
   ]
  },
  {
   "cell_type": "code",
   "execution_count": 62,
   "id": "a85dc943-a08e-4f7a-bc90-aba0c2e22d8a",
   "metadata": {},
   "outputs": [
    {
     "name": "stdout",
     "output_type": "stream",
     "text": [
      "439\n"
     ]
    }
   ],
   "source": [
    "print(sum(runs[::2]))"
   ]
  },
  {
   "cell_type": "code",
   "execution_count": 63,
   "id": "4005524d-59cf-4be1-8a4a-321e871703ab",
   "metadata": {},
   "outputs": [],
   "source": [
    "# sum of first 5 matches"
   ]
  },
  {
   "cell_type": "code",
   "execution_count": 64,
   "id": "4d81d90a-7b4a-436e-ab01-b6feebb7ea39",
   "metadata": {},
   "outputs": [
    {
     "name": "stdout",
     "output_type": "stream",
     "text": [
      "339\n"
     ]
    }
   ],
   "source": [
    "print(sum(runs[:5]))"
   ]
  },
  {
   "cell_type": "code",
   "execution_count": null,
   "id": "f0970c2e-d67b-4452-bbac-ae6ac3794482",
   "metadata": {},
   "outputs": [],
   "source": []
  },
  {
   "cell_type": "code",
   "execution_count": 66,
   "id": "3ca9bb01-f5d9-4487-bbc4-6bba242370fa",
   "metadata": {},
   "outputs": [],
   "source": [
    "# Negative indexing in slicing"
   ]
  },
  {
   "cell_type": "code",
   "execution_count": 67,
   "id": "91c24263-03f3-4055-b303-910de7f846b9",
   "metadata": {},
   "outputs": [
    {
     "data": {
      "text/plain": [
       "[2, 4, 5, 7, 8]"
      ]
     },
     "execution_count": 67,
     "metadata": {},
     "output_type": "execute_result"
    }
   ],
   "source": [
    "l"
   ]
  },
  {
   "cell_type": "code",
   "execution_count": 69,
   "id": "295b5ab6-08e9-4680-8eac-49d1434962d5",
   "metadata": {},
   "outputs": [
    {
     "data": {
      "text/plain": [
       "8"
      ]
     },
     "execution_count": 69,
     "metadata": {},
     "output_type": "execute_result"
    }
   ],
   "source": [
    "l[-1]"
   ]
  },
  {
   "cell_type": "code",
   "execution_count": 70,
   "id": "28cf77e0-50eb-4669-997a-a50f5568e762",
   "metadata": {},
   "outputs": [
    {
     "name": "stdout",
     "output_type": "stream",
     "text": [
      "[2, 4, 5, 7]\n"
     ]
    }
   ],
   "source": [
    "print(l[0:-1])"
   ]
  },
  {
   "cell_type": "code",
   "execution_count": 73,
   "id": "7a0b545d-f437-4aa0-8a51-42821f0834cd",
   "metadata": {},
   "outputs": [
    {
     "name": "stdout",
     "output_type": "stream",
     "text": [
      "[]\n"
     ]
    }
   ],
   "source": [
    "print(l[5:0])"
   ]
  },
  {
   "cell_type": "code",
   "execution_count": 76,
   "id": "27ae9a73-eb10-43e1-a8b8-b25e9ac8edd3",
   "metadata": {},
   "outputs": [
    {
     "name": "stdout",
     "output_type": "stream",
     "text": [
      "[8, 7, 5, 4, 2]\n"
     ]
    }
   ],
   "source": [
    "print(l[4::-1])"
   ]
  },
  {
   "cell_type": "code",
   "execution_count": 77,
   "id": "d6c9ad6e-c155-4395-9673-4c188d3e5f7b",
   "metadata": {},
   "outputs": [
    {
     "name": "stdout",
     "output_type": "stream",
     "text": [
      "[8, 7, 5, 4, 2]\n"
     ]
    }
   ],
   "source": [
    "print(l[4:-6:-1])"
   ]
  },
  {
   "cell_type": "code",
   "execution_count": 79,
   "id": "b7b0726c-7412-4a22-ba22-4859240faefb",
   "metadata": {},
   "outputs": [
    {
     "name": "stdout",
     "output_type": "stream",
     "text": [
      "[2, 4, 5, 7, 8]\n"
     ]
    }
   ],
   "source": [
    "print(l)"
   ]
  },
  {
   "cell_type": "code",
   "execution_count": 78,
   "id": "9208866c-b584-4f38-94fa-53d33aaa634d",
   "metadata": {},
   "outputs": [
    {
     "name": "stdout",
     "output_type": "stream",
     "text": [
      "[2, 4, 5, 7, 8]\n"
     ]
    }
   ],
   "source": [
    "print(l[::])"
   ]
  },
  {
   "cell_type": "code",
   "execution_count": 80,
   "id": "e984ceab-5fcb-49f1-9ed4-78e90c5b660f",
   "metadata": {},
   "outputs": [
    {
     "name": "stdout",
     "output_type": "stream",
     "text": [
      "[8, 7, 5, 4, 2]\n"
     ]
    }
   ],
   "source": [
    "print(l[::-1])"
   ]
  },
  {
   "cell_type": "code",
   "execution_count": null,
   "id": "1b987bd4-a7fe-4d6c-a95e-d514864594e9",
   "metadata": {},
   "outputs": [],
   "source": []
  },
  {
   "cell_type": "code",
   "execution_count": 82,
   "id": "419110da-5efd-4fa0-8c53-8d3c852ed1f3",
   "metadata": {},
   "outputs": [
    {
     "data": {
      "text/plain": [
       "[6, 5, 10]"
      ]
     },
     "execution_count": 82,
     "metadata": {},
     "output_type": "execute_result"
    }
   ],
   "source": [
    "l = [10, 2, 5, 3, 6]\n",
    "print(l[::-2])"
   ]
  },
  {
   "cell_type": "code",
   "execution_count": null,
   "id": "bd0fbba6-eb1a-44a2-89e0-900d3cd29caa",
   "metadata": {},
   "outputs": [],
   "source": []
  },
  {
   "cell_type": "code",
   "execution_count": 83,
   "id": "f4bd27fa-cb07-467b-8d8f-50a0b366a3ca",
   "metadata": {},
   "outputs": [],
   "source": [
    "# Score in last 5 matches"
   ]
  },
  {
   "cell_type": "code",
   "execution_count": 84,
   "id": "96a82480-ccf0-4c0f-94c8-e7ac4ab10f0e",
   "metadata": {},
   "outputs": [
    {
     "data": {
      "text/plain": [
       "[10, 99, 100, 50, 80, 200, 150, 20, 99, 99]"
      ]
     },
     "execution_count": 84,
     "metadata": {},
     "output_type": "execute_result"
    }
   ],
   "source": [
    "runs"
   ]
  },
  {
   "cell_type": "code",
   "execution_count": 86,
   "id": "a7e756d8-2f68-48cf-bdc2-4128746291e3",
   "metadata": {},
   "outputs": [
    {
     "data": {
      "text/plain": [
       "568"
      ]
     },
     "execution_count": 86,
     "metadata": {},
     "output_type": "execute_result"
    }
   ],
   "source": [
    "sum(runs[-5:])"
   ]
  },
  {
   "cell_type": "code",
   "execution_count": null,
   "id": "d7579339-fe7a-4614-b47d-cec483a8bca5",
   "metadata": {},
   "outputs": [],
   "source": []
  },
  {
   "cell_type": "code",
   "execution_count": null,
   "id": "99c3f777-3fb4-48de-a43b-5837dd593e9a",
   "metadata": {},
   "outputs": [],
   "source": []
  },
  {
   "cell_type": "code",
   "execution_count": 21,
   "id": "8caffc19-6462-4fc4-8bf5-db66d9f46cdd",
   "metadata": {},
   "outputs": [],
   "source": [
    "# Rotate the array"
   ]
  },
  {
   "cell_type": "code",
   "execution_count": 87,
   "id": "fa0efd97-f574-476d-ba0c-373e8bb6d001",
   "metadata": {},
   "outputs": [],
   "source": [
    "l = [1, 2, 3, 4, 5]"
   ]
  },
  {
   "cell_type": "code",
   "execution_count": 89,
   "id": "1608ec57-6f5d-4a24-aa7f-1238fe4ac364",
   "metadata": {},
   "outputs": [
    {
     "data": {
      "text/plain": [
       "[5]"
      ]
     },
     "execution_count": 89,
     "metadata": {},
     "output_type": "execute_result"
    }
   ],
   "source": [
    "[l[-1]]"
   ]
  },
  {
   "cell_type": "code",
   "execution_count": 90,
   "id": "968e375f-3a9a-49c4-bc8c-c05058f55b42",
   "metadata": {},
   "outputs": [
    {
     "data": {
      "text/plain": [
       "[1, 2, 3, 4]"
      ]
     },
     "execution_count": 90,
     "metadata": {},
     "output_type": "execute_result"
    }
   ],
   "source": [
    "l[0:-1]"
   ]
  },
  {
   "cell_type": "code",
   "execution_count": 91,
   "id": "c36d5022-00ad-44c9-947b-9d567469aece",
   "metadata": {},
   "outputs": [
    {
     "data": {
      "text/plain": [
       "[5, 1, 2, 3, 4]"
      ]
     },
     "execution_count": 91,
     "metadata": {},
     "output_type": "execute_result"
    }
   ],
   "source": [
    "[l[-1]] + l[0:-1]"
   ]
  },
  {
   "cell_type": "code",
   "execution_count": null,
   "id": "b83133dc-f7d4-4cc6-b743-3ca7880a8de7",
   "metadata": {},
   "outputs": [],
   "source": []
  },
  {
   "cell_type": "code",
   "execution_count": 92,
   "id": "13c30ee7-3f17-4d71-a2a8-ca402fa180dd",
   "metadata": {},
   "outputs": [
    {
     "name": "stdin",
     "output_type": "stream",
     "text": [
      " 5\n",
      " 1 2 3 4 5\n"
     ]
    },
    {
     "name": "stdout",
     "output_type": "stream",
     "text": [
      "5 1 2 3 4 "
     ]
    }
   ],
   "source": [
    "N = int(input())\n",
    "A = list(map(int, input().split()))\n",
    "\n",
    "new_list = [A[-1]] + A[0:-1]\n",
    "for i in new_list:\n",
    "    print(i, end=\" \")"
   ]
  },
  {
   "cell_type": "code",
   "execution_count": null,
   "id": "665fb387-8b6b-4e8f-bdcf-8af1efe8e0ae",
   "metadata": {},
   "outputs": [],
   "source": []
  },
  {
   "cell_type": "code",
   "execution_count": 120,
   "id": "bdb9744f-b09e-4125-9ead-e1adaec7d542",
   "metadata": {},
   "outputs": [
    {
     "data": {
      "text/plain": [
       "[5, 3, 4, 5]"
      ]
     },
     "execution_count": 120,
     "metadata": {},
     "output_type": "execute_result"
    }
   ],
   "source": [
    "[5] + [3, 4, 5]"
   ]
  },
  {
   "cell_type": "code",
   "execution_count": null,
   "id": "a6cd9f2a-027d-43cd-8a92-7a59d0e460b7",
   "metadata": {},
   "outputs": [],
   "source": []
  },
  {
   "cell_type": "code",
   "execution_count": 114,
   "id": "851759a8-5a94-485f-be92-0b8ec5dd12f3",
   "metadata": {},
   "outputs": [],
   "source": [
    "# Doubts"
   ]
  },
  {
   "cell_type": "code",
   "execution_count": 115,
   "id": "0faa0577-f478-45a9-b923-c8996967623e",
   "metadata": {},
   "outputs": [
    {
     "name": "stdin",
     "output_type": "stream",
     "text": [
      " 5 1 2 3 4 5\n"
     ]
    }
   ],
   "source": [
    "A = list(map(int, input().split()))"
   ]
  },
  {
   "cell_type": "code",
   "execution_count": 116,
   "id": "21d8b5d7-49c6-41fa-a48b-1aa9f4d9d090",
   "metadata": {},
   "outputs": [
    {
     "name": "stdout",
     "output_type": "stream",
     "text": [
      "[5, 1, 2, 3, 4, 5] <class 'list'>\n"
     ]
    }
   ],
   "source": [
    "print(A, type(A))"
   ]
  },
  {
   "cell_type": "code",
   "execution_count": 118,
   "id": "ee02bfa8-4215-43ea-90d6-74219a74ae1d",
   "metadata": {},
   "outputs": [
    {
     "name": "stdout",
     "output_type": "stream",
     "text": [
      "[1, 2, 3, 4, 5]\n"
     ]
    }
   ],
   "source": [
    "l = A[1:]\n",
    "print(l)"
   ]
  },
  {
   "cell_type": "code",
   "execution_count": null,
   "id": "168657e8-e221-42e0-a889-a76a49d538f1",
   "metadata": {},
   "outputs": [],
   "source": []
  }
 ],
 "metadata": {
  "kernelspec": {
   "display_name": "Python 3 (ipykernel)",
   "language": "python",
   "name": "python3"
  },
  "language_info": {
   "codemirror_mode": {
    "name": "ipython",
    "version": 3
   },
   "file_extension": ".py",
   "mimetype": "text/x-python",
   "name": "python",
   "nbconvert_exporter": "python",
   "pygments_lexer": "ipython3",
   "version": "3.9.7"
  }
 },
 "nbformat": 4,
 "nbformat_minor": 5
}
