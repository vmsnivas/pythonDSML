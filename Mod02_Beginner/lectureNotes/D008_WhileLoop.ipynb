{
 "cells": [
  {
   "cell_type": "markdown",
   "id": "9980b111-9f31-4468-bb05-c04ab44afe6b",
   "metadata": {},
   "source": [
    "## What are loops?\n",
    "- A loop is a control structure that is used to perform a set of instructions for a specific number of times."
   ]
  },
  {
   "cell_type": "markdown",
   "id": "2e207dc9-2c47-48ed-a090-1671bf3ee2e8",
   "metadata": {},
   "source": [
    "##### Loops are a programming element that repeat a portion of code a set number of times until the desired process is complete. Repetitive tasks are common in programming, and loops are essential to save time and minimize errors."
   ]
  },
  {
   "cell_type": "code",
   "execution_count": 24,
   "id": "030dd6e9-5d53-4c95-90b5-5c0e77e180e2",
   "metadata": {},
   "outputs": [
    {
     "name": "stdout",
     "output_type": "stream",
     "text": [
      "True\n"
     ]
    }
   ],
   "source": [
    "print(1 <= 5)"
   ]
  },
  {
   "cell_type": "code",
   "execution_count": 25,
   "id": "0c045d19-9f96-43cb-aad1-7528a49f64ed",
   "metadata": {},
   "outputs": [
    {
     "name": "stdout",
     "output_type": "stream",
     "text": [
      "3\n"
     ]
    }
   ],
   "source": [
    "x = 2\n",
    "x += 1\n",
    "print(x)"
   ]
  },
  {
   "cell_type": "code",
   "execution_count": 26,
   "id": "031dd8d4-b51e-48e0-b27e-93401f9498ba",
   "metadata": {},
   "outputs": [
    {
     "name": "stdout",
     "output_type": "stream",
     "text": [
      "Helicopter Shot\n",
      "Helicopter Shot\n",
      "Helicopter Shot\n",
      "Helicopter Shot\n",
      "Helicopter Shot\n",
      "Helicopter Shot\n"
     ]
    }
   ],
   "source": [
    "# initialization\n",
    "count = 0\n",
    "# When loop should run\n",
    "while count <= 5:\n",
    "    print(\"Helicopter Shot\")\n",
    "    count += 1   # Updation part\n"
   ]
  },
  {
   "cell_type": "code",
   "execution_count": 28,
   "id": "794faa85-f173-4b28-8349-740cb73bd3fb",
   "metadata": {},
   "outputs": [],
   "source": [
    "# Infinite loop\n",
    "# count = 1\n",
    "# while count <= 10:\n",
    "#     print(10)"
   ]
  },
  {
   "cell_type": "code",
   "execution_count": null,
   "id": "422b5103-7b29-4ae5-ab4d-8b982b6bcf82",
   "metadata": {},
   "outputs": [],
   "source": []
  },
  {
   "cell_type": "code",
   "execution_count": null,
   "id": "93b2b1ac-904f-4184-b595-cacf464a5d7e",
   "metadata": {},
   "outputs": [],
   "source": []
  },
  {
   "cell_type": "code",
   "execution_count": null,
   "id": "dc44a724-5297-4632-8830-cd733852c612",
   "metadata": {},
   "outputs": [],
   "source": []
  },
  {
   "cell_type": "code",
   "execution_count": null,
   "id": "1aefa84a-c6e3-4795-b0fb-0550c55415b4",
   "metadata": {},
   "outputs": [],
   "source": []
  },
  {
   "cell_type": "markdown",
   "id": "2379032f-4a44-45ea-b69a-78148c29de17",
   "metadata": {},
   "source": [
    "## While loop\n",
    "- The while loop keeps iterating over a certain set of operations as long as a certain condition holds True.\n"
   ]
  },
  {
   "cell_type": "code",
   "execution_count": null,
   "id": "c287bf6d-1eb5-463f-86a5-c4631579683d",
   "metadata": {},
   "outputs": [],
   "source": [
    "## Shopping list example"
   ]
  },
  {
   "cell_type": "markdown",
   "id": "fab564fe-8bae-46c5-b860-e6cda5979841",
   "metadata": {},
   "source": [
    "![image](../photos/whileloop.jpeg)"
   ]
  },
  {
   "cell_type": "code",
   "execution_count": null,
   "id": "38d1c34b-0f71-40b7-ad9d-70745e8c0313",
   "metadata": {},
   "outputs": [],
   "source": []
  },
  {
   "cell_type": "code",
   "execution_count": null,
   "id": "821fe1be-8ee7-442d-86db-4426b9bef077",
   "metadata": {},
   "outputs": [],
   "source": []
  },
  {
   "cell_type": "code",
   "execution_count": null,
   "id": "9fddb3d3-33d0-4299-9b3c-b477b4bc5aa9",
   "metadata": {},
   "outputs": [],
   "source": []
  },
  {
   "cell_type": "code",
   "execution_count": null,
   "id": "9f5e383e-b1c6-43e8-9e0b-2f68e85e5311",
   "metadata": {},
   "outputs": [],
   "source": []
  },
  {
   "cell_type": "code",
   "execution_count": null,
   "id": "2be0129d-01ec-43dc-a7ae-084dd5188987",
   "metadata": {},
   "outputs": [],
   "source": []
  },
  {
   "cell_type": "code",
   "execution_count": null,
   "id": "290b78e8-5508-4c6e-96b5-d90b3d1a3952",
   "metadata": {},
   "outputs": [],
   "source": []
  },
  {
   "cell_type": "code",
   "execution_count": null,
   "id": "454edd84-d32b-44ba-90fd-3093b78b90af",
   "metadata": {},
   "outputs": [],
   "source": []
  },
  {
   "cell_type": "code",
   "execution_count": null,
   "id": "ad3f721d-1bd8-4306-aa9d-40dc85c3bda2",
   "metadata": {},
   "outputs": [],
   "source": [
    "## print numbers from 1 to 10"
   ]
  },
  {
   "cell_type": "code",
   "execution_count": 21,
   "id": "faf2a44e-a051-481d-95e9-07815f62134c",
   "metadata": {},
   "outputs": [],
   "source": [
    "# Quiz "
   ]
  },
  {
   "cell_type": "code",
   "execution_count": 30,
   "id": "c5a9dc71-9bfa-41a5-b2d2-dbade8f77e05",
   "metadata": {},
   "outputs": [
    {
     "name": "stdout",
     "output_type": "stream",
     "text": [
      "1\n",
      "2\n",
      "3\n",
      "4\n",
      "5\n",
      "6\n",
      "7\n",
      "8\n",
      "9\n",
      "10\n"
     ]
    }
   ],
   "source": [
    "count = 1\n",
    "while count <= 10:\n",
    "    print(count)\n",
    "    count += 1"
   ]
  },
  {
   "cell_type": "code",
   "execution_count": 31,
   "id": "597d6f23-133e-460f-810f-3cd31ad42368",
   "metadata": {},
   "outputs": [
    {
     "name": "stdout",
     "output_type": "stream",
     "text": [
      "1\n",
      "2\n",
      "3\n",
      "4\n",
      "5\n",
      "6\n",
      "7\n",
      "8\n",
      "9\n"
     ]
    }
   ],
   "source": [
    "count = 1\n",
    "while count < 10:\n",
    "    print(count)\n",
    "    count += 1"
   ]
  },
  {
   "cell_type": "code",
   "execution_count": null,
   "id": "c459b620-8443-4c8e-83aa-2a97c44c669a",
   "metadata": {},
   "outputs": [],
   "source": []
  },
  {
   "cell_type": "code",
   "execution_count": null,
   "id": "b51d4543-c237-49af-bf8a-329584d1dd8b",
   "metadata": {},
   "outputs": [],
   "source": []
  },
  {
   "cell_type": "code",
   "execution_count": null,
   "id": "e86b218c-5be6-42b0-bbf5-6646af28ecbf",
   "metadata": {},
   "outputs": [],
   "source": [
    "## print numbers from 10 to 1"
   ]
  },
  {
   "cell_type": "code",
   "execution_count": 32,
   "id": "b71513ec-c647-40ef-91a7-92e0a0b8992a",
   "metadata": {},
   "outputs": [
    {
     "name": "stdout",
     "output_type": "stream",
     "text": [
      "10\n",
      "9\n",
      "8\n",
      "7\n",
      "6\n",
      "5\n",
      "4\n",
      "3\n",
      "2\n",
      "1\n"
     ]
    }
   ],
   "source": [
    "count = 10\n",
    "while count >= 1:\n",
    "    print(count)\n",
    "    count -= 1"
   ]
  },
  {
   "cell_type": "code",
   "execution_count": 33,
   "id": "6a008303-b224-48c7-a1a4-ecb8ef67f764",
   "metadata": {},
   "outputs": [],
   "source": [
    "count = 10\n",
    "while count <= 1:\n",
    "    print(count)\n",
    "    count -= 1"
   ]
  },
  {
   "cell_type": "code",
   "execution_count": null,
   "id": "644d2807-3693-49ee-8e94-28de8b432177",
   "metadata": {},
   "outputs": [],
   "source": []
  },
  {
   "cell_type": "code",
   "execution_count": null,
   "id": "400926f3-44bd-4def-b315-0ada5beaa172",
   "metadata": {},
   "outputs": [],
   "source": []
  },
  {
   "cell_type": "code",
   "execution_count": null,
   "id": "c4140993-33ad-4ae2-bb97-5b3d2415218b",
   "metadata": {},
   "outputs": [],
   "source": []
  },
  {
   "cell_type": "code",
   "execution_count": 1,
   "id": "656fbd12-8348-44d5-a3c0-0bad8ff61447",
   "metadata": {},
   "outputs": [],
   "source": [
    "## print all even numbers between 2 to 10"
   ]
  },
  {
   "cell_type": "code",
   "execution_count": null,
   "id": "3608b021-7eaa-4018-812a-a9dc32cf99b9",
   "metadata": {},
   "outputs": [],
   "source": [
    "# check for a number if it is even"
   ]
  },
  {
   "cell_type": "code",
   "execution_count": 22,
   "id": "0feace85-5ed4-4365-b6bc-a8505a847179",
   "metadata": {},
   "outputs": [],
   "source": [
    "# Quiz 2"
   ]
  },
  {
   "cell_type": "code",
   "execution_count": 35,
   "id": "a51664e6-3491-4eea-a674-f1ac0fc3d061",
   "metadata": {},
   "outputs": [],
   "source": [
    "count = 3\n",
    "if count % 2 == 0:\n",
    "    print(True)"
   ]
  },
  {
   "cell_type": "code",
   "execution_count": 38,
   "id": "e29ce627-640f-472d-806d-93374d798868",
   "metadata": {},
   "outputs": [
    {
     "name": "stdout",
     "output_type": "stream",
     "text": [
      "2\n",
      "4\n",
      "6\n",
      "8\n",
      "10\n"
     ]
    }
   ],
   "source": [
    "count = 2\n",
    "while count <= 10:\n",
    "    if count % 2 == 0:\n",
    "        print(count)\n",
    "    count += 1"
   ]
  },
  {
   "cell_type": "code",
   "execution_count": 39,
   "id": "38e9cf29-06c6-4fc7-b564-e61add3a2f47",
   "metadata": {},
   "outputs": [
    {
     "name": "stdout",
     "output_type": "stream",
     "text": [
      "2\n",
      "4\n",
      "6\n",
      "8\n",
      "10\n"
     ]
    }
   ],
   "source": [
    "count = 2\n",
    "while count <= 10:\n",
    "    print(count)\n",
    "    count += 2"
   ]
  },
  {
   "cell_type": "code",
   "execution_count": 1,
   "id": "9b5d2171-0d66-4dca-8bd4-f0e11a5d94b0",
   "metadata": {},
   "outputs": [
    {
     "ename": "NameError",
     "evalue": "name 'i' is not defined",
     "output_type": "error",
     "traceback": [
      "\u001b[0;31m---------------------------------------------------------------------------\u001b[0m",
      "\u001b[0;31mNameError\u001b[0m                                 Traceback (most recent call last)",
      "\u001b[0;32m/var/folders/zn/hkv6562d6_d30glfs8yc76900000gn/T/ipykernel_22856/173361336.py\u001b[0m in \u001b[0;36m<module>\u001b[0;34m\u001b[0m\n\u001b[1;32m      1\u001b[0m \u001b[0mN\u001b[0m \u001b[0;34m=\u001b[0m \u001b[0;36m2\u001b[0m\u001b[0;34m\u001b[0m\u001b[0;34m\u001b[0m\u001b[0m\n\u001b[0;32m----> 2\u001b[0;31m \u001b[0;32mwhile\u001b[0m \u001b[0mi\u001b[0m \u001b[0;34m<=\u001b[0m \u001b[0mN\u001b[0m\u001b[0;34m:\u001b[0m\u001b[0;34m\u001b[0m\u001b[0;34m\u001b[0m\u001b[0m\n\u001b[0m\u001b[1;32m      3\u001b[0m     \u001b[0mprint\u001b[0m\u001b[0;34m(\u001b[0m\u001b[0mi\u001b[0m\u001b[0;34m)\u001b[0m\u001b[0;34m\u001b[0m\u001b[0;34m\u001b[0m\u001b[0m\n\u001b[1;32m      4\u001b[0m     \u001b[0mi\u001b[0m \u001b[0;34m+=\u001b[0m \u001b[0;36m1\u001b[0m\u001b[0;34m\u001b[0m\u001b[0;34m\u001b[0m\u001b[0m\n\u001b[1;32m      5\u001b[0m \u001b[0;34m\u001b[0m\u001b[0m\n",
      "\u001b[0;31mNameError\u001b[0m: name 'i' is not defined"
     ]
    }
   ],
   "source": [
    "N = 2\n",
    "while i <= N:\n",
    "    print(i)\n",
    "    i += 1\n",
    "\n",
    "print(5)"
   ]
  },
  {
   "cell_type": "code",
   "execution_count": null,
   "id": "f555cca5-64d5-479e-974e-25cfbb2197a3",
   "metadata": {},
   "outputs": [],
   "source": []
  },
  {
   "cell_type": "code",
   "execution_count": 3,
   "id": "902767fa-d391-4e78-b99e-05e543e44825",
   "metadata": {},
   "outputs": [
    {
     "name": "stdout",
     "output_type": "stream",
     "text": [
      "2\n",
      "4\n",
      "6\n",
      "8\n",
      "10\n"
     ]
    }
   ],
   "source": [
    "count = 2\n",
    "while count <= 10:\n",
    "    if count % 2 == 0:\n",
    "        print(count)\n",
    "        # count += 1\n",
    "    count += 1"
   ]
  },
  {
   "cell_type": "code",
   "execution_count": null,
   "id": "8befc6c0-613f-4cb4-b484-3170d3d82bfe",
   "metadata": {},
   "outputs": [],
   "source": []
  },
  {
   "cell_type": "code",
   "execution_count": null,
   "id": "8c49ead6-4dfc-4de7-8f0a-db394a09ea14",
   "metadata": {},
   "outputs": [],
   "source": []
  },
  {
   "cell_type": "code",
   "execution_count": null,
   "id": "fc1e42a7-210e-43d9-ba9a-19de8a4ca3f9",
   "metadata": {},
   "outputs": [],
   "source": []
  },
  {
   "cell_type": "code",
   "execution_count": null,
   "id": "b5987b53-d79a-42c7-8d42-bf1f98cb5785",
   "metadata": {},
   "outputs": [],
   "source": [
    "## Print all Odd number from 1 to 10"
   ]
  },
  {
   "cell_type": "code",
   "execution_count": null,
   "id": "3a95fdd2-3956-41aa-8db9-bc8bb648d437",
   "metadata": {},
   "outputs": [],
   "source": [
    "# odd"
   ]
  },
  {
   "cell_type": "code",
   "execution_count": 4,
   "id": "ec40ccec-cfbf-4dd7-9c95-ef72e876ed62",
   "metadata": {},
   "outputs": [
    {
     "name": "stdout",
     "output_type": "stream",
     "text": [
      "1\n",
      "3\n",
      "5\n",
      "7\n",
      "9\n"
     ]
    }
   ],
   "source": [
    "count = 1\n",
    "while count <= 10:\n",
    "    print(count)\n",
    "    count += 2"
   ]
  },
  {
   "cell_type": "code",
   "execution_count": null,
   "id": "ba278c96-533e-494b-99a0-d9b4903d041f",
   "metadata": {},
   "outputs": [],
   "source": []
  },
  {
   "cell_type": "code",
   "execution_count": 5,
   "id": "c9a76bdf-8b71-4a4f-bf5e-665d6e36ad14",
   "metadata": {},
   "outputs": [
    {
     "name": "stdout",
     "output_type": "stream",
     "text": [
      "0\n",
      "1\n",
      "2\n",
      "5\n"
     ]
    }
   ],
   "source": [
    "N = 2\n",
    "i = 0\n",
    "while i <= N:\n",
    "    print(i)\n",
    "    i += 1\n",
    "\n",
    "print(5)"
   ]
  },
  {
   "cell_type": "code",
   "execution_count": null,
   "id": "7ff94bb9-2add-494b-8077-1790f4aded17",
   "metadata": {},
   "outputs": [],
   "source": []
  },
  {
   "cell_type": "code",
   "execution_count": null,
   "id": "e27aed67-b6cc-4e9b-9990-9097f7648e6d",
   "metadata": {},
   "outputs": [],
   "source": []
  },
  {
   "cell_type": "code",
   "execution_count": null,
   "id": "699bfb54-ebbe-4cc1-8fde-ee90830182ae",
   "metadata": {},
   "outputs": [],
   "source": []
  },
  {
   "cell_type": "code",
   "execution_count": null,
   "id": "1b1f7e8d-abb0-4172-a0ee-b4126b40fad5",
   "metadata": {},
   "outputs": [],
   "source": []
  },
  {
   "cell_type": "code",
   "execution_count": null,
   "id": "cf575bdd-0545-4823-9d80-ef00e3b72ebf",
   "metadata": {},
   "outputs": [],
   "source": []
  },
  {
   "cell_type": "code",
   "execution_count": null,
   "id": "4392d2d5-d575-4dbb-82d8-cf9033e9a41a",
   "metadata": {},
   "outputs": [],
   "source": []
  },
  {
   "cell_type": "code",
   "execution_count": null,
   "id": "9f70c72e-b411-4751-a0a5-a3fcb82ec8b3",
   "metadata": {},
   "outputs": [],
   "source": []
  },
  {
   "cell_type": "code",
   "execution_count": 3,
   "id": "2c102614-896f-4800-a324-d712dabec8ae",
   "metadata": {},
   "outputs": [],
   "source": [
    "# Print all even numbers from 1 to 10 in a single line"
   ]
  },
  {
   "cell_type": "code",
   "execution_count": 4,
   "id": "18fadadd-8391-4272-b80a-cbdfcda39c8f",
   "metadata": {},
   "outputs": [],
   "source": [
    "# Go for print statement"
   ]
  },
  {
   "cell_type": "code",
   "execution_count": 10,
   "id": "17ffdc55-f1dd-416a-88dc-df8bead8846d",
   "metadata": {},
   "outputs": [
    {
     "name": "stdin",
     "output_type": "stream",
     "text": [
      " 10\n"
     ]
    },
    {
     "name": "stdout",
     "output_type": "stream",
     "text": [
      "12345678910"
     ]
    }
   ],
   "source": [
    "n = int(input())\n",
    "i = 1\n",
    "\n",
    "while i <= n:\n",
    "    print(i, end=\"\")\n",
    "    i += 1"
   ]
  },
  {
   "cell_type": "code",
   "execution_count": 14,
   "id": "5f25e8c3-d0a1-4f4c-a375-25d8c29a414f",
   "metadata": {},
   "outputs": [
    {
     "name": "stdin",
     "output_type": "stream",
     "text": [
      " 10\n"
     ]
    },
    {
     "name": "stdout",
     "output_type": "stream",
     "text": [
      "1\n",
      "2\n",
      "3\n",
      "4\n",
      "5\n",
      "6\n",
      "7\n",
      "8\n",
      "9\n",
      "10\n"
     ]
    }
   ],
   "source": [
    "n = int(input())\n",
    "i = 1\n",
    "\n",
    "while i <= n:\n",
    "    print(i, end='\\n')\n",
    "    i += 1"
   ]
  },
  {
   "cell_type": "code",
   "execution_count": 15,
   "id": "8024a5e6-a5ac-4f7e-8749-19437dbd318b",
   "metadata": {},
   "outputs": [
    {
     "name": "stdin",
     "output_type": "stream",
     "text": [
      " 10\n"
     ]
    },
    {
     "name": "stdout",
     "output_type": "stream",
     "text": [
      "1 2 3 4 5 6 7 8 9 10 "
     ]
    }
   ],
   "source": [
    "n = int(input())\n",
    "i = 1\n",
    "\n",
    "while i <= n:\n",
    "    print(i, end=\" \")\n",
    "    i += 1"
   ]
  },
  {
   "cell_type": "code",
   "execution_count": 17,
   "id": "343c14b9-e9c4-459a-886d-e1e542195722",
   "metadata": {},
   "outputs": [
    {
     "name": "stdin",
     "output_type": "stream",
     "text": [
      " 10\n"
     ]
    },
    {
     "name": "stdout",
     "output_type": "stream",
     "text": [
      "1,2,3,4,5,6,7,8,9,10,"
     ]
    }
   ],
   "source": [
    "n = int(input())\n",
    "i = 1\n",
    "\n",
    "while i <= n:\n",
    "    print(i, end=\",\")\n",
    "    i += 1"
   ]
  },
  {
   "cell_type": "code",
   "execution_count": 18,
   "id": "7542cd36-082f-4860-95c7-3bb7e58fef49",
   "metadata": {},
   "outputs": [
    {
     "name": "stdin",
     "output_type": "stream",
     "text": [
      " 10\n"
     ]
    },
    {
     "name": "stdout",
     "output_type": "stream",
     "text": [
      "1 rahul 2 rahul 3 rahul 4 rahul 5 rahul 6 rahul 7 rahul 8 rahul 9 rahul 10 rahul "
     ]
    }
   ],
   "source": [
    "n = int(input())\n",
    "i = 1\n",
    "\n",
    "while i <= n:\n",
    "    print(i, end=\" rahul \")\n",
    "    i += 1"
   ]
  },
  {
   "cell_type": "code",
   "execution_count": 19,
   "id": "1e423adf-db9b-4e95-8826-22e524c24f78",
   "metadata": {},
   "outputs": [
    {
     "name": "stdin",
     "output_type": "stream",
     "text": [
      " 10\n"
     ]
    },
    {
     "name": "stdout",
     "output_type": "stream",
     "text": [
      "1 -> 2 -> 3 -> 4 -> 5 -> 6 -> 7 -> 8 -> 9 -> 10 -> "
     ]
    }
   ],
   "source": [
    "n = int(input())\n",
    "i = 1\n",
    "\n",
    "while i <= n:\n",
    "    print(i, end=\" -> \")\n",
    "    i += 1"
   ]
  },
  {
   "cell_type": "code",
   "execution_count": null,
   "id": "7b90f608-202a-4d6b-bec8-9e46679471c3",
   "metadata": {},
   "outputs": [],
   "source": []
  },
  {
   "cell_type": "code",
   "execution_count": 20,
   "id": "b0ce2dc8-d753-4677-945c-c96c1cd9064a",
   "metadata": {},
   "outputs": [
    {
     "name": "stdout",
     "output_type": "stream",
     "text": [
      "abbc"
     ]
    }
   ],
   "source": [
    "print(\"a\",end=\"b\")\n",
    "print(\"b\", end=\"c\")"
   ]
  },
  {
   "cell_type": "code",
   "execution_count": 23,
   "id": "3c0a7fe4-c9d0-4222-80d3-c30830f8c931",
   "metadata": {},
   "outputs": [
    {
     "name": "stdout",
     "output_type": "stream",
     "text": [
      "a\n",
      "bcd\n",
      "e\n"
     ]
    }
   ],
   "source": [
    "print(\"a\")\n",
    "print(\"b\", end=\"c\")\n",
    "print(\"d\")\n",
    "print(\"e\")"
   ]
  },
  {
   "cell_type": "code",
   "execution_count": 16,
   "id": "90d6d703-8ed0-4fd5-8961-6cd4dc4a5924",
   "metadata": {},
   "outputs": [
    {
     "name": "stdout",
     "output_type": "stream",
     "text": [
      "Hi how are you Hi I am doing well!!\n"
     ]
    }
   ],
   "source": [
    "print(\"Hi how are you\", end=\" \")\n",
    "print(\"Hi I am doing well!!\")"
   ]
  },
  {
   "cell_type": "code",
   "execution_count": null,
   "id": "813a55bc-424d-44bf-924d-6b9ae3e60d3a",
   "metadata": {},
   "outputs": [],
   "source": []
  },
  {
   "cell_type": "code",
   "execution_count": null,
   "id": "21531c90-8f19-4cfa-bb54-1b3bcf599060",
   "metadata": {},
   "outputs": [],
   "source": []
  },
  {
   "cell_type": "code",
   "execution_count": 13,
   "id": "62a0ea69-2344-4ed3-b874-4caa4d09cf63",
   "metadata": {},
   "outputs": [],
   "source": [
    "# print multiple table of 4 in a single line"
   ]
  },
  {
   "cell_type": "code",
   "execution_count": 25,
   "id": "51dc9c0b-208c-4acf-b46a-65d4765d6499",
   "metadata": {},
   "outputs": [
    {
     "name": "stdout",
     "output_type": "stream",
     "text": [
      "4 8 12 16 20 24 28 32 36 40 "
     ]
    }
   ],
   "source": [
    "count = 4\n",
    "while count <= 40:\n",
    "    print(count, end=\" \")\n",
    "    count += 4"
   ]
  },
  {
   "cell_type": "code",
   "execution_count": null,
   "id": "50ea4f25-6684-43e1-9471-24b2249910ad",
   "metadata": {},
   "outputs": [],
   "source": []
  },
  {
   "cell_type": "code",
   "execution_count": null,
   "id": "7babc0d2-2f31-454e-824e-3c9ff394063f",
   "metadata": {},
   "outputs": [],
   "source": []
  },
  {
   "cell_type": "code",
   "execution_count": null,
   "id": "24ae594b-f4a2-40a1-a238-4ad5174fe872",
   "metadata": {},
   "outputs": [],
   "source": []
  },
  {
   "cell_type": "code",
   "execution_count": null,
   "id": "ea28ce0a-fe7f-4a78-991f-de3738b11876",
   "metadata": {},
   "outputs": [],
   "source": []
  },
  {
   "cell_type": "code",
   "execution_count": null,
   "id": "6d3b76df-03a9-47e3-8838-bc76f1ed9df1",
   "metadata": {},
   "outputs": [],
   "source": []
  },
  {
   "cell_type": "code",
   "execution_count": null,
   "id": "14abb33c-788e-4fb5-af90-9fdc8359a4be",
   "metadata": {},
   "outputs": [],
   "source": []
  },
  {
   "cell_type": "code",
   "execution_count": 14,
   "id": "e6356b87-bdab-465b-b278-08e89d285539",
   "metadata": {},
   "outputs": [],
   "source": [
    "# print multiple table of N"
   ]
  },
  {
   "cell_type": "code",
   "execution_count": 37,
   "id": "dadc8a26-7d81-457f-8f30-f2b618e266ba",
   "metadata": {},
   "outputs": [
    {
     "name": "stdin",
     "output_type": "stream",
     "text": [
      " 4\n"
     ]
    },
    {
     "name": "stdout",
     "output_type": "stream",
     "text": [
      "4 8 12 16 20 24 28 32 36 40 "
     ]
    }
   ],
   "source": [
    "n = int(input())\n",
    "count = n\n",
    "\n",
    "while count <= n * 10:\n",
    "    print(count, end=\" \")\n",
    "    count += n"
   ]
  },
  {
   "cell_type": "code",
   "execution_count": null,
   "id": "02411434-9bc0-4dba-9b2f-d33cd2f265b7",
   "metadata": {},
   "outputs": [],
   "source": []
  },
  {
   "cell_type": "code",
   "execution_count": null,
   "id": "204748ae-e180-4dee-9274-27d7148ef5c7",
   "metadata": {},
   "outputs": [],
   "source": []
  },
  {
   "cell_type": "code",
   "execution_count": null,
   "id": "3579db19-6bda-40af-9622-bfce9e61e8e1",
   "metadata": {},
   "outputs": [],
   "source": []
  },
  {
   "cell_type": "code",
   "execution_count": null,
   "id": "55798e3f-70ed-4e0d-886c-a8a424f90bc6",
   "metadata": {},
   "outputs": [],
   "source": []
  },
  {
   "cell_type": "code",
   "execution_count": null,
   "id": "b00e0134-023d-438c-80df-2f2087edbcd9",
   "metadata": {},
   "outputs": [],
   "source": []
  },
  {
   "cell_type": "code",
   "execution_count": null,
   "id": "14a8ffb8-d910-452e-93bf-ec3f017449db",
   "metadata": {},
   "outputs": [],
   "source": []
  },
  {
   "cell_type": "code",
   "execution_count": 38,
   "id": "a680c735-00e5-4810-84d2-e578263590b6",
   "metadata": {},
   "outputs": [],
   "source": [
    "# Taking T inputs from user"
   ]
  },
  {
   "cell_type": "code",
   "execution_count": 39,
   "id": "4f08a8c2-5449-44d8-b772-9b6d9e3cc67d",
   "metadata": {},
   "outputs": [
    {
     "name": "stdin",
     "output_type": "stream",
     "text": [
      "Input for n Rahul\n",
      "Input for n1 janghu\n",
      "Input for n2 Akash\n"
     ]
    }
   ],
   "source": [
    "# 3 inputs\n",
    "n = input(\"Input for n\")\n",
    "n1 = input(\"Input for n1\")\n",
    "n2 = input(\"Input for n2\")"
   ]
  },
  {
   "cell_type": "code",
   "execution_count": null,
   "id": "841a4df6-0b49-4f92-8bf1-6c5b64c2da41",
   "metadata": {},
   "outputs": [],
   "source": []
  },
  {
   "cell_type": "code",
   "execution_count": 8,
   "id": "2ddbbaae-85cd-4aac-8960-20148505f397",
   "metadata": {
    "tags": []
   },
   "outputs": [
    {
     "name": "stdin",
     "output_type": "stream",
     "text": [
      " 5\n",
      " 1\n",
      " 2\n",
      " 3\n",
      " 4\n",
      " 5\n"
     ]
    }
   ],
   "source": [
    "T = int(input())\n",
    "count = 0\n",
    "while count < T:\n",
    "    n = input()\n",
    "    count += 1"
   ]
  },
  {
   "cell_type": "code",
   "execution_count": 9,
   "id": "4a461111-d800-43a8-bf7a-5dfc99558918",
   "metadata": {},
   "outputs": [],
   "source": [
    "# DO hit and Trial at home under the supervision of Stackoverflow"
   ]
  },
  {
   "cell_type": "code",
   "execution_count": null,
   "id": "5ee293a4-ed2c-439d-ad86-0b1ba09f3833",
   "metadata": {},
   "outputs": [],
   "source": []
  },
  {
   "cell_type": "code",
   "execution_count": 13,
   "id": "fdae7657-129e-4678-ac01-7dc1f4161363",
   "metadata": {},
   "outputs": [
    {
     "name": "stdin",
     "output_type": "stream",
     "text": [
      " 3\n",
      "Table: 5\n"
     ]
    },
    {
     "name": "stdout",
     "output_type": "stream",
     "text": [
      "5 10 15 20 25 30 35 40 45 50 \n"
     ]
    },
    {
     "name": "stdin",
     "output_type": "stream",
     "text": [
      "Table: 4\n"
     ]
    },
    {
     "name": "stdout",
     "output_type": "stream",
     "text": [
      "4 8 12 16 20 24 28 32 36 40 \n"
     ]
    },
    {
     "name": "stdin",
     "output_type": "stream",
     "text": [
      "Table: 3\n"
     ]
    },
    {
     "name": "stdout",
     "output_type": "stream",
     "text": [
      "3 6 9 12 15 18 21 24 27 30 \n"
     ]
    }
   ],
   "source": [
    "T = int(input())\n",
    "count = 0\n",
    "while count < T:\n",
    "    n = int(input(\"Table:\"))\n",
    "    count += 1\n",
    "    # Next code is for table of n\n",
    "    i = n\n",
    "    while i <= n * 10:\n",
    "        print(i, end=\" \")\n",
    "        i += n\n",
    "    print()"
   ]
  },
  {
   "cell_type": "code",
   "execution_count": 12,
   "id": "a52b2992-f98e-4fec-be88-d1d17bbdf4a2",
   "metadata": {},
   "outputs": [],
   "source": [
    "# not equal !="
   ]
  },
  {
   "cell_type": "code",
   "execution_count": null,
   "id": "032db65c-cf1a-42a3-80a3-b86296a3accc",
   "metadata": {},
   "outputs": [],
   "source": []
  }
 ],
 "metadata": {
  "kernelspec": {
   "display_name": "Python 3 (ipykernel)",
   "language": "python",
   "name": "python3"
  },
  "language_info": {
   "codemirror_mode": {
    "name": "ipython",
    "version": 3
   },
   "file_extension": ".py",
   "mimetype": "text/x-python",
   "name": "python",
   "nbconvert_exporter": "python",
   "pygments_lexer": "ipython3",
   "version": "3.9.7"
  }
 },
 "nbformat": 4,
 "nbformat_minor": 5
}
