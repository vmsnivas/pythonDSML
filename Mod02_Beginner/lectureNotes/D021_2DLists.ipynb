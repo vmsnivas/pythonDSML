{
 "cells": [
  {
   "cell_type": "markdown",
   "id": "243a6604-43ea-414d-91ab-cf8aeff47641",
   "metadata": {},
   "source": [
    "# Nested Lists Introduction"
   ]
  },
  {
   "cell_type": "code",
   "execution_count": null,
   "id": "a09adeea-c4d5-4207-a1b6-5c7bf1fd0a13",
   "metadata": {},
   "outputs": [],
   "source": [
    "# Lets extend"
   ]
  },
  {
   "cell_type": "code",
   "execution_count": null,
   "id": "32b1d931-d7ef-443c-8c00-57a20cedab82",
   "metadata": {},
   "outputs": [],
   "source": [
    "# What about append first?"
   ]
  },
  {
   "cell_type": "code",
   "execution_count": 3,
   "id": "6d020625-9ffe-48d5-b1e5-4ae1873a2402",
   "metadata": {},
   "outputs": [],
   "source": [
    "l = [1, 2, 3, 4]\n",
    "l1 = [5, 6, 7, 8]"
   ]
  },
  {
   "cell_type": "code",
   "execution_count": 4,
   "id": "2ce7821f-3882-4b47-a1a8-53c890854d7d",
   "metadata": {},
   "outputs": [
    {
     "name": "stdout",
     "output_type": "stream",
     "text": [
      "[[1, 2, 3, 4]]\n"
     ]
    }
   ],
   "source": [
    "l2 = []\n",
    "l2.append(l)\n",
    "print(l2)"
   ]
  },
  {
   "cell_type": "code",
   "execution_count": null,
   "id": "bf5baf99-0118-447c-9366-61e116c59ef2",
   "metadata": {},
   "outputs": [],
   "source": []
  },
  {
   "cell_type": "code",
   "execution_count": 5,
   "id": "822f005b-c418-45bf-b1e5-cbdfb345c573",
   "metadata": {},
   "outputs": [],
   "source": [
    "# extend"
   ]
  },
  {
   "cell_type": "code",
   "execution_count": 6,
   "id": "37f24c55-b5f5-4047-a34f-9959955a3a57",
   "metadata": {},
   "outputs": [
    {
     "name": "stdout",
     "output_type": "stream",
     "text": [
      "[1, 2, 3, 4]\n"
     ]
    }
   ],
   "source": [
    "l3 = []\n",
    "l3.extend(l)\n",
    "print(l3)"
   ]
  },
  {
   "cell_type": "code",
   "execution_count": 8,
   "id": "3db16749-4495-49d3-be41-a9b8a93d783b",
   "metadata": {},
   "outputs": [
    {
     "name": "stdout",
     "output_type": "stream",
     "text": [
      "[1, 2, 3, 4]\n"
     ]
    }
   ],
   "source": [
    "print(l)"
   ]
  },
  {
   "cell_type": "code",
   "execution_count": null,
   "id": "725ae14e-b345-4b95-832e-29ff1f142a72",
   "metadata": {},
   "outputs": [],
   "source": []
  },
  {
   "cell_type": "code",
   "execution_count": 9,
   "id": "35fc949b-fe4f-42b4-abaa-27dea58e5b51",
   "metadata": {},
   "outputs": [],
   "source": [
    "# Quiz"
   ]
  },
  {
   "cell_type": "code",
   "execution_count": 10,
   "id": "fc9dd369-c78c-4b22-863a-19f12f410239",
   "metadata": {},
   "outputs": [
    {
     "name": "stdout",
     "output_type": "stream",
     "text": [
      "[1, 2, 0, 3, 3]\n"
     ]
    }
   ],
   "source": [
    "l = [1, 2]\n",
    "l.append(0) \n",
    "l2 = [3]\n",
    "l.extend(l2)\n",
    "l = l + l2\n",
    "print(l)"
   ]
  },
  {
   "cell_type": "code",
   "execution_count": null,
   "id": "b05b3db6-7876-4664-a77a-371da01473d8",
   "metadata": {},
   "outputs": [],
   "source": []
  },
  {
   "cell_type": "code",
   "execution_count": null,
   "id": "c962af85-b37c-47b1-82c6-f18daf2e18b4",
   "metadata": {},
   "outputs": [],
   "source": []
  },
  {
   "cell_type": "code",
   "execution_count": null,
   "id": "15f8ebf9-7f2b-4d52-85ff-558ff4086253",
   "metadata": {},
   "outputs": [],
   "source": []
  },
  {
   "cell_type": "markdown",
   "id": "eeabe7b9-c330-434e-aca4-f497eb1469ac",
   "metadata": {},
   "source": [
    "### Get a scores list including runs from all the formats"
   ]
  },
  {
   "cell_type": "code",
   "execution_count": 12,
   "id": "667af715-c6d5-462e-9b87-dcef4ab02e91",
   "metadata": {},
   "outputs": [],
   "source": [
    "odi = [100, 99, 20]\n",
    "test = [200, 150, 90, 180]\n",
    "t20 = [20, 50, 100]"
   ]
  },
  {
   "cell_type": "code",
   "execution_count": 13,
   "id": "214a090f-2089-4ba1-8d69-ccee5940c357",
   "metadata": {},
   "outputs": [],
   "source": [
    "# the two methods"
   ]
  },
  {
   "cell_type": "code",
   "execution_count": 14,
   "id": "91d58b51-c4db-4def-843a-ec167f57e3af",
   "metadata": {},
   "outputs": [],
   "source": [
    "score = []\n",
    "score.append(odi)\n",
    "score.append(test)\n",
    "score.append(t20)"
   ]
  },
  {
   "cell_type": "code",
   "execution_count": 15,
   "id": "2cb64c83-291e-4672-a18e-53b13f996af2",
   "metadata": {},
   "outputs": [
    {
     "name": "stdout",
     "output_type": "stream",
     "text": [
      "[[100, 99, 20], [200, 150, 90, 180], [20, 50, 100]]\n"
     ]
    }
   ],
   "source": [
    "print(score)"
   ]
  },
  {
   "cell_type": "code",
   "execution_count": 17,
   "id": "4379d2d0-c402-4f87-822e-d0589f64a65a",
   "metadata": {},
   "outputs": [],
   "source": [
    "# score1 = []\n",
    "# score1.append(odi, test, t20)"
   ]
  },
  {
   "cell_type": "code",
   "execution_count": 18,
   "id": "772b73e4-741a-4aec-a3ea-145ddec1b44d",
   "metadata": {},
   "outputs": [
    {
     "name": "stdout",
     "output_type": "stream",
     "text": [
      "[[100, 99, 20], [200, 150, 90, 180], [20, 50, 100]]\n"
     ]
    }
   ],
   "source": [
    "demo = [odi, test, t20]\n",
    "print(demo)"
   ]
  },
  {
   "cell_type": "code",
   "execution_count": null,
   "id": "bb9f71c9-0fce-41b0-90d9-8dc711e6f18b",
   "metadata": {},
   "outputs": [],
   "source": []
  },
  {
   "cell_type": "code",
   "execution_count": 20,
   "id": "ba94746f-e0ed-4bbb-b22b-1ec2e5876c29",
   "metadata": {},
   "outputs": [],
   "source": [
    "# If you are using extend method you will get op like following"
   ]
  },
  {
   "cell_type": "code",
   "execution_count": 21,
   "id": "686ac398-eeaf-4b46-9f3f-df2a834fd61c",
   "metadata": {},
   "outputs": [
    {
     "name": "stdout",
     "output_type": "stream",
     "text": [
      "[100, 99, 20, 200, 150, 90, 180, 20, 50, 100]\n"
     ]
    }
   ],
   "source": [
    "new = odi + test + t20  # new.extend(odi), new.extend(test)...\n",
    "print(new)"
   ]
  },
  {
   "cell_type": "code",
   "execution_count": null,
   "id": "efc6979f-5b33-4f02-ab40-99699dd2352b",
   "metadata": {},
   "outputs": [],
   "source": []
  },
  {
   "cell_type": "code",
   "execution_count": null,
   "id": "a97a6295-fb4a-4306-8c52-36df96165903",
   "metadata": {},
   "outputs": [],
   "source": []
  },
  {
   "cell_type": "code",
   "execution_count": null,
   "id": "7cf4d8c6-69f4-4107-9bae-ce34de832c20",
   "metadata": {},
   "outputs": [],
   "source": []
  },
  {
   "cell_type": "code",
   "execution_count": null,
   "id": "cadf9f3f-f65a-4abf-b94a-99df841965f4",
   "metadata": {},
   "outputs": [],
   "source": []
  },
  {
   "cell_type": "code",
   "execution_count": null,
   "id": "727a3cf2-3dbc-4bc9-af00-64ccaef3d583",
   "metadata": {},
   "outputs": [],
   "source": [
    "# Indexing in the list"
   ]
  },
  {
   "cell_type": "code",
   "execution_count": null,
   "id": "ffd8600e-7228-4755-82ef-97862c65666f",
   "metadata": {},
   "outputs": [],
   "source": [
    "# Where is my bag?"
   ]
  },
  {
   "cell_type": "code",
   "execution_count": 22,
   "id": "28301c03-3485-495d-8c9c-419598aee38a",
   "metadata": {},
   "outputs": [
    {
     "name": "stdout",
     "output_type": "stream",
     "text": [
      "10\n"
     ]
    }
   ],
   "source": [
    "nums = [[10, 20, 30], [98, 99]]\n",
    "print(nums[0][0])"
   ]
  },
  {
   "cell_type": "code",
   "execution_count": 23,
   "id": "893bd52a-355e-40de-988e-56261d506832",
   "metadata": {},
   "outputs": [
    {
     "name": "stdout",
     "output_type": "stream",
     "text": [
      "99\n"
     ]
    }
   ],
   "source": [
    "nums = [[10, 20, 30], [98, 99]]\n",
    "print(nums[1][1])"
   ]
  },
  {
   "cell_type": "code",
   "execution_count": null,
   "id": "8f40b61e-72f3-42e3-b919-c3b901ce384d",
   "metadata": {},
   "outputs": [],
   "source": []
  },
  {
   "cell_type": "code",
   "execution_count": null,
   "id": "31c8cee7-22b8-47a0-8123-5e23da435ac2",
   "metadata": {},
   "outputs": [],
   "source": []
  },
  {
   "cell_type": "code",
   "execution_count": null,
   "id": "77711211-5746-48b6-b772-3c1a39cb4ee1",
   "metadata": {},
   "outputs": [],
   "source": []
  },
  {
   "cell_type": "code",
   "execution_count": null,
   "id": "7fb83a9f-e874-4ae9-8978-3b00d66fd062",
   "metadata": {},
   "outputs": [],
   "source": []
  },
  {
   "cell_type": "code",
   "execution_count": null,
   "id": "e56f1248-7b4c-494f-a395-e45caa9e46a2",
   "metadata": {},
   "outputs": [],
   "source": []
  },
  {
   "cell_type": "markdown",
   "id": "58af3baa-8ca2-4255-bdea-a2b19c9b040e",
   "metadata": {},
   "source": [
    "### Iterating a 2D list"
   ]
  },
  {
   "cell_type": "code",
   "execution_count": null,
   "id": "b6f24872-ecb0-4578-a097-ef8850b34ebe",
   "metadata": {},
   "outputs": [],
   "source": [
    "# The range method"
   ]
  },
  {
   "cell_type": "code",
   "execution_count": null,
   "id": "86a16e79-d18e-4bbb-a01c-31f5b27f324b",
   "metadata": {},
   "outputs": [],
   "source": [
    "# Without range"
   ]
  },
  {
   "cell_type": "code",
   "execution_count": null,
   "id": "343244f5-0cb5-4a58-ba88-657b23c8acbf",
   "metadata": {},
   "outputs": [],
   "source": []
  },
  {
   "cell_type": "code",
   "execution_count": 24,
   "id": "f6dc7b0f-0704-4ec8-997c-be906457112f",
   "metadata": {},
   "outputs": [
    {
     "data": {
      "text/plain": [
       "[[100, 99, 20], [200, 150, 90, 180], [20, 50, 100]]"
      ]
     },
     "execution_count": 24,
     "metadata": {},
     "output_type": "execute_result"
    }
   ],
   "source": [
    "score"
   ]
  },
  {
   "cell_type": "code",
   "execution_count": 25,
   "id": "a5f788f4-f737-46ce-a5bb-b695a913abe1",
   "metadata": {},
   "outputs": [
    {
     "name": "stdout",
     "output_type": "stream",
     "text": [
      "3\n"
     ]
    }
   ],
   "source": [
    "print(len(score))"
   ]
  },
  {
   "cell_type": "code",
   "execution_count": 27,
   "id": "7abec46e-5f1d-4989-87c6-b621a6c5afae",
   "metadata": {},
   "outputs": [],
   "source": [
    "# indexes of outer list"
   ]
  },
  {
   "cell_type": "code",
   "execution_count": 26,
   "id": "79be2179-3a67-4638-bfeb-3c82221b58cd",
   "metadata": {},
   "outputs": [
    {
     "name": "stdout",
     "output_type": "stream",
     "text": [
      "0\n",
      "1\n",
      "2\n"
     ]
    }
   ],
   "source": [
    "for i in range(len(score)):\n",
    "    print(i)"
   ]
  },
  {
   "cell_type": "code",
   "execution_count": 28,
   "id": "846f0f4f-8041-4fee-bba2-222939e7ba8d",
   "metadata": {},
   "outputs": [
    {
     "name": "stdout",
     "output_type": "stream",
     "text": [
      "[100, 99, 20]\n",
      "[200, 150, 90, 180]\n",
      "[20, 50, 100]\n"
     ]
    }
   ],
   "source": [
    "for i in range(len(score)):\n",
    "    print(score[i])"
   ]
  },
  {
   "cell_type": "code",
   "execution_count": 30,
   "id": "db08c1ec-606a-4b20-b07a-6fd692952b2d",
   "metadata": {},
   "outputs": [],
   "source": [
    "# getting len of internal lists"
   ]
  },
  {
   "cell_type": "code",
   "execution_count": 29,
   "id": "23ce3e71-66d7-41b3-a298-77941b0208b9",
   "metadata": {},
   "outputs": [
    {
     "name": "stdout",
     "output_type": "stream",
     "text": [
      "3\n",
      "4\n",
      "3\n"
     ]
    }
   ],
   "source": [
    "for i in range(len(score)):\n",
    "    print(len(score[i]))"
   ]
  },
  {
   "cell_type": "code",
   "execution_count": 33,
   "id": "ebaa3879-57f0-4841-9ca9-3c41af4101a2",
   "metadata": {},
   "outputs": [
    {
     "name": "stdout",
     "output_type": "stream",
     "text": [
      "100 99 20 \n",
      "200 150 90 180 \n",
      "20 50 100 \n"
     ]
    }
   ],
   "source": [
    "for i in range(len(score)):\n",
    "    for j in range(len(score[i])):\n",
    "        print(score[i][j], end=\" \")\n",
    "    print()"
   ]
  },
  {
   "cell_type": "code",
   "execution_count": 34,
   "id": "ed15a21e-0b8d-46d9-aec7-0673944a69e6",
   "metadata": {},
   "outputs": [],
   "source": [
    "# printing indexes of all elements"
   ]
  },
  {
   "cell_type": "code",
   "execution_count": 37,
   "id": "fa20bacd-f60a-40ae-9489-bb65a9e45746",
   "metadata": {},
   "outputs": [
    {
     "name": "stdout",
     "output_type": "stream",
     "text": [
      "0->0 0->1 0->2 \n",
      "1->0 1->1 1->2 1->3 \n",
      "2->0 2->1 2->2 \n"
     ]
    }
   ],
   "source": [
    "for i in range(len(score)):\n",
    "    for j in range(len(score[i])):\n",
    "        print(i,j, sep = \"->\", end=\" \")\n",
    "    print()"
   ]
  },
  {
   "cell_type": "code",
   "execution_count": null,
   "id": "a0fc7159-2a37-4036-87b0-6fab572e0a51",
   "metadata": {},
   "outputs": [],
   "source": []
  },
  {
   "cell_type": "code",
   "execution_count": null,
   "id": "0f29fd01-f2e4-4137-be10-5b70caad951c",
   "metadata": {},
   "outputs": [],
   "source": []
  },
  {
   "cell_type": "code",
   "execution_count": null,
   "id": "4f22289a-d384-4e5a-b90f-d88a52eb80ec",
   "metadata": {},
   "outputs": [],
   "source": []
  },
  {
   "cell_type": "code",
   "execution_count": null,
   "id": "3a15f74f-76b6-4697-89fb-81345880e8ec",
   "metadata": {},
   "outputs": [],
   "source": []
  },
  {
   "cell_type": "markdown",
   "id": "ac3f596d-cdbb-483a-8452-dae36d6ef87c",
   "metadata": {},
   "source": [
    "### Find Total runs scored by Sachin in his career?"
   ]
  },
  {
   "cell_type": "code",
   "execution_count": 38,
   "id": "433dceff-dc2a-4fc0-a520-a2a086df0d3d",
   "metadata": {},
   "outputs": [
    {
     "data": {
      "text/plain": [
       "[[100, 99, 20], [200, 150, 90, 180], [20, 50, 100]]"
      ]
     },
     "execution_count": 38,
     "metadata": {},
     "output_type": "execute_result"
    }
   ],
   "source": [
    "score"
   ]
  },
  {
   "cell_type": "code",
   "execution_count": 41,
   "id": "8e32c084-5ed3-435c-8e7e-fcc7802ad9d3",
   "metadata": {},
   "outputs": [
    {
     "name": "stdout",
     "output_type": "stream",
     "text": [
      "1009\n"
     ]
    }
   ],
   "source": [
    "total = 0\n",
    "for i in range(len(score)):\n",
    "    for j in range(len(score[i])):\n",
    "        # print(score[i][j])\n",
    "        total += score[i][j]\n",
    "print(total)"
   ]
  },
  {
   "cell_type": "code",
   "execution_count": null,
   "id": "055405f6-c904-478e-8e9c-d86e067ccad6",
   "metadata": {},
   "outputs": [],
   "source": []
  },
  {
   "cell_type": "code",
   "execution_count": 42,
   "id": "6d4c1fc8-a865-4639-86b8-e1dae790e1e6",
   "metadata": {},
   "outputs": [],
   "source": [
    "# sum function"
   ]
  },
  {
   "cell_type": "code",
   "execution_count": 44,
   "id": "9311eebe-f074-4f8d-826b-e87edcb7d77e",
   "metadata": {},
   "outputs": [],
   "source": [
    "# sum(score)\n",
    "# sum doesnt work on Nested list"
   ]
  },
  {
   "cell_type": "code",
   "execution_count": 45,
   "id": "04665bc3-497a-465d-9398-6568a82c19e6",
   "metadata": {},
   "outputs": [
    {
     "data": {
      "text/plain": [
       "11"
      ]
     },
     "execution_count": 45,
     "metadata": {},
     "output_type": "execute_result"
    }
   ],
   "source": [
    "sum([2, 4, 5])"
   ]
  },
  {
   "cell_type": "code",
   "execution_count": null,
   "id": "a9e2e01a-7271-43c1-93ac-a555b0819c18",
   "metadata": {},
   "outputs": [],
   "source": []
  },
  {
   "cell_type": "code",
   "execution_count": 48,
   "id": "17f5a1a6-5a7b-4e09-9f8c-8b4e2e9b6c54",
   "metadata": {},
   "outputs": [],
   "source": [
    "# Print the scores of each format"
   ]
  },
  {
   "cell_type": "code",
   "execution_count": 49,
   "id": "29735b5f-aef0-4c5e-92e6-bb26d762eff6",
   "metadata": {},
   "outputs": [
    {
     "data": {
      "text/plain": [
       "[[100, 99, 20], [200, 150, 90, 180], [20, 50, 100]]"
      ]
     },
     "execution_count": 49,
     "metadata": {},
     "output_type": "execute_result"
    }
   ],
   "source": [
    "score"
   ]
  },
  {
   "cell_type": "code",
   "execution_count": 47,
   "id": "4cd2be71-afe0-41ad-b732-1ceb5f802966",
   "metadata": {},
   "outputs": [
    {
     "name": "stdout",
     "output_type": "stream",
     "text": [
      "219\n",
      "620\n",
      "170\n"
     ]
    }
   ],
   "source": [
    "for i in range(len(score)):\n",
    "    print(sum(score[i]))"
   ]
  },
  {
   "cell_type": "code",
   "execution_count": null,
   "id": "32489f2f-dd12-433f-86ab-d1d9d1c1aba8",
   "metadata": {},
   "outputs": [],
   "source": []
  },
  {
   "cell_type": "code",
   "execution_count": null,
   "id": "cde26fcf-6dfe-47fb-9ca5-45397fb36337",
   "metadata": {},
   "outputs": [],
   "source": []
  },
  {
   "cell_type": "code",
   "execution_count": null,
   "id": "13a5528e-66fe-4c4f-a2d8-5b259663c7ab",
   "metadata": {},
   "outputs": [],
   "source": []
  },
  {
   "cell_type": "code",
   "execution_count": null,
   "id": "a2fde1d9-e6cc-4ece-ae7b-583351b19d22",
   "metadata": {},
   "outputs": [],
   "source": []
  },
  {
   "cell_type": "markdown",
   "id": "8bcebce7-846f-4982-b7c2-f3ae04b5b706",
   "metadata": {},
   "source": [
    "## Input in nested loops"
   ]
  },
  {
   "cell_type": "code",
   "execution_count": null,
   "id": "f17653a9-c282-4c5d-88c2-83916b26827b",
   "metadata": {},
   "outputs": [],
   "source": [
    "# Given a list of numbers, create another list containing squares of these numbers"
   ]
  },
  {
   "cell_type": "code",
   "execution_count": 50,
   "id": "0004a981-1cfa-4ed9-8755-bea54b2d3835",
   "metadata": {},
   "outputs": [],
   "source": [
    "l = [1, 2, 3, 4]"
   ]
  },
  {
   "cell_type": "code",
   "execution_count": null,
   "id": "bf042935-85f4-4574-81e0-fe15a067983b",
   "metadata": {},
   "outputs": [],
   "source": []
  },
  {
   "cell_type": "code",
   "execution_count": 55,
   "id": "c8f83679-df80-4ba6-90e5-24913e9dd751",
   "metadata": {},
   "outputs": [],
   "source": [
    "## Square function"
   ]
  },
  {
   "cell_type": "code",
   "execution_count": 51,
   "id": "1e140db5-f53b-4ed1-aa1f-b86b538ab7e7",
   "metadata": {},
   "outputs": [],
   "source": [
    "def square(x):\n",
    "    return x*x"
   ]
  },
  {
   "cell_type": "code",
   "execution_count": 53,
   "id": "4356e251-c105-42f2-ac9e-e2297b177b68",
   "metadata": {},
   "outputs": [
    {
     "name": "stdout",
     "output_type": "stream",
     "text": [
      "16\n"
     ]
    }
   ],
   "source": [
    "print(square(4))"
   ]
  },
  {
   "cell_type": "code",
   "execution_count": 54,
   "id": "2e35d30e-3141-4e07-a160-59575e07e19d",
   "metadata": {},
   "outputs": [
    {
     "name": "stdout",
     "output_type": "stream",
     "text": [
      "1\n",
      "4\n",
      "9\n",
      "16\n"
     ]
    }
   ],
   "source": [
    "for i in l:\n",
    "    print(square(i))"
   ]
  },
  {
   "cell_type": "code",
   "execution_count": null,
   "id": "fa96e4a5-9e09-4f0c-abc4-d8e7f31ba7e0",
   "metadata": {},
   "outputs": [],
   "source": []
  },
  {
   "cell_type": "code",
   "execution_count": 2,
   "id": "120c9733-ed10-43e1-acfe-8a1580fdf3c8",
   "metadata": {},
   "outputs": [],
   "source": [
    "# Using int on all values of string.split() list"
   ]
  },
  {
   "cell_type": "code",
   "execution_count": 56,
   "id": "96acba47-70a5-479a-956a-221c65a9d393",
   "metadata": {},
   "outputs": [
    {
     "name": "stdin",
     "output_type": "stream",
     "text": [
      " 1 2 3 4\n"
     ]
    }
   ],
   "source": [
    "s = input().split()"
   ]
  },
  {
   "cell_type": "code",
   "execution_count": 57,
   "id": "22c668e3-ecac-4a09-ae84-15cb0d193927",
   "metadata": {},
   "outputs": [
    {
     "name": "stdout",
     "output_type": "stream",
     "text": [
      "['1', '2', '3', '4']\n"
     ]
    }
   ],
   "source": [
    "print(s)"
   ]
  },
  {
   "cell_type": "code",
   "execution_count": 64,
   "id": "eab850c7-65b8-4dbe-8d84-e9e0d0664530",
   "metadata": {},
   "outputs": [
    {
     "name": "stdout",
     "output_type": "stream",
     "text": [
      "1\n",
      "2\n",
      "3\n",
      "4\n"
     ]
    }
   ],
   "source": [
    "for i in s:\n",
    "    print(int(i))"
   ]
  },
  {
   "cell_type": "code",
   "execution_count": 63,
   "id": "0b5ecd36-5057-4589-8c47-b11f64c50018",
   "metadata": {},
   "outputs": [
    {
     "name": "stdout",
     "output_type": "stream",
     "text": [
      "[1, 2, 3, 4]\n"
     ]
    }
   ],
   "source": [
    "li = []\n",
    "for i in s:\n",
    "    #print(i, type(i))\n",
    "    #print(int(i))\n",
    "    li.append(int(i))\n",
    "print(li)"
   ]
  },
  {
   "cell_type": "code",
   "execution_count": null,
   "id": "4f89b94e-c018-4aff-9061-1656d718f7ae",
   "metadata": {},
   "outputs": [],
   "source": []
  },
  {
   "cell_type": "code",
   "execution_count": null,
   "id": "ecb2df6b-0fe5-4298-a1db-224880252ff6",
   "metadata": {},
   "outputs": [],
   "source": []
  },
  {
   "cell_type": "code",
   "execution_count": null,
   "id": "04aa5729-0300-4bc6-b8b9-06e59a647f55",
   "metadata": {},
   "outputs": [],
   "source": []
  },
  {
   "cell_type": "code",
   "execution_count": null,
   "id": "b21a178b-8111-4cb8-b6b1-9d202a578cbb",
   "metadata": {},
   "outputs": [],
   "source": [
    "# mapping the square values"
   ]
  },
  {
   "cell_type": "code",
   "execution_count": 65,
   "id": "2dce154f-b5d0-47ff-a4f1-194bbb055d03",
   "metadata": {},
   "outputs": [
    {
     "name": "stdout",
     "output_type": "stream",
     "text": [
      "[1, 2, 3, 4]\n"
     ]
    }
   ],
   "source": [
    "print(l)"
   ]
  },
  {
   "cell_type": "code",
   "execution_count": 66,
   "id": "82ea1e33-f151-4bd9-a4d3-c70d4005f78e",
   "metadata": {},
   "outputs": [],
   "source": [
    "# map(function, iterable)"
   ]
  },
  {
   "cell_type": "code",
   "execution_count": 70,
   "id": "0883b485-522d-4e33-8f37-f0620837f415",
   "metadata": {},
   "outputs": [],
   "source": [
    "l1 = list(map(square, l))"
   ]
  },
  {
   "cell_type": "code",
   "execution_count": 71,
   "id": "0fe4b769-9b85-49aa-8abd-175852177f63",
   "metadata": {},
   "outputs": [
    {
     "name": "stdout",
     "output_type": "stream",
     "text": [
      "[1, 4, 9, 16]\n"
     ]
    }
   ],
   "source": [
    "print(l1)"
   ]
  },
  {
   "cell_type": "code",
   "execution_count": 72,
   "id": "5390834c-6123-4c6d-93c5-94c050f3510c",
   "metadata": {},
   "outputs": [
    {
     "data": {
      "text/plain": [
       "['1', '2', '3', '4']"
      ]
     },
     "execution_count": 72,
     "metadata": {},
     "output_type": "execute_result"
    }
   ],
   "source": [
    "s"
   ]
  },
  {
   "cell_type": "code",
   "execution_count": 73,
   "id": "4265e762-b63f-42f8-9fed-67ddb1b59259",
   "metadata": {},
   "outputs": [],
   "source": [
    "l2 = list(map(int, s))"
   ]
  },
  {
   "cell_type": "code",
   "execution_count": 74,
   "id": "2a70ff6e-42e6-4002-b1f5-d8b10007fb2e",
   "metadata": {},
   "outputs": [
    {
     "name": "stdout",
     "output_type": "stream",
     "text": [
      "[1, 2, 3, 4]\n"
     ]
    }
   ],
   "source": [
    "print(l2)"
   ]
  },
  {
   "cell_type": "code",
   "execution_count": null,
   "id": "2228119b-c075-4114-b7da-ef1b0c0195ad",
   "metadata": {},
   "outputs": [],
   "source": []
  },
  {
   "cell_type": "code",
   "execution_count": 75,
   "id": "bf6c9fa1-5b18-4c12-a4be-28ed9c67ab76",
   "metadata": {},
   "outputs": [],
   "source": [
    "# Combining the code"
   ]
  },
  {
   "cell_type": "code",
   "execution_count": 76,
   "id": "c04d28b3-3014-43ea-b676-285e6327415a",
   "metadata": {},
   "outputs": [],
   "source": [
    "# s = input().split()"
   ]
  },
  {
   "cell_type": "code",
   "execution_count": 77,
   "id": "754d9589-60c6-48c7-b209-9e9275cb9c88",
   "metadata": {},
   "outputs": [
    {
     "name": "stdin",
     "output_type": "stream",
     "text": [
      " 1 2 3 4\n"
     ]
    }
   ],
   "source": [
    "# we are replacing s\n",
    "l3 = list(map(int, input().split()))"
   ]
  },
  {
   "cell_type": "code",
   "execution_count": 78,
   "id": "8d212d3a-2521-4dfe-8381-97e4f5c333e5",
   "metadata": {},
   "outputs": [
    {
     "name": "stdout",
     "output_type": "stream",
     "text": [
      "[1, 2, 3, 4]\n"
     ]
    }
   ],
   "source": [
    "print(l3)"
   ]
  },
  {
   "cell_type": "code",
   "execution_count": null,
   "id": "87cd5add-ffc7-4627-ba44-3996a743cbe7",
   "metadata": {},
   "outputs": [],
   "source": []
  },
  {
   "cell_type": "code",
   "execution_count": null,
   "id": "41e278dc-2b38-453c-8c28-6f8bdcf50cb1",
   "metadata": {},
   "outputs": [],
   "source": []
  },
  {
   "cell_type": "code",
   "execution_count": null,
   "id": "4a9ece37-e960-4338-939d-c33c0078be37",
   "metadata": {},
   "outputs": [],
   "source": []
  },
  {
   "cell_type": "code",
   "execution_count": null,
   "id": "6a453cb9-3036-4582-b203-8d451bd76609",
   "metadata": {},
   "outputs": [],
   "source": [
    "## Can we apply the same for list input\n",
    "# R C\n",
    "# 1st row\n",
    "# 2nd row\n",
    "# ...\n",
    "# Rth row\n",
    "\n",
    "# Example:\n",
    "# 3 4\n",
    "# 1 2 3 4\n",
    "# 4 5 6 7\n",
    "# 7 8 9 10"
   ]
  },
  {
   "cell_type": "code",
   "execution_count": 82,
   "id": "6428c024-25a8-4911-9193-f7f5985c14ee",
   "metadata": {},
   "outputs": [
    {
     "name": "stdin",
     "output_type": "stream",
     "text": [
      " 3 4\n"
     ]
    }
   ],
   "source": [
    "l = list(map(int, input().split()))"
   ]
  },
  {
   "cell_type": "code",
   "execution_count": 83,
   "id": "63f9bddd-a2d3-4c56-a75d-71fcf1a16c23",
   "metadata": {},
   "outputs": [
    {
     "name": "stdout",
     "output_type": "stream",
     "text": [
      "3 4\n"
     ]
    }
   ],
   "source": [
    "R = l[0]\n",
    "C = l[1]\n",
    "print(R, C)"
   ]
  },
  {
   "cell_type": "code",
   "execution_count": 86,
   "id": "e8a51eb5-6602-41bd-b6ff-bf234f7c5b41",
   "metadata": {},
   "outputs": [
    {
     "name": "stdin",
     "output_type": "stream",
     "text": [
      " 1 2 3 4\n"
     ]
    },
    {
     "name": "stdout",
     "output_type": "stream",
     "text": [
      "[1, 2, 3, 4]\n"
     ]
    },
    {
     "name": "stdin",
     "output_type": "stream",
     "text": [
      " 5 6 7 8\n"
     ]
    },
    {
     "name": "stdout",
     "output_type": "stream",
     "text": [
      "[5, 6, 7, 8]\n"
     ]
    },
    {
     "name": "stdin",
     "output_type": "stream",
     "text": [
      " 7 8 9 10\n"
     ]
    },
    {
     "name": "stdout",
     "output_type": "stream",
     "text": [
      "[7, 8, 9, 10]\n"
     ]
    }
   ],
   "source": [
    "for i in range(R):\n",
    "    row = list(map(int, input().split()))\n",
    "    print(row)"
   ]
  },
  {
   "cell_type": "code",
   "execution_count": 87,
   "id": "3aae8c6d-90b5-477e-8d0c-50c61492146f",
   "metadata": {},
   "outputs": [
    {
     "name": "stdin",
     "output_type": "stream",
     "text": [
      " 1 2 3 4\n",
      " 5 6 7 8\n",
      " 7 8 9 10\n"
     ]
    },
    {
     "name": "stdout",
     "output_type": "stream",
     "text": [
      "[[1, 2, 3, 4], [5, 6, 7, 8], [7, 8, 9, 10]]\n"
     ]
    }
   ],
   "source": [
    "res = []\n",
    "for i in range(R):\n",
    "    row = list(map(int, input().split()))\n",
    "    res.append(row)\n",
    "print(res)"
   ]
  },
  {
   "cell_type": "code",
   "execution_count": 88,
   "id": "fbfe0041-fb49-4961-a3ab-00c2b40e202e",
   "metadata": {},
   "outputs": [
    {
     "name": "stdout",
     "output_type": "stream",
     "text": [
      "[[1, 2, 3, 4], [5, 6, 7, 8], [7, 8, 9, 10]]\n"
     ]
    }
   ],
   "source": [
    "print(res)"
   ]
  },
  {
   "cell_type": "code",
   "execution_count": null,
   "id": "b27df7ca-7c2e-46fb-933f-e421e379a0c2",
   "metadata": {},
   "outputs": [],
   "source": []
  },
  {
   "cell_type": "code",
   "execution_count": 90,
   "id": "fcc9032c-c04a-4cc4-9bd3-706d7c28289c",
   "metadata": {},
   "outputs": [
    {
     "name": "stdin",
     "output_type": "stream",
     "text": [
      " 1 2 3 4 5\n",
      " 3 4 5 6 7\n",
      " 5 6 7 8 9\n"
     ]
    },
    {
     "name": "stdout",
     "output_type": "stream",
     "text": [
      "[[1, 2, 3, 4], [3, 4, 5, 6], [5, 6, 7, 8]]\n"
     ]
    }
   ],
   "source": [
    "res = []\n",
    "for i in range(R):\n",
    "    row = list(map(int, input().split()))\n",
    "    # Slice the row according to the len of col\n",
    "    res.append(row[0:C])\n",
    "print(res)"
   ]
  },
  {
   "cell_type": "code",
   "execution_count": null,
   "id": "58b3976a-fde0-4b39-b09d-a0efccd9082b",
   "metadata": {},
   "outputs": [],
   "source": []
  },
  {
   "cell_type": "code",
   "execution_count": 91,
   "id": "2d76a76b-b6bf-435c-8f77-59230715df4a",
   "metadata": {},
   "outputs": [],
   "source": [
    "# Full code"
   ]
  },
  {
   "cell_type": "code",
   "execution_count": 92,
   "id": "5d7ff33e-3dca-4646-a166-c027f331fb1d",
   "metadata": {},
   "outputs": [
    {
     "name": "stdin",
     "output_type": "stream",
     "text": [
      " 3 4\n",
      " 1 2 3 4\n",
      " 5 6 7 8\n",
      " 7 8 9 10\n"
     ]
    },
    {
     "name": "stdout",
     "output_type": "stream",
     "text": [
      "[[1, 2, 3, 4], [5, 6, 7, 8], [7, 8, 9, 10]]\n"
     ]
    }
   ],
   "source": [
    "l = list(map(int, input().split()))\n",
    "R = l[0]\n",
    "C = l[1]\n",
    "\n",
    "res = []\n",
    "for i in range(R):\n",
    "    row = list(map(int, input().split()))\n",
    "    # Slice the row according to the len of col\n",
    "    res.append(row[0:C])\n",
    "print(res)"
   ]
  },
  {
   "cell_type": "code",
   "execution_count": null,
   "id": "c826a520-9987-4fb3-8932-48fb0dbaa0ed",
   "metadata": {},
   "outputs": [],
   "source": []
  },
  {
   "cell_type": "code",
   "execution_count": null,
   "id": "1051a78c-8094-4d4a-93d9-84a2472a9ce2",
   "metadata": {},
   "outputs": [],
   "source": []
  },
  {
   "cell_type": "code",
   "execution_count": null,
   "id": "29456192-f68e-4138-8dc9-056a58a906e1",
   "metadata": {},
   "outputs": [],
   "source": []
  },
  {
   "cell_type": "code",
   "execution_count": 94,
   "id": "620d816e-62e0-454a-a7ed-78ca018088dd",
   "metadata": {},
   "outputs": [],
   "source": [
    "# N A1 A2.... AN\n",
    "# 3 1 2 3"
   ]
  },
  {
   "cell_type": "code",
   "execution_count": 95,
   "id": "a5f23849-9d2c-41ae-a050-40e856d25e47",
   "metadata": {},
   "outputs": [
    {
     "name": "stdin",
     "output_type": "stream",
     "text": [
      " 3 1 2 3\n"
     ]
    }
   ],
   "source": [
    "l = list(map(int, input().split()))"
   ]
  },
  {
   "cell_type": "code",
   "execution_count": 96,
   "id": "9c362820-3171-4d23-9959-4834177a6aa5",
   "metadata": {},
   "outputs": [
    {
     "name": "stdout",
     "output_type": "stream",
     "text": [
      "[3, 1, 2, 3]\n"
     ]
    }
   ],
   "source": [
    "print(l)"
   ]
  },
  {
   "cell_type": "code",
   "execution_count": 100,
   "id": "46546cba-35a1-4583-ae4e-1a49f9f8dbcb",
   "metadata": {},
   "outputs": [],
   "source": [
    "N = l[0]"
   ]
  },
  {
   "cell_type": "code",
   "execution_count": 97,
   "id": "3ee9d377-85ab-4c28-9da7-933e457bbc99",
   "metadata": {},
   "outputs": [],
   "source": [
    "x = l[1:]"
   ]
  },
  {
   "cell_type": "code",
   "execution_count": 98,
   "id": "943b885d-5ec4-4cf3-9c46-463cdb564bf5",
   "metadata": {},
   "outputs": [
    {
     "name": "stdout",
     "output_type": "stream",
     "text": [
      "[1, 2, 3]\n"
     ]
    }
   ],
   "source": [
    "print(x)"
   ]
  },
  {
   "cell_type": "code",
   "execution_count": null,
   "id": "1d761991-1cb0-4306-8d7a-ddab7a52b14b",
   "metadata": {},
   "outputs": [],
   "source": []
  },
  {
   "cell_type": "code",
   "execution_count": null,
   "id": "e020f61a-e0d5-4a2a-acaf-e3dea04b64fa",
   "metadata": {},
   "outputs": [],
   "source": []
  },
  {
   "cell_type": "code",
   "execution_count": 102,
   "id": "860647c1-bacb-4c1d-a694-8bfe872b1338",
   "metadata": {},
   "outputs": [],
   "source": [
    "# Doubts"
   ]
  },
  {
   "cell_type": "code",
   "execution_count": 103,
   "id": "04370cc9-0908-4647-ae81-2e469fec927c",
   "metadata": {},
   "outputs": [
    {
     "name": "stdin",
     "output_type": "stream",
     "text": [
      " 1 3\n",
      " 1 2 3\n"
     ]
    },
    {
     "name": "stdout",
     "output_type": "stream",
     "text": [
      "[[1, 2, 3]]\n"
     ]
    }
   ],
   "source": [
    "l = list(map(int, input().split()))\n",
    "R = l[0]\n",
    "C = l[1]\n",
    "\n",
    "res = []\n",
    "for i in range(R):\n",
    "    row = list(map(int, input().split()))\n",
    "    # Slice the row according to the len of col\n",
    "    res.append(row[0:C])\n",
    "print(res)"
   ]
  },
  {
   "cell_type": "code",
   "execution_count": null,
   "id": "75201143-b596-4a8a-857b-2348bb2e6467",
   "metadata": {},
   "outputs": [],
   "source": []
  },
  {
   "cell_type": "code",
   "execution_count": null,
   "id": "8fed4ef2-456e-4963-a47e-e6d13b91a86b",
   "metadata": {},
   "outputs": [],
   "source": []
  },
  {
   "cell_type": "code",
   "execution_count": null,
   "id": "8e113190-05a4-4129-956c-953f78f3cd31",
   "metadata": {},
   "outputs": [],
   "source": []
  },
  {
   "cell_type": "code",
   "execution_count": null,
   "id": "5d53015a-6869-4a2a-aa71-6aced387d74e",
   "metadata": {},
   "outputs": [],
   "source": []
  },
  {
   "cell_type": "code",
   "execution_count": null,
   "id": "948c3e01-8602-4389-b35d-589439474c58",
   "metadata": {},
   "outputs": [],
   "source": [
    "# Misc: Print the sum in ODI, Test, T20 matches separately"
   ]
  },
  {
   "cell_type": "code",
   "execution_count": null,
   "id": "46afba2b-c0dc-4c1c-855a-b83c07e54137",
   "metadata": {},
   "outputs": [],
   "source": []
  },
  {
   "cell_type": "code",
   "execution_count": null,
   "id": "556030d4-6227-4b10-8505-df7079050f6f",
   "metadata": {},
   "outputs": [],
   "source": []
  },
  {
   "cell_type": "code",
   "execution_count": null,
   "id": "dc6ac949-32ce-467d-96f7-f1e8a86e1a58",
   "metadata": {},
   "outputs": [],
   "source": []
  },
  {
   "cell_type": "code",
   "execution_count": null,
   "id": "1844af3e-661d-4343-878b-8de87d1cae70",
   "metadata": {},
   "outputs": [],
   "source": []
  },
  {
   "cell_type": "code",
   "execution_count": null,
   "id": "f0020e3b-8fa7-4914-834c-58c0e6f72662",
   "metadata": {},
   "outputs": [],
   "source": []
  },
  {
   "cell_type": "code",
   "execution_count": null,
   "id": "838ba81a-db9e-4c26-93de-831ee0fd9b3a",
   "metadata": {},
   "outputs": [],
   "source": []
  },
  {
   "cell_type": "code",
   "execution_count": null,
   "id": "8126d868-4bb7-4ef1-8390-47c4e1be491d",
   "metadata": {},
   "outputs": [],
   "source": []
  },
  {
   "cell_type": "code",
   "execution_count": null,
   "id": "eb1cbd3d-2aea-49e6-9ff8-48de2f805c0d",
   "metadata": {},
   "outputs": [],
   "source": [
    "# Misc: Print the max runs in ODI, Test, T20 matches separately"
   ]
  },
  {
   "cell_type": "code",
   "execution_count": null,
   "id": "64b1ef0f-e68f-4b7d-929d-c6458e5fb00a",
   "metadata": {},
   "outputs": [],
   "source": []
  },
  {
   "cell_type": "code",
   "execution_count": null,
   "id": "937920fc-2139-455e-8195-26d719a71944",
   "metadata": {},
   "outputs": [],
   "source": []
  },
  {
   "cell_type": "code",
   "execution_count": null,
   "id": "4b33dd90-a81a-41ce-bac7-3907c66aa8cd",
   "metadata": {},
   "outputs": [],
   "source": []
  },
  {
   "cell_type": "code",
   "execution_count": null,
   "id": "3fb5c63f-bbc1-4c97-aa24-f2de452bea08",
   "metadata": {},
   "outputs": [],
   "source": []
  },
  {
   "cell_type": "code",
   "execution_count": null,
   "id": "525faef0-2af1-4feb-90cb-758b1afc597f",
   "metadata": {},
   "outputs": [],
   "source": []
  },
  {
   "cell_type": "code",
   "execution_count": null,
   "id": "5fbc0827-b8ba-4c9f-aba4-b74020566782",
   "metadata": {},
   "outputs": [],
   "source": []
  },
  {
   "cell_type": "code",
   "execution_count": null,
   "id": "96f0174e-fb19-4488-be0f-2b4f2edccaaa",
   "metadata": {},
   "outputs": [],
   "source": []
  },
  {
   "cell_type": "markdown",
   "id": "e322c76f-b80d-46e1-8eef-24a59b003d56",
   "metadata": {},
   "source": [
    "## "
   ]
  }
 ],
 "metadata": {
  "kernelspec": {
   "display_name": "Python 3 (ipykernel)",
   "language": "python",
   "name": "python3"
  },
  "language_info": {
   "codemirror_mode": {
    "name": "ipython",
    "version": 3
   },
   "file_extension": ".py",
   "mimetype": "text/x-python",
   "name": "python",
   "nbconvert_exporter": "python",
   "pygments_lexer": "ipython3",
   "version": "3.9.7"
  }
 },
 "nbformat": 4,
 "nbformat_minor": 5
}
