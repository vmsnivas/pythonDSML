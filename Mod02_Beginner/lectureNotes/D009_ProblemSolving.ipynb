{
 "cells": [
  {
   "cell_type": "markdown",
   "id": "c785203e-15e8-49ab-85b4-b741136fdacf",
   "metadata": {},
   "source": [
    "## Problem Solving"
   ]
  },
  {
   "cell_type": "markdown",
   "id": "a9e64b27-64be-45bf-a416-1335acd521e0",
   "metadata": {},
   "source": [
    "### Problem #1"
   ]
  },
  {
   "cell_type": "markdown",
   "id": "a818bedb-a209-4d6f-9078-e754cc72f837",
   "metadata": {},
   "source": [
    "**Write a program to find a factorial of a number**"
   ]
  },
  {
   "cell_type": "code",
   "execution_count": 22,
   "id": "3e4ea937-3b56-4089-84c8-38c524f314b7",
   "metadata": {},
   "outputs": [
    {
     "name": "stdin",
     "output_type": "stream",
     "text": [
      " 0\n"
     ]
    },
    {
     "name": "stdout",
     "output_type": "stream",
     "text": [
      "1\n"
     ]
    }
   ],
   "source": [
    "n = int(input())\n",
    "fact = 1\n",
    "i = 1\n",
    "\n",
    "while i <= n:\n",
    "    fact *= i\n",
    "    i += 1\n",
    "print(fact)"
   ]
  },
  {
   "cell_type": "code",
   "execution_count": null,
   "id": "732c91db-2abb-4472-afba-d73dbea9baff",
   "metadata": {},
   "outputs": [],
   "source": []
  },
  {
   "cell_type": "code",
   "execution_count": null,
   "id": "3a854190-8d56-4d19-9a61-528d70ec32ef",
   "metadata": {},
   "outputs": [],
   "source": []
  },
  {
   "cell_type": "code",
   "execution_count": null,
   "id": "43e8f25d-f23a-43ee-a8ba-13f872941391",
   "metadata": {},
   "outputs": [],
   "source": []
  },
  {
   "cell_type": "code",
   "execution_count": null,
   "id": "32a27a9a-14ba-46b9-abc5-88c512422cf6",
   "metadata": {},
   "outputs": [],
   "source": []
  },
  {
   "cell_type": "code",
   "execution_count": null,
   "id": "dd05e866-0426-4f60-9049-02032ff0221b",
   "metadata": {},
   "outputs": [],
   "source": []
  },
  {
   "cell_type": "code",
   "execution_count": null,
   "id": "7c6449d7-8b71-4615-b93e-4d59521060e1",
   "metadata": {},
   "outputs": [],
   "source": []
  },
  {
   "cell_type": "code",
   "execution_count": null,
   "id": "1af1d987-14be-4b4f-9c14-78ee6fbba86e",
   "metadata": {},
   "outputs": [],
   "source": []
  },
  {
   "cell_type": "code",
   "execution_count": null,
   "id": "c4c09252-e922-45dc-b844-23b7990f151b",
   "metadata": {},
   "outputs": [],
   "source": []
  },
  {
   "cell_type": "code",
   "execution_count": null,
   "id": "30a9192c-658e-4b03-8088-4b5d2de425d0",
   "metadata": {},
   "outputs": [],
   "source": []
  },
  {
   "cell_type": "code",
   "execution_count": null,
   "id": "0ce0ff80-14ce-449c-9538-1a48560ca830",
   "metadata": {},
   "outputs": [],
   "source": []
  },
  {
   "cell_type": "markdown",
   "id": "b63f6c8c-95da-4289-8875-98cce4e67576",
   "metadata": {},
   "source": [
    "### Problem #2"
   ]
  },
  {
   "cell_type": "markdown",
   "id": "668d4c20-9062-48fc-aac2-e0ed9a73ee71",
   "metadata": {},
   "source": [
    "**Factors of a Number**"
   ]
  },
  {
   "cell_type": "markdown",
   "id": "f2ba9d83-7b7b-40ff-9cf0-758da532be14",
   "metadata": {},
   "source": [
    "A factor is a number that divides the given number without any remainder. Who can be the factors?"
   ]
  },
  {
   "cell_type": "code",
   "execution_count": 26,
   "id": "bccea429-8386-4ba1-961d-db1184d638e2",
   "metadata": {},
   "outputs": [
    {
     "name": "stdin",
     "output_type": "stream",
     "text": [
      " 7\n"
     ]
    },
    {
     "name": "stdout",
     "output_type": "stream",
     "text": [
      "1\n",
      "7\n"
     ]
    }
   ],
   "source": [
    "n = int(input())\n",
    "i = 1\n",
    "\n",
    "while i <= n:\n",
    "    if n % i == 0:\n",
    "        print(i)\n",
    "    i += 1"
   ]
  },
  {
   "cell_type": "code",
   "execution_count": null,
   "id": "2e20b1d4-3d05-4248-8e7d-6e493c203239",
   "metadata": {},
   "outputs": [],
   "source": []
  },
  {
   "cell_type": "code",
   "execution_count": null,
   "id": "2fbbc955-c18c-47b0-b965-ae0520d66188",
   "metadata": {},
   "outputs": [],
   "source": []
  },
  {
   "cell_type": "code",
   "execution_count": null,
   "id": "e7cc6198-2686-4e9a-b291-d084a9e9dd13",
   "metadata": {},
   "outputs": [],
   "source": []
  },
  {
   "cell_type": "code",
   "execution_count": null,
   "id": "7314bd42-d1fe-46a2-850e-65c8de98a6dc",
   "metadata": {},
   "outputs": [],
   "source": []
  },
  {
   "cell_type": "code",
   "execution_count": null,
   "id": "ee05f443-69fd-41d2-9142-6136686a83d5",
   "metadata": {},
   "outputs": [],
   "source": []
  },
  {
   "cell_type": "code",
   "execution_count": null,
   "id": "6b81d336-e0f0-4246-a006-9c2ce05f66b1",
   "metadata": {},
   "outputs": [],
   "source": []
  },
  {
   "cell_type": "code",
   "execution_count": null,
   "id": "e3c58480-5b6f-42bf-9c02-7b6e79a095a1",
   "metadata": {},
   "outputs": [],
   "source": []
  },
  {
   "cell_type": "code",
   "execution_count": null,
   "id": "8a2ded32-ee1e-4c12-90d3-03133339a72b",
   "metadata": {},
   "outputs": [],
   "source": []
  },
  {
   "cell_type": "code",
   "execution_count": null,
   "id": "ab8ca986-69a4-4101-84f1-53a71ea2a7e0",
   "metadata": {},
   "outputs": [],
   "source": []
  },
  {
   "cell_type": "code",
   "execution_count": null,
   "id": "edc4b156-38ac-4758-b526-477c92fb66c9",
   "metadata": {},
   "outputs": [],
   "source": []
  },
  {
   "cell_type": "code",
   "execution_count": null,
   "id": "25e84f6b-61c5-4ed9-be2f-1274cf623146",
   "metadata": {},
   "outputs": [],
   "source": []
  },
  {
   "cell_type": "markdown",
   "id": "39410896-ccec-4ca6-ae4f-ee9f89b5a784",
   "metadata": {},
   "source": [
    "### Problem #3 (Home work Problem)"
   ]
  },
  {
   "cell_type": "markdown",
   "id": "b2b2dfa5-a185-4cd3-963c-284036ed788b",
   "metadata": {},
   "source": [
    "Write a program to input T numbers(N) from user and print count of digits of the given numbers.\n",
    "\n",
    "\n",
    "Problem Constraints\n",
    "\n",
    "1 <= T <= 100\n",
    "\n",
    "0 <= N <= 100000000\n",
    "\n",
    "Input Format\n",
    "\n",
    "First line is T which means number of test cases.\n",
    "\n",
    "Each next N lines contain an integer N.\n",
    "\n",
    "Output Format\n",
    "\n",
    "T lines each containing count of digits of the input integer.\n",
    "\n",
    "Example Input\n",
    "\n",
    "Input 1:\n",
    "\n",
    "2\n",
    "\n",
    "0\n",
    "\n",
    "1\n",
    "\n",
    "Input 2:\n",
    "\n",
    "2\n",
    "\n",
    "100\n",
    "\n",
    "10101\n",
    "\n",
    "\n",
    "Example Output\n",
    "\n",
    "Output 1:\n",
    "\n",
    "1\n",
    "\n",
    "1\n",
    "\n",
    "Output 2:\n",
    "\n",
    "3\n",
    "\n",
    "5"
   ]
  },
  {
   "cell_type": "code",
   "execution_count": 46,
   "id": "4e21c4bc-6f22-4f82-b6d4-cdae47b22edd",
   "metadata": {},
   "outputs": [
    {
     "name": "stdin",
     "output_type": "stream",
     "text": [
      " 3\n",
      " 12123\n",
      " 3434\n",
      " 234\n"
     ]
    }
   ],
   "source": [
    "T = int(input())\n",
    "i = 0\n",
    "\n",
    "while i < T:\n",
    "    n = int(input())\n",
    "    i += 1"
   ]
  },
  {
   "cell_type": "code",
   "execution_count": null,
   "id": "c9cacf18-2a4a-41f8-beec-480e21481aa0",
   "metadata": {},
   "outputs": [],
   "source": []
  },
  {
   "cell_type": "code",
   "execution_count": null,
   "id": "551cad03-2f21-4bb4-8c65-66e0a06be140",
   "metadata": {},
   "outputs": [],
   "source": []
  },
  {
   "cell_type": "code",
   "execution_count": 42,
   "id": "fc91d160-55f6-4059-8321-eb2189b158e8",
   "metadata": {
    "jp-MarkdownHeadingCollapsed": true,
    "tags": []
   },
   "outputs": [
    {
     "name": "stdin",
     "output_type": "stream",
     "text": [
      " 3\n",
      " 12\n"
     ]
    },
    {
     "name": "stdout",
     "output_type": "stream",
     "text": [
      "2\n"
     ]
    },
    {
     "name": "stdin",
     "output_type": "stream",
     "text": [
      " 323\n"
     ]
    },
    {
     "name": "stdout",
     "output_type": "stream",
     "text": [
      "3\n"
     ]
    },
    {
     "name": "stdin",
     "output_type": "stream",
     "text": [
      " 1\n"
     ]
    },
    {
     "name": "stdout",
     "output_type": "stream",
     "text": [
      "1\n"
     ]
    }
   ],
   "source": [
    "T = int(input())\n",
    "i = 0\n",
    "\n",
    "while i < T:\n",
    "    n = int(input())\n",
    "    count = 0\n",
    "\n",
    "    if n == 0:\n",
    "        count = 1\n",
    "    while n > 0:\n",
    "        n //= 10 # same as n = n // 10\n",
    "        count += 1\n",
    "    print(count)\n",
    "    i += 1"
   ]
  },
  {
   "cell_type": "code",
   "execution_count": 39,
   "id": "24489daf-80de-4676-9285-38ca8ee28e9e",
   "metadata": {
    "jp-MarkdownHeadingCollapsed": true,
    "tags": []
   },
   "outputs": [
    {
     "name": "stdin",
     "output_type": "stream",
     "text": [
      " 3\n"
     ]
    },
    {
     "name": "stdout",
     "output_type": "stream",
     "text": [
      "1\n"
     ]
    }
   ],
   "source": [
    "n = int(input())\n",
    "count = 0\n",
    "\n",
    "if n == 0:\n",
    "    count = 1\n",
    "while n > 0:\n",
    "    n //= 10 # same as n = n // 10\n",
    "    count += 1\n",
    "print(count)"
   ]
  },
  {
   "cell_type": "code",
   "execution_count": null,
   "id": "63ec55b8-f678-454d-bb83-f9dada27af6c",
   "metadata": {},
   "outputs": [],
   "source": []
  },
  {
   "cell_type": "code",
   "execution_count": 38,
   "id": "ad70ccf7-90d9-4777-ad13-2466ddda36fd",
   "metadata": {},
   "outputs": [],
   "source": [
    "# Can we start again?"
   ]
  },
  {
   "cell_type": "code",
   "execution_count": null,
   "id": "2f8b65a1-9e15-417b-a4d9-a07983525b7f",
   "metadata": {},
   "outputs": [],
   "source": []
  },
  {
   "cell_type": "code",
   "execution_count": null,
   "id": "6e1055ce-418f-49b1-9ec9-65a57ef99901",
   "metadata": {},
   "outputs": [],
   "source": []
  },
  {
   "cell_type": "code",
   "execution_count": null,
   "id": "50f2abe7-067d-4921-b52f-f8496ffe1b66",
   "metadata": {},
   "outputs": [],
   "source": []
  },
  {
   "cell_type": "markdown",
   "id": "5129b797-91af-49b8-a33b-0f608047098c",
   "metadata": {},
   "source": [
    "### Problem 4"
   ]
  },
  {
   "cell_type": "markdown",
   "id": "1585c75e-5ad3-4946-8f18-f9292a7eca8a",
   "metadata": {},
   "source": [
    "**Sum the digits Python**\n",
    "\n",
    "Problem Description \n",
    "\n",
    "Write a program to input T numbers(N) from user and print the sum of the digits of the given numbers.\n",
    "\n",
    "\n",
    "\n",
    "Problem Constraints\n",
    "\n",
    "1 <= T <= 1000\n",
    "\n",
    "0 <= N <= 100000000\n",
    "\n",
    "\n",
    "\n",
    "Input Format\n",
    "\n",
    "First line is T which means number of test cases.\n",
    "\n",
    "Each next T lines contain an integer N.\n",
    "\n",
    "\n",
    "\n",
    "Output Format\n",
    "\n",
    "T lines each containing one integer representing sum of the digits of the input integer.\n",
    "\n",
    "\n",
    "Example Input\n",
    "\n",
    "Input 1:\n",
    "\n",
    "2\n",
    "\n",
    "5\n",
    "\n",
    "1001\n",
    "\n",
    "Input 2:\n",
    "\n",
    "2\n",
    "\n",
    "123\n",
    "\n",
    "1589\n",
    "\n",
    "\n",
    "Example Output\n",
    "\n",
    "Output 1:\n",
    "\n",
    "5\n",
    "\n",
    "2\n",
    "\n",
    "Output 2:\n",
    "\n",
    "6\n",
    "\n",
    "23\n",
    "\n",
    "\n",
    "Example Explanation\n",
    "\n",
    "Explanation 1:\n",
    "\n",
    "5 has only 1 digit hence sum is 5.\n",
    "\n",
    "Sum(1001) = 1+0+0+1 = 2.\n",
    "\n",
    "Explanation 2:\n",
    "\n",
    "Sum(123) = 1+2+3 = 6.\n",
    "\n",
    "Sum(1589) = 1+5+8+9 = 23."
   ]
  },
  {
   "cell_type": "code",
   "execution_count": 44,
   "id": "d871d017-05bc-4679-aab4-14775071846b",
   "metadata": {},
   "outputs": [
    {
     "name": "stdin",
     "output_type": "stream",
     "text": [
      " 1\n",
      " 0\n"
     ]
    },
    {
     "name": "stdout",
     "output_type": "stream",
     "text": [
      "0\n"
     ]
    }
   ],
   "source": [
    "T = int(input())\n",
    "i = 0\n",
    "\n",
    "while i < T:\n",
    "    n = int(input())\n",
    "    \n",
    "    total = 0\n",
    "    while n > 0:\n",
    "        last = n % 10\n",
    "        n = n // 10\n",
    "        total += last\n",
    "    print(total)\n",
    "    \n",
    "    i += 1"
   ]
  },
  {
   "cell_type": "markdown",
   "id": "b859a602-f124-478f-b6ce-85c89fa25f21",
   "metadata": {},
   "source": [
    "## Given a number check number of 1s present in it?"
   ]
  },
  {
   "cell_type": "code",
   "execution_count": 50,
   "id": "6b4260ab-b6b0-433c-89fc-54de37821a83",
   "metadata": {},
   "outputs": [
    {
     "name": "stdin",
     "output_type": "stream",
     "text": [
      " 0101\n"
     ]
    },
    {
     "name": "stdout",
     "output_type": "stream",
     "text": [
      "2\n"
     ]
    }
   ],
   "source": [
    "n = int(input())\n",
    "\n",
    "count = 0\n",
    "\n",
    "while n > 0:\n",
    "    # Get the last digit\n",
    "    last = n % 10\n",
    "    # Check if it's 1 \n",
    "    if last == 1:\n",
    "        count += 1\n",
    "    # reduce the value of n\n",
    "    n = n // 10\n",
    "    \n",
    "# print count\n",
    "print(count)"
   ]
  },
  {
   "cell_type": "code",
   "execution_count": null,
   "id": "bce34dae-f252-44a0-9218-010ea5347ba9",
   "metadata": {},
   "outputs": [],
   "source": []
  },
  {
   "cell_type": "code",
   "execution_count": null,
   "id": "8be9b4b1-3333-49ee-a4d0-d17ee387f8b8",
   "metadata": {},
   "outputs": [],
   "source": []
  },
  {
   "cell_type": "markdown",
   "id": "01065af7-6f25-4688-aaf1-05784cd18f4b",
   "metadata": {},
   "source": [
    "### Convert a binary number into Decimal"
   ]
  },
  {
   "cell_type": "code",
   "execution_count": null,
   "id": "de249fb8-7a0a-4648-9f30-04291a5528fd",
   "metadata": {},
   "outputs": [],
   "source": []
  },
  {
   "cell_type": "code",
   "execution_count": null,
   "id": "d9dba906-22d9-456d-9bca-56d41b7aaf85",
   "metadata": {},
   "outputs": [],
   "source": []
  },
  {
   "cell_type": "code",
   "execution_count": null,
   "id": "6f847795-fe5c-424c-bedd-0070cfe8d970",
   "metadata": {},
   "outputs": [],
   "source": []
  },
  {
   "cell_type": "code",
   "execution_count": null,
   "id": "4bec819b-50f0-4644-8a50-97c1a7f1406e",
   "metadata": {},
   "outputs": [],
   "source": []
  },
  {
   "cell_type": "code",
   "execution_count": null,
   "id": "0adce335-9edf-44ed-8cbd-10e020b6b0f8",
   "metadata": {},
   "outputs": [],
   "source": []
  },
  {
   "cell_type": "code",
   "execution_count": null,
   "id": "5618e732-caa0-46d1-81c7-be6a0cd08cc4",
   "metadata": {},
   "outputs": [],
   "source": []
  },
  {
   "cell_type": "code",
   "execution_count": null,
   "id": "2557782a-f5c5-4d37-a6d2-e535bdced2f5",
   "metadata": {},
   "outputs": [],
   "source": []
  },
  {
   "cell_type": "code",
   "execution_count": null,
   "id": "8fd1c0f0-d3d4-4a49-bc60-7d2793de4dd2",
   "metadata": {},
   "outputs": [],
   "source": []
  },
  {
   "cell_type": "code",
   "execution_count": null,
   "id": "ccec6531-98d9-4532-8885-d4aad9a4a548",
   "metadata": {},
   "outputs": [],
   "source": []
  },
  {
   "cell_type": "code",
   "execution_count": null,
   "id": "def70edf-7e56-4fcf-9d14-843c7f0cbdd9",
   "metadata": {},
   "outputs": [],
   "source": []
  },
  {
   "cell_type": "markdown",
   "id": "8ce7fc7b-cf0b-4d37-8038-f504843bea35",
   "metadata": {},
   "source": [
    "### Problem #4 (Homework Problem)"
   ]
  },
  {
   "cell_type": "markdown",
   "id": "8c2efaf1-53b5-43be-ae4b-3df29ba2b06e",
   "metadata": {},
   "source": [
    "**Sum the digits Python**\n",
    "\n",
    "Problem Description \n",
    "\n",
    "Write a program to input T numbers(N) from user and print the sum of the digits of the given numbers.\n",
    "\n",
    "\n",
    "\n",
    "Problem Constraints\n",
    "\n",
    "1 <= T <= 1000\n",
    "\n",
    "0 <= N <= 100000000\n",
    "\n",
    "\n",
    "\n",
    "Input Format\n",
    "\n",
    "First line is T which means number of test cases.\n",
    "\n",
    "Each next T lines contain an integer N.\n",
    "\n",
    "\n",
    "\n",
    "Output Format\n",
    "\n",
    "T lines each containing one integer representing sum of the digits of the input integer.\n",
    "\n",
    "\n",
    "Example Input\n",
    "\n",
    "Input 1:\n",
    "\n",
    "2\n",
    "\n",
    "5\n",
    "\n",
    "1001\n",
    "\n",
    "Input 2:\n",
    "\n",
    "2\n",
    "\n",
    "123\n",
    "\n",
    "1589\n",
    "\n",
    "\n",
    "Example Output\n",
    "\n",
    "Output 1:\n",
    "\n",
    "5\n",
    "\n",
    "2\n",
    "\n",
    "Output 2:\n",
    "\n",
    "6\n",
    "\n",
    "23\n",
    "\n",
    "\n",
    "Example Explanation\n",
    "\n",
    "Explanation 1:\n",
    "\n",
    "5 has only 1 digit hence sum is 5.\n",
    "\n",
    "Sum(1001) = 1+0+0+1 = 2.\n",
    "\n",
    "Explanation 2:\n",
    "\n",
    "Sum(123) = 1+2+3 = 6.\n",
    "\n",
    "Sum(1589) = 1+5+8+9 = 23."
   ]
  },
  {
   "cell_type": "code",
   "execution_count": null,
   "id": "ee2721b5-5a70-4e71-8296-9dfa89986480",
   "metadata": {},
   "outputs": [],
   "source": []
  },
  {
   "cell_type": "code",
   "execution_count": null,
   "id": "422fe351-b2b8-413a-bcf9-5c7e69e92afe",
   "metadata": {},
   "outputs": [],
   "source": []
  },
  {
   "cell_type": "code",
   "execution_count": null,
   "id": "c5e18453-5ad1-4d65-944a-f6a06e8956b3",
   "metadata": {},
   "outputs": [],
   "source": []
  },
  {
   "cell_type": "code",
   "execution_count": null,
   "id": "e8d3c902-422f-4b8c-bfb8-430639f5db6f",
   "metadata": {},
   "outputs": [],
   "source": []
  },
  {
   "cell_type": "code",
   "execution_count": null,
   "id": "27fa365a-1870-489e-831f-ae51c45e36a4",
   "metadata": {},
   "outputs": [],
   "source": []
  },
  {
   "cell_type": "code",
   "execution_count": null,
   "id": "35021e1d-b719-488b-92fc-c6a6198c3cb1",
   "metadata": {},
   "outputs": [],
   "source": []
  },
  {
   "cell_type": "code",
   "execution_count": null,
   "id": "aedde9fb-d931-4b95-ba89-0b1d74f11339",
   "metadata": {},
   "outputs": [],
   "source": []
  },
  {
   "cell_type": "code",
   "execution_count": null,
   "id": "e5afccf1-e836-45c8-806e-e39ab70c6969",
   "metadata": {},
   "outputs": [],
   "source": []
  },
  {
   "cell_type": "code",
   "execution_count": null,
   "id": "0fdfbec2-8bea-4e80-830f-924292becb11",
   "metadata": {},
   "outputs": [],
   "source": []
  },
  {
   "cell_type": "code",
   "execution_count": null,
   "id": "d1ddcefa-87d4-45c3-87d1-d560d81b5c06",
   "metadata": {},
   "outputs": [],
   "source": []
  },
  {
   "cell_type": "markdown",
   "id": "00e7d658-6d2b-4823-a646-345218d2524c",
   "metadata": {},
   "source": [
    "### Problem #5"
   ]
  },
  {
   "cell_type": "markdown",
   "id": "f405a944-13ca-43be-b741-522f2e3c2beb",
   "metadata": {},
   "source": [
    "Write a program to convert a binary number to decimal number"
   ]
  },
  {
   "cell_type": "code",
   "execution_count": null,
   "id": "e3ee6d1e-24c1-493d-847b-d212edcccf50",
   "metadata": {},
   "outputs": [],
   "source": []
  },
  {
   "cell_type": "code",
   "execution_count": null,
   "id": "6013e088-1f12-46da-af0a-b503cb233dea",
   "metadata": {},
   "outputs": [],
   "source": []
  },
  {
   "cell_type": "code",
   "execution_count": null,
   "id": "205ff92e-547b-4a07-a3b6-83208ac54ead",
   "metadata": {},
   "outputs": [],
   "source": []
  },
  {
   "cell_type": "code",
   "execution_count": null,
   "id": "2ad58658-2035-49bf-9855-2349d3530475",
   "metadata": {},
   "outputs": [],
   "source": []
  },
  {
   "cell_type": "code",
   "execution_count": null,
   "id": "77765a38-4f7d-4ed3-a625-1bcf1d3aad4b",
   "metadata": {},
   "outputs": [],
   "source": []
  },
  {
   "cell_type": "code",
   "execution_count": null,
   "id": "e540fcff-ff44-465d-8ddf-fef601117869",
   "metadata": {},
   "outputs": [],
   "source": []
  },
  {
   "cell_type": "code",
   "execution_count": null,
   "id": "2f35433c-a0e9-41a7-a8e6-4b37e79b1d1f",
   "metadata": {},
   "outputs": [],
   "source": []
  },
  {
   "cell_type": "code",
   "execution_count": null,
   "id": "01a4c6d3-08b2-42a0-86ee-1375d561ca3d",
   "metadata": {},
   "outputs": [],
   "source": []
  },
  {
   "cell_type": "code",
   "execution_count": null,
   "id": "cf48814b-37f1-4862-8fe1-b05bb898cebe",
   "metadata": {},
   "outputs": [],
   "source": []
  },
  {
   "cell_type": "code",
   "execution_count": null,
   "id": "4c495522-1d2d-4841-a2f1-fc69ace7968b",
   "metadata": {},
   "outputs": [],
   "source": []
  },
  {
   "cell_type": "code",
   "execution_count": null,
   "id": "e2d6a859-602c-460c-93e2-d823134a2ccd",
   "metadata": {},
   "outputs": [],
   "source": []
  },
  {
   "cell_type": "code",
   "execution_count": null,
   "id": "9828bd1f-08ba-46c5-ab70-64babe6342f0",
   "metadata": {},
   "outputs": [],
   "source": []
  },
  {
   "cell_type": "code",
   "execution_count": null,
   "id": "75159526-1456-4df7-8cc6-27d4fbeefc02",
   "metadata": {},
   "outputs": [],
   "source": []
  },
  {
   "cell_type": "markdown",
   "id": "50809652-73bb-44c3-95df-6945d29506c2",
   "metadata": {},
   "source": [
    "### Problem #6"
   ]
  },
  {
   "cell_type": "markdown",
   "id": "f408fed4-e578-40ff-a7c1-48d874470f21",
   "metadata": {},
   "source": [
    "Count the amount of ones in the binary representation of an integer. For example, since 12 is 1100 in binary, the return value should be 2."
   ]
  },
  {
   "cell_type": "code",
   "execution_count": null,
   "id": "cbb6a382-a626-4c50-ac2f-4667f89a057e",
   "metadata": {},
   "outputs": [],
   "source": []
  },
  {
   "cell_type": "code",
   "execution_count": null,
   "id": "7f4f3761-a3ce-4e42-82f7-630a8f0cd000",
   "metadata": {},
   "outputs": [],
   "source": []
  },
  {
   "cell_type": "code",
   "execution_count": null,
   "id": "5449d8fa-ef1d-4265-9b32-c3b3822ea694",
   "metadata": {},
   "outputs": [],
   "source": []
  },
  {
   "cell_type": "code",
   "execution_count": null,
   "id": "99d4f391-0321-4a03-b590-32dab692ad0d",
   "metadata": {},
   "outputs": [],
   "source": []
  }
 ],
 "metadata": {
  "kernelspec": {
   "display_name": "Python 3 (ipykernel)",
   "language": "python",
   "name": "python3"
  },
  "language_info": {
   "codemirror_mode": {
    "name": "ipython",
    "version": 3
   },
   "file_extension": ".py",
   "mimetype": "text/x-python",
   "name": "python",
   "nbconvert_exporter": "python",
   "pygments_lexer": "ipython3",
   "version": "3.9.7"
  }
 },
 "nbformat": 4,
 "nbformat_minor": 5
}
