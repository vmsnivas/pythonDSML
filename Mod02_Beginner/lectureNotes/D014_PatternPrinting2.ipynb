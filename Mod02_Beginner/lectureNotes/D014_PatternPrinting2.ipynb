{
 "cells": [
  {
   "cell_type": "markdown",
   "id": "6bb5dce0-62b6-40f1-885f-5f85ed7eaf31",
   "metadata": {},
   "source": [
    "### Warm up Problem"
   ]
  },
  {
   "cell_type": "markdown",
   "id": "ff612624-53f0-4e0e-b90c-764aa24f78ba",
   "metadata": {},
   "source": [
    "### Reverse the number"
   ]
  },
  {
   "cell_type": "code",
   "execution_count": 3,
   "id": "43887809-fbea-4030-a800-65627c3223d1",
   "metadata": {},
   "outputs": [
    {
     "name": "stdout",
     "output_type": "stream",
     "text": [
      "3\n",
      "2\n",
      "5\n",
      "1\n"
     ]
    }
   ],
   "source": [
    "n = 1523\n",
    "\n",
    "while n > 0:\n",
    "    dig = n % 10\n",
    "    n = n // 10\n",
    "    print(dig)"
   ]
  },
  {
   "cell_type": "code",
   "execution_count": 4,
   "id": "ee96d9f8-2170-4056-90f8-5bdf0dd0758e",
   "metadata": {},
   "outputs": [],
   "source": [
    "# rev"
   ]
  },
  {
   "cell_type": "code",
   "execution_count": 6,
   "id": "3b36aebd-5358-4bdf-865a-95d0ae529211",
   "metadata": {},
   "outputs": [
    {
     "name": "stdout",
     "output_type": "stream",
     "text": [
      "3251\n"
     ]
    }
   ],
   "source": [
    "n = 1523\n",
    "\n",
    "rev = 0\n",
    "while n > 0:\n",
    "    dig = n % 10\n",
    "    rev = rev * 10 + dig\n",
    "    n = n // 10\n",
    "print(rev)"
   ]
  },
  {
   "cell_type": "code",
   "execution_count": null,
   "id": "72654c86-eae5-46be-a1ee-5b5e5820eccb",
   "metadata": {},
   "outputs": [],
   "source": []
  },
  {
   "cell_type": "code",
   "execution_count": 7,
   "id": "8b08ac29-da2c-4f42-9b04-54711bb0e303",
   "metadata": {},
   "outputs": [
    {
     "name": "stdout",
     "output_type": "stream",
     "text": [
      "351\n"
     ]
    }
   ],
   "source": [
    "n = 153000\n",
    "\n",
    "rev = 0\n",
    "while n > 0:\n",
    "    dig = n % 10\n",
    "    rev = rev * 10 + dig\n",
    "    n = n // 10\n",
    "print(rev)"
   ]
  },
  {
   "cell_type": "code",
   "execution_count": null,
   "id": "873a7ca5-85c1-49d9-9d8e-b0220d720065",
   "metadata": {},
   "outputs": [],
   "source": []
  },
  {
   "cell_type": "code",
   "execution_count": 36,
   "id": "d7a3f314-ad77-4873-a619-3a8710906ae0",
   "metadata": {},
   "outputs": [
    {
     "name": "stdout",
     "output_type": "stream",
     "text": [
      "4321\n"
     ]
    }
   ],
   "source": [
    "n = 1234\n",
    "\n",
    "rev = 0\n",
    "while n > 0:\n",
    "    dig = n % 10\n",
    "    rev = rev * 10 + dig\n",
    "    n = n // 10\n",
    "print(rev)"
   ]
  },
  {
   "cell_type": "code",
   "execution_count": null,
   "id": "405e8b89-2026-4283-ac0a-e1143a78c446",
   "metadata": {},
   "outputs": [],
   "source": []
  },
  {
   "cell_type": "code",
   "execution_count": null,
   "id": "3720c9b4-264d-4ca8-a078-bbdbed246b52",
   "metadata": {},
   "outputs": [],
   "source": []
  },
  {
   "cell_type": "code",
   "execution_count": null,
   "id": "78ff6c83-0e85-43ce-9d28-9a1ce16778f1",
   "metadata": {},
   "outputs": [],
   "source": []
  },
  {
   "cell_type": "code",
   "execution_count": null,
   "id": "a7abeed4-e444-4e96-83d5-b6869f21a380",
   "metadata": {},
   "outputs": [],
   "source": []
  },
  {
   "cell_type": "markdown",
   "id": "84a5e4a2-4156-4087-84d1-06a80ba14741",
   "metadata": {},
   "source": [
    "### Pattern"
   ]
  },
  {
   "cell_type": "code",
   "execution_count": 8,
   "id": "7a7ff746-f3ef-4e03-886e-dac540f92bb9",
   "metadata": {},
   "outputs": [
    {
     "name": "stdout",
     "output_type": "stream",
     "text": [
      "0\n",
      "1\n",
      "2\n",
      "3\n"
     ]
    }
   ],
   "source": [
    "for i in range(4):\n",
    "    print(i)"
   ]
  },
  {
   "cell_type": "code",
   "execution_count": 12,
   "id": "fcaa77d3-f485-40b6-b7d7-394a470eac84",
   "metadata": {},
   "outputs": [
    {
     "name": "stdin",
     "output_type": "stream",
     "text": [
      " 3\n"
     ]
    },
    {
     "name": "stdout",
     "output_type": "stream",
     "text": [
      "  *\n",
      " **\n",
      "***\n"
     ]
    }
   ],
   "source": [
    "n = int(input())\n",
    "\n",
    "for i in range(1, n+1):\n",
    "    # how many spaces for each row\n",
    "    for j in range(n-i):\n",
    "        print(\" \", end=\"\")\n",
    "    # How many stars for each row\n",
    "    for k in range(i):\n",
    "        print(\"*\", end=\"\")\n",
    "    # after every row print a new line\n",
    "    print()"
   ]
  },
  {
   "cell_type": "code",
   "execution_count": null,
   "id": "ae23880c-619c-477c-915f-ef9249c65354",
   "metadata": {},
   "outputs": [],
   "source": []
  },
  {
   "cell_type": "code",
   "execution_count": null,
   "id": "a0dd1d1f-4347-423a-ac9d-2b11c18e17c2",
   "metadata": {},
   "outputs": [],
   "source": []
  },
  {
   "cell_type": "code",
   "execution_count": null,
   "id": "6a39022d-45e5-4571-9d27-6696a69667d5",
   "metadata": {},
   "outputs": [],
   "source": []
  },
  {
   "cell_type": "markdown",
   "id": "440d5b1a-0b3e-4a1b-bc2a-7b73c9621a61",
   "metadata": {},
   "source": [
    "### Pattern 2"
   ]
  },
  {
   "cell_type": "code",
   "execution_count": 16,
   "id": "35c75814-3231-43d4-bce1-367d82afe1b4",
   "metadata": {},
   "outputs": [
    {
     "name": "stdin",
     "output_type": "stream",
     "text": [
      " 4\n"
     ]
    },
    {
     "name": "stdout",
     "output_type": "stream",
     "text": [
      "****\n",
      " ***\n",
      "  **\n",
      "   *\n"
     ]
    }
   ],
   "source": [
    "n = int(input())\n",
    "\n",
    "for i in range(1, n+1):\n",
    "    # How many spaces for each row\n",
    "    for j in range(i-1):\n",
    "        print(\" \", end=\"\")\n",
    "    # How many stars \n",
    "    for k in range(n - i + 1):\n",
    "        print(\"*\", end=\"\")\n",
    "    print()"
   ]
  },
  {
   "cell_type": "code",
   "execution_count": 17,
   "id": "14de2564-5d10-4149-bb6e-69e7a53386c1",
   "metadata": {},
   "outputs": [
    {
     "name": "stdin",
     "output_type": "stream",
     "text": [
      " 4\n"
     ]
    },
    {
     "name": "stdout",
     "output_type": "stream",
     "text": [
      "****\n",
      "*** \n",
      "**  \n",
      "*   \n"
     ]
    }
   ],
   "source": [
    "n = int(input())\n",
    "\n",
    "for i in range(1, n+1):\n",
    "    # How many stars \n",
    "    for k in range(n - i + 1):\n",
    "        print(\"*\", end=\"\")\n",
    "    # How many spaces for each row\n",
    "    for j in range(i-1):\n",
    "        print(\" \", end=\"\")\n",
    "    \n",
    "    print()"
   ]
  },
  {
   "cell_type": "code",
   "execution_count": null,
   "id": "6b37680b-4ceb-4175-8292-f7a50f91034e",
   "metadata": {},
   "outputs": [],
   "source": []
  },
  {
   "cell_type": "code",
   "execution_count": null,
   "id": "1cd06462-2452-4c85-8e15-b4d1f44ee4f2",
   "metadata": {},
   "outputs": [],
   "source": []
  },
  {
   "cell_type": "code",
   "execution_count": null,
   "id": "7bb30169-1382-4533-8e1c-768b1e9d5f53",
   "metadata": {},
   "outputs": [],
   "source": []
  },
  {
   "cell_type": "code",
   "execution_count": null,
   "id": "a029a454-d5ac-4469-aa21-fac00a92314e",
   "metadata": {},
   "outputs": [],
   "source": []
  },
  {
   "cell_type": "markdown",
   "id": "95e9415f-e27f-4fb9-8d93-30736ef07607",
   "metadata": {},
   "source": [
    "### Upper part of hollow diamond"
   ]
  },
  {
   "cell_type": "code",
   "execution_count": 23,
   "id": "29ee43b1-8b2d-4ef7-b7b0-86bcf947a28a",
   "metadata": {},
   "outputs": [
    {
     "name": "stdin",
     "output_type": "stream",
     "text": [
      " 3\n"
     ]
    },
    {
     "name": "stdout",
     "output_type": "stream",
     "text": [
      "******\n",
      "**  **\n",
      "*    *\n"
     ]
    }
   ],
   "source": [
    "n = int(input())\n",
    "\n",
    "for i in range(1, n+1):\n",
    "    # stars\n",
    "    for j in range(n-i+1):\n",
    "        print(\"*\", end=\"\")\n",
    "    # total spaces\n",
    "    for k in range(2*(i-1)):\n",
    "        print(\" \", end=\"\")\n",
    "    # remaining stars\n",
    "    for m in range(n-i+1):\n",
    "        print(\"*\", end=\"\")\n",
    "    print()"
   ]
  },
  {
   "cell_type": "code",
   "execution_count": null,
   "id": "a534dc79-c6ae-4068-a6ef-e4706a7670fc",
   "metadata": {},
   "outputs": [],
   "source": []
  },
  {
   "cell_type": "code",
   "execution_count": null,
   "id": "23bec8d2-0895-45cd-8b14-ad41d2cb05e2",
   "metadata": {},
   "outputs": [],
   "source": []
  },
  {
   "cell_type": "markdown",
   "id": "da7c1acd-6b17-4ece-9359-38bbe6f3b647",
   "metadata": {},
   "source": [
    "### Lower part of Hollow diamond"
   ]
  },
  {
   "cell_type": "code",
   "execution_count": 25,
   "id": "469b87da-6a33-47cd-b17b-a8b419cd5869",
   "metadata": {},
   "outputs": [
    {
     "name": "stdin",
     "output_type": "stream",
     "text": [
      " 4\n"
     ]
    },
    {
     "name": "stdout",
     "output_type": "stream",
     "text": [
      "*      *\n",
      "**    **\n",
      "***  ***\n",
      "********\n"
     ]
    }
   ],
   "source": [
    "n = int(input())\n",
    "\n",
    "for i in range(1, n+1):\n",
    "    # stars\n",
    "    for j in range(i):\n",
    "        print(\"*\", end=\"\")\n",
    "    # total spaces\n",
    "    for k in range(2*(n-i)):\n",
    "        print(\" \", end=\"\")\n",
    "    # remaining stars\n",
    "    for m in range(i):\n",
    "        print(\"*\", end=\"\")\n",
    "    print()"
   ]
  },
  {
   "cell_type": "code",
   "execution_count": null,
   "id": "0f4c00dd-0af4-4104-984d-a0e9224053ed",
   "metadata": {},
   "outputs": [],
   "source": []
  },
  {
   "cell_type": "code",
   "execution_count": null,
   "id": "691dd39b-ea5b-4aec-be28-bb5c3dc093f8",
   "metadata": {},
   "outputs": [],
   "source": []
  },
  {
   "cell_type": "markdown",
   "id": "94c051b7-194f-49c5-856f-cb36c8b35e04",
   "metadata": {},
   "source": [
    "### Full Hollow diamond"
   ]
  },
  {
   "cell_type": "code",
   "execution_count": 27,
   "id": "d7fe184d-d912-4b91-8713-1b7a74127918",
   "metadata": {},
   "outputs": [
    {
     "name": "stdin",
     "output_type": "stream",
     "text": [
      " 3\n"
     ]
    },
    {
     "name": "stdout",
     "output_type": "stream",
     "text": [
      "******\n",
      "**  **\n",
      "*    *\n",
      "*    *\n",
      "**  **\n",
      "******\n"
     ]
    }
   ],
   "source": [
    "n = int(input())\n",
    "\n",
    "for i in range(1, n+1):\n",
    "    # stars\n",
    "    for j in range(n-i+1):\n",
    "        print(\"*\", end=\"\")\n",
    "    # total spaces\n",
    "    for k in range(2*(i-1)):\n",
    "        print(\" \", end=\"\")\n",
    "    # remaining stars\n",
    "    for m in range(n-i+1):\n",
    "        print(\"*\", end=\"\")\n",
    "    print()\n",
    "for i in range(1, n+1):\n",
    "    # stars\n",
    "    for j in range(i):\n",
    "        print(\"*\", end=\"\")\n",
    "    # total spaces\n",
    "    for k in range(2*(n-i)):\n",
    "        print(\" \", end=\"\")\n",
    "    # remaining stars\n",
    "    for m in range(i):\n",
    "        print(\"*\", end=\"\")\n",
    "    print()"
   ]
  },
  {
   "cell_type": "code",
   "execution_count": 30,
   "id": "63a6c944-6772-43b2-be44-bd0f78a0b836",
   "metadata": {},
   "outputs": [
    {
     "name": "stdin",
     "output_type": "stream",
     "text": [
      " 3\n"
     ]
    },
    {
     "name": "stdout",
     "output_type": "stream",
     "text": [
      "******\n",
      "**  **\n",
      "*    *\n",
      "**  **\n",
      "******\n"
     ]
    }
   ],
   "source": [
    "n = int(input())\n",
    "\n",
    "for i in range(1, n):\n",
    "    # stars\n",
    "    for j in range(n-i+1):\n",
    "        print(\"*\", end=\"\")\n",
    "    # total spaces\n",
    "    for k in range(2*(i-1)):\n",
    "        print(\" \", end=\"\")\n",
    "    # remaining stars\n",
    "    for m in range(n-i+1):\n",
    "        print(\"*\", end=\"\")\n",
    "    print()\n",
    "for i in range(1, n+1):\n",
    "    # stars\n",
    "    for j in range(i):\n",
    "        print(\"*\", end=\"\")\n",
    "    # total spaces\n",
    "    for k in range(2*(n-i)):\n",
    "        print(\" \", end=\"\")\n",
    "    # remaining stars\n",
    "    for m in range(i):\n",
    "        print(\"*\", end=\"\")\n",
    "    print()"
   ]
  },
  {
   "cell_type": "code",
   "execution_count": null,
   "id": "a127ca4d-b55a-4916-bdec-ae538343f0b3",
   "metadata": {},
   "outputs": [],
   "source": []
  },
  {
   "cell_type": "code",
   "execution_count": null,
   "id": "57c074e4-2875-4c61-af3b-fd32f4d841c0",
   "metadata": {},
   "outputs": [],
   "source": []
  },
  {
   "cell_type": "markdown",
   "id": "914673ba-dd2f-4d45-86d1-3bc3f266a9f9",
   "metadata": {},
   "source": [
    "### Filled diamond"
   ]
  },
  {
   "cell_type": "code",
   "execution_count": 32,
   "id": "049a8acb-788c-46b5-b493-d8c5329349a4",
   "metadata": {},
   "outputs": [
    {
     "name": "stdin",
     "output_type": "stream",
     "text": [
      " 5\n"
     ]
    },
    {
     "name": "stdout",
     "output_type": "stream",
     "text": [
      "          \n",
      "    **    \n",
      "   ****   \n",
      "  ******  \n",
      " ******** \n",
      "  ******  \n",
      "   ****   \n",
      "    **    \n",
      "          \n"
     ]
    }
   ],
   "source": [
    "n = int(input())\n",
    "\n",
    "for i in range(1, n):\n",
    "    # stars\n",
    "    for j in range(n-i+1):\n",
    "        print(\" \", end=\"\")\n",
    "    # total spaces\n",
    "    for k in range(2*(i-1)):\n",
    "        print(\"*\", end=\"\")\n",
    "    # remaining stars\n",
    "    for m in range(n-i+1):\n",
    "        print(\" \", end=\"\")\n",
    "    print()\n",
    "for i in range(1, n+1):\n",
    "    # stars\n",
    "    for j in range(i):\n",
    "        print(\" \", end=\"\")\n",
    "    # total spaces\n",
    "    for k in range(2*(n-i)):\n",
    "        print(\"*\", end=\"\")\n",
    "    # remaining stars\n",
    "    for m in range(i):\n",
    "        print(\" \", end=\"\")\n",
    "    print()"
   ]
  },
  {
   "cell_type": "code",
   "execution_count": 33,
   "id": "12f78cb0-797a-4642-8289-48ce22b5fa98",
   "metadata": {},
   "outputs": [],
   "source": [
    "# HW add 1 star at top and bottom"
   ]
  },
  {
   "cell_type": "code",
   "execution_count": null,
   "id": "63d19692-bb28-48df-a7b1-8f5b9310ee9a",
   "metadata": {},
   "outputs": [],
   "source": []
  },
  {
   "cell_type": "code",
   "execution_count": null,
   "id": "86fa778c-d1f0-4dc6-81a7-f0fa72e810ee",
   "metadata": {},
   "outputs": [],
   "source": []
  },
  {
   "cell_type": "code",
   "execution_count": 34,
   "id": "6acc833d-efc9-44f7-912b-52a6eafc5215",
   "metadata": {},
   "outputs": [],
   "source": [
    "## Doubts"
   ]
  },
  {
   "cell_type": "code",
   "execution_count": 35,
   "id": "c001f5bc-d96b-46a7-8fb9-d591cf6aaa61",
   "metadata": {},
   "outputs": [
    {
     "name": "stdout",
     "output_type": "stream",
     "text": [
      "1 3 6 10 15 "
     ]
    }
   ],
   "source": [
    "res = 0\n",
    "for i in range(1, 6):\n",
    "  res += i\n",
    "  print(res, end=' ')"
   ]
  },
  {
   "cell_type": "code",
   "execution_count": null,
   "id": "3c45fe38-74be-4d1d-8422-9bd09504c65c",
   "metadata": {},
   "outputs": [],
   "source": []
  }
 ],
 "metadata": {
  "kernelspec": {
   "display_name": "Python 3 (ipykernel)",
   "language": "python",
   "name": "python3"
  },
  "language_info": {
   "codemirror_mode": {
    "name": "ipython",
    "version": 3
   },
   "file_extension": ".py",
   "mimetype": "text/x-python",
   "name": "python",
   "nbconvert_exporter": "python",
   "pygments_lexer": "ipython3",
   "version": "3.9.7"
  }
 },
 "nbformat": 4,
 "nbformat_minor": 5
}
