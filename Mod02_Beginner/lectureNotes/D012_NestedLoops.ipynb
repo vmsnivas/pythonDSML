{
 "cells": [
  {
   "cell_type": "markdown",
   "id": "c9b803d4-128c-488d-88fa-59d803dc9ac9",
   "metadata": {},
   "source": [
    "### Take input as n and print:"
   ]
  },
  {
   "cell_type": "code",
   "execution_count": null,
   "id": "4aed3150-dee5-41b6-aafa-da0d255ef371",
   "metadata": {},
   "outputs": [],
   "source": [
    "# n = 4\n",
    "####"
   ]
  },
  {
   "cell_type": "code",
   "execution_count": 1,
   "id": "742ddc29-07bb-4a16-a315-3c7543b0fb11",
   "metadata": {},
   "outputs": [
    {
     "name": "stdout",
     "output_type": "stream",
     "text": [
      "####"
     ]
    }
   ],
   "source": [
    "for i in range(4):\n",
    "    print(\"#\", end=\"\")"
   ]
  },
  {
   "cell_type": "code",
   "execution_count": 2,
   "id": "47af3e35-c7bf-489a-81ae-51ca12d6ebc1",
   "metadata": {},
   "outputs": [],
   "source": [
    "# print 5 times"
   ]
  },
  {
   "cell_type": "code",
   "execution_count": 3,
   "id": "cd1f646c-d61f-4ae1-a089-9a4188b88200",
   "metadata": {},
   "outputs": [
    {
     "name": "stdout",
     "output_type": "stream",
     "text": [
      "#####"
     ]
    }
   ],
   "source": [
    "for i in range(5):\n",
    "    print(\"#\", end=\"\")"
   ]
  },
  {
   "cell_type": "code",
   "execution_count": null,
   "id": "0a39bc4c-c374-471f-9f1d-3129fd273f90",
   "metadata": {},
   "outputs": [],
   "source": []
  },
  {
   "cell_type": "code",
   "execution_count": null,
   "id": "5d3e1dd5-bc53-4dd9-b2bd-96e5f5d0174b",
   "metadata": {},
   "outputs": [],
   "source": []
  },
  {
   "cell_type": "code",
   "execution_count": null,
   "id": "35bdd551-6d47-4d17-8502-b57ece75fcea",
   "metadata": {},
   "outputs": [],
   "source": []
  },
  {
   "cell_type": "markdown",
   "id": "fc4c2bd8-fa38-4c82-b14a-acfb775960b5",
   "metadata": {},
   "source": [
    "### Problem 2"
   ]
  },
  {
   "cell_type": "code",
   "execution_count": 5,
   "id": "187562ea-7870-4716-9ac8-3a919ec44f35",
   "metadata": {},
   "outputs": [],
   "source": [
    "# N = 3\n",
    "\n",
    "###\n",
    "###\n",
    "###"
   ]
  },
  {
   "cell_type": "code",
   "execution_count": 12,
   "id": "b3a3ce62-b039-4f5d-90f2-e7e1ce4474b3",
   "metadata": {},
   "outputs": [
    {
     "name": "stdout",
     "output_type": "stream",
     "text": [
      "###\n",
      "###\n",
      "###\n"
     ]
    }
   ],
   "source": [
    "for i in range(3):\n",
    "    print(\"#\", end=\"\")\n",
    "# print is for next line\n",
    "print()\n",
    "    \n",
    "for i in range(3):\n",
    "    print(\"#\", end=\"\")\n",
    "print()\n",
    "\n",
    "for i in range(3):\n",
    "    print(\"#\", end=\"\")\n",
    "print()"
   ]
  },
  {
   "cell_type": "code",
   "execution_count": null,
   "id": "00729b35-a893-4541-927f-d6cc97066ab3",
   "metadata": {},
   "outputs": [],
   "source": []
  },
  {
   "cell_type": "code",
   "execution_count": null,
   "id": "1fb7b5ee-108c-433e-8254-23dae10d52dd",
   "metadata": {},
   "outputs": [],
   "source": []
  },
  {
   "cell_type": "code",
   "execution_count": null,
   "id": "5698b564-85a9-4b86-be58-09fa98d207c1",
   "metadata": {},
   "outputs": [],
   "source": []
  },
  {
   "cell_type": "markdown",
   "id": "b7edafe0-d67b-44bb-adab-6fca36e03383",
   "metadata": {},
   "source": [
    "### Nested for loop"
   ]
  },
  {
   "cell_type": "code",
   "execution_count": 14,
   "id": "559cb3d2-1f7c-45af-96e4-fe6d67f82223",
   "metadata": {},
   "outputs": [
    {
     "name": "stdout",
     "output_type": "stream",
     "text": [
      "###\n",
      "###\n",
      "###\n"
     ]
    }
   ],
   "source": [
    "# Outer loop is for number of rows\n",
    "for j in range(3):\n",
    "    # this loop is to print the # (columns)\n",
    "    for i in range(3):\n",
    "        print(\"#\", end=\"\")\n",
    "    print()"
   ]
  },
  {
   "cell_type": "code",
   "execution_count": null,
   "id": "9c790f39-0152-4474-95e9-d34d08d5f988",
   "metadata": {},
   "outputs": [],
   "source": [
    "for j in range(3):\n",
    "    for i in range(3):\n",
    "        print(\"#\", end=\"\")"
   ]
  },
  {
   "cell_type": "code",
   "execution_count": null,
   "id": "2529b427-1535-4a3a-85cf-8e075f0c58f8",
   "metadata": {},
   "outputs": [],
   "source": []
  },
  {
   "cell_type": "code",
   "execution_count": null,
   "id": "5dfae222-e09c-41e2-907d-e5287f6e605b",
   "metadata": {},
   "outputs": [],
   "source": []
  },
  {
   "cell_type": "code",
   "execution_count": 13,
   "id": "8c228f87-402d-42ee-bebc-a88470830f61",
   "metadata": {},
   "outputs": [],
   "source": [
    "# Quiz"
   ]
  },
  {
   "cell_type": "code",
   "execution_count": 11,
   "id": "b4d565de-af3d-4767-9553-eda8e2bb95f9",
   "metadata": {},
   "outputs": [
    {
     "name": "stdout",
     "output_type": "stream",
     "text": [
      "*********"
     ]
    }
   ],
   "source": [
    "for i in range(3):\n",
    "    print('*', end='')\n",
    "for i in range(3):\n",
    "    print('*', end='')\n",
    "for i in range(3):\n",
    "    print('*', end='')"
   ]
  },
  {
   "cell_type": "code",
   "execution_count": null,
   "id": "49e85652-bd8f-4b17-9404-36fc1a7d68a8",
   "metadata": {},
   "outputs": [],
   "source": []
  },
  {
   "cell_type": "code",
   "execution_count": 93,
   "id": "b31215f4-6bb5-48bb-a103-b4a5aeabef41",
   "metadata": {},
   "outputs": [
    {
     "name": "stdout",
     "output_type": "stream",
     "text": [
      "################"
     ]
    }
   ],
   "source": [
    "# Outer loop is for number of rows\n",
    "for j in range(4):\n",
    "    # this loop is to print the # (columns)\n",
    "    for i in range(4):\n",
    "        print(\"#\", end=\"\")"
   ]
  },
  {
   "cell_type": "code",
   "execution_count": 15,
   "id": "a2f57b68-cfed-4c07-a73e-51e5411442f4",
   "metadata": {},
   "outputs": [
    {
     "name": "stdout",
     "output_type": "stream",
     "text": [
      "####\n",
      "####\n",
      "####\n",
      "####\n"
     ]
    }
   ],
   "source": [
    "# Outer loop is for number of rows\n",
    "for j in range(4):\n",
    "    # this loop is to print the # (columns)\n",
    "    for i in range(4):\n",
    "        print(\"#\", end=\"\")\n",
    "    print()"
   ]
  },
  {
   "cell_type": "code",
   "execution_count": null,
   "id": "de3045b8-1a91-4bf7-8f42-e4432b922ecc",
   "metadata": {},
   "outputs": [],
   "source": []
  },
  {
   "cell_type": "markdown",
   "id": "729e2498-573b-45de-91d4-d5246157c68a",
   "metadata": {},
   "source": [
    "### Print N * N pattern"
   ]
  },
  {
   "cell_type": "code",
   "execution_count": 17,
   "id": "38d42c20-07fb-4344-a654-53512f982c8e",
   "metadata": {},
   "outputs": [
    {
     "name": "stdin",
     "output_type": "stream",
     "text": [
      " 5\n"
     ]
    },
    {
     "name": "stdout",
     "output_type": "stream",
     "text": [
      "#####\n",
      "#####\n",
      "#####\n",
      "#####\n",
      "#####\n"
     ]
    }
   ],
   "source": [
    "n = int(input())\n",
    "\n",
    "for j in range(n):\n",
    "    for i in range(n):\n",
    "        print(\"#\", end=\"\")\n",
    "    print()"
   ]
  },
  {
   "cell_type": "code",
   "execution_count": null,
   "id": "d80387be-7759-47e7-80c5-0348945b19c7",
   "metadata": {},
   "outputs": [],
   "source": []
  },
  {
   "cell_type": "markdown",
   "id": "97557783-2101-425e-b5e4-62c10066b1c1",
   "metadata": {},
   "source": [
    "#### Quiz"
   ]
  },
  {
   "cell_type": "code",
   "execution_count": 18,
   "id": "023e3a20-c323-444a-87dd-32ebb78ac1d6",
   "metadata": {},
   "outputs": [
    {
     "name": "stdout",
     "output_type": "stream",
     "text": [
      "*\n",
      "*\n"
     ]
    }
   ],
   "source": [
    "for i in range(2):\n",
    "    for j in range(1):\n",
    "        print('*', end='')\n",
    "    print()"
   ]
  },
  {
   "cell_type": "code",
   "execution_count": null,
   "id": "5f09c206-3a87-48c7-b18c-62c4e210404a",
   "metadata": {},
   "outputs": [],
   "source": []
  },
  {
   "cell_type": "code",
   "execution_count": 19,
   "id": "99df25ae-631d-415f-9c22-95991f04905e",
   "metadata": {},
   "outputs": [
    {
     "name": "stdout",
     "output_type": "stream",
     "text": [
      "**\n"
     ]
    }
   ],
   "source": [
    "for i in range(1):\n",
    "    for j in range(2):\n",
    "        print('*', end='')\n",
    "    print()"
   ]
  },
  {
   "cell_type": "code",
   "execution_count": 20,
   "id": "86c1eb81-c5a1-4330-8eb1-da318389f98c",
   "metadata": {},
   "outputs": [
    {
     "name": "stdout",
     "output_type": "stream",
     "text": [
      "*\n"
     ]
    }
   ],
   "source": [
    "n = 1\n",
    "for i in range(n):\n",
    "    for j in range(n):\n",
    "        print('*', end='')\n",
    "    print('')"
   ]
  },
  {
   "cell_type": "code",
   "execution_count": null,
   "id": "b83fc9e4-b62a-4ee8-a1d8-5032d1a6f22c",
   "metadata": {},
   "outputs": [],
   "source": []
  },
  {
   "cell_type": "code",
   "execution_count": 23,
   "id": "35b80057-22fc-4872-b374-86208d4a7b33",
   "metadata": {},
   "outputs": [
    {
     "name": "stdin",
     "output_type": "stream",
     "text": [
      " 3\n"
     ]
    },
    {
     "name": "stdout",
     "output_type": "stream",
     "text": [
      "******"
     ]
    }
   ],
   "source": [
    "n = int(input())\n",
    "for i in range(2):\n",
    "    for j in range(n):\n",
    "        print('*', end='')"
   ]
  },
  {
   "cell_type": "code",
   "execution_count": null,
   "id": "2727860b-edef-4cf0-92ac-dbc30990ea77",
   "metadata": {},
   "outputs": [],
   "source": []
  },
  {
   "cell_type": "code",
   "execution_count": null,
   "id": "0d67bb68-0c2a-4c2d-98c5-4701b280f56b",
   "metadata": {},
   "outputs": [],
   "source": []
  },
  {
   "cell_type": "code",
   "execution_count": null,
   "id": "39c160a8-cc73-4ce9-8b49-03f7e738cc28",
   "metadata": {},
   "outputs": [],
   "source": []
  },
  {
   "cell_type": "markdown",
   "id": "e8cf9f2b-4075-413e-96cd-89c633848a9a",
   "metadata": {},
   "source": [
    "### Iteration protocols"
   ]
  },
  {
   "cell_type": "code",
   "execution_count": 24,
   "id": "56b32d3f-199c-48b8-9d99-fbb157e6457e",
   "metadata": {},
   "outputs": [
    {
     "name": "stdout",
     "output_type": "stream",
     "text": [
      "0\n",
      "1\n",
      "2\n",
      "3\n",
      "4\n"
     ]
    }
   ],
   "source": [
    "for i in range(5):\n",
    "    print(i)"
   ]
  },
  {
   "cell_type": "code",
   "execution_count": 26,
   "id": "2e5beaf8-c212-4d33-a428-86f2e9fb9e31",
   "metadata": {},
   "outputs": [],
   "source": [
    "# how to know if anything is iterable?"
   ]
  },
  {
   "cell_type": "code",
   "execution_count": 30,
   "id": "d5fbb9a1-0281-483f-841e-d0cecd7a9395",
   "metadata": {},
   "outputs": [],
   "source": [
    "# print(dir(\"Rahul\"))"
   ]
  },
  {
   "cell_type": "code",
   "execution_count": 41,
   "id": "2cc73b75-5541-433e-a3a5-8e1dc70c4752",
   "metadata": {},
   "outputs": [],
   "source": [
    "# Here we are getting an iterator i with iterable range(5)\n",
    "i = iter(range(5))"
   ]
  },
  {
   "cell_type": "code",
   "execution_count": 42,
   "id": "2f19cb90-ed4a-43d7-beb0-3e9b5cce44ae",
   "metadata": {},
   "outputs": [
    {
     "name": "stdout",
     "output_type": "stream",
     "text": [
      "<class 'range_iterator'>\n"
     ]
    }
   ],
   "source": [
    "print(type(i))"
   ]
  },
  {
   "cell_type": "code",
   "execution_count": 43,
   "id": "43e5ce90-fddf-469d-83c5-fb796db7d391",
   "metadata": {},
   "outputs": [
    {
     "name": "stdout",
     "output_type": "stream",
     "text": [
      "0\n"
     ]
    }
   ],
   "source": [
    "print(next(i))"
   ]
  },
  {
   "cell_type": "code",
   "execution_count": 44,
   "id": "f85849df-5463-456a-86c5-1030bdb18ad8",
   "metadata": {},
   "outputs": [
    {
     "name": "stdout",
     "output_type": "stream",
     "text": [
      "1\n"
     ]
    }
   ],
   "source": [
    "print(next(i))"
   ]
  },
  {
   "cell_type": "code",
   "execution_count": 45,
   "id": "dba7f550-f670-43ef-abe9-6e062d53c942",
   "metadata": {},
   "outputs": [
    {
     "name": "stdout",
     "output_type": "stream",
     "text": [
      "2\n"
     ]
    }
   ],
   "source": [
    "print(next(i))"
   ]
  },
  {
   "cell_type": "code",
   "execution_count": 46,
   "id": "d05e915b-2712-4141-901f-fcbfaf318d35",
   "metadata": {},
   "outputs": [
    {
     "name": "stdout",
     "output_type": "stream",
     "text": [
      "3\n"
     ]
    }
   ],
   "source": [
    "print(next(i))"
   ]
  },
  {
   "cell_type": "code",
   "execution_count": 47,
   "id": "cc7e91de-43ef-40d8-84ce-79d48eaa05e9",
   "metadata": {},
   "outputs": [
    {
     "name": "stdout",
     "output_type": "stream",
     "text": [
      "4\n"
     ]
    }
   ],
   "source": [
    "print(next(i))"
   ]
  },
  {
   "cell_type": "code",
   "execution_count": 48,
   "id": "999bbe9f-2e07-4ebc-b843-61c402cb3b49",
   "metadata": {},
   "outputs": [
    {
     "ename": "StopIteration",
     "evalue": "",
     "output_type": "error",
     "traceback": [
      "\u001b[0;31m---------------------------------------------------------------------------\u001b[0m",
      "\u001b[0;31mStopIteration\u001b[0m                             Traceback (most recent call last)",
      "\u001b[0;32m/var/folders/zn/hkv6562d6_d30glfs8yc76900000gn/T/ipykernel_25072/728045058.py\u001b[0m in \u001b[0;36m<module>\u001b[0;34m\u001b[0m\n\u001b[1;32m      1\u001b[0m \u001b[0;31m# Here the range of iterator gets ended\u001b[0m\u001b[0;34m\u001b[0m\u001b[0;34m\u001b[0m\u001b[0m\n\u001b[0;32m----> 2\u001b[0;31m \u001b[0mprint\u001b[0m\u001b[0;34m(\u001b[0m\u001b[0mnext\u001b[0m\u001b[0;34m(\u001b[0m\u001b[0mi\u001b[0m\u001b[0;34m)\u001b[0m\u001b[0;34m)\u001b[0m\u001b[0;34m\u001b[0m\u001b[0;34m\u001b[0m\u001b[0m\n\u001b[0m",
      "\u001b[0;31mStopIteration\u001b[0m: "
     ]
    }
   ],
   "source": [
    "# Here the range of iterator gets ended\n",
    "print(next(i))"
   ]
  },
  {
   "cell_type": "code",
   "execution_count": 49,
   "id": "c3fe0b6c-86de-4505-a196-6875fadf4662",
   "metadata": {},
   "outputs": [],
   "source": [
    "# This is just a range object\n",
    "j = range(5)"
   ]
  },
  {
   "cell_type": "code",
   "execution_count": 50,
   "id": "df90f1fb-27eb-4523-b4f0-fdfb63ec2f8f",
   "metadata": {},
   "outputs": [
    {
     "name": "stdout",
     "output_type": "stream",
     "text": [
      "<class 'range'>\n"
     ]
    }
   ],
   "source": [
    "print(type(j))"
   ]
  },
  {
   "cell_type": "code",
   "execution_count": 51,
   "id": "72dfd4a8-9522-498b-bf46-77f7a98a6313",
   "metadata": {},
   "outputs": [
    {
     "name": "stdout",
     "output_type": "stream",
     "text": [
      "<range_iterator object at 0x7fb56849f4e0>\n"
     ]
    }
   ],
   "source": [
    "print(i)"
   ]
  },
  {
   "cell_type": "code",
   "execution_count": null,
   "id": "6aaefc60-6d8c-48f1-a429-e3737c526286",
   "metadata": {},
   "outputs": [],
   "source": []
  },
  {
   "cell_type": "code",
   "execution_count": null,
   "id": "1b18a2a5-2d9a-4ac7-8edf-4d0fdf0c8f92",
   "metadata": {},
   "outputs": [],
   "source": []
  },
  {
   "cell_type": "markdown",
   "id": "24bf644d-a3a3-4640-ad8d-7d4a9702bc28",
   "metadata": {},
   "source": [
    "### Quizzes"
   ]
  },
  {
   "cell_type": "code",
   "execution_count": 52,
   "id": "075d23e4-6425-4d8d-abac-8e64d63360ac",
   "metadata": {},
   "outputs": [
    {
     "name": "stdout",
     "output_type": "stream",
     "text": [
      "0\n",
      "1\n"
     ]
    }
   ],
   "source": [
    "i = iter(range(7))\n",
    "\n",
    "print(next(i))\n",
    "print(next(i))"
   ]
  },
  {
   "cell_type": "code",
   "execution_count": 53,
   "id": "23686076-edbf-43d9-9eb9-a7bb699aa7e0",
   "metadata": {},
   "outputs": [
    {
     "name": "stdout",
     "output_type": "stream",
     "text": [
      "0\n",
      "5\n"
     ]
    }
   ],
   "source": [
    "i = iter(range(7))\n",
    "\n",
    "print(next(i) * 3)\n",
    "print(next(i) * 5)"
   ]
  },
  {
   "cell_type": "code",
   "execution_count": 92,
   "id": "f72bd9bb-e769-467a-a659-31cd91a84044",
   "metadata": {},
   "outputs": [
    {
     "name": "stdout",
     "output_type": "stream",
     "text": [
      "0\n"
     ]
    }
   ],
   "source": [
    "i = iter(range(7))\n",
    "print(next(i))"
   ]
  },
  {
   "cell_type": "code",
   "execution_count": 75,
   "id": "e45e6457-2d94-41e4-9fd2-09a822ca48dd",
   "metadata": {},
   "outputs": [
    {
     "name": "stdout",
     "output_type": "stream",
     "text": [
      "1\n",
      "6\n"
     ]
    }
   ],
   "source": [
    "i = iter(range(1, 7, 5))\n",
    "\n",
    "print(next(i))\n",
    "print(next(i))"
   ]
  },
  {
   "cell_type": "code",
   "execution_count": null,
   "id": "ae45b920-d84a-49f9-9109-f0c278e68e36",
   "metadata": {},
   "outputs": [],
   "source": []
  },
  {
   "cell_type": "code",
   "execution_count": null,
   "id": "21a9286d-a19f-4d26-af66-3f48df234979",
   "metadata": {},
   "outputs": [],
   "source": []
  },
  {
   "cell_type": "code",
   "execution_count": 76,
   "id": "d0b9468d-41ec-40a8-b2ea-ca48f1000d1d",
   "metadata": {},
   "outputs": [
    {
     "name": "stdout",
     "output_type": "stream",
     "text": [
      "6\n"
     ]
    }
   ],
   "source": [
    "i = iter(range(1, 7, 5))\n",
    "res = next(i)\n",
    "res = next(i)\n",
    "print(res)"
   ]
  },
  {
   "cell_type": "code",
   "execution_count": null,
   "id": "144b3311-9b3b-4fc1-9f9e-74b44c73aba9",
   "metadata": {},
   "outputs": [],
   "source": []
  },
  {
   "cell_type": "markdown",
   "id": "2684b8f1-f55b-4a77-b8a7-8d1b83ef01d8",
   "metadata": {},
   "source": [
    "### GCD"
   ]
  },
  {
   "cell_type": "code",
   "execution_count": 86,
   "id": "0d5abc26-04c6-4d07-88bc-1f9e6bf5c00b",
   "metadata": {},
   "outputs": [
    {
     "name": "stdout",
     "output_type": "stream",
     "text": [
      "GCD is 8\n"
     ]
    }
   ],
   "source": [
    "A = 16\n",
    "B = 24\n",
    "\n",
    "# Find min of A and B\n",
    "minm = min(A, B)\n",
    "\n",
    "for i in range(minm, 0, -1):\n",
    "    # It will check if i is factor of both A and B\n",
    "    if A % i == 0 and B % i == 0:\n",
    "        print(\"GCD is\", i)\n",
    "        break"
   ]
  },
  {
   "cell_type": "code",
   "execution_count": 83,
   "id": "994b372b-e237-4714-ae42-ebbdacfbdcc5",
   "metadata": {},
   "outputs": [],
   "source": [
    "# Following code will print all the factors bcz no break"
   ]
  },
  {
   "cell_type": "code",
   "execution_count": 82,
   "id": "08afa303-41d8-4651-b221-1bf611b4a721",
   "metadata": {},
   "outputs": [
    {
     "name": "stdout",
     "output_type": "stream",
     "text": [
      "GCD is 8\n",
      "GCD is 4\n",
      "GCD is 2\n",
      "GCD is 1\n"
     ]
    }
   ],
   "source": [
    "A = 16\n",
    "B = 24\n",
    "minm = min(A, B)\n",
    "\n",
    "for i in range(minm, 0, -1):\n",
    "    if A % i == 0 and B % i == 0:\n",
    "        print(\"GCD is\", i)"
   ]
  },
  {
   "cell_type": "code",
   "execution_count": 90,
   "id": "cc350d43-5853-46e8-8ffd-02c2a19efb92",
   "metadata": {},
   "outputs": [
    {
     "name": "stdin",
     "output_type": "stream",
     "text": [
      " 5\n",
      " 10\n"
     ]
    },
    {
     "name": "stdout",
     "output_type": "stream",
     "text": [
      "GCD is 5\n"
     ]
    }
   ],
   "source": [
    "A = int(input())\n",
    "B = int(input())\n",
    "minm = min(A, B)\n",
    "\n",
    "for i in range(minm, 0, -1):\n",
    "    if A % i == 0 and B % i == 0:\n",
    "        print(\"GCD is\", i)\n",
    "        break"
   ]
  },
  {
   "cell_type": "code",
   "execution_count": null,
   "id": "b2d278d3-0b3b-4123-9e4b-05282f1cceb9",
   "metadata": {},
   "outputs": [],
   "source": []
  }
 ],
 "metadata": {
  "kernelspec": {
   "display_name": "Python 3 (ipykernel)",
   "language": "python",
   "name": "python3"
  },
  "language_info": {
   "codemirror_mode": {
    "name": "ipython",
    "version": 3
   },
   "file_extension": ".py",
   "mimetype": "text/x-python",
   "name": "python",
   "nbconvert_exporter": "python",
   "pygments_lexer": "ipython3",
   "version": "3.9.7"
  }
 },
 "nbformat": 4,
 "nbformat_minor": 5
}
