{
 "cells": [
  {
   "cell_type": "markdown",
   "id": "05d73624-2c16-4ff7-8aa3-efc51b49fe72",
   "metadata": {},
   "source": [
    "## Expression\n",
    "- Operators\n",
    "- Operands\n",
    "     - Operators + Operands = Expression"
   ]
  },
  {
   "cell_type": "code",
   "execution_count": null,
   "id": "5582d6a1-3623-442e-ac16-f89da9a6dc7f",
   "metadata": {},
   "outputs": [],
   "source": []
  },
  {
   "cell_type": "markdown",
   "id": "9b8c1763-62fb-4b40-9706-94e1d7ec74f3",
   "metadata": {},
   "source": [
    "##### An operator in a programming language is a symbol that to perform specific mathematical, relational or logical operation and produce final result."
   ]
  },
  {
   "cell_type": "code",
   "execution_count": null,
   "id": "3cac868d-f16a-406d-941e-aa773528fc85",
   "metadata": {},
   "outputs": [],
   "source": []
  },
  {
   "cell_type": "code",
   "execution_count": null,
   "id": "bc002bd5-1e1c-4a8f-be80-09a518480c1a",
   "metadata": {},
   "outputs": [],
   "source": []
  },
  {
   "cell_type": "code",
   "execution_count": null,
   "id": "00782908-361d-42b9-8144-6ab504eca142",
   "metadata": {},
   "outputs": [],
   "source": []
  },
  {
   "cell_type": "code",
   "execution_count": null,
   "id": "d573e9fe-3ce8-4055-bddb-4aa98a1b33d8",
   "metadata": {},
   "outputs": [],
   "source": []
  },
  {
   "cell_type": "code",
   "execution_count": null,
   "id": "b0b458d6-5817-4fcb-ba33-48719375350c",
   "metadata": {},
   "outputs": [],
   "source": []
  },
  {
   "cell_type": "code",
   "execution_count": null,
   "id": "45516a41-1a8c-45e1-82fe-7385d49a76a9",
   "metadata": {},
   "outputs": [],
   "source": []
  },
  {
   "cell_type": "code",
   "execution_count": null,
   "id": "fba32f32-d2cb-4208-be70-49f24d3e964f",
   "metadata": {},
   "outputs": [],
   "source": []
  },
  {
   "cell_type": "markdown",
   "id": "8159b5eb-4591-4f9f-852d-a479b1e1207c",
   "metadata": {},
   "source": [
    "## Arithmetic Operators\n",
    "- Addition\n",
    "- Subtraction\n",
    "- Division\n",
    "- mod (%)\n",
    "- Multiplication\n",
    "- Floor division (//)\n",
    "- To the power (**)"
   ]
  },
  {
   "cell_type": "code",
   "execution_count": 2,
   "id": "88057c5f-44f3-4845-be72-d0ee0036b2e0",
   "metadata": {},
   "outputs": [],
   "source": [
    "# These operators allow us to perform arithmetic operations in Python."
   ]
  },
  {
   "cell_type": "code",
   "execution_count": 7,
   "id": "1a33b6ed-2985-4922-8ec2-c560915e6e62",
   "metadata": {},
   "outputs": [
    {
     "name": "stdout",
     "output_type": "stream",
     "text": [
      "30\n"
     ]
    }
   ],
   "source": [
    "print(10 + 20)"
   ]
  },
  {
   "cell_type": "code",
   "execution_count": 10,
   "id": "d3eedec4-214b-4b5e-8561-a7f1c457cd8f",
   "metadata": {},
   "outputs": [
    {
     "name": "stdout",
     "output_type": "stream",
     "text": [
      "3.0\n"
     ]
    }
   ],
   "source": [
    "print(1.0 + 2)"
   ]
  },
  {
   "cell_type": "code",
   "execution_count": 9,
   "id": "2d7a9aed-013e-4aa6-88a7-fae06bef2c4c",
   "metadata": {},
   "outputs": [
    {
     "data": {
      "text/plain": [
       "float"
      ]
     },
     "execution_count": 9,
     "metadata": {},
     "output_type": "execute_result"
    }
   ],
   "source": [
    "type(1.0)"
   ]
  },
  {
   "cell_type": "code",
   "execution_count": 11,
   "id": "35990f36-5698-45cd-badc-110fb9cf3bfc",
   "metadata": {},
   "outputs": [
    {
     "name": "stdout",
     "output_type": "stream",
     "text": [
      "3.0\n"
     ]
    }
   ],
   "source": [
    "x = 1\n",
    "y = -2.0\n",
    "print(x - y)"
   ]
  },
  {
   "cell_type": "code",
   "execution_count": 12,
   "id": "22c0f9b5-15a0-40c8-bc66-e3970558962c",
   "metadata": {},
   "outputs": [
    {
     "name": "stdout",
     "output_type": "stream",
     "text": [
      "32\n"
     ]
    }
   ],
   "source": [
    "x = -4\n",
    "y = -8\n",
    "print(x * y)"
   ]
  },
  {
   "cell_type": "code",
   "execution_count": 14,
   "id": "c2aa8e94-3d28-4d6d-a62c-f905fabee662",
   "metadata": {},
   "outputs": [
    {
     "name": "stdout",
     "output_type": "stream",
     "text": [
      "RahulJanghu\n"
     ]
    }
   ],
   "source": [
    "# String concatenation\n",
    "name = \"Rahul\"\n",
    "last = \"Janghu\"\n",
    "\n",
    "print(name + last)"
   ]
  },
  {
   "cell_type": "code",
   "execution_count": 15,
   "id": "90ece318-bc7c-468c-a527-d8a8a88e86fd",
   "metadata": {},
   "outputs": [
    {
     "name": "stdout",
     "output_type": "stream",
     "text": [
      "4.0\n"
     ]
    }
   ],
   "source": [
    "print(10/2.5)"
   ]
  },
  {
   "cell_type": "code",
   "execution_count": 16,
   "id": "5e6c93ad-6163-4a42-8ccc-4f683a3b1899",
   "metadata": {},
   "outputs": [
    {
     "name": "stdout",
     "output_type": "stream",
     "text": [
      "5.0\n"
     ]
    }
   ],
   "source": [
    "print(15/3)"
   ]
  },
  {
   "cell_type": "code",
   "execution_count": 17,
   "id": "6d98df9e-e9e2-440b-90c7-af5779e5a713",
   "metadata": {},
   "outputs": [
    {
     "name": "stdout",
     "output_type": "stream",
     "text": [
      "0.0\n"
     ]
    }
   ],
   "source": [
    "print(0/25)"
   ]
  },
  {
   "cell_type": "code",
   "execution_count": null,
   "id": "7d4d2488-0199-43d0-b671-638e6bfb1546",
   "metadata": {},
   "outputs": [],
   "source": []
  },
  {
   "cell_type": "code",
   "execution_count": null,
   "id": "401509f0-f8e1-4e2c-9fe9-3d140be502dc",
   "metadata": {},
   "outputs": [],
   "source": []
  },
  {
   "cell_type": "code",
   "execution_count": null,
   "id": "851ae0b5-aa1d-44e0-9237-aecda47169e7",
   "metadata": {},
   "outputs": [],
   "source": []
  },
  {
   "cell_type": "code",
   "execution_count": null,
   "id": "ee85ff03-75f5-4c0c-963f-3cd716dc030a",
   "metadata": {},
   "outputs": [],
   "source": []
  },
  {
   "cell_type": "code",
   "execution_count": 4,
   "id": "3bb76348-2646-4c65-a8a5-fc6c9a1941fd",
   "metadata": {},
   "outputs": [],
   "source": [
    "# // In floor division, the result is floored to the nearest smaller integer"
   ]
  },
  {
   "cell_type": "code",
   "execution_count": 23,
   "id": "4b4fb920-1490-4bfc-9816-9380e0871b1e",
   "metadata": {},
   "outputs": [
    {
     "ename": "ZeroDivisionError",
     "evalue": "integer division or modulo by zero",
     "output_type": "error",
     "traceback": [
      "\u001b[0;31m---------------------------------------------------------------------------\u001b[0m",
      "\u001b[0;31mZeroDivisionError\u001b[0m                         Traceback (most recent call last)",
      "\u001b[0;32m/var/folders/zn/hkv6562d6_d30glfs8yc76900000gn/T/ipykernel_2648/559912205.py\u001b[0m in \u001b[0;36m<module>\u001b[0;34m\u001b[0m\n\u001b[0;32m----> 1\u001b[0;31m \u001b[0mprint\u001b[0m\u001b[0;34m(\u001b[0m\u001b[0;36m10\u001b[0m \u001b[0;34m//\u001b[0m \u001b[0;36m0\u001b[0m\u001b[0;34m)\u001b[0m\u001b[0;34m\u001b[0m\u001b[0;34m\u001b[0m\u001b[0m\n\u001b[0m",
      "\u001b[0;31mZeroDivisionError\u001b[0m: integer division or modulo by zero"
     ]
    }
   ],
   "source": [
    "print(10 // 0)"
   ]
  },
  {
   "cell_type": "code",
   "execution_count": null,
   "id": "7c476a03-db85-4be2-9a54-c95664b90b7e",
   "metadata": {},
   "outputs": [],
   "source": []
  },
  {
   "cell_type": "code",
   "execution_count": null,
   "id": "28853970-c477-40e3-af7b-4589ff785e9d",
   "metadata": {},
   "outputs": [],
   "source": []
  },
  {
   "cell_type": "code",
   "execution_count": null,
   "id": "6cf8e81a-0783-44ff-bd7d-71b9cf1c63fe",
   "metadata": {},
   "outputs": [],
   "source": []
  },
  {
   "cell_type": "code",
   "execution_count": null,
   "id": "3d325cc4-7c47-427e-b574-26a2e4b4f049",
   "metadata": {},
   "outputs": [],
   "source": []
  },
  {
   "cell_type": "code",
   "execution_count": null,
   "id": "34504221-29b4-40a3-bb6c-14c5476fd0f7",
   "metadata": {},
   "outputs": [],
   "source": []
  },
  {
   "cell_type": "code",
   "execution_count": null,
   "id": "35ebb0dd-cd09-4eae-9bd4-e65e0b73e5ed",
   "metadata": {},
   "outputs": [],
   "source": []
  },
  {
   "cell_type": "code",
   "execution_count": 5,
   "id": "03d06d2d-9ffc-4b0e-8837-9016ec0208b0",
   "metadata": {},
   "outputs": [],
   "source": [
    "# To the power accepts two values base and power"
   ]
  },
  {
   "cell_type": "code",
   "execution_count": 5,
   "id": "34552efc-97c3-4c22-9fbf-a0750f2d9383",
   "metadata": {},
   "outputs": [],
   "source": [
    "# Quiz"
   ]
  },
  {
   "cell_type": "code",
   "execution_count": 20,
   "id": "8f7a6206-a157-44ec-829e-42498664c56c",
   "metadata": {},
   "outputs": [
    {
     "name": "stdout",
     "output_type": "stream",
     "text": [
      "0.1\n"
     ]
    }
   ],
   "source": [
    "print(10 ** -1)"
   ]
  },
  {
   "cell_type": "code",
   "execution_count": null,
   "id": "efe558d8-6748-4b29-bb1a-02a96ff85ed7",
   "metadata": {},
   "outputs": [],
   "source": []
  },
  {
   "cell_type": "code",
   "execution_count": 26,
   "id": "52f39f4a-2ae9-44ec-9890-7bf50304ff9a",
   "metadata": {},
   "outputs": [],
   "source": [
    "# Modulus % : It will give remainder"
   ]
  },
  {
   "cell_type": "code",
   "execution_count": 25,
   "id": "4950dae7-3f98-42c4-a692-4b52ec350484",
   "metadata": {},
   "outputs": [
    {
     "name": "stdout",
     "output_type": "stream",
     "text": [
      "0\n"
     ]
    }
   ],
   "source": [
    "print(15 % 3)"
   ]
  },
  {
   "cell_type": "code",
   "execution_count": 30,
   "id": "3870d4d9-0a9a-47b5-88a5-344c181b0f00",
   "metadata": {},
   "outputs": [
    {
     "data": {
      "text/plain": [
       "2"
      ]
     },
     "execution_count": 30,
     "metadata": {},
     "output_type": "execute_result"
    }
   ],
   "source": [
    "4 // 2"
   ]
  },
  {
   "cell_type": "code",
   "execution_count": 31,
   "id": "3f618209-99d6-4b1d-b18d-4065b5e4391a",
   "metadata": {},
   "outputs": [
    {
     "data": {
      "text/plain": [
       "4"
      ]
     },
     "execution_count": 31,
     "metadata": {},
     "output_type": "execute_result"
    }
   ],
   "source": [
    "14 // 3"
   ]
  },
  {
   "cell_type": "code",
   "execution_count": 32,
   "id": "53eb7630-26fc-4011-9a79-2817ea4d9a6c",
   "metadata": {},
   "outputs": [
    {
     "data": {
      "text/plain": [
       "2"
      ]
     },
     "execution_count": 32,
     "metadata": {},
     "output_type": "execute_result"
    }
   ],
   "source": [
    "14 % 3"
   ]
  },
  {
   "cell_type": "code",
   "execution_count": null,
   "id": "df08350a-f354-46c8-a3e0-662d3a0afabe",
   "metadata": {},
   "outputs": [],
   "source": []
  },
  {
   "cell_type": "code",
   "execution_count": 34,
   "id": "75f35e8a-53a1-440b-8b12-2ac700cfb25c",
   "metadata": {},
   "outputs": [
    {
     "name": "stdout",
     "output_type": "stream",
     "text": [
      "4.0\n"
     ]
    }
   ],
   "source": [
    "print(10 - 4 * 2  + 5 - 6/2 )"
   ]
  },
  {
   "cell_type": "code",
   "execution_count": null,
   "id": "f4419258-54b9-4d11-9ff7-36438bbe3d76",
   "metadata": {},
   "outputs": [],
   "source": []
  },
  {
   "cell_type": "code",
   "execution_count": 35,
   "id": "b6764dee-e195-482b-8c9c-648f50308b20",
   "metadata": {},
   "outputs": [
    {
     "name": "stdout",
     "output_type": "stream",
     "text": [
      "729\n"
     ]
    }
   ],
   "source": [
    "x = 11\n",
    "y = 2\n",
    "z = 4\n",
    "res = (x + y - z) ** (x % z)\n",
    "print(res)"
   ]
  },
  {
   "cell_type": "code",
   "execution_count": null,
   "id": "f8304aaf-02f6-4961-b4ee-3ca42911faaf",
   "metadata": {},
   "outputs": [],
   "source": []
  },
  {
   "cell_type": "code",
   "execution_count": null,
   "id": "341646b2-db8f-45e5-8f28-88f515fe2620",
   "metadata": {},
   "outputs": [],
   "source": []
  },
  {
   "cell_type": "code",
   "execution_count": null,
   "id": "9f27e334-0932-4d3b-a708-0c88c07c6f11",
   "metadata": {},
   "outputs": [],
   "source": []
  },
  {
   "cell_type": "code",
   "execution_count": null,
   "id": "45fd26ce-3902-4f76-a731-e107e3f15f83",
   "metadata": {},
   "outputs": [],
   "source": []
  },
  {
   "cell_type": "code",
   "execution_count": null,
   "id": "d8de088a-eed6-4a2a-96c7-b70ef52ddfa7",
   "metadata": {},
   "outputs": [],
   "source": []
  },
  {
   "cell_type": "code",
   "execution_count": null,
   "id": "c23ab78e-6b58-446e-9481-407d60ebf201",
   "metadata": {},
   "outputs": [],
   "source": []
  },
  {
   "cell_type": "code",
   "execution_count": null,
   "id": "05e95988-fa71-43ea-8476-0d10da4316c9",
   "metadata": {},
   "outputs": [],
   "source": []
  },
  {
   "cell_type": "code",
   "execution_count": null,
   "id": "4a71c5e5-e740-4568-900d-fdf4f932f5f3",
   "metadata": {},
   "outputs": [],
   "source": []
  },
  {
   "cell_type": "code",
   "execution_count": null,
   "id": "2872df2d-6e27-4967-93d6-2399cd4c9158",
   "metadata": {},
   "outputs": [],
   "source": []
  },
  {
   "cell_type": "code",
   "execution_count": null,
   "id": "378ae30c-e1ff-4afb-8708-c1f4682c14a0",
   "metadata": {},
   "outputs": [],
   "source": []
  },
  {
   "cell_type": "markdown",
   "id": "0ee56812-f918-4081-8006-2e8280826311",
   "metadata": {},
   "source": [
    "## Comparison Operators\n",
    "- == (True if equal)\n",
    "- != (True if not equal)\n",
    "- < (Less than)  &  > (Greater than)\n",
    "- <= (Less than or equal to) &   >= (Greater than or equal to)"
   ]
  },
  {
   "cell_type": "code",
   "execution_count": 6,
   "id": "795b7792-a3eb-4e7c-aa60-6541c960de24",
   "metadata": {},
   "outputs": [],
   "source": [
    "# Comparison operators can be used to compare values in mathematical terms."
   ]
  },
  {
   "cell_type": "code",
   "execution_count": 74,
   "id": "5ec7042c-5e51-44e6-a0b6-89c936ed6184",
   "metadata": {},
   "outputs": [
    {
     "name": "stdout",
     "output_type": "stream",
     "text": [
      "True\n"
     ]
    }
   ],
   "source": [
    "print(2 == 2)"
   ]
  },
  {
   "cell_type": "code",
   "execution_count": 75,
   "id": "63d4c50b-b02b-4c05-95b5-cbff0f19d2d4",
   "metadata": {},
   "outputs": [
    {
     "name": "stdout",
     "output_type": "stream",
     "text": [
      "False\n"
     ]
    }
   ],
   "source": [
    "print(3 == 2)"
   ]
  },
  {
   "cell_type": "code",
   "execution_count": null,
   "id": "692b6094-927b-4ffe-950c-c1768e0f1510",
   "metadata": {},
   "outputs": [],
   "source": []
  },
  {
   "cell_type": "code",
   "execution_count": 76,
   "id": "bcc400ac-da01-479c-a610-aca33bcea404",
   "metadata": {},
   "outputs": [
    {
     "name": "stdout",
     "output_type": "stream",
     "text": [
      "True\n"
     ]
    }
   ],
   "source": [
    "print(3 != 2)"
   ]
  },
  {
   "cell_type": "code",
   "execution_count": 77,
   "id": "f074b25a-d92a-4e3b-9442-4afeb13a0b10",
   "metadata": {},
   "outputs": [
    {
     "name": "stdout",
     "output_type": "stream",
     "text": [
      "False\n"
     ]
    }
   ],
   "source": [
    "print(2 != 2)"
   ]
  },
  {
   "cell_type": "code",
   "execution_count": null,
   "id": "0a3e465e-f9b6-4a07-9533-834fa72dacd0",
   "metadata": {},
   "outputs": [],
   "source": []
  },
  {
   "cell_type": "code",
   "execution_count": 78,
   "id": "9453541c-e2b6-44ff-8d9e-be7a49a86e2d",
   "metadata": {},
   "outputs": [
    {
     "name": "stdout",
     "output_type": "stream",
     "text": [
      "True\n"
     ]
    }
   ],
   "source": [
    "print(3 > 2)"
   ]
  },
  {
   "cell_type": "code",
   "execution_count": 79,
   "id": "4b82030a-272f-4edf-912f-f7de9d9d95f5",
   "metadata": {},
   "outputs": [
    {
     "name": "stdout",
     "output_type": "stream",
     "text": [
      "False\n"
     ]
    }
   ],
   "source": [
    "print(4 < 3)"
   ]
  },
  {
   "cell_type": "code",
   "execution_count": null,
   "id": "e13e4880-32b6-4105-89b2-bde3fcf03687",
   "metadata": {},
   "outputs": [],
   "source": []
  },
  {
   "cell_type": "code",
   "execution_count": 80,
   "id": "cf5f7c18-f619-4d23-8c94-6a6b3401b5a7",
   "metadata": {},
   "outputs": [
    {
     "data": {
      "text/plain": [
       "True"
      ]
     },
     "execution_count": 80,
     "metadata": {},
     "output_type": "execute_result"
    }
   ],
   "source": [
    "2 <= 2"
   ]
  },
  {
   "cell_type": "code",
   "execution_count": 85,
   "id": "8a60da4d-e3fe-4717-9e92-217a26c25768",
   "metadata": {},
   "outputs": [
    {
     "name": "stdout",
     "output_type": "stream",
     "text": [
      "False\n"
     ]
    }
   ],
   "source": [
    "print(3 <= 2)"
   ]
  },
  {
   "cell_type": "code",
   "execution_count": null,
   "id": "043c50fd-bdbc-4e7b-8db9-2d7977bb81e2",
   "metadata": {},
   "outputs": [],
   "source": []
  },
  {
   "cell_type": "code",
   "execution_count": 84,
   "id": "aaceb3fd-e639-471f-9db1-26958ae4b876",
   "metadata": {},
   "outputs": [
    {
     "name": "stdout",
     "output_type": "stream",
     "text": [
      "True\n"
     ]
    }
   ],
   "source": [
    "print(3 >= 2)"
   ]
  },
  {
   "cell_type": "code",
   "execution_count": null,
   "id": "928b24f2-9b83-45a4-b8ac-3793722f7968",
   "metadata": {},
   "outputs": [],
   "source": []
  },
  {
   "cell_type": "code",
   "execution_count": null,
   "id": "2a5f5cba-0d92-41da-8fd9-15ecef2dde7d",
   "metadata": {},
   "outputs": [],
   "source": []
  },
  {
   "cell_type": "code",
   "execution_count": null,
   "id": "1fe38004-194c-4834-9686-f72c1e9eabd9",
   "metadata": {},
   "outputs": [],
   "source": []
  },
  {
   "cell_type": "code",
   "execution_count": null,
   "id": "b513b0b5-dad6-4078-9c61-8b988fed7061",
   "metadata": {},
   "outputs": [],
   "source": []
  },
  {
   "cell_type": "code",
   "execution_count": null,
   "id": "02845645-8058-4642-a58b-a0bb31759c3b",
   "metadata": {},
   "outputs": [],
   "source": []
  },
  {
   "cell_type": "code",
   "execution_count": 3,
   "id": "b530a439-1747-4805-96fe-ee554ec8015f",
   "metadata": {},
   "outputs": [],
   "source": [
    "## More type conversion"
   ]
  },
  {
   "cell_type": "code",
   "execution_count": 37,
   "id": "1a748de5-81cb-4133-9c3c-5be093da9d24",
   "metadata": {},
   "outputs": [
    {
     "name": "stdout",
     "output_type": "stream",
     "text": [
      "5\n",
      "<class 'int'>\n"
     ]
    }
   ],
   "source": [
    "n = 5.4\n",
    "m = int(n)\n",
    "print(m)\n",
    "print(type(m))"
   ]
  },
  {
   "cell_type": "code",
   "execution_count": 38,
   "id": "24808ec0-990e-4c2e-8d9d-de826e2a3d32",
   "metadata": {},
   "outputs": [
    {
     "name": "stdin",
     "output_type": "stream",
     "text": [
      " 4.5\n"
     ]
    }
   ],
   "source": [
    "n = input()"
   ]
  },
  {
   "cell_type": "code",
   "execution_count": 39,
   "id": "dd216e9d-d586-4aa2-b133-9e976b636b0c",
   "metadata": {},
   "outputs": [
    {
     "data": {
      "text/plain": [
       "str"
      ]
     },
     "execution_count": 39,
     "metadata": {},
     "output_type": "execute_result"
    }
   ],
   "source": [
    "type(n)"
   ]
  },
  {
   "cell_type": "code",
   "execution_count": 41,
   "id": "2b3a3cad-ce61-43b7-99eb-b79268591d69",
   "metadata": {},
   "outputs": [],
   "source": [
    "m = float(n)"
   ]
  },
  {
   "cell_type": "code",
   "execution_count": 42,
   "id": "d9964329-efa1-4c91-a526-156ff1d536f6",
   "metadata": {},
   "outputs": [
    {
     "data": {
      "text/plain": [
       "float"
      ]
     },
     "execution_count": 42,
     "metadata": {},
     "output_type": "execute_result"
    }
   ],
   "source": [
    "type(m)"
   ]
  },
  {
   "cell_type": "code",
   "execution_count": 43,
   "id": "083109ae-c93e-453d-872a-6f2142e62866",
   "metadata": {},
   "outputs": [],
   "source": [
    "a = int(m)"
   ]
  },
  {
   "cell_type": "code",
   "execution_count": 44,
   "id": "1938bb38-a61a-4419-9273-2f000f46a5c9",
   "metadata": {},
   "outputs": [
    {
     "name": "stdout",
     "output_type": "stream",
     "text": [
      "4\n",
      "<class 'int'>\n"
     ]
    }
   ],
   "source": [
    "print(a)\n",
    "print(type(a))"
   ]
  },
  {
   "cell_type": "code",
   "execution_count": 45,
   "id": "4a220b7e-52a2-4afe-9c1f-4dcfb6946247",
   "metadata": {},
   "outputs": [
    {
     "name": "stdin",
     "output_type": "stream",
     "text": [
      " 4.5\n"
     ]
    }
   ],
   "source": [
    "n = input()\n",
    "m = float(n)\n",
    "a = int(m)"
   ]
  },
  {
   "cell_type": "code",
   "execution_count": 47,
   "id": "97ff1959-105c-4a7a-8ea8-58582e9e0e65",
   "metadata": {},
   "outputs": [
    {
     "name": "stdin",
     "output_type": "stream",
     "text": [
      " 4.5\n"
     ]
    }
   ],
   "source": [
    "n = float(input())\n",
    "m = int(n)"
   ]
  },
  {
   "cell_type": "code",
   "execution_count": 50,
   "id": "93df4364-18be-45f1-99ec-938a4dcedcae",
   "metadata": {},
   "outputs": [
    {
     "name": "stdin",
     "output_type": "stream",
     "text": [
      " 4.5\n"
     ]
    }
   ],
   "source": [
    "n = int(float(input()))"
   ]
  },
  {
   "cell_type": "code",
   "execution_count": 51,
   "id": "00601a87-762f-4ef9-99a3-ac3804d19553",
   "metadata": {},
   "outputs": [
    {
     "name": "stdout",
     "output_type": "stream",
     "text": [
      "4 <class 'int'>\n"
     ]
    }
   ],
   "source": [
    "print(n, type(n))"
   ]
  },
  {
   "cell_type": "code",
   "execution_count": null,
   "id": "52dabd58-910b-483e-b8f3-dcfdc991be82",
   "metadata": {},
   "outputs": [],
   "source": []
  },
  {
   "cell_type": "code",
   "execution_count": 54,
   "id": "df8056db-c65b-448e-a0fc-3a555cfae730",
   "metadata": {},
   "outputs": [
    {
     "data": {
      "text/plain": [
       "5"
      ]
     },
     "execution_count": 54,
     "metadata": {},
     "output_type": "execute_result"
    }
   ],
   "source": [
    "int(5.4)"
   ]
  },
  {
   "cell_type": "code",
   "execution_count": 58,
   "id": "a1ad970c-62ba-400e-82c3-9214dc45ef4b",
   "metadata": {},
   "outputs": [],
   "source": [
    "# int(\"Rahul\")"
   ]
  },
  {
   "cell_type": "code",
   "execution_count": 63,
   "id": "293c8dba-7bcb-4702-a1c2-d640564feec3",
   "metadata": {},
   "outputs": [
    {
     "data": {
      "text/plain": [
       "6"
      ]
     },
     "execution_count": 63,
     "metadata": {},
     "output_type": "execute_result"
    }
   ],
   "source": [
    "int(float('6.7'))"
   ]
  },
  {
   "cell_type": "code",
   "execution_count": 64,
   "id": "238cff9f-a7e3-4cdf-b4e7-4d03289656c2",
   "metadata": {},
   "outputs": [],
   "source": [
    "# bool"
   ]
  },
  {
   "cell_type": "code",
   "execution_count": 65,
   "id": "e666d4e9-ba80-4e23-bf11-2ce622988076",
   "metadata": {},
   "outputs": [
    {
     "data": {
      "text/plain": [
       "True"
      ]
     },
     "execution_count": 65,
     "metadata": {},
     "output_type": "execute_result"
    }
   ],
   "source": [
    "bool(True)"
   ]
  },
  {
   "cell_type": "code",
   "execution_count": 66,
   "id": "613242d0-7dbb-4ddf-8763-f340ce350a03",
   "metadata": {},
   "outputs": [
    {
     "data": {
      "text/plain": [
       "False"
      ]
     },
     "execution_count": 66,
     "metadata": {},
     "output_type": "execute_result"
    }
   ],
   "source": [
    "bool(0)"
   ]
  },
  {
   "cell_type": "code",
   "execution_count": 67,
   "id": "2c015360-f3d4-4ddc-a0d4-31c36d496b70",
   "metadata": {},
   "outputs": [
    {
     "data": {
      "text/plain": [
       "False"
      ]
     },
     "execution_count": 67,
     "metadata": {},
     "output_type": "execute_result"
    }
   ],
   "source": [
    "bool(0.0)"
   ]
  },
  {
   "cell_type": "code",
   "execution_count": 68,
   "id": "9f5a0ba7-1323-4573-a2e8-5b4037a87b33",
   "metadata": {},
   "outputs": [
    {
     "data": {
      "text/plain": [
       "False"
      ]
     },
     "execution_count": 68,
     "metadata": {},
     "output_type": "execute_result"
    }
   ],
   "source": [
    "bool(\"\")"
   ]
  },
  {
   "cell_type": "code",
   "execution_count": 69,
   "id": "d4c0d6a8-2533-457c-909f-6d12c0038c1e",
   "metadata": {},
   "outputs": [
    {
     "data": {
      "text/plain": [
       "str"
      ]
     },
     "execution_count": 69,
     "metadata": {},
     "output_type": "execute_result"
    }
   ],
   "source": [
    "type(\"0\")"
   ]
  },
  {
   "cell_type": "code",
   "execution_count": 71,
   "id": "4e0464de-4a64-4ec5-b250-2ce885341d2b",
   "metadata": {},
   "outputs": [
    {
     "data": {
      "text/plain": [
       "True"
      ]
     },
     "execution_count": 71,
     "metadata": {},
     "output_type": "execute_result"
    }
   ],
   "source": [
    "bool('0')"
   ]
  },
  {
   "cell_type": "code",
   "execution_count": 70,
   "id": "179c6e58-dd2b-40c0-9601-2dd6c5c572b6",
   "metadata": {},
   "outputs": [
    {
     "data": {
      "text/plain": [
       "False"
      ]
     },
     "execution_count": 70,
     "metadata": {},
     "output_type": "execute_result"
    }
   ],
   "source": [
    "bool('')"
   ]
  },
  {
   "cell_type": "code",
   "execution_count": 72,
   "id": "8c063baf-3d85-4648-8c9a-dc1437fe679e",
   "metadata": {},
   "outputs": [
    {
     "data": {
      "text/plain": [
       "False"
      ]
     },
     "execution_count": 72,
     "metadata": {},
     "output_type": "execute_result"
    }
   ],
   "source": [
    "bool(False)"
   ]
  },
  {
   "cell_type": "code",
   "execution_count": 73,
   "id": "40e19012-3340-49c7-bc59-424a7a8d6199",
   "metadata": {},
   "outputs": [
    {
     "data": {
      "text/plain": [
       "True"
      ]
     },
     "execution_count": 73,
     "metadata": {},
     "output_type": "execute_result"
    }
   ],
   "source": [
    "bool(\"False\")"
   ]
  },
  {
   "cell_type": "code",
   "execution_count": 59,
   "id": "8c65c421-ddd4-4000-a3bc-3e81f060f31d",
   "metadata": {},
   "outputs": [],
   "source": [
    "# This is a category of operators which is used to assign values to a variable."
   ]
  },
  {
   "cell_type": "code",
   "execution_count": null,
   "id": "12a4eae0-8075-49db-b4ac-3ec054238b12",
   "metadata": {},
   "outputs": [],
   "source": [
    "int('10')"
   ]
  },
  {
   "cell_type": "code",
   "execution_count": null,
   "id": "a6589657-b0d5-44dd-9a39-b628f6590f3e",
   "metadata": {},
   "outputs": [],
   "source": []
  },
  {
   "cell_type": "code",
   "execution_count": null,
   "id": "a0405b50-547c-4786-a163-273db742ebbc",
   "metadata": {},
   "outputs": [],
   "source": []
  },
  {
   "cell_type": "code",
   "execution_count": 90,
   "id": "c02307c5-8e7e-43ad-ac48-209f02a3d1fc",
   "metadata": {},
   "outputs": [
    {
     "name": "stdin",
     "output_type": "stream",
     "text": [
      " 2\n",
      " 3\n"
     ]
    },
    {
     "name": "stdout",
     "output_type": "stream",
     "text": [
      "5\n"
     ]
    }
   ],
   "source": [
    "n = int(input())\n",
    "m = int(input())\n",
    "print(n + m)"
   ]
  },
  {
   "cell_type": "code",
   "execution_count": null,
   "id": "fddaae7e-2752-4c08-a12c-88461417da5f",
   "metadata": {},
   "outputs": [],
   "source": []
  },
  {
   "cell_type": "code",
   "execution_count": null,
   "id": "b8cab017-3776-4727-9b49-659fdb173455",
   "metadata": {},
   "outputs": [],
   "source": []
  },
  {
   "cell_type": "code",
   "execution_count": 60,
   "id": "0fd6052b-0553-4cb0-9bff-435cd21d6798",
   "metadata": {},
   "outputs": [],
   "source": [
    "# Quiz"
   ]
  },
  {
   "cell_type": "code",
   "execution_count": null,
   "id": "e5469836-ee32-4abb-a700-0e2474fc3a40",
   "metadata": {},
   "outputs": [],
   "source": []
  },
  {
   "cell_type": "code",
   "execution_count": null,
   "id": "0fc42ee5-fd38-4e6e-87a8-66811798b566",
   "metadata": {},
   "outputs": [],
   "source": []
  },
  {
   "cell_type": "code",
   "execution_count": null,
   "id": "28bfca40-e63d-4e8e-8e8a-243c893efba6",
   "metadata": {},
   "outputs": [],
   "source": []
  },
  {
   "cell_type": "code",
   "execution_count": null,
   "id": "5a944f13-7681-4f99-af7f-9916b3c3a5e7",
   "metadata": {},
   "outputs": [],
   "source": []
  },
  {
   "cell_type": "code",
   "execution_count": null,
   "id": "6e263d81-5e3c-4ea2-93e1-e2c84d2a80c0",
   "metadata": {},
   "outputs": [],
   "source": []
  },
  {
   "cell_type": "code",
   "execution_count": null,
   "id": "7d8143ef-7ea8-450e-95e2-74ce5b0a029c",
   "metadata": {},
   "outputs": [],
   "source": []
  },
  {
   "cell_type": "code",
   "execution_count": null,
   "id": "982827c6-a9be-4a51-813a-9893cd0921db",
   "metadata": {},
   "outputs": [],
   "source": []
  }
 ],
 "metadata": {
  "kernelspec": {
   "display_name": "Python 3 (ipykernel)",
   "language": "python",
   "name": "python3"
  },
  "language_info": {
   "codemirror_mode": {
    "name": "ipython",
    "version": 3
   },
   "file_extension": ".py",
   "mimetype": "text/x-python",
   "name": "python",
   "nbconvert_exporter": "python",
   "pygments_lexer": "ipython3",
   "version": "3.9.7"
  }
 },
 "nbformat": 4,
 "nbformat_minor": 5
}
